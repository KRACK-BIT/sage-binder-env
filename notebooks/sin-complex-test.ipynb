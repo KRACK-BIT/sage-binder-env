{
 "cells": [
  {
   "cell_type": "code",
   "execution_count": null,
   "id": "7bb5e826",
   "metadata": {},
   "outputs": [],
   "source": [
    "import numpy as np\n",
    "# from sage.plot.plot3d.shapes import surface\n",
    "\n",
    "# Domain resolution\n",
    "Nx, Ny = 300, 150\n",
    "x_vals = np.linspace(-np.pi, np.pi, Nx)\n",
    "y_vals = np.linspace(-2, 2, Ny)\n",
    "\n",
    "# Mesh grid\n",
    "X, Y = np.meshgrid(x_vals, y_vals)\n",
    "\n",
    "# Vectorized evaluation: sin(x + i y)\n",
    "Z = np.sin(X) * np.cosh(Y) + 1j * np.cos(X) * np.sinh(Y)\n",
    "\n",
    "# Magnitude as height, phase as color\n",
    "mag = np.abs(Z)\n",
    "phase = (np.angle(Z) + np.pi) / (2*np.pi)  # Normalize to [0,1]\n",
    "\n",
    "# Build surface manually from grid\n",
    "# surface takes lists-of-lists for heights and colors\n",
    "mag_list = mag.tolist()\n",
    "phase_list = phase.tolist()\n",
    "\n",
    "surf = surface(list(zip(mag_list, phase_list)), X, Y)\n",
    "surf.show(aspect_ratio=[1,1,0.4], frame=True, colorbar=True)"
   ]
  },
  {
   "cell_type": "code",
   "execution_count": null,
   "id": "0ce38b05",
   "metadata": {},
   "outputs": [],
   "source": [
    "from sage.plot.plot3d.plot3d import plot3d_adaptive\n",
    "x, y = var('x,y')\n",
    "p = plot3d_adaptive(sin(x*y), (x, -pi, pi), (y, -pi, pi), initial_depth=5)\n",
    "\n",
    "p.show()"
   ]
  }
 ],
 "metadata": {
  "kernelspec": {
   "display_name": "SageMath 10.6",
   "language": "sage",
   "name": "sagemath"
  },
  "language_info": {
   "codemirror_mode": {
    "name": "ipython",
    "version": 3
   },
   "file_extension": ".py",
   "mimetype": "text/x-python",
   "name": "python",
   "nbconvert_exporter": "python",
   "pygments_lexer": "ipython3",
   "version": "3.13.5"
  }
 },
 "nbformat": 4,
 "nbformat_minor": 5
}
