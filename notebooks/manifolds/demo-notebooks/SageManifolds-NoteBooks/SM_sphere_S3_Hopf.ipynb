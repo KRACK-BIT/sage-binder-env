{
 "cells": [
  {
   "cell_type": "markdown",
   "metadata": {},
   "source": [
    "# 3-sphere: charts, quaternions and Hopf fibration\n",
    "\n",
    "This notebook demonstrates some differential geometry capabilities of SageMath on the example of the 3-dimensional sphere, $\\mathbb{S}^3$. The corresponding tools have been developed within the  [SageManifolds](https://sagemanifolds.obspm.fr) project.\n",
    "\n",
    "Click [here](https://raw.githubusercontent.com/sagemanifolds/SageManifolds/master/Notebooks/SM_sphere_S3_Hopf.ipynb) to download the notebook file (ipynb format). To run it, you must start SageMath with the Jupyter notebook, via the command `sage -n jupyter`"
   ]
  },
  {
   "cell_type": "markdown",
   "metadata": {},
   "source": [
    "*NB:* a version of SageMath at least equal to 7.5 is required to run this notebook:"
   ]
  },
  {
   "cell_type": "code",
   "execution_count": null,
   "metadata": {},
   "outputs": [],
   "source": [
    "version()"
   ]
  },
  {
   "cell_type": "markdown",
   "metadata": {},
   "source": [
    "First we set up the notebook to display mathematical objects using LaTeX formatting:"
   ]
  },
  {
   "cell_type": "code",
   "execution_count": null,
   "metadata": {},
   "outputs": [],
   "source": [
    "%display latex"
   ]
  },
  {
   "cell_type": "markdown",
   "metadata": {},
   "source": [
    "and we initialize a time counter for benchmarking:"
   ]
  },
  {
   "cell_type": "code",
   "execution_count": null,
   "metadata": {},
   "outputs": [],
   "source": [
    "import time\n",
    "comput_time0 = time.perf_counter()"
   ]
  },
  {
   "cell_type": "markdown",
   "metadata": {},
   "source": [
    "To increase the computational speed, we ask for demanding computations to be parallelly performed on 8 threads:"
   ]
  },
  {
   "cell_type": "code",
   "execution_count": null,
   "metadata": {},
   "outputs": [],
   "source": [
    "Parallelism().set(nproc=8)"
   ]
  },
  {
   "cell_type": "markdown",
   "metadata": {},
   "source": [
    "## $\\mathbb{S}^3$ as a 3-dimensional differentiable manifold\n",
    "\n",
    "We start by declaring $\\mathbb{S}^3$ as a differentiable manifold of dimension 3 over $\\mathbb{R}$:"
   ]
  },
  {
   "cell_type": "code",
   "execution_count": null,
   "metadata": {},
   "outputs": [],
   "source": [
    "S3 = Manifold(3, 'S^3', latex_name=r'\\mathbb{S}^3', start_index=1)"
   ]
  },
  {
   "cell_type": "markdown",
   "metadata": {},
   "source": [
    "The first argument, `3`, is the dimension of the manifold, while the second argument is the symbol used to label the manifold, with the LaTeX output specified by the argument `latex_name`. The argument `start_index` sets the index range to be used on the manifold for labelling components w.r.t. a basis or a frame: `start_index=1` corresponds to $\\{1,2,3\\}$; the default value is `start_index=0`, yielding to $\\{0,1,2\\}$."
   ]
  },
  {
   "cell_type": "code",
   "execution_count": null,
   "metadata": {},
   "outputs": [],
   "source": [
    "print(S3)"
   ]
  },
  {
   "cell_type": "code",
   "execution_count": null,
   "metadata": {},
   "outputs": [],
   "source": [
    "S3"
   ]
  },
  {
   "cell_type": "markdown",
   "metadata": {},
   "source": [
    "### Coordinate charts on $\\mathbb{S}^3$\n",
    "\n",
    "The 3-sphere cannot be covered by a single chart. At least two charts are necessary, for instance the charts associated with the stereographic projections from two distinct points, $N$ and $S$ say,\n",
    "which we may call the *North pole* and the *South pole* respectively. Let us introduce the open subsets covered by these two charts: \n",
    "$$ U := \\mathbb{S}^3\\setminus\\{N\\} $$  \n",
    "$$ V := \\mathbb{S}^3\\setminus\\{S\\} $$"
   ]
  },
  {
   "cell_type": "code",
   "execution_count": null,
   "metadata": {},
   "outputs": [],
   "source": [
    "U = S3.open_subset('U') ; print(U)"
   ]
  },
  {
   "cell_type": "code",
   "execution_count": null,
   "metadata": {},
   "outputs": [],
   "source": [
    "V = S3.open_subset('V') ; print(V)"
   ]
  },
  {
   "cell_type": "markdown",
   "metadata": {},
   "source": [
    "We declare that $\\mathbb{S}^3 = U \\cup V$:"
   ]
  },
  {
   "cell_type": "code",
   "execution_count": null,
   "metadata": {},
   "outputs": [],
   "source": [
    "S3.declare_union(U, V)"
   ]
  },
  {
   "cell_type": "markdown",
   "metadata": {
    "collapsed": true
   },
   "source": [
    "Then we introduce the stereographic chart on $U$, denoting by $(x,y,z)$ the coordinates resulting from the stereographic projection from the North pole onto the equatorial plane:"
   ]
  },
  {
   "cell_type": "code",
   "execution_count": null,
   "metadata": {},
   "outputs": [],
   "source": [
    "stereoN.<x,y,z> = U.chart()\n",
    "stereoN"
   ]
  },
  {
   "cell_type": "code",
   "execution_count": null,
   "metadata": {},
   "outputs": [],
   "source": [
    "stereoN.coord_range()"
   ]
  },
  {
   "cell_type": "markdown",
   "metadata": {},
   "source": [
    "Similarly, we introduce on $V$ the coordinates $(x',y',z')$ corresponding to the stereographic projection from the South pole onto the equatorial plane:"
   ]
  },
  {
   "cell_type": "code",
   "execution_count": null,
   "metadata": {},
   "outputs": [],
   "source": [
    "stereoS.<xp,yp,zp> = V.chart(\"xp:x' yp:y' zp:z'\")\n",
    "stereoS"
   ]
  },
  {
   "cell_type": "code",
   "execution_count": null,
   "metadata": {},
   "outputs": [],
   "source": [
    "stereoS.coord_range()"
   ]
  },
  {
   "cell_type": "markdown",
   "metadata": {},
   "source": [
    "We have to specify the **transition map** between the charts `stereoN` = $(U,(x,y,z))$ and `stereoS` = $(V,(x',y',z'))$; it is given by the standard inversion formulas:"
   ]
  },
  {
   "cell_type": "code",
   "execution_count": null,
   "metadata": {},
   "outputs": [],
   "source": [
    "r2 = x^2+y^2+z^2\n",
    "stereoN_to_S = stereoN.transition_map(stereoS, \n",
    "                                      (x/r2, y/r2, z/r2), \n",
    "                                      intersection_name='W',\n",
    "                                      restrictions1= x^2+y^2+z^2!=0, \n",
    "                                      restrictions2= xp^2+yp^2+zp^2!=0)\n",
    "stereoN_to_S.display()"
   ]
  },
  {
   "cell_type": "markdown",
   "metadata": {},
   "source": [
    "In the above declaration, `'W'` is the name given to the open subset where the two charts overlap: $W := U\\cap V$, the condition $x^2+y^2+z^2\\not=0$  defines $W$ as a subset of $U$, and the condition $x'^2+y'^2+z'^2\\not=0$ defines $W$ as a subset of $V$.\n",
    "\n",
    "The inverse coordinate transformation is computed by means of the method `inverse()`:"
   ]
  },
  {
   "cell_type": "code",
   "execution_count": null,
   "metadata": {},
   "outputs": [],
   "source": [
    "stereoS_to_N = stereoN_to_S.inverse()\n",
    "stereoS_to_N.display()"
   ]
  },
  {
   "cell_type": "markdown",
   "metadata": {},
   "source": [
    "Note that the situation is of course perfectly symmetric regarding the coordinates $(x,y,z)$ and $(x',y',z')$.\n",
    "\n",
    "At this stage, the user's atlas has four charts:"
   ]
  },
  {
   "cell_type": "code",
   "execution_count": null,
   "metadata": {},
   "outputs": [],
   "source": [
    "S3.atlas()"
   ]
  },
  {
   "cell_type": "markdown",
   "metadata": {},
   "source": [
    "For future reference, we store $W=U\\cap V$ into a Python variable:"
   ]
  },
  {
   "cell_type": "code",
   "execution_count": null,
   "metadata": {},
   "outputs": [],
   "source": [
    "W = U.intersection(V)\n",
    "print(W)"
   ]
  },
  {
   "cell_type": "markdown",
   "metadata": {},
   "source": [
    "### The North and South poles\n",
    "\n",
    "$N$ is the point of $V$ of stereographic coordinates $(x',y',z')=(0,0,0)$:"
   ]
  },
  {
   "cell_type": "code",
   "execution_count": null,
   "metadata": {},
   "outputs": [],
   "source": [
    "N = V((0,0,0), chart=stereoS, name='N')\n",
    "print(N)"
   ]
  },
  {
   "cell_type": "markdown",
   "metadata": {},
   "source": [
    "while $S$ is the point of U of stereographic coordinates $(x,y,z)=(0,0,0)$:"
   ]
  },
  {
   "cell_type": "code",
   "execution_count": null,
   "metadata": {},
   "outputs": [],
   "source": [
    "S = U((0,0,0), chart=stereoN, name='S')\n",
    "print(S)"
   ]
  },
  {
   "cell_type": "markdown",
   "metadata": {},
   "source": [
    "We have of course"
   ]
  },
  {
   "cell_type": "code",
   "execution_count": null,
   "metadata": {},
   "outputs": [],
   "source": [
    "all([N not in U, N in V, S in U, S not in V])"
   ]
  },
  {
   "cell_type": "markdown",
   "metadata": {},
   "source": [
    "## Embedding of $\\mathbb{S}^3$ into $\\mathbb{R}^4$\n",
    "\n",
    "Let us first declare $\\mathbb{R}^4$ as a 4-dimensional manifold covered by a single chart (the so-called **Cartesian coordinates**):"
   ]
  },
  {
   "cell_type": "code",
   "execution_count": null,
   "metadata": {},
   "outputs": [],
   "source": [
    "R4 = Manifold(4, 'R^4', r'\\mathbb{R}^4')\n",
    "X4.<T,X,Y,Z> = R4.chart()\n",
    "X4"
   ]
  },
  {
   "cell_type": "markdown",
   "metadata": {},
   "source": [
    "The embedding of $\\mathbb{S}^3$ into $\\mathbb{R}^4$ is then defined by the standard formulas relating the stereographic coordinates to the ambient Cartesian ones when considering a **stereographic projection** from the point $(-1,0,0,0)$ to the equatorial plane $T=0$:"
   ]
  },
  {
   "cell_type": "code",
   "execution_count": null,
   "metadata": {},
   "outputs": [],
   "source": [
    "rp2 = xp^2 + yp^2 + zp^2\n",
    "Phi = S3.diff_map(R4, {(stereoN, X4): \n",
    "                       [(1-r2)/(r2+1), 2*x/(r2+1), \n",
    "                        2*y/(r2+1), 2*z/(r2+1)],\n",
    "                       (stereoS, X4):\n",
    "                       [(rp2-1)/(rp2+1), 2*xp/(rp2+1), \n",
    "                        2*yp/(rp2+1), 2*zp/(rp2+1)]},\n",
    "                  name='Phi', latex_name=r'\\Phi')\n",
    "Phi.display()"
   ]
  },
  {
   "cell_type": "markdown",
   "metadata": {},
   "source": [
    "From this choice of stereographic projection, the \"North\" pole is actually the point of coordinates $(-1,0,0,0)$ in $\\mathbb{R}^4$:"
   ]
  },
  {
   "cell_type": "code",
   "execution_count": null,
   "metadata": {},
   "outputs": [],
   "source": [
    "X4(Phi(N))"
   ]
  },
  {
   "cell_type": "markdown",
   "metadata": {},
   "source": [
    "while the \"South\" pole is the point of coordinates $(1,0,0,0)$:"
   ]
  },
  {
   "cell_type": "code",
   "execution_count": null,
   "metadata": {},
   "outputs": [],
   "source": [
    "X4(Phi(S))"
   ]
  },
  {
   "cell_type": "markdown",
   "metadata": {},
   "source": [
    "We may use the embedding $\\Phi$ to plot the stereographic coordinate grid in terms of the $\\mathbb{R}^4$'s Cartesian coordinates: "
   ]
  },
  {
   "cell_type": "code",
   "execution_count": null,
   "metadata": {},
   "outputs": [],
   "source": [
    "graph_stereoN = stereoN.plot(chart=X4, mapping=Phi, \n",
    "                             ambient_coords=(X,Y,Z),\n",
    "                             number_values=9,\n",
    "                             color={x: 'red', y: 'green', z: 'gold'},\n",
    "                             label_axes=False)\n",
    "show(graph_stereoN, axes_labels=['X', 'Y', 'Z'])"
   ]
  },
  {
   "cell_type": "code",
   "execution_count": null,
   "metadata": {},
   "outputs": [],
   "source": [
    "graph_stereoN = stereoN.plot(chart=X4, mapping=Phi, \n",
    "                             ambient_coords=(X,Y,T),\n",
    "                             number_values=13, plot_points=150,\n",
    "                             color={x: 'red', y: 'green', z: 'gold'},\n",
    "                             label_axes=False)\n",
    "pointN = N.plot(chart=X4, mapping=Phi, ambient_coords=(X,Y,T), \n",
    "                color='maroon', label_offset=0.05)\n",
    "pointS = S.plot(chart=X4, mapping=Phi, ambient_coords=(X,Y,T), \n",
    "                color='maroon', label_offset=0.05)\n",
    "show(graph_stereoN + pointN + pointS, axes_labels=['X', 'Y', 'T'])"
   ]
  },
  {
   "cell_type": "markdown",
   "metadata": {},
   "source": [
    "## Hyperspherical coordinates\n",
    "\n",
    "The hyperspherical coordinates $(\\chi, \\theta, \\phi)$ generalize the standard spherical coordinates $(\\theta, \\phi)$ on $\\mathbb{S}^2$. They are defined on the open domain $A\\subset W \\subset \\mathbb{S}^3$ that is the complement of the \"origin meridian\"; since the latter is defined by $y=0$ and $x\\geq 0$, we declare:"
   ]
  },
  {
   "cell_type": "code",
   "execution_count": null,
   "metadata": {},
   "outputs": [],
   "source": [
    "A = W.open_subset('A', coord_def={stereoN.restrict(W): (y!=0, x<0), \n",
    "                                  stereoS.restrict(W): (yp!=0, xp<0)})\n",
    "print(A)"
   ]
  },
  {
   "cell_type": "markdown",
   "metadata": {},
   "source": [
    "We then declare the chart $(A,(\\chi,\\theta,\\phi))$ by specifying the intervals spanned by the various coordinates:"
   ]
  },
  {
   "cell_type": "code",
   "execution_count": null,
   "metadata": {},
   "outputs": [],
   "source": [
    "spher.<ch,th,ph> = A.chart(r'ch:(0,pi):\\chi th:(0,pi):\\theta ph:(0,2*pi):\\phi')\n",
    "spher"
   ]
  },
  {
   "cell_type": "code",
   "execution_count": null,
   "metadata": {},
   "outputs": [],
   "source": [
    "spher.coord_range()"
   ]
  },
  {
   "cell_type": "markdown",
   "metadata": {},
   "source": [
    "The specification of the hyperspherical coordinates is completed by providing the transition map to the stereographic chart $(A,(x,y,z))$:"
   ]
  },
  {
   "cell_type": "code",
   "execution_count": null,
   "metadata": {},
   "outputs": [],
   "source": [
    "den = 1 + cos(ch)\n",
    "spher_to_stereoN = spher.transition_map(stereoN.restrict(A), \n",
    "                                        (sin(ch)*sin(th)*cos(ph)/den,\n",
    "                                         sin(ch)*sin(th)*sin(ph)/den,\n",
    "                                         sin(ch)*cos(th)/den))\n",
    "spher_to_stereoN.display()"
   ]
  },
  {
   "cell_type": "markdown",
   "metadata": {},
   "source": [
    "We also provide the inverse transition map by means of the method `set_inverse`, which (by default) performs a check that the provided formulas are indeed correct:"
   ]
  },
  {
   "cell_type": "code",
   "execution_count": null,
   "metadata": {},
   "outputs": [],
   "source": [
    "spher_to_stereoN.set_inverse(2*atan(sqrt(x^2+y^2+z^2)),\n",
    "                             atan2(sqrt(x^2+y^2), z),\n",
    "                             atan2(-y, -x) + pi)"
   ]
  },
  {
   "cell_type": "markdown",
   "metadata": {},
   "source": [
    "The check is passed, modulo some lack of trigonometric simplifications in the first three lines."
   ]
  },
  {
   "cell_type": "code",
   "execution_count": null,
   "metadata": {},
   "outputs": [],
   "source": [
    "spher_to_stereoN.inverse().display()"
   ]
  },
  {
   "cell_type": "markdown",
   "metadata": {},
   "source": [
    "The transition map $(A,(\\chi,\\theta,\\phi))\\rightarrow (A,(x',y',z'))$ is obtained by combining the transition maps $(A,(\\chi,\\theta,\\phi))\\rightarrow (A,(x,y,z))$ and $(A,(x,y,z))\\rightarrow (A,(x',y',z'))$:"
   ]
  },
  {
   "cell_type": "code",
   "execution_count": null,
   "metadata": {},
   "outputs": [],
   "source": [
    "spher_to_stereoS = stereoN_to_S.restrict(A) * spher_to_stereoN\n",
    "spher_to_stereoS.display()"
   ]
  },
  {
   "cell_type": "markdown",
   "metadata": {},
   "source": [
    "Similarly, the transition map $(A,(x',y',z'))\\rightarrow (A,(\\chi,\\theta,\\phi))$ is obtained by combining the transition maps $(A,(x',y',z'))\\rightarrow (A,(x,y,z))$ and $(A,(x,y,z))\\rightarrow (A,(\\chi,\\theta,\\phi))$:"
   ]
  },
  {
   "cell_type": "code",
   "execution_count": null,
   "metadata": {},
   "outputs": [],
   "source": [
    "stereoS_to_spher = spher_to_stereoN.inverse() * stereoS_to_N.restrict(A)\n",
    "stereoS_to_spher.display()"
   ]
  },
  {
   "cell_type": "markdown",
   "metadata": {},
   "source": [
    "At this stage, the user atlas of $\\mathbb{S}^3$ is"
   ]
  },
  {
   "cell_type": "code",
   "execution_count": null,
   "metadata": {},
   "outputs": [],
   "source": [
    "S3.atlas()"
   ]
  },
  {
   "cell_type": "markdown",
   "metadata": {},
   "source": [
    "Let us get the coordinate expression of the restriction of the embedding $\\Phi$ to $A$:"
   ]
  },
  {
   "cell_type": "code",
   "execution_count": null,
   "metadata": {},
   "outputs": [],
   "source": [
    "Phi.display(stereoN.restrict(A), X4)"
   ]
  },
  {
   "cell_type": "code",
   "execution_count": null,
   "metadata": {},
   "outputs": [],
   "source": [
    "Phi.display(spher, X4)"
   ]
  },
  {
   "cell_type": "code",
   "execution_count": null,
   "metadata": {},
   "outputs": [],
   "source": [
    "Phi.display()"
   ]
  },
  {
   "cell_type": "markdown",
   "metadata": {},
   "source": [
    "### Plots of the hyperspherical coordinate grid\n",
    "\n",
    "First let us plot the chart $(A,(\\chi,\\theta,\\phi))$ in terms of the stereographic chart $(U,(x,y,z))$ (notice that the \"point at infinity\" corresponds to $\\chi\\rightarrow \\pi$, hence the $0.9$ truncation in the $\\chi$ range)::"
   ]
  },
  {
   "cell_type": "code",
   "execution_count": null,
   "metadata": {},
   "outputs": [],
   "source": [
    "graph = spher.plot(stereoN, \n",
    "                   number_values=7,\n",
    "                   ranges={ch: (0, 0.9*pi)},\n",
    "                   color={ch: 'green', th: 'blue', ph: 'red'},\n",
    "                   label_axes=False)\n",
    "show(graph, axes_labels=['x', 'y', 'z'])"
   ]
  },
  {
   "cell_type": "markdown",
   "metadata": {},
   "source": [
    "In terms of the stereographic coordinates $(V, (x',y',z'))$ (notice that the \"point at infinity\" corresponds then to $\\chi\\rightarrow 0$):"
   ]
  },
  {
   "cell_type": "code",
   "execution_count": null,
   "metadata": {},
   "outputs": [],
   "source": [
    "graph = spher.plot(stereoS, \n",
    "                   number_values=7,\n",
    "                   ranges={ch: (0.1, pi)},\n",
    "                   color={ch: 'green', th: 'blue', ph: 'red'},\n",
    "                   label_axes=False)\n",
    "show(graph, axes_labels=[\"x'\", \"y'\", \"z'\"])"
   ]
  },
  {
   "cell_type": "markdown",
   "metadata": {},
   "source": [
    "Of course we may use the embeddding $\\Phi$ to get views of the hyperspherical coordinates in terms of the Cartesian coordinates $(T,X,Y,Z)$ of $\\mathbb{R}^4$:"
   ]
  },
  {
   "cell_type": "code",
   "execution_count": null,
   "metadata": {},
   "outputs": [],
   "source": [
    "graph = spher.plot(X4, mapping=Phi, \n",
    "                   ambient_coords=(X,Y,T),\n",
    "                   number_values=7,\n",
    "                   color={ch: 'green', th: 'blue', ph: 'red'},\n",
    "                   label_axes=False)\n",
    "show(graph, axes_labels=['X', 'Y', 'T'])"
   ]
  },
  {
   "cell_type": "code",
   "execution_count": null,
   "metadata": {},
   "outputs": [],
   "source": [
    "graph = spher.plot(X4, mapping=Phi, \n",
    "                   ambient_coords=(X,Y,Z),\n",
    "                   number_values=7,\n",
    "                   color={ch: 'green', th: 'blue', ph: 'red'},\n",
    "                   label_axes=False)\n",
    "show(graph, axes_labels=['X', 'Y', 'Z'])"
   ]
  },
  {
   "cell_type": "markdown",
   "metadata": {},
   "source": [
    "## Projection of $\\mathbb{R}^4$ to $\\mathbb{S}^3$"
   ]
  },
  {
   "cell_type": "markdown",
   "metadata": {},
   "source": [
    "We will need some projection operator from (a subset of) $\\mathbb{R}^4$ to $\\mathbb{S}^3$.\n",
    "Let $\\mathbb{R}^4_N$ be $\\mathbb{R}^4$ minus the hyperplane $T=-1$:"
   ]
  },
  {
   "cell_type": "code",
   "execution_count": null,
   "metadata": {},
   "outputs": [],
   "source": [
    "R4N = R4.open_subset('R4N', latex_name=r'\\mathbb{R}^4_N', \n",
    "                     coord_def={X4: T!=-1})\n",
    "X4N = X4.restrict(R4N)"
   ]
  },
  {
   "cell_type": "code",
   "execution_count": null,
   "metadata": {},
   "outputs": [],
   "source": [
    "ProjN = R4N.diff_map(U, {(X4N, stereoN): \n",
    "                         [X/(1+T), Y/(1+T), Z/(1+T)]},\n",
    "                     name='P_N', latex_name=r'\\Pi_N')\n",
    "ProjN.display()"
   ]
  },
  {
   "cell_type": "markdown",
   "metadata": {},
   "source": [
    "Let us check that once applied to an embedded point of $U\\subset \\mathbb{S}^3$, this projection reduces to the identity:"
   ]
  },
  {
   "cell_type": "code",
   "execution_count": null,
   "metadata": {},
   "outputs": [],
   "source": [
    "var('a b c', domain='real')\n",
    "p = S3((a,b,c), chart=stereoN)\n",
    "ProjN(Phi(p)) == p"
   ]
  },
  {
   "cell_type": "code",
   "execution_count": null,
   "metadata": {},
   "outputs": [],
   "source": [
    "q = R4((sqrt(3)/2, sin(a)*cos(b)/2, sin(a)*sin(b)/2, cos(a)/2))\n",
    "X4(q)"
   ]
  },
  {
   "cell_type": "code",
   "execution_count": null,
   "metadata": {},
   "outputs": [],
   "source": [
    "all([q in R4N, Phi(ProjN(q)) == q])"
   ]
  },
  {
   "cell_type": "markdown",
   "metadata": {},
   "source": [
    "## Quaternions"
   ]
  },
  {
   "cell_type": "markdown",
   "metadata": {},
   "source": [
    "We consider the (division) algebra of quaternions $\\mathbb{H}$ as $\\mathbb{R}^4$ endowed with the following (non-commutative) product:"
   ]
  },
  {
   "cell_type": "code",
   "execution_count": null,
   "metadata": {},
   "outputs": [],
   "source": [
    "def qprod(p,q):\n",
    "    if p in R4 and q in R4:\n",
    "        T1, X1, Y1, Z1 = X4(p)\n",
    "        T2, X2, Y2, Z2 = X4(q)\n",
    "        return R4(((T1*T2-X1*X2-Y1*Y2-Z1*Z2).simplify_full(),\n",
    "                   (T1*X2+X1*T2+Y1*Z2-Z1*Y2).simplify_full(),\n",
    "                   (T1*Y2-X1*Z2+Y1*T2+Z1*X2).simplify_full(),\n",
    "                   (T1*Z2+X1*Y2-Y1*X2+Z1*T2).simplify_full()))\n",
    "    if p in S3 and q in S3:\n",
    "        a = qprod(Phi(p),Phi(q))\n",
    "        if X4(a) == (-1,0,0,0):\n",
    "            return N\n",
    "        return ProjN(R4N(a))\n",
    "    raise ValueError(\"Cannot evaluate qprod of {} and {}\".format(p,q))"
   ]
  },
  {
   "cell_type": "markdown",
   "metadata": {},
   "source": [
    "Note that we have extended the definition of the quaternionic product to $\\mathbb{S}^3$ via the embedding $\\Phi$. \n",
    "\n",
    "### Distinguished quaternions on $\\mathbb{S}^3$\n",
    "\n",
    "Let us introduce two special points on $\\mathbb{S}^3$: $\\mathbf{1}$ and $-\\mathbf{1}$."
   ]
  },
  {
   "cell_type": "code",
   "execution_count": null,
   "metadata": {},
   "outputs": [],
   "source": [
    "One = S3((0,0,0), chart=stereoN, name='1', latex_name=r'\\mathbf{1}')\n",
    "X4(Phi(One))"
   ]
  },
  {
   "cell_type": "markdown",
   "metadata": {},
   "source": [
    "As we can see from the Cartesian coordinates of $\\Phi(\\mathbf{1})$, the point $\\mathbf{1}$ is actually nothing but the \"South\" pole used to define the stereographic chart $(V,(x',y',z'))$:"
   ]
  },
  {
   "cell_type": "code",
   "execution_count": null,
   "metadata": {},
   "outputs": [],
   "source": [
    "One == S"
   ]
  },
  {
   "cell_type": "code",
   "execution_count": null,
   "metadata": {},
   "outputs": [],
   "source": [
    "minusOne = S3((0,0,0), chart=stereoS, name='-1', latex_name=r'-\\mathbf{1}')\n",
    "X4(Phi(minusOne))"
   ]
  },
  {
   "cell_type": "markdown",
   "metadata": {},
   "source": [
    "The point $\\mathbf{-1}$ is thus nothing but the \"North\" pole used to define the stereographic chart $(U,(x,y,z))$:"
   ]
  },
  {
   "cell_type": "code",
   "execution_count": null,
   "metadata": {},
   "outputs": [],
   "source": [
    "minusOne == N"
   ]
  },
  {
   "cell_type": "markdown",
   "metadata": {},
   "source": [
    "Next we introduce points $\\mathbf{i}$, $\\mathbf{j}$ and $\\mathbf{k}$ on $\\mathbb{S}^3$:"
   ]
  },
  {
   "cell_type": "code",
   "execution_count": null,
   "metadata": {},
   "outputs": [],
   "source": [
    "I = S3((1,0,0), chart=stereoN, name='i', latex_name=r'\\mathbf{i}')\n",
    "X4(Phi(I))"
   ]
  },
  {
   "cell_type": "code",
   "execution_count": null,
   "metadata": {},
   "outputs": [],
   "source": [
    "stereoS(I)"
   ]
  },
  {
   "cell_type": "code",
   "execution_count": null,
   "metadata": {},
   "outputs": [],
   "source": [
    "J = S3((0,1,0), chart=stereoN, name='j', latex_name=r'\\mathbf{j}')\n",
    "X4(Phi(J))"
   ]
  },
  {
   "cell_type": "code",
   "execution_count": null,
   "metadata": {},
   "outputs": [],
   "source": [
    "stereoS(J)"
   ]
  },
  {
   "cell_type": "markdown",
   "metadata": {},
   "source": [
    "Since $\\mathbf{j}$ lies in $A$, contrary to $\\mathbf{i}$, we may ask for its hyperspherical coordinates:"
   ]
  },
  {
   "cell_type": "code",
   "execution_count": null,
   "metadata": {},
   "outputs": [],
   "source": [
    "spher(J)"
   ]
  },
  {
   "cell_type": "code",
   "execution_count": null,
   "metadata": {},
   "outputs": [],
   "source": [
    "K = S3((0,0,1), chart=stereoN, name='k', latex_name=r'\\mathbf{k}')\n",
    "X4(Phi(K))"
   ]
  },
  {
   "cell_type": "code",
   "execution_count": null,
   "metadata": {},
   "outputs": [],
   "source": [
    "stereoS(K)"
   ]
  },
  {
   "cell_type": "markdown",
   "metadata": {},
   "source": [
    "Hamilton's fundamental relations\n",
    "$$ \\mathbf{i} \\mathbf{j} \\mathbf{k} = \\mathbf{-1} $$\n",
    "$$ \\mathbf{i} \\mathbf{j} = \\mathbf{k},\\quad \\mathbf{j} \\mathbf{k} = \\mathbf{i}, \\quad \\mathbf{k} \\mathbf{i} = \\mathbf{j}$$\n",
    "are satisfied:"
   ]
  },
  {
   "cell_type": "code",
   "execution_count": null,
   "metadata": {},
   "outputs": [],
   "source": [
    "qprod(I, qprod(J,K)) == minusOne"
   ]
  },
  {
   "cell_type": "code",
   "execution_count": null,
   "metadata": {},
   "outputs": [],
   "source": [
    "all([qprod(I,J) == K, qprod(J,K) == I,\n",
    "     qprod(K,I) == J])"
   ]
  },
  {
   "cell_type": "markdown",
   "metadata": {},
   "source": [
    "These relations imply $\\mathbf{i}^2 = \\mathbf{-1}$, $\\mathbf{j}^2 = \\mathbf{-1}$ and $\\mathbf{k}^2 = \\mathbf{-1}$:"
   ]
  },
  {
   "cell_type": "code",
   "execution_count": null,
   "metadata": {},
   "outputs": [],
   "source": [
    "all([qprod(One,One) == One, qprod(I,I) == minusOne,\n",
    "     qprod(J,J) == minusOne, qprod(K,K) == minusOne])"
   ]
  },
  {
   "cell_type": "markdown",
   "metadata": {},
   "source": [
    "Let us introduce $\\mathbf{-i}$, $\\mathbf{-j}$ and $\\mathbf{-k}$, as points of $\\mathbb{S}^3$:"
   ]
  },
  {
   "cell_type": "code",
   "execution_count": null,
   "metadata": {},
   "outputs": [],
   "source": [
    "minusI = qprod(minusOne, I)\n",
    "X4(Phi(minusI))"
   ]
  },
  {
   "cell_type": "code",
   "execution_count": null,
   "metadata": {},
   "outputs": [],
   "source": [
    "minusJ = qprod(minusOne, J)\n",
    "X4(Phi(minusJ))"
   ]
  },
  {
   "cell_type": "code",
   "execution_count": null,
   "metadata": {},
   "outputs": [],
   "source": [
    "minusK = qprod(minusOne, K)\n",
    "X4(Phi(minusK))"
   ]
  },
  {
   "cell_type": "markdown",
   "metadata": {},
   "source": [
    "### Quaternionic conjugation"
   ]
  },
  {
   "cell_type": "markdown",
   "metadata": {},
   "source": [
    "In the comments below (but not in the SageMath code), we shall identify $\\mathbf{1}\\in \\mathbb{S}^3$ with $\\Phi(\\mathbf{1})\\in \\mathbb{R}^4$, $\\mathbf{i}\\in \\mathbb{S}^3$ with $\\Phi(\\mathbf{i})\\in \\mathbb{R}^4$, etc. In particular, we consider $(\\mathbf{1}, \\mathbf{i}, \\mathbf{j},\\mathbf{k})$ as a basis of the quaternion algebra $\\mathbb{H}$. \n",
    "\n",
    "The *conjugate* of a quaternion $q = T + X\\mathbf{i} + Y\\mathbf{j} + Z\\mathbf{k}$ is $\\bar{q} = T - X\\mathbf{i} - Y\\mathbf{j} - Z\\mathbf{k}$; hence we define:\n"
   ]
  },
  {
   "cell_type": "code",
   "execution_count": null,
   "metadata": {},
   "outputs": [],
   "source": [
    "def qconj(p):\n",
    "    if p in R4:\n",
    "        T, X, Y, Z = X4(p)\n",
    "        return R4((T, -X, -Y, -Z))\n",
    "    if p in S3:\n",
    "        a = qconj(Phi(p))\n",
    "        if X4(a) == (-1,0,0,0):\n",
    "            return N\n",
    "        return ProjN(a)\n",
    "    raise ValueError(\"Cannot evaluate qconf of {}\".format(p)) "
   ]
  },
  {
   "cell_type": "markdown",
   "metadata": {},
   "source": [
    "In particular, we have $\\bar{\\mathbf{1}} = \\mathbf{1}$, $\\bar{\\mathbf{i}} = -\\mathbf{i}$,  $\\bar{\\mathbf{j}} = -\\mathbf{j}$ and  $\\bar{\\mathbf{k}} = -\\mathbf{k}$:"
   ]
  },
  {
   "cell_type": "code",
   "execution_count": null,
   "metadata": {},
   "outputs": [],
   "source": [
    "all([qconj(One) == One, \n",
    "     qconj(I) == minusI,\n",
    "     qconj(J) == minusJ, \n",
    "     qconj(K) == minusK])"
   ]
  },
  {
   "cell_type": "markdown",
   "metadata": {},
   "source": [
    "The conjugate of an element of $\\mathbb{S}^3$"
   ]
  },
  {
   "cell_type": "code",
   "execution_count": null,
   "metadata": {},
   "outputs": [],
   "source": [
    "assume(a != 0)  # to ensure that qconj(p) is not N\n",
    "p = S3((a,b,c), chart=stereoN)\n",
    "stereoN(qconj(p))"
   ]
  },
  {
   "cell_type": "code",
   "execution_count": null,
   "metadata": {},
   "outputs": [],
   "source": [
    "p = S3((a,b,c), chart=stereoS)\n",
    "stereoS(qconj(p))"
   ]
  },
  {
   "cell_type": "code",
   "execution_count": null,
   "metadata": {},
   "outputs": [],
   "source": [
    "forget(a!=0)"
   ]
  },
  {
   "cell_type": "markdown",
   "metadata": {},
   "source": [
    "### Norm of a quaternion\n",
    "\n",
    "The quaternionic norm $\\| q\\| = \\sqrt{q\\bar{q}}$ coincide with the Euclidean norm in $\\mathbb{R}^4$, so that $\\mathbb{S}^3$ can be viewed as the set of unit quaternions; hence we define:"
   ]
  },
  {
   "cell_type": "code",
   "execution_count": null,
   "metadata": {},
   "outputs": [],
   "source": [
    "def qnorm(p):\n",
    "    if p in R4:\n",
    "        T, X, Y, Z = X4(p)\n",
    "        return (sqrt(T^2 + X^2 + Y^2 + Z^2)).simplify_full()\n",
    "    if p in S3:\n",
    "        return 1\n",
    "    raise ValueError(\"Cannot evaluate qnorm of {}\".format(p)) "
   ]
  },
  {
   "cell_type": "code",
   "execution_count": null,
   "metadata": {},
   "outputs": [],
   "source": [
    "var('d', domain='real')\n",
    "q = R4((a,b,c,d))\n",
    "qnorm(q)"
   ]
  },
  {
   "cell_type": "markdown",
   "metadata": {},
   "source": [
    "Let us check that $\\| q\\|^2 = q\\bar{q}$:"
   ]
  },
  {
   "cell_type": "code",
   "execution_count": null,
   "metadata": {},
   "outputs": [],
   "source": [
    "R4((qnorm(q)^2,0,0,0)) == qprod(q, qconj(q))"
   ]
  },
  {
   "cell_type": "markdown",
   "metadata": {},
   "source": [
    "As elements of $\\mathbb{S}^3$, $\\mathbf{1}$,  $\\mathbf{i}$,  $\\mathbf{j}$ and  $\\mathbf{k}$ have all unit norm:"
   ]
  },
  {
   "cell_type": "code",
   "execution_count": null,
   "metadata": {},
   "outputs": [],
   "source": [
    "(qnorm(One), qnorm(I), qnorm(J), qnorm(K)) == (1, 1, 1, 1)"
   ]
  },
  {
   "cell_type": "markdown",
   "metadata": {},
   "source": [
    "## Hopf map"
   ]
  },
  {
   "cell_type": "markdown",
   "metadata": {},
   "source": [
    "We shall define the Hopf map by considering first the map \n",
    "$$ \\begin{array}{cccc}\n",
    "   C: &  \\mathbb{R}^4 & \\to & \\mathbb{R}^4\\\\\n",
    "   &  p & \\mapsto & p \\mathbf{k} \\bar{p}\n",
    "   \\end{array} $$\n",
    "The coordinate expression of $C$ is obtained as follows:"
   ]
  },
  {
   "cell_type": "code",
   "execution_count": null,
   "metadata": {},
   "outputs": [],
   "source": [
    "p = R4((T,X,Y,Z)) # a generic point of R^4\n",
    "coord_Cp = X4(  qprod(p, qprod(Phi(K), qconj(p))) )\n",
    "coord_Cp"
   ]
  },
  {
   "cell_type": "markdown",
   "metadata": {},
   "source": [
    "Therefore we define $C$ as"
   ]
  },
  {
   "cell_type": "code",
   "execution_count": null,
   "metadata": {},
   "outputs": [],
   "source": [
    "C = R4.diff_map(R4, coord_Cp, name='C')\n",
    "C.display()"
   ]
  },
  {
   "cell_type": "markdown",
   "metadata": {},
   "source": [
    "The restriction of $C$ to $\\Phi(\\mathbb{S}^3)\\subset \\mathbb{R}^4$ can be viewed as the map \n",
    "$C\\circ \\Phi: \\mathbb{S}^3 \\to \\mathbb{R}^4$ :"
   ]
  },
  {
   "cell_type": "code",
   "execution_count": null,
   "metadata": {},
   "outputs": [],
   "source": [
    "CS = C * Phi\n",
    "CS.display()"
   ]
  },
  {
   "cell_type": "markdown",
   "metadata": {},
   "source": [
    "On the above coordinate expressions, we note that the codomain of $C\\circ \\Phi$ lies in the hyperplane $T=0$, i.e. in the set $\\operatorname{Im}\\mathbb{H}$ of pure imaginary quaternions.\n",
    "Moreover, if we consider a generic point $p\\in U\\subset\\mathbb{S}^3$:"
   ]
  },
  {
   "cell_type": "code",
   "execution_count": null,
   "metadata": {},
   "outputs": [],
   "source": [
    "p = S3((a,b,c), chart=stereoN)"
   ]
  },
  {
   "cell_type": "markdown",
   "metadata": {},
   "source": [
    "we have $\\| C\\circ\\Phi(p) \\| = 1$:"
   ]
  },
  {
   "cell_type": "code",
   "execution_count": null,
   "metadata": {},
   "outputs": [],
   "source": [
    "qnorm(CS(p))"
   ]
  },
  {
   "cell_type": "markdown",
   "metadata": {},
   "source": [
    "For the only point of $\\mathbb{S}^3$ not lying in $U$, i.e. $N = -\\mathbf{1}$, we have as well"
   ]
  },
  {
   "cell_type": "code",
   "execution_count": null,
   "metadata": {},
   "outputs": [],
   "source": [
    "qnorm(CS(N))"
   ]
  },
  {
   "cell_type": "markdown",
   "metadata": {},
   "source": [
    "Hence the codomain of $C \\circ\\Phi$ lies in $\\Phi(\\mathbb{S}^3)$. From the previous result, we conclude that it actually lies in $\\Phi(\\mathbb{S}^3)\\cap \\operatorname{Im}\\mathbb{H}$, which is a 2-sphere: the 2-sphere of unit imaginary quaternions.\n",
    "\n",
    "In particular, we have:"
   ]
  },
  {
   "cell_type": "code",
   "execution_count": null,
   "metadata": {},
   "outputs": [],
   "source": [
    "all([CS(K) == Phi(K), CS(One) == Phi(K), CS(minusOne) == Phi(K)])"
   ]
  },
  {
   "cell_type": "code",
   "execution_count": null,
   "metadata": {},
   "outputs": [],
   "source": [
    "all([CS(I) == Phi(minusK), CS(J) == Phi(minusK),\n",
    "     CS(minusI) == Phi(minusK), CS(minusJ) == Phi(minusK)])"
   ]
  },
  {
   "cell_type": "markdown",
   "metadata": {},
   "source": [
    "On $\\Phi(\\mathbb{S}^3)\\cap \\operatorname{Im}\\mathbb{H}$, the inverse embedding $\\Phi^{-1}$ coincides with \n",
    "the projector $\\Pi_N$ introduced above since $(\\Phi(\\mathbb{S}^3)\\cap \\operatorname{Im}\\mathbb{H})\\subset \\mathbb{R}^4_N$. Hence the map $H = \\Phi^{-1}\\circ C \\circ \\Phi: \\mathbb{S}^3 \\to \\mathbb{S}^3$ can be obtained as $\\Pi_N\\circ C \\circ \\Phi$:"
   ]
  },
  {
   "cell_type": "code",
   "execution_count": null,
   "metadata": {},
   "outputs": [],
   "source": [
    "H = ProjN * CS.restrict(S3, subcodomain=R4N)"
   ]
  },
  {
   "cell_type": "markdown",
   "metadata": {},
   "source": [
    "Note that we have used the method `restrict` with the argument `subcodomain=R4N`\n",
    "to declare that the codomain of $C\\circ\\Phi$ actually lies in $\\mathbb{R}^4_N$, so that the composition with $\\Pi_N$ is well defined. \n",
    "We have"
   ]
  },
  {
   "cell_type": "code",
   "execution_count": null,
   "metadata": {},
   "outputs": [],
   "source": [
    "H.display()"
   ]
  },
  {
   "cell_type": "markdown",
   "metadata": {},
   "source": [
    "Actually since neither $N$ (which has $T=-1$) nor $S$ (which has $T=1$) lie in the codomain of $C\\circ\\Phi$, we may safely declare that the codomain of $H$ is $W = U\\cap V$:"
   ]
  },
  {
   "cell_type": "code",
   "execution_count": null,
   "metadata": {},
   "outputs": [],
   "source": [
    "H = H.restrict(S3, subcodomain=W)\n",
    "H.display()"
   ]
  },
  {
   "cell_type": "markdown",
   "metadata": {},
   "source": [
    "We have $H(\\mathbf{k})=H(\\mathbf{1})=H(-\\mathbf{k})=H(-\\mathbf{1})=\\mathbf{k}$:"
   ]
  },
  {
   "cell_type": "code",
   "execution_count": null,
   "metadata": {},
   "outputs": [],
   "source": [
    "all([H(K) == K, H(One) == K, H(minusK) == K, \n",
    "     H(minusOne) == K])"
   ]
  },
  {
   "cell_type": "markdown",
   "metadata": {},
   "source": [
    "and $H(\\mathbf{i})=H(\\mathbf{j})=-\\mathbf{k}$:"
   ]
  },
  {
   "cell_type": "code",
   "execution_count": null,
   "metadata": {},
   "outputs": [],
   "source": [
    "all([H(I) == minusK, H(J) == minusK])"
   ]
  },
  {
   "cell_type": "markdown",
   "metadata": {},
   "source": [
    "Let us consider the expression of $H$ in stereographic coordinates:"
   ]
  },
  {
   "cell_type": "code",
   "execution_count": null,
   "metadata": {},
   "outputs": [],
   "source": [
    "Hx, Hy, Hz = H.expr(stereoN, stereoN)\n",
    "(Hx.factor(), Hy.factor(), Hz.factor())"
   ]
  },
  {
   "cell_type": "markdown",
   "metadata": {},
   "source": [
    "We have"
   ]
  },
  {
   "cell_type": "code",
   "execution_count": null,
   "metadata": {},
   "outputs": [],
   "source": [
    "(Hx^2 + Hy^2 + Hz^2).simplify_full()"
   ]
  },
  {
   "cell_type": "markdown",
   "metadata": {},
   "source": [
    "which shows that the codomain of $H$ lies in the 2-sphere of equation $x^2+y^2+z^2=1$ in stereographic coordinates. This is not surprising since (i) the equation of the 2-sphere of\n",
    "unit imaginary quaternions, $\\Phi(\\mathbb{S}^3)\\cap \\operatorname{Im}\\mathbb{H}$, is $T=0$ and $X^2+Y^2+Z^2=1$ and (ii) for \n",
    "$T=0$, we have $x=X$, $y=Y$ and $z=Z$. \n",
    "Let us construct this 2-sphere as a manifold by itself, which we call the **base 2-sphere**. This will be the codomain of the Hopf map. "
   ]
  },
  {
   "cell_type": "markdown",
   "metadata": {},
   "source": [
    "## The base 2-sphere (unit imaginary quaternions)"
   ]
  },
  {
   "cell_type": "code",
   "execution_count": null,
   "metadata": {},
   "outputs": [],
   "source": [
    "S2 = Manifold(2, 'S^2', latex_name=r'\\mathbb{S}^2')\n",
    "print(S2)"
   ]
  },
  {
   "cell_type": "markdown",
   "metadata": {},
   "source": [
    "As for $\\mathbb{S}^3$, we introduce on $\\mathbb{S}^2$ two complementary stereographic coordinate systems:"
   ]
  },
  {
   "cell_type": "code",
   "execution_count": null,
   "metadata": {},
   "outputs": [],
   "source": [
    "U2 = S2.open_subset('U_2')\n",
    "V2 = S2.open_subset('V_2')\n",
    "S2.declare_union(U2, V2)"
   ]
  },
  {
   "cell_type": "code",
   "execution_count": null,
   "metadata": {},
   "outputs": [],
   "source": [
    "stereoN2.<x2,y2> = U2.chart(\"x2:x_2 y2:y_2\")\n",
    "stereoN2"
   ]
  },
  {
   "cell_type": "code",
   "execution_count": null,
   "metadata": {},
   "outputs": [],
   "source": [
    "stereoS2.<xp2,yp2> = V2.chart(r\"xp2:{x'}_2 yp2:{y'}_2\")\n",
    "stereoS2"
   ]
  },
  {
   "cell_type": "code",
   "execution_count": null,
   "metadata": {},
   "outputs": [],
   "source": [
    "stereoN_to_S2 = stereoN2.transition_map(stereoS2, \n",
    "                                        (x2/(x2^2+y2^2), y2/(x2^2+y2^2)), \n",
    "                                        intersection_name='W_2',\n",
    "                                        restrictions1= x2^2+y2^2!=0, \n",
    "                                        restrictions2= xp2^2+xp2^2!=0)\n",
    "stereoN_to_S2.display()"
   ]
  },
  {
   "cell_type": "code",
   "execution_count": null,
   "metadata": {},
   "outputs": [],
   "source": [
    "stereoS_to_N2 = stereoN_to_S2.inverse()\n",
    "stereoS_to_N2.display()"
   ]
  },
  {
   "cell_type": "code",
   "execution_count": null,
   "metadata": {},
   "outputs": [],
   "source": [
    "W2 = U2.intersection(V2)"
   ]
  },
  {
   "cell_type": "markdown",
   "metadata": {},
   "source": [
    "We embed the base 2-sphere $\\mathbb{S}^2$ in $\\mathbb{S}^3$ by considering that the North pole defining the above stereographic coordinates is $\\mathbf{k}$, i.e. the point \n",
    "$(x,y,z)=(0,0,1)$ in $\\mathbb{S}^3$:"
   ]
  },
  {
   "cell_type": "code",
   "execution_count": null,
   "metadata": {},
   "outputs": [],
   "source": [
    "Phi2 = S2.diff_map(S3, {(stereoN2, stereoN): \n",
    "                        [2*x2/(1+x2^2+y2^2), \n",
    "                         2*y2/(1+x2^2+y2^2),\n",
    "                         (x2^2+y2^2-1)/(1+x2^2+y2^2)],\n",
    "                        (stereoS2, stereoN): \n",
    "                        [2*xp2/(1+xp2^2+yp2^2), \n",
    "                         2*yp2/(1+xp2^2+yp2^2),\n",
    "                         (1-xp2^2-yp2^2)/(1+xp2^2+yp2^2)]},\n",
    "                   name='Phi2', latex_name=r'\\Phi_2')\n",
    "Phi2.display()"
   ]
  },
  {
   "cell_type": "markdown",
   "metadata": {},
   "source": [
    "The unit imaginary quaternions $\\mathbf{i}$, $\\mathbf{j}$, $\\mathbf{k}$ and $-\\mathbf{k}$ as elements of the base 2-sphere:"
   ]
  },
  {
   "cell_type": "code",
   "execution_count": null,
   "metadata": {},
   "outputs": [],
   "source": [
    "I2 = S2((1,0), chart=stereoN2)\n",
    "J2 = S2((0,1), chart=stereoN2)\n",
    "K2 = S2((0,0), chart=stereoS2)\n",
    "minusK2 = S2((0,0), chart=stereoN2)"
   ]
  },
  {
   "cell_type": "code",
   "execution_count": null,
   "metadata": {},
   "outputs": [],
   "source": [
    "all([Phi2(I2) == I, Phi2(J2) == J,\n",
    "     Phi2(K2) == K, Phi2(minusK2) == minusK])"
   ]
  },
  {
   "cell_type": "markdown",
   "metadata": {},
   "source": [
    "### Spherical coordinates on $\\mathbb{S}^2$\n",
    "\n",
    "We introduce spherical coordinates $(\\theta_2,\\phi_2)$ on the base 2-sphere in the standard way (cf. the [2-sphere notebook](http://nbviewer.jupyter.org/github/sagemanifolds/SageManifolds/blob/master/Notebooks/SM_sphere_S2.ipynb)):"
   ]
  },
  {
   "cell_type": "code",
   "execution_count": null,
   "metadata": {},
   "outputs": [],
   "source": [
    "A2 = W2.open_subset('A_2', \n",
    "                    coord_def={stereoN2.restrict(W2): (y2!=0, x2<0), \n",
    "                               stereoS2.restrict(W2): (yp2!=0, xp2<0)})\n",
    "spher2.<th2,ph2> = A2.chart(r'th2:(0,pi):\\theta_2 ph2:(0,2*pi):\\phi_2')\n",
    "spher2_to_stereoN2 = spher2.transition_map(stereoN2.restrict(A2), \n",
    "                                        (sin(th2)*cos(ph2)/(1-cos(th2)),\n",
    "                                         sin(th2)*sin(ph2)/(1-cos(th2))))\n",
    "spher2_to_stereoN2.set_inverse(2*atan(1/sqrt(x2^2+y2^2)), \n",
    "                               atan2(-y2,-x2)+pi)\n",
    "spher2_to_stereoS2 = stereoN_to_S2.restrict(A2) * spher2_to_stereoN2\n",
    "stereoS2_to_spher2 = spher2_to_stereoN2.inverse() * \\\n",
    "                     stereoN_to_S2.inverse().restrict(A2)"
   ]
  },
  {
   "cell_type": "code",
   "execution_count": null,
   "metadata": {},
   "outputs": [],
   "source": [
    "A2.atlas()"
   ]
  },
  {
   "cell_type": "markdown",
   "metadata": {},
   "source": [
    "### Projectors $\\mathbb{S}^3 \\to \\mathbb{S}^2$\n",
    "\n",
    "Let $W_{z\\not=1}$ denote the subset of $W\\subset\\mathbb{S}^3$ defined by $z\\not=1$:"
   ]
  },
  {
   "cell_type": "code",
   "execution_count": null,
   "metadata": {},
   "outputs": [],
   "source": [
    "Wz1 = W.open_subset('Wz1', latex_name=r'W_{z\\not=1}', \n",
    "                    coord_def={stereoN.restrict(W): z!=1})"
   ]
  },
  {
   "cell_type": "code",
   "execution_count": null,
   "metadata": {},
   "outputs": [],
   "source": [
    "all([I in Wz1, J in Wz1, minusK in Wz1,\n",
    "     K not in Wz1, One not in Wz1, minusOne not in Wz1])"
   ]
  },
  {
   "cell_type": "code",
   "execution_count": null,
   "metadata": {},
   "outputs": [],
   "source": [
    "Proj2N = Wz1.diff_map(U2, {(stereoN.restrict(Wz1), stereoN2): \n",
    "                           [x/(1-z), y/(1-z)]},\n",
    "                      name='P_2^N', latex_name=r'\\Pi_2^N')\n",
    "Proj2N.display()"
   ]
  },
  {
   "cell_type": "code",
   "execution_count": null,
   "metadata": {},
   "outputs": [],
   "source": [
    "p = U2((a,b), chart=stereoN2)\n",
    "Proj2N(Phi2(p)) == p"
   ]
  },
  {
   "cell_type": "code",
   "execution_count": null,
   "metadata": {},
   "outputs": [],
   "source": [
    "assume(cos(a)!=1, cos(a)!=0)\n",
    "p = U((sin(a)*cos(b), sin(a)*sin(b), cos(a)), chart=stereoN)\n",
    "Phi2(Proj2N(p)) == p"
   ]
  },
  {
   "cell_type": "code",
   "execution_count": null,
   "metadata": {},
   "outputs": [],
   "source": [
    "forget(cos(a)!=1, cos(a)!=0)"
   ]
  },
  {
   "cell_type": "markdown",
   "metadata": {},
   "source": [
    "Let $W_{z\\not=-1}$ denote the subset of $W\\subset\\mathbb{S}^3$ defined by $z\\not=-1$:"
   ]
  },
  {
   "cell_type": "code",
   "execution_count": null,
   "metadata": {},
   "outputs": [],
   "source": [
    "Wzm1 = W.open_subset('Wzm1', latex_name=r'W_{z\\not=-1}', \n",
    "                     coord_def={stereoN.restrict(W): z!=-1})"
   ]
  },
  {
   "cell_type": "code",
   "execution_count": null,
   "metadata": {},
   "outputs": [],
   "source": [
    "all([I in Wzm1, J in Wzm1, K in Wzm1,\n",
    "     minusK not in Wzm1, One not in Wzm1, \n",
    "     minusOne not in Wzm1])"
   ]
  },
  {
   "cell_type": "code",
   "execution_count": null,
   "metadata": {},
   "outputs": [],
   "source": [
    "Proj2S = Wzm1.diff_map(V2, {(stereoN.restrict(Wzm1), stereoS2): \n",
    "                            [x/(1+z), y/(1+z)]},\n",
    "                       name='P_2^S', latex_name=r'\\Pi_2^S')\n",
    "Proj2S.display()"
   ]
  },
  {
   "cell_type": "code",
   "execution_count": null,
   "metadata": {},
   "outputs": [],
   "source": [
    "p = V2((a,b), chart=stereoS2)\n",
    "Proj2S(Phi2(p)) == p"
   ]
  },
  {
   "cell_type": "code",
   "execution_count": null,
   "metadata": {},
   "outputs": [],
   "source": [
    "assume(cos(a)!=-1, cos(a)!=0)\n",
    "p = U((sin(a)*cos(b), sin(a)*sin(b), cos(a)), chart=stereoN)\n",
    "Phi2(Proj2S(p)) == p"
   ]
  },
  {
   "cell_type": "code",
   "execution_count": null,
   "metadata": {},
   "outputs": [],
   "source": [
    "forget(cos(a)!=-1, cos(a)!=0)"
   ]
  },
  {
   "cell_type": "markdown",
   "metadata": {},
   "source": [
    "### Hopf map\n",
    "\n",
    "We are now in position to define the Hopf map as a map $\\mathbb{S}^3 \\to \\mathbb{S}^2$.\n",
    "To give its coordinate expressions, we have to consider that $\\mathbb{S}^3$ is covered by\n",
    "two charts, `stereoN` = $(U,(x,y,z))$ and `stereoS` = $(V,(x',y',z'))$, and $\\mathbb{S}^2$ is covered by two charts: \n",
    "- `stereoN2` = $(U_2,(x_2,y_2))$, the domain of which contains \n",
    "  all points of $\\mathbb{S}^2$ but $\\mathbf{k}$\n",
    "- `stereoS2` = $(V_2,(x'_2,y'_2))$, the domain of which contains \n",
    "  all points of $\\mathbb{S}^2$ but $-\\mathbf{k}$.\n",
    "\n",
    "First we search for all the points $p\\in U$ such that $H(p)\\in U_2$, i.e. such that\n",
    "$H(p)\\not=\\mathbf{k}$, or equivalently, $z(H(p))\\not= 1$, or again $H(p)\\in W_{z\\not=1}$.\n",
    "On the chart $(U,(x,y,z))$, the expression of $z(H(p))$ is "
   ]
  },
  {
   "cell_type": "code",
   "execution_count": null,
   "metadata": {},
   "outputs": [],
   "source": [
    "Hx, Hy, Hz = H.expr(stereoN, stereoN)\n",
    "Hz"
   ]
  },
  {
   "cell_type": "markdown",
   "metadata": {},
   "source": [
    "The condition $z(H(p))\\not=1$ is"
   ]
  },
  {
   "cell_type": "code",
   "execution_count": null,
   "metadata": {},
   "outputs": [],
   "source": [
    "Hz.numerator() - Hz.denominator() != 0"
   ]
  },
  {
   "cell_type": "markdown",
   "metadata": {},
   "source": [
    "which is equivalent to $x^2+y^2 \\not= 0$. We define thus the subdomain\n",
    "$D_1 = U \\setminus (H^{-1}(\\mathbf{k})\\cap U)$ as"
   ]
  },
  {
   "cell_type": "code",
   "execution_count": null,
   "metadata": {},
   "outputs": [],
   "source": [
    "D1 = U.open_subset('D_1', coord_def=({stereoN: x^2+y^2!=0}))\n",
    "stereoN_D1 = stereoN.restrict(D1)"
   ]
  },
  {
   "cell_type": "markdown",
   "metadata": {},
   "source": [
    "By construction, the restriction of $H$ to $D_1$ has $W_{z\\not=1}$ as codomain and we declare the Hopf map on $D_1$ by considering the image points as points of $\\mathbb{S}^2$ via $\\Pi_2^N$:"
   ]
  },
  {
   "cell_type": "code",
   "execution_count": null,
   "metadata": {},
   "outputs": [],
   "source": [
    "hD1 = Proj2N * H.restrict(D1, subcodomain=Wz1)\n",
    "hD1.display()"
   ]
  },
  {
   "cell_type": "markdown",
   "metadata": {},
   "source": [
    "We have $\\mathbf{i}\\in D_1$ and $\\mathbf{j}\\in D_1$; we can check that \n",
    "$h(\\mathbf{i}) = h(\\mathbf{j}) = -\\mathbf{k}$:"
   ]
  },
  {
   "cell_type": "code",
   "execution_count": null,
   "metadata": {},
   "outputs": [],
   "source": [
    "all([hD1(I) == minusK2, hD1(J) == minusK2])"
   ]
  },
  {
   "cell_type": "markdown",
   "metadata": {},
   "source": [
    "Let us now consider the points $p\\in U$ such that $H(p)\\in V_2$, i.e. such that\n",
    "$H(p)\\not=-\\mathbf{k}$, or equivalently, $z(H(p))\\not= -1$, or again $H(p)\\in W_{z\\not=-1}$.\n",
    "The condition $z(H(p))\\not= -1$ is equivalent to $s\\not=0$ with"
   ]
  },
  {
   "cell_type": "code",
   "execution_count": null,
   "metadata": {},
   "outputs": [],
   "source": [
    "s = ((Hz.numerator() + Hz.denominator())/2).simplify_full()\n",
    "s"
   ]
  },
  {
   "cell_type": "markdown",
   "metadata": {},
   "source": [
    "Since"
   ]
  },
  {
   "cell_type": "code",
   "execution_count": null,
   "metadata": {},
   "outputs": [],
   "source": [
    "(s-(x^2+y^2+z^2-1)^2).simplify_full()"
   ]
  },
  {
   "cell_type": "markdown",
   "metadata": {},
   "source": [
    "the condition $s\\not =0$ is equivalent to "
   ]
  },
  {
   "cell_type": "code",
   "execution_count": null,
   "metadata": {},
   "outputs": [],
   "source": [
    "(x^2+y^2+z^2-1)^2 + 4*z^2 != 0"
   ]
  },
  {
   "cell_type": "markdown",
   "metadata": {},
   "source": [
    "i.e. to ($x^2+y^2\\not= 1$ or $z\\not= 0$). Hence we introduce the subset \n",
    "$D_2 = U \\setminus (H^{-1}(-\\mathbf{k})\\cap U)$ by"
   ]
  },
  {
   "cell_type": "code",
   "execution_count": null,
   "metadata": {},
   "outputs": [],
   "source": [
    "D2 = U.open_subset('D_2', coord_def=({stereoN: (x^2+y^2!=1, z!=0)}))\n",
    "stereoN_D2 = stereoN.restrict(D2)"
   ]
  },
  {
   "cell_type": "markdown",
   "metadata": {},
   "source": [
    "By construction, the restriction of $H$ to $D_2$ has $W_{z\\not=-1}$ as codomain and we declare the Hopf map on $D_2$ by considering the image points as points of $\\mathbb{S}^2$ via $\\Pi_2^S$:"
   ]
  },
  {
   "cell_type": "code",
   "execution_count": null,
   "metadata": {},
   "outputs": [],
   "source": [
    "hD2 = Proj2S * H.restrict(D2, subcodomain=Wzm1)\n",
    "hD2.display()"
   ]
  },
  {
   "cell_type": "markdown",
   "metadata": {},
   "source": [
    "We have $\\mathbf{k}\\in D_2$, $-\\mathbf{k}\\in D_2$ and $\\mathbf{1}\\in D_2$; we can check that \n",
    "$h(\\mathbf{k}) = h(-\\mathbf{k}) = h(\\mathbf{1}) = \\mathbf{k}$:"
   ]
  },
  {
   "cell_type": "code",
   "execution_count": null,
   "metadata": {},
   "outputs": [],
   "source": [
    "all([hD2(K) == K2, hD2(minusK) == K2, hD2(One) == K2])"
   ]
  },
  {
   "cell_type": "markdown",
   "metadata": {},
   "source": [
    "Since $H^{-1}(\\mathbf{k})\\cap H^{-1}(-\\mathbf{k})=\\emptyset$, we have $U=D_1\\cup D_2$:"
   ]
  },
  {
   "cell_type": "code",
   "execution_count": null,
   "metadata": {},
   "outputs": [],
   "source": [
    "U.declare_union(D1, D2)"
   ]
  },
  {
   "cell_type": "markdown",
   "metadata": {},
   "source": [
    "Similarly let us consider the points $p\\in V$ such that $H(p)\\in U_2$, i.e. such that\n",
    "$H(p)\\not=\\mathbf{k}$, or equivalently, $z(H(p))\\not= 1$, or again $H(p)\\in W_{z\\not=1}$.\n",
    "On the chart $(V,(x',y',z'))$, the expression of $z(H(p))$ is "
   ]
  },
  {
   "cell_type": "code",
   "execution_count": null,
   "metadata": {},
   "outputs": [],
   "source": [
    "Hx, Hy, Hz = H.expr(stereoS, stereoN)\n",
    "Hz"
   ]
  },
  {
   "cell_type": "markdown",
   "metadata": {},
   "source": [
    "The condition $z(H(p))\\not=1$ is"
   ]
  },
  {
   "cell_type": "code",
   "execution_count": null,
   "metadata": {},
   "outputs": [],
   "source": [
    "Hz.numerator() - Hz.denominator() != 0"
   ]
  },
  {
   "cell_type": "markdown",
   "metadata": {},
   "source": [
    "which is equivalent to ${x'}^2+{y'}^2 \\not= 0$. We define thus the subset\n",
    "$D_3 = V \\setminus (H^{-1}(\\mathbf{k})\\cap V)$ as"
   ]
  },
  {
   "cell_type": "code",
   "execution_count": null,
   "metadata": {},
   "outputs": [],
   "source": [
    "D3 = V.open_subset('D_3', coord_def=({stereoS: xp^2+yp^2!=0}))\n",
    "stereoS_D3 = stereoS.restrict(D3)"
   ]
  },
  {
   "cell_type": "markdown",
   "metadata": {},
   "source": [
    "By construction, the restriction of $H$ to $D_2$ has $W_{z\\not=1}$ as codomain and we declare the Hopf map on $D_3$ by considering the image points as points of $\\mathbb{S}^2$ via $\\Pi_2^N$:"
   ]
  },
  {
   "cell_type": "code",
   "execution_count": null,
   "metadata": {},
   "outputs": [],
   "source": [
    "hD3 = Proj2N *  H.restrict(D3, subcodomain=Wz1)\n",
    "hD3.display()"
   ]
  },
  {
   "cell_type": "markdown",
   "metadata": {},
   "source": [
    "We have $\\mathbf{i}\\in D_3$ and $\\mathbf{j}\\in D_3$; we can check that \n",
    "$h(\\mathbf{i}) = h(\\mathbf{j}) = -\\mathbf{k}$:"
   ]
  },
  {
   "cell_type": "code",
   "execution_count": null,
   "metadata": {},
   "outputs": [],
   "source": [
    "all([hD3(I) == minusK2, hD3(J) == minusK2])"
   ]
  },
  {
   "cell_type": "markdown",
   "metadata": {},
   "source": [
    "Finally, let us consider the points $p\\in V$ such that $H(p)\\in V_2$, i.e. such that\n",
    "$H(p)\\not=-\\mathbf{k}$, or equivalently, $z(H(p))\\not= -1$, or again $H(p)\\in W_{z\\not=-1}$.\n",
    "The condition $z(H(p))\\not= -1$ is equivalent to $s\\not=0$ with"
   ]
  },
  {
   "cell_type": "code",
   "execution_count": null,
   "metadata": {},
   "outputs": [],
   "source": [
    "s = ((Hz.numerator() + Hz.denominator())/2).simplify_full()\n",
    "s"
   ]
  },
  {
   "cell_type": "markdown",
   "metadata": {},
   "source": [
    "Since "
   ]
  },
  {
   "cell_type": "code",
   "execution_count": null,
   "metadata": {},
   "outputs": [],
   "source": [
    "(s-(xp^2+yp^2+zp^2-1)^2).simplify_full()"
   ]
  },
  {
   "cell_type": "markdown",
   "metadata": {},
   "source": [
    "the condition $s\\not=0$ is equivalent to"
   ]
  },
  {
   "cell_type": "code",
   "execution_count": null,
   "metadata": {},
   "outputs": [],
   "source": [
    "(xp^2+yp^2+zp^2-1)^2 + 4*zp^2 == 0"
   ]
  },
  {
   "cell_type": "markdown",
   "metadata": {},
   "source": [
    "i.e. to (${x'}^2+{y'}^2\\not= 1$ or $z'\\not= 0$). Hence we introduce the subset \n",
    "$D_4 = V \\setminus (H^{-1}(-\\mathbf{k})\\cap V)$ by"
   ]
  },
  {
   "cell_type": "code",
   "execution_count": null,
   "metadata": {},
   "outputs": [],
   "source": [
    "D4 = V.open_subset('D_4', coord_def=({stereoS: (xp^2+yp^2!=1, zp!=0)}))\n",
    "stereoS_D4 = stereoS.restrict(D4)"
   ]
  },
  {
   "cell_type": "markdown",
   "metadata": {},
   "source": [
    "By construction, the restriction of $H$ to $D_4$ has $W_{z\\not=-1}$ as codomain and we declare the Hopf map on $D_4$ by considering the image points as points of $\\mathbb{S}^2$ via $\\Pi_2^S$:"
   ]
  },
  {
   "cell_type": "code",
   "execution_count": null,
   "metadata": {},
   "outputs": [],
   "source": [
    "hD4 = Proj2S * H.restrict(D4, subcodomain=Wzm1)\n",
    "hD4.display()"
   ]
  },
  {
   "cell_type": "markdown",
   "metadata": {},
   "source": [
    "We have $-\\mathbf{1}\\in D_4$ and we can check that \n",
    "$h(-\\mathbf{1}) = \\mathbf{k}$:"
   ]
  },
  {
   "cell_type": "code",
   "execution_count": null,
   "metadata": {},
   "outputs": [],
   "source": [
    "hD4(minusOne) == K2"
   ]
  },
  {
   "cell_type": "markdown",
   "metadata": {},
   "source": [
    "Since $H^{-1}(\\mathbf{k})\\cap H^{-1}(-\\mathbf{k})=\\emptyset$, we have $V=D_3\\cup D_4$:"
   ]
  },
  {
   "cell_type": "code",
   "execution_count": null,
   "metadata": {},
   "outputs": [],
   "source": [
    "V.declare_union(D3, D4)"
   ]
  },
  {
   "cell_type": "markdown",
   "metadata": {},
   "source": [
    "#### Declaration of the Hopf map\n",
    "\n",
    "We construct the Hopf map $h:\\mathbb{S}^3\\to \\mathbb{S}^2$ from the coordinate expressions of its restriction to $D_1$, $D_2$, $D_3$ and $D_4$, as obtained above:"
   ]
  },
  {
   "cell_type": "code",
   "execution_count": null,
   "metadata": {},
   "outputs": [],
   "source": [
    "h = S3.diff_map(S2, name='h')\n",
    "h.add_expression(stereoN_D1, stereoN2, hD1.expr(stereoN_D1, stereoN2))\n",
    "h.add_expression(stereoN_D2, stereoS2, hD2.expr(stereoN_D2, stereoS2))\n",
    "h.add_expression(stereoS_D3, stereoN2, hD3.expr(stereoS_D3, stereoN2))\n",
    "h.add_expression(stereoS_D4, stereoS2, hD4.expr(stereoS_D4, stereoS2))"
   ]
  },
  {
   "cell_type": "code",
   "execution_count": null,
   "metadata": {},
   "outputs": [],
   "source": [
    "h.display(stereoN_D1, stereoN2)"
   ]
  },
  {
   "cell_type": "code",
   "execution_count": null,
   "metadata": {},
   "outputs": [],
   "source": [
    "h.display(stereoN_D2, stereoS2)"
   ]
  },
  {
   "cell_type": "code",
   "execution_count": null,
   "metadata": {},
   "outputs": [],
   "source": [
    "h.display(stereoS_D3, stereoN2)"
   ]
  },
  {
   "cell_type": "code",
   "execution_count": null,
   "metadata": {},
   "outputs": [],
   "source": [
    "h.display(stereoS_D4, stereoS2)"
   ]
  },
  {
   "cell_type": "markdown",
   "metadata": {},
   "source": [
    "Let us check that $h(\\mathbf{1})=h(-\\mathbf{1})=h(\\mathbf{k})=h(-\\mathbf{k})=\\mathbf{k}$\n",
    "and $h(\\mathbf{i})=h(-\\mathbf{i})=h(\\mathbf{j})=h(-\\mathbf{j})=-\\mathbf{k}$:"
   ]
  },
  {
   "cell_type": "code",
   "execution_count": null,
   "metadata": {},
   "outputs": [],
   "source": [
    "all([h(One)==K2, h(minusOne)==K2, \n",
    "     h(K)==K2, h(minusK)==K2,\n",
    "     h(I)==minusK2, h(minusI)==minusK2,\n",
    "     h(J)==minusK2, h(minusJ)==minusK2])"
   ]
  },
  {
   "cell_type": "markdown",
   "metadata": {},
   "source": [
    "### Expression of the Hopf map in spherical coordinates"
   ]
  },
  {
   "cell_type": "code",
   "execution_count": null,
   "metadata": {},
   "outputs": [],
   "source": [
    "D1A = A.intersection(D1)\n",
    "spherD1A = spher.restrict(D1A)\n",
    "spherD1A"
   ]
  },
  {
   "cell_type": "code",
   "execution_count": null,
   "metadata": {},
   "outputs": [],
   "source": [
    "stereoND1A = stereoN_D1.restrict(D1A)\n",
    "stereoND1A.add_restrictions((y!=0, x<0))"
   ]
  },
  {
   "cell_type": "code",
   "execution_count": null,
   "metadata": {},
   "outputs": [],
   "source": [
    "D1A.atlas()"
   ]
  },
  {
   "cell_type": "code",
   "execution_count": null,
   "metadata": {},
   "outputs": [],
   "source": [
    "spher_to_stereoND1A = spher_to_stereoN.restrict(D1A)\n",
    "stereoN_to_spherD1A = spher_to_stereoN.inverse().restrict(D1A)\n",
    "spher_to_stereoSD1A = spher_to_stereoS.restrict(D1A)\n",
    "stereoS_to_spherD1A = stereoS_to_spher.restrict(D1A)"
   ]
  },
  {
   "cell_type": "code",
   "execution_count": null,
   "metadata": {},
   "outputs": [],
   "source": [
    "h.expr(stereoND1A, stereoN2)  # necessary\n",
    "h.display(spherD1A, stereoN2)"
   ]
  },
  {
   "cell_type": "code",
   "execution_count": null,
   "metadata": {},
   "outputs": [],
   "source": [
    "hA = h.restrict(D1A, subcodomain=A2)\n",
    "hA.display(spherD1A, spher2)"
   ]
  },
  {
   "cell_type": "markdown",
   "metadata": {},
   "source": [
    "## Hopf coordinates\n",
    "\n",
    "The Hopf coordinates are coordinates $(\\eta,\\alpha,\\beta)$ on $\\mathbb{S}^3$ which are related to the Cartesian coordinates on $\\mathbb{R}^4$ (via the embedding $\\Phi$) by\n",
    "$$\n",
    "\\begin{equation} \\tag{1}\n",
    "    \\left\\{ \\begin{array}{lcl}\n",
    "        T & = &\\cos\\eta \\sin\\alpha \\\\\n",
    "        X & = &\\sin\\eta \\cos(\\alpha+\\beta) \\\\        \n",
    "        Y & = &\\sin\\eta \\sin(\\alpha+\\beta) \\\\\n",
    "        Z & = &\\cos\\eta \\cos\\alpha \n",
    "      \\end{array} \\right . \n",
    "\\end{equation}\n",
    "$$\n",
    "and whose range is $\\eta\\in(0,\\pi/2)$, $\\alpha\\in (0, 2\\pi)$, $\\beta\\in (0, 2\\pi)$. They are\n",
    "defined in $D_1$ minus the points for which $X^2+Y^2+T^2=1$ (limit $\\alpha\\rightarrow 0$\n",
    "or $2\\pi$) or $TX-YZ=0$ (limit $\\beta\\rightarrow 0$ or $2\\pi$). In terms of the stereograĥic coordinates, this corresponds to $x^2+y^2+z^2=1$ or to $x(1-x^2-y^2-z^2)-2yz=0$. Hence we declare the domain $B$ of Hopf coordinates as "
   ]
  },
  {
   "cell_type": "code",
   "execution_count": null,
   "metadata": {},
   "outputs": [],
   "source": [
    "B = D1.open_subset('B', coord_def={stereoN_D1: \n",
    "                                   [x^2+y^2+z^2!=1, \n",
    "                                    x*(1-x^2-y^2-z^2)-2*y*z!=0]})\n",
    "print(B)"
   ]
  },
  {
   "cell_type": "markdown",
   "metadata": {},
   "source": [
    "The limiting surface $x(1-x^2-y^2-z^2)-2yz=0$, where $\\beta\\rightarrow 0$ or $2\\pi$:"
   ]
  },
  {
   "cell_type": "code",
   "execution_count": null,
   "metadata": {},
   "outputs": [],
   "source": [
    "beta_zero = implicit_plot3d(x*(1-x^2-y^2-z^2)-2*y*z==0, \n",
    "                            (x,-3,3), (y,-3,3), (z,-3,3))\n",
    "show(beta_zero)"
   ]
  },
  {
   "cell_type": "markdown",
   "metadata": {},
   "source": [
    "We define the Hopf coordinates and provide the transition map to the stereographic coordinates $(x,y,z)$:"
   ]
  },
  {
   "cell_type": "code",
   "execution_count": null,
   "metadata": {},
   "outputs": [],
   "source": [
    "Hcoord.<eta,alp,bet> = B.chart(r\"eta:(0,pi/2):\\eta alpha:(0,2*pi):\\alpha beta:(0,2*pi):\\beta\")\n",
    "Hcoord"
   ]
  },
  {
   "cell_type": "code",
   "execution_count": null,
   "metadata": {},
   "outputs": [],
   "source": [
    "Hcoord_to_stereoN = Hcoord.transition_map(\n",
    "                        stereoN.restrict(B),\n",
    "                        (sin(eta)*cos(alp+bet)/(1+cos(eta)*sin(alp)),\n",
    "                         sin(eta)*sin(alp+bet)/(1+cos(eta)*sin(alp)),\n",
    "                         cos(eta)*cos(alp)/(1+cos(eta)*sin(alp))))\n",
    "Hcoord_to_stereoN.display()"
   ]
  },
  {
   "cell_type": "code",
   "execution_count": null,
   "metadata": {},
   "outputs": [],
   "source": [
    "Hcoord_to_stereoN.set_inverse(asin(2*sqrt(x^2+y^2)/(1+x^2+y^2+z^2)),\n",
    "                              atan2(x^2+y^2+z^2-1, -2*z) + pi,\n",
    "                              atan2(-y,-x) - atan2(x^2+y^2+z^2-1, -2*z))"
   ]
  },
  {
   "cell_type": "markdown",
   "metadata": {},
   "source": [
    "Note that the test of the inverse coordinate transformation is passed, modulo some lack of trigonometric simplifications."
   ]
  },
  {
   "cell_type": "code",
   "execution_count": null,
   "metadata": {},
   "outputs": [],
   "source": [
    "Hcoord_to_stereoN.inverse().display()"
   ]
  },
  {
   "cell_type": "markdown",
   "metadata": {},
   "source": [
    "### Embedding $\\Phi$ in terms of Hopf coordinates"
   ]
  },
  {
   "cell_type": "code",
   "execution_count": null,
   "metadata": {},
   "outputs": [],
   "source": [
    "PhiB = Phi.restrict(B)\n",
    "PhiB.display()"
   ]
  },
  {
   "cell_type": "markdown",
   "metadata": {},
   "source": [
    "The expression of $\\Phi$ in terms of the Hopf coordinates can be simplified by means of the method `trig_reduce`:"
   ]
  },
  {
   "cell_type": "code",
   "execution_count": null,
   "metadata": {},
   "outputs": [],
   "source": [
    "PhiB.expression(Hcoord, X4)[1].factor().trig_reduce()"
   ]
  },
  {
   "cell_type": "code",
   "execution_count": null,
   "metadata": {},
   "outputs": [],
   "source": [
    "PhiB.expression(Hcoord, X4)[2].factor().trig_reduce()"
   ]
  },
  {
   "cell_type": "markdown",
   "metadata": {},
   "source": [
    "Hence the recover the expression (1) above."
   ]
  },
  {
   "cell_type": "markdown",
   "metadata": {},
   "source": [
    "### Expression of the Hopf map in terms of Hopf coordinates\n",
    "\n",
    "The expression of $h$ in terms of stereographic coordinates on $B$ is"
   ]
  },
  {
   "cell_type": "code",
   "execution_count": null,
   "metadata": {},
   "outputs": [],
   "source": [
    "h.display(stereoN.restrict(B), stereoN2)"
   ]
  },
  {
   "cell_type": "markdown",
   "metadata": {},
   "source": [
    "Let us ask for the expression in terms of Hoopf coordinates:"
   ]
  },
  {
   "cell_type": "code",
   "execution_count": null,
   "metadata": {},
   "outputs": [],
   "source": [
    "h.display(Hcoord, stereoN2)"
   ]
  },
  {
   "cell_type": "markdown",
   "metadata": {},
   "source": [
    "We notice that the image point in $\\mathbb{S}^2$ is independent of the value of $\\alpha$.  \n",
    "\n",
    "The expression of $h$ is even simpler in terms of spherical coordinates on $\\mathbb{S}^2$:"
   ]
  },
  {
   "cell_type": "code",
   "execution_count": null,
   "metadata": {},
   "outputs": [],
   "source": [
    "hB = h.restrict(B, subcodomain=A2)\n",
    "hB.display(Hcoord, spher2)"
   ]
  },
  {
   "cell_type": "markdown",
   "metadata": {},
   "source": [
    "We are facing some lack of simplification: \n",
    "\n",
    "- $\\operatorname{atan}(\\sin\\eta/\\cos\\eta)$ should simplify to $\\eta$\n",
    "- the `atan2` function should simplify to $\\operatorname{atan2}(\\sin\\beta,-\\cos\\beta) = \\pi-\\beta$, so that $\\phi_2=\\beta$\n",
    "  \n",
    "Hence the right-hand side of the above formula simplifies to $(\\theta_2,\\phi_2)=(2\\eta,\\beta)$. We enforce it by the method `add_expression`:"
   ]
  },
  {
   "cell_type": "code",
   "execution_count": null,
   "metadata": {},
   "outputs": [],
   "source": [
    "hB.add_expression(Hcoord, spher2, (2*eta, bet))\n",
    "hB.display(Hcoord, spher2)"
   ]
  },
  {
   "cell_type": "markdown",
   "metadata": {},
   "source": [
    "The expression of the Hopf map in terms of the Hopf coordinates is thus very simple, which justifies the name given to these coordinates.\n",
    "We also recover a very simple expression when asking to express $C\\circ \\Phi$ (from which $h$ has been constructed) in terms of the Hopf coordinates: "
   ]
  },
  {
   "cell_type": "code",
   "execution_count": null,
   "metadata": {},
   "outputs": [],
   "source": [
    "CS.restrict(B).display(Hcoord, X4)"
   ]
  },
  {
   "cell_type": "markdown",
   "metadata": {},
   "source": [
    "The right-hand side should simplify to\n",
    "$$(T,X,Y,Z) = (0, \\sin(2\\eta)\\cos\\beta, \\sin(2\\eta)\\sin\\beta, \\cos(2\\eta))$$\n",
    "We can (partially) obtain this by means of `trig_reduce()`:"
   ]
  },
  {
   "cell_type": "code",
   "execution_count": null,
   "metadata": {},
   "outputs": [],
   "source": [
    "for cp in CS.restrict(B).expr(Hcoord, X4):\n",
    "    show(cp.trig_reduce().simplify_full())"
   ]
  },
  {
   "cell_type": "markdown",
   "metadata": {},
   "source": [
    "## The Hopf map as a fibration of $\\mathbb{S}^3$\n",
    "\n",
    "The above results show that the image by $h$ of a point of Hopf coordinates $(\\eta,\\alpha,\\beta)$ is independent of $\\alpha$. Since $h$ is surjective, this means that for any point \n",
    "$p\\in\\mathbb{S}^2$, the preimage set $h^{-1}(p)$ corresponds to a fixed value of $(\\eta,\\beta)$, with $\\alpha$ taking all values in the range $(0,2\\pi)$. From Eq. (1), the projection of  $h^{-1}(p)$ in the $(T,X)$-plane is a circle of radius $\\cos\\eta$ centered on $(0,0)$, while its projection in the $(X,Y)$-plane is a circle of radius $\\sin\\eta$ centered on $(0,0)$. We conclude that $h^{-1}(p)$ is a great circle of $\\mathbb{S}^3$, sometimes called a *Hopf circle*. \n",
    "\n",
    "It follows that $\\mathbb{S}^3$ has the structure of a **fiber bundle** over $\\mathbb{S}^2$ with \n",
    "$\\mathbb{S}^1$ fibers. The Hopf map $h:\\mathbb{S}^3\\to\\mathbb{S}^2$ is then nothing but the projection map of this bundle."
   ]
  },
  {
   "cell_type": "markdown",
   "metadata": {},
   "source": [
    "We can get a first view of the fibers by plotting the Hopf coordinates in terms of the stereographic ones, for a fixed value of $\\eta$ ($\\eta=\\pi/4$): the lines along which $\\alpha$ varies while $\\beta$ is kept fixed, hence the fibers $h^{-1}(p)$, are plotted in green. They are\n",
    "indeed circles (remember that stereographic projection preserves circles):"
   ]
  },
  {
   "cell_type": "code",
   "execution_count": null,
   "metadata": {},
   "outputs": [],
   "source": [
    "graph = Hcoord.plot(stereoN, \n",
    "                    fixed_coords={eta: pi/4},\n",
    "                    color={alp: 'green', bet: 'orange'},\n",
    "                    number_values=9, label_axes=False)\n",
    "show(graph, axes_labels=['x','y','z'])"
   ]
  },
  {
   "cell_type": "markdown",
   "metadata": {},
   "source": [
    "Note that all the green circles are linked.\n",
    "The same plot, but in terms of the coordinates $(X,Y,T)$ of $\\mathbb{R}^4$ via the embedding $\\Phi$:"
   ]
  },
  {
   "cell_type": "code",
   "execution_count": null,
   "metadata": {},
   "outputs": [],
   "source": [
    "graph = Hcoord.plot(X4, mapping=PhiB, ambient_coords=(X,Y,T), \n",
    "                    fixed_coords={eta: pi/4},\n",
    "                    color={alp: 'green', bet: 'orange'},\n",
    "                    number_values=9, label_axes=False)\n",
    "show(graph, axes_labels=['X','Y','T'])"
   ]
  },
  {
   "cell_type": "markdown",
   "metadata": {},
   "source": [
    "We may fix $\\beta$ instead of $\\eta$, in plotting the Hopf coordinates in terms of the stereographic ones. The fibers are still the green circles, the red lines being lines along which $\\eta$ varies at fixed $\\alpha$. Again, note that all the green circles are linked."
   ]
  },
  {
   "cell_type": "code",
   "execution_count": null,
   "metadata": {},
   "outputs": [],
   "source": [
    "graph = Hcoord.plot(stereoN, \n",
    "                    fixed_coords={bet: pi/2}, \n",
    "                    ranges={eta: (0.25, 1.5)},\n",
    "                    color={eta: 'red', alp: 'green'},\n",
    "                    number_values=9, plot_points=150, \n",
    "                    label_axes=False)\n",
    "show(graph, axes_labels=['x','y','z'])"
   ]
  },
  {
   "cell_type": "markdown",
   "metadata": {},
   "source": [
    "If we vary the three coordinates $(\\eta,\\alpha,\\beta)$, we get the following plots, where $\\mathbb{S}^3$ appears as filled by the grid of Hoopf coordinates:"
   ]
  },
  {
   "cell_type": "code",
   "execution_count": null,
   "metadata": {},
   "outputs": [],
   "source": [
    "graph = Hcoord.plot(X4, mapping=PhiB, ambient_coords=(X,Y,Z), \n",
    "                    color={eta: 'red', alp: 'green', bet: 'orange'},\n",
    "                    number_values=7, label_axes=False)\n",
    "show(graph, axes_labels=['X','Y','Z'])"
   ]
  },
  {
   "cell_type": "code",
   "execution_count": null,
   "metadata": {},
   "outputs": [],
   "source": [
    "#graph = Hcoord.plot(X4, mapping=PhiB, ambient_coords=(X,Y,T), \n",
    "#                    color={eta: 'red', alp: 'green', bet: 'orange'},\n",
    "#                    number_values=7, label_axes=False)\n",
    "# show(graph, axes_labels=['X','Y','T'])"
   ]
  },
  {
   "cell_type": "code",
   "execution_count": null,
   "metadata": {},
   "outputs": [],
   "source": [
    "#graph = Hcoord.plot(X4, mapping=PhiB, ambient_coords=(X,Z,T), \n",
    "#                    color={eta: 'red', alp: 'green', bet: 'orange'},\n",
    "#                    number_values=7, label_axes=False)\n",
    "#show(graph, axes_labels=['X','Z','T'])"
   ]
  },
  {
   "cell_type": "markdown",
   "metadata": {
    "collapsed": true
   },
   "source": [
    "## Fibers of the Hopf fibration\n",
    "\n",
    "For a point $p\\in\\mathbb{S}^2$, identified by its spherical coordinates $(\\theta_2,\\phi_2)=(2\\eta,\\beta)$, the fiber $h^{-1}(p)$ can be seen as a curve in $\\mathbb{S}^3$:"
   ]
  },
  {
   "cell_type": "code",
   "execution_count": null,
   "metadata": {},
   "outputs": [],
   "source": [
    "R.<t> = RealLine()\n",
    "def fiber(eta, bet):\n",
    "    return S3.curve({Hcoord: (eta, t, bet)}, (t, 0, 2*pi))"
   ]
  },
  {
   "cell_type": "markdown",
   "metadata": {},
   "source": [
    "For instance, the fiber above the point $(\\theta_2,\\phi_2)=(\\pi/3,\\pi/4)$ is "
   ]
  },
  {
   "cell_type": "code",
   "execution_count": null,
   "metadata": {},
   "outputs": [],
   "source": [
    "F = fiber(pi/6, pi/4)\n",
    "F"
   ]
  },
  {
   "cell_type": "code",
   "execution_count": null,
   "metadata": {},
   "outputs": [],
   "source": [
    "F.display()"
   ]
  },
  {
   "cell_type": "code",
   "execution_count": null,
   "metadata": {},
   "outputs": [],
   "source": [
    "graph_F = F.plot(chart=stereoN, color='green', plot_points=100)\n",
    "graph_F"
   ]
  },
  {
   "cell_type": "markdown",
   "metadata": {},
   "source": [
    "### Plot of the fibers\n",
    "\n",
    "Let us plot the fibers for three values of $\\eta$: $\\eta=\\pi/6$ (turquoise), $\\eta=\\pi/4$ (gold)\n",
    "and $\\eta=5\\pi/12$ (red). For each value of $\\eta$, we note that the fibers fill a torus."
   ]
  },
  {
   "cell_type": "code",
   "execution_count": null,
   "metadata": {},
   "outputs": [],
   "source": [
    "graph= Graphics()\n",
    "etas = {pi/6: ['turquoise', (0, 2*pi), 30], \n",
    "        pi/4: ['gold', (0,2*pi), 30],\n",
    "        5*pi/12: ['red', (0, 2*pi), 30]}\n",
    "for eta_v, param in etas.items():\n",
    "    color = param[0]\n",
    "    beta_min, beta_max = param[1]\n",
    "    nb = param[2]\n",
    "    db = (beta_max - beta_min)/(nb-1)\n",
    "    betas = [beta_min + db*k for k in range(nb)]\n",
    "    for beta_v in betas:\n",
    "        F = fiber(eta_v, beta_v)\n",
    "        F.coord_expr(stereoN.restrict(B))\n",
    "        graph += F.plot(chart=stereoN, color=color, plot_points=150,\n",
    "                        label_axes=None)\n",
    "graph"
   ]
  },
  {
   "cell_type": "code",
   "execution_count": null,
   "metadata": {},
   "outputs": [],
   "source": [
    "#show(graph, viewer='tachyon', figsize=24, aspect_ratio=1, frame=False)"
   ]
  },
  {
   "cell_type": "markdown",
   "metadata": {},
   "source": [
    "A \"top\" view of the fibers, obtained by projection to the $(x,y)$-plane (note that for clarity, we have reduced the number of fibers from 30 to 12):"
   ]
  },
  {
   "cell_type": "code",
   "execution_count": null,
   "metadata": {},
   "outputs": [],
   "source": [
    "graph= Graphics()\n",
    "etas = {pi/6: ['turquoise', (0, 2*pi), 12], \n",
    "        pi/4: ['gold', (0,2*pi), 12],\n",
    "        5*pi/12: ['red', (0, 2*pi), 12]}\n",
    "for eta_v, param in etas.items():\n",
    "    color = param[0]\n",
    "    beta_min, beta_max = param[1]\n",
    "    nb = param[2]\n",
    "    db = (beta_max - beta_min)/(nb-1)\n",
    "    betas = [beta_min + db*k for k in range(nb)]\n",
    "    for beta_v in betas:\n",
    "        F = fiber(eta_v, beta_v)\n",
    "        F.coord_expr(stereoN.restrict(B))\n",
    "        graph += F.plot(chart=stereoN, ambient_coords=(x,y), \n",
    "                        color=color, plot_points=150)\n",
    "show(graph, aspect_ratio=1)"
   ]
  },
  {
   "cell_type": "markdown",
   "metadata": {},
   "source": [
    "The same fibers, but viewed in $\\mathbb{R}^4$ (via the embedding $\\Phi$), in terms of the coordinates $(T,X,Z)$:"
   ]
  },
  {
   "cell_type": "code",
   "execution_count": null,
   "metadata": {},
   "outputs": [],
   "source": [
    "graph = Graphics()\n",
    "for eta_v, param in etas.items():\n",
    "    color = param[0]\n",
    "    beta_min, beta_max = param[1]\n",
    "    nb = param[2]\n",
    "    db = (beta_max - beta_min)/(nb-1)\n",
    "    betas = [beta_min + db*k for k in range(nb)]\n",
    "    for beta_v in betas:\n",
    "        F = fiber(eta_v, beta_v)\n",
    "        F.coord_expr(stereoN.restrict(B))\n",
    "        graph += F.plot(chart=X4, ambient_coords=(X,Z,T), \n",
    "                        mapping=Phi, color=color, \n",
    "                        plot_points=200, label_axes=None)\n",
    "show(graph, axes_labels=['X', 'Z', 'T'])"
   ]
  },
  {
   "cell_type": "markdown",
   "metadata": {},
   "source": [
    "or in terms of the coordinates $(X,Y,Z)$:"
   ]
  },
  {
   "cell_type": "code",
   "execution_count": null,
   "metadata": {},
   "outputs": [],
   "source": [
    "graph = Graphics()\n",
    "for eta_v, param in etas.items():\n",
    "    color = param[0]\n",
    "    beta_min, beta_max = param[1]\n",
    "    nb = param[2]\n",
    "    db = (beta_max - beta_min)/(nb-1)\n",
    "    betas = [beta_min + db*k for k in range(nb)]\n",
    "    for beta_v in betas:\n",
    "        F = fiber(eta_v, beta_v)\n",
    "        F.coord_expr(stereoN.restrict(B))\n",
    "        graph += F.plot(chart=X4, ambient_coords=(X,Y,Z), \n",
    "                        mapping=Phi, color=color, \n",
    "                        plot_points=100, label_axes=None)\n",
    "show(graph, axes_labels=['X', 'Y', 'Z'])"
   ]
  },
  {
   "cell_type": "markdown",
   "metadata": {},
   "source": [
    "In this notebook, we have used 18 charts on $\\mathbb{S}^3$:"
   ]
  },
  {
   "cell_type": "code",
   "execution_count": null,
   "metadata": {},
   "outputs": [],
   "source": [
    "S3.atlas()"
   ]
  },
  {
   "cell_type": "code",
   "execution_count": null,
   "metadata": {},
   "outputs": [],
   "source": [
    "len(S3.atlas())"
   ]
  },
  {
   "cell_type": "markdown",
   "metadata": {},
   "source": [
    "corresponding actually to 4 different coordinate systems:"
   ]
  },
  {
   "cell_type": "code",
   "execution_count": null,
   "metadata": {},
   "outputs": [],
   "source": [
    "S3.top_charts()"
   ]
  },
  {
   "cell_type": "code",
   "execution_count": null,
   "metadata": {},
   "outputs": [],
   "source": [
    "print(\"Total elapsed time: {} s\".format(time.perf_counter() - comput_time0))"
   ]
  },
  {
   "cell_type": "markdown",
   "metadata": {},
   "source": [
    "For a follow-up, see the [notebook devoted to vector fields](http://nbviewer.jupyter.org/github/sagemanifolds/SageManifolds/blob/master/Notebooks/SM_sphere_S3_vectors.ipynb) on $\\mathbb{S}^3$.\n",
    "\n",
    "You may also visit [Niles Johnson's page](http://nilesjohnson.net/hopf.html) for a very nice \n",
    "animated 3D visualization of the Hopf fibration, also constructed with SageMath."
   ]
  }
 ],
 "metadata": {
  "kernelspec": {
   "display_name": "SageMath 9.2.beta6",
   "language": "sage",
   "name": "sagemath"
  },
  "language_info": {
   "codemirror_mode": {
    "name": "ipython",
    "version": 3
   },
   "file_extension": ".py",
   "mimetype": "text/x-python",
   "name": "python",
   "nbconvert_exporter": "python",
   "pygments_lexer": "ipython3",
   "version": "3.7.3"
  }
 },
 "nbformat": 4,
 "nbformat_minor": 1
}
