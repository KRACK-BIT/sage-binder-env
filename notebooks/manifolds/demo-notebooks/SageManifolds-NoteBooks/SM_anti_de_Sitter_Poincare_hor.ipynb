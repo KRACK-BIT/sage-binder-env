{
 "cells": [
  {
   "cell_type": "markdown",
   "metadata": {},
   "source": [
    "# AdS Poincaré horizon as a degenerate Killing horizon"
   ]
  },
  {
   "cell_type": "markdown",
   "metadata": {},
   "source": [
    "This notebook demonstrates some capabilities of [SageMath](https://www.sagemath.org/) in computations regarding the Poincaré horizon of the 4-dimensional anti-de Sitter spacetime. It also provides computations and figures for Example 17 of Chap. 3 of the lecture notes [Geometry and physics of black holes](https://luth.obspm.fr/~luthier/gourgoulhon/bh16/). \n",
    "\n",
    "The corresponding tools have been developed within the  [SageManifolds](https://sagemanifolds.obspm.fr) project."
   ]
  },
  {
   "cell_type": "code",
   "execution_count": null,
   "metadata": {},
   "outputs": [],
   "source": [
    "version()"
   ]
  },
  {
   "cell_type": "markdown",
   "metadata": {},
   "source": [
    "First we set up the notebook to display mathematical objects using LaTeX rendering and we ask for running tensor computations in parallel on 8 threads:"
   ]
  },
  {
   "cell_type": "code",
   "execution_count": null,
   "metadata": {},
   "outputs": [],
   "source": [
    "%display latex\n",
    "Parallelism().set(nproc=8)"
   ]
  },
  {
   "cell_type": "markdown",
   "metadata": {},
   "source": [
    "## Spacetime manifold\n",
    "\n",
    "We declare the anti-de Sitter spacetime as a 4-dimensional Lorentzian manifold:"
   ]
  },
  {
   "cell_type": "code",
   "execution_count": null,
   "metadata": {},
   "outputs": [],
   "source": [
    "M = Manifold(4, 'M', latex_name=r'\\mathscr{M}', structure='Lorentzian')\n",
    "print(M)\n",
    "M"
   ]
  },
  {
   "cell_type": "markdown",
   "metadata": {},
   "source": [
    "and endow it with the **conformal coordinates** $(\\tau, \\chi, \\theta,\\phi)$\n",
    "(cf. the generic [anti-de Sitter notebook](https://nbviewer.jupyter.org/github/sagemanifolds/SageManifolds/blob/master/Notebooks/SM_anti_de_Sitter.ipynb)):"
   ]
  },
  {
   "cell_type": "code",
   "execution_count": null,
   "metadata": {},
   "outputs": [],
   "source": [
    "X_conf.<ta,ch,th,ph> = M.chart(r'ta:\\tau ch:(0,pi/2):\\chi th:(0,pi):\\theta ph:(0,2*pi):periodic:\\phi')\n",
    "print(X_conf)\n",
    "X_conf"
   ]
  },
  {
   "cell_type": "code",
   "execution_count": null,
   "metadata": {},
   "outputs": [],
   "source": [
    "X_conf.coord_range()"
   ]
  },
  {
   "cell_type": "markdown",
   "metadata": {},
   "source": [
    "### Spacetime metric"
   ]
  },
  {
   "cell_type": "markdown",
   "metadata": {},
   "source": [
    "First of all, we declare the AdS length scale $\\ell$ as a symbolic variable:"
   ]
  },
  {
   "cell_type": "code",
   "execution_count": null,
   "metadata": {},
   "outputs": [],
   "source": [
    "var('l', latex_name=r'\\ell', domain='real')\n",
    "assume(l>0)"
   ]
  },
  {
   "cell_type": "markdown",
   "metadata": {},
   "source": [
    "Then we define the metric tensor $g$ by providing its nonzero components:"
   ]
  },
  {
   "cell_type": "code",
   "execution_count": null,
   "metadata": {},
   "outputs": [],
   "source": [
    "g = M.metric()\n",
    "g[0,0] = -l^2/cos(ch)^2\n",
    "g[1,1] = l^2/cos(ch)^2\n",
    "g[2,2] = l^2/cos(ch)^2*sin(ch)^2\n",
    "g[3,3] = l^2/cos(ch)^2*sin(ch)^2*sin(th)^2\n",
    "g.display()"
   ]
  },
  {
   "cell_type": "markdown",
   "metadata": {},
   "source": [
    "Let us check that $g$ is a solution of the vaccum **Einstein equation** with the cosmological constant\n",
    "$\\Lambda = - 3 /\\ell^2$:"
   ]
  },
  {
   "cell_type": "code",
   "execution_count": null,
   "metadata": {},
   "outputs": [],
   "source": [
    "Ric = g.ricci()\n",
    "R = g.ricci_scalar()\n",
    "Lambda = -3/l^2\n",
    "\n",
    "Ric - 1/2*R*g + Lambda*g == 0"
   ]
  },
  {
   "cell_type": "markdown",
   "metadata": {},
   "source": [
    "## Poincaré patch"
   ]
  },
  {
   "cell_type": "markdown",
   "metadata": {},
   "source": [
    "The **Poincaré patch** is the open subset $\\mathscr{M}_{\\rm P}$ of $\\mathscr{M}$ defined by\n",
    "$$ \\cos\\tau - \\sin\\chi \\sin\\theta \\cos\\phi > 0 \\quad\\mbox{and}\\quad -\\pi < \\tau < \\pi.$$\n",
    "Hence we declare it as"
   ]
  },
  {
   "cell_type": "code",
   "execution_count": null,
   "metadata": {},
   "outputs": [],
   "source": [
    "MP = M.open_subset('MP', latex_name=r'\\mathscr{M}_{\\rm P}', \n",
    "                   coord_def={X_conf: [cos(ta) - sin(ch)*sin(th)*cos(ph)>0, ta>-pi, ta<pi]})\n",
    "print(MP)\n",
    "MP"
   ]
  },
  {
   "cell_type": "markdown",
   "metadata": {},
   "source": [
    "We introduce the **Poincaré coordinates** $(t,x,y,u)$ on $\\mathscr{M}_{\\rm P}$ as"
   ]
  },
  {
   "cell_type": "code",
   "execution_count": null,
   "metadata": {},
   "outputs": [],
   "source": [
    "X_Poinc.<t,x,y,u> = MP.chart('t x y u:(0,+oo)')\n",
    "X_Poinc"
   ]
  },
  {
   "cell_type": "code",
   "execution_count": null,
   "metadata": {},
   "outputs": [],
   "source": [
    "X_Poinc.coord_range()"
   ]
  },
  {
   "cell_type": "markdown",
   "metadata": {},
   "source": [
    "The Poincaré coordinates are defined by their link to the conformal coordinates, which we declare via the method `transition_map` on the restriction of the conformal coordinates to $\\mathscr{M}_{\\rm P}$, `X_conf.restrict(MP)`:"
   ]
  },
  {
   "cell_type": "code",
   "execution_count": null,
   "metadata": {},
   "outputs": [],
   "source": [
    "conf_to_Poinc = X_conf.restrict(MP).transition_map(X_Poinc, \n",
    "                            [l*sin(ta)/(cos(ta) - sin(ch)*sin(th)*cos(ph)),\n",
    "                             l*sin(ch)*sin(th)*sin(ph)/(cos(ta) - sin(ch)*sin(th)*cos(ph)),\n",
    "                             l*sin(ch)*cos(th)/(cos(ta) - sin(ch)*sin(th)*cos(ph)),\n",
    "                             l*(cos(ta) - sin(ch)*sin(th)*cos(ph))/cos(ch)])\n",
    "conf_to_Poinc.display()"
   ]
  },
  {
   "cell_type": "markdown",
   "metadata": {},
   "source": [
    "In order to help SageMath with simplifications, we explicitly set some assumptions:"
   ]
  },
  {
   "cell_type": "code",
   "execution_count": null,
   "metadata": {},
   "outputs": [],
   "source": [
    "assume(sin(ch)>0, sin(th)>0)\n",
    "assume(cos(ta) - sin(ch)*sin(th)*cos(ph)>0)"
   ]
  },
  {
   "cell_type": "markdown",
   "metadata": {},
   "source": [
    "We provide the inverse of the coordinate change $(\\tau,\\chi,\\theta,\\phi) \\mapsto (t,x,y,u)$ by means of the method `set_inverse`:"
   ]
  },
  {
   "cell_type": "code",
   "execution_count": null,
   "metadata": {},
   "outputs": [],
   "source": [
    "conf_to_Poinc.set_inverse(atan2(2*l*t, x^2+y^2-t^2+l^2*(1+l^2/u^2)),\n",
    "            acos(2*l^3/u/sqrt((x^2+y^2-t^2+l^2*(1+l^2/u^2))^2 + 4*l^2*t^2)),\n",
    "            acos(2*l*y/sqrt((x^2+y^2-t^2+l^2*(1+l^2/u^2))^2\n",
    "                                                    + 4*l^2*(t^2-l^4/u^2))),\n",
    "            atan2(2*l*x, x^2+y^2-t^2-l^2*(1-l^2/u^2)))          "
   ]
  },
  {
   "cell_type": "code",
   "execution_count": null,
   "metadata": {},
   "outputs": [],
   "source": [
    "conf_to_Poinc.inverse().display()"
   ]
  },
  {
   "cell_type": "markdown",
   "metadata": {},
   "source": [
    "We note that the Jacobian of the coordinate change is quite involved:"
   ]
  },
  {
   "cell_type": "code",
   "execution_count": null,
   "metadata": {},
   "outputs": [],
   "source": [
    "conf_to_Poinc.jacobian()"
   ]
  },
  {
   "cell_type": "markdown",
   "metadata": {},
   "source": [
    "### Plot of the Poincaré coordinate grid in terms of the conformal coordinates $(\\tau,\\chi)$"
   ]
  },
  {
   "cell_type": "markdown",
   "metadata": {},
   "source": [
    "For plotting purposes, we introduce the 2-dimensional plane $\\mathbb{R}^2$, spanned by\n",
    "Cartesian coordinates $(\\tau, x_\\chi)$:"
   ]
  },
  {
   "cell_type": "code",
   "execution_count": null,
   "metadata": {},
   "outputs": [],
   "source": [
    "R2 = Manifold(2, 'R^2', latex_name=r'\\mathbb{R}^2')\n",
    "X2.<ta, x_ch> = R2.chart(r'ta:\\tau x_ch:x_\\chi')\n",
    "X2"
   ]
  },
  {
   "cell_type": "markdown",
   "metadata": {},
   "source": [
    "and define the following map from AdS spacetime to $\\mathbb{R}^2$:"
   ]
  },
  {
   "cell_type": "code",
   "execution_count": null,
   "metadata": {},
   "outputs": [],
   "source": [
    "Phi = M.diff_map(R2, {(X_conf, X2): [ta, ch*cos(ph)]})\n",
    "Phi.display()"
   ]
  },
  {
   "cell_type": "markdown",
   "metadata": {},
   "source": [
    "Let us the grid of coordinates $(t,u)$ for $(x,y)=(0,0)$ in terms of the coordinates $(\\tau,\\chi)$. This is achieved by using the method `plot` on the chart `X_Poinc`:"
   ]
  },
  {
   "cell_type": "code",
   "execution_count": null,
   "metadata": {},
   "outputs": [],
   "source": [
    "graph1 = X_Poinc.plot(X2, ambient_coords=(x_ch, ta), mapping=Phi.restrict(MP),\n",
    "                      fixed_coords={x: 0, y: 0}, \n",
    "                      ranges={t: (-15, 15), u: (0.01, 12)}, parameters={l: 1},\n",
    "                      color={t: 'red', u: 'grey'}, number_values={t: 33, u: 25}, \n",
    "                      plot_points=200)"
   ]
  },
  {
   "cell_type": "markdown",
   "metadata": {},
   "source": [
    "We superpose the plot of the Poincaré horizon and a few labels:"
   ]
  },
  {
   "cell_type": "code",
   "execution_count": null,
   "metadata": {},
   "outputs": [],
   "source": [
    "graph = polygon([(-pi/2, -pi), (pi/2, 0), (-pi/2, pi)], color='cornsilk')\n",
    "graph += graph1\n",
    "graph_hor = plot(pi/2 - ch, (ch, -pi/2, pi/2), color='green',\n",
    "                 thickness=3) \\\n",
    "           + plot(ch - pi/2, (ch, -pi/2, pi/2), color='green',\n",
    "                  thickness=3) \\\n",
    "           + text(r'$\\mathscr{H}$', (-0.9, 2.85), fontsize=18, color='green')\n",
    "graph += graph_hor\n",
    "region_labels = text(r'$\\mathscr{M}$', (1, 2.5), fontsize=18, color='black') \\\n",
    "                + text(r'$\\mathscr{M}_{\\rm P}$', (-0.4, 0.5), fontsize=18, \n",
    "                       color='black')\n",
    "graph += region_labels\n",
    "\n",
    "show(graph, frame=True, gridlines=True, figsize=8)\n",
    "graph.save('neh_AdS_Poincare_patch.pdf', frame=True, \n",
    "           gridlines=True, figsize=8)"
   ]
  },
  {
   "cell_type": "markdown",
   "metadata": {},
   "source": [
    "## Metric tensor in terms of Poincaré coordinates "
   ]
  },
  {
   "cell_type": "markdown",
   "metadata": {},
   "source": [
    "The computation of the metric components with respect to Poincaré coordinates is triggered by the method `display` when it receives the Poincaré chart `X_Poinc` as an argument:"
   ]
  },
  {
   "cell_type": "code",
   "execution_count": null,
   "metadata": {},
   "outputs": [],
   "source": [
    "g.display(X_Poinc)"
   ]
  },
  {
   "cell_type": "markdown",
   "metadata": {},
   "source": [
    "## Killing vector $\\xi$"
   ]
  },
  {
   "cell_type": "markdown",
   "metadata": {},
   "source": [
    "Since the above components of $g$ do not depend of $t$, the coordinate vector $\\displaystyle\\frac{\\partial}{\\partial t}$ is clearly a Killing vector of $(\\mathscr{M}_{\\rm P}, g)$. Its expression in terms the conformal coordinates is"
   ]
  },
  {
   "cell_type": "code",
   "execution_count": null,
   "metadata": {},
   "outputs": [],
   "source": [
    "vt = X_Poinc.frame()[0]\n",
    "vt.display()"
   ]
  },
  {
   "cell_type": "markdown",
   "metadata": {},
   "source": [
    "Let us check that $\\xi$ is indeed a Killing vector of $(\\mathcal{M}_{\\rm P}, g)$:"
   ]
  },
  {
   "cell_type": "code",
   "execution_count": null,
   "metadata": {},
   "outputs": [],
   "source": [
    "g.restrict(MP).lie_derivative(vt).display()"
   ]
  },
  {
   "cell_type": "markdown",
   "metadata": {},
   "source": [
    "We note that the components of $\\partial/\\partial t$ with respect to conformal coordinates are smooth functions\n",
    "of $(\\tau,\\chi,\\theta,\\phi)$ that can be extended beyond $\\mathscr{M}_{\\rm P}$. We may therefore extend $\\partial/\\partial t$ to a vector field $\\xi$ defined on the entire AdS spacetime $\\mathscr{M}$:"
   ]
  },
  {
   "cell_type": "code",
   "execution_count": null,
   "metadata": {},
   "outputs": [],
   "source": [
    "xi = M.vector_field([vt[i].expr() for i in M.irange()], \n",
    "                    name='xi', latex_name=r'\\xi')\n",
    "xi.display()"
   ]
  },
  {
   "cell_type": "markdown",
   "metadata": {},
   "source": [
    "Let us check that the restriction of $\\xi$ to $\\mathscr{M}_{\\rm P}$ coincides with $\\partial/\\partial t$:"
   ]
  },
  {
   "cell_type": "code",
   "execution_count": null,
   "metadata": {},
   "outputs": [],
   "source": [
    "xi.restrict(MP).display(X_Poinc)"
   ]
  },
  {
   "cell_type": "markdown",
   "metadata": {},
   "source": [
    "$\\xi$ is a global Killing vector:"
   ]
  },
  {
   "cell_type": "code",
   "execution_count": null,
   "metadata": {},
   "outputs": [],
   "source": [
    "g.lie_derivative(xi).display()"
   ]
  },
  {
   "cell_type": "markdown",
   "metadata": {},
   "source": [
    "Another view of the same property by forming the **Killing equation** $\\nabla_a \\xi_b + \\nabla_b \\xi_a = 0$:"
   ]
  },
  {
   "cell_type": "code",
   "execution_count": null,
   "metadata": {},
   "outputs": [],
   "source": [
    "nabla = g.connection()\n",
    "\n",
    "nabla(xi.down(g)).symmetrize().display()"
   ]
  },
  {
   "cell_type": "markdown",
   "metadata": {},
   "source": [
    "### Plot of $\\xi$"
   ]
  },
  {
   "cell_type": "code",
   "execution_count": null,
   "metadata": {},
   "outputs": [],
   "source": [
    "graph = polygon([(-pi/2, -pi), (pi/2, 0), (-pi/2, pi)], color='cornsilk')\n",
    "\n",
    "graph += xi.plot(X2, ambient_coords=(x_ch, ta), mapping=Phi,\n",
    "                 fixed_coords={th: pi/2}, parameters={l: 1},\n",
    "                 ranges={ta: (-pi, pi)}, number_values={ta: 11, ch: 7, ph: 3},\n",
    "                 color='red', scale=0.3, arrowsize=2)\n",
    "\n",
    "graph += graph_hor\n",
    "show(graph, frame=True, gridlines=True, figsize=8, aspect_ratio=1)\n",
    "graph.save(\"neh_AdS_Killing_vec.pdf\", frame=True, gridlines=True, \n",
    "           figsize=8, aspect_ratio=1)"
   ]
  },
  {
   "cell_type": "markdown",
   "metadata": {},
   "source": [
    "## $u$ as a scalar field on the whole AdS spacetime"
   ]
  },
  {
   "cell_type": "markdown",
   "metadata": {},
   "source": [
    "The expression of the Poincaré coordinate $u$ in terms of the conformal coordinates $(\\tau,\\chi,\\theta,\\phi)$\n",
    "is read as the last component (index `3`) of the coordinate transformation `conf_to_Poinc`, which \n",
    "implements $(\\tau,\\chi,\\theta,\\phi)\\mapsto (t,x,y,u)$:"
   ]
  },
  {
   "cell_type": "code",
   "execution_count": null,
   "metadata": {},
   "outputs": [],
   "source": [
    "conf_to_Poinc(ta, ch, th, ph)"
   ]
  },
  {
   "cell_type": "code",
   "execution_count": null,
   "metadata": {},
   "outputs": [],
   "source": [
    "conf_to_Poinc(ta, ch, th, ph)[3]"
   ]
  },
  {
   "cell_type": "markdown",
   "metadata": {},
   "source": [
    "This expression being regular in all $\\mathscr{M}$, we may extend $u$ to a scalar field defined on $\\mathscr{M}$ by"
   ]
  },
  {
   "cell_type": "code",
   "execution_count": null,
   "metadata": {},
   "outputs": [],
   "source": [
    "U = M.scalar_field(conf_to_Poinc(ta, ch, th, ph)[3], name='u')\n",
    "U.display()"
   ]
  },
  {
   "cell_type": "markdown",
   "metadata": {},
   "source": [
    "## The Poincaré horizon as the submanifold $u=0$"
   ]
  },
  {
   "cell_type": "markdown",
   "metadata": {},
   "source": [
    "The **Poincaré horizon** \n",
    "is the hypersurface $\\mathscr{H}$ bounding the Poincaré patch $\\mathscr{M}_{\\rm P}$ in \n",
    "$\\mathscr{M}$. It follows that $\\mathscr{H}$ is the level set $u=0$ within the region $-\\pi<\\tau<\\pi$.\n",
    "$\\mathscr{H}$ has actually two connected components: one for $-\\pi < \\tau < 0$ and the other one\n",
    "for $0 < \\tau <\\pi$. In what follows, we focus on the connected component that has $0 < \\tau <\\pi$; we define\n",
    "it as a submanifold of $\\mathscr{M}$, by means of the keyword `ambient` in the function `Manifold`:"
   ]
  },
  {
   "cell_type": "code",
   "execution_count": null,
   "metadata": {},
   "outputs": [],
   "source": [
    "H = Manifold(3, 'H', ambient=M, latex_name=r'\\mathscr{H}')\n",
    "print(H)"
   ]
  },
  {
   "cell_type": "markdown",
   "metadata": {},
   "source": [
    "We consider that $\\mathscr{H}$ is spanned by the coordinates $(\\chi,\\theta,\\phi)$, so that we declare the following \n",
    "chart:"
   ]
  },
  {
   "cell_type": "code",
   "execution_count": null,
   "metadata": {},
   "outputs": [],
   "source": [
    "XH.<ch,th,ph> = H.chart(r'ch:(0,pi/2):\\chi th:(0,pi):\\theta ph:(0,2*pi):periodic:\\phi')\n",
    "XH"
   ]
  },
  {
   "cell_type": "markdown",
   "metadata": {},
   "source": [
    "The **embedding $F$ of** $\\mathscr{H}$ **into** $\\mathscr{M}$ is easily defined in the pair of charts\n",
    "`(XH, X_conf)` by noticing that, for $0 < \\tau <\\pi$,  $u=0 \\iff \\tau = \\arccos(\\sin\\chi\\sin\\theta\\cos\\phi)$:"
   ]
  },
  {
   "cell_type": "code",
   "execution_count": null,
   "metadata": {},
   "outputs": [],
   "source": [
    "F = H.diff_map(M, {(XH, X_conf): (acos(sin(ch)*sin(th)*cos(ph)), ch, th, ph)},\n",
    "               name='F')\n",
    "F.display()"
   ]
  },
  {
   "cell_type": "markdown",
   "metadata": {},
   "source": [
    "We declare that $F$ is the embedding of $\\mathscr{H}$ into $\\mathscr{M}$, thereby ending the definition of $\\mathscr{H}$:"
   ]
  },
  {
   "cell_type": "code",
   "execution_count": null,
   "metadata": {},
   "outputs": [],
   "source": [
    "H.set_embedding(F)\n",
    "print(H)"
   ]
  },
  {
   "cell_type": "markdown",
   "metadata": {},
   "source": [
    "We may check that the scalar field $u$ is zero on $\\mathscr{H}$ by considering the pullback of $u$ by $F$:"
   ]
  },
  {
   "cell_type": "code",
   "execution_count": null,
   "metadata": {},
   "outputs": [],
   "source": [
    "FU = F.pullback(U)\n",
    "print(FU)"
   ]
  },
  {
   "cell_type": "code",
   "execution_count": null,
   "metadata": {},
   "outputs": [],
   "source": [
    "FU.display()"
   ]
  },
  {
   "cell_type": "markdown",
   "metadata": {},
   "source": [
    "### Null character of the hypersurface $\\mathscr{H}$"
   ]
  },
  {
   "cell_type": "markdown",
   "metadata": {},
   "source": [
    "The metric induced by $g$ on $\\mathscr{H}$ is obtained as the pullback of $g$ by the embedding $F$:"
   ]
  },
  {
   "cell_type": "code",
   "execution_count": null,
   "metadata": {},
   "outputs": [],
   "source": [
    "Fg = F.pullback(g)\n",
    "print(Fg)"
   ]
  },
  {
   "cell_type": "code",
   "execution_count": null,
   "metadata": {},
   "outputs": [],
   "source": [
    "Fg.display()"
   ]
  },
  {
   "cell_type": "markdown",
   "metadata": {},
   "source": [
    "We declare a metric $h$ on $\\mathscr{H}$ and initialize it with the pullback $F^* g$:"
   ]
  },
  {
   "cell_type": "code",
   "execution_count": null,
   "metadata": {},
   "outputs": [],
   "source": [
    "h = H.metric('h')\n",
    "h.set(Fg)\n",
    "h.display()"
   ]
  },
  {
   "cell_type": "markdown",
   "metadata": {},
   "source": [
    "This is a degenerate metric:"
   ]
  },
  {
   "cell_type": "code",
   "execution_count": null,
   "metadata": {},
   "outputs": [],
   "source": [
    "h.determinant().display()"
   ]
  },
  {
   "cell_type": "markdown",
   "metadata": {},
   "source": [
    "Hence the Poincaré horizon $\\mathscr{H}$ is a **null hypersurface**. "
   ]
  },
  {
   "cell_type": "markdown",
   "metadata": {},
   "source": [
    "### The normal to the Poincaré horizon"
   ]
  },
  {
   "cell_type": "markdown",
   "metadata": {},
   "source": [
    "Since $\\mathscr{H}$ is the isosurface $u=0$, its normal $k$ is defined as the gradient of $u$:"
   ]
  },
  {
   "cell_type": "code",
   "execution_count": null,
   "metadata": {},
   "outputs": [],
   "source": [
    "dU = diff(U)\n",
    "dU.display()"
   ]
  },
  {
   "cell_type": "markdown",
   "metadata": {},
   "source": [
    "`dU` is a 1-form; we turn it into a vector field by raising its index with the metric $g$, via the method `up`:"
   ]
  },
  {
   "cell_type": "code",
   "execution_count": null,
   "metadata": {},
   "outputs": [],
   "source": [
    "k = dU.up(g)\n",
    "k.set_name('k')\n",
    "k.display()"
   ]
  },
  {
   "cell_type": "markdown",
   "metadata": {},
   "source": [
    "Plot of $k$:"
   ]
  },
  {
   "cell_type": "code",
   "execution_count": null,
   "metadata": {},
   "outputs": [],
   "source": [
    "graph = k.plot(X2, ambient_coords=(x_ch, ta), mapping=Phi,\n",
    "               fixed_coords={th: pi/2}, parameters={l: 1},\n",
    "               ranges={ta: (-pi, pi)}, number_values={ta: 11, ch: 7, ph: 3},\n",
    "               color='orange', scale=0.3, arrowsize=2)\n",
    "graph += graph_hor\n",
    "graph += line([(-pi/2, -pi), (-pi/2, pi)], color='black')\n",
    "graph += line([(pi/2, -pi), (pi/2, pi)], color='black')\n",
    "show(graph, frame=True, gridlines=True, figsize=8, aspect_ratio=1)"
   ]
  },
  {
   "cell_type": "markdown",
   "metadata": {},
   "source": [
    "We note that, graphically, $k$ appears tangent to $\\mathscr{H}$, in agreement with $\\mathscr{H}$ being a null hypersurface (the only kind of hypersurface for which the normal is also tangent to the hypersurface)."
   ]
  },
  {
   "cell_type": "markdown",
   "metadata": {},
   "source": [
    "The spacetime metric $g$ restricted to $\\mathscr{H}$ is evaluated by means of the method `along`:"
   ]
  },
  {
   "cell_type": "code",
   "execution_count": null,
   "metadata": {},
   "outputs": [],
   "source": [
    "g_H = H.lorentzian_metric('g_H', latex_name=r'\\left.g\\right|_{\\mathscr{H}}', \n",
    "                          dest_map=F)\n",
    "g_H.set(g.along(F))\n",
    "print(g_H)"
   ]
  },
  {
   "cell_type": "code",
   "execution_count": null,
   "metadata": {},
   "outputs": [],
   "source": [
    "g_H.display()"
   ]
  },
  {
   "cell_type": "markdown",
   "metadata": {},
   "source": [
    "The vector field $k$ restricted to $\\mathscr{H}$:"
   ]
  },
  {
   "cell_type": "code",
   "execution_count": null,
   "metadata": {},
   "outputs": [],
   "source": [
    "k_H = k.along(F)\n",
    "k_H.set_name('k_H', latex_name=r'\\left.k\\right|_{\\mathscr{H}}')\n",
    "print(k_H)"
   ]
  },
  {
   "cell_type": "code",
   "execution_count": null,
   "metadata": {},
   "outputs": [],
   "source": [
    "k_H.display()"
   ]
  },
  {
   "cell_type": "markdown",
   "metadata": {},
   "source": [
    "Check that $\\left.k\\right|_{\\mathscr{H}}$ is a null vector field:"
   ]
  },
  {
   "cell_type": "code",
   "execution_count": null,
   "metadata": {},
   "outputs": [],
   "source": [
    "g_H(k_H, k_H).expr()"
   ]
  },
  {
   "cell_type": "markdown",
   "metadata": {},
   "source": [
    "Since $\\left.k\\right|_{\\mathscr{H}}$ is normal to $\\mathscr{H}$, we recover the fact that $\\mathscr{H}$ is a null hypersurface. "
   ]
  },
  {
   "cell_type": "markdown",
   "metadata": {},
   "source": [
    "### Killing horizon character "
   ]
  },
  {
   "cell_type": "markdown",
   "metadata": {},
   "source": [
    "The Killing vector field $\\xi$ restricted to $\\mathscr{H}$:"
   ]
  },
  {
   "cell_type": "code",
   "execution_count": null,
   "metadata": {},
   "outputs": [],
   "source": [
    "xi_H = xi.along(F)\n",
    "xi_H.set_name('xi_H', latex_name=r'\\left.\\xi\\right|_{\\mathscr{H}}')\n",
    "print(xi_H)"
   ]
  },
  {
   "cell_type": "code",
   "execution_count": null,
   "metadata": {},
   "outputs": [],
   "source": [
    "xi_H.display()"
   ]
  },
  {
   "cell_type": "markdown",
   "metadata": {},
   "source": [
    "Value of $\\tau$ on $\\mathscr{H}$:"
   ]
  },
  {
   "cell_type": "code",
   "execution_count": null,
   "metadata": {},
   "outputs": [],
   "source": [
    "ta_H = F.expr()[0]\n",
    "ta_H"
   ]
  },
  {
   "cell_type": "markdown",
   "metadata": {},
   "source": [
    "We check that\n",
    "$ \\xi \\stackrel{\\mathscr{H}}{=} \\frac{\\sin\\tau}{\\cos\\chi} \\, k $:"
   ]
  },
  {
   "cell_type": "code",
   "execution_count": null,
   "metadata": {},
   "outputs": [],
   "source": [
    "xi_H == sin(ta_H)/cos(ch)*k_H"
   ]
  },
  {
   "cell_type": "markdown",
   "metadata": {},
   "source": [
    "Hence, on $\\mathscr{H}$, the Killing vector $\\xi$ is normal to $\\mathscr{H}$. \n",
    "$\\mathscr{H}$ being a null hypersurface, this implies that $\\mathscr{H}$ **is a Killing horizon**."
   ]
  },
  {
   "cell_type": "markdown",
   "metadata": {},
   "source": [
    "As a consequence, $\\xi$ must be a null vector on $\\mathscr{H}$. We can check this property by computing the scalar square of $\\xi$ in all $\\mathscr{M}$:"
   ]
  },
  {
   "cell_type": "code",
   "execution_count": null,
   "metadata": {},
   "outputs": [],
   "source": [
    "xi2 = g(xi, xi)\n",
    "xi2.display()"
   ]
  },
  {
   "cell_type": "markdown",
   "metadata": {},
   "source": [
    "and notice that it is equal to $-u^2/\\ell^2$:"
   ]
  },
  {
   "cell_type": "code",
   "execution_count": null,
   "metadata": {},
   "outputs": [],
   "source": [
    "xi2 == - U^2/l^2"
   ]
  },
  {
   "cell_type": "markdown",
   "metadata": {},
   "source": [
    "so that $\\xi$ is null on $\\mathscr{H}$ as a direct consequence of the vanishing of $u$ on $\\mathscr{H}$. Incidentally, the above formula implies that the Killing vector $\\xi$ is timelike everywhere on the AdS spacetime, except on the Poincaré horizon, where it is null. "
   ]
  },
  {
   "cell_type": "markdown",
   "metadata": {},
   "source": [
    "## Degenerate character of the Killing horizon $\\mathscr{H}$ "
   ]
  },
  {
   "cell_type": "markdown",
   "metadata": {},
   "source": [
    "The **non-affinity coefficient** $\\kappa$ of $\\xi$ on $\\mathscr{H}$ is defined by $\\nabla_\\xi \\xi \\stackrel{\\mathscr{H}}{=} \\kappa \\xi$. To compute $\\kappa$, we first compute the \"acceleration\" vector\n",
    "$\\nabla_\\xi \\xi$:"
   ]
  },
  {
   "cell_type": "code",
   "execution_count": null,
   "metadata": {},
   "outputs": [],
   "source": [
    "acc = nabla(xi).contract(xi)\n",
    "acc.display()"
   ]
  },
  {
   "cell_type": "markdown",
   "metadata": {},
   "source": [
    "and subsquently evaluate it on $\\mathscr{H}$:"
   ]
  },
  {
   "cell_type": "code",
   "execution_count": null,
   "metadata": {},
   "outputs": [],
   "source": [
    "acc.along(F).display()"
   ]
  },
  {
   "cell_type": "markdown",
   "metadata": {},
   "source": [
    "Hence we get $\\kappa = 0$, so that the Poincaré horizon $\\mathscr{H}$ is a **degenerate Killing horizon**. "
   ]
  },
  {
   "cell_type": "markdown",
   "metadata": {},
   "source": [
    "Note that $\\kappa = 0$ can also be obtained via the formula\n",
    "$$\\mathrm{d}(\\xi\\cdot\\xi) \\stackrel{\\mathscr{H}}{=} -2 \\kappa  \\underline{\\xi} . $$\n",
    "which holds for any Killing horizon. The left hand side is computed as"
   ]
  },
  {
   "cell_type": "code",
   "execution_count": null,
   "metadata": {},
   "outputs": [],
   "source": [
    "dxi2 = diff(xi2)\n",
    "dxi2.display()"
   ]
  },
  {
   "cell_type": "markdown",
   "metadata": {},
   "source": [
    "The restriction of this 1-form to $\\mathscr{H}$ is computed by means of the method `along`:"
   ]
  },
  {
   "cell_type": "code",
   "execution_count": null,
   "metadata": {},
   "outputs": [],
   "source": [
    "dxi2_H = dxi2.along(F)\n",
    "print(dxi2_H)"
   ]
  },
  {
   "cell_type": "code",
   "execution_count": null,
   "metadata": {},
   "outputs": [],
   "source": [
    "dxi2_H.display()"
   ]
  },
  {
   "cell_type": "markdown",
   "metadata": {},
   "source": [
    "Hence $\\mathrm{d}(\\xi\\cdot\\xi) \\stackrel{\\mathscr{H}}{=} 0$ and we recover $\\kappa=0$."
   ]
  }
 ],
 "metadata": {
  "kernelspec": {
   "display_name": "SageMath 9.5.beta1",
   "language": "sage",
   "name": "sagemath"
  },
  "language_info": {
   "codemirror_mode": {
    "name": "ipython",
    "version": 3
   },
   "file_extension": ".py",
   "mimetype": "text/x-python",
   "name": "python",
   "nbconvert_exporter": "python",
   "pygments_lexer": "ipython3",
   "version": "3.8.10"
  }
 },
 "nbformat": 4,
 "nbformat_minor": 4
}
