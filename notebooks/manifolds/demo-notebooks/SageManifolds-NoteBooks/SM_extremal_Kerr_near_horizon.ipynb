{
 "cells": [
  {
   "cell_type": "markdown",
   "metadata": {},
   "source": [
    "# Near-horizon geometry of the extremal Kerr black hole\n"
   ]
  },
  {
   "cell_type": "markdown",
   "metadata": {},
   "source": [
    "This notebook derives the near-horizon geometry of the extremal (i.e. maximally spinning) Kerr black hole. It is based on SageMath tools developed through the [SageManifolds project](https://sagemanifolds.obspm.fr/). \n",
    "\n",
    "This notebook requires a version of SageMath at least equal to 9.4:"
   ]
  },
  {
   "cell_type": "code",
   "execution_count": null,
   "metadata": {},
   "outputs": [],
   "source": [
    "version()"
   ]
  },
  {
   "cell_type": "markdown",
   "metadata": {},
   "source": [
    "First we set up the notebook to display mathematical objects using LaTeX rendering:"
   ]
  },
  {
   "cell_type": "code",
   "execution_count": null,
   "metadata": {},
   "outputs": [],
   "source": [
    "%display latex"
   ]
  },
  {
   "cell_type": "markdown",
   "metadata": {},
   "source": [
    "To speed up computations, we ask for running them in parallel on 8 threads:"
   ]
  },
  {
   "cell_type": "code",
   "execution_count": null,
   "metadata": {},
   "outputs": [],
   "source": [
    "Parallelism().set(nproc=8)"
   ]
  },
  {
   "cell_type": "markdown",
   "metadata": {},
   "source": [
    "## Spacetime manifold\n",
    "\n",
    "We declare the Kerr spacetime (or more precisely the part of it covered by Boyer-Lindquist coordinates) as a 4-dimensional Lorentzian manifold $\\mathcal{M}$:"
   ]
  },
  {
   "cell_type": "code",
   "execution_count": null,
   "metadata": {},
   "outputs": [],
   "source": [
    "M = Manifold(4, 'M', latex_name=r'\\mathcal{M}', structure='Lorentzian')\n",
    "print(M)"
   ]
  },
  {
   "cell_type": "markdown",
   "metadata": {},
   "source": [
    "We then introduce the standard **Boyer-Lindquist coordinates** $(t,r,\\theta,\\phi)$ as a chart `BL` (for *Boyer-Lindquist*) on $\\mathcal{M}$, via the method `chart()`. The argument of the latter is a string\n",
    "(delimited by `r\"...\"` because of the backslash symbols) expressing the coordinates names, their ranges (the default is $(-\\infty,+\\infty)$) and their LaTeX symbols:"
   ]
  },
  {
   "cell_type": "code",
   "execution_count": null,
   "metadata": {},
   "outputs": [],
   "source": [
    "BL.<t,r,th,ph> = M.chart(r\"t r th:(0,pi):\\theta ph:(0,2*pi):periodic:\\phi\") \n",
    "print(BL); BL"
   ]
  },
  {
   "cell_type": "code",
   "execution_count": null,
   "metadata": {},
   "outputs": [],
   "source": [
    "BL.coord_range()"
   ]
  },
  {
   "cell_type": "code",
   "execution_count": null,
   "metadata": {},
   "outputs": [],
   "source": [
    "BL[0]"
   ]
  },
  {
   "cell_type": "code",
   "execution_count": null,
   "metadata": {},
   "outputs": [],
   "source": [
    "BL[2]"
   ]
  },
  {
   "cell_type": "markdown",
   "metadata": {},
   "source": [
    "## Metric tensor of the extremal Kerr spacetime\n",
    "\n",
    "The mass parameter $m$ of the Kerr spacetime is declared as a symbolic variable:"
   ]
  },
  {
   "cell_type": "code",
   "execution_count": null,
   "metadata": {},
   "outputs": [],
   "source": [
    "m = var('m', domain='real')"
   ]
  },
  {
   "cell_type": "markdown",
   "metadata": {},
   "source": [
    "For the extremal Kerr black hole, the spin parameter $a$ reaches its upper bound, namely $m$:"
   ]
  },
  {
   "cell_type": "code",
   "execution_count": null,
   "metadata": {},
   "outputs": [],
   "source": [
    "a = m"
   ]
  },
  {
   "cell_type": "markdown",
   "metadata": {},
   "source": [
    "We get the (yet undefined) spacetime metric:"
   ]
  },
  {
   "cell_type": "code",
   "execution_count": null,
   "metadata": {},
   "outputs": [],
   "source": [
    "g = M.metric()"
   ]
  },
  {
   "cell_type": "markdown",
   "metadata": {},
   "source": [
    "The metric is set by providing its nonzero  components in the coordinate frame associated with Boyer-Lindquist coordinates, which is the current manifold's default frame:"
   ]
  },
  {
   "cell_type": "code",
   "execution_count": null,
   "metadata": {},
   "outputs": [],
   "source": [
    "rho2 = r^2 + (a*cos(th))^2\n",
    "Delta = r^2 -2*m*r + a^2\n",
    "g[0,0] = -(1-2*m*r/rho2)\n",
    "g[0,3] = -2*a*m*r*sin(th)^2/rho2\n",
    "g[1,1], g[2,2] = rho2/Delta, rho2\n",
    "g[3,3] = (r^2+a^2+2*m*r*(a*sin(th))^2/rho2)*sin(th)^2\n",
    "g.display()"
   ]
  },
  {
   "cell_type": "markdown",
   "metadata": {},
   "source": [
    "<p>A matrix view of the components with respect to the manifold's default vector frame:</p>"
   ]
  },
  {
   "cell_type": "code",
   "execution_count": null,
   "metadata": {},
   "outputs": [],
   "source": [
    "g[:]"
   ]
  },
  {
   "cell_type": "markdown",
   "metadata": {},
   "source": [
    "<p>The list of the non-vanishing components:</p>"
   ]
  },
  {
   "cell_type": "code",
   "execution_count": null,
   "metadata": {},
   "outputs": [],
   "source": [
    "g.display_comp()"
   ]
  },
  {
   "cell_type": "markdown",
   "metadata": {},
   "source": [
    "Let us check that we are dealing with a solution of the **vacuum Einstein equation**:"
   ]
  },
  {
   "cell_type": "code",
   "execution_count": null,
   "metadata": {},
   "outputs": [],
   "source": [
    "g.ricci().display()"
   ]
  },
  {
   "cell_type": "markdown",
   "metadata": {},
   "source": [
    "## Near-horizon coordinates\n",
    "\n",
    "Let us introduce the chart `NH` of the near-horizon coordinates $(T, R, \\theta, \\Phi)$:"
   ]
  },
  {
   "cell_type": "code",
   "execution_count": null,
   "metadata": {},
   "outputs": [],
   "source": [
    "NH.<T,R,th,Ph> = M.chart(r\"T R th:(0,pi):\\theta Ph:(0,2*pi):periodic:\\Phi\") \n",
    "print(NH)\n",
    "NH"
   ]
  },
  {
   "cell_type": "code",
   "execution_count": null,
   "metadata": {},
   "outputs": [],
   "source": [
    "M.atlas()"
   ]
  },
  {
   "cell_type": "markdown",
   "metadata": {},
   "source": [
    "Following J. Bardeen and G. T. Horowitz, \n",
    "[Phys. Rev. D **60**, 104030 (1999)](https://doi.org/10.1103/PhysRevD.60.104030) ([arXiv:hep-th/9905099](https://arxiv.org/abs/hep-th/9905099)), the near-horizon coordinates $(T, R, \\theta, \\Phi)$ are related to the Boyer-Lindquist coordinates by\n",
    "$$T = \\epsilon \\frac{t}{2m}, \\quad R = \\frac{r-m}{\\epsilon m},\\quad \\theta = \\theta, \n",
    "\\quad\\Phi = \\phi - \\frac{t}{2m},$$\n",
    "where $\\epsilon$ is a constant parameter.\n",
    "The horizon of the extremal Kerr black hole is located at $r=m$, which corresponds to $R=0$.\n",
    "\n",
    "*NB:* the coordinates $T$ and $R$ introduced by Bardeen and Horowitz (BH), which are denoted $t$ and $r$ by them, are actually $T_{\\rm BH} = 2m T$ and $R_{\\rm BH} = m R$.\n",
    "\n",
    "We implement the above relations as a **transition map** from the chart `BL` to the chart `NH`:"
   ]
  },
  {
   "cell_type": "code",
   "execution_count": null,
   "metadata": {},
   "outputs": [],
   "source": [
    "eps = var('eps', latex_name=r'\\epsilon')\n",
    "BL_to_NH = BL.transition_map(NH, [eps*t/(2*m), (r-m)/(eps*m), th, ph - t/(2*m)])\n",
    "BL_to_NH.display()"
   ]
  },
  {
   "cell_type": "markdown",
   "metadata": {},
   "source": [
    "The inverse relation is"
   ]
  },
  {
   "cell_type": "code",
   "execution_count": null,
   "metadata": {},
   "outputs": [],
   "source": [
    "BL_to_NH.inverse().display()"
   ]
  },
  {
   "cell_type": "markdown",
   "metadata": {},
   "source": [
    "Note that we have"
   ]
  },
  {
   "cell_type": "code",
   "execution_count": null,
   "metadata": {},
   "outputs": [],
   "source": [
    "BL_to_NH.jacobian()"
   ]
  },
  {
   "cell_type": "markdown",
   "metadata": {},
   "source": [
    "and"
   ]
  },
  {
   "cell_type": "code",
   "execution_count": null,
   "metadata": {},
   "outputs": [],
   "source": [
    "BL_to_NH.jacobian_det()"
   ]
  },
  {
   "cell_type": "markdown",
   "metadata": {},
   "source": [
    "The metric components with respect the coordinates \n",
    "$(T, R, \\theta, \\Phi)$ are computed by passing the \n",
    "chart `NH` to the method `display()`:"
   ]
  },
  {
   "cell_type": "code",
   "execution_count": null,
   "metadata": {},
   "outputs": [],
   "source": [
    "M.default_chart()"
   ]
  },
  {
   "cell_type": "code",
   "execution_count": null,
   "metadata": {},
   "outputs": [],
   "source": [
    "g.display()  # display in the default chart, i.e. BL"
   ]
  },
  {
   "cell_type": "code",
   "execution_count": null,
   "metadata": {},
   "outputs": [],
   "source": [
    "g.display(NH)  # triggers the computation of the components w.r.t. NH chart"
   ]
  },
  {
   "cell_type": "markdown",
   "metadata": {},
   "source": [
    "From now on, we set the near-horizon coordinates as the default ones on the spacetime manifold:"
   ]
  },
  {
   "cell_type": "code",
   "execution_count": null,
   "metadata": {},
   "outputs": [],
   "source": [
    "M.set_default_chart(NH)\n",
    "M.set_default_frame(NH.frame())"
   ]
  },
  {
   "cell_type": "markdown",
   "metadata": {},
   "source": [
    "Hence `NH` becomes the default argument of `display()`:"
   ]
  },
  {
   "cell_type": "code",
   "execution_count": null,
   "metadata": {},
   "outputs": [],
   "source": [
    "g.display()"
   ]
  },
  {
   "cell_type": "markdown",
   "metadata": {},
   "source": [
    "## The near-horizon metric $h$ as the limit $\\epsilon\\to 0$ of the Kerr metric $g$\n",
    "\n",
    "Let us define the *near-horizon metric* as the metric $h$ on $\\mathcal{M}$ that is the limit $\\epsilon\\to 0$ of the Kerr metric $g$. The limit is taken by asking for a series expansion of $g$ with respect to $\\epsilon$ up to the 0-th order (i.e. keeping only $\\epsilon^0$ terms). This is achieved via the method `truncate`:"
   ]
  },
  {
   "cell_type": "code",
   "execution_count": null,
   "metadata": {},
   "outputs": [],
   "source": [
    "h = M.lorentzian_metric('h')\n",
    "h.set( g.truncate(eps, 0) )\n",
    "h.display()"
   ]
  },
  {
   "cell_type": "code",
   "execution_count": null,
   "metadata": {},
   "outputs": [],
   "source": [
    "h.apply_map(factor)\n",
    "h.display()"
   ]
  },
  {
   "cell_type": "code",
   "execution_count": null,
   "metadata": {},
   "outputs": [],
   "source": [
    "h.display_comp()"
   ]
  },
  {
   "cell_type": "markdown",
   "metadata": {},
   "source": [
    "As a check, we compare with Eq. (2.6) of [Bardeen & Horowitz, Phys. Rev. D **60**, 104030 (1999)](https://doi.org/10.1103/PhysRevD.60.104030), which involves the bilinear form\n",
    "$$ q = \\frac{4m^2\\sin^2\\theta}{1+\\cos^2\\theta} \n",
    "\\left( \\mathrm{d}\\Phi + R \\mathrm{d} T \\right)^2$$\n",
    "We construct $q$ from the 1-forms $\\mathrm{d} T$ and\n",
    "$\\mathrm{d}\\Phi$:"
   ]
  },
  {
   "cell_type": "code",
   "execution_count": null,
   "metadata": {},
   "outputs": [],
   "source": [
    "dT = NH.coframe()[0]\n",
    "dT"
   ]
  },
  {
   "cell_type": "code",
   "execution_count": null,
   "metadata": {},
   "outputs": [],
   "source": [
    "dPh = NH.coframe()[3]\n",
    "dPh"
   ]
  },
  {
   "cell_type": "code",
   "execution_count": null,
   "metadata": {},
   "outputs": [],
   "source": [
    "q = 4*m^2*sin(th)^2/(1+cos(th)^2) * (dPh + R*dT) * (dPh + R*dT)\n",
    "q.display()"
   ]
  },
  {
   "cell_type": "markdown",
   "metadata": {},
   "source": [
    "We evaluate then $h-q$ to compare with Eq. (2.6) of Bardeen & Horowitz:"
   ]
  },
  {
   "cell_type": "code",
   "execution_count": null,
   "metadata": {},
   "outputs": [],
   "source": [
    "(h - q).display()"
   ]
  },
  {
   "cell_type": "code",
   "execution_count": null,
   "metadata": {},
   "outputs": [],
   "source": [
    "s = (h - q)/(m^2*(1 + cos(th)^2))\n",
    "s.display()"
   ]
  },
  {
   "cell_type": "code",
   "execution_count": null,
   "metadata": {},
   "outputs": [],
   "source": [
    "s.apply_map(factor)\n",
    "s.display()"
   ]
  },
  {
   "cell_type": "markdown",
   "metadata": {},
   "source": [
    "The above result shows the complete agreement between $h = m^2(1 + \\cos^2\\theta) s + q$ and the metric given by Eq. (2.6) of Bardeen & Horowitz."
   ]
  },
  {
   "cell_type": "markdown",
   "metadata": {},
   "source": [
    "### Non-degenerate character\n",
    "\n",
    "A priori, the limit process defining $h$ ensures only that $h$ is a symmetric bilinear form. In order to establish that it is a proper metric on $\\mathcal{M}$, there remains to show that $h$ is non-degenerate. Let us do it by computing the determinant of $h$'s components with respect to the NH coordinates:"
   ]
  },
  {
   "cell_type": "code",
   "execution_count": null,
   "metadata": {},
   "outputs": [],
   "source": [
    "deth = h.determinant(frame=NH.frame())\n",
    "deth.display()"
   ]
  },
  {
   "cell_type": "code",
   "execution_count": null,
   "metadata": {},
   "outputs": [],
   "source": [
    "deth.expr().factor()"
   ]
  },
  {
   "cell_type": "markdown",
   "metadata": {},
   "source": [
    "Hence the determinant vanishes only for $\\sin\\theta = 0$, which corresponds simply to the standard coordinate singularity of spherical-type coordinates on the rotation axis. Away from the rotation axis, we \n",
    "have $\\det h < 0$, which implies that $h$ is non-degenerate and furthermore, that it is \n",
    "has the signature $(-,+,+,+)$. Hence we conclude that $h$ is a **regular Lorentzian metric** on $\\mathcal{M}$. "
   ]
  },
  {
   "cell_type": "markdown",
   "metadata": {},
   "source": [
    "We note that the metric $h$ is not asymptotically flat. "
   ]
  },
  {
   "cell_type": "markdown",
   "metadata": {},
   "source": [
    "### Einstein equation for $h$"
   ]
  },
  {
   "cell_type": "markdown",
   "metadata": {},
   "source": [
    "As a limit of solutions of the vaccum Einstein equation, $h$ is itself a solution of the **vacuum Einstein equation**, as we can check:"
   ]
  },
  {
   "cell_type": "code",
   "execution_count": null,
   "metadata": {},
   "outputs": [],
   "source": [
    "h.ricci().display()"
   ]
  },
  {
   "cell_type": "markdown",
   "metadata": {},
   "source": [
    "## Killing vectors of the near-horizon geometry"
   ]
  },
  {
   "cell_type": "markdown",
   "metadata": {},
   "source": [
    "Let us first consider the vector field $\\eta := \\frac{\\partial}{\\partial\\Phi}$:"
   ]
  },
  {
   "cell_type": "code",
   "execution_count": null,
   "metadata": {},
   "outputs": [],
   "source": [
    "eta = M.vector_field(0, 0, 0, 1, name='eta', latex_name=r'\\eta')\n",
    "eta.display()"
   ]
  },
  {
   "cell_type": "markdown",
   "metadata": {},
   "source": [
    "It is a Killing vector of the near-horizon metric, since the Lie derivative of $h$ along $\\eta$ vanishes:"
   ]
  },
  {
   "cell_type": "code",
   "execution_count": null,
   "metadata": {},
   "outputs": [],
   "source": [
    "h.lie_derivative(eta).display()"
   ]
  },
  {
   "cell_type": "markdown",
   "metadata": {},
   "source": [
    "This is not surprising since the components of $h$ are independent from $\\Phi$."
   ]
  },
  {
   "cell_type": "markdown",
   "metadata": {},
   "source": [
    "Similarly, we can check that $\\xi_1 := \\frac{\\partial}{\\partial T}$ is a Killing vector of $h$, reflecting the independence of the components of $h$ from $T$:"
   ]
  },
  {
   "cell_type": "code",
   "execution_count": null,
   "metadata": {},
   "outputs": [],
   "source": [
    "xi1 = M.vector_field(1, 0, 0, 0, name='xi1', latex_name=r'\\xi_{1}')\n",
    "xi1.display()"
   ]
  },
  {
   "cell_type": "code",
   "execution_count": null,
   "metadata": {},
   "outputs": [],
   "source": [
    "h.lie_derivative(xi1).display()"
   ]
  },
  {
   "cell_type": "markdown",
   "metadata": {},
   "source": [
    "The above two Killing vectors correspond respectively to the **axisymmetry** and the **stationarity** of the Kerr metric. A third symmetry, which is not present in the original extremal Kerr metric, is the invariance under the **scaling** $(T,R)\\mapsto (\\alpha T, R/\\alpha)$, as it is clear on the metric components in ``Out[27]``. The corresponding Killing vector is "
   ]
  },
  {
   "cell_type": "code",
   "execution_count": null,
   "metadata": {},
   "outputs": [],
   "source": [
    "xi2 = M.vector_field(T, -R, 0, 0, name='xi2', latex_name=r'\\xi_{2}')\n",
    "xi2.display()"
   ]
  },
  {
   "cell_type": "code",
   "execution_count": null,
   "metadata": {},
   "outputs": [],
   "source": [
    "h.lie_derivative(xi2).display()"
   ]
  },
  {
   "cell_type": "markdown",
   "metadata": {},
   "source": [
    "Finally, a fourth Killing vector is"
   ]
  },
  {
   "cell_type": "code",
   "execution_count": null,
   "metadata": {},
   "outputs": [],
   "source": [
    "xi3 = M.vector_field((T^2 + 1/R^2)/2, -R*T, 0, -1/R,\n",
    "                     name='xi3', latex_name=r'\\xi_{3}')\n",
    "xi3.display()"
   ]
  },
  {
   "cell_type": "code",
   "execution_count": null,
   "metadata": {},
   "outputs": [],
   "source": [
    "h.lie_derivative(xi3).display()"
   ]
  },
  {
   "cell_type": "markdown",
   "metadata": {},
   "source": [
    "We shall see below that this Killing vector is actually related to the Killing vector $\\frac{\\partial}{\\partial \\tau}$ associated to the so-called *global NHEK coordinates* by \n",
    "$$ \\xi_3 = \\frac{\\partial}{\\partial \\tau} - \\frac{1}{2} \\frac{\\partial}{\\partial T}$$"
   ]
  },
  {
   "cell_type": "markdown",
   "metadata": {},
   "source": [
    "## Determination of the symmetry group"
   ]
  },
  {
   "cell_type": "markdown",
   "metadata": {},
   "source": [
    "We have four independent Killing vectors, $\\eta$, $\\xi_1$, $\\xi_2$ and $\\xi_3$, which implies that the symmetry group of the near-horizon geometry is a 4-dimensional Lie group $G$. Let us determine $G$ by investigating the **structure constants** of the basis \n",
    "$(\\eta, \\xi_1, \\xi_2, \\xi_3)$ of the Lie algebra of $G$. First of all, we notice that \n",
    "$\\eta$ commutes with the other Killing vectors:"
   ]
  },
  {
   "cell_type": "code",
   "execution_count": null,
   "metadata": {},
   "outputs": [],
   "source": [
    "for xi in [xi1, xi2, xi3]:\n",
    "    show(eta.bracket(xi).display())"
   ]
  },
  {
   "cell_type": "markdown",
   "metadata": {},
   "source": [
    "Since $\\eta$ generates the rotation group $\\mathrm{SO}(2)=\\mathrm{U}(1)$, we may write that $G = \\mathrm{U}(1)\\times G_3$, where $G_3$\n",
    "is a 3-dimensional Lie group, whose generators are $(\\xi_1, \\xi_2, \\xi_3)$. Let us determine the structure constants of these three vectors. We have"
   ]
  },
  {
   "cell_type": "code",
   "execution_count": null,
   "metadata": {},
   "outputs": [],
   "source": [
    "xi1.bracket(xi2).display()"
   ]
  },
  {
   "cell_type": "code",
   "execution_count": null,
   "metadata": {},
   "outputs": [],
   "source": [
    "xi1.bracket(xi2) == xi1"
   ]
  },
  {
   "cell_type": "code",
   "execution_count": null,
   "metadata": {},
   "outputs": [],
   "source": [
    "xi1.bracket(xi3).display()"
   ]
  },
  {
   "cell_type": "code",
   "execution_count": null,
   "metadata": {},
   "outputs": [],
   "source": [
    "xi1.bracket(xi3) == xi2"
   ]
  },
  {
   "cell_type": "code",
   "execution_count": null,
   "metadata": {},
   "outputs": [],
   "source": [
    "xi2.bracket(xi3).display()"
   ]
  },
  {
   "cell_type": "code",
   "execution_count": null,
   "metadata": {},
   "outputs": [],
   "source": [
    "xi2.bracket(xi3) == xi3"
   ]
  },
  {
   "cell_type": "markdown",
   "metadata": {},
   "source": [
    "To summarize, we have"
   ]
  },
  {
   "cell_type": "code",
   "execution_count": null,
   "metadata": {},
   "outputs": [],
   "source": [
    "all([xi1.bracket(xi2) == xi1,\n",
    "     xi1.bracket(xi3) == xi2,\n",
    "     xi2.bracket(xi3) == xi3])"
   ]
  },
  {
   "cell_type": "markdown",
   "metadata": {},
   "source": [
    "To recognize a standard Lie algebra, let us perform a slight change of basis:"
   ]
  },
  {
   "cell_type": "code",
   "execution_count": null,
   "metadata": {},
   "outputs": [],
   "source": [
    "vE = -sqrt(2)*xi3\n",
    "vF = sqrt(2)*xi1\n",
    "vH = 2*xi2"
   ]
  },
  {
   "cell_type": "markdown",
   "metadata": {},
   "source": [
    "We have then the following commutation relations:"
   ]
  },
  {
   "cell_type": "code",
   "execution_count": null,
   "metadata": {},
   "outputs": [],
   "source": [
    "all([vE.bracket(vF) == vH,\n",
    "     vH.bracket(vE) == 2*vE,\n",
    "     vH.bracket(vF) == -2*vF])"
   ]
  },
  {
   "cell_type": "markdown",
   "metadata": {},
   "source": [
    "We recognize the Lie algebra $\\mathfrak{sl}(2, \\mathbb{R})$. Indeed, we have, using the representation of $\\mathfrak{sl}(2, \\mathbb{R})$ by traceless $2\\times 2$ matrices:"
   ]
  },
  {
   "cell_type": "code",
   "execution_count": null,
   "metadata": {},
   "outputs": [],
   "source": [
    "sl2 = lie_algebras.sl(QQ, 2, representation='matrix')  # QQ instead of RR to deal with an exact field\n",
    "E,F,H = sl2.gens()"
   ]
  },
  {
   "cell_type": "code",
   "execution_count": null,
   "metadata": {},
   "outputs": [],
   "source": [
    "E"
   ]
  },
  {
   "cell_type": "code",
   "execution_count": null,
   "metadata": {},
   "outputs": [],
   "source": [
    "F"
   ]
  },
  {
   "cell_type": "code",
   "execution_count": null,
   "metadata": {},
   "outputs": [],
   "source": [
    "H"
   ]
  },
  {
   "cell_type": "code",
   "execution_count": null,
   "metadata": {},
   "outputs": [],
   "source": [
    "all([E.bracket(F) == H,\n",
    "     H.bracket(E) == 2*E,\n",
    "     H.bracket(F) == -2*F])"
   ]
  },
  {
   "cell_type": "markdown",
   "metadata": {},
   "source": [
    "Hence, we have $$\\mathrm{Lie}(G_3) = \\mathfrak{sl}(2, \\mathbb{R}).$$\n",
    "\n",
    "At this stage, $G_3$ could be $\\mathrm{SL}(2, \\mathbb{R})$, $\\mathrm{PSL}(2, \\mathbb{R})=\\mathrm{SL}(2, \\mathbb{R})/\\mathbb{Z}_2$\n",
    "or $\\overline{\\mathrm{SL}(2, \\mathbb{R})}$ (the universal covering group of $\\mathrm{SL}(2, \\mathbb{R})$). \n",
    "It cannot be $\\mathrm{PSL}(2, \\mathbb{R})$ because, as it appears clearly on $h$'s components,\n",
    "the transformation $(T,R) \\mapsto (-T,-R)$ is an element of $G_3$ and, in $\\mathrm{PSL}(2,\\mathbb{R})$, this element would be identified with the identity\n",
    "due to the quotient by $\\mathbb{Z}_2 = \\{\\mathrm{Id}, -\\mathrm{Id}\\}$ ($\\mathrm{Id}$ being the\n",
    "identity).\n",
    "$G_3$ is actually $\\mathrm{SL}(2, \\mathbb{R})$.\n",
    "We conclude that the full isometry group of the near-horizon geometry is \n",
    "$$ G = \\mathrm{U}(1) \\times \\mathrm{SL}(2, \\mathbb{R}).$$"
   ]
  },
  {
   "cell_type": "markdown",
   "metadata": {},
   "source": [
    "## Expression of $h$ and  the near-horizon Killing vectors in the Boyer-Lindquist basis\n",
    "\n",
    "The Boyer-Lindquist components of the near-horizon metric $h$ are obtained by providing the argument `BL` to the method `display`:"
   ]
  },
  {
   "cell_type": "code",
   "execution_count": null,
   "metadata": {},
   "outputs": [],
   "source": [
    "h.display(BL)"
   ]
  },
  {
   "cell_type": "markdown",
   "metadata": {},
   "source": [
    "We note that the Boyer-Lindquist components of $h$ do not depend on the parameter $\\epsilon$, despite the change of coordinates `NH` $\\to$ `BL` does. "
   ]
  },
  {
   "cell_type": "markdown",
   "metadata": {},
   "source": [
    "We have established above that\n",
    "$$ h = m^2 (1 + \\cos^2\\theta) s + q$$\n",
    "Let us evaluate the Boyer-Lindquist expressions of $s$ and $q$:"
   ]
  },
  {
   "cell_type": "code",
   "execution_count": null,
   "metadata": {},
   "outputs": [],
   "source": [
    "s.display(BL)"
   ]
  },
  {
   "cell_type": "code",
   "execution_count": null,
   "metadata": {},
   "outputs": [],
   "source": [
    "s.apply_map(factor, frame=BL.frame(), chart=BL, keep_other_components=True)\n",
    "s.display(BL)"
   ]
  },
  {
   "cell_type": "code",
   "execution_count": null,
   "metadata": {},
   "outputs": [],
   "source": [
    "q.display(BL)"
   ]
  },
  {
   "cell_type": "code",
   "execution_count": null,
   "metadata": {},
   "outputs": [],
   "source": [
    "q.apply_map(factor, frame=BL.frame(), chart=BL, keep_other_components=True)\n",
    "q.display(BL)"
   ]
  },
  {
   "cell_type": "markdown",
   "metadata": {},
   "source": [
    "Hence the identity\n",
    "$$ q = \\frac{\\sin^2\\theta}{1 + \\cos^2\\theta} \\left( \\frac{r - 2m}{m}\\mathrm{d}t + 2 m\\, \\mathrm{d}\\phi \\right)^2 $$"
   ]
  },
  {
   "cell_type": "markdown",
   "metadata": {},
   "source": [
    "### Near-horizon Killing vectors in terms of Boyer-Lindquist coordinates"
   ]
  },
  {
   "cell_type": "code",
   "execution_count": null,
   "metadata": {},
   "outputs": [],
   "source": [
    "eta.display(BL)"
   ]
  },
  {
   "cell_type": "code",
   "execution_count": null,
   "metadata": {},
   "outputs": [],
   "source": [
    "xi1.display(BL)"
   ]
  },
  {
   "cell_type": "markdown",
   "metadata": {},
   "source": [
    "Given that for an extremal Kerr black hole $\\Omega_H = 1/(2m)$, we recognize that \n",
    "$$ \\xi_1 = \\frac{2m}{\\epsilon} \\chi $$\n",
    "where $\\chi := \\frac{\\partial}{\\partial t} + \\Omega_H \\frac{\\partial}{\\partial \\phi}$ is the\n",
    "Killing vector that is tangent to the horizon null generators on $\\mathcal{H}$, or equivalently that is the null normal of the Killing horizon $\\mathcal{H}$. "
   ]
  },
  {
   "cell_type": "code",
   "execution_count": null,
   "metadata": {},
   "outputs": [],
   "source": [
    "xi2.display(BL)"
   ]
  },
  {
   "cell_type": "code",
   "execution_count": null,
   "metadata": {},
   "outputs": [],
   "source": [
    "xi3.display(BL)"
   ]
  },
  {
   "cell_type": "code",
   "execution_count": null,
   "metadata": {},
   "outputs": [],
   "source": [
    "xi3.apply_map(factor, frame=BL.frame(), chart=BL, keep_other_components=True)\n",
    "xi3.display(BL)"
   ]
  },
  {
   "cell_type": "markdown",
   "metadata": {},
   "source": [
    "We note that the BL components of $\\xi_2$ are independent from $\\epsilon$, while those of $\\xi_1$ and $\\xi_3$ are, with $\\xi_1$ diverging when $\\epsilon\\to 0$ and $\\xi_3$ vanishing when $\\epsilon\\to 0$."
   ]
  },
  {
   "cell_type": "markdown",
   "metadata": {},
   "source": [
    "### The Killing operator of $g$ applied to the near-horizon Killing vectors"
   ]
  },
  {
   "cell_type": "markdown",
   "metadata": {},
   "source": [
    "In this part, we set the default chart and frame back to the Boyer-Lindquist ones:"
   ]
  },
  {
   "cell_type": "code",
   "execution_count": null,
   "metadata": {},
   "outputs": [],
   "source": [
    "M.set_default_chart(BL)\n",
    "M.set_default_frame(BL.frame())"
   ]
  },
  {
   "cell_type": "markdown",
   "metadata": {},
   "source": [
    "The Levi-Civita connection $\\nabla$ of $g$:"
   ]
  },
  {
   "cell_type": "code",
   "execution_count": null,
   "metadata": {},
   "outputs": [],
   "source": [
    "nabla = g.connection()"
   ]
  },
  {
   "cell_type": "markdown",
   "metadata": {},
   "source": [
    "The **Killing form** $\\mathrm{K}v$ of a vector field $v$ is defined by\n",
    "$$(\\mathrm{K}v)_{ab} := \\nabla_a v_b + \\nabla_b v_a,$$\n",
    "where $v_a := g_{ab} v^b$. We implement it in SageMath via the following function:"
   ]
  },
  {
   "cell_type": "code",
   "execution_count": null,
   "metadata": {},
   "outputs": [],
   "source": [
    "def killing_form(v):\n",
    "    Kv = 2*nabla(v.down(g)).symmetrize()\n",
    "    if v._name is not None:\n",
    "        Kv.set_name('K' + v._name, latex_name=r'\\mathrm{K}' + str(latex(v)))\n",
    "    return Kv"
   ]
  },
  {
   "cell_type": "markdown",
   "metadata": {},
   "source": [
    "The Killing form of $\\eta$ is identically zero:"
   ]
  },
  {
   "cell_type": "code",
   "execution_count": null,
   "metadata": {},
   "outputs": [],
   "source": [
    "Keta = killing_form(eta)\n",
    "print(Keta)\n",
    "Keta.display()"
   ]
  },
  {
   "cell_type": "markdown",
   "metadata": {},
   "source": [
    "We recover the fact that $\\eta$ is a Killing vector of $g$. Similarly, we have "
   ]
  },
  {
   "cell_type": "code",
   "execution_count": null,
   "metadata": {},
   "outputs": [],
   "source": [
    "Kxi1 = killing_form(xi1)\n",
    "print(Kxi1)\n",
    "Kxi1.display()"
   ]
  },
  {
   "cell_type": "markdown",
   "metadata": {},
   "source": [
    "We recover the fact that $\\xi_1 = (2m/\\epsilon) \\chi$ is a Killing vector of $g$."
   ]
  },
  {
   "cell_type": "markdown",
   "metadata": {},
   "source": [
    "But $\\xi_2$ and $\\xi_3$ are not Killing vectors of $g$:"
   ]
  },
  {
   "cell_type": "code",
   "execution_count": null,
   "metadata": {},
   "outputs": [],
   "source": [
    "Kxi2 = killing_form(xi2)\n",
    "print(Kxi2)\n",
    "Kxi2.display()"
   ]
  },
  {
   "cell_type": "code",
   "execution_count": null,
   "metadata": {},
   "outputs": [],
   "source": [
    "Kxi3 = killing_form(xi3)\n",
    "print(Kxi3)\n",
    "Kxi3.display()"
   ]
  },
  {
   "cell_type": "markdown",
   "metadata": {},
   "source": [
    "## Global NHEK coordinates"
   ]
  },
  {
   "cell_type": "markdown",
   "metadata": {},
   "source": [
    "Let us introduce the global NHEK coordinates $(\\tau, y, \\theta,\\psi)$:"
   ]
  },
  {
   "cell_type": "code",
   "execution_count": null,
   "metadata": {},
   "outputs": [],
   "source": [
    "GNH.<ta, y, th, ps> = M.chart(r\"ta:\\tau y th:(0,pi):\\theta ps:(0,2*pi):periodic:\\psi\") \n",
    "print(GNH)\n",
    "GNH"
   ]
  },
  {
   "cell_type": "markdown",
   "metadata": {},
   "source": [
    "They are related to the near-horizon coordinates $(T,R,\\theta,\\Phi)$ via Eqs. (2.7)-(2.8) of J. Bardeen and G. T. Horowitz, \n",
    "[Phys. Rev. D **60**, 104030 (1999)](https://doi.org/10.1103/PhysRevD.60.104030):"
   ]
  },
  {
   "cell_type": "code",
   "execution_count": null,
   "metadata": {},
   "outputs": [],
   "source": [
    "GNH_to_NH = GNH.transition_map(NH, [sqrt(1+y^2)*sin(ta)/(y + sqrt(1+y^2)*cos(ta)),\n",
    "                                    y + sqrt(1+y^2)*cos(ta),\n",
    "                                    th, \n",
    "                                    ps + ln((cos(ta) + y*sin(ta))/(1 + sqrt(1+y^2)*sin(ta)))])\n",
    "GNH_to_NH.display()"
   ]
  },
  {
   "cell_type": "code",
   "execution_count": null,
   "metadata": {},
   "outputs": [],
   "source": [
    "assume(R^2*T^2 - R^2 - 1<0)\n",
    "assume(R>0)"
   ]
  },
  {
   "cell_type": "markdown",
   "metadata": {},
   "source": [
    "The inverse transformation is "
   ]
  },
  {
   "cell_type": "code",
   "execution_count": null,
   "metadata": {},
   "outputs": [],
   "source": [
    "GNH_to_NH.set_inverse(atan2(2*T*R^2, ((1 - T^2)*R^2 + 1)), \n",
    "                      ((1 + T^2)*R^2 - 1)/(2*R),\n",
    "                      th,\n",
    "                      Ph - ln(((1 - T*R)^2 + R^2)/sqrt(((1 + T^2)*R^2 - 1)^2 + 4*R^2)) )"
   ]
  },
  {
   "cell_type": "code",
   "execution_count": null,
   "metadata": {},
   "outputs": [],
   "source": [
    "GNH_to_NH.inverse().display()"
   ]
  },
  {
   "cell_type": "markdown",
   "metadata": {},
   "source": [
    "### Plot of the near-horizon coordinates in terms of the global NHEK ones"
   ]
  },
  {
   "cell_type": "code",
   "execution_count": null,
   "metadata": {},
   "outputs": [],
   "source": [
    "graph = NH.plot(GNH, ambient_coords=(y, ta), fixed_coords={th: pi/2, Ph: 0},\n",
    "                ranges={T: (-10, 10), R: (0.03, 12)}, color={T: 'red', R: 'grey'}, \n",
    "                number_values={T: 17, R: 13}, plot_points=800) + \\\n",
    "        NH.plot(GNH, ambient_coords=(y, ta), fixed_coords={th: pi/2, R: 0.03, Ph: 0},\n",
    "                ranges={T: (-60, 60)}, color={T: 'blue'}, thickness=2,\n",
    "                number_values={T: 33}, plot_points=400)\n",
    "show(graph, xmin=-5, xmax=6)"
   ]
  },
  {
   "cell_type": "markdown",
   "metadata": {},
   "source": [
    "### Expression of the near horizon metric $h$ in terms of the global NHEK coordinates"
   ]
  },
  {
   "cell_type": "code",
   "execution_count": null,
   "metadata": {},
   "outputs": [],
   "source": [
    "h.display(GNH)"
   ]
  },
  {
   "cell_type": "code",
   "execution_count": null,
   "metadata": {},
   "outputs": [],
   "source": [
    "h.apply_map(factor, frame=GNH.frame(), chart=GNH, keep_other_components=True)\n",
    "h.display(GNH)"
   ]
  },
  {
   "cell_type": "markdown",
   "metadata": {},
   "source": [
    "Let us check that we recover Eq. (2.9) of Bardeen & Horowitz, \n",
    "[Phys. Rev. D **60**, 104030 (1999)](https://doi.org/10.1103/PhysRevD.60.104030). This is actually obvious for all the terms, except for $h_{\\tau\\tau}$. For the latter, the computation"
   ]
  },
  {
   "cell_type": "code",
   "execution_count": null,
   "metadata": {},
   "outputs": [],
   "source": [
    "h00 = h[GNH.frame(),0,0,GNH].expr()\n",
    "(h00 + m^2*(1 + cos(th)^2)*(1 + y^2)).simplify_full()"
   ]
  },
  {
   "cell_type": "markdown",
   "metadata": {},
   "source": [
    "shows that\n",
    "$$ h_{\\tau\\tau} = m^2 \\left[ - (1 + \\cos^2\\theta)(1 + y^2) + 4 \\frac{y^2\\sin^2\\theta}{1 + \\cos^2\\theta} \\right], $$\n",
    "which yields a full agreement with Eq. (2.9) of Bardeen & Horowitz, up to an overall factor $2 m^2$."
   ]
  },
  {
   "cell_type": "markdown",
   "metadata": {},
   "source": [
    "### Expression of the $h$-Killing vector $\\frac{\\partial}{\\partial\\tau}$ in terms of $\\xi_1$ and $\\xi_3$"
   ]
  },
  {
   "cell_type": "code",
   "execution_count": null,
   "metadata": {},
   "outputs": [],
   "source": [
    "GNH.frame()[0].display(NH)"
   ]
  },
  {
   "cell_type": "code",
   "execution_count": null,
   "metadata": {},
   "outputs": [],
   "source": [
    "GNH.frame()[0] == xi3 + xi1/2"
   ]
  },
  {
   "cell_type": "markdown",
   "metadata": {},
   "source": [
    "Hence we have:\n",
    "$$ \\frac{\\partial}{\\partial\\tau} = \\xi_3 + \\frac{1}{2} \\xi_1$$."
   ]
  }
 ],
 "metadata": {
  "kernelspec": {
   "display_name": "SageMath 10.3.rc3",
   "language": "sage",
   "name": "sagemath"
  },
  "language": "python",
  "language_info": {
   "codemirror_mode": {
    "name": "ipython",
    "version": 3
   },
   "file_extension": ".py",
   "mimetype": "text/x-python",
   "name": "python",
   "nbconvert_exporter": "python",
   "pygments_lexer": "ipython3",
   "version": "3.10.12"
  }
 },
 "nbformat": 4,
 "nbformat_minor": 4
}
