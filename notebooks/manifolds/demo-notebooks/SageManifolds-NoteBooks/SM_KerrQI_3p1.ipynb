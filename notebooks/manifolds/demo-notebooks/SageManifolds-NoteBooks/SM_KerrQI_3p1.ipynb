{
 "cells": [
  {
   "cell_type": "markdown",
   "metadata": {},
   "source": [
    "# Kerr spacetime in quasi-isotropic coordinates\n",
    "\n",
    "## Check of the 3+1 Einstein equations"
   ]
  },
  {
   "cell_type": "markdown",
   "metadata": {},
   "source": [
    "This SageMath notebook accompanies the article _High precision numerical sequences of rotating hairy black holes_ by\n",
    "Gustavo Garcı́a, Eric Gourgoulhon, Philippe Grandclément and Marcelo Salgado ([arXiv:2302.06659](https://arxiv.org/abs/2302.06659)). It involves SageMath tools developed through the [SageManifolds](https://sagemanifolds.obspm.fr/) project. "
   ]
  },
  {
   "cell_type": "markdown",
   "metadata": {},
   "source": [
    "*NB:* a version of SageMath at least equal to 8.2 is required to run this notebook:"
   ]
  },
  {
   "cell_type": "code",
   "execution_count": null,
   "metadata": {},
   "outputs": [],
   "source": [
    "version()"
   ]
  },
  {
   "cell_type": "markdown",
   "metadata": {},
   "source": [
    "First we set up the notebook to display mathematical objects using LaTeX rendering:"
   ]
  },
  {
   "cell_type": "code",
   "execution_count": null,
   "metadata": {},
   "outputs": [],
   "source": [
    "%display latex"
   ]
  },
  {
   "cell_type": "markdown",
   "metadata": {},
   "source": [
    "Since some computations are quite long, we ask for running them in parallel on 8 cores:"
   ]
  },
  {
   "cell_type": "code",
   "execution_count": null,
   "metadata": {},
   "outputs": [],
   "source": [
    "Parallelism().set(nproc=8)"
   ]
  },
  {
   "cell_type": "markdown",
   "metadata": {},
   "source": [
    "## Spacelike hypersurface $\\Sigma$\n",
    "\n",
    "We consider some hypersurface $\\Sigma$ of a spacelike foliation $(\\Sigma_t)_{t\\in\\mathbb{R}}$ of Kerr spacetime; we declare $\\Sigma_t$ as a 3-dimensional Riemannian manifold:"
   ]
  },
  {
   "cell_type": "code",
   "execution_count": null,
   "metadata": {},
   "outputs": [],
   "source": [
    "Sig = Manifold(3, 'Sigma', latex_name=r'\\Sigma', \n",
    "               structure='Riemannian', metric_name='gam', \n",
    "               metric_latex_name=r'\\gamma', start_index=1)\n",
    "print(Sig)"
   ]
  },
  {
   "cell_type": "markdown",
   "metadata": {},
   "source": [
    "On $\\Sigma$, we consider the _\"rational-polynomial\" quasi-isotropic coordinates_ $(r,y,\\phi)$ inheritated from the **quasi-isotropic (QI) coordinates** $(t,r,\\theta,\\phi)$ of Kerr spacetime, via $y=\\cos\\theta$:"
   ]
  },
  {
   "cell_type": "code",
   "execution_count": null,
   "metadata": {},
   "outputs": [],
   "source": [
    "X.<r,y,ph> = Sig.chart(r'r:(1,+oo) y:(-1,1) ph:(0,2*pi):\\phi')\n",
    "print(X) ; X"
   ]
  },
  {
   "cell_type": "markdown",
   "metadata": {},
   "source": [
    "<h3>Riemannian metric on $\\Sigma$</h3>\n",
    "\n",
    "<p>First the two Kerr parameters:</p>"
   ]
  },
  {
   "cell_type": "code",
   "execution_count": null,
   "metadata": {},
   "outputs": [],
   "source": [
    "var('m, a', domain='real')\n",
    "assume(m > 0)\n",
    "assume(a > 0)\n",
    "assumptions()"
   ]
  },
  {
   "cell_type": "markdown",
   "metadata": {},
   "source": [
    "A shortcut for $\\cos(2\\theta)$:"
   ]
  },
  {
   "cell_type": "code",
   "execution_count": null,
   "metadata": {},
   "outputs": [],
   "source": [
    "cos2t = 2*y^2 - 1 "
   ]
  },
  {
   "cell_type": "markdown",
   "metadata": {},
   "source": [
    "The metric coefficients $A^2$ and $B^2$:"
   ]
  },
  {
   "cell_type": "code",
   "execution_count": null,
   "metadata": {},
   "outputs": [],
   "source": [
    "A2 = (-2*a^2*m*(m + 4*r) + 8*a^2*r^2*cos2t + a^4 + (m + 2*r)^4) / (16*r^4)\n",
    "A2"
   ]
  },
  {
   "cell_type": "code",
   "execution_count": null,
   "metadata": {},
   "outputs": [],
   "source": [
    "B2n = (8*a^2*r^2*cos2t*(a^2 - m^2 + 4*r^2)^2 - 4*a^6*(m^2 +4*m*r - 2*r^2)\n",
    "       + a^4*(96*m^2*r^2 + 48*m^3*r + 6*m^4 - 64*m*r^3 + 32*r^4)\n",
    "       - 4*a^2*(m + 2*r)^2*(18*m^2*r^2 + 8*m^3*r + m^4 - 8*m*r^3 - 8*r^4)\n",
    "       + a^8 + (m + 2*r)^8)\n",
    "\n",
    "B2d = 16*r^4*(-2*a^2*m*(m + 4*r) + 8*a^2*r^2*cos2t + a^4 + (m + 2*r)^4)\n",
    "\n",
    "B2 = B2n / B2d\n",
    "B2"
   ]
  },
  {
   "cell_type": "markdown",
   "metadata": {},
   "source": [
    "The metric $\\gamma$ induced by the spacetime metric $g$ on $\\Sigma$:"
   ]
  },
  {
   "cell_type": "code",
   "execution_count": null,
   "metadata": {},
   "outputs": [],
   "source": [
    "gam = Sig.metric()\n",
    "gam[1,1] = A2\n",
    "gam[2,2] = A2*r^2/(1 - y^2)\n",
    "gam[3,3] = B2*r^2*(1 - y^2)\n",
    "gam.display()"
   ]
  },
  {
   "cell_type": "markdown",
   "metadata": {},
   "source": [
    "A matrix view of the components w.r.t. coordinates $(r,y,\\phi)$:"
   ]
  },
  {
   "cell_type": "code",
   "execution_count": null,
   "metadata": {},
   "outputs": [],
   "source": [
    "gam[:]"
   ]
  },
  {
   "cell_type": "markdown",
   "metadata": {},
   "source": [
    "<h3>Lapse function and shift vector</h3>"
   ]
  },
  {
   "cell_type": "code",
   "execution_count": null,
   "metadata": {},
   "outputs": [],
   "source": [
    "N1 = (1 - sqrt(m^2 - a^2)/(2*r))*(1 + sqrt(m^2 - a^2)/(2*r)) / sqrt(B2)\n",
    "N1"
   ]
  },
  {
   "cell_type": "code",
   "execution_count": null,
   "metadata": {},
   "outputs": [],
   "source": [
    "N = Sig.scalar_field(N1, name='N')\n",
    "print(N)\n",
    "N.display()"
   ]
  },
  {
   "cell_type": "code",
   "execution_count": null,
   "metadata": {},
   "outputs": [],
   "source": [
    "b = Sig.vector_field(name='beta', latex_name=r'\\beta') \n",
    "b[3] = -2*a*m/(r^3*(A2*B2))*(1 + m/r + (m^2 - a^2)/(4*r^2))  \n",
    "# unset components are zero \n",
    "b.display()"
   ]
  },
  {
   "cell_type": "markdown",
   "metadata": {},
   "source": [
    "### Extrinsic curvature of $\\Sigma$\n",
    "\n",
    "We use the formula\n",
    "$$ K_{ij} = \\frac{1}{2N} \\mathcal{L}_{\\beta} \\gamma_{ij} $$\n",
    "which is valid for any stationary spacetime:"
   ]
  },
  {
   "cell_type": "code",
   "execution_count": null,
   "metadata": {},
   "outputs": [],
   "source": [
    "K = gam.lie_derivative(b) / (2*N)\n",
    "K.set_name('K')\n",
    "print(K)"
   ]
  },
  {
   "cell_type": "code",
   "execution_count": null,
   "metadata": {},
   "outputs": [],
   "source": [
    "K.display_comp(only_nonredundant=True)"
   ]
  },
  {
   "cell_type": "markdown",
   "metadata": {},
   "source": [
    "<p>The type-(1,1) tensor $K^\\sharp$ of components $K^i_{\\ \\, j} = \\gamma^{ik} K_{kj}$:</p>"
   ]
  },
  {
   "cell_type": "code",
   "execution_count": null,
   "metadata": {},
   "outputs": [],
   "source": [
    "Ku = K.up(gam, 0)\n",
    "print(Ku)"
   ]
  },
  {
   "cell_type": "markdown",
   "metadata": {},
   "source": [
    "<p>We may check that the hypersurface $\\Sigma$ is maximal, i.e. that $K^k_{\\ \\, k} = 0$:</p>"
   ]
  },
  {
   "cell_type": "code",
   "execution_count": null,
   "metadata": {},
   "outputs": [],
   "source": [
    "trK = Ku.trace()\n",
    "print(trK)\n",
    "trK.display()"
   ]
  },
  {
   "cell_type": "markdown",
   "metadata": {},
   "source": [
    "<h3>Connection and curvature</h3>\n",
    "<p>Let us call $D$ the Levi-Civita connection associated with $\\gamma$: </p>"
   ]
  },
  {
   "cell_type": "code",
   "execution_count": null,
   "metadata": {},
   "outputs": [],
   "source": [
    "D = gam.connection(name='D')\n",
    "print(D)"
   ]
  },
  {
   "cell_type": "markdown",
   "metadata": {},
   "source": [
    "<p>The Ricci tensor associated with $\\gamma$:</p>"
   ]
  },
  {
   "cell_type": "code",
   "execution_count": null,
   "metadata": {},
   "outputs": [],
   "source": [
    "Ric = gam.ricci()\n",
    "print(Ric)"
   ]
  },
  {
   "cell_type": "markdown",
   "metadata": {},
   "source": [
    "<p>The scalar curvature $R = \\gamma^{ij} R_{ij}$:</p>"
   ]
  },
  {
   "cell_type": "code",
   "execution_count": null,
   "metadata": {},
   "outputs": [],
   "source": [
    "R = gam.ricci_scalar(name='R')\n",
    "print(R)"
   ]
  },
  {
   "cell_type": "markdown",
   "metadata": {},
   "source": [
    "The coordinate expression of the scalar curvature is quite long:"
   ]
  },
  {
   "cell_type": "code",
   "execution_count": null,
   "metadata": {},
   "outputs": [],
   "source": [
    "print(R.expr())"
   ]
  },
  {
   "cell_type": "markdown",
   "metadata": {},
   "source": [
    "<h2>3+1 Einstein equations</h2>\n",
    "<p>Let us check that the vacuum 3+1 Einstein equations are satisfied.</p>\n",
    "<p>We start by the contraint equations:</p>\n",
    "<h3>Hamiltonian constraint</h3>\n",
    "\n",
    "<p>Let us first evaluate the term $K_{ij} K^{ij}$:</p>"
   ]
  },
  {
   "cell_type": "code",
   "execution_count": null,
   "metadata": {},
   "outputs": [],
   "source": [
    "Kuu = Ku.up(gam, 1)\n",
    "trKK = K['_ij']*Kuu['^ij']\n",
    "print(trKK)"
   ]
  },
  {
   "cell_type": "markdown",
   "metadata": {},
   "source": [
    "The vacuum Hamiltonian constraint equation is \n",
    "$$ R + K^2 -K_{ij} K^{ij} = 0 $$"
   ]
  },
  {
   "cell_type": "code",
   "execution_count": null,
   "metadata": {},
   "outputs": [],
   "source": [
    "Ham = R + trK^2 - trKK\n",
    "print(Ham)\n",
    "Ham.display()"
   ]
  },
  {
   "cell_type": "markdown",
   "metadata": {},
   "source": [
    "Hence the Hamiltonian constraint is fulfilled. "
   ]
  },
  {
   "cell_type": "markdown",
   "metadata": {},
   "source": [
    "### Momentum constraint\n",
    "\n",
    "In vaccum, the momentum constraint is\n",
    "$$ D_j K^j_{\\ \\, i} - D_i K = 0 $$"
   ]
  },
  {
   "cell_type": "code",
   "execution_count": null,
   "metadata": {},
   "outputs": [],
   "source": [
    "mom = D(Ku).trace(0,2) - D(trK)\n",
    "print(mom)\n",
    "mom.display()"
   ]
  },
  {
   "cell_type": "markdown",
   "metadata": {},
   "source": [
    "Hence the momentum constraint is fulfilled. "
   ]
  },
  {
   "cell_type": "markdown",
   "metadata": {},
   "source": [
    "<h3>Dynamical Einstein equations</h3>\n",
    "<p>Let us first evaluate the symmetric bilinear form $k_{ij} := K_{ik} K^k_{\\ \\, j}$:</p>"
   ]
  },
  {
   "cell_type": "code",
   "execution_count": null,
   "metadata": {},
   "outputs": [],
   "source": [
    "KK = K['_ik']*Ku['^k_j']\n",
    "print(KK)"
   ]
  },
  {
   "cell_type": "code",
   "execution_count": null,
   "metadata": {},
   "outputs": [],
   "source": [
    "KK1 = KK.symmetrize()\n",
    "KK == KK1"
   ]
  },
  {
   "cell_type": "code",
   "execution_count": null,
   "metadata": {},
   "outputs": [],
   "source": [
    "KK = KK1\n",
    "print(KK)"
   ]
  },
  {
   "cell_type": "markdown",
   "metadata": {},
   "source": [
    "<p>In vacuum and for stationary spacetimes, the dynamical Einstein equations are\n",
    "$$ \\mathcal{L}_\\beta K_{ij} - D_i D_j N + N \\left( R_{ij} + K K_{ij} - 2 K_{ik} K^k_{\\ \\, j}\\right) = 0 $$"
   ]
  },
  {
   "cell_type": "code",
   "execution_count": null,
   "metadata": {},
   "outputs": [],
   "source": [
    "dyn = K.lie_derivative(b) - D(D(N)) + N*( Ric + trK*K - 2*KK )\n",
    "print(dyn)\n",
    "dyn.display()"
   ]
  },
  {
   "cell_type": "markdown",
   "metadata": {},
   "source": [
    "Hence the dynamical Einstein equations are fulfilled."
   ]
  }
 ],
 "metadata": {
  "kernelspec": {
   "display_name": "SageMath 9.8",
   "language": "sage",
   "name": "sagemath"
  },
  "language": "python",
  "language_info": {
   "codemirror_mode": {
    "name": "ipython",
    "version": 3
   },
   "file_extension": ".py",
   "mimetype": "text/x-python",
   "name": "python",
   "nbconvert_exporter": "python",
   "pygments_lexer": "ipython3",
   "version": "3.8.10"
  }
 },
 "nbformat": 4,
 "nbformat_minor": 1
}
