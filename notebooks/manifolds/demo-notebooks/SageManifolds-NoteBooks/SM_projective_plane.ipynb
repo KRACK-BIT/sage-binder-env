{
 "cells": [
  {
   "cell_type": "markdown",
   "metadata": {},
   "source": [
    "# Real projective plane $\\mathbb{RP}^2$\n",
    "\n",
    "This Jupyter notebook demonstrates some capabilities of SageMath about differentiable manifolds on the example of real projective plane. The corresponding tools have been developed within\n",
    "the  [SageManifolds](https://sagemanifolds.obspm.fr) project."
   ]
  },
  {
   "cell_type": "markdown",
   "metadata": {},
   "source": [
    "A version of SageMath at least equal to 7.5 is required to run this notebook:"
   ]
  },
  {
   "cell_type": "code",
   "execution_count": null,
   "metadata": {},
   "outputs": [],
   "source": [
    "version()"
   ]
  },
  {
   "cell_type": "markdown",
   "metadata": {},
   "source": [
    "First we set up the notebook to use LaTeX for rendering outputs:"
   ]
  },
  {
   "cell_type": "code",
   "execution_count": null,
   "metadata": {},
   "outputs": [],
   "source": [
    "%display latex"
   ]
  },
  {
   "cell_type": "markdown",
   "metadata": {},
   "source": [
    "## Constructing the manifold\n",
    "We start by declaring the real projective plane as a 2-dimensional differentiable manifold:"
   ]
  },
  {
   "cell_type": "code",
   "execution_count": null,
   "metadata": {},
   "outputs": [],
   "source": [
    "RP2 = Manifold(2, 'RP^2', r'\\mathbb{RP}^2')\n",
    "RP2"
   ]
  },
  {
   "cell_type": "markdown",
   "metadata": {},
   "source": [
    "<p>Then we provide $\\mathbb{RP}^2$ with some atlas. A minimal atlas on $\\mathbb{RP}^2$ must have at least three charts. Such an atlas is easy to infer from the common interpretation of $\\mathbb{RP}^2$ as the set of lines of $\\mathbb{R}^3$ passing through the origin $(x,y,z)=(0,0,0)$. Let $U_1$ be the subset of lines that are not contained in the plane $z=0$; this is an open set of $\\mathbb{RP}^2$, so that we declare it as:</p>"
   ]
  },
  {
   "cell_type": "code",
   "execution_count": null,
   "metadata": {},
   "outputs": [],
   "source": [
    "U1 = RP2.open_subset('U_1')\n",
    "U1"
   ]
  },
  {
   "cell_type": "markdown",
   "metadata": {},
   "source": [
    "<p>Any line in $U_1$ is uniquely determined by its intersection with the plane $z=1$. The Cartesian coordinates $(x,y,1)$ of the intersection point lead to an obvious coordinate system $(x_1,y_1)$ on $U_1$ by setting $(x_1,y_1)=(x,y)$:</p>"
   ]
  },
  {
   "cell_type": "code",
   "execution_count": null,
   "metadata": {},
   "outputs": [],
   "source": [
    "X1.<x1,y1> = U1.chart()\n",
    "X1"
   ]
  },
  {
   "cell_type": "markdown",
   "metadata": {},
   "source": [
    "<p>Note that since we have not specified any coordinate range in the arguments of <span style=\"font-family: courier new,courier;\">chart()</span>, the range of $(x_1,y_1)$ is $\\mathbb{R}^2$. </p>\n",
    "<p>Similarly, let $U_2$ be the set of lines through the origin of $\\mathbb{R}^3$ that are not contained in the plane $x=0$. Any line in $U_2$ is uniquely determined by its intersection $(1,y,z)$ with the plane $x=1$, leading to coordinates $(x_2,y_2)=(y,z)$ on $U_2$:</p>"
   ]
  },
  {
   "cell_type": "code",
   "execution_count": null,
   "metadata": {},
   "outputs": [],
   "source": [
    "U2 = RP2.open_subset('U_2')\n",
    "X2.<x2,y2> = U2.chart()\n",
    "X2"
   ]
  },
  {
   "cell_type": "markdown",
   "metadata": {},
   "source": [
    "<p>Finally, let $U_3$ be the set of lines through the origin of $\\mathbb{R}^3$ that are not contained in the plane $y=0$. Any line in $U_3$ is uniquely determined by its intersection $(x,1,z)$ with the plane $y=1$, leading to coordinates $(x_3,y_3)=(z,x)$ on $U_3$:</p>"
   ]
  },
  {
   "cell_type": "code",
   "execution_count": null,
   "metadata": {},
   "outputs": [],
   "source": [
    "U3 = RP2.open_subset('U_3')\n",
    "X3.<x3,y3> = U3.chart()\n",
    "X3"
   ]
  },
  {
   "cell_type": "markdown",
   "metadata": {},
   "source": [
    "<p>We declare that the union of the three (overlapping) open domains $U_1$, $U_2$ and $U_3$ is $\\mathbb{RP}^2$:</p>"
   ]
  },
  {
   "cell_type": "code",
   "execution_count": null,
   "metadata": {},
   "outputs": [],
   "source": [
    "RP2.declare_union(U1.union(U2), U3)\n",
    "U1.union(U2).union(U3)"
   ]
  },
  {
   "cell_type": "markdown",
   "metadata": {},
   "source": [
    "<p>At this stage, three open covers of $\\mathbb{RP}^2$ have been constructed:</p>"
   ]
  },
  {
   "cell_type": "code",
   "execution_count": null,
   "metadata": {},
   "outputs": [],
   "source": [
    "RP2.open_covers()"
   ]
  },
  {
   "cell_type": "markdown",
   "metadata": {},
   "source": [
    "<p>Finally, to fully specify the manifold $\\mathbb{RP}^2$, we give the transition maps between the various charts; the transition map between the charts X1=$(U_1,(x_1,y_1))$ and X2=$(U_2,(x_2,y_2))$ is defined on the set $U_{12} := U_1 \\cap U_2$ of lines through the origin of $\\mathbb{R}^3$ that are neither contained in the plane $x=0$ ($x_1=0$ in $U_1$) nor contained in the plane $z=0$ ($y_2=0$ in $U_2$):</p>"
   ]
  },
  {
   "cell_type": "code",
   "execution_count": null,
   "metadata": {},
   "outputs": [],
   "source": [
    "X1_to_X2 = X1.transition_map(X2, (y1/x1, 1/x1), intersection_name='U_{12}',\n",
    "                             restrictions1= x1!=0, restrictions2= y2!=0)\n",
    "X1_to_X2.display()"
   ]
  },
  {
   "cell_type": "markdown",
   "metadata": {},
   "source": [
    "<p>The inverse of this transition map is easily computed by Sage:</p>"
   ]
  },
  {
   "cell_type": "code",
   "execution_count": null,
   "metadata": {},
   "outputs": [],
   "source": [
    "X2_to_X1 = X1_to_X2.inverse()\n",
    "X2_to_X1.display()"
   ]
  },
  {
   "cell_type": "markdown",
   "metadata": {},
   "source": [
    "<p>The transition map between the charts X1=$(U_1,(x_1,y_1))$ and X3=$(U_3,(x_3,y_3))$ is defined on the set $U_{13} := U_1 \\cap U_3$ of lines through the origin of $\\mathbb{R}^3$ that are neither contained in the plane $y=0$ ($y_1=0$ in $U_1$) nor contained in the plane $z=0$ ($x_3=0$ in $U_3$):</p>"
   ]
  },
  {
   "cell_type": "code",
   "execution_count": null,
   "metadata": {},
   "outputs": [],
   "source": [
    "X1_to_X3 = X1.transition_map(X3, (1/y1, x1/y1), intersection_name='U_{13}',\n",
    "                             restrictions1= y1!=0, restrictions2= x3!=0)\n",
    "X1_to_X3.display()"
   ]
  },
  {
   "cell_type": "code",
   "execution_count": null,
   "metadata": {},
   "outputs": [],
   "source": [
    "X3_to_X1 = X1_to_X3.inverse()\n",
    "X3_to_X1.display()"
   ]
  },
  {
   "cell_type": "markdown",
   "metadata": {},
   "source": [
    "<p>Finally, the transition map between the charts X2=$(U_2,(x_2,y_2))$ and X3=$(U_3,(x_3,y_3))$ is defined on the set $U_{23} := U_2 \\cap U_3$ of lines through the origin of $\\mathbb{R}^3$ that are neither contained in the plane $y=0$ ($x_2=0$ in $U_2$) nor contained in the plane $x=0$ ($y_3=0$ in $U_3$):</p>"
   ]
  },
  {
   "cell_type": "code",
   "execution_count": null,
   "metadata": {},
   "outputs": [],
   "source": [
    "X2_to_X3 = X2.transition_map(X3, (y2/x2, 1/x2), intersection_name='U_{23}',\n",
    "                             restrictions1= x2!=0, restrictions2= y3!=0)\n",
    "X2_to_X3.display()"
   ]
  },
  {
   "cell_type": "code",
   "execution_count": null,
   "metadata": {},
   "outputs": [],
   "source": [
    "X3_to_X2 = X2_to_X3.inverse()\n",
    "X3_to_X2.display()"
   ]
  },
  {
   "cell_type": "markdown",
   "metadata": {},
   "source": [
    "<p>At this stage, the manifold $\\mathbb{RP}^2$ is fully constructed. It has been provided with the following atlas:</p>"
   ]
  },
  {
   "cell_type": "code",
   "execution_count": null,
   "metadata": {},
   "outputs": [],
   "source": [
    "RP2.atlas()"
   ]
  },
  {
   "cell_type": "markdown",
   "metadata": {},
   "source": [
    "<p>Note that, in addition to the three chart we have defined, the atlas comprises subcharts on the intersection domains $U_{12}$, $U_{13}$ and $U_{23}$. These charts can be obtained by the method <span style=\"font-family: courier new,courier;\">restrict()</span>:</p>"
   ]
  },
  {
   "cell_type": "code",
   "execution_count": null,
   "metadata": {},
   "outputs": [],
   "source": [
    "U12 = U1.intersection(U2)\n",
    "U13 = U1.intersection(U3)\n",
    "U23 = U2.intersection(U3)\n",
    "X1.restrict(U12)"
   ]
  },
  {
   "cell_type": "code",
   "execution_count": null,
   "metadata": {},
   "outputs": [],
   "source": [
    "X1.restrict(U12) is RP2.atlas()[3]"
   ]
  },
  {
   "cell_type": "markdown",
   "metadata": {},
   "source": [
    "<h2>Non-orientability of $\\mathbb{RP}^2$</h2>\n",
    "<p>It is well known that $\\mathbb{RP}^2$ is not an orientable manifold. To illustrate this, let us make an attempt to construct a global non-vanishing 2-form $\\epsilon$ on $\\mathbb{RP}^2$. If we succeed, this would provide a volume form and $\\mathbb{RP}^2$ would be orientable. We start by declaring $\\epsilon$ as a 2-form on $\\mathbb{RP}^2$:</p>"
   ]
  },
  {
   "cell_type": "code",
   "execution_count": null,
   "metadata": {},
   "outputs": [],
   "source": [
    "eps = RP2.diff_form(2, name='eps', latex_name=r'\\epsilon')\n",
    "print(eps)"
   ]
  },
  {
   "cell_type": "markdown",
   "metadata": {},
   "source": [
    "<p>We set the value of $\\epsilon$ on domain $U_1$ to be $\\mathrm{d}x_1 \\wedge \\mathrm{d}y_1$ by demanding that the component $\\epsilon_{01}$ of $\\epsilon$ with respect to coordinates $(x_1,y_1)$  is one, as follows:</p>"
   ]
  },
  {
   "cell_type": "code",
   "execution_count": null,
   "metadata": {},
   "outputs": [],
   "source": [
    "e1 = X1.frame()\n",
    "e1"
   ]
  },
  {
   "cell_type": "code",
   "execution_count": null,
   "metadata": {},
   "outputs": [],
   "source": [
    "eps[e1,0,1] = 1\n",
    "eps.display(e1)"
   ]
  },
  {
   "cell_type": "markdown",
   "metadata": {},
   "source": [
    "<p>If we ask for the expression of $\\epsilon$ in terms of the coframe $(\\mathrm{d}x_2, \\mathrm{d}y_2)$ associated with the chart X2 on $U_{12} = U_1\\cap U_2$, we get</p>"
   ]
  },
  {
   "cell_type": "code",
   "execution_count": null,
   "metadata": {},
   "outputs": [],
   "source": [
    "eps.display(X2.frame().restrict(U12), chart=X2.restrict(U12))"
   ]
  },
  {
   "cell_type": "markdown",
   "metadata": {},
   "source": [
    "<p>Now, the complement of $U_{12}$ in $U_2$ is defined by $y_2=0$. The above expression shows that it is not possible to extend smoothly $\\epsilon$ to the whole domain $U_2$. We conclude that starting from $\\mathrm{d}x_1\\wedge\\mathrm{d}y_1$ on $U_1$, it is not possible to get a regular non-vanishing 2-form on $\\mathbb{RP}^2$. This of course follows from the fact that $\\mathbb{RP}^2$ is not orientable.</p>\n",
    "\n",
    "<h2>Steiner map (Roman surface)</h2>\n",
    "<p>Let us first define $\\mathbb{R}^3$ as a 3-dimensional manifold, with a single-chart atlas (Cartesian coordinates Y):</p>"
   ]
  },
  {
   "cell_type": "code",
   "execution_count": null,
   "metadata": {},
   "outputs": [],
   "source": [
    "R3 = Manifold(3, 'R^3', r'\\mathbb{R}^3')\n",
    "Y.<x,y,z> = R3.chart()"
   ]
  },
  {
   "cell_type": "markdown",
   "metadata": {},
   "source": [
    "<p>The Steiner map is a map $\\mathbb{RP}^2 \\rightarrow \\mathbb{R}^3$ defined as follows:</p>"
   ]
  },
  {
   "cell_type": "code",
   "execution_count": null,
   "metadata": {},
   "outputs": [],
   "source": [
    "Phi = RP2.diff_map(R3, {(X1,Y): [y1/(1+x1^2+y1^2), x1/(1+x1^2+y1^2), x1*y1/(1+x1^2+y1^2)],\n",
    "                        (X2,Y): [x2*y2/(1+x2^2+y2^2), y2/(1+x2^2+y2^2), x2/(1+x2^2+y2^2)],\n",
    "                        (X3,Y): [x3/(1+x3^2+y3^2), x3*y3/(1+x3^2+y3^2), y3/(1+x3^2+y3^2)]},\n",
    "                   name='Phi', latex_name=r'\\Phi')\n",
    "Phi.display()"
   ]
  },
  {
   "cell_type": "markdown",
   "metadata": {},
   "source": [
    "<p>$\\Phi$ is a topological immersion of $\\mathbb{RP}^2$ into $\\mathbb{R}^3$, but it is not a smooth immersion (contrary to the Apéry map below): its differential is not injective at $(x_1,y_1)=(0,1)$ and $(x_1,y_1)=(1,0)$. The image of $\\Phi$ is a self-intersecting surface of $\\mathbb{R}^3$, called the <strong>Roman surface</strong>:</p>"
   ]
  },
  {
   "cell_type": "code",
   "execution_count": null,
   "metadata": {},
   "outputs": [],
   "source": [
    "g1 = parametric_plot3d(Phi.expr(X1,Y), (x1,-10,10), (y1,-10,10), plot_points=[100,100])\n",
    "g2 = parametric_plot3d(Phi.expr(X2,Y), (x2,-10,10), (y2,-10,10), plot_points=[100,100])\n",
    "g3 = parametric_plot3d(Phi.expr(X3,Y), (x3,-10,10), (y3,-10,10), plot_points=[100,100])\n",
    "g1+g2+g3"
   ]
  },
  {
   "cell_type": "code",
   "execution_count": null,
   "metadata": {},
   "outputs": [],
   "source": [
    "gX1 = X1.plot(Y, mapping=Phi, max_range=16, number_values=24, plot_points=100, \n",
    "              label_axes=False)\n",
    "gX2 = X2.plot(Y, mapping=Phi, max_range=16, number_values=24, plot_points=100, \n",
    "              label_axes=False, color='green')\n",
    "gX3 = X3.plot(Y, mapping=Phi, max_range=16, number_values=24, plot_points=100, \n",
    "              label_axes=False, color='blue')\n",
    "gX1"
   ]
  },
  {
   "cell_type": "code",
   "execution_count": null,
   "metadata": {},
   "outputs": [],
   "source": [
    "gX2"
   ]
  },
  {
   "cell_type": "code",
   "execution_count": null,
   "metadata": {},
   "outputs": [],
   "source": [
    "gX3"
   ]
  },
  {
   "cell_type": "code",
   "execution_count": null,
   "metadata": {},
   "outputs": [],
   "source": [
    "gX1+gX2+gX3"
   ]
  },
  {
   "cell_type": "markdown",
   "metadata": {},
   "source": [
    "<h2>Apéry map (Boy surface)</h2>\n",
    "<p>The Apéry map [<a href=\"http://dx.doi.org/10.1016/0001-8708(86)90080-0\">Apéry, Adv. Math. <strong>61</strong>, 185 (1986)</a>] is a smooth immersion $\\Psi: \\mathbb{RP}^2 \\rightarrow \\mathbb{R}^3$. In terms of the charts X1, X2, X3 introduced above, it is defined as follows:</p>"
   ]
  },
  {
   "cell_type": "code",
   "execution_count": null,
   "metadata": {},
   "outputs": [],
   "source": [
    "fx = ((2*x^2-y^2-z^2)*(x^2+y^2+z^2)+2*y*z*(y^2-z^2)+z*x*(x^2-z^2)+x*y*(y^2-z^2))/2\n",
    "fx"
   ]
  },
  {
   "cell_type": "code",
   "execution_count": null,
   "metadata": {},
   "outputs": [],
   "source": [
    "fy = sqrt(3)/2*((y^2-z^2)*(x^2+y^2+z^2)+z*x*(z^2-x^2)+x*y*(y^2-x^2))\n",
    "fy"
   ]
  },
  {
   "cell_type": "code",
   "execution_count": null,
   "metadata": {},
   "outputs": [],
   "source": [
    "fz = (x+y+z)*((x+y+z)^3/4+(y-x)*(z-y)*(x-z))\n",
    "fz"
   ]
  },
  {
   "cell_type": "code",
   "execution_count": null,
   "metadata": {},
   "outputs": [],
   "source": [
    "a = sqrt(1+x1^2+y1^2)\n",
    "fx1 = fx.subs(x=x1/a, y=y1/a, z=1/a).simplify_full()\n",
    "fy1 = fy.subs(x=x1/a, y=y1/a, z=1/a).simplify_full()\n",
    "fz1 = fz.subs(x=x1/a, y=y1/a, z=1/a).simplify_full()"
   ]
  },
  {
   "cell_type": "code",
   "execution_count": null,
   "metadata": {},
   "outputs": [],
   "source": [
    "a = sqrt(1+x2^2+y2^2)\n",
    "fx2 = fx.subs(x=1/a, y=x2/a, z=y2/a).simplify_full()\n",
    "fy2 = fy.subs(x=1/a, y=x2/a, z=y2/a).simplify_full()\n",
    "fz2 = fz.subs(x=1/a, y=x2/a, z=y2/a).simplify_full()"
   ]
  },
  {
   "cell_type": "code",
   "execution_count": null,
   "metadata": {},
   "outputs": [],
   "source": [
    "a = sqrt(1+x3^2+y3^2)\n",
    "fx3 = fx.subs(x=y3/a, y=1/a, z=x3/a).simplify_full()\n",
    "fy3 = fy.subs(x=y3/a, y=1/a, z=x3/a).simplify_full()\n",
    "fz3 = fz.subs(x=y3/a, y=1/a, z=x3/a).simplify_full()"
   ]
  },
  {
   "cell_type": "code",
   "execution_count": null,
   "metadata": {},
   "outputs": [],
   "source": [
    "Psi = RP2.diff_map(R3, {(X1,Y): [fx1, fy1, fz1], (X2,Y): [fx2, fy2, fz2],\n",
    "                        (X3,Y): [fx3, fy3, fz3]}, name='Psi', latex_name=r'\\Psi')\n",
    "Psi.display()"
   ]
  },
  {
   "cell_type": "markdown",
   "metadata": {},
   "source": [
    "<p>The image of $\\Psi$ is a self-intersecting surface of $\\mathbb{R}^3$, called the <strong>Boy surface,</strong> after Werner Boy (1879-1914):</p>"
   ]
  },
  {
   "cell_type": "code",
   "execution_count": null,
   "metadata": {},
   "outputs": [],
   "source": [
    "g1 = parametric_plot3d(Psi.expr(X1,Y), (x1,-10,10), (y1,-10,10), plot_points=[100,100])\n",
    "g2 = parametric_plot3d(Psi.expr(X2,Y), (x2,-10,10), (y2,-10,10), plot_points=[100,100])\n",
    "g3 = parametric_plot3d(Psi.expr(X3,Y), (x3,-10,10), (y3,-10,10), plot_points=[100,100])\n",
    "g1+g2+g3"
   ]
  },
  {
   "cell_type": "code",
   "execution_count": null,
   "metadata": {},
   "outputs": [],
   "source": [
    "gX1 = X1.plot(Y, mapping=Psi, number_values=40, plot_points=100, label_axes=False)\n",
    "gX2 = X2.plot(Y, mapping=Psi, number_values=40, plot_points=100, label_axes=False,\n",
    "              color='green')\n",
    "gX3 = X3.plot(Y, mapping=Psi, number_values=40, plot_points=100, label_axes=False,\n",
    "              color='blue')"
   ]
  },
  {
   "cell_type": "code",
   "execution_count": null,
   "metadata": {},
   "outputs": [],
   "source": [
    "gX1"
   ]
  },
  {
   "cell_type": "code",
   "execution_count": null,
   "metadata": {},
   "outputs": [],
   "source": [
    "gX2"
   ]
  },
  {
   "cell_type": "code",
   "execution_count": null,
   "metadata": {},
   "outputs": [],
   "source": [
    "gX3"
   ]
  },
  {
   "cell_type": "code",
   "execution_count": null,
   "metadata": {},
   "outputs": [],
   "source": [
    "gX1+gX2+gX3"
   ]
  }
 ],
 "metadata": {
  "kernelspec": {
   "display_name": "SageMath 9.2",
   "language": "sage",
   "name": "sagemath"
  },
  "language": "python",
  "language_info": {
   "codemirror_mode": {
    "name": "ipython",
    "version": 3
   },
   "file_extension": ".py",
   "mimetype": "text/x-python",
   "name": "python",
   "nbconvert_exporter": "python",
   "pygments_lexer": "ipython3",
   "version": "3.8.5"
  }
 },
 "nbformat": 4,
 "nbformat_minor": 1
}
