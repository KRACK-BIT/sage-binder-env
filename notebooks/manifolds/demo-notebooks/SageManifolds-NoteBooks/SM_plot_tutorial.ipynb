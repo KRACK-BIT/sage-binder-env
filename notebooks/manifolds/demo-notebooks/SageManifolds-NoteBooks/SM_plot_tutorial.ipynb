{
 "cells": [
  {
   "cell_type": "markdown",
   "metadata": {},
   "source": [
    "# Manifold graphics in SageMath"
   ]
  },
  {
   "cell_type": "markdown",
   "metadata": {},
   "source": [
    "This notebook illustrates some plotting capabilities of manifold objects in SageMath.\n",
    "\n",
    "More examples can be found on the [SageManifolds page](https://sagemanifolds.obspm.fr/examples.html)."
   ]
  },
  {
   "cell_type": "code",
   "execution_count": null,
   "metadata": {},
   "outputs": [],
   "source": [
    "%display latex"
   ]
  },
  {
   "cell_type": "markdown",
   "metadata": {},
   "source": [
    "## The 2-sphere example"
   ]
  },
  {
   "cell_type": "markdown",
   "metadata": {},
   "source": [
    "Let us consider the sphere $\\mathbb{S}^2$. In SageMath, we declare it as a 2-dimensional \n",
    "differentiable manifold:"
   ]
  },
  {
   "cell_type": "code",
   "execution_count": null,
   "metadata": {},
   "outputs": [],
   "source": [
    "S2 = Manifold(2, 'S^2', latex_name=r'\\mathbb{S}^2', start_index=1)\n",
    "print(S2)"
   ]
  },
  {
   "cell_type": "markdown",
   "metadata": {},
   "source": [
    "We then introduce the standard spherical coordinates $(\\theta,\\phi)$ as a chart on $\\mathbb{S}^2$, denoting the chart as `spher` and the coordinates `th` and `ph`.\n",
    "We shall be lazy here and consider that the spherical chart covers the whole manifold $\\mathbb{S}^2$; this amounts to authorize coordinate singularities:"
   ]
  },
  {
   "cell_type": "code",
   "execution_count": null,
   "metadata": {},
   "outputs": [],
   "source": [
    "spher.<th,ph> = S2.chart(r'th:[0,pi]:\\theta ph:[0,2*pi]:periodic:\\phi')\n",
    "spher"
   ]
  },
  {
   "cell_type": "code",
   "execution_count": null,
   "metadata": {},
   "outputs": [],
   "source": [
    "spher.coord_range()"
   ]
  },
  {
   "cell_type": "markdown",
   "metadata": {},
   "source": [
    "For 3D plots, we shall require the Euclidian space $\\mathbb{E}^3$:"
   ]
  },
  {
   "cell_type": "code",
   "execution_count": null,
   "metadata": {},
   "outputs": [],
   "source": [
    "E3.<X,Y,Z> = EuclideanSpace()\n",
    "E3"
   ]
  },
  {
   "cell_type": "markdown",
   "metadata": {},
   "source": [
    "Let us call `cartesian` the chart of Cartesian coordinates $(X,Y,Z)$:"
   ]
  },
  {
   "cell_type": "code",
   "execution_count": null,
   "metadata": {},
   "outputs": [],
   "source": [
    "cartesian = E3.cartesian_coordinates()\n",
    "cartesian"
   ]
  },
  {
   "cell_type": "markdown",
   "metadata": {},
   "source": [
    "The canonical embedding of $\\mathbb{S}^2$ into $\\mathbb{E}^3$:"
   ]
  },
  {
   "cell_type": "code",
   "execution_count": null,
   "metadata": {},
   "outputs": [],
   "source": [
    "Phi = S2.diff_map(E3, (sin(th)*cos(ph), \n",
    "                       sin(th)*sin(ph),\n",
    "                       cos(th)), \n",
    "                  name='Phi', latex_name=r'\\Phi')\n",
    "Phi.display()"
   ]
  },
  {
   "cell_type": "markdown",
   "metadata": {},
   "source": [
    "## Plot of a chart"
   ]
  },
  {
   "cell_type": "markdown",
   "metadata": {},
   "source": [
    "Each chart is endowed with a `plot()` method.\n",
    "For instance, we may use it to plot the chart of spherical coordinates plotted in terms \n",
    "of itself:"
   ]
  },
  {
   "cell_type": "code",
   "execution_count": null,
   "metadata": {},
   "outputs": [],
   "source": [
    "spher.plot(chart=spher)"
   ]
  },
  {
   "cell_type": "markdown",
   "metadata": {},
   "source": [
    "More intersting is to the plot the chart of spherical coordinates in terms of $\\mathbb{E}^3$'s Cartesian coordinates, via the embedding $\\Phi:\\; \\mathbb{S}^2\\to\\mathbb{E}^3$:"
   ]
  },
  {
   "cell_type": "code",
   "execution_count": null,
   "metadata": {},
   "outputs": [],
   "source": [
    "spher.plot(chart=cartesian, mapping=Phi)"
   ]
  },
  {
   "cell_type": "markdown",
   "metadata": {},
   "source": [
    "For a better image, let us increase the number of coordinate values:"
   ]
  },
  {
   "cell_type": "code",
   "execution_count": null,
   "metadata": {},
   "outputs": [],
   "source": [
    "spher.plot(chart=cartesian, mapping=Phi, number_values=11)"
   ]
  },
  {
   "cell_type": "markdown",
   "metadata": {},
   "source": [
    "One can customize the color of coordinate lines:"
   ]
  },
  {
   "cell_type": "code",
   "execution_count": null,
   "metadata": {},
   "outputs": [],
   "source": [
    "spher.plot(chart=cartesian, mapping=Phi, number_values=11, \n",
    "           color={th: 'red', ph: 'green'})"
   ]
  },
  {
   "cell_type": "markdown",
   "metadata": {},
   "source": [
    "One can fix the value of some coordinates, thereby obtaining a partial plot:"
   ]
  },
  {
   "cell_type": "code",
   "execution_count": null,
   "metadata": {},
   "outputs": [],
   "source": [
    "spher.plot(chart=cartesian, mapping=Phi, number_values=11, \n",
    "           color={th: 'red', ph: 'green'},\n",
    "           fixed_coords={th: pi/4})"
   ]
  },
  {
   "cell_type": "markdown",
   "metadata": {},
   "source": [
    "or limit the range of some coordinates:"
   ]
  },
  {
   "cell_type": "code",
   "execution_count": null,
   "metadata": {},
   "outputs": [],
   "source": [
    "spher.plot(chart=cartesian, mapping=Phi, number_values=11, \n",
    "           color={th: 'red', ph: 'green'},\n",
    "           ranges={ph:(0, pi)})"
   ]
  },
  {
   "cell_type": "markdown",
   "metadata": {},
   "source": [
    "One can also restrict the coordinates of the ambiant chart; here is a example of plot of the chart `spher` in terms of the coordinates $(X,Y)$ of $\\mathbb{E}^3$:"
   ]
  },
  {
   "cell_type": "code",
   "execution_count": null,
   "metadata": {},
   "outputs": [],
   "source": [
    "spher.plot(chart=cartesian, mapping=Phi, number_values=11, \n",
    "           color={th: 'red', ph: 'green'},\n",
    "           ambient_coords=(X, Y))"
   ]
  },
  {
   "cell_type": "markdown",
   "metadata": {},
   "source": [
    "Same thing with only the coordinates $(X,Z)$:"
   ]
  },
  {
   "cell_type": "code",
   "execution_count": null,
   "metadata": {},
   "outputs": [],
   "source": [
    "spher.plot(chart=cartesian, mapping=Phi, number_values=11, \n",
    "           color={th: 'red', ph: 'green'},\n",
    "           ambient_coords=(X, Z))"
   ]
  },
  {
   "cell_type": "markdown",
   "metadata": {},
   "source": [
    "Let us introduce the chart of **stereographic coordinates from the North pole**:"
   ]
  },
  {
   "cell_type": "code",
   "execution_count": null,
   "metadata": {},
   "outputs": [],
   "source": [
    "stereoN.<x,y> = S2.chart()\n",
    "stereoN"
   ]
  },
  {
   "cell_type": "code",
   "execution_count": null,
   "metadata": {},
   "outputs": [],
   "source": [
    "spher_to_stereoN = spher.transition_map(stereoN, \n",
    "                                        (sin(th)*cos(ph)/(1-cos(th)),\n",
    "                                         sin(th)*sin(ph)/(1-cos(th))))\n",
    "spher_to_stereoN.display()"
   ]
  },
  {
   "cell_type": "code",
   "execution_count": null,
   "metadata": {},
   "outputs": [],
   "source": [
    "spher_to_stereoN.set_inverse(2*atan(1/sqrt(x^2+y^2)), atan2(-y,-x)+pi)"
   ]
  },
  {
   "cell_type": "markdown",
   "metadata": {},
   "source": [
    "Plot of spherical coordinate in terms of the stereographic ones:"
   ]
  },
  {
   "cell_type": "code",
   "execution_count": null,
   "metadata": {},
   "outputs": [],
   "source": [
    "spher.plot(chart=stereoN, number_values=15, ranges={th: (pi/8,pi)},\n",
    "           color={th: 'red', ph: 'green'})"
   ]
  },
  {
   "cell_type": "markdown",
   "metadata": {},
   "source": [
    "Plot of stereographic coordinates in terms of spherical ones:"
   ]
  },
  {
   "cell_type": "code",
   "execution_count": null,
   "metadata": {},
   "outputs": [],
   "source": [
    "stereoN.plot(chart=spher, number_values=15, plot_points=200,\n",
    "             color={x: 'blue', y: 'orange'})"
   ]
  },
  {
   "cell_type": "markdown",
   "metadata": {},
   "source": [
    "The expression of the embedding $\\Phi$ in terms of the stereographic coordinates is computed by Sage:"
   ]
  },
  {
   "cell_type": "code",
   "execution_count": null,
   "metadata": {},
   "outputs": [],
   "source": [
    "Phi.display()"
   ]
  },
  {
   "cell_type": "markdown",
   "metadata": {},
   "source": [
    "This means that we can use $\\Phi$ for a 3D view of the stereographic chart:"
   ]
  },
  {
   "cell_type": "code",
   "execution_count": null,
   "metadata": {},
   "outputs": [],
   "source": [
    "stereoN.plot(chart=cartesian, mapping=Phi, number_values=25,\n",
    "             color={x: 'blue', y: 'orange'})"
   ]
  },
  {
   "cell_type": "markdown",
   "metadata": {},
   "source": [
    "The hole at the North pole is due to the default limitation to $[-8,8]$ for the plot range of coordinates that span the whole real line. We can change it to $[-20, 20]$ via the argument `max_range`:"
   ]
  },
  {
   "cell_type": "code",
   "execution_count": null,
   "metadata": {},
   "outputs": [],
   "source": [
    "stereoN.plot(chart=cartesian, mapping=Phi, number_values=25,\n",
    "             color={x: 'blue', y: 'orange'},\n",
    "             max_range=20, plot_points=200)"
   ]
  },
  {
   "cell_type": "markdown",
   "metadata": {},
   "source": [
    "View in terms of the coordinates $(X,Z)$ only:"
   ]
  },
  {
   "cell_type": "code",
   "execution_count": null,
   "metadata": {},
   "outputs": [],
   "source": [
    "stereoN.plot(chart=cartesian, mapping=Phi, number_values=25,\n",
    "             color={x: 'blue', y: 'orange'},\n",
    "             ambient_coords=(X,Z))"
   ]
  },
  {
   "cell_type": "markdown",
   "metadata": {},
   "source": [
    "## Plot of a point"
   ]
  },
  {
   "cell_type": "markdown",
   "metadata": {},
   "source": [
    "Points on manifolds are introduced via SageMath standard parent/element syntax: `element = parent(<data specifying the element>)`. For instance, the North pole is defined as"
   ]
  },
  {
   "cell_type": "code",
   "execution_count": null,
   "metadata": {},
   "outputs": [],
   "source": [
    "N = S2((0, 0), chart=spher, name='N')\n",
    "print(N)"
   ]
  },
  {
   "cell_type": "code",
   "execution_count": null,
   "metadata": {},
   "outputs": [],
   "source": [
    "spher(N)"
   ]
  },
  {
   "cell_type": "code",
   "execution_count": null,
   "metadata": {},
   "outputs": [],
   "source": [
    "sph_plot = spher.plot(chart=cartesian, mapping=Phi, number_values=11,\n",
    "                      color='grey', label_axes=False)\n",
    "sph_plot"
   ]
  },
  {
   "cell_type": "markdown",
   "metadata": {},
   "source": [
    "Points are endowed with a `plot` method:"
   ]
  },
  {
   "cell_type": "code",
   "execution_count": null,
   "metadata": {},
   "outputs": [],
   "source": [
    "N.plot(chart=cartesian, mapping=Phi) + sph_plot"
   ]
  },
  {
   "cell_type": "code",
   "execution_count": null,
   "metadata": {},
   "outputs": [],
   "source": [
    "S = S2((0, 0), chart=stereoN, name='S')"
   ]
  },
  {
   "cell_type": "code",
   "execution_count": null,
   "metadata": {},
   "outputs": [],
   "source": [
    "S.plot(chart=cartesian, mapping=Phi) + sph_plot"
   ]
  },
  {
   "cell_type": "markdown",
   "metadata": {},
   "source": [
    "## Plot of a vector field"
   ]
  },
  {
   "cell_type": "code",
   "execution_count": null,
   "metadata": {},
   "outputs": [],
   "source": [
    "spher.frame()"
   ]
  },
  {
   "cell_type": "code",
   "execution_count": null,
   "metadata": {},
   "outputs": [],
   "source": [
    "stereoN.frame()"
   ]
  },
  {
   "cell_type": "code",
   "execution_count": null,
   "metadata": {},
   "outputs": [],
   "source": [
    "v = S2.vector_field({(stereoN.frame(), stereoN): [1, 0]}, name='v')\n",
    "v.display(stereoN)"
   ]
  },
  {
   "cell_type": "code",
   "execution_count": null,
   "metadata": {},
   "outputs": [],
   "source": [
    "v.plot(chart=stereoN, chart_domain=stereoN)"
   ]
  },
  {
   "cell_type": "code",
   "execution_count": null,
   "metadata": {},
   "outputs": [],
   "source": [
    "v_plot = v.plot(chart=cartesian, mapping=Phi, chart_domain=spher, \n",
    "                ranges={th: (0.01, 3.14)},\n",
    "                number_values=11, scale=0.2) + sph_plot\n",
    "v_plot"
   ]
  },
  {
   "cell_type": "code",
   "execution_count": null,
   "metadata": {},
   "outputs": [],
   "source": [
    "w = S2.vector_field({(stereoN.frame(), stereoN): [0, 1]}, name='w')\n",
    "w.display(stereoN)"
   ]
  },
  {
   "cell_type": "code",
   "execution_count": null,
   "metadata": {},
   "outputs": [],
   "source": [
    "w.plot(chart=cartesian, mapping=Phi, chart_domain=spher, \n",
    "                ranges={th: (0.01, 3.14)}, color='red',\n",
    "                number_values=11, scale=0.2) + v_plot"
   ]
  },
  {
   "cell_type": "markdown",
   "metadata": {},
   "source": [
    "## Plot of a curve"
   ]
  },
  {
   "cell_type": "code",
   "execution_count": null,
   "metadata": {},
   "outputs": [],
   "source": [
    "R.<t> = manifolds.RealLine() \n",
    "c = S2.curve({spher: [2*atan(exp(-t/10)), t]}, (t, -oo, +oo), name='c')\n",
    "c.display()"
   ]
  },
  {
   "cell_type": "code",
   "execution_count": null,
   "metadata": {},
   "outputs": [],
   "source": [
    "c.plot(chart=spher, prange=(-50, 50))"
   ]
  },
  {
   "cell_type": "code",
   "execution_count": null,
   "metadata": {},
   "outputs": [],
   "source": [
    "c.plot(chart=stereoN, aspect_ratio=1)"
   ]
  },
  {
   "cell_type": "code",
   "execution_count": null,
   "metadata": {},
   "outputs": [],
   "source": [
    "c.plot(chart=stereoN, aspect_ratio=1, prange=(-20, 8), plot_points=200,\n",
    "       color='blue', thickness=2)"
   ]
  },
  {
   "cell_type": "code",
   "execution_count": null,
   "metadata": {},
   "outputs": [],
   "source": [
    "c_plot = c.plot(chart=cartesian, mapping=Phi, max_range=40, plot_points=400, \n",
    "                thickness=3) + sph_plot\n",
    "c_plot"
   ]
  },
  {
   "cell_type": "code",
   "execution_count": null,
   "metadata": {},
   "outputs": [],
   "source": [
    "vc = c.tangent_vector_field()\n",
    "vc.display()"
   ]
  },
  {
   "cell_type": "code",
   "execution_count": null,
   "metadata": {},
   "outputs": [],
   "source": [
    "vc.plot(chart=stereoN, number_values=30, scale=0.5, color='brown') \\\n",
    " + c.plot(chart=stereoN, aspect_ratio=1)"
   ]
  },
  {
   "cell_type": "code",
   "execution_count": null,
   "metadata": {},
   "outputs": [],
   "source": [
    "vc.plot(chart=cartesian, mapping=Phi, ranges={t: (-20, 20)}, \n",
    "        number_values=30, scale=0.5, color='brown') + c_plot"
   ]
  },
  {
   "cell_type": "code",
   "execution_count": null,
   "metadata": {},
   "outputs": [],
   "source": [
    "show(_, viewer='tachyon', aspect_ratio=1, figsize=8)"
   ]
  },
  {
   "cell_type": "markdown",
   "metadata": {},
   "source": [
    "Other examples of manifold plots are [here](https://sagemanifolds.obspm.fr/gallery.html)."
   ]
  }
 ],
 "metadata": {
  "kernelspec": {
   "display_name": "SageMath 9.8.rc0",
   "language": "sage",
   "name": "sagemath"
  },
  "language_info": {
   "codemirror_mode": {
    "name": "ipython",
    "version": 3
   },
   "file_extension": ".py",
   "mimetype": "text/x-python",
   "name": "python",
   "nbconvert_exporter": "python",
   "pygments_lexer": "ipython3",
   "version": "3.10.6"
  }
 },
 "nbformat": 4,
 "nbformat_minor": 2
}
