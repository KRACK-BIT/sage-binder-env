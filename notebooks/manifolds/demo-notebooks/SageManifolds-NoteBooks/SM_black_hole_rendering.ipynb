{
 "cells": [
  {
   "cell_type": "markdown",
   "metadata": {},
   "source": [
    "# Black hole rendering with SageMath\n",
    "\n",
    "### Florentin Jaffredo"
   ]
  },
  {
   "cell_type": "markdown",
   "metadata": {},
   "source": [
    "## Introduction\n",
    "\n",
    "This notebook is a step-by-step implementation of a basic rendering engine in curved spacetime. The objective is to obtain a somewhat realistic image of an accretion disk around a black hole.\n",
    "\n",
    "The technique consists in launching lightlike geodesics toward the past from a single point (the virtual camera), using the [geodesic integrator](http://doc.sagemath.org/html/en/reference/manifolds/sage/manifolds/differentiable/integrated_curve.html) of SageMath. To reduce computation time, the spacetime is assumed be spherical symmetric; this reduces the number of required geodesics to produce an image of $n_x\\times n_y$ pixels from about $O\\left(n_x n_y\\right)$ to $O\\left(\\sqrt{n_x^2+n_y^2}\\right)$.\n",
    "\n",
    "This work relies heavily on the [SageManifolds Project](https://sagemanifolds.obspm.fr/). Advanced SageMath notions will also be used throughout this notebook, like Cython compilation and multithreading.\n",
    "\n",
    "This notebook requires a version of SageMath at least equal to 9.0:\n"
   ]
  },
  {
   "cell_type": "code",
   "execution_count": null,
   "metadata": {},
   "outputs": [],
   "source": [
    "version()"
   ]
  },
  {
   "cell_type": "markdown",
   "metadata": {},
   "source": [
    "## Overview\n",
    "\n",
    "The code is separated into 9 parts.\n",
    "\n",
    "* Declaring the spacetime\n",
    "* Launching a geodesic\n",
    "* Launching a lot of geodesics!\n",
    "* Figuring out where it intersects with the accretion disk\n",
    "* Adding thickness to the disk\n",
    "* Using black-body radiation and converting spectra to RGB\n",
    "* First relativistic effect: Doppler effect\n",
    "* Second relativistic effect: aberration (forward focalisation)\n",
    "* Conclusion\n"
   ]
  },
  {
   "cell_type": "markdown",
   "metadata": {},
   "source": [
    "### Configuration\n",
    "\n",
    "This notebook can be quite ressource hungry to run. For that reason different configurations options are provided. It is recommended to start with the lowest one to check that everything works properly. You can of course adapt the number of CPUs to your needs."
   ]
  },
  {
   "cell_type": "markdown",
   "metadata": {},
   "source": [
    "**First configuration:** will run in less than a minute on a 4-core laptop. Produces tiny images with no details (no secondary image)."
   ]
  },
  {
   "cell_type": "code",
   "execution_count": null,
   "metadata": {},
   "outputs": [],
   "source": [
    "# n_cpu = 4 # 4 Go Ram minimum\n",
    "# n_geod = 100\n",
    "# nx, ny = 180, 90"
   ]
  },
  {
   "cell_type": "markdown",
   "metadata": {},
   "source": [
    "**Second configuration:** will run in about 5 minutes on a workstation, produces a reasonably sized image:"
   ]
  },
  {
   "cell_type": "code",
   "execution_count": null,
   "metadata": {},
   "outputs": [],
   "source": [
    "n_cpu = 8 # 8 Go Ram minimum\n",
    "n_geod = 1000\n",
    "nx, ny = 720, 360"
   ]
  },
  {
   "cell_type": "markdown",
   "metadata": {},
   "source": [
    "**Third configuration:** will run in 30 minutes on the Google Cloud Compute Engine. Produces a 4K image showing tiny details on the secondary disk images."
   ]
  },
  {
   "cell_type": "code",
   "execution_count": null,
   "metadata": {},
   "outputs": [],
   "source": [
    "# n_cpu = 36 # 144 Go Ram minimum\n",
    "# n_geod = 30000\n",
    "# nx, ny = 4000, 2000"
   ]
  },
  {
   "cell_type": "markdown",
   "metadata": {},
   "source": [
    "Additional preliminaries: display objects with $ \\LaTeX $ where possible:"
   ]
  },
  {
   "cell_type": "code",
   "execution_count": null,
   "metadata": {},
   "outputs": [],
   "source": [
    "%display latex"
   ]
  },
  {
   "cell_type": "markdown",
   "metadata": {},
   "source": [
    "## Declaring the spacetime\n",
    "\n",
    "Let's start slow by declaring the spacetime we'll use for rendering: it is the ***Schwarzschild spacetime***.\n",
    "\n",
    "It is important to use a coordinate system that is regular at the horizon. Here we use the *Eddington-Finkelstein coordinates*.\n",
    "\n",
    "Let $m$ be the mass of the black hole (that we'll take equal to 2 later). \n",
    "\n",
    "We also add a restriction to ensure that nothing touches the central singularity, and we set the metric $g$."
   ]
  },
  {
   "cell_type": "code",
   "execution_count": null,
   "metadata": {},
   "outputs": [],
   "source": [
    "M = Manifold(4, 'M', structure='Lorentzian')"
   ]
  },
  {
   "cell_type": "code",
   "execution_count": null,
   "metadata": {},
   "outputs": [],
   "source": [
    "C.<t, r, th, ph> = M.chart(r't r:(1,+oo) th:(0,pi):\\theta ph:\\phi')\n",
    "C.coord_range()"
   ]
  },
  {
   "cell_type": "code",
   "execution_count": null,
   "metadata": {},
   "outputs": [],
   "source": [
    "m = var('m')"
   ]
  },
  {
   "cell_type": "code",
   "execution_count": null,
   "metadata": {},
   "outputs": [],
   "source": [
    "g = M.metric()\n",
    "g[0,0] = -(1 - 2*m/r)\n",
    "g[0,1] = 2*m/r\n",
    "g[1,1] = 1 + 2*m/r\n",
    "g[2,2] = r^2\n",
    "g[3,3] = (r*sin(th))^2\n",
    "g[:]"
   ]
  },
  {
   "cell_type": "code",
   "execution_count": null,
   "metadata": {},
   "outputs": [],
   "source": [
    "g.display()"
   ]
  },
  {
   "cell_type": "markdown",
   "metadata": {},
   "source": [
    "We also define a 3-dimensional Euclidean space $E$ to plot some results, using a map $\\phi: M \\rightarrow E$:"
   ]
  },
  {
   "cell_type": "code",
   "execution_count": null,
   "metadata": {},
   "outputs": [],
   "source": [
    "E.<x, y, z> = EuclideanSpace()\n",
    "phi = M.diff_map(E, [r*sin(th)*cos(ph), r*sin(th)*sin(ph), r*cos(th)])\n",
    "phi.display()"
   ]
  },
  {
   "cell_type": "markdown",
   "metadata": {},
   "source": [
    "## Launching a geodesic\n",
    "\n",
    "[Geodesic integration](http://doc.sagemath.org/html/en/reference/manifolds/sage/manifolds/differentiable/integrated_curve.html) was first implemented in SageMath in 2017 and perfected in 2018 to support fast integration and event handling (used to detect the singularity in our case).\n",
    "\n",
    "To introduce the method, let's plot an orbit around a black hole.\n",
    "\n",
    "To do that, we need to find a starting point $p$ as well as an inital velocity vector $v$. It can be quite troublesome to find a suitable one, but here is a free one:"
   ]
  },
  {
   "cell_type": "code",
   "execution_count": null,
   "metadata": {},
   "outputs": [],
   "source": [
    "p = M((0, 14.98, pi/2, 0))\n",
    "Tp = M.tangent_space(p)\n",
    "v = Tp((2, 0, 0.005, 0.05))\n",
    "v = v / sqrt(-g.at(p)(v, v))"
   ]
  },
  {
   "cell_type": "markdown",
   "metadata": {},
   "source": [
    "$v$ is defined as a member of the tangent space at $p$. The last line is used to normalize $v$ as a unit timelike vector."
   ]
  },
  {
   "cell_type": "markdown",
   "metadata": {},
   "source": [
    "Next is the definition of the geodesic. We need to pass a symbolic variable for the proper time (which will not be used). The starting point is deduced from the velocity vector (as the point where the velocity vector is defined)."
   ]
  },
  {
   "cell_type": "code",
   "execution_count": null,
   "metadata": {},
   "outputs": [],
   "source": [
    "tau = var('tau')\n",
    "curve = M.integrated_geodesic(g, (tau, 0, 3000), v)"
   ]
  },
  {
   "cell_type": "markdown",
   "metadata": {},
   "source": [
    "The integration should be very fast. Don't forget to give some numerical value to $m$ here."
   ]
  },
  {
   "cell_type": "code",
   "execution_count": null,
   "metadata": {},
   "outputs": [],
   "source": [
    "sol = curve.solve(step = 1, method=\"ode_int\", parameters_values={m: 2})\n",
    "# sol = curve.solve(step = 1, parameters_values={m: 2})"
   ]
  },
  {
   "cell_type": "markdown",
   "metadata": {},
   "source": [
    "Plotting the solution requires an interpolation. This is automatically done in the next line."
   ]
  },
  {
   "cell_type": "code",
   "execution_count": null,
   "metadata": {},
   "outputs": [],
   "source": [
    "interp = curve.interpolate()"
   ]
  },
  {
   "cell_type": "markdown",
   "metadata": {},
   "source": [
    "The following cell plots the result using the mapping we provided previously. We also add a grey sphere at $r_s = 2m = 4$ (the event horizon) to give a scale."
   ]
  },
  {
   "cell_type": "code",
   "execution_count": null,
   "metadata": {},
   "outputs": [],
   "source": [
    "P = curve.plot_integrated(mapping=phi, color=\"red\", thickness=2, plot_points=3000)\n",
    "P += sage.plot.plot3d.shapes.Sphere(4, color='grey')\n",
    "P"
   ]
  },
  {
   "cell_type": "markdown",
   "metadata": {},
   "source": [
    "You can see that it look nothing like an ellipse, as we are used to in classical celestial mechanics. At this step, you can try adding an angular momentum to the black hole--in other words going from Schwarzschild to Kerr--by setting a non-zero angular momentum in the definition of the manifold ($J=1$ works fine). When this is the case, the orbits are not even included in a plane. Don't forget to revert back your changes before proceeding to the next part."
   ]
  },
  {
   "cell_type": "markdown",
   "metadata": {},
   "source": [
    "## Launching a lot of geodesics!\n",
    "\n",
    "Of course one geodesic is not enough for us, we'll need at least a few hundred of them.\n",
    "\n",
    "Because we don't need to compute the equation again each time, we simply copy the previous declaration of the geodesic while changing the initial point and velocity.\n",
    "\n",
    "It will be useful here to introduce the Python module `multiprocessing` and progress bars as widgets:"
   ]
  },
  {
   "cell_type": "code",
   "execution_count": null,
   "metadata": {},
   "outputs": [],
   "source": [
    "import multiprocessing\n",
    "from ipywidgets import FloatProgress\n",
    "from IPython.display import display"
   ]
  },
  {
   "cell_type": "markdown",
   "metadata": {},
   "source": [
    "It wouldn't be a great idea to set \"1 job = 1 geodesic integration\". Indeed, that would mean copying the geodesic declaration a few hundred times, which would be quite slow. What is done instead is seperating geodesics into batches using the following function:"
   ]
  },
  {
   "cell_type": "code",
   "execution_count": null,
   "metadata": {},
   "outputs": [],
   "source": [
    "def chunks(l, n):\n",
    "    \"\"\"Yield successive n-sized chunks from l.\"\"\"\n",
    "    for i in range(0, len(l), n):\n",
    "        yield l[i:i + n]"
   ]
  },
  {
   "cell_type": "markdown",
   "metadata": {},
   "source": [
    "The number of batches per CPU in not very important. If set to 1, some CPUs may run faster than other ones and stay idle at the end. If too high, too much time will be spent copying the curve setting. I found 3 to be a good value."
   ]
  },
  {
   "cell_type": "code",
   "execution_count": null,
   "metadata": {},
   "outputs": [],
   "source": [
    "n_batches_per_cpu = 3"
   ]
  },
  {
   "cell_type": "markdown",
   "metadata": {},
   "source": [
    "We also redefine the previous geodesic to our new needs: fewer steps and the ability to check for chart boundaries when integrating. The $v$ in this case will not be used; it will always be overwritten before starting any integration."
   ]
  },
  {
   "cell_type": "code",
   "execution_count": null,
   "metadata": {},
   "outputs": [],
   "source": [
    "curve = M.integrated_geodesic(g, (tau, 0, 200), v, across_charts=True)"
   ]
  },
  {
   "cell_type": "markdown",
   "metadata": {},
   "source": [
    "When using `multiprocessing`, functions can only accept a single argument. To overcome this limitation, each argument will be a tuple (curve, start index, number of curves to integrate)."
   ]
  },
  {
   "cell_type": "code",
   "execution_count": null,
   "metadata": {},
   "outputs": [],
   "source": [
    "args = []\n",
    "start_index = 0\n",
    "\n",
    "for chunk in chunks(range(n_geod), n_geod//(n_batches_per_cpu*n_cpu)):\n",
    "    args += [(loads(curve.dumps()), start_index, len(chunk))]\n",
    "    start_index += len(chunk)"
   ]
  },
  {
   "cell_type": "markdown",
   "metadata": {},
   "source": [
    "The next line prints the list of arguments. We can check that each of the 100 geodesics are correctly set. Our little trick allowed us to only define 13 geodesics (about 3 per core, as we wanted; note, the exact result here will depend on what you used for `n_cpu` at the beginning)"
   ]
  },
  {
   "cell_type": "code",
   "execution_count": null,
   "metadata": {},
   "outputs": [],
   "source": [
    "print(args[-1])\n",
    "print(len(args))"
   ]
  },
  {
   "cell_type": "markdown",
   "metadata": {},
   "source": [
    "Now comes a question: which vector can be used as the starting 4-velocity?\n",
    "\n",
    "We need a past-oriented lightlike vector pointing toward the center but with a linearly increasing angle. The 3 space components are already imposed. The time component must then be chosen so that the total vector is lightlike.\n",
    "\n",
    "Let $p$ be the initial point and $v$ the initial 4-velociy, with an unknown time coordinate $dt$ ($y$ depends on the angle, it is a known quantity)."
   ]
  },
  {
   "cell_type": "code",
   "execution_count": null,
   "metadata": {},
   "outputs": [],
   "source": [
    "dt, y, r0 = var('dt, y, r0')"
   ]
  },
  {
   "cell_type": "code",
   "execution_count": null,
   "metadata": {},
   "outputs": [],
   "source": [
    "p = M((0, r0, pi/2, 0))\n",
    "Tp = M.tangent_space(p)\n",
    "v = Tp((dt, -1, 0, y))"
   ]
  },
  {
   "cell_type": "markdown",
   "metadata": {},
   "source": [
    "The norm of $v$ is currently given by:"
   ]
  },
  {
   "cell_type": "code",
   "execution_count": null,
   "metadata": {},
   "outputs": [],
   "source": [
    "g.at(p)(v, v)"
   ]
  },
  {
   "cell_type": "markdown",
   "metadata": {},
   "source": [
    "We need to find $dt$ so that this expression is equal to 0 (lightlike condition). this is easy:"
   ]
  },
  {
   "cell_type": "code",
   "execution_count": null,
   "metadata": {},
   "outputs": [],
   "source": [
    "sol = g.at(p)(v, v).solve(dt)\n",
    "sol"
   ]
  },
  {
   "cell_type": "markdown",
   "metadata": {},
   "source": [
    "As expected, there are two solutions: one past-oriented and one future-oriented. In fact, in our case it does not matter, given that the Schwartzschild spacetime is static."
   ]
  },
  {
   "cell_type": "markdown",
   "metadata": {},
   "source": [
    "The next cell defines the function that will be called by `multiprocessing`. It starts by unpacking the arguments, setting an empty dictionary as the result, and defining the starting position.\n",
    "\n",
    "The initial velocity is then overwritten using the formula above, the integration is performed, and the result is added to the dictionary."
   ]
  },
  {
   "cell_type": "code",
   "execution_count": null,
   "metadata": {},
   "outputs": [],
   "source": [
    "def calc_some_geodesics(args):\n",
    "    \"\"\"\n",
    "    Compute nb geodesics starting at index n0\n",
    "    \"\"\"\n",
    "    curve, n0, nb = args\n",
    "    res = {}\n",
    "    r = 100\n",
    "    posi = [0, r, pi/2, 0]\n",
    "    p = M(posi)\n",
    "    Tp = M.tangent_space(p)\n",
    "    for i in range(n0, n0+nb):\n",
    "        # starting vector\n",
    "        dy = i*0.006/n_geod\n",
    "        v = Tp([sol[0].rhs()(r0=r, y=dy, m=2).n(), -1, 0, dy])\n",
    "        # overwrite the starting vector\n",
    "        curve._initial_tangent_vector = v\n",
    "        # integration with m=2\n",
    "        curve.solve_across_charts(step=0.2, parameters_values={m:2})\n",
    "        # copy and clear solution\n",
    "        res[i] = (p.coord(), curve._solutions.copy())\n",
    "        curve._solutions.clear()\n",
    "    return res"
   ]
  },
  {
   "cell_type": "markdown",
   "metadata": {},
   "source": [
    "`geo` will keep the numerical solutions. I like to see `pool` as a hole in which I can throw some jobs. `multiprocessing` will then magically do them for me using every resource available on the computer."
   ]
  },
  {
   "cell_type": "code",
   "execution_count": null,
   "metadata": {},
   "outputs": [],
   "source": [
    "geo = {}\n",
    "\n",
    "# progress bar display\n",
    "%display plain\n",
    "f = FloatProgress(min=0, max=n_geod)"
   ]
  },
  {
   "cell_type": "code",
   "execution_count": null,
   "metadata": {},
   "outputs": [],
   "source": [
    "display(f)\n",
    "pool = multiprocessing.Pool(n_cpu)\n",
    "for i, some_res in enumerate(pool.imap_unordered(calc_some_geodesics, args)): # do and wait\n",
    "    # progress bar update\n",
    "    f.value += len(some_res)\n",
    "    # update result\n",
    "    geo.update(some_res)\n",
    "\n",
    "# clean exit\n",
    "pool.close()\n",
    "pool.join()"
   ]
  },
  {
   "cell_type": "markdown",
   "metadata": {},
   "source": [
    "If, for any reason, you don't want to use parallel computing, you can replace the previous cell with this one:"
   ]
  },
  {
   "cell_type": "markdown",
   "metadata": {},
   "source": [
    "```\n",
    "display(f)\n",
    "for arg in args:\n",
    "    some_res = calc_some_geodesics(arg)\n",
    "    f.value += len(some_res)\n",
    "    geo.update(some_res)\n",
    "```"
   ]
  },
  {
   "cell_type": "markdown",
   "metadata": {},
   "source": [
    "We can now try to visualize those geodesics.\n",
    "Next cell will plot 20 of them."
   ]
  },
  {
   "cell_type": "code",
   "execution_count": null,
   "metadata": {},
   "outputs": [],
   "source": [
    "# add the sphere\n",
    "P = sage.plot.plot3d.shapes.Sphere(4, color='grey')\n",
    "\n",
    "# cycle through the solutions\n",
    "for i in range(0, n_geod, 5*n_geod/100):    \n",
    "    # set solution\n",
    "    curve._solutions = geo[i][1]\n",
    "    # do interpolation\n",
    "    interp = curve.interpolate()\n",
    "    # plot the curve\n",
    "    P += curve.plot_integrated(mapping=phi, color=[\"red\"], thickness=2, plot_points=150, \n",
    "                               label_axes=False, across_charts=True)\n",
    "\n",
    "# show the result    \n",
    "P"
   ]
  },
  {
   "cell_type": "markdown",
   "metadata": {},
   "source": [
    "We can see that some fall inside the black hole toward the singularity. That's not an issue because the integration is automaticaly stopped when the geodesic leaves the chart domain defined in part 1."
   ]
  },
  {
   "cell_type": "markdown",
   "metadata": {},
   "source": [
    "## Intersection with the accretion disk\n",
    "\n",
    "Time to transform those simulated light-rays into an image. To do this, we first need to compute the intersection between each geodesic and the accretion disk.\n",
    "\n",
    "For this example, the disk spans from $r=8$ to $r=50$, and is tilted by an angle $\\alpha = - \\frac{\\pi}{20}$."
   ]
  },
  {
   "cell_type": "code",
   "execution_count": null,
   "metadata": {},
   "outputs": [],
   "source": [
    "disk_min = 12\n",
    "disk_max = 50\n",
    "alpha = -pi/20"
   ]
  },
  {
   "cell_type": "markdown",
   "metadata": {},
   "source": [
    "Let's plot the disk on top of the last figure.\n",
    "\n",
    "(We cheat a little bit here and use a flattened torus.)"
   ]
  },
  {
   "cell_type": "code",
   "execution_count": null,
   "metadata": {},
   "outputs": [],
   "source": [
    "D = sage.plot.plot3d.shapes.Torus((disk_min+disk_max)/2,\n",
    "                                  (disk_min-disk_max)/2).scale(1,1,0.01).rotateY(-pi/20)"
   ]
  },
  {
   "cell_type": "code",
   "execution_count": null,
   "metadata": {},
   "outputs": [],
   "source": [
    "P + D"
   ]
  },
  {
   "cell_type": "markdown",
   "metadata": {},
   "source": [
    "The same but tilted on the X-axis by an angle $\\beta=\\frac{\\pi}{3}$. As explained earlier, the final image will be obtained by computing for each pixel : \n",
    "\n",
    "* Which geodesic best describes the light-ray\n",
    "* Which angle $\\beta$ at which the disk should be tilted\n",
    "* The intersection between the disk and that geodesic\n"
   ]
  },
  {
   "cell_type": "code",
   "execution_count": null,
   "metadata": {},
   "outputs": [],
   "source": [
    "P + D.rotateX(pi/3)"
   ]
  },
  {
   "cell_type": "markdown",
   "metadata": {},
   "source": [
    "The geodesics are formatted in a strange way because of the solver used. The next line makes it easier to use. `geo` is now a list of list of coordinates (and not a dictionary of strange things)."
   ]
  },
  {
   "cell_type": "code",
   "execution_count": null,
   "metadata": {},
   "outputs": [],
   "source": [
    "geo = [list(geo[i][1].values())[0][0][1].tolist() for i in range(len(geo))]"
   ]
  },
  {
   "cell_type": "markdown",
   "metadata": {},
   "source": [
    "To detect the intersection between the disk and a geodesic, the only solution is to parse the list of successive coordinates. This is done in the following function.\n",
    "\n",
    "For each point of the curve, two rotations are performed (manually for speed purposes) before checking the point coordinates."
   ]
  },
  {
   "cell_type": "code",
   "execution_count": null,
   "metadata": {},
   "outputs": [],
   "source": [
    "def intersection(curve, alpha, beta):\n",
    "    \"\"\"\n",
    "    Return True if the curve intersect the disk comprised between dmin and dmax\n",
    "    tilted of angles alpha and beta\n",
    "    \"\"\"\n",
    "    n = len(curve)\n",
    "    r, theta, phi = curve[0][2:5]\n",
    "    x, y, z = r*sin(theta)*cos(phi), r*sin(theta)*sin(phi), r*cos(theta)\n",
    "    x, y, z = x, y*cos(beta)-z*sin(beta), z*cos(beta)+y*sin(beta)\n",
    "    z = z*cos(alpha)+x*sin(alpha)\n",
    "    for i in range(1, n):\n",
    "        # done in 3 lines for speed consideration\n",
    "        r = curve[i][2]\n",
    "        theta = curve[i][3]\n",
    "        phi = curve[i][4]\n",
    "        # conversion to cartesian:\n",
    "        x2, y2, z2 = r*sin(theta)*cos(phi), r*sin(theta)*sin(phi), r*cos(theta) \n",
    "        # rotation around the X-axis:\n",
    "        y2, z2 = y2*cos(beta)-z2*sin(beta), z2*cos(beta)+y2*sin(beta)  \n",
    "        # rotation around the Y-axis:\n",
    "        x2, z2 = x2*cos(alpha)-z2*sin(alpha), z2*cos(alpha)+x2*sin(alpha)       \n",
    "        if z!=z2:           # needed to prevent a division by zero next line\n",
    "            t = z/(z-z2)    # if 0<=t<1 then the curve intersect the disk between the points i and i-1\n",
    "            if t>=0 and t<1 and curve[i][2]>disk_min and curve[i][2]<disk_max: #check coordinates\n",
    "                return True\n",
    "        x, y, z = x2, y2, z2\n",
    "    return False"
   ]
  },
  {
   "cell_type": "markdown",
   "metadata": {},
   "source": [
    "The only problem with this function is the speed at which it operates. Let's try it on an example:"
   ]
  },
  {
   "cell_type": "code",
   "execution_count": null,
   "metadata": {},
   "outputs": [],
   "source": [
    "%time intersection(geo[28], alpha=pi/5, beta=0)"
   ]
  },
  {
   "cell_type": "markdown",
   "metadata": {},
   "source": [
    "On my computer, it takes more than one second. You can imagine that if this must be done for each pixel, we would have to wait for days for even a single image.\n",
    "By the way, you can argue that everything this function does could be done more efficiently, using for example `numpy` matrix operations. That's true, but in the next parts we'll do more inside the loop than just `return True`.\n",
    "\n",
    "The solution: compile this function!\n",
    "\n",
    "Sage lets us use Cython quite easily, so let's do that."
   ]
  },
  {
   "cell_type": "code",
   "execution_count": null,
   "metadata": {},
   "outputs": [],
   "source": [
    "%%cython\n",
    "from libc.math cimport cos, sin\n",
    "cimport cython\n",
    "\n",
    "@cython.boundscheck(False)\n",
    "@cython.wraparound(False)\n",
    "cpdef intersection(list curve, float alpha, float beta, float dmin, float dmax):\n",
    "    \"\"\"\n",
    "    Return True if the curve intersect the disk comprised between dmin and dmax\n",
    "    tilted of angles alpha and beta\n",
    "    \"\"\"\n",
    "    cdef float x, y, z\n",
    "    cdef float x2, y2, z2\n",
    "    cdef float r, theta, phi\n",
    "    cdef int n, i\n",
    "    cdef float t\n",
    "    cdef float sinalpha, cosalpha\n",
    "    cdef float sinbeta, cosbeta\n",
    "    sinalpha = sin(alpha)\n",
    "    cosalpha = cos(alpha)\n",
    "    sinbeta = sin(beta)\n",
    "    cosbeta = cos(beta)\n",
    "    n = len(curve)\n",
    "    r, theta, phi = curve[0][2:5]\n",
    "    x, y, z = r*sin(theta)*cos(phi), r*sin(theta)*sin(phi), r*cos(theta)\n",
    "    x, y, z = x, y*cos(beta)-z*sin(beta), z*cos(beta)+y*sin(beta)\n",
    "    z = z*cos(alpha)+x*sin(alpha)\n",
    "    for i in range(1, n):        \n",
    "        r = curve[i][2]\n",
    "        theta = curve[i][3]\n",
    "        phi = curve[i][4]\n",
    "        x2, y2, z2 = r*sin(theta)*cos(phi), r*sin(theta)*sin(phi), r*cos(theta)\n",
    "        y2, z2 = y2*cosbeta-z2*sinbeta, z2*cosbeta+y2*sinbeta\n",
    "        x2, z2 = x2*cosalpha-z2*sinalpha, z2*cosalpha+x2*sinalpha\n",
    "        if z!=z2:\n",
    "            t = z/(z-z2)\n",
    "            if t>=0 and t<1 and curve[i][2]>dmin and curve[i][2]<dmax:\n",
    "                return True\n",
    "        x, y, z = x2, y2, z2\n",
    "    return False"
   ]
  },
  {
   "cell_type": "code",
   "execution_count": null,
   "metadata": {},
   "outputs": [],
   "source": [
    "%time intersection(geo[28], pi/5, 0, disk_min, disk_max)"
   ]
  },
  {
   "cell_type": "markdown",
   "metadata": {},
   "source": [
    "Boom!  \n",
    "x10000 speedup in my case!\n",
    "\n",
    "Time to automate the process and make an image. We'll once again use `multiprocessing`. One job this time will correspond to one row of pixels. This time we'll use `numpy`.\n",
    "The result will be an array of RGB colors."
   ]
  },
  {
   "cell_type": "code",
   "execution_count": null,
   "metadata": {},
   "outputs": [],
   "source": [
    "import numpy as np\n",
    "data = np.zeros( (ny, nx, 3), dtype=float )"
   ]
  },
  {
   "cell_type": "code",
   "execution_count": null,
   "metadata": {},
   "outputs": [],
   "source": [
    "def render_row(x):\n",
    "    \"\"\"\n",
    "    Render a single row of the image\n",
    "    \"\"\"\n",
    "    res = np.zeros((ny,3))                  # result row in RGB format\n",
    "    for y in range(ny):                     # for each pixel in the row\n",
    "        beta = atan2(y-ny/2,x)              # beta angle \n",
    "        r = sqrt(x**2+(y-ny/2)**2)          # pixel distance to the center of the image\n",
    "        ind_geo = int(r/400*n_geod*720/nx)  # index of the geodesic to use. values are obtained by trial and error.\n",
    "        if ind_geo<n_geod:                  # don't bother if the index is too big.\n",
    "            if intersection(geo[ind_geo], float(pi/20), float(beta), \n",
    "                            float(disk_min), float(disk_max)):\n",
    "                res[ny-1-y,:] = [255, 0, 0] # red if intersects; black otherwise\n",
    "    return x, res                           # also return the argument, which is not remembered otherwise"
   ]
  },
  {
   "cell_type": "markdown",
   "metadata": {},
   "source": [
    "This time, it is very important to use the argument `maxtasksperchild` to kill the unused processes. This prevents a memory leak.\n",
    "\n",
    "We enclose it inside a function because we'll be calling it multiple times."
   ]
  },
  {
   "cell_type": "code",
   "execution_count": null,
   "metadata": {},
   "outputs": [],
   "source": [
    "def render():\n",
    "    # display progress bar\n",
    "    f = FloatProgress(min=0, max=nx)\n",
    "    display(f)\n",
    "    pool = multiprocessing.Pool(n_cpu, maxtasksperchild=int(10))\n",
    "    for i, rows in enumerate(pool.imap_unordered(render_row, \n",
    "                                                 range(-nx/2, nx/2))): # do and wait\n",
    "        \n",
    "        # update progress bar\n",
    "        f.value+=1\n",
    "        # copy the result in the right place\n",
    "        x, res = rows\n",
    "        data[:, x+nx/2, :] = res \n",
    "    # clean exit\n",
    "    pool.close()\n",
    "    pool.join()"
   ]
  },
  {
   "cell_type": "code",
   "execution_count": null,
   "metadata": {},
   "outputs": [],
   "source": [
    "render()"
   ]
  },
  {
   "cell_type": "markdown",
   "metadata": {},
   "source": [
    "The image used to be constructed from `data` via `scipy.misc.toimage`, but this function has been removed from SciPy 1.3 and higher versions (such as SciPy 1.5.2 used by SageMath 9.2). As a replacement, we employ the user-defined function `toimage` proposed in this [Stack Overflow post](https://stackoverflow.com/questions/57545125/attributeerror-module-scipy-misc-has-no-attribute-toimage); it is based on `PIL.Image`:"
   ]
  },
  {
   "cell_type": "code",
   "execution_count": null,
   "metadata": {},
   "outputs": [],
   "source": [
    "from PIL import Image\n",
    "\n",
    "_errstr = \"Mode is unknown or incompatible with input array shape.\"\n",
    "\n",
    "def bytescale(data, cmin=None, cmax=None, high=255, low=0):\n",
    "    \"\"\"\n",
    "    Byte scales an array (image).\n",
    "    Byte scaling means converting the input image to uint8 dtype and scaling\n",
    "    the range to ``(low, high)`` (default 0-255).\n",
    "    If the input image already has dtype uint8, no scaling is done.\n",
    "    This function is only available if Python Imaging Library (PIL) is installed.\n",
    "    Parameters\n",
    "    ----------\n",
    "    data : ndarray\n",
    "        PIL image data array.\n",
    "    cmin : scalar, optional\n",
    "        Bias scaling of small values. Default is ``data.min()``.\n",
    "    cmax : scalar, optional\n",
    "        Bias scaling of large values. Default is ``data.max()``.\n",
    "    high : scalar, optional\n",
    "        Scale max value to `high`.  Default is 255.\n",
    "    low : scalar, optional\n",
    "        Scale min value to `low`.  Default is 0.\n",
    "    Returns\n",
    "    -------\n",
    "    img_array : uint8 ndarray\n",
    "        The byte-scaled array.\n",
    "    Examples\n",
    "    --------\n",
    "    >>> from scipy.misc import bytescale\n",
    "    >>> img = np.array([[ 91.06794177,   3.39058326,  84.4221549 ],\n",
    "    ...                 [ 73.88003259,  80.91433048,   4.88878881],\n",
    "    ...                 [ 51.53875334,  34.45808177,  27.5873488 ]])\n",
    "    >>> bytescale(img)\n",
    "    array([[255,   0, 236],\n",
    "           [205, 225,   4],\n",
    "           [140,  90,  70]], dtype=uint8)\n",
    "    >>> bytescale(img, high=200, low=100)\n",
    "    array([[200, 100, 192],\n",
    "           [180, 188, 102],\n",
    "           [155, 135, 128]], dtype=uint8)\n",
    "    >>> bytescale(img, cmin=0, cmax=255)\n",
    "    array([[91,  3, 84],\n",
    "           [74, 81,  5],\n",
    "           [52, 34, 28]], dtype=uint8)\n",
    "    \"\"\"\n",
    "    if data.dtype == np.uint8:\n",
    "        return data\n",
    "\n",
    "    if high > 255:\n",
    "        raise ValueError(\"`high` should be less than or equal to 255.\")\n",
    "    if low < 0:\n",
    "        raise ValueError(\"`low` should be greater than or equal to 0.\")\n",
    "    if high < low:\n",
    "        raise ValueError(\"`high` should be greater than or equal to `low`.\")\n",
    "\n",
    "    if cmin is None:\n",
    "        cmin = data.min()\n",
    "    if cmax is None:\n",
    "        cmax = data.max()\n",
    "\n",
    "    cscale = cmax - cmin\n",
    "    if cscale < 0:\n",
    "        raise ValueError(\"`cmax` should be larger than `cmin`.\")\n",
    "    elif cscale == 0:\n",
    "        cscale = 1\n",
    "\n",
    "    scale = float(high - low) / cscale\n",
    "    bytedata = (data - cmin) * scale + low\n",
    "    return (bytedata.clip(low, high) + 0.5).astype(np.uint8)\n",
    "\n",
    "def toimage(arr, high=255, low=0, cmin=None, cmax=None, pal=None,\n",
    "            mode=None, channel_axis=None):\n",
    "    \"\"\"Takes a numpy array and returns a PIL image.\n",
    "    This function is only available if Python Imaging Library (PIL) is installed.\n",
    "    The mode of the PIL image depends on the array shape and the `pal` and\n",
    "    `mode` keywords.\n",
    "    For 2-D arrays, if `pal` is a valid (N,3) byte-array giving the RGB values\n",
    "    (from 0 to 255) then ``mode='P'``, otherwise ``mode='L'``, unless mode\n",
    "    is given as 'F' or 'I' in which case a float and/or integer array is made.\n",
    "    .. warning::\n",
    "        This function uses `bytescale` under the hood to rescale images to use\n",
    "        the full (0, 255) range if ``mode`` is one of ``None, 'L', 'P', 'l'``.\n",
    "        It will also cast data for 2-D images to ``uint32`` for ``mode=None``\n",
    "        (which is the default).\n",
    "    Notes\n",
    "    -----\n",
    "    For 3-D arrays, the `channel_axis` argument tells which dimension of the\n",
    "    array holds the channel data.\n",
    "    For 3-D arrays if one of the dimensions is 3, the mode is 'RGB'\n",
    "    by default or 'YCbCr' if selected.\n",
    "    The numpy array must be either 2 dimensional or 3 dimensional.\n",
    "    \"\"\"\n",
    "    data = np.asarray(arr)\n",
    "    if np.iscomplexobj(data):\n",
    "        raise ValueError(\"Cannot convert a complex-valued array.\")\n",
    "    shape = list(data.shape)\n",
    "    valid = len(shape) == 2 or ((len(shape) == 3) and\n",
    "                                ((3 in shape) or (4 in shape)))\n",
    "    if not valid:\n",
    "        raise ValueError(\"'arr' does not have a suitable array shape for \"\n",
    "                         \"any mode.\")\n",
    "    if len(shape) == 2:\n",
    "        shape = (shape[1], shape[0])  # columns show up first\n",
    "        if mode == 'F':\n",
    "            data32 = data.astype(np.float32)\n",
    "            image = Image.frombytes(mode, shape, data32.tobytes())\n",
    "            return image\n",
    "        if mode in [None, 'L', 'P']:\n",
    "            bytedata = bytescale(data, high=high, low=low,\n",
    "                                 cmin=cmin, cmax=cmax)\n",
    "            image = Image.frombytes('L', shape, bytedata.tobytes())\n",
    "            if pal is not None:\n",
    "                image.putpalette(np.asarray(pal, dtype=np.uint8).tobytes())\n",
    "                # Becomes a mode='P' automagically.\n",
    "            elif mode == 'P':  # default gray-scale\n",
    "                pal = (np.arange(0, 256, 1, dtype=np.uint8)[:, np.newaxis] *\n",
    "                       np.ones((3,), dtype=np.uint8)[np.newaxis, :])\n",
    "                image.putpalette(np.asarray(pal, dtype=np.uint8).tobytes())\n",
    "            return image\n",
    "        if mode == '1':  # high input gives threshold for 1\n",
    "            bytedata = (data > high)\n",
    "            image = Image.frombytes('1', shape, bytedata.tobytes())\n",
    "            return image\n",
    "        if cmin is None:\n",
    "            cmin = np.amin(np.ravel(data))\n",
    "        if cmax is None:\n",
    "            cmax = np.amax(np.ravel(data))\n",
    "        data = (data*1.0 - cmin)*(high - low)/(cmax - cmin) + low\n",
    "        if mode == 'I':\n",
    "            data32 = data.astype(np.uint32)\n",
    "            image = Image.frombytes(mode, shape, data32.tobytes())\n",
    "        else:\n",
    "            raise ValueError(_errstr)\n",
    "        return image\n",
    "\n",
    "    # if here then 3-d array with a 3 or a 4 in the shape length.\n",
    "    # Check for 3 in datacube shape --- 'RGB' or 'YCbCr'\n",
    "    if channel_axis is None:\n",
    "        if (3 in shape):\n",
    "            ca = np.flatnonzero(np.asarray(shape) == 3)[0]\n",
    "        else:\n",
    "            ca = np.flatnonzero(np.asarray(shape) == 4)\n",
    "            if len(ca):\n",
    "                ca = ca[0]\n",
    "            else:\n",
    "                raise ValueError(\"Could not find channel dimension.\")\n",
    "    else:\n",
    "        ca = channel_axis\n",
    "\n",
    "    numch = shape[ca]\n",
    "    if numch not in [3, 4]:\n",
    "        raise ValueError(\"Channel axis dimension is not valid.\")\n",
    "\n",
    "    bytedata = bytescale(data, high=high, low=low, cmin=cmin, cmax=cmax)\n",
    "    if ca == 2:\n",
    "        strdata = bytedata.tobytes()\n",
    "        shape = (shape[1], shape[0])\n",
    "    elif ca == 1:\n",
    "        strdata = np.transpose(bytedata, (0, 2, 1)).tobytes()\n",
    "        shape = (shape[2], shape[0])\n",
    "    elif ca == 0:\n",
    "        strdata = np.transpose(bytedata, (1, 2, 0)).tobytes()\n",
    "        shape = (shape[2], shape[1])\n",
    "    if mode is None:\n",
    "        if numch == 3:\n",
    "            mode = 'RGB'\n",
    "        else:\n",
    "            mode = 'RGBA'\n",
    "\n",
    "    if mode not in ['RGB', 'RGBA', 'YCbCr', 'CMYK']:\n",
    "        raise ValueError(_errstr)\n",
    "\n",
    "    if mode in ['RGB', 'YCbCr']:\n",
    "        if numch != 3:\n",
    "            raise ValueError(\"Invalid array shape for mode.\")\n",
    "    if mode in ['RGBA', 'CMYK']:\n",
    "        if numch != 4:\n",
    "            raise ValueError(\"Invalid array shape for mode.\")\n",
    "\n",
    "    # Here we know data and mode is correct\n",
    "    image = Image.frombytes(mode, shape, strdata)\n",
    "    return image"
   ]
  },
  {
   "cell_type": "markdown",
   "metadata": {},
   "source": [
    "With the above definition of `toimage`, we get the actual image from `data`:"
   ]
  },
  {
   "cell_type": "code",
   "execution_count": null,
   "metadata": {},
   "outputs": [],
   "source": [
    "img1 = toimage(data)\n",
    "img1"
   ]
  },
  {
   "cell_type": "markdown",
   "metadata": {},
   "source": [
    "If you have seen the movie *Interstellar*, you will know that this looks a bit like a (monochrome) black hole, a very simple one for sure, but we'll improve it step by step in the following sections."
   ]
  },
  {
   "cell_type": "markdown",
   "metadata": {},
   "source": [
    "## Adding thickness to the disk\n",
    "\n",
    "First we will be adding transpareny and thickness to the disk. For that, let's assume the disk is optically thin. This means light can only be added and never obstructed. What's more, the intensity will be proportional to the total length of emissive medium traversed.\n",
    "\n",
    "This length depends on 2 factors: the profile of the disk and the angle $\\theta$ between the disk and the light ray:\n",
    "\n",
    "$\\qquad d = \\frac{f(r)}{sin(\\theta)}$\n",
    "\n",
    "The computation of the angle $\\theta$ is not trival. The fastest way to obtain it is the perform a change of frame, which will locally (at a single point) give us a Minkowsky metric (orthonormal frame), in which angles are easy to compute.\n",
    "\n",
    "To remind you, here is our metric:"
   ]
  },
  {
   "cell_type": "code",
   "execution_count": null,
   "metadata": {},
   "outputs": [],
   "source": [
    "%display latex\n",
    "g[:]"
   ]
  },
  {
   "cell_type": "markdown",
   "metadata": {},
   "source": [
    "Or for a point of the disk:"
   ]
  },
  {
   "cell_type": "code",
   "execution_count": null,
   "metadata": {},
   "outputs": [],
   "source": [
    "r0, phi = var('r_0, phi')\n",
    "p = M((0, r0, pi/2, phi))\n",
    "g.at(p)[:]"
   ]
  },
  {
   "cell_type": "markdown",
   "metadata": {},
   "source": [
    "We are not that far off. Some rescaling and mixing the first two lines should do the trick."
   ]
  },
  {
   "cell_type": "code",
   "execution_count": null,
   "metadata": {},
   "outputs": [],
   "source": [
    "# default frame\n",
    "fr = C.frame()\n",
    "\n",
    "# create an automorphism field\n",
    "aut = M.automorphism_field()\n",
    "\n",
    "# some symbolic variables\n",
    "a, b, c = var('a, b, c')\n",
    "\n",
    "# let's try with the simplest matrix possible\n",
    "aut.add_comp()[:] = [[a, 0, 0, 0], [b, c, 0, 0], [0, 0, 1/r0, 0], \n",
    "                     [0, 0, 0, 1/r0]] # only b is off-diagonal\n",
    "fr2 = fr.new_frame(aut, 'f2')"
   ]
  },
  {
   "cell_type": "markdown",
   "metadata": {},
   "source": [
    "In this new frame, the metric at $p$ looks like this:"
   ]
  },
  {
   "cell_type": "code",
   "execution_count": null,
   "metadata": {},
   "outputs": [],
   "source": [
    "g.at(p)[fr2.at(p), :]"
   ]
  },
  {
   "cell_type": "markdown",
   "metadata": {},
   "source": [
    "This lets us find the values of $ a $, $ b $ and $ c $:"
   ]
  },
  {
   "cell_type": "code",
   "execution_count": null,
   "metadata": {},
   "outputs": [],
   "source": [
    "c = sqrt(r/(r+2*m))\n",
    "a = sqrt(((r+2*m)/(r)))\n",
    "b = -2*a*m/(2*m+r)"
   ]
  },
  {
   "cell_type": "markdown",
   "metadata": {},
   "source": [
    "Let's check:"
   ]
  },
  {
   "cell_type": "code",
   "execution_count": null,
   "metadata": {},
   "outputs": [],
   "source": [
    "aut2 = M.automorphism_field() # new automorphism field\n",
    "aut2.add_comp()[:] = [[a, 0, 0, 0], [b, c, 0, 0], [0, 0, 1/r, 0], [0, 0, 0, 1/(r*sin(th))]]\n",
    "fr3 = fr.new_frame(aut2, 'f3')"
   ]
  },
  {
   "cell_type": "code",
   "execution_count": null,
   "metadata": {},
   "outputs": [],
   "source": [
    "g[fr3, :]"
   ]
  },
  {
   "cell_type": "markdown",
   "metadata": {},
   "source": [
    "Success!\n",
    "\n",
    "We now have an orthonormal frame everywhere (this is only possible because this frame doesn't correspond to a system of coordinates; otherwise the spacetime would be flat).\n",
    "\n",
    "Don't forget that vectors are contravariant tensors, so the components of the 4-velocity will be transformed by this matrix:"
   ]
  },
  {
   "cell_type": "code",
   "execution_count": null,
   "metadata": {},
   "outputs": [],
   "source": [
    "aut2.inverse()[:]"
   ]
  },
  {
   "cell_type": "markdown",
   "metadata": {},
   "source": [
    "The angle $\\theta$ can now be computed using:  \n",
    "$$\\theta = \\arctan\\left(\\frac{\\overrightarrow{v}_{\\bot}}{\\overrightarrow{v}_{\\parallel}}\\right)$$  \n",
    "Because this formula is using 3-vectors, it was indeed important to have been in an orthonormal frame.\n",
    "\n",
    "We also need to perform rotation of the angles $\\alpha$ and $\\beta$ for the 4-velocity. In the next cell is a Cython version optimized for speed."
   ]
  },
  {
   "cell_type": "code",
   "execution_count": null,
   "metadata": {},
   "outputs": [],
   "source": [
    "%%cython\n",
    "from libc.math cimport cos, sin, sqrt\n",
    "\n",
    "cpdef tuple spherical_to_xyz(float dr, float dtheta, float dphi, float r, \n",
    "                             float theta, float phi, float alpha, float beta):\n",
    "    \"\"\"\n",
    "    Convert spherical coordinates to cartesian and apply the \n",
    "    two rotations at the same time.\n",
    "    \"\"\"\n",
    "    cdef float dx, dy, dz\n",
    "    cdef float ca, cb, ct, cp\n",
    "    cdef float sa, sb, st, sp\n",
    "    \n",
    "    ca = cos(alpha); sa = sin(alpha)\n",
    "    cb = cos(beta);  sb = sin(beta)\n",
    "    ct = cos(theta); st = sin(theta)\n",
    "    cp = cos(phi);   sp = sin(phi)\n",
    "    \n",
    "    dx = ((-cb*ct*sa - (sa*sb*sp - ca*cp)*st)*dr + \n",
    "          (r*cb*sa*st - (sa*sb*sp - ca*cp)*r*ct)*dtheta +\n",
    "          (-(cp*sa*sb + ca*sp)*r*st)*dphi)\n",
    "    \n",
    "    dy = ((cb*sp*st - sb*ct)*dr +\n",
    "          (r*ct*cb*sp + r*sb*st)*dtheta +\n",
    "          (r*cp*cb*st)*dphi)\n",
    "    \n",
    "    dz = ((ca*cb*ct + (ca*sb*sp + cp*sa)*st)*dr +\n",
    "          (-r*ca*cb*st+(ca*sb*sp + cp*sa)*r*ct)*dtheta +\n",
    "          ((ca*cp*sb - sa*sp)*r*st)*dphi)\n",
    "    \n",
    "    return (dx, dy, dz)\n",
    "\n",
    "\n",
    "cpdef tuple xyz_to_spherical(float dx, float dy, float dz, float x, \n",
    "                             float y, float z):\n",
    "    \"\"\"\n",
    "    Convert cartesian back to spherical\n",
    "    \"\"\"\n",
    "    cdef r, dr, dth, dph\n",
    "    r = sqrt(x**2+y**2+z**2)\n",
    "    dr = (x*dx+y*dy*z*dz)/r\n",
    "    dth = ((x*z*dx+y*z*dy)/r**2/sqrt(x**2+y**2)-sqrt(x**2+y**2)*dz)/r**2\n",
    "    dph = -y/(x**2+y**2)*dx+x/(x**2+y**2)*dy\n",
    "    return (dr, dth, dph)"
   ]
  },
  {
   "cell_type": "markdown",
   "metadata": {},
   "source": [
    "These formulas were obtained automatically by creating another chart and asking for the change of frames. Example:"
   ]
  },
  {
   "cell_type": "code",
   "execution_count": null,
   "metadata": {},
   "outputs": [],
   "source": [
    "def print_formulas(): # enclosed in a function to prevent altering the namespace\n",
    "    alpha, beta = var('alpha, beta')\n",
    "    spher.<r, theta, phi> = E.chart()\n",
    "    x, y, z = r*sin(theta)*cos(phi), r*sin(theta)*sin(phi), r*cos(theta) # normal Spherical->Cartesian transformation\n",
    "    y, z = y*cos(beta)-z*sin(beta), z*cos(beta)+y*sin(beta)              # first rotation\n",
    "    x, z = x*cos(alpha)-z*sin(alpha), z*cos(alpha)+x*sin(alpha)          # second rotation\n",
    "    spher.transition_map(E.default_chart(), [x, y, z])\n",
    "    print(list(E.changes_of_frame().values())[0][spher.frame(),:, spher])\n",
    "\n",
    "print_formulas()"
   ]
  },
  {
   "cell_type": "markdown",
   "metadata": {},
   "source": [
    "<br>\n",
    "<br>\n",
    "\n"
   ]
  },
  {
   "cell_type": "markdown",
   "metadata": {},
   "source": [
    "The thickness of the disk will follow this profile, obtained from my high level understanding of black holes mechanics (i.e. it's mostly random, but looks nice)"
   ]
  },
  {
   "cell_type": "code",
   "execution_count": null,
   "metadata": {},
   "outputs": [],
   "source": [
    "%%cython\n",
    "from libc.math cimport exp, erf\n",
    "\n",
    "cpdef float profile(float x, float disk_min, float disk_max):\n",
    "    cdef float y \n",
    "    # we really don't want negative values\n",
    "    if x<disk_min or x>disk_max:\n",
    "        return 0\n",
    "    y = (exp(-(disk_min-20-x)**2/400)*(x-disk_min)**2*(disk_max-x)**2/10000 +\n",
    "         exp(-(32-x)**2/70)/2*(x-disk_min)**2*(disk_max-x)**2/150000)\n",
    "    return max(y, 0)"
   ]
  },
  {
   "cell_type": "code",
   "execution_count": null,
   "metadata": {},
   "outputs": [],
   "source": [
    "plot(lambda x, d1=disk_min, d2=disk_max: profile(x, d1, d2), \n",
    "     xmin=0, xmax=60, ymin=0, ymax=1.2)"
   ]
  },
  {
   "cell_type": "markdown",
   "metadata": {},
   "source": [
    "We can now rewrite the function `intersection` taking everything into account. This time it directly returns an RGB value."
   ]
  },
  {
   "cell_type": "code",
   "execution_count": null,
   "metadata": {},
   "outputs": [],
   "source": [
    "%%cython\n",
    "from libc.math cimport cos, sin, acos, sqrt, abs, atan2\n",
    "cimport cython\n",
    "from __main__ import profile\n",
    "from __main__ import xyz_to_spherical\n",
    "from __main__ import spherical_to_xyz\n",
    "\n",
    "@cython.boundscheck(False)\n",
    "@cython.wraparound(False)\n",
    "cpdef tuple intersection(list curve, float m, float alpha, float beta, \n",
    "                         float dmin, float dmax):\n",
    "    cdef float x, y, z\n",
    "    cdef float x2, y2, z2\n",
    "    cdef float r, theta, phi\n",
    "    cdef int n, i\n",
    "    cdef float t\n",
    "    cdef float sinalpha, cosalpha\n",
    "    cdef float sinbeta, cosbeta\n",
    "    cdef float R, G, B\n",
    "    cdef float dr, dtheta, dphi\n",
    "    cdef float dx, dy, dz\n",
    "    cdef float th\n",
    "    R, G, B = 0., 0., 0. # return values\n",
    "    sinalpha = sin(alpha)\n",
    "    cosalpha = cos(alpha)\n",
    "    sinbeta = sin(beta)\n",
    "    cosbeta = cos(beta)\n",
    "    n = len(curve)\n",
    "    r, theta, phi = curve[0][2:5]\n",
    "    x, y, z = r*sin(theta)*cos(phi), r*sin(theta)*sin(phi), r*cos(theta)\n",
    "    x, y, z = x, y*cos(beta)-z*sin(beta), z*cos(beta)+y*sin(beta)\n",
    "    z = z*cos(alpha)+x*sin(alpha)\n",
    "    for i in range(1, n):        \n",
    "        r = curve[i][2]\n",
    "        theta = curve[i][3]\n",
    "        phi = curve[i][4]\n",
    "        # rotations\n",
    "        x2, y2, z2 = r*sin(theta)*cos(phi), r*sin(theta)*sin(phi), r*cos(theta)\n",
    "        y2, z2 = y2*cosbeta-z2*sinbeta, z2*cosbeta+y2*sinbeta\n",
    "        x2, z2 = x2*cosalpha-z2*sinalpha, z2*cosalpha+x2*sinalpha\n",
    "        if z!=z2:\n",
    "            t = z/(z-z2)\n",
    "            if t>=0 and t<1 and curve[i][2]>dmin and curve[i][2]<dmax:        \n",
    "                # 4-velocity\n",
    "                dt = curve[i+1][1]-curve[i][1]\n",
    "                dr = curve[i+1][2]-curve[i][2]\n",
    "                dtheta = curve[i+1][3]-curve[i][3]\n",
    "                dphi = curve[i+1][4]-curve[i][4]\n",
    "                # rotation of the 4-velocity\n",
    "                dx, dy, dz = spherical_to_xyz(dr, dtheta, dphi, r, theta, phi, \n",
    "                                              alpha, beta)\n",
    "                dr, dtheta, dphi = xyz_to_spherical(dx, dy, dz, x2, y2, z2)\n",
    "                # change of frame to orthonorma frame:\n",
    "                dr = 2*m/(sqrt(r*(2*m+r)))*dt+sqrt((2*m+r)/r)*dr\n",
    "                dtheta = dtheta*r\n",
    "                dphi = dphi*r # theta = pi/2\n",
    "                dt = sqrt(r/(2*m+r))*dt\n",
    "                # angle theta\n",
    "                th = atan2(dtheta, (sqrt(dr**2+dphi**2)))\n",
    "                # thickness\n",
    "                R += 40*profile(r, dmin, dmax)/sin(abs(th)) # arbitrary factor\n",
    "        x, y, z = x2, y2, z2\n",
    "    # clipping\n",
    "    if R >= 255:\n",
    "        R = 255\n",
    "    return R, G, B"
   ]
  },
  {
   "cell_type": "markdown",
   "metadata": {},
   "source": [
    "We also have to rewrite `render_row` to accept an RGB value."
   ]
  },
  {
   "cell_type": "code",
   "execution_count": null,
   "metadata": {},
   "outputs": [],
   "source": [
    "def render_row(x):\n",
    "    \"\"\"\n",
    "    Render a single row of the image\n",
    "    \"\"\"\n",
    "    res = np.zeros((ny,3)) # result row in RGB format\n",
    "    for y in range(ny):\n",
    "        beta = atan2(y-ny/2,x)              # beta angle \n",
    "        r = sqrt(x**2+(y-ny/2)**2)          # pixel distance to the center of the image\n",
    "        ind_geo = int(r/400*n_geod*720/nx)  # index of the geodesic to use. values are obtained by trial and error.\n",
    "        if ind_geo<n_geod:                  # don't bother if the index is too big.\n",
    "            res[ny-1-y,:] = intersection(geo[ind_geo], 2, float(pi/20), float(beta), \n",
    "                                         float(disk_min), float(disk_max))\n",
    "    return x, res # also return the argument, which is not remembered otherwise"
   ]
  },
  {
   "cell_type": "markdown",
   "metadata": {},
   "source": [
    "Let's try it:"
   ]
  },
  {
   "cell_type": "code",
   "execution_count": null,
   "metadata": {},
   "outputs": [],
   "source": [
    "%display plain\n",
    "data = np.zeros( (ny, nx, 3), dtype=float )\n",
    "render()\n",
    "img2 = toimage(data)\n",
    "img2"
   ]
  },
  {
   "cell_type": "markdown",
   "metadata": {},
   "source": [
    "Much more beautiful! \n",
    "\n",
    "But enough of red black holes, let's add real spectra into the mix."
   ]
  },
  {
   "cell_type": "markdown",
   "metadata": {},
   "source": [
    "## Black body spectrum\n",
    "\n",
    "It's quite easy to associate a spectrum to each light ray, but it's also important to be able to convert it back to displayable colors.\n",
    "\n",
    "This part shows how to do that, using the CIE standard XYZ function. This function should contain all information about a spectrum that is relevant to the human eye. They can then be converted to RGB for example. What's more, these functions are simply obtained by integrating the spectrum against a function. They are then linearly dependant on the spectrum.\n",
    "\n",
    "To compute the XYZ functions, we first need the function that defines them. I got mine from here:  \n",
    "http://www.cvrl.org/database/data/cmfs/ciexyzjv.csv\n",
    "\n",
    "But because we are planning to add the Doppler effect, I added a lot of zeros at the beginning and the end to evntually encompass more wavelengths (I went from 5 to 3000 nm, instead of 380-780 for visible light)."
   ]
  },
  {
   "cell_type": "code",
   "execution_count": null,
   "metadata": {},
   "outputs": [],
   "source": [
    "from six.moves.urllib.request import urlretrieve  # valid for both Python 2 and Python 3\n",
    "urlretrieve(\"http://www.cvrl.org/database/data/cmfs/ciexyzjv.csv\", \n",
    "            \"ciexyzjv.csv\")\n",
    "ciexyz = np.genfromtxt(\"ciexyzjv.csv\", delimiter=\",\")"
   ]
  },
  {
   "cell_type": "markdown",
   "metadata": {},
   "source": [
    "Here is what they look like. Y can be seen as the luminosity of a normalized spectrum (e.g. for the same light intensity, green will appear much brighter to the human eye than purple). The other two don't really have an interpretation."
   ]
  },
  {
   "cell_type": "code",
   "execution_count": null,
   "metadata": {},
   "outputs": [],
   "source": [
    "import matplotlib.pyplot as plt\n",
    "plt.plot(ciexyz[:,0],ciexyz[:,3], label='Z')\n",
    "plt.plot(ciexyz[:,0],ciexyz[:,2], label='Y')\n",
    "plt.plot(ciexyz[:,0],ciexyz[:,1], label='X')\n",
    "plt.legend(loc='best')\n",
    "plt.show()"
   ]
  },
  {
   "cell_type": "markdown",
   "metadata": {},
   "source": [
    "Next we need to compute the black body spectrum for a given temperature, using Planck's law.  \n",
    "I already include the Doppler effect in the formula."
   ]
  },
  {
   "cell_type": "code",
   "execution_count": null,
   "metadata": {},
   "outputs": [],
   "source": [
    "%%cython\n",
    "from libc.math cimport exp\n",
    "\n",
    "cpdef float blackbody(float nu, float T, float doppler):\n",
    "    \"\"\"\n",
    "    Spectral power emmited at frequency nu by a black-body at \n",
    "    temperature T per square meter par steradian\n",
    "    \"\"\"\n",
    "    cdef float h = 6.62e-34\n",
    "    cdef float k = 1.38e-23\n",
    "    cdef float c = 3e8\n",
    "    cdef float h_sur_k = 4.79710144927536e-11\n",
    "    return (2*h)*nu/c*nu/c*nu/(exp(h_sur_k*nu/doppler/T)-1)"
   ]
  },
  {
   "cell_type": "markdown",
   "metadata": {},
   "source": [
    "In fact there is a small trick in the previous cell. Because of the exponent in the constants, it's fairly easy to overflow. That's why the $\\nu^3/c^2$ is written this way.\n",
    "\n",
    "Let's try at 10,000 K:"
   ]
  },
  {
   "cell_type": "code",
   "execution_count": null,
   "metadata": {},
   "outputs": [],
   "source": [
    "plot(spline([(l, blackbody(3e8/(l/1e9), 10000, 1)) for l in ciexyz[:,0]]), \n",
    "     xmin=5, xmax=3000)"
   ]
  },
  {
   "cell_type": "markdown",
   "metadata": {},
   "source": [
    "Once again, we'll use Cython to convert a temperature into XYZ. Because XYZ depends linearly on the intensity, and not RGB, the conversion will be done in post-processing. Everything is redeclared in Cython for optimization (hence all the type declarations). Even the XYZ arrays are reloaded in this Cython environment."
   ]
  },
  {
   "cell_type": "code",
   "execution_count": null,
   "metadata": {},
   "outputs": [],
   "source": [
    "%%cython\n",
    "from __main__ import blackbody\n",
    "from libc.math cimport exp\n",
    "import numpy as np\n",
    "cimport numpy as np\n",
    "cimport cython\n",
    "\n",
    "DTYPE = float\n",
    "ctypedef np.float_t DTYPE_t\n",
    "\n",
    "cdef np.float_t[:] cielamb\n",
    "cdef np.float_t[:] ciex\n",
    "cdef np.float_t[:] ciey\n",
    "cdef np.float_t[:] ciez\n",
    "\n",
    "def init_arrays():\n",
    "    global cielamb, ciex, ciey, ciez\n",
    "    cdef np.ndarray[np.float_t, ndim=2] ciexyz = np.genfromtxt('ciexyzjv.csv', delimiter=\",\")   \n",
    "    cielamb = ciexyz[:, 0]\n",
    "    ciex = ciexyz[:, 1]\n",
    "    ciey = ciexyz[:, 2]\n",
    "    ciez = ciexyz[:, 3]\n",
    "    \n",
    "init_arrays()\n",
    "\n",
    "cpdef tuple temp_to_XYZ(float T, float doppler):\n",
    "    cdef int nl = len(cielamb)\n",
    "    cdef np.ndarray[np.float_t, ndim=1] sp = np.zeros(nl)\n",
    "    cdef int i\n",
    "    cdef float x, y, z\n",
    "    for i in range(nl):\n",
    "        sp[i] = blackbody(3e8/(cielamb[i]/1e9), T, doppler)\n",
    "    x = np.dot(sp, ciex)\n",
    "    y = np.dot(sp, ciey)\n",
    "    z = np.dot(sp, ciez)\n",
    "    return (x, y, z)"
   ]
  },
  {
   "cell_type": "markdown",
   "metadata": {},
   "source": [
    "Let's convert it to RGB, using one of the many formulas, just to see how it looks:"
   ]
  },
  {
   "cell_type": "code",
   "execution_count": null,
   "metadata": {},
   "outputs": [],
   "source": [
    "def xyz_to_rgb(*args):\n",
    "    # constants\n",
    "    fact = 3e-8 # arbitrary\n",
    "    gamma = 1/2.2\n",
    "    mat = [[3.24047, -1.53715, -0.498835],\n",
    "           [-0.96256, 1.8752, 0.041556],\n",
    "           [0.055648, -0.204043, 1.057311]]\n",
    "    # conversion\n",
    "    r, g, b = np.dot(mat, np.transpose(args)/fact).tolist()\n",
    "    # gamma correction and clipping\n",
    "    r = min(1,max(0, r)**gamma)\n",
    "    g = min(1,max(0, g)**gamma)\n",
    "    b = min(1,max(0, b)**gamma)\n",
    "    return r, g, b"
   ]
  },
  {
   "cell_type": "code",
   "execution_count": null,
   "metadata": {},
   "outputs": [],
   "source": [
    "from matplotlib.patches import Rectangle\n",
    "axes = plt.gca()\n",
    "axes.set_xlim([1000, 6000])\n",
    "for T in range(1000, 6000, 200):\n",
    "    # plot a rectangle at a color obtained from the temperature\n",
    "    axes.add_patch(Rectangle((T, 0), 200, 1, facecolor=xyz_to_rgb(*temp_to_XYZ(T, 1))))"
   ]
  },
  {
   "cell_type": "markdown",
   "metadata": {},
   "source": [
    "With this formula, it becomes bright very quickly. Adjusting the $\\gamma$ correction could help.\n",
    "\n",
    "We can now add it to our black hole ray tracer:"
   ]
  },
  {
   "cell_type": "code",
   "execution_count": null,
   "metadata": {},
   "outputs": [],
   "source": [
    "%%cython\n",
    "from libc.math cimport cos, sin, acos, sqrt, abs, atan2\n",
    "cimport cython\n",
    "from __main__ import profile\n",
    "from __main__ import xyz_to_spherical\n",
    "from __main__ import spherical_to_xyz\n",
    "from __main__ import temp_to_XYZ\n",
    "\n",
    "@cython.boundscheck(False)\n",
    "@cython.wraparound(False)\n",
    "cpdef tuple intersection(list curve, float m, float alpha, float beta, \n",
    "                         float dmin, float dmax):\n",
    "    cdef float x, y, z\n",
    "    cdef float x2, y2, z2\n",
    "    cdef float r, theta, phi\n",
    "    cdef int n, i\n",
    "    cdef float t\n",
    "    cdef float sinalpha, cosalpha\n",
    "    cdef float sinbeta, cosbeta\n",
    "    cdef float X, Y, Z\n",
    "    cdef float X0, Y0, Z0\n",
    "    cdef float dr, dtheta, dphi\n",
    "    cdef float dx, dy, dz\n",
    "    cdef float th, doppler, factor,\n",
    "    X, Y, Z = 0., 0., 0. # return values\n",
    "    # 20 percent speed gain\n",
    "    sinalpha = sin(alpha)\n",
    "    cosalpha = cos(alpha)\n",
    "    sinbeta = sin(beta)\n",
    "    cosbeta = cos(beta)\n",
    "    n = len(curve)\n",
    "    r, theta, phi = curve[0][2:5]\n",
    "    # rotations\n",
    "    x, y, z = r*sin(theta)*cos(phi), r*sin(theta)*sin(phi), r*cos(theta)\n",
    "    x, y, z = x, y*cos(beta)-z*sin(beta), z*cos(beta)+y*sin(beta)\n",
    "    z = z*cos(alpha)+x*sin(alpha)\n",
    "    for i in range(1, n):        \n",
    "        r = curve[i][2]\n",
    "        theta = curve[i][3]\n",
    "        phi = curve[i][4]\n",
    "        # rotations\n",
    "        x2, y2, z2 = r*sin(theta)*cos(phi), r*sin(theta)*sin(phi), r*cos(theta)\n",
    "        y2, z2 = y2*cosbeta-z2*sinbeta, z2*cosbeta+y2*sinbeta\n",
    "        x2, z2 = x2*cosalpha-z2*sinalpha, z2*cosalpha+x2*sinalpha\n",
    "        if z!=z2:\n",
    "            t = z/(z-z2)\n",
    "            if t>=0 and t<1 and curve[i][2]>dmin and curve[i][2]<dmax:\n",
    "                # 4-velocity\n",
    "                dt = curve[i+1][1]-curve[i][1]\n",
    "                dr = curve[i+1][2]-curve[i][2]\n",
    "                dtheta = curve[i+1][3]-curve[i][3]\n",
    "                dphi = curve[i+1][4]-curve[i][4]\n",
    "                # rotation of the 4-velocity\n",
    "                dx, dy, dz = spherical_to_xyz(dr, dtheta, dphi, r, theta, phi, \n",
    "                                              alpha, beta)\n",
    "                dr, dtheta, dphi = xyz_to_spherical(dx, dy, dz, x2, y2, z2)\n",
    "                # change of frame to orthonormal frame:\n",
    "                dr = 2*m/(sqrt(r*(2*m+r)))*dt+sqrt((2*m+r)/r)*dr\n",
    "                dtheta = dtheta*r\n",
    "                dphi = dphi*r # theta = pi/2\n",
    "                dt = sqrt(r/(2*m+r))*dt\n",
    "                # angle theta\n",
    "                th = atan2(dtheta, (sqrt(dr**2+dphi**2)))   \n",
    "                # thickness\n",
    "                factor = profile(r, dmin, dmax)/sin(abs(th))\n",
    "                # unused for now\n",
    "                doppler = 1\n",
    "                # added luminosity\n",
    "                X0, Y0, Z0 = temp_to_XYZ(8000, doppler) # T=8000 because I decided\n",
    "                # updating XYZ\n",
    "                X += X0*factor\n",
    "                Y += Y0*factor\n",
    "                Z += Z0*factor\n",
    "        x, y, z = x2, y2, z2\n",
    "    return X, Y, Z"
   ]
  },
  {
   "cell_type": "markdown",
   "metadata": {},
   "source": [
    "This time, after the render we still need to convert `data` from the XYZ format to RGB."
   ]
  },
  {
   "cell_type": "code",
   "execution_count": null,
   "metadata": {},
   "outputs": [],
   "source": [
    "data = np.zeros( (ny, nx, 3), dtype=float )\n",
    "render()"
   ]
  },
  {
   "cell_type": "code",
   "execution_count": null,
   "metadata": {},
   "outputs": [],
   "source": [
    "%%cython\n",
    "\n",
    "import numpy as np\n",
    "cimport numpy as np\n",
    "\n",
    "cpdef np.ndarray[np.int, ndim=3] XYZ_to_RGB(np.ndarray[double, ndim=3] data):\n",
    "    \"\"\"\n",
    "    Convert an 2d-array of XYZ values to RGB using a simple formula\n",
    "    \"\"\"\n",
    "    cdef int ny = len(data)\n",
    "    cdef int nx = len(data[0])\n",
    "    cdef float x, y, z\n",
    "    cdef int r, g, b\n",
    "    cdef int i, j\n",
    "    cdef np.ndarray[int, ndim=3] res = np.zeros((ny, nx, 3), dtype = np.int32)\n",
    "    cdef float fact = 3e-8\n",
    "    cdef float gamma = 1/1.2\n",
    "    for i in range(ny):\n",
    "        for j in range(nx):\n",
    "            x, y, z = data[i, j, :]\n",
    "            #fact = max(.002*y,1e-7)\n",
    "            x, y, z = x/fact, y/fact, z/fact\n",
    "            r = int(max(0,(3.240479*x -1.537150*y -0.498535*z))**(gamma))\n",
    "            g = int(max(0,(-0.969256*x  +1.875992*y  +0.041556*z))**(gamma))\n",
    "            b = int(max(0,(0.055648*x -0.204043*y  +1.057311*z))**(gamma))\n",
    "            r = min(255, max(0, r))\n",
    "            g = min(255, max(0, g))\n",
    "            b = min(255, max(0, b))\n",
    "            res[i, j, :] = r, g ,b\n",
    "    return res"
   ]
  },
  {
   "cell_type": "code",
   "execution_count": null,
   "metadata": {},
   "outputs": [],
   "source": [
    "data_rgb = XYZ_to_RGB(data)"
   ]
  },
  {
   "cell_type": "markdown",
   "metadata": {},
   "source": [
    "Let's plot the result again:"
   ]
  },
  {
   "cell_type": "code",
   "execution_count": null,
   "metadata": {},
   "outputs": [],
   "source": [
    "img3 = toimage(data_rgb)\n",
    "img3"
   ]
  },
  {
   "cell_type": "markdown",
   "metadata": {},
   "source": [
    "## First relativistic effect: Doppler effect\n",
    "\n",
    "Everything has been so far done in such a way as to make this part easy. All we have to do is evalute the Doppler factor.\n",
    "\n",
    "To compute the Doppler effect due to the rotation of the disk, we need to consider the interaction between to disk and the light ray in the orthonormal frame again. The goal is to use the general formula:\n",
    "\n",
    "$$f_0 = \\frac{f_s}{\\gamma \\left(1+\\beta \\cos(\\theta)\\right)}$$\n",
    "\n",
    "To do that, we need to estimate $\\beta$ and $\\theta$.  \n",
    "Let's first look at the equation of motion of a single particle, and impose circular motion: $dr=0$ and $\\theta=\\pi/2$"
   ]
  },
  {
   "cell_type": "code",
   "execution_count": null,
   "metadata": {},
   "outputs": [],
   "source": [
    "eqs = curve._equations_rhs[C]"
   ]
  },
  {
   "cell_type": "code",
   "execution_count": null,
   "metadata": {},
   "outputs": [],
   "source": [
    "dt, dr, dth, dph = curve._velocities"
   ]
  },
  {
   "cell_type": "markdown",
   "metadata": {},
   "source": [
    "The 4 equations become (note: for technical reasons the equations below display $ dt $ as $ Dt $ and $ d\\phi $ as $ Dph $; we could fix that but this is just an intermediate result so we don't bother):"
   ]
  },
  {
   "cell_type": "code",
   "execution_count": null,
   "metadata": {},
   "outputs": [],
   "source": [
    "%display latex\n",
    "# d^2t/dtau^2 = \n",
    "eqs[0].subs({th: pi/2, dr: 0, dth: 0})"
   ]
  },
  {
   "cell_type": "code",
   "execution_count": null,
   "metadata": {},
   "outputs": [],
   "source": [
    "# d^2r/dtau^2 = \n",
    "eqs[1].subs({th: pi/2, dr: 0, dth: 0})"
   ]
  },
  {
   "cell_type": "code",
   "execution_count": null,
   "metadata": {},
   "outputs": [],
   "source": [
    "# d^2th/dtau^2 = \n",
    "eqs[2].subs({th: pi/2, dr: 0, dth: 0})"
   ]
  },
  {
   "cell_type": "code",
   "execution_count": null,
   "metadata": {},
   "outputs": [],
   "source": [
    "# d^2ph/dtau^2 = \n",
    "eqs[3].subs({th: pi/2, dr: 0, dth: 0})"
   ]
  },
  {
   "cell_type": "markdown",
   "metadata": {},
   "source": [
    "In particular $d\\phi$ is constant. We also solve the second equation for $dt$\n",
    "(the sign depends on the directions of the rotations):"
   ]
  },
  {
   "cell_type": "code",
   "execution_count": null,
   "metadata": {},
   "outputs": [],
   "source": [
    "eqs[1].subs({th: pi/2, dr: 0, dth: 0}).solve(dt)"
   ]
  },
  {
   "cell_type": "markdown",
   "metadata": {},
   "source": [
    "And so by reinjecting in the first equation $dt$ is constant, and so is $d\\phi$, like in Newtonian gravity.  \n",
    "Their values are obtained from the normalization condition."
   ]
  },
  {
   "cell_type": "code",
   "execution_count": null,
   "metadata": {},
   "outputs": [],
   "source": [
    "p = M((0, r, pi/2, 0))\n",
    "Tp = M.tangent_space(p)\n",
    "v = Tp((r*sqrt(r/m)*dph, 0, 0, dph))"
   ]
  },
  {
   "cell_type": "code",
   "execution_count": null,
   "metadata": {},
   "outputs": [],
   "source": [
    "g.at(p)(v,v)"
   ]
  },
  {
   "cell_type": "code",
   "execution_count": null,
   "metadata": {},
   "outputs": [],
   "source": [
    "(g.at(p)(v,v)==-1).solve(dph)"
   ]
  },
  {
   "cell_type": "markdown",
   "metadata": {},
   "source": [
    "As we can see, the smallest circular orbit can only by at $r=3m$, with:\n",
    "<br>\n",
    "<br>\n",
    "\n",
    "$$ d\\phi = \\pm \\frac{1}{r} \\sqrt{\\frac{m}{r-3m}} \\qquad dt =\\frac{1}{\\sqrt{r}\\sqrt{r-3m}} $$\n",
    "\n",
    "We can see that:\n",
    "\n",
    "If we switch to the orthonormal frame (just multiply $d\\phi$ by $r$, as seen in the change of frame), we can see that:\n",
    "\n",
    "$$\\beta = \\frac{v}{c} = \\sqrt{\\frac{m}{r-3m}}$$\n",
    "\n",
    "To find $\\theta$, we use the formula:\n",
    "\n",
    "$$\\theta = \\arccos\\left(\\frac{\\overrightarrow{v_1}\\cdot \\overrightarrow{v_2}}{||\\overrightarrow{v_1}||\\cdot||\\overrightarrow{v_2}||}\\right)$$\n",
    "\n",
    "Finally, the gravitational redshift is easier. It is simply given by the ratio of first component of the 4-velocity in the orthonormal frame between the two ends of the geodesic."
   ]
  },
  {
   "cell_type": "code",
   "execution_count": null,
   "metadata": {},
   "outputs": [],
   "source": [
    "%%cython\n",
    "from libc.math cimport cos, sin, acos, sqrt, abs, atan2\n",
    "cimport cython\n",
    "from __main__ import profile\n",
    "from __main__ import xyz_to_spherical\n",
    "from __main__ import spherical_to_xyz\n",
    "from __main__ import temp_to_XYZ\n",
    "\n",
    "@cython.boundscheck(False)\n",
    "@cython.wraparound(False)\n",
    "cpdef tuple intersection(list curve, float m, float alpha, float beta, \n",
    "                         float dmin, float dmax):\n",
    "    \"\"\"\n",
    "    Return True if the curve intersect the disk comprised between dmin \n",
    "    and dmax tilted of angles alpha and beta\n",
    "    \"\"\"\n",
    "    cdef float x, y, z\n",
    "    cdef float x2, y2, z2\n",
    "    cdef float r, theta, phi\n",
    "    cdef int n, i\n",
    "    cdef float t\n",
    "    cdef float sinalpha, cosalpha\n",
    "    cdef float sinbeta, cosbeta\n",
    "    cdef float X, Y, Z\n",
    "    cdef float X0, Y0, Z0\n",
    "    cdef float dt, dt0, dr, dtheta, dphi\n",
    "    cdef float dx, dy, dz\n",
    "    cdef float th, rho, doppler, beta_rel\n",
    "    X, Y, Z = 0., 0., 0. # return values\n",
    "    # 20 percent speed gain\n",
    "    sinalpha = sin(alpha)\n",
    "    cosalpha = cos(alpha)\n",
    "    sinbeta = sin(beta)\n",
    "    cosbeta = cos(beta)\n",
    "    n = len(curve)\n",
    "    r, theta, phi = curve[0][2:5]\n",
    "    dt0 = curve[1][1]-curve[0][1]\n",
    "    # rotations\n",
    "    x, y, z = r*sin(theta)*cos(phi), r*sin(theta)*sin(phi), r*cos(theta)\n",
    "    x, y, z = x, y*cos(beta)-z*sin(beta), z*cos(beta)+y*sin(beta)\n",
    "    z = z*cos(alpha)+x*sin(alpha)\n",
    "    for i in range(1, n):        \n",
    "        r = curve[i][2]\n",
    "        theta = curve[i][3]\n",
    "        phi = curve[i][4]\n",
    "        # rotations\n",
    "        x2, y2, z2 = r*sin(theta)*cos(phi), r*sin(theta)*sin(phi), r*cos(theta)\n",
    "        y2, z2 = y2*cosbeta-z2*sinbeta, z2*cosbeta+y2*sinbeta\n",
    "        x2, z2 = x2*cosalpha-z2*sinalpha, z2*cosalpha+x2*sinalpha\n",
    "        if z!=z2:\n",
    "            t = z/(z-z2)\n",
    "            if t>=0 and t<1 and curve[i][2]>dmin and curve[i][2]<dmax:\n",
    "                # 4-velocity\n",
    "                dt = curve[i+1][1]-curve[i][1]\n",
    "                dr = curve[i+1][2]-curve[i][2]\n",
    "                dtheta = curve[i+1][3]-curve[i][3]\n",
    "                dphi = curve[i+1][4]-curve[i][4]\n",
    "                # rotation of the 4-velocity\n",
    "                dx, dy, dz = spherical_to_xyz(dr, dtheta, dphi, r, theta, phi, \n",
    "                                              alpha, beta)\n",
    "                dr, dtheta, dphi = xyz_to_spherical(dx, dy, dz, x2, y2, z2)\n",
    "                # change of frame to orthonormal frame:\n",
    "                dr = 2*m/(sqrt(r*(2*m+r)))*dt+sqrt((2*m+r)/r)*dr\n",
    "                dtheta = dtheta*r\n",
    "                dphi = dphi*r # theta = pi/2\n",
    "                dt = sqrt(r/(2*m+r))*dt\n",
    "                # angle theta (used for thickness)\n",
    "                th = atan2(dtheta, (sqrt(dr**2+dphi**2)))\n",
    "                # thickness\n",
    "                factor = profile(r, dmin, dmax)/sin(abs(th))\n",
    "                # angle rho (used for Doppler effect)\n",
    "                rho = acos(dphi/sqrt(dr**2+dtheta**2+dphi**2))\n",
    "                # beta (used for Doppler effect)\n",
    "                beta_rel = sqrt(m/(r-3*m))\n",
    "                # Doppler factor\n",
    "                doppler = 1\n",
    "                doppler *= dt0/dt        # gravitational redshift\n",
    "                doppler *= 1/(sqrt(1-beta_rel**2)*(1+beta_rel*cos(rho))) # rotation of the disk\n",
    "                # added luminosity\n",
    "                X0, Y0, Z0 = temp_to_XYZ(8000, doppler) # T=8000 because I decided\n",
    "                # updating XYZ\n",
    "                X += X0*factor\n",
    "                Y += Y0*factor\n",
    "                Z += Z0*factor\n",
    "        x, y, z = x2, y2, z2\n",
    "    return X, Y, Z"
   ]
  },
  {
   "cell_type": "markdown",
   "metadata": {},
   "source": [
    "When plotted, this gives a nice asymmetry."
   ]
  },
  {
   "cell_type": "code",
   "execution_count": null,
   "metadata": {},
   "outputs": [],
   "source": [
    "%display plain\n",
    "data = np.zeros( (ny, nx, 3), dtype=float )\n",
    "render()\n",
    "data_rgb = XYZ_to_RGB(data)\n",
    "img4 = toimage(data_rgb)\n",
    "img4"
   ]
  },
  {
   "cell_type": "markdown",
   "metadata": {},
   "source": [
    "## Second relativistic effect: aberration  (forward focalisation)\n",
    "\n",
    "One last thing we didn't take into account is that a moving object that emits isotropic light at rest doesn't do so when in motion. The classical aberration formula reads:\n",
    "\n",
    "$$\\theta' = \\arccos \\left( \\frac{\\cos \\theta -\\beta}{1-\\beta \\cos \\theta} \\right)$$\n",
    "\n",
    "In the rest frame, the number of light rays emanating from the object at an angle $\\theta'$ is constant, equal to $\\frac{dN}{d\\theta'}$.\n",
    "\n",
    "By using chain derivation, in the moving frame :\n",
    "\n",
    "$$\\frac{dN}{d\\theta} = \\frac{dN}{d\\theta'} \\frac{d\\theta'}{d\\theta}$$\n",
    "\n",
    "As we can see, the number of rays per unit angle is multiplied by $\\frac{d\\theta'}{d\\theta}$. Let's plot this function for multiple values of $\\beta$."
   ]
  },
  {
   "cell_type": "code",
   "execution_count": null,
   "metadata": {},
   "outputs": [],
   "source": [
    "beta = var('beta')"
   ]
  },
  {
   "cell_type": "code",
   "execution_count": null,
   "metadata": {},
   "outputs": [],
   "source": [
    "thp = acos((cos(th)-beta)/(1-beta*cos(th)))"
   ]
  },
  {
   "cell_type": "code",
   "execution_count": null,
   "metadata": {},
   "outputs": [],
   "source": [
    "%display latex\n",
    "diff(thp,th)"
   ]
  },
  {
   "cell_type": "code",
   "execution_count": null,
   "metadata": {},
   "outputs": [],
   "source": [
    "aberration = abs(diff(thp,th)) # abs needed if we want negative angles"
   ]
  },
  {
   "cell_type": "code",
   "execution_count": null,
   "metadata": {},
   "outputs": [],
   "source": [
    "P = plot(aberration.subs(beta=0.), [-pi*.99,pi*.99])\n",
    "for i in range(1,10):\n",
    "    P += plot(aberration.subs({beta: 0.1*i}), [-pi*.99,pi*.99])\n",
    "P.plot()"
   ]
  },
  {
   "cell_type": "markdown",
   "metadata": {},
   "source": [
    "As we can see, the effect does focus rays toward the direction of motion. One can also check that the integral does not depend on $\\beta$.\n",
    "\n",
    "This is a fast cython implementation:"
   ]
  },
  {
   "cell_type": "code",
   "execution_count": null,
   "metadata": {},
   "outputs": [],
   "source": [
    "%%cython\n",
    "from libc.math cimport cos, sin ,sqrt\n",
    "\n",
    "cpdef float focalisation_factor(float th, float beta):\n",
    "    # uses an other expression stricly equal, but faster to compute.\n",
    "    return (cos(th)*(cos(th)+beta)+sin(th)**2)/\\\n",
    "        (sin(th)**2*sqrt(1-beta**2)+1/sqrt(1-beta**2)*(beta+cos(th))**2)"
   ]
  },
  {
   "cell_type": "markdown",
   "metadata": {},
   "source": [
    "Finally, this is the final code for the intersection: "
   ]
  },
  {
   "cell_type": "code",
   "execution_count": null,
   "metadata": {},
   "outputs": [],
   "source": [
    "%%cython\n",
    "from libc.math cimport cos, sin, acos, sqrt, abs, atan2\n",
    "cimport cython\n",
    "from __main__ import profile\n",
    "from __main__ import xyz_to_spherical\n",
    "from __main__ import spherical_to_xyz\n",
    "from __main__ import temp_to_XYZ\n",
    "from __main__ import focalisation_factor\n",
    "\n",
    "@cython.boundscheck(False)\n",
    "@cython.wraparound(False)\n",
    "cpdef tuple intersection(list curve, float m, float alpha, float beta, \n",
    "                         float dmin, float dmax):\n",
    "    cdef float x, y, z\n",
    "    cdef float x2, y2, z2\n",
    "    cdef float r, theta, phi\n",
    "    cdef int n, i\n",
    "    cdef float t\n",
    "    cdef float sinalpha, cosalpha\n",
    "    cdef float sinbeta, cosbeta\n",
    "    cdef float X, Y, Z\n",
    "    cdef float X0, Y0, Z0\n",
    "    cdef float dt, dt0, dr, dtheta, dphi\n",
    "    cdef float dx, dy, dz\n",
    "    cdef float th, rho, doppler, beta_rel\n",
    "    X, Y, Z = 0., 0., 0. # return values\n",
    "    # 20 percent speed gain\n",
    "    sinalpha = sin(alpha)\n",
    "    cosalpha = cos(alpha)\n",
    "    sinbeta = sin(beta)\n",
    "    cosbeta = cos(beta)\n",
    "    n = len(curve)\n",
    "    r, theta, phi = curve[0][2:5]\n",
    "    dt0 = curve[1][1]-curve[0][1]\n",
    "    # rotations\n",
    "    x, y, z = r*sin(theta)*cos(phi), r*sin(theta)*sin(phi), r*cos(theta)\n",
    "    x, y, z = x, y*cos(beta)-z*sin(beta), z*cos(beta)+y*sin(beta)\n",
    "    z = z*cos(alpha)+x*sin(alpha)\n",
    "    for i in range(1, n):        \n",
    "        r = curve[i][2]\n",
    "        theta = curve[i][3]\n",
    "        phi = curve[i][4]\n",
    "        # rotations\n",
    "        x2, y2, z2 = r*sin(theta)*cos(phi), r*sin(theta)*sin(phi), r*cos(theta)\n",
    "        y2, z2 = y2*cosbeta-z2*sinbeta, z2*cosbeta+y2*sinbeta\n",
    "        x2, z2 = x2*cosalpha-z2*sinalpha, z2*cosalpha+x2*sinalpha\n",
    "        if z!=z2:\n",
    "            t = z/(z-z2)\n",
    "            if t>=0 and t<1 and curve[i][2]>dmin and curve[i][2]<dmax:\n",
    "                # 4-velocity\n",
    "                dt = curve[i+1][1]-curve[i][1]\n",
    "                dr = curve[i+1][2]-curve[i][2]\n",
    "                dtheta = curve[i+1][3]-curve[i][3]\n",
    "                dphi = curve[i+1][4]-curve[i][4]          \n",
    "                # rotation of the 4-velocity\n",
    "                dx, dy, dz = spherical_to_xyz(dr, dtheta, dphi, r, theta, phi, \n",
    "                                              alpha, beta)\n",
    "                dr, dtheta, dphi = xyz_to_spherical(dx, dy, dz, x2, y2, z2)\n",
    "                # change of frame to orthonormal frame:\n",
    "                dr = 2*m/(sqrt(r*(2*m+r)))*dt+sqrt((2*m+r)/r)*dr\n",
    "                dtheta = dtheta*r\n",
    "                dphi = dphi*r # theta = pi/2\n",
    "                dt = sqrt(r/(2*m+r))*dt          \n",
    "                # angle theta (used for thickness)\n",
    "                th = atan2(dtheta, (sqrt(dr**2+dphi**2)))\n",
    "                # thickness\n",
    "                factor = profile(r, dmin, dmax)/sin(abs(th))\n",
    "                # angle rho (used for Doppler effect)\n",
    "                rho = acos(dphi/sqrt(dr**2+dtheta**2+dphi**2))\n",
    "                # beta (used for Doppler effect and focalisation)\n",
    "                beta_rel = sqrt(m/(r-3*m))\n",
    "                # Doppler factor\n",
    "                doppler = 1\n",
    "                doppler *= dt0/dt        # gravitational redshift\n",
    "                doppler *= 1/(sqrt(1-beta_rel**2)*(1+beta_rel*cos(rho))) # rotation of the disk\n",
    "                # added luminosity\n",
    "                X0, Y0, Z0 = temp_to_XYZ(8000, doppler) # T=8000 because I decided\n",
    "                # focalisation\n",
    "                factor *= focalisation_factor(rho, beta_rel)\n",
    "                # updating XYZ\n",
    "                X += X0*factor\n",
    "                Y += Y0*factor\n",
    "                Z += Z0*factor\n",
    "        x, y, z = x2, y2, z2\n",
    "    return X, Y, Z"
   ]
  },
  {
   "cell_type": "markdown",
   "metadata": {},
   "source": [
    "And this is the final rendering:"
   ]
  },
  {
   "cell_type": "code",
   "execution_count": null,
   "metadata": {},
   "outputs": [],
   "source": [
    "%display plain\n",
    "data = np.zeros( (ny, nx, 3), dtype=float )\n",
    "render()\n",
    "data_rgb = XYZ_to_RGB(data)\n",
    "img5 = toimage(data_rgb)\n",
    "# img5.save(\"my_home_made_black_hole.png\") # uncomment to save\n",
    "img5"
   ]
  },
  {
   "cell_type": "markdown",
   "metadata": {},
   "source": [
    "The difference with the previous image seems small, but that's only because the translation to RGB introduces luminosity clipping. In fact, the white area is twice as bright in the new picture."
   ]
  },
  {
   "cell_type": "markdown",
   "metadata": {},
   "source": [
    "## Conclusion\n",
    "\n",
    "Here is a small recap of all the steps we went through:\n",
    "\n",
    "### Geometric image:"
   ]
  },
  {
   "cell_type": "code",
   "execution_count": null,
   "metadata": {},
   "outputs": [],
   "source": [
    "img1"
   ]
  },
  {
   "cell_type": "markdown",
   "metadata": {},
   "source": [
    "### Disk thickness:"
   ]
  },
  {
   "cell_type": "code",
   "execution_count": null,
   "metadata": {},
   "outputs": [],
   "source": [
    "img2"
   ]
  },
  {
   "cell_type": "markdown",
   "metadata": {},
   "source": [
    "### Black body object:"
   ]
  },
  {
   "cell_type": "code",
   "execution_count": null,
   "metadata": {},
   "outputs": [],
   "source": [
    "img3"
   ]
  },
  {
   "cell_type": "markdown",
   "metadata": {},
   "source": [
    "### Doppler effect added:"
   ]
  },
  {
   "cell_type": "code",
   "execution_count": null,
   "metadata": {},
   "outputs": [],
   "source": [
    "img4"
   ]
  },
  {
   "cell_type": "markdown",
   "metadata": {},
   "source": [
    "### Relativistic aberration added:"
   ]
  },
  {
   "cell_type": "code",
   "execution_count": null,
   "metadata": {},
   "outputs": [],
   "source": [
    "img5"
   ]
  }
 ],
 "metadata": {
  "kernelspec": {
   "display_name": "SageMath 10.5",
   "language": "sage",
   "name": "sagemath"
  },
  "language_info": {
   "codemirror_mode": {
    "name": "ipython",
    "version": 3
   },
   "file_extension": ".py",
   "mimetype": "text/x-python",
   "name": "python",
   "nbconvert_exporter": "python",
   "pygments_lexer": "ipython3",
   "version": "3.12.3"
  }
 },
 "nbformat": 4,
 "nbformat_minor": 4
}
