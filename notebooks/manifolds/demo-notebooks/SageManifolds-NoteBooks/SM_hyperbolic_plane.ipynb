{
 "cells": [
  {
   "cell_type": "markdown",
   "metadata": {},
   "source": [
    "# Hyperbolic plane $\\mathbb{H}^2$"
   ]
  },
  {
   "cell_type": "markdown",
   "metadata": {},
   "source": [
    "This Jupyter notebook illustrates some differential geometry capabilities of SageMath on the example of the hyperbolic plane. The corresponding tools have been developed within\n",
    "the  [SageManifolds](https://sagemanifolds.obspm.fr) project."
   ]
  },
  {
   "cell_type": "markdown",
   "metadata": {},
   "source": [
    "A version of SageMath at least equal to 9.4 is required to run this notebook:"
   ]
  },
  {
   "cell_type": "code",
   "execution_count": null,
   "metadata": {},
   "outputs": [],
   "source": [
    "version()"
   ]
  },
  {
   "cell_type": "markdown",
   "metadata": {},
   "source": [
    "First we set up the notebook to display mathematical objects using LaTeX formatting:"
   ]
  },
  {
   "cell_type": "code",
   "execution_count": null,
   "metadata": {},
   "outputs": [],
   "source": [
    "%display latex"
   ]
  },
  {
   "cell_type": "markdown",
   "metadata": {},
   "source": [
    "We also tell Maxima, which is used by SageMath for simplifications of symbolic expressions, that all computations involve real variables:"
   ]
  },
  {
   "cell_type": "code",
   "execution_count": null,
   "metadata": {},
   "outputs": [],
   "source": [
    "maxima_calculus.eval(\"domain: real;\")"
   ]
  },
  {
   "cell_type": "markdown",
   "metadata": {},
   "source": [
    "We declare $\\mathbb{H}^2$ as a 2-dimensional differentiable manifold:"
   ]
  },
  {
   "cell_type": "code",
   "execution_count": null,
   "metadata": {},
   "outputs": [],
   "source": [
    "H2 = Manifold(2, 'H2', latex_name=r'\\mathbb{H}^2', start_index=1)\n",
    "print(H2)\n",
    "H2"
   ]
  },
  {
   "cell_type": "markdown",
   "metadata": {},
   "source": [
    "We shall introduce charts on $\\mathbb{H}^2$ that are related to various models of the hyperbolic plane as submanifolds of $\\mathbb{R}^3$. Therefore, we start by declaring $\\mathbb{R}^3$ as a 3-dimensional manifold equiped with a global chart: the chart of Cartesian coordinates $(X,Y,Z)$:"
   ]
  },
  {
   "cell_type": "code",
   "execution_count": null,
   "metadata": {},
   "outputs": [],
   "source": [
    "R3 = Manifold(3, 'R3', latex_name=r'\\mathbb{R}^3', start_index=1)\n",
    "X3.<X,Y,Z> = R3.chart()\n",
    "X3"
   ]
  },
  {
   "cell_type": "markdown",
   "metadata": {},
   "source": [
    "## Hyperboloid model\n",
    "\n",
    "The first chart we introduce is related to the **hyperboloid model of $\\mathbb{H}^2$**, namely to the representation of $\\mathbb{H}^2$ as the upper sheet ($Z>0$) of the hyperboloid of two sheets defined in $\\mathbb{R}^3$ by the equation $X^2 + Y^2 - Z^2 = -1$:"
   ]
  },
  {
   "cell_type": "code",
   "execution_count": null,
   "metadata": {},
   "outputs": [],
   "source": [
    "X_hyp.<X,Y> = H2.chart()\n",
    "X_hyp"
   ]
  },
  {
   "cell_type": "markdown",
   "metadata": {},
   "source": [
    "The corresponding embedding of $\\mathbb{H}^2$ in $\\mathbb{R}^3$ is"
   ]
  },
  {
   "cell_type": "code",
   "execution_count": null,
   "metadata": {},
   "outputs": [],
   "source": [
    "Phi1 = H2.diff_map(R3, [X, Y, sqrt(1+X^2+Y^2)], name='Phi_1', latex_name=r'\\Phi_1')\n",
    "Phi1.display()"
   ]
  },
  {
   "cell_type": "markdown",
   "metadata": {},
   "source": [
    "By plotting the chart $\\left(\\mathbb{H}^2,(X,Y)\\right)$ in terms of the Cartesian coordinates of $\\mathbb{R}^3$, we get a graphical view of $\\Phi_1(\\mathbb{H}^2)$:"
   ]
  },
  {
   "cell_type": "code",
   "execution_count": null,
   "metadata": {},
   "outputs": [],
   "source": [
    "show(X_hyp.plot(X3, mapping=Phi1, number_values=15, color='blue'), \n",
    "     aspect_ratio=1, figsize=7)"
   ]
  },
  {
   "cell_type": "markdown",
   "metadata": {
    "collapsed": true
   },
   "source": [
    "A second chart is obtained from the polar coordinates $(r,\\varphi)$ associated with $(X,Y)$. Contrary to $(X,Y)$, the polar chart is not defined on the whole $\\mathbb{H}^2$, but on the complement $U$ of the segment $\\{Y=0, x\\geq 0\\}$: "
   ]
  },
  {
   "cell_type": "code",
   "execution_count": null,
   "metadata": {},
   "outputs": [],
   "source": [
    "U = H2.open_subset('U', coord_def={X_hyp: (Y!=0, X<0)})\n",
    "print(U)"
   ]
  },
  {
   "cell_type": "markdown",
   "metadata": {},
   "source": [
    "Note that (y!=0, x<0) stands for $y\\not=0$ OR $x<0$; the condition $y\\not=0$ AND $x<0$ would have been written [y!=0, x<0] instead."
   ]
  },
  {
   "cell_type": "code",
   "execution_count": null,
   "metadata": {},
   "outputs": [],
   "source": [
    "X_pol.<r,ph> = U.chart(r'r:(0,+oo) ph:(0,2*pi):\\varphi')\n",
    "X_pol"
   ]
  },
  {
   "cell_type": "code",
   "execution_count": null,
   "metadata": {},
   "outputs": [],
   "source": [
    "X_pol.coord_range()"
   ]
  },
  {
   "cell_type": "markdown",
   "metadata": {},
   "source": [
    "We specify the transition map between the charts $\\left(U,(r,\\varphi)\\right)$ and $\\left(\\mathbb{H}^2,(X,Y)\\right)$ as $X=r\\cos\\varphi$, $Y=r\\sin\\varphi$:"
   ]
  },
  {
   "cell_type": "code",
   "execution_count": null,
   "metadata": {},
   "outputs": [],
   "source": [
    "pol_to_hyp = X_pol.transition_map(X_hyp, [r*cos(ph), r*sin(ph)])\n",
    "pol_to_hyp"
   ]
  },
  {
   "cell_type": "code",
   "execution_count": null,
   "metadata": {},
   "outputs": [],
   "source": [
    "pol_to_hyp.display()"
   ]
  },
  {
   "cell_type": "code",
   "execution_count": null,
   "metadata": {},
   "outputs": [],
   "source": [
    "pol_to_hyp.set_inverse(sqrt(X^2+Y^2), atan2(Y, X)) "
   ]
  },
  {
   "cell_type": "code",
   "execution_count": null,
   "metadata": {},
   "outputs": [],
   "source": [
    "pol_to_hyp.inverse().display()"
   ]
  },
  {
   "cell_type": "markdown",
   "metadata": {},
   "source": [
    "The restriction of the embedding $\\Phi_1$ to $U$ has then two coordinate expressions:"
   ]
  },
  {
   "cell_type": "code",
   "execution_count": null,
   "metadata": {},
   "outputs": [],
   "source": [
    "Phi1.restrict(U).display()"
   ]
  },
  {
   "cell_type": "code",
   "execution_count": null,
   "metadata": {},
   "outputs": [],
   "source": [
    "graph_hyp = X_pol.plot(X3, mapping=Phi1.restrict(U), number_values=15, ranges={r: (0,3)}, \n",
    "                       color='blue')\n",
    "show(graph_hyp, aspect_ratio=1, figsize=7)"
   ]
  },
  {
   "cell_type": "code",
   "execution_count": null,
   "metadata": {},
   "outputs": [],
   "source": [
    "Phi1._coord_expression"
   ]
  },
  {
   "cell_type": "markdown",
   "metadata": {},
   "source": [
    "## Metric and curvature\n",
    "\n",
    "The metric on $\\mathbb{H}^2$ is that induced by the Minkowksy metric on $\\mathbb{R}^3$: \n",
    "$$ \\eta = \\mathrm{d}X\\otimes\\mathrm{d}X + \\mathrm{d}Y\\otimes\\mathrm{d}Y - \\mathrm{d}Z\\otimes\\mathrm{d}Z $$"
   ]
  },
  {
   "cell_type": "code",
   "execution_count": null,
   "metadata": {},
   "outputs": [],
   "source": [
    "eta = R3.lorentzian_metric('eta', latex_name=r'\\eta')\n",
    "eta[1,1] = 1 ; eta[2,2] = 1 ; eta[3,3] = -1\n",
    "eta.display()"
   ]
  },
  {
   "cell_type": "code",
   "execution_count": null,
   "metadata": {},
   "outputs": [],
   "source": [
    "g = H2.metric('g')\n",
    "g.set( Phi1.pullback(eta) )\n",
    "g.display() "
   ]
  },
  {
   "cell_type": "markdown",
   "metadata": {},
   "source": [
    "The expression of the metric tensor in terms of the polar coordinates is"
   ]
  },
  {
   "cell_type": "code",
   "execution_count": null,
   "metadata": {},
   "outputs": [],
   "source": [
    "g.display(X_pol.frame(), X_pol)"
   ]
  },
  {
   "cell_type": "markdown",
   "metadata": {},
   "source": [
    "The Riemann curvature tensor associated with $g$ is"
   ]
  },
  {
   "cell_type": "code",
   "execution_count": null,
   "metadata": {},
   "outputs": [],
   "source": [
    "Riem = g.riemann()\n",
    "print(Riem)"
   ]
  },
  {
   "cell_type": "code",
   "execution_count": null,
   "metadata": {},
   "outputs": [],
   "source": [
    "Riem.display(X_pol.frame(), X_pol)"
   ]
  },
  {
   "cell_type": "markdown",
   "metadata": {},
   "source": [
    "The Ricci tensor and the Ricci scalar:"
   ]
  },
  {
   "cell_type": "code",
   "execution_count": null,
   "metadata": {},
   "outputs": [],
   "source": [
    "Ric = g.ricci()\n",
    "print(Ric)"
   ]
  },
  {
   "cell_type": "code",
   "execution_count": null,
   "metadata": {},
   "outputs": [],
   "source": [
    "Ric.display(X_pol.frame(), X_pol)"
   ]
  },
  {
   "cell_type": "code",
   "execution_count": null,
   "metadata": {},
   "outputs": [],
   "source": [
    "Rscal = g.ricci_scalar()\n",
    "print(Rscal)"
   ]
  },
  {
   "cell_type": "code",
   "execution_count": null,
   "metadata": {},
   "outputs": [],
   "source": [
    "Rscal.display()"
   ]
  },
  {
   "cell_type": "markdown",
   "metadata": {},
   "source": [
    "Hence we recover the fact that $(\\mathbb{H}^2,g)$ is a space of **constant negative curvature**."
   ]
  },
  {
   "cell_type": "markdown",
   "metadata": {},
   "source": [
    "In dimension 2, the Riemann curvature tensor is entirely determined by the Ricci scalar $R$ according to\n",
    "\n",
    "$$R^i_{\\ \\, jlk} = \\frac{R}{2} \\left( \\delta^i_{\\ \\, k} g_{jl} - \\delta^i_{\\ \\, l} g_{jk} \\right)$$\n",
    "\n",
    "Let us check this formula here, under the form $R^i_{\\ \\, jlk} = -R g_{j[k} \\delta^i_{\\ \\, l]}$:"
   ]
  },
  {
   "cell_type": "code",
   "execution_count": null,
   "metadata": {},
   "outputs": [],
   "source": [
    "delta = H2.tangent_identity_field()\n",
    "Riem == - Rscal*(g*delta).antisymmetrize(2,3)  # 2,3 = last positions of the type-(1,3) tensor g*delta "
   ]
  },
  {
   "cell_type": "markdown",
   "metadata": {},
   "source": [
    "Similarly the relation $\\mathrm{Ric} = (R/2)\\; g$ must hold:"
   ]
  },
  {
   "cell_type": "code",
   "execution_count": null,
   "metadata": {},
   "outputs": [],
   "source": [
    "Ric == (Rscal/2)*g"
   ]
  },
  {
   "cell_type": "markdown",
   "metadata": {},
   "source": [
    "## Poincaré disk model\n",
    "\n",
    "The Poincaré disk model of $\\mathbb{H}^2$ is obtained by stereographic projection from the point $S=(0,0,-1)$ of the hyperboloid model to the plane $Z=0$. The radial coordinate $R$ of the image of a point of polar coordinate $(r,\\varphi)$ is\n",
    "$$ R = \\frac{r}{1+\\sqrt{1+r^2}}.$$\n",
    "Hence we define the Poincaré disk chart on $\\mathbb{H}^2$ by"
   ]
  },
  {
   "cell_type": "code",
   "execution_count": null,
   "metadata": {},
   "outputs": [],
   "source": [
    "X_Pdisk.<R,ph> = U.chart(r'R:(0,1) ph:(0,2*pi):\\varphi')\n",
    "X_Pdisk"
   ]
  },
  {
   "cell_type": "code",
   "execution_count": null,
   "metadata": {},
   "outputs": [],
   "source": [
    "X_Pdisk.coord_range()"
   ]
  },
  {
   "cell_type": "markdown",
   "metadata": {},
   "source": [
    "and relate it to the hyperboloid polar chart by"
   ]
  },
  {
   "cell_type": "code",
   "execution_count": null,
   "metadata": {},
   "outputs": [],
   "source": [
    "pol_to_Pdisk = X_pol.transition_map(X_Pdisk, [r/(1+sqrt(1+r^2)), ph])\n",
    "pol_to_Pdisk"
   ]
  },
  {
   "cell_type": "code",
   "execution_count": null,
   "metadata": {},
   "outputs": [],
   "source": [
    "pol_to_Pdisk.display()"
   ]
  },
  {
   "cell_type": "code",
   "execution_count": null,
   "metadata": {},
   "outputs": [],
   "source": [
    "pol_to_Pdisk.set_inverse(2*R/(1-R^2), ph)\n",
    "pol_to_Pdisk.inverse().display()"
   ]
  },
  {
   "cell_type": "markdown",
   "metadata": {},
   "source": [
    "A view of the Poincaré disk chart via the embedding $\\Phi_1$:"
   ]
  },
  {
   "cell_type": "code",
   "execution_count": null,
   "metadata": {},
   "outputs": [],
   "source": [
    "show(X_Pdisk.plot(X3, mapping=Phi1.restrict(U), ranges={R: (0,0.9)}, color='blue',\n",
    "                  number_values=15), \n",
    "     aspect_ratio=1, figsize=7)"
   ]
  },
  {
   "cell_type": "markdown",
   "metadata": {},
   "source": [
    "The expression of the metric tensor in terms of coordinates $(R,\\varphi)$:"
   ]
  },
  {
   "cell_type": "code",
   "execution_count": null,
   "metadata": {},
   "outputs": [],
   "source": [
    "g.display(X_Pdisk.frame(), X_Pdisk)"
   ]
  },
  {
   "cell_type": "markdown",
   "metadata": {},
   "source": [
    "We may factorize each metric component:"
   ]
  },
  {
   "cell_type": "code",
   "execution_count": null,
   "metadata": {},
   "outputs": [],
   "source": [
    "for i in [1,2]:\n",
    "    g[X_Pdisk.frame(), i, i, X_Pdisk].factor()\n",
    "g.display(X_Pdisk.frame(), X_Pdisk)"
   ]
  },
  {
   "cell_type": "markdown",
   "metadata": {},
   "source": [
    "### Cartesian coordinates on the Poincaré disk\n",
    "\n",
    "Let us introduce Cartesian coordinates $(u,v)$ on the Poincaré disk; since the latter has a unit radius, this amounts to defining the following chart on $\\mathbb{H}^2$:"
   ]
  },
  {
   "cell_type": "code",
   "execution_count": null,
   "metadata": {},
   "outputs": [],
   "source": [
    "X_Pdisk_cart.<u,v> = H2.chart('u:(-1,1) v:(-1,1)', coord_restrictions=lambda u,v: u^2+v^2 < 1)\n",
    "X_Pdisk_cart"
   ]
  },
  {
   "cell_type": "markdown",
   "metadata": {},
   "source": [
    "On $U$, the Cartesian coordinates $(u,v)$ are related to the polar coordinates $(R,\\varphi)$ by the standard formulas:"
   ]
  },
  {
   "cell_type": "code",
   "execution_count": null,
   "metadata": {},
   "outputs": [],
   "source": [
    "Pdisk_to_Pdisk_cart = X_Pdisk.transition_map(X_Pdisk_cart, [R*cos(ph), R*sin(ph)])\n",
    "Pdisk_to_Pdisk_cart"
   ]
  },
  {
   "cell_type": "code",
   "execution_count": null,
   "metadata": {},
   "outputs": [],
   "source": [
    "Pdisk_to_Pdisk_cart.display()"
   ]
  },
  {
   "cell_type": "code",
   "execution_count": null,
   "metadata": {},
   "outputs": [],
   "source": [
    "Pdisk_to_Pdisk_cart.set_inverse(sqrt(u^2+v^2), atan2(v, u)) \n",
    "Pdisk_to_Pdisk_cart.inverse().display()"
   ]
  },
  {
   "cell_type": "markdown",
   "metadata": {},
   "source": [
    "The embedding of $\\mathbb{H}^2$ in $\\mathbb{R}^3$ associated with the Poincaré disk model is naturally defined as"
   ]
  },
  {
   "cell_type": "code",
   "execution_count": null,
   "metadata": {},
   "outputs": [],
   "source": [
    "Phi2 = H2.diff_map(R3, {(X_Pdisk_cart, X3): [u, v, 0]},\n",
    "                   name='Phi_2', latex_name=r'\\Phi_2')\n",
    "Phi2.display()"
   ]
  },
  {
   "cell_type": "markdown",
   "metadata": {},
   "source": [
    "Let us use it to draw the Poincaré disk in $\\mathbb{R}^3$:"
   ]
  },
  {
   "cell_type": "code",
   "execution_count": null,
   "metadata": {},
   "outputs": [],
   "source": [
    "graph_disk_uv = X_Pdisk_cart.plot(X3, mapping=Phi2, number_values=15)\n",
    "show(graph_disk_uv, figsize=7)"
   ]
  },
  {
   "cell_type": "markdown",
   "metadata": {},
   "source": [
    "On $U$, the change of coordinates $(r,\\varphi) \\rightarrow (u,v)$ is obtained by combining the changes $(r,\\varphi) \\rightarrow (R,\\varphi)$ and $(R,\\varphi) \\rightarrow (u,v)$:"
   ]
  },
  {
   "cell_type": "code",
   "execution_count": null,
   "metadata": {},
   "outputs": [],
   "source": [
    "pol_to_Pdisk_cart = Pdisk_to_Pdisk_cart * pol_to_Pdisk\n",
    "pol_to_Pdisk_cart"
   ]
  },
  {
   "cell_type": "code",
   "execution_count": null,
   "metadata": {},
   "outputs": [],
   "source": [
    "pol_to_Pdisk_cart.display()"
   ]
  },
  {
   "cell_type": "markdown",
   "metadata": {},
   "source": [
    "Still on $U$, the change of coordinates $(X,Y) \\rightarrow (u,v)$ is obtained by combining the changes $(X,Y) \\rightarrow (r,\\varphi)$ with $(r,\\varphi) \\rightarrow (u,v)$:"
   ]
  },
  {
   "cell_type": "code",
   "execution_count": null,
   "metadata": {},
   "outputs": [],
   "source": [
    "hyp_to_Pdisk_cart_U = pol_to_Pdisk_cart * pol_to_hyp.inverse()\n",
    "hyp_to_Pdisk_cart_U"
   ]
  },
  {
   "cell_type": "code",
   "execution_count": null,
   "metadata": {},
   "outputs": [],
   "source": [
    "hyp_to_Pdisk_cart_U.display()"
   ]
  },
  {
   "cell_type": "markdown",
   "metadata": {},
   "source": [
    "We use the above expression to extend the change of coordinates $(X,Y) \\rightarrow (u,v)$ from $U$ to the whole manifold $\\mathbb{H}^2$:"
   ]
  },
  {
   "cell_type": "code",
   "execution_count": null,
   "metadata": {},
   "outputs": [],
   "source": [
    "hyp_to_Pdisk_cart = X_hyp.transition_map(X_Pdisk_cart, hyp_to_Pdisk_cart_U(X,Y))\n",
    "hyp_to_Pdisk_cart"
   ]
  },
  {
   "cell_type": "code",
   "execution_count": null,
   "metadata": {},
   "outputs": [],
   "source": [
    "hyp_to_Pdisk_cart.display()"
   ]
  },
  {
   "cell_type": "code",
   "execution_count": null,
   "metadata": {},
   "outputs": [],
   "source": [
    "hyp_to_Pdisk_cart.set_inverse(2*u/(1-u^2-v^2), 2*v/(1-u^2-v^2))\n",
    "hyp_to_Pdisk_cart.inverse().display()"
   ]
  },
  {
   "cell_type": "code",
   "execution_count": null,
   "metadata": {},
   "outputs": [],
   "source": [
    "graph_Pdisk = X_pol.plot(X3, mapping=Phi2.restrict(U), ranges={r: (0, 20)}, number_values=15, \n",
    "                         label_axes=False)\n",
    "show(graph_hyp + graph_Pdisk, aspect_ratio=1, figsize=7)"
   ]
  },
  {
   "cell_type": "code",
   "execution_count": null,
   "metadata": {},
   "outputs": [],
   "source": [
    "X_pol.plot(X_Pdisk_cart, ranges={r: (0, 20)}, number_values=15)"
   ]
  },
  {
   "cell_type": "markdown",
   "metadata": {},
   "source": [
    "### Metric tensor in Poincaré disk coordinates $(u,v)$"
   ]
  },
  {
   "cell_type": "markdown",
   "metadata": {},
   "source": [
    "From now on, we are using the Poincaré disk chart $(\\mathbb{H}^2,(u,v))$ as the default one on $\\mathbb{H}^2$:"
   ]
  },
  {
   "cell_type": "code",
   "execution_count": null,
   "metadata": {},
   "outputs": [],
   "source": [
    "H2.set_default_chart(X_Pdisk_cart)\n",
    "H2.set_default_frame(X_Pdisk_cart.frame())"
   ]
  },
  {
   "cell_type": "code",
   "execution_count": null,
   "metadata": {},
   "outputs": [],
   "source": [
    "g.display(X_hyp.frame())"
   ]
  },
  {
   "cell_type": "code",
   "execution_count": null,
   "metadata": {},
   "outputs": [],
   "source": [
    "g.display()"
   ]
  },
  {
   "cell_type": "code",
   "execution_count": null,
   "metadata": {},
   "outputs": [],
   "source": [
    "g[1,1].factor() ; g[2,2].factor()\n",
    "g.display()"
   ]
  },
  {
   "cell_type": "markdown",
   "metadata": {
    "collapsed": true
   },
   "source": [
    "## Hemispherical model\n",
    "\n",
    "The **hemispherical model of $\\mathbb{H}^2$** is obtained by the inverse stereographic projection from the point $S = (0,0,-1)$ of the Poincaré disk to the unit sphere $X^2+Y^2+Z^2=1$. This induces a spherical coordinate chart on $U$:"
   ]
  },
  {
   "cell_type": "code",
   "execution_count": null,
   "metadata": {},
   "outputs": [],
   "source": [
    "X_spher.<th,ph> = U.chart(r'th:(0,pi/2):\\theta ph:(0,2*pi):\\varphi')\n",
    "X_spher"
   ]
  },
  {
   "cell_type": "markdown",
   "metadata": {},
   "source": [
    "From the stereographic projection from $S$, we obtain that\n",
    "\\begin{equation}\n",
    "\\sin\\theta = \\frac{2R}{1+R^2}\n",
    "\\end{equation}\n",
    "Hence the transition map:"
   ]
  },
  {
   "cell_type": "code",
   "execution_count": null,
   "metadata": {},
   "outputs": [],
   "source": [
    "Pdisk_to_spher = X_Pdisk.transition_map(X_spher, [arcsin(2*R/(1+R^2)), ph])\n",
    "Pdisk_to_spher"
   ]
  },
  {
   "cell_type": "code",
   "execution_count": null,
   "metadata": {},
   "outputs": [],
   "source": [
    "Pdisk_to_spher.display()"
   ]
  },
  {
   "cell_type": "code",
   "execution_count": null,
   "metadata": {},
   "outputs": [],
   "source": [
    "Pdisk_to_spher.set_inverse(sin(th)/(1+cos(th)), ph)\n",
    "Pdisk_to_spher.inverse().display()"
   ]
  },
  {
   "cell_type": "markdown",
   "metadata": {},
   "source": [
    "In the spherical coordinates $(\\theta,\\varphi)$, the metric takes the following form:"
   ]
  },
  {
   "cell_type": "code",
   "execution_count": null,
   "metadata": {},
   "outputs": [],
   "source": [
    "g.display(X_spher.frame(), X_spher)"
   ]
  },
  {
   "cell_type": "markdown",
   "metadata": {},
   "source": [
    "The embedding of $\\mathbb{H}^2$ in $\\mathbb{R}^3$ associated with the hemispherical model is naturally:"
   ]
  },
  {
   "cell_type": "code",
   "execution_count": null,
   "metadata": {},
   "outputs": [],
   "source": [
    "Phi3 = H2.diff_map(R3, {(X_spher, X3): [sin(th)*cos(ph), sin(th)*sin(ph), cos(th)]},\n",
    "                   name='Phi_3', latex_name=r'\\Phi_3')\n",
    "Phi3.display()"
   ]
  },
  {
   "cell_type": "code",
   "execution_count": null,
   "metadata": {},
   "outputs": [],
   "source": [
    "graph_spher = X_pol.plot(X3, mapping=Phi3, ranges={r: (0, 20)}, number_values=15, \n",
    "                         color='orange', label_axes=False)\n",
    "show(graph_hyp + graph_Pdisk + graph_spher, aspect_ratio=1,  \n",
    "     figsize=7)"
   ]
  },
  {
   "cell_type": "markdown",
   "metadata": {},
   "source": [
    "## Poincaré half-plane model\n",
    "\n",
    "The **Poincaré half-plane model of $\\mathbb{H}^2$** is obtained by stereographic projection from the point $W=(-1,0,0)$ of the hemispherical model to the plane $X=1$. This induces a new coordinate chart on $\\mathbb{H}^2$ by setting $(x,y)=(Y,Z)$ in the plane $X=1$:"
   ]
  },
  {
   "cell_type": "code",
   "execution_count": null,
   "metadata": {},
   "outputs": [],
   "source": [
    "X_hplane.<x,y> = H2.chart('x y:(0,+oo)')\n",
    "X_hplane"
   ]
  },
  {
   "cell_type": "markdown",
   "metadata": {},
   "source": [
    "The coordinate transformation $(\\theta,\\varphi)\\rightarrow (x,y)$ is easily deduced from the stereographic projection from the point $W$:"
   ]
  },
  {
   "cell_type": "code",
   "execution_count": null,
   "metadata": {},
   "outputs": [],
   "source": [
    "spher_to_hplane = X_spher.transition_map(X_hplane, [2*sin(th)*sin(ph)/(1+sin(th)*cos(ph)),\n",
    "                                                    2*cos(th)/(1+sin(th)*cos(ph))])\n",
    "spher_to_hplane"
   ]
  },
  {
   "cell_type": "code",
   "execution_count": null,
   "metadata": {},
   "outputs": [],
   "source": [
    "spher_to_hplane.display()"
   ]
  },
  {
   "cell_type": "code",
   "execution_count": null,
   "metadata": {},
   "outputs": [],
   "source": [
    "Pdisk_to_hplane = spher_to_hplane * Pdisk_to_spher\n",
    "Pdisk_to_hplane"
   ]
  },
  {
   "cell_type": "code",
   "execution_count": null,
   "metadata": {},
   "outputs": [],
   "source": [
    "Pdisk_to_hplane.display()"
   ]
  },
  {
   "cell_type": "code",
   "execution_count": null,
   "metadata": {},
   "outputs": [],
   "source": [
    "Pdisk_cart_to_hplane_U = Pdisk_to_hplane * Pdisk_to_Pdisk_cart.inverse()\n",
    "Pdisk_cart_to_hplane_U"
   ]
  },
  {
   "cell_type": "code",
   "execution_count": null,
   "metadata": {},
   "outputs": [],
   "source": [
    "Pdisk_cart_to_hplane_U.display()"
   ]
  },
  {
   "cell_type": "markdown",
   "metadata": {},
   "source": [
    "Let us use the above formula to define the transition map $(u,v)\\rightarrow (x,y)$ on the whole manifold $\\mathbb{H}^2$ (and not only on $U$):"
   ]
  },
  {
   "cell_type": "code",
   "execution_count": null,
   "metadata": {},
   "outputs": [],
   "source": [
    "Pdisk_cart_to_hplane = X_Pdisk_cart.transition_map(X_hplane, Pdisk_cart_to_hplane_U(u,v))\n",
    "Pdisk_cart_to_hplane"
   ]
  },
  {
   "cell_type": "code",
   "execution_count": null,
   "metadata": {},
   "outputs": [],
   "source": [
    "Pdisk_cart_to_hplane.display()"
   ]
  },
  {
   "cell_type": "code",
   "execution_count": null,
   "metadata": {},
   "outputs": [],
   "source": [
    "Pdisk_cart_to_hplane.set_inverse((4-x^2-y^2)/(x^2+(2+y)^2), 4*x/(x^2+(2+y)^2))\n",
    "Pdisk_cart_to_hplane.inverse().display()"
   ]
  },
  {
   "cell_type": "markdown",
   "metadata": {},
   "source": [
    "Since the coordinates $(x,y)$ correspond to $(Y,Z)$ in the plane $X=1$, the embedding of $\\mathbb{H}^2$ in $\\mathbb{R}^3$ naturally associated with the Poincaré half-plane model is"
   ]
  },
  {
   "cell_type": "code",
   "execution_count": null,
   "metadata": {},
   "outputs": [],
   "source": [
    "Phi4 = H2.diff_map(R3, {(X_hplane, X3): [1, x, y]}, name='Phi_4', latex_name=r'\\Phi_4')\n",
    "Phi4.display()"
   ]
  },
  {
   "cell_type": "code",
   "execution_count": null,
   "metadata": {},
   "outputs": [],
   "source": [
    "graph_hplane = X_pol.plot(X3, mapping=Phi4.restrict(U), ranges={r: (0, 1.5)}, \n",
    "                          number_values=15, color='brown', label_axes=False)\n",
    "show(graph_hyp + graph_Pdisk + graph_spher + graph_hplane, \n",
    "     aspect_ratio=1, figsize=8)"
   ]
  },
  {
   "cell_type": "markdown",
   "metadata": {},
   "source": [
    "Let us draw the grid of the hyperboloidal coordinates $(r,\\varphi)$ in terms of the half-plane coordinates $(x,y)$:"
   ]
  },
  {
   "cell_type": "code",
   "execution_count": null,
   "metadata": {},
   "outputs": [],
   "source": [
    "pol_to_hplane = Pdisk_to_hplane * pol_to_Pdisk"
   ]
  },
  {
   "cell_type": "code",
   "execution_count": null,
   "metadata": {},
   "outputs": [],
   "source": [
    "show(X_pol.plot(X_hplane, ranges={r: (0,24)}, style={r: '-', ph: '--'}, number_values=15, \n",
    "                plot_points=200, color='brown'), xmin=-5, xmax=5, ymin=0, ymax=5, \n",
    "     aspect_ratio=1)"
   ]
  },
  {
   "cell_type": "markdown",
   "metadata": {},
   "source": [
    "The solid curves are those along which $r$ varies while $\\varphi$ is kept constant. Conversely, the dashed curves are those along which $\\varphi$ varies, while $r$ is kept constant. We notice that the former curves are arcs of circles orthogonal to the half-plane boundary $y=0$, hence they are geodesics of $(\\mathbb{H}^2,g)$. This is not surprising since they correspond to the intersections of the hyperboloid with planes through the origin (namely the plane $\\varphi=\\mathrm{const}$). The point $(x,y) = (0,2)$ corresponds to $r=0$."
   ]
  },
  {
   "cell_type": "markdown",
   "metadata": {},
   "source": [
    "We may also depict the Poincaré disk coordinates $(u,v)$ in terms of the half-plane coordinates $(x,y)$:"
   ]
  },
  {
   "cell_type": "code",
   "execution_count": null,
   "metadata": {},
   "outputs": [],
   "source": [
    "X_Pdisk_cart.plot(ranges={u: (-1, 0), v: (-1, 0)}, \n",
    "                  style={u: '-', v: '--'}) + \\\n",
    "X_Pdisk_cart.plot(ranges={u: (-1, 0), v: (0., 1)}, \n",
    "                  style={u: '-', v: '--'}, color='orange') + \\\n",
    "X_Pdisk_cart.plot(ranges={u: (0, 1), v: (-1, 0)}, \n",
    "                    style={u: '-', v: '--'}, color='pink') + \\\n",
    "X_Pdisk_cart.plot(ranges={u: (0, 1), v: (0, 1)}, \n",
    "                  style={u: '-', v: '--'}, color='violet')"
   ]
  },
  {
   "cell_type": "code",
   "execution_count": null,
   "metadata": {},
   "outputs": [],
   "source": [
    "show(X_Pdisk_cart.plot(X_hplane, ranges={u: (-1, 0), v: (-1, 0)}, \n",
    "                       style={u: '-', v: '--'}) + \\\n",
    "     X_Pdisk_cart.plot(X_hplane, ranges={u: (-1, 0), v: (0, 1)}, \n",
    "                       style={u: '-', v: '--'}, color='orange') + \\\n",
    "     X_Pdisk_cart.plot(X_hplane, ranges={u: (0, 1), v: (-1, 0)}, \n",
    "                       style={u: '-', v: '--'}, color='pink') + \\\n",
    "     X_Pdisk_cart.plot(X_hplane, ranges={u: (0, 1), v: (0, 1)}, \n",
    "                       style={u: '-', v: '--'}, color='violet'),\n",
    "     xmin=-5, xmax=5, ymin=0, ymax=5, aspect_ratio=1)"
   ]
  },
  {
   "cell_type": "markdown",
   "metadata": {},
   "source": [
    "The expression of the metric tensor in the half-plane coordinates $(x,y)$ is"
   ]
  },
  {
   "cell_type": "code",
   "execution_count": null,
   "metadata": {},
   "outputs": [],
   "source": [
    "g.display(X_hplane.frame(), X_hplane)"
   ]
  },
  {
   "cell_type": "markdown",
   "metadata": {
    "collapsed": true
   },
   "source": [
    "## Summary\n",
    "\n",
    "9 charts have been defined on $\\mathbb{H}^2$:"
   ]
  },
  {
   "cell_type": "code",
   "execution_count": null,
   "metadata": {},
   "outputs": [],
   "source": [
    "H2.atlas()"
   ]
  },
  {
   "cell_type": "markdown",
   "metadata": {},
   "source": [
    "There are actually 6 main (top) charts, the other ones being subcharts:"
   ]
  },
  {
   "cell_type": "code",
   "execution_count": null,
   "metadata": {},
   "outputs": [],
   "source": [
    "H2.top_charts()"
   ]
  },
  {
   "cell_type": "markdown",
   "metadata": {},
   "source": [
    "The expression of the metric tensor in each of these charts is"
   ]
  },
  {
   "cell_type": "code",
   "execution_count": null,
   "metadata": {},
   "outputs": [],
   "source": [
    "for chart in H2.top_charts():\n",
    "    show(g.display(chart.frame(), chart))"
   ]
  },
  {
   "cell_type": "markdown",
   "metadata": {},
   "source": [
    "For each of these charts, the non-vanishing (and non-redundant w.r.t. the symmetry on the last 2 indices) **Christoffel symbols of $g$** are"
   ]
  },
  {
   "cell_type": "code",
   "execution_count": null,
   "metadata": {},
   "outputs": [],
   "source": [
    "for chart in H2.top_charts():\n",
    "    show(chart)\n",
    "    show(g.christoffel_symbols_display(chart=chart))"
   ]
  }
 ],
 "metadata": {
  "kernelspec": {
   "display_name": "SageMath 9.4.rc2",
   "language": "sage",
   "name": "sagemath"
  },
  "language_info": {
   "codemirror_mode": {
    "name": "ipython",
    "version": 3
   },
   "file_extension": ".py",
   "mimetype": "text/x-python",
   "name": "python",
   "nbconvert_exporter": "python",
   "pygments_lexer": "ipython3",
   "version": "3.8.10"
  }
 },
 "nbformat": 4,
 "nbformat_minor": 1
}
