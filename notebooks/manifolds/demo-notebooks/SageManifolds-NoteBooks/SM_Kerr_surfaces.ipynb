{
 "cells": [
  {
   "cell_type": "markdown",
   "metadata": {
    "tags": []
   },
   "source": [
    "# Visualizing the horizons and ergosurfaces of Kerr spacetime"
   ]
  },
  {
   "cell_type": "markdown",
   "metadata": {},
   "source": [
    "This Jupyter notebook illustrates some applications of SageMath functionalities in general relativity, specifically in deriving and displaying the horizons and ergosurfaces of the Kerr spacetime. Most of the involved tools are part of the [SageManifolds project](https://sagemanifolds.obspm.fr/).\n",
    "\n",
    "**Rogerio T. Cavalcanti**"
   ]
  },
  {
   "cell_type": "markdown",
   "metadata": {},
   "source": [
    "It requires the SageMath version at least equal to 9.2."
   ]
  },
  {
   "cell_type": "code",
   "execution_count": null,
   "metadata": {},
   "outputs": [],
   "source": [
    "version()"
   ]
  },
  {
   "cell_type": "code",
   "execution_count": null,
   "metadata": {},
   "outputs": [],
   "source": [
    "%display latex"
   ]
  },
  {
   "cell_type": "code",
   "execution_count": null,
   "metadata": {},
   "outputs": [],
   "source": [
    "Parallelism().set(nproc=8)"
   ]
  },
  {
   "cell_type": "markdown",
   "metadata": {
    "tags": []
   },
   "source": [
    "## Kerr spacetime in Boyer–Lindquist coordinates"
   ]
  },
  {
   "cell_type": "code",
   "execution_count": null,
   "metadata": {},
   "outputs": [],
   "source": [
    "a = var('a', domain='positive')\n",
    "M.<t, r, th, ph> = manifolds.Kerr(m=1, a=a, coordinates='BL')\n",
    "BL = M.default_chart()"
   ]
  },
  {
   "cell_type": "code",
   "execution_count": null,
   "metadata": {},
   "outputs": [],
   "source": [
    "g = M.metric()\n",
    "g.display_comp()"
   ]
  },
  {
   "cell_type": "markdown",
   "metadata": {},
   "source": [
    "### Metric singularities and ergosurfaces"
   ]
  },
  {
   "cell_type": "markdown",
   "metadata": {},
   "source": [
    "- The $g_{tt},g_{t\\phi}$ and $g_{\\phi\\phi}$ components are singular at the singular ring $a^2\\cos^2\\theta +r^2=0$, that is $r=0$ and $\\theta =\\frac{\\pi}{2}$. It corresponds to a physical singularity, as checked below."
   ]
  },
  {
   "cell_type": "code",
   "execution_count": null,
   "metadata": {},
   "outputs": [],
   "source": [
    "singular_ring = {r:0, th:pi/2}"
   ]
  },
  {
   "cell_type": "markdown",
   "metadata": {},
   "source": [
    "- Singular surfaces on $\\displaystyle ({g_{rr}})^{-1} = 0$ (Horizons)"
   ]
  },
  {
   "cell_type": "code",
   "execution_count": null,
   "metadata": {},
   "outputs": [],
   "source": [
    "horizons = solve(1/g[1,1].expr()==0,r,solution_dict=True)\n",
    "horizons"
   ]
  },
  {
   "cell_type": "code",
   "execution_count": null,
   "metadata": {},
   "outputs": [],
   "source": [
    "inner_horizon, outer_horizon = horizons"
   ]
  },
  {
   "cell_type": "markdown",
   "metadata": {},
   "source": [
    "- The Ergosurfaces are the regions of vanishing $K_\\mu K^\\mu$, where $K = \\frac{\\partial}{\\partial t }$ is a Killing vector field."
   ]
  },
  {
   "cell_type": "code",
   "execution_count": null,
   "metadata": {},
   "outputs": [],
   "source": [
    "K = M.vector_field(1,0,0,0, name='K')\n",
    "K.display()"
   ]
  },
  {
   "cell_type": "markdown",
   "metadata": {},
   "source": [
    "Checking if $K$ is a Killing vector field $(\\mathcal{L}_{_K}g = 0)$"
   ]
  },
  {
   "cell_type": "code",
   "execution_count": null,
   "metadata": {},
   "outputs": [],
   "source": [
    "g.lie_derivative(K) == 0"
   ]
  },
  {
   "cell_type": "code",
   "execution_count": null,
   "metadata": {},
   "outputs": [],
   "source": [
    "g(K,K).display()"
   ]
  },
  {
   "cell_type": "code",
   "execution_count": null,
   "metadata": {},
   "outputs": [],
   "source": [
    "ergosurfaces = solve(g(K,K).expr(),r,solution_dict=True)\n",
    "ergosurfaces"
   ]
  },
  {
   "cell_type": "code",
   "execution_count": null,
   "metadata": {},
   "outputs": [],
   "source": [
    "inner_ergo, outer_ergo = ergosurfaces"
   ]
  },
  {
   "cell_type": "markdown",
   "metadata": {},
   "source": [
    "List of surfaces"
   ]
  },
  {
   "cell_type": "code",
   "execution_count": null,
   "metadata": {},
   "outputs": [],
   "source": [
    "surfaces_param = [outer_ergo,outer_horizon,inner_horizon,inner_ergo,singular_ring]"
   ]
  },
  {
   "cell_type": "markdown",
   "metadata": {
    "tags": []
   },
   "source": [
    "## Rational polynomial coordinates"
   ]
  },
  {
   "cell_type": "markdown",
   "metadata": {},
   "source": [
    "In rational polinomial coordinates all components of the Kerr metric are rational polynomials, which in principle make it easyer to handle. We are going to use such coordinates for checking the Kretschmann scalar over the horizon and ergosurfaces of the spacetime."
   ]
  },
  {
   "cell_type": "code",
   "execution_count": null,
   "metadata": {},
   "outputs": [],
   "source": [
    "RP.<t, r, ch, ph> = M.chart(r't:(-oo,+oo) r:(0,+oo) ch:(-1,1):\\chi ph:(-pi,pi):periodic:\\phi')"
   ]
  },
  {
   "cell_type": "markdown",
   "metadata": {},
   "source": [
    "Transition map from Boyer–Lindquist coordinates to rational polynomial coordinates and its inverse."
   ]
  },
  {
   "cell_type": "code",
   "execution_count": null,
   "metadata": {},
   "outputs": [],
   "source": [
    "BL_to_RP = BL.transition_map(RP, [t, r, cos(th), ph])\n",
    "BL_to_RP.display()"
   ]
  },
  {
   "cell_type": "code",
   "execution_count": null,
   "metadata": {},
   "outputs": [],
   "source": [
    "BL_to_RP.set_inverse(t, r, acos(ch), ph)\n",
    "BL_to_RP.inverse().display()"
   ]
  },
  {
   "cell_type": "code",
   "execution_count": null,
   "metadata": {},
   "outputs": [],
   "source": [
    "g.display_comp(RP.frame(),RP)"
   ]
  },
  {
   "cell_type": "markdown",
   "metadata": {},
   "source": [
    "Setting the default chart and frame"
   ]
  },
  {
   "cell_type": "code",
   "execution_count": null,
   "metadata": {},
   "outputs": [],
   "source": [
    "M.set_default_chart(RP)"
   ]
  },
  {
   "cell_type": "code",
   "execution_count": null,
   "metadata": {},
   "outputs": [],
   "source": [
    "M.set_default_frame(RP.frame())"
   ]
  },
  {
   "cell_type": "markdown",
   "metadata": {},
   "source": [
    "Riemann tensor, Ricci tensor and Kretschmann scalar"
   ]
  },
  {
   "cell_type": "code",
   "execution_count": null,
   "metadata": {},
   "outputs": [],
   "source": [
    "%time Riem = g.riemann()"
   ]
  },
  {
   "cell_type": "code",
   "execution_count": null,
   "metadata": {},
   "outputs": [],
   "source": [
    "%time Ric = g.ricci()"
   ]
  },
  {
   "cell_type": "code",
   "execution_count": null,
   "metadata": {},
   "outputs": [],
   "source": [
    "Ric == 0"
   ]
  },
  {
   "cell_type": "code",
   "execution_count": null,
   "metadata": {},
   "outputs": [],
   "source": [
    "%time R_up = Riem.up(g)"
   ]
  },
  {
   "cell_type": "code",
   "execution_count": null,
   "metadata": {},
   "outputs": [],
   "source": [
    "%time R_down = Riem.down(g)"
   ]
  },
  {
   "cell_type": "code",
   "execution_count": null,
   "metadata": {},
   "outputs": [],
   "source": [
    "%time Kretschmann_scalar = R_up['^{abcd}']*R_down['_{abcd}']"
   ]
  },
  {
   "cell_type": "code",
   "execution_count": null,
   "metadata": {},
   "outputs": [],
   "source": [
    "Kretschmann_scalar.display()"
   ]
  },
  {
   "cell_type": "markdown",
   "metadata": {},
   "source": [
    "Getting and factoring the symbolic expression in the default chart"
   ]
  },
  {
   "cell_type": "code",
   "execution_count": null,
   "metadata": {},
   "outputs": [],
   "source": [
    "K_scalar = Kretschmann_scalar.expr().factor()\n",
    "K_scalar"
   ]
  },
  {
   "cell_type": "markdown",
   "metadata": {},
   "source": [
    "### Kretschmann scalar along the singular ring, horizons and ergosurfaces"
   ]
  },
  {
   "cell_type": "markdown",
   "metadata": {},
   "source": [
    "Singular Ring $(r=0,\\chi=0)$"
   ]
  },
  {
   "cell_type": "code",
   "execution_count": null,
   "metadata": {},
   "outputs": [],
   "source": [
    "K_scalar.subs(r=0)"
   ]
  },
  {
   "cell_type": "code",
   "execution_count": null,
   "metadata": {},
   "outputs": [],
   "source": [
    "K_scalar.subs(ch=0)"
   ]
  },
  {
   "cell_type": "markdown",
   "metadata": {},
   "source": [
    "Outer ergosurface, outer horizon and inner horizon at $\\chi = 0$"
   ]
  },
  {
   "cell_type": "code",
   "execution_count": null,
   "metadata": {},
   "outputs": [],
   "source": [
    "for k in ['outer_ergo','outer_horizon','inner_horizon']:\n",
    "    print(k)\n",
    "    display(K_scalar.subs(eval(k)).subs({cos(th):ch}).subs(ch=0))"
   ]
  },
  {
   "cell_type": "markdown",
   "metadata": {},
   "source": [
    "Inner ergosurface for $\\chi \\neq 0$ (the inner ergosurface coincides with the singular ring at $\\chi = 0$)"
   ]
  },
  {
   "cell_type": "code",
   "execution_count": null,
   "metadata": {},
   "outputs": [],
   "source": [
    "K_inner_ergo = K_scalar.subs(inner_ergo).subs({cos(th):ch}).canonicalize_radical()\n",
    "K_inner_ergo"
   ]
  },
  {
   "cell_type": "markdown",
   "metadata": {},
   "source": [
    "Series expansion up to $O(\\chi^5)$"
   ]
  },
  {
   "cell_type": "code",
   "execution_count": null,
   "metadata": {},
   "outputs": [],
   "source": [
    "K_inner_ergo.series(ch,5)"
   ]
  },
  {
   "cell_type": "markdown",
   "metadata": {},
   "source": [
    "Setting the default chart and frame back to Boyer–Lindquist"
   ]
  },
  {
   "cell_type": "code",
   "execution_count": null,
   "metadata": {},
   "outputs": [],
   "source": [
    "M.set_default_chart(BL)\n",
    "M.set_default_frame(BL.frame())"
   ]
  },
  {
   "cell_type": "markdown",
   "metadata": {
    "tags": []
   },
   "source": [
    "## Kerr coordinates"
   ]
  },
  {
   "cell_type": "markdown",
   "metadata": {},
   "source": [
    "The Kerr original coordinates will be used as an intermediate step for introducing the Kerr-Schild coordinates."
   ]
  },
  {
   "cell_type": "code",
   "execution_count": null,
   "metadata": {},
   "outputs": [],
   "source": [
    "Kr.<u, r, th, vph> = M.chart(r'u:(-oo,+oo) r:(0,+oo) th:(0,pi):\\theta vph:(-pi,pi):periodic:\\varphi')"
   ]
  },
  {
   "cell_type": "code",
   "execution_count": null,
   "metadata": {},
   "outputs": [],
   "source": [
    "f(r) = r/(a^2+r^2-2*r)\n",
    "assume(a<1)\n",
    "F(r) = integral(f(r),r)"
   ]
  },
  {
   "cell_type": "code",
   "execution_count": null,
   "metadata": {},
   "outputs": [],
   "source": [
    "Kr_to_BL = Kr.transition_map(BL, [u-2*F(r), r, th, vph-a*F(r)])\n",
    "Kr_to_BL.display()"
   ]
  },
  {
   "cell_type": "code",
   "execution_count": null,
   "metadata": {},
   "outputs": [],
   "source": [
    "Kr_to_BL.inverse().display()"
   ]
  },
  {
   "cell_type": "markdown",
   "metadata": {},
   "source": [
    "Showing the change of frame from BL to Kerr"
   ]
  },
  {
   "cell_type": "code",
   "execution_count": null,
   "metadata": {},
   "outputs": [],
   "source": [
    "M.change_of_frame(BL.frame(),Kr.frame())[:]"
   ]
  },
  {
   "cell_type": "markdown",
   "metadata": {
    "tags": []
   },
   "source": [
    "## Surfaces in Kerr-Schild coordinates"
   ]
  },
  {
   "cell_type": "code",
   "execution_count": null,
   "metadata": {},
   "outputs": [],
   "source": [
    "KS.<u,x,y,z> = M.chart()"
   ]
  },
  {
   "cell_type": "markdown",
   "metadata": {},
   "source": [
    "Change of coordinates from Kerr to Kerr-Schild"
   ]
  },
  {
   "cell_type": "code",
   "execution_count": null,
   "metadata": {},
   "outputs": [],
   "source": [
    "Kr_to_KS = Kr.transition_map(KS, [u, (r*cos(vph) - a*sin(vph))*sin(th),\n",
    "                                (r*sin(vph) + a*cos(vph))*sin(th),\n",
    "                                r*cos(th)])\n",
    "Kr_to_KS.display()"
   ]
  },
  {
   "cell_type": "markdown",
   "metadata": {},
   "source": [
    "Parametrization of the surfaces in Kerr-Schild coordinates"
   ]
  },
  {
   "cell_type": "code",
   "execution_count": null,
   "metadata": {},
   "outputs": [],
   "source": [
    "surfaces_KS = [vector([s.subs(param) for s in Kr_to_KS(u, r, th, ph)[1:]]) for param in surfaces_param]"
   ]
  },
  {
   "cell_type": "markdown",
   "metadata": {},
   "source": [
    "## Plotting"
   ]
  },
  {
   "cell_type": "code",
   "execution_count": null,
   "metadata": {},
   "outputs": [],
   "source": [
    "# plotting data\n",
    "surfs_data = {\n",
    "'outer_ergo': {'name': 'Outer ergosurface',\n",
    "               'color': 'gray',\n",
    "               'z_label': 1,\n",
    "               'param_index': 0,\n",
    "               'phi1': 7*pi/5,\n",
    "               'plot_points_factor': 1},\n",
    "'outer_orizon': {'name': 'Outer horizon', \n",
    "                 'color': colormaps.Set1(1)[:3], \n",
    "                 'z_label': .5,\n",
    "                 'param_index': 1, \n",
    "                 'phi1': 7*pi/5, \n",
    "                 'plot_points_factor': 1},\n",
    "'inner_horizon': {'name': 'Inner horizon', \n",
    "                  'color': colormaps.Set1(4)[:3], \n",
    "                  'z_label': 0,\n",
    "                  'param_index': 2, \n",
    "                  'phi1': 6*pi/5, \n",
    "                  'plot_points_factor': .7},\n",
    "'inner_ergo': {'name': 'Inner ergosurface',\n",
    "               'color': colormaps.Set1(3)[:3],\n",
    "               'z_label': -0.5,\n",
    "               'param_index': 3,\n",
    "               'phi1': 2*pi,\n",
    "               'plot_points_factor': .7}}"
   ]
  },
  {
   "cell_type": "markdown",
   "metadata": {},
   "source": [
    "Python function for plotting the surfaces"
   ]
  },
  {
   "cell_type": "code",
   "execution_count": null,
   "metadata": {},
   "outputs": [],
   "source": [
    "def kerr_surfaces(surf, a=.99, print_labels=True, plot_points=30, mesh=True, **kwargs):\n",
    "    if a >1 or a < 0:\n",
    "        print(\"choose 'a' between 0 and 1\")\n",
    "        return None\n",
    "#     Labels\n",
    "    if print_labels:\n",
    "        Ker_BH = text3d('Kerr black hole', (-2,-5,2.5), fontsize='200%', fontfamily='serif', fontweight='bold')\n",
    "        sep_line = text3d(r'___', (-2,-5,1.7), fontsize='160%', fontfamily='serif', fontweight='bold')\n",
    "        a_label = text3d('a = ' + str(a.n(digits=5)), (-2,-5,2), fontsize='170%')\n",
    "        s_ring_label = text3d('Singular ring', (-2,-5,-1), color='red', fontsize='170%', fontfamily='serif')\n",
    "        labels = sum([text3d(S['name'],\n",
    "                             (-2,-5,S['z_label']),\n",
    "                             color=S['color'],\n",
    "                             fontsize='170%', \n",
    "                             fontfamily='serif') for S in surfs_data.values()])\n",
    "        labels += Ker_BH + a_label + s_ring_label + sep_line\n",
    "    else: labels = Graphics()\n",
    "#     Surfaces\n",
    "    s_ring = parametric_plot3d(surf[4].subs(a=a),(ph,0,2*pi), color='red', thickness=4)\n",
    "    plots = sum([parametric_plot3d(surf[S['param_index']].subs(a=a),\n",
    "                                   (th,0,pi),\n",
    "                                   (ph,0,S['phi1']), \n",
    "                                   color=S['color'], \n",
    "                                   mesh=mesh,\n",
    "                                   plot_points=S['plot_points_factor']*plot_points, \n",
    "                                   frame=False, \n",
    "                                   **kwargs) for S in surfs_data.values()])\n",
    "    plots += s_ring\n",
    "    return plots+labels"
   ]
  },
  {
   "cell_type": "markdown",
   "metadata": {},
   "source": [
    "***"
   ]
  },
  {
   "cell_type": "code",
   "execution_count": null,
   "metadata": {},
   "outputs": [],
   "source": [
    "kerr_surfaces(surfaces_KS, 0.999, viewpoint=[[-0.6557,-0.5284,-0.5394],112.41])"
   ]
  },
  {
   "cell_type": "markdown",
   "metadata": {},
   "source": [
    "Dark theme"
   ]
  },
  {
   "cell_type": "code",
   "execution_count": null,
   "metadata": {},
   "outputs": [],
   "source": [
    "kerr_surfaces(surfaces_KS, .9, viewpoint=[[-0.6557,-0.5284,-0.5394],112.41], theme='dark')"
   ]
  },
  {
   "cell_type": "markdown",
   "metadata": {
    "tags": []
   },
   "source": [
    "## Immersion in Euclidean space"
   ]
  },
  {
   "cell_type": "markdown",
   "metadata": {},
   "source": [
    "We can also see the surfaces immersed in the Euclidian space $\\mathbb{E}^3$."
   ]
  },
  {
   "cell_type": "code",
   "execution_count": null,
   "metadata": {},
   "outputs": [],
   "source": [
    "E.<x,y,z> = EuclideanSpace(3)\n",
    "spherical.<r, th, ph> = E.spherical_coordinates()"
   ]
  },
  {
   "cell_type": "markdown",
   "metadata": {},
   "source": [
    "Differential map from Kerr coordinates to the Euclidean space"
   ]
  },
  {
   "cell_type": "code",
   "execution_count": null,
   "metadata": {},
   "outputs": [],
   "source": [
    "Kr_to_E = M.diff_map(E, {(Kr, spherical): [r,th,ph]}, \n",
    "                     name='Kr_to_E', \n",
    "                     latex_name=r'\\Phi_{_{\\text{Kerr} \\to \\mathbb{E}^3}}')"
   ]
  },
  {
   "cell_type": "code",
   "execution_count": null,
   "metadata": {},
   "outputs": [],
   "source": [
    "Kr_to_E.display()"
   ]
  },
  {
   "cell_type": "markdown",
   "metadata": {},
   "source": [
    "Coordinates in Euclidean space"
   ]
  },
  {
   "cell_type": "code",
   "execution_count": null,
   "metadata": {},
   "outputs": [],
   "source": [
    "coordinates = Kr_to_E(M.point((u,r,th,vph), chart=Kr)).coordinates()"
   ]
  },
  {
   "cell_type": "markdown",
   "metadata": {},
   "source": [
    "Surfaces in Euclidean space"
   ]
  },
  {
   "cell_type": "code",
   "execution_count": null,
   "metadata": {},
   "outputs": [],
   "source": [
    "surfaces_E = [vector([s.subs(param) for s in coordinates]) for param in surfaces_param]"
   ]
  },
  {
   "cell_type": "code",
   "execution_count": null,
   "metadata": {},
   "outputs": [],
   "source": [
    "kerr_surfaces(surfaces_E, .96, viewpoint=[[-0.8499,-0.3478,-0.396],91.88])"
   ]
  },
  {
   "cell_type": "markdown",
   "metadata": {
    "tags": []
   },
   "source": [
    "## Animating the surfaces"
   ]
  },
  {
   "cell_type": "markdown",
   "metadata": {},
   "source": [
    "We now create an animation by varying the parameter $a$."
   ]
  },
  {
   "cell_type": "code",
   "execution_count": null,
   "metadata": {},
   "outputs": [],
   "source": [
    "theme = 'light' #'light' or 'dark'\n",
    "frames1 = [kerr_surfaces(surfaces_KS,k, theme=theme, \n",
    "                         viewpoint=[[-0.6557,-0.5284,-0.5394],112.41]) for k in srange(0,.5,.1)]\n",
    "frames2 = [kerr_surfaces(surfaces_KS,k, theme=theme, \n",
    "                         viewpoint=[[-0.6557,-0.5284,-0.5394],112.41]) for k in srange(.5,.95,.075)]\n",
    "frames3 = [kerr_surfaces(surfaces_KS,k, theme=theme, \n",
    "                         viewpoint=[[-0.6557,-0.5284,-0.5394],112.41]) for k in srange(.95,.9999,.005)]\n",
    "frames4 = [kerr_surfaces(surfaces_KS,k, theme=theme, \n",
    "                         viewpoint=[[-0.6557,-0.5284,-0.5394],112.41]) for k in srange(.9999,1,.000045)]\n",
    "frames = frames1+frames2+frames3+frames4"
   ]
  },
  {
   "cell_type": "code",
   "execution_count": null,
   "metadata": {},
   "outputs": [],
   "source": [
    "animate(frames).interactive()"
   ]
  }
 ],
 "metadata": {
  "kernelspec": {
   "display_name": "SageMath 9.4",
   "language": "sage",
   "name": "sagemath"
  },
  "language_info": {
   "codemirror_mode": {
    "name": "ipython",
    "version": 3
   },
   "file_extension": ".py",
   "mimetype": "text/x-python",
   "name": "python",
   "nbconvert_exporter": "python",
   "pygments_lexer": "ipython3",
   "version": "3.9.5"
  }
 },
 "nbformat": 4,
 "nbformat_minor": 4
}
