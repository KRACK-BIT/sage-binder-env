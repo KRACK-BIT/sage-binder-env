{
 "cells": [
  {
   "cell_type": "markdown",
   "metadata": {},
   "source": [
    "# Defining a degenerate metric manifold $M$"
   ]
  },
  {
   "cell_type": "markdown",
   "metadata": {},
   "source": [
    "This Jupyter notebook illustrates SageMath functionalities regarding smooth manifolds equipped with a degenerate metric. The involved tools have been developed through the [SageManifolds](https://sagemanifolds.obspm.fr) project. \n",
    "\n",
    "*Author:* **Hans Fotsing Tetsing**"
   ]
  },
  {
   "cell_type": "markdown",
   "metadata": {},
   "source": [
    "A version of SageMath at least equal to 9.1 is required to run this notebook"
   ]
  },
  {
   "cell_type": "code",
   "execution_count": null,
   "metadata": {},
   "outputs": [],
   "source": [
    "version()"
   ]
  },
  {
   "cell_type": "code",
   "execution_count": null,
   "metadata": {},
   "outputs": [],
   "source": [
    "%display latex"
   ]
  },
  {
   "cell_type": "code",
   "execution_count": null,
   "metadata": {},
   "outputs": [],
   "source": [
    "M = Manifold(3, 'M', structure='degenerate_metric')\n",
    "print(M)"
   ]
  },
  {
   "cell_type": "markdown",
   "metadata": {},
   "source": [
    "We call $g$ the metric on $M$"
   ]
  },
  {
   "cell_type": "code",
   "execution_count": null,
   "metadata": {},
   "outputs": [],
   "source": [
    "g = M.metric() \n",
    "print(g)"
   ]
  },
  {
   "cell_type": "code",
   "execution_count": null,
   "metadata": {},
   "outputs": [],
   "source": [
    "g.parent()"
   ]
  },
  {
   "cell_type": "code",
   "execution_count": null,
   "metadata": {},
   "outputs": [],
   "source": [
    "det(g).display()"
   ]
  },
  {
   "cell_type": "markdown",
   "metadata": {},
   "source": [
    "The determinant of any degenerate matric is the zero scalar function. By default (when the components are not yet set) the signature is the triplet `(n_-,n_+,n_0)` where `n_-=0` is the number of negative entries, `n_+=dim(M)` the number of positive entries and `n_0=1` is the number number of zero in the digonal, all that in the writting of the metric in an orthogonal basis."
   ]
  },
  {
   "cell_type": "code",
   "execution_count": null,
   "metadata": {},
   "outputs": [],
   "source": [
    "g.signature()"
   ]
  },
  {
   "cell_type": "code",
   "execution_count": null,
   "metadata": {},
   "outputs": [],
   "source": [
    "U = M.open_subset('U')\n",
    "print(U)"
   ]
  },
  {
   "cell_type": "code",
   "execution_count": null,
   "metadata": {},
   "outputs": [],
   "source": [
    "X.<x,y,z> = U.chart(); X"
   ]
  },
  {
   "cell_type": "markdown",
   "metadata": {},
   "source": [
    "One can use a field of symmetric bilinear forms to set the components of a degenerate metric."
   ]
  },
  {
   "cell_type": "code",
   "execution_count": null,
   "metadata": {},
   "outputs": [],
   "source": [
    "dx, dy = X.coframe()[0], X.coframe()[1]"
   ]
  },
  {
   "cell_type": "code",
   "execution_count": null,
   "metadata": {},
   "outputs": [],
   "source": [
    "b = dx*dx + x^2*dy*dy\n",
    "b = b.symmetrize()\n",
    "print(b)"
   ]
  },
  {
   "cell_type": "code",
   "execution_count": null,
   "metadata": {},
   "outputs": [],
   "source": [
    "g.set(b)"
   ]
  },
  {
   "cell_type": "code",
   "execution_count": null,
   "metadata": {},
   "outputs": [],
   "source": [
    "g.display()"
   ]
  },
  {
   "cell_type": "code",
   "execution_count": null,
   "metadata": {},
   "outputs": [],
   "source": [
    "g[:]"
   ]
  },
  {
   "cell_type": "markdown",
   "metadata": {},
   "source": [
    "We define another metric and set its nonzero components."
   ]
  },
  {
   "cell_type": "code",
   "execution_count": null,
   "metadata": {},
   "outputs": [],
   "source": [
    "h = g._new_instance()\n",
    "h.set_name('h')\n",
    "print(h)"
   ]
  },
  {
   "cell_type": "code",
   "execution_count": null,
   "metadata": {},
   "outputs": [],
   "source": [
    "h[0,0], h[1,1] = 1, x^2"
   ]
  },
  {
   "cell_type": "code",
   "execution_count": null,
   "metadata": {},
   "outputs": [],
   "source": [
    "h.display()"
   ]
  },
  {
   "cell_type": "markdown",
   "metadata": {},
   "source": [
    "On the only local chart (U,X), `h` and `g` have the same components, so there are equal! However, g is the metric of the degenerate metric manifold `M` but not `h`."
   ]
  },
  {
   "cell_type": "code",
   "execution_count": null,
   "metadata": {},
   "outputs": [],
   "source": [
    "h == g"
   ]
  },
  {
   "cell_type": "code",
   "execution_count": null,
   "metadata": {},
   "outputs": [],
   "source": [
    "g is M.metric()"
   ]
  },
  {
   "cell_type": "code",
   "execution_count": null,
   "metadata": {},
   "outputs": [],
   "source": [
    "h is M.metric()"
   ]
  },
  {
   "cell_type": "markdown",
   "metadata": {},
   "source": [
    "# Degenerate hypersurface of a `6-`dimensional Lorentzian manifold"
   ]
  },
  {
   "cell_type": "code",
   "execution_count": null,
   "metadata": {},
   "outputs": [],
   "source": [
    "M = Manifold(6, 'M', structure='Lorentzian')\n",
    "print(M)"
   ]
  },
  {
   "cell_type": "code",
   "execution_count": null,
   "metadata": {},
   "outputs": [],
   "source": [
    "X.<x0,x1,x2,x3,x4,x5> = M.chart(); X"
   ]
  },
  {
   "cell_type": "code",
   "execution_count": null,
   "metadata": {},
   "outputs": [],
   "source": [
    "g = M.metric()\n",
    "print(g)"
   ]
  },
  {
   "cell_type": "code",
   "execution_count": null,
   "metadata": {},
   "outputs": [],
   "source": [
    "g[0,0], g[1,1], g[2,2], g[3,3], g[4,4], g[5,5] = -1, 1, exp(2*x0), exp(2*x0), exp(2*x1), exp(2*x1)"
   ]
  },
  {
   "cell_type": "code",
   "execution_count": null,
   "metadata": {},
   "outputs": [],
   "source": [
    "g[:]"
   ]
  },
  {
   "cell_type": "markdown",
   "metadata": {},
   "source": [
    "We define now on `M` the degenerate hypersurface `x0+x1=0`."
   ]
  },
  {
   "cell_type": "code",
   "execution_count": null,
   "metadata": {},
   "outputs": [],
   "source": [
    "H = Manifold(5, 'H', ambient=M, structure='degenerate_metric')\n",
    "print(H)"
   ]
  },
  {
   "cell_type": "code",
   "execution_count": null,
   "metadata": {},
   "outputs": [],
   "source": [
    "X_H.<xh1, xh2, xh3, xh4, xh5> = H.chart(); X_H"
   ]
  },
  {
   "cell_type": "code",
   "execution_count": null,
   "metadata": {},
   "outputs": [],
   "source": [
    "Phi = H.diff_map(M, {(X_H, X): [-xh1, xh1, xh2, xh3, xh4, xh5]}, \n",
    "                 name='Phi', latex_name=r'\\Phi')\n",
    "Phi.display()"
   ]
  },
  {
   "cell_type": "code",
   "execution_count": null,
   "metadata": {},
   "outputs": [],
   "source": [
    "Phi_inv = M.diff_map(H, {(X, X_H): [x1, x2, x3, x4, x5]}, \n",
    "                     name='Phi_inv', latex_name=r'\\Phi^{-1}')\n",
    "Phi_inv.display()"
   ]
  },
  {
   "cell_type": "code",
   "execution_count": null,
   "metadata": {},
   "outputs": [],
   "source": [
    "H.set_immersion(Phi, inverse=Phi_inv)\n",
    "H.declare_embedding()"
   ]
  },
  {
   "cell_type": "markdown",
   "metadata": {},
   "source": [
    "The vector field $v=-\\partial x0-\\partial x1$ is everywhere neither orthogonal nor tangent to $H$. Hence, $v$ is a rigging for the null hypersurface $H$."
   ]
  },
  {
   "cell_type": "code",
   "execution_count": null,
   "metadata": {},
   "outputs": [],
   "source": [
    "v = M.vector_field()\n",
    "v[:2] = [-1, -1]\n",
    "v.display()"
   ]
  },
  {
   "cell_type": "code",
   "execution_count": null,
   "metadata": {},
   "outputs": [],
   "source": [
    "H.set_transverse(rigging=[v])"
   ]
  },
  {
   "cell_type": "markdown",
   "metadata": {},
   "source": [
    "The vector $\\xi=\\partial x0-\\partial x1$ is tangent and orthogonal to $H$ and then spans the normal distribution $TH^\\perp$. A complementary of $TH^\\perp$ in $TH$, thus a screen distribution, is spanned by the vectors $e1=\\exp(-2x0)\\partial x2$, $e2=\\exp(-2x0)\\partial x3$, $e3=\\exp(-2x1)\\partial x4$, and $e4=\\exp(-2x1)\\partial x5$. Notice that the screen distribution associated with $v$ has to be othogonal to the chosen rigging $v$."
   ]
  },
  {
   "cell_type": "code",
   "execution_count": null,
   "metadata": {},
   "outputs": [],
   "source": [
    "xi = M.vector_field()\n",
    "e1 = M.vector_field()\n",
    "e2 = M.vector_field()\n",
    "e3 = M.vector_field()\n",
    "e4 = M.vector_field()"
   ]
  },
  {
   "cell_type": "code",
   "execution_count": null,
   "metadata": {},
   "outputs": [],
   "source": [
    "xi[:2] = [1, -1]\n",
    "e1[2] = exp(-2*x0)\n",
    "e2[3] = exp(-2*x0)\n",
    "e3[4] = exp(-2*x1)\n",
    "e4[5] = exp(-2*x1)"
   ]
  },
  {
   "cell_type": "code",
   "execution_count": null,
   "metadata": {},
   "outputs": [],
   "source": [
    "S = H.screen('S', [e1, e2, e3, e4], [xi])\n",
    "print(S)"
   ]
  },
  {
   "cell_type": "code",
   "execution_count": null,
   "metadata": {},
   "outputs": [],
   "source": [
    "H.default_screen()"
   ]
  },
  {
   "cell_type": "markdown",
   "metadata": {},
   "source": [
    "The null rigging is derived from the given rigging $v$ with the formula$$N=\\frac{1}{g(\\xi, v)}\\left(v-\\frac{g(v,v)}{2g(\\xi, v)}\\xi\\right)$$\n",
    "Projections onto $H$ will be done parallely to the null rigging $N$."
   ]
  },
  {
   "cell_type": "code",
   "execution_count": null,
   "metadata": {},
   "outputs": [],
   "source": [
    "S.rigging().display()"
   ]
  },
  {
   "cell_type": "code",
   "execution_count": null,
   "metadata": {},
   "outputs": [],
   "source": [
    "S.normal_tangent_vector().display()"
   ]
  },
  {
   "cell_type": "markdown",
   "metadata": {},
   "source": [
    "The null rigging $N$ and the normal tangent vector $\\xi$ are normalized by$$g(N,\\xi)=1.$$\n",
    "This normalization is the one used by some mathematicians but is not physically relevant since $N$ and $\\xi$ cannot be timelike at the same time. However, one can consider $\\ell=\\xi$ and $k=-N$."
   ]
  },
  {
   "cell_type": "code",
   "execution_count": null,
   "metadata": {},
   "outputs": [],
   "source": [
    "g.along(Phi)(S.rigging(),xi.along(Phi)).display()"
   ]
  },
  {
   "cell_type": "markdown",
   "metadata": {},
   "source": [
    "Now, $S$ is a screen distribution along $H$ and we have the decompositions\n",
    "\\begin{equation}TM|_H=TH\\oplus Span(N)\\end{equation}\n",
    "\\begin{equation}TH=S\\oplus_{orth}Span(\\xi)\\end{equation}\n",
    "Projection on $H$ is done with respect to the first decomposition and projection onto the screen distribution of a vector tangent to $H$ is done with respect to the second decomposition. So, any vector along $H$ (tangent or not to $H$), can be decomposed in the adapted frame $T=\\{vv_0,vv_1,vv_2,vv_3,vv_4,vv_5)$, where along $H$\n",
    "$$vv_0:=e1,~~vv_1=e2,~~vv_2=e3,~~vv_3=e4,~~vv_4=\\xi,~~vv_5=N.$$"
   ]
  },
  {
   "cell_type": "code",
   "execution_count": null,
   "metadata": {},
   "outputs": [],
   "source": [
    "T = H.adapted_frame()\n",
    "T"
   ]
  },
  {
   "cell_type": "code",
   "execution_count": null,
   "metadata": {},
   "outputs": [],
   "source": [
    "T[4].display()"
   ]
  },
  {
   "cell_type": "code",
   "execution_count": null,
   "metadata": {},
   "outputs": [],
   "source": [
    "T[0].disp()"
   ]
  },
  {
   "cell_type": "markdown",
   "metadata": {},
   "source": [
    "Projections on $H$ and on the screen distribution are now possible!"
   ]
  },
  {
   "cell_type": "code",
   "execution_count": null,
   "metadata": {},
   "outputs": [],
   "source": [
    "H.projection(v).display()"
   ]
  },
  {
   "cell_type": "code",
   "execution_count": null,
   "metadata": {},
   "outputs": [],
   "source": [
    "H.projection(v+xi).display(T)"
   ]
  },
  {
   "cell_type": "code",
   "execution_count": null,
   "metadata": {},
   "outputs": [],
   "source": [
    "H.screen_projection(v+xi).display()"
   ]
  },
  {
   "cell_type": "code",
   "execution_count": null,
   "metadata": {},
   "outputs": [],
   "source": [
    "H.screen_projection(e1+xi).display(T)"
   ]
  },
  {
   "cell_type": "markdown",
   "metadata": {},
   "source": [
    "Let $\\nabla$ be the Levi-Civita connection of $(M,g)$. The Weingarten map is the projection is $\\nabla_\\cdot\\xi:\\mathfrak X(H)\\to\\mathfrak X(H)$."
   ]
  },
  {
   "cell_type": "code",
   "execution_count": null,
   "metadata": {},
   "outputs": [],
   "source": [
    "W = H.weingarten_map()\n",
    "print(W)"
   ]
  },
  {
   "cell_type": "code",
   "execution_count": null,
   "metadata": {},
   "outputs": [],
   "source": [
    "W.display()"
   ]
  },
  {
   "cell_type": "code",
   "execution_count": null,
   "metadata": {},
   "outputs": [],
   "source": [
    "W.display(T)"
   ]
  },
  {
   "cell_type": "code",
   "execution_count": null,
   "metadata": {},
   "outputs": [],
   "source": [
    "W(xi.along(Phi)).display()"
   ]
  },
  {
   "cell_type": "code",
   "execution_count": null,
   "metadata": {},
   "outputs": [],
   "source": [
    "W(T[0]).display(T)"
   ]
  },
  {
   "cell_type": "markdown",
   "metadata": {},
   "source": [
    "We can write$$\\nabla_U\\xi=-A^\\ast(U)-\\tau(U)\\xi,~~~~\\forall U\\in\\mathfrak X(H).$$\n",
    "$A^\\ast$ is the shape operator and $\\tau$ the roration $1-$form."
   ]
  },
  {
   "cell_type": "code",
   "execution_count": null,
   "metadata": {},
   "outputs": [],
   "source": [
    "SO = H.shape_operator()\n",
    "print(SO)"
   ]
  },
  {
   "cell_type": "code",
   "execution_count": null,
   "metadata": {},
   "outputs": [],
   "source": [
    "SO.display(T)"
   ]
  },
  {
   "cell_type": "markdown",
   "metadata": {},
   "source": [
    "The principal curvatures are the eigenfunctions of the shape operator."
   ]
  },
  {
   "cell_type": "code",
   "execution_count": null,
   "metadata": {},
   "outputs": [],
   "source": [
    "m = H.mean_curvature()\n",
    "m.display()"
   ]
  },
  {
   "cell_type": "markdown",
   "metadata": {},
   "source": [
    "So, the mean curvature of $H$ vanishes identically. Some people then say that $H$ is a maximal null hypersurface. But, $H$ is not totally geodesic since the shape operator is not zero. Hence, the ambient manifold $(M,g)$ cannot have constant sectional curvature.\n",
    "\n",
    "In fact, the principal curvatures are $-1,-1,0,1,1$ and we can write the following short code to get them."
   ]
  },
  {
   "cell_type": "code",
   "execution_count": null,
   "metadata": {},
   "outputs": [],
   "source": [
    "curvatures = matrix([[SO[:][i, j].expr() for i in H.irange()]\n",
    "                     for j in H.irange()]).eigenvalues()\n",
    "counter = H.irange()\n",
    "for i in range(5):\n",
    "    curvatures[i] = H.scalar_field(curvatures[i], name=\"k_{}\".format(next(counter)))"
   ]
  },
  {
   "cell_type": "code",
   "execution_count": null,
   "metadata": {},
   "outputs": [],
   "source": [
    "curvatures[0].display()"
   ]
  },
  {
   "cell_type": "markdown",
   "metadata": {},
   "source": [
    "The principal directions are $vv_0,vv_1,vv_2,vv_3=\\xi$."
   ]
  },
  {
   "cell_type": "code",
   "execution_count": null,
   "metadata": {},
   "outputs": [],
   "source": [
    "PD = H.principal_directions(S)\n",
    "PD[0][0].disp(T), PD[1][0].disp(T), PD[2][0].disp(T), PD[3][0].disp(T)"
   ]
  },
  {
   "cell_type": "markdown",
   "metadata": {},
   "source": [
    "# Defining a second screen distribution"
   ]
  },
  {
   "cell_type": "markdown",
   "metadata": {},
   "source": [
    "Since the screen distribution has to be orthogonal to the rigging, the screen distribution is unique ones the rigging has been set. One can just change the basis but the result is the same subbundle."
   ]
  },
  {
   "cell_type": "code",
   "execution_count": null,
   "metadata": {},
   "outputs": [],
   "source": [
    "u1 = M.vector_field()\n",
    "u2 = M.vector_field()\n",
    "u3 = M.vector_field()\n",
    "u4 = M.vector_field()"
   ]
  },
  {
   "cell_type": "code",
   "execution_count": null,
   "metadata": {},
   "outputs": [],
   "source": [
    "u1[2] = 1; u2[3] = 1; u3[4] = 1; u4[5] = 1"
   ]
  },
  {
   "cell_type": "code",
   "execution_count": null,
   "metadata": {},
   "outputs": [],
   "source": [
    "S1 = H.screen('S1', [u1, u2, u3, u4], [xi])\n",
    "print(S1)"
   ]
  },
  {
   "cell_type": "markdown",
   "metadata": {},
   "source": [
    "The default screen distribution is always the last defined one."
   ]
  },
  {
   "cell_type": "code",
   "execution_count": null,
   "metadata": {},
   "outputs": [],
   "source": [
    "H.default_screen()"
   ]
  },
  {
   "cell_type": "code",
   "execution_count": null,
   "metadata": {},
   "outputs": [],
   "source": [
    "T1 = H.adapted_frame(screen=S1)\n",
    "T1"
   ]
  },
  {
   "cell_type": "code",
   "execution_count": null,
   "metadata": {},
   "outputs": [],
   "source": [
    "T1[4].display()"
   ]
  },
  {
   "cell_type": "code",
   "execution_count": null,
   "metadata": {},
   "outputs": [],
   "source": [
    "T1[0].display()"
   ]
  },
  {
   "cell_type": "code",
   "execution_count": null,
   "metadata": {},
   "outputs": [],
   "source": [
    "SO1 = H.shape_operator(S1)\n",
    "print(SO1)"
   ]
  },
  {
   "cell_type": "code",
   "execution_count": null,
   "metadata": {},
   "outputs": [],
   "source": [
    "SO1.display(T1)"
   ]
  },
  {
   "cell_type": "code",
   "execution_count": null,
   "metadata": {},
   "outputs": [],
   "source": [
    "SO == SO1"
   ]
  },
  {
   "cell_type": "markdown",
   "metadata": {},
   "source": [
    "Let's now define a new rigging and from that a different screen distribution."
   ]
  },
  {
   "cell_type": "code",
   "execution_count": null,
   "metadata": {},
   "outputs": [],
   "source": [
    "v2 = M.vector_field()\n",
    "v2[1:3] = [1,1]\n",
    "v2.display()"
   ]
  },
  {
   "cell_type": "code",
   "execution_count": null,
   "metadata": {},
   "outputs": [],
   "source": [
    "H.set_transverse(rigging=[v2])"
   ]
  },
  {
   "cell_type": "code",
   "execution_count": null,
   "metadata": {},
   "outputs": [],
   "source": [
    "e21 = M.vector_field()\n",
    "e22 = M.vector_field()\n",
    "e23 = M.vector_field()\n",
    "e24 = M.vector_field()"
   ]
  },
  {
   "cell_type": "code",
   "execution_count": null,
   "metadata": {},
   "outputs": [],
   "source": [
    "e21[0:3] = [1,-1,exp(-2*x0)]\n",
    "e22[3] = 1\n",
    "e23[4] = 1\n",
    "e24[5] = 1"
   ]
  },
  {
   "cell_type": "code",
   "execution_count": null,
   "metadata": {},
   "outputs": [],
   "source": [
    "S2 = H.screen('S2', [e21, e22, e23, e24], [xi])\n",
    "print(S2)"
   ]
  },
  {
   "cell_type": "code",
   "execution_count": null,
   "metadata": {},
   "outputs": [],
   "source": [
    "T2 = H.adapted_frame(screen=S2)\n",
    "T2"
   ]
  },
  {
   "cell_type": "code",
   "execution_count": null,
   "metadata": {},
   "outputs": [],
   "source": [
    "SO2 = H.shape_operator(S2)\n",
    "SO2.display(T2)"
   ]
  },
  {
   "cell_type": "code",
   "execution_count": null,
   "metadata": {},
   "outputs": [],
   "source": [
    "SO == SO2"
   ]
  },
  {
   "cell_type": "markdown",
   "metadata": {},
   "source": [
    "This is because the shape operator depends on the chosen rigging."
   ]
  },
  {
   "cell_type": "code",
   "execution_count": null,
   "metadata": {},
   "outputs": [],
   "source": [
    "H.list_of_screens()"
   ]
  },
  {
   "cell_type": "code",
   "execution_count": null,
   "metadata": {},
   "outputs": [],
   "source": [
    "W2 = H.weingarten_map(S2)\n",
    "W2.display(T2)"
   ]
  },
  {
   "cell_type": "code",
   "execution_count": null,
   "metadata": {},
   "outputs": [],
   "source": [
    "W2(xi.along(Phi)).display()"
   ]
  },
  {
   "cell_type": "markdown",
   "metadata": {},
   "source": [
    "The Weingarten map can only be applied to vectors tangent to $H$. However, we can consider its extension which can evaluate any vector along $H$ (tangent to $H$ or not)."
   ]
  },
  {
   "cell_type": "code",
   "execution_count": null,
   "metadata": {},
   "outputs": [],
   "source": [
    "W2.extension()(v2.along(Phi)).display(T2)"
   ]
  },
  {
   "cell_type": "code",
   "execution_count": null,
   "metadata": {},
   "outputs": [],
   "source": [
    "W.extension() == W2.extension()"
   ]
  }
 ],
 "metadata": {
  "kernelspec": {
   "display_name": "SageMath 9.1",
   "language": "sage",
   "name": "sagemath"
  },
  "language_info": {
   "codemirror_mode": {
    "name": "ipython",
    "version": 3
   },
   "file_extension": ".py",
   "mimetype": "text/x-python",
   "name": "python",
   "nbconvert_exporter": "python",
   "pygments_lexer": "ipython3",
   "version": "3.7.3"
  }
 },
 "nbformat": 4,
 "nbformat_minor": 2
}
