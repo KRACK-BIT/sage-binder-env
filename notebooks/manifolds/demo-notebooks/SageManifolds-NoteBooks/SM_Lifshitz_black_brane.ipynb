{
 "cells": [
  {
   "cell_type": "markdown",
   "metadata": {},
   "source": [
    "# Black branes in Lifshitz-like spacetimes"
   ]
  },
  {
   "cell_type": "markdown",
   "metadata": {},
   "source": [
    "This SageMath notebook implements some computations of the article\n",
    "- I. Ya. Aref'eva, A. A. Golubtsova & E. Gourgoulhon: *Analytic black branes in \n",
    "  Lifshitz-like backgrounds and thermalization*, [J. High Energ. Phys. 09(2016), 142](https://doi.org/10.1007/JHEP09(2016)142)\n",
    "\n",
    "These computations are making use of differential geometry tools developed through the [SageManifolds](http://sagemanifolds.obspm.fr) project."
   ]
  },
  {
   "cell_type": "markdown",
   "metadata": {},
   "source": [
    "*NB:* a version of SageMath at least equal to 8.2 is required to run this notebook:"
   ]
  },
  {
   "cell_type": "code",
   "execution_count": null,
   "metadata": {},
   "outputs": [],
   "source": [
    "version()"
   ]
  },
  {
   "cell_type": "markdown",
   "metadata": {},
   "source": [
    "First we set up the notebook to display mathematical objects using LaTeX formatting:"
   ]
  },
  {
   "cell_type": "code",
   "execution_count": null,
   "metadata": {},
   "outputs": [],
   "source": [
    "%display latex"
   ]
  },
  {
   "cell_type": "markdown",
   "metadata": {},
   "source": [
    "## Five-dimensional Lifshitz-like spacetime\n",
    "\n",
    "Let us declare the spacetime $M$ as a 5-dimensional manifold:"
   ]
  },
  {
   "cell_type": "code",
   "execution_count": null,
   "metadata": {},
   "outputs": [],
   "source": [
    "M = Manifold(5, 'M', structure='Lorentzian')\n",
    "print(M)"
   ]
  },
  {
   "cell_type": "markdown",
   "metadata": {},
   "source": [
    "We introduce a first coordinate system on $M$:"
   ]
  },
  {
   "cell_type": "code",
   "execution_count": null,
   "metadata": {},
   "outputs": [],
   "source": [
    "X.<t,x,y1,y2,r> = M.chart('t x y1:y_1 y2:y_2 r')\n",
    "X"
   ]
  },
  {
   "cell_type": "code",
   "execution_count": null,
   "metadata": {},
   "outputs": [],
   "source": [
    "g = M.metric()\n",
    "ff = function('f')(r)\n",
    "var('nu', latex_name=r'\\nu', domain='real')\n",
    "g[0,0] = -ff*exp(2*nu*r)\n",
    "g[1,1] = exp(2*nu*r)\n",
    "g[2,2] = exp(2*r)\n",
    "g[3,3] = exp(2*r)\n",
    "g[4,4] = 1/ff\n",
    "g.display()"
   ]
  },
  {
   "cell_type": "markdown",
   "metadata": {},
   "source": [
    "A matrix view of the metric components:"
   ]
  },
  {
   "cell_type": "code",
   "execution_count": null,
   "metadata": {},
   "outputs": [],
   "source": [
    "g[:]"
   ]
  },
  {
   "cell_type": "markdown",
   "metadata": {},
   "source": [
    "A view component by component (by default, only the nonzero ones are displayed):"
   ]
  },
  {
   "cell_type": "code",
   "execution_count": null,
   "metadata": {},
   "outputs": [],
   "source": [
    "g.display_comp()"
   ]
  },
  {
   "cell_type": "markdown",
   "metadata": {},
   "source": [
    "Access to a particular component:"
   ]
  },
  {
   "cell_type": "code",
   "execution_count": null,
   "metadata": {},
   "outputs": [],
   "source": [
    "g[0,0]"
   ]
  },
  {
   "cell_type": "markdown",
   "metadata": {},
   "source": [
    "If $f(r)=1$, this metric is invariant under the *Lifshitz scaling*\n",
    "$$ (t,x,y_1,y_2,e^r) \\longmapsto \\left(\\lambda^\\nu t, \\lambda^\\nu x, \\lambda y_1, \\lambda y_2, \\frac{e^r}{\\lambda} \\right)$$\n",
    "- If $\\nu=1$ the scaling is isotropic and we recognize the metric \n",
    "  of $\\mathrm{AdS}_5$ in Poincaré coordinates ($M$ is then the Poincaré patch of $\\mathrm{AdS}_5$)\n",
    "- If $\\nu\\not=1$, the scaling is anisotropic"
   ]
  },
  {
   "cell_type": "markdown",
   "metadata": {},
   "source": [
    "### Curvature\n",
    "\n",
    "The Riemann tensor is"
   ]
  },
  {
   "cell_type": "code",
   "execution_count": null,
   "metadata": {},
   "outputs": [],
   "source": [
    "Riem = g.riemann()\n",
    "print(Riem)"
   ]
  },
  {
   "cell_type": "code",
   "execution_count": null,
   "metadata": {},
   "outputs": [],
   "source": [
    "Riem.display_comp(only_nonredundant=True)"
   ]
  },
  {
   "cell_type": "markdown",
   "metadata": {},
   "source": [
    "The Ricci tensor:"
   ]
  },
  {
   "cell_type": "code",
   "execution_count": null,
   "metadata": {},
   "outputs": [],
   "source": [
    "Ric = g.ricci()\n",
    "print(Ric)"
   ]
  },
  {
   "cell_type": "code",
   "execution_count": null,
   "metadata": {},
   "outputs": [],
   "source": [
    "Ric.display()"
   ]
  },
  {
   "cell_type": "code",
   "execution_count": null,
   "metadata": {},
   "outputs": [],
   "source": [
    "Ric.display_comp()"
   ]
  },
  {
   "cell_type": "markdown",
   "metadata": {},
   "source": [
    "The Ricci scalar:"
   ]
  },
  {
   "cell_type": "code",
   "execution_count": null,
   "metadata": {},
   "outputs": [],
   "source": [
    "Rscal = g.ricci_scalar()\n",
    "print(Rscal)"
   ]
  },
  {
   "cell_type": "code",
   "execution_count": null,
   "metadata": {},
   "outputs": [],
   "source": [
    "Rscal.display()"
   ]
  },
  {
   "cell_type": "markdown",
   "metadata": {},
   "source": [
    "### Source model\n",
    "Let us consider a model based on the following action, involving a dilaton scalar field $\\phi$ and a Maxwell 2-form $F$:\n",
    "\n",
    "$$ S = \\int \\left( R(g) - 2 \\Lambda - \\frac{1}{2} \\nabla_m \\phi \\nabla^m \\phi - \\frac{1}{4} e^{\\lambda\\phi} F_{mn} F^{mn} \\right) \\sqrt{-g} \\, \\mathrm{d}^5 x \\qquad\\qquad \\mbox{(1)}$$\n",
    "\n",
    "where $R(g)$ is the Ricci scalar of metric $g$, $\\Lambda$ is the cosmological constant and $\\lambda$ is the dilatonic coupling constant."
   ]
  },
  {
   "cell_type": "markdown",
   "metadata": {},
   "source": [
    "### The dilaton scalar field\n",
    "\n",
    "We consider the following ansatz for the dilaton scalar field $\\phi$:\n",
    "$$ \\phi = \\frac{1}{\\lambda} \\left( 4 r + \\ln\\mu \\right),$$\n",
    "where $\\mu$ is a constant. "
   ]
  },
  {
   "cell_type": "code",
   "execution_count": null,
   "metadata": {},
   "outputs": [],
   "source": [
    "var('mu', latex_name=r'\\mu', domain='real')\n",
    "var('lamb', latex_name=r'\\lambda', domain='real')\n",
    "phi = M.scalar_field({X: (4*r + ln(mu))/lamb}, \n",
    "                     name='phi', latex_name=r'\\phi')\n",
    "phi.display()"
   ]
  },
  {
   "cell_type": "markdown",
   "metadata": {},
   "source": [
    "The 1-form $\\mathrm{d}\\phi$ is"
   ]
  },
  {
   "cell_type": "code",
   "execution_count": null,
   "metadata": {},
   "outputs": [],
   "source": [
    "dphi = phi.differential()\n",
    "print(dphi)"
   ]
  },
  {
   "cell_type": "code",
   "execution_count": null,
   "metadata": {},
   "outputs": [],
   "source": [
    "dphi.display()"
   ]
  },
  {
   "cell_type": "code",
   "execution_count": null,
   "metadata": {},
   "outputs": [],
   "source": [
    "dphi[:]  # all the components in the default frame"
   ]
  },
  {
   "cell_type": "markdown",
   "metadata": {},
   "source": [
    "### The 2-form field\n",
    "\n",
    "We consider the following ansatz for $F$:\n",
    "$$ F = \\frac{1}{2} q \\, \\mathrm{d}y_1\\wedge \\mathrm{d}y_2, $$\n",
    "where $q$ is a constant. \n",
    "\n",
    "Let us first get the 1-forms $\\mathrm{d}y_1$ and $\\mathrm{d}y_2$:"
   ]
  },
  {
   "cell_type": "code",
   "execution_count": null,
   "metadata": {},
   "outputs": [],
   "source": [
    "X.coframe()"
   ]
  },
  {
   "cell_type": "code",
   "execution_count": null,
   "metadata": {},
   "outputs": [],
   "source": [
    "dy1 = X.coframe()[2]\n",
    "dy2 = X.coframe()[3]\n",
    "print(dy1)\n",
    "print(dy2)\n",
    "dy1, dy2"
   ]
  },
  {
   "cell_type": "markdown",
   "metadata": {},
   "source": [
    "Then we can form $F$ according to the above ansatz:"
   ]
  },
  {
   "cell_type": "code",
   "execution_count": null,
   "metadata": {},
   "outputs": [],
   "source": [
    "var('q', domain='real')\n",
    "F = q/2 * dy1.wedge(dy2)\n",
    "F.set_name('F')\n",
    "print(F)\n",
    "F.display()"
   ]
  },
  {
   "cell_type": "markdown",
   "metadata": {},
   "source": [
    "By construction, the 2-form $F$ is closed (since $q$ is constant):"
   ]
  },
  {
   "cell_type": "code",
   "execution_count": null,
   "metadata": {},
   "outputs": [],
   "source": [
    "print(F.exterior_derivative())"
   ]
  },
  {
   "cell_type": "code",
   "execution_count": null,
   "metadata": {},
   "outputs": [],
   "source": [
    "F.exterior_derivative().display()"
   ]
  },
  {
   "cell_type": "markdown",
   "metadata": {},
   "source": [
    "Let us evaluate the square $F_{mn} F^{mn}$ of $F$:"
   ]
  },
  {
   "cell_type": "code",
   "execution_count": null,
   "metadata": {},
   "outputs": [],
   "source": [
    "Fu = F.up(g)\n",
    "print(Fu)\n",
    "Fu.display()"
   ]
  },
  {
   "cell_type": "code",
   "execution_count": null,
   "metadata": {},
   "outputs": [],
   "source": [
    "F2 = F['_{mn}']*Fu['^{mn}']  # using LaTeX notations to denote contraction\n",
    "print(F2)\n",
    "F2.display()"
   ]
  },
  {
   "cell_type": "markdown",
   "metadata": {},
   "source": [
    "We shall also need the tensor $\\mathcal{F}_{mn} := F_{mp} F_n^{\\ \\, p}$:"
   ]
  },
  {
   "cell_type": "code",
   "execution_count": null,
   "metadata": {},
   "outputs": [],
   "source": [
    "FF = F['_mp'] * F.up(g,1)['^p_n']\n",
    "print(FF)\n",
    "FF.display()"
   ]
  },
  {
   "cell_type": "markdown",
   "metadata": {},
   "source": [
    "The tensor field $\\mathcal{F}$ is symmetric:"
   ]
  },
  {
   "cell_type": "code",
   "execution_count": null,
   "metadata": {},
   "outputs": [],
   "source": [
    "FF == FF.symmetrize()"
   ]
  },
  {
   "cell_type": "markdown",
   "metadata": {},
   "source": [
    "Therefore, from now on, we set"
   ]
  },
  {
   "cell_type": "code",
   "execution_count": null,
   "metadata": {},
   "outputs": [],
   "source": [
    "FF = FF.symmetrize()"
   ]
  },
  {
   "cell_type": "markdown",
   "metadata": {},
   "source": [
    "### Einstein equation\n",
    "\n",
    "Let us first introduce the cosmological constant:"
   ]
  },
  {
   "cell_type": "code",
   "execution_count": null,
   "metadata": {},
   "outputs": [],
   "source": [
    "var('Lamb', latex_name=r'\\Lambda', domain='real')"
   ]
  },
  {
   "cell_type": "markdown",
   "metadata": {},
   "source": [
    "From the action (1), the field equation for the metric $g$ is\n",
    "$$ R_{mn} - \\frac{2}{3}\\Lambda \\, g  - \\frac{1}{2}\\partial_m\\phi \\partial_n\\phi -\\frac{1}{2} e^{\\lambda\\phi} F_{mp} F^{\\ \\, p}_n + \\frac{1}{12} e^{\\lambda\\phi} F_{rs} F^{rs} \\, g_{mn} = 0 $$\n",
    "We write it as\n",
    "\n",
    "    EE == 0\n",
    "\n",
    "with `EE` defined by"
   ]
  },
  {
   "cell_type": "code",
   "execution_count": null,
   "metadata": {},
   "outputs": [],
   "source": [
    "EE = Ric - 2*Lamb/3*g - 1/2* (dphi*dphi) -  1/2*exp(lamb*phi)*FF \\\n",
    "     + 1/12*exp(lamb*phi)*F2*g\n",
    "EE.set_name('E')\n",
    "print(EE)"
   ]
  },
  {
   "cell_type": "code",
   "execution_count": null,
   "metadata": {},
   "outputs": [],
   "source": [
    "EE.display_comp(only_nonredundant=True)"
   ]
  },
  {
   "cell_type": "markdown",
   "metadata": {},
   "source": [
    "We note that `EE==0` leads to only 4 independent equations because"
   ]
  },
  {
   "cell_type": "code",
   "execution_count": null,
   "metadata": {},
   "outputs": [],
   "source": [
    "EE[2,2] == EE[3,3]"
   ]
  },
  {
   "cell_type": "markdown",
   "metadata": {},
   "source": [
    "The 4 independent equations are chosen to be"
   ]
  },
  {
   "cell_type": "code",
   "execution_count": null,
   "metadata": {},
   "outputs": [],
   "source": [
    "eq0 = EE[0,0]/exp(2*nu*r)\n",
    "eq0"
   ]
  },
  {
   "cell_type": "code",
   "execution_count": null,
   "metadata": {},
   "outputs": [],
   "source": [
    "eq1 = EE[1,1]/exp(2*nu*r)\n",
    "eq1"
   ]
  },
  {
   "cell_type": "code",
   "execution_count": null,
   "metadata": {},
   "outputs": [],
   "source": [
    "eq2 = EE[2,2]/exp(2*r)\n",
    "eq2"
   ]
  },
  {
   "cell_type": "code",
   "execution_count": null,
   "metadata": {},
   "outputs": [],
   "source": [
    "eq3 = EE[4,4]*lamb^2*f(r)\n",
    "eq3"
   ]
  },
  {
   "cell_type": "markdown",
   "metadata": {},
   "source": [
    "### Dilaton field equation\n",
    "\n",
    "First we evaluate $\\nabla_m \\nabla^m \\phi$:"
   ]
  },
  {
   "cell_type": "code",
   "execution_count": null,
   "metadata": {},
   "outputs": [],
   "source": [
    "box_phi = phi.dalembertian()\n",
    "print(box_phi)\n",
    "box_phi.display()"
   ]
  },
  {
   "cell_type": "markdown",
   "metadata": {},
   "source": [
    "From the action (1), the field equation for $\\phi$ is \n",
    "$$ \\nabla_m \\nabla^m \\phi = \\frac{\\lambda}{4} e^{\\lambda\\phi} F_{mn} F^{mn}$$\n",
    "We write it as\n",
    "\n",
    "    DE == 0\n",
    "    \n",
    "with `DE` defined by"
   ]
  },
  {
   "cell_type": "code",
   "execution_count": null,
   "metadata": {},
   "outputs": [],
   "source": [
    "DE = box_phi - lamb/4*exp(lamb*phi) * F2\n",
    "print(DE)"
   ]
  },
  {
   "cell_type": "code",
   "execution_count": null,
   "metadata": {},
   "outputs": [],
   "source": [
    "DE.display()"
   ]
  },
  {
   "cell_type": "markdown",
   "metadata": {},
   "source": [
    "Hence the dilaton field equation provides a fith equation:"
   ]
  },
  {
   "cell_type": "code",
   "execution_count": null,
   "metadata": {},
   "outputs": [],
   "source": [
    "eq4 = DE.coord_function()*lamb\n",
    "eq4"
   ]
  },
  {
   "cell_type": "markdown",
   "metadata": {},
   "source": [
    "### Maxwell equation\n",
    "\n",
    "From the action (1), the field equation for $F$ is \n",
    "$$ \\nabla_m \\left( e^{\\lambda\\phi} F^{mn} \\right)= 0 $$\n",
    "To form it, we need the Levi-Civita connection $\\nabla$ associated to $g$:"
   ]
  },
  {
   "cell_type": "code",
   "execution_count": null,
   "metadata": {},
   "outputs": [],
   "source": [
    "nabla = g.connection()\n",
    "print(nabla)\n",
    "nabla"
   ]
  },
  {
   "cell_type": "markdown",
   "metadata": {},
   "source": [
    "We write then the field equation for $F$ as\n",
    "\n",
    "    ME == 0\n",
    "    \n",
    "with `ME` defined by"
   ]
  },
  {
   "cell_type": "code",
   "execution_count": null,
   "metadata": {},
   "outputs": [],
   "source": [
    "ME = nabla(exp(lamb*phi)*Fu).trace(0,2)\n",
    "print(ME)\n",
    "ME.display()"
   ]
  },
  {
   "cell_type": "markdown",
   "metadata": {},
   "source": [
    "We get identically zero."
   ]
  },
  {
   "cell_type": "markdown",
   "metadata": {},
   "source": [
    "### The solution\n",
    "\n",
    "The Einstein equation + the dilaton field equation yields a system of 5 equations (eq0, eq1, eq2, eq3, eq4). \n",
    "\n",
    "Let us show that a solution is obtained for $\\nu=2$ and $\\nu=4$ with the following specific form of the blackening function:\n",
    "\n",
    "$$ f(r) = 1 - m e^{-(2\\nu +2)r}, $$\n",
    "\n",
    "where $m$ is a constant. \n",
    "\n",
    "To this aim, we declare"
   ]
  },
  {
   "cell_type": "code",
   "execution_count": null,
   "metadata": {},
   "outputs": [],
   "source": [
    "var('m', domain='real')\n",
    "fm(r) = 1 - m*exp(-(2*nu+2)*r)\n",
    "fm"
   ]
  },
  {
   "cell_type": "markdown",
   "metadata": {},
   "source": [
    "and substitute this function for $f(r)$ in all the equations:"
   ]
  },
  {
   "cell_type": "code",
   "execution_count": null,
   "metadata": {},
   "outputs": [],
   "source": [
    "eq0m = eq0.expr().substitute_function(f, fm).simplify_full()\n",
    "eq0m"
   ]
  },
  {
   "cell_type": "code",
   "execution_count": null,
   "metadata": {},
   "outputs": [],
   "source": [
    "eq0m = (eq0m * exp(2*nu*r+2*r)).simplify_full()\n",
    "eq0m"
   ]
  },
  {
   "cell_type": "code",
   "execution_count": null,
   "metadata": {},
   "outputs": [],
   "source": [
    "eq1m = eq1.expr().substitute_function(f, fm).simplify_full()\n",
    "eq1m"
   ]
  },
  {
   "cell_type": "code",
   "execution_count": null,
   "metadata": {},
   "outputs": [],
   "source": [
    "eq2m = eq2.expr().substitute_function(f, fm).simplify_full()\n",
    "eq2m"
   ]
  },
  {
   "cell_type": "code",
   "execution_count": null,
   "metadata": {},
   "outputs": [],
   "source": [
    "eq3m = eq3.expr().substitute_function(f, fm).simplify_full()\n",
    "eq3m"
   ]
  },
  {
   "cell_type": "code",
   "execution_count": null,
   "metadata": {},
   "outputs": [],
   "source": [
    "eq3m = (eq3m * exp(2*nu*r+2*r)).simplify_full()\n",
    "eq3m"
   ]
  },
  {
   "cell_type": "code",
   "execution_count": null,
   "metadata": {},
   "outputs": [],
   "source": [
    "eq4m = eq4.expr().substitute_function(f, fm).simplify_full()\n",
    "eq4m"
   ]
  },
  {
   "cell_type": "code",
   "execution_count": null,
   "metadata": {},
   "outputs": [],
   "source": [
    "eqs = [eq0m, eq1m, eq2m, eq3m, eq4m]"
   ]
  },
  {
   "cell_type": "markdown",
   "metadata": {},
   "source": [
    "### Solution for $\\nu = 2$"
   ]
  },
  {
   "cell_type": "code",
   "execution_count": null,
   "metadata": {},
   "outputs": [],
   "source": [
    "neqs = [eq.subs(nu=2).simplify_full() for eq in eqs]\n",
    "[eq == 0 for eq in neqs]"
   ]
  },
  {
   "cell_type": "code",
   "execution_count": null,
   "metadata": {},
   "outputs": [],
   "source": [
    "solve([eq == 0 for eq in neqs], lamb, mu, Lamb)"
   ]
  },
  {
   "cell_type": "markdown",
   "metadata": {},
   "source": [
    "Hence there are two families of solutions, each family being parametrized by e.g. $(q, m)$."
   ]
  },
  {
   "cell_type": "markdown",
   "metadata": {},
   "source": [
    "### Solution for $\\nu=4$"
   ]
  },
  {
   "cell_type": "code",
   "execution_count": null,
   "metadata": {},
   "outputs": [],
   "source": [
    "neqs = [eq.subs(nu=4).simplify_full() for eq in eqs]\n",
    "[eq == 0 for eq in neqs]"
   ]
  },
  {
   "cell_type": "code",
   "execution_count": null,
   "metadata": {},
   "outputs": [],
   "source": [
    "solve([eq == 0 for eq in neqs], lamb, mu, Lamb)"
   ]
  },
  {
   "cell_type": "markdown",
   "metadata": {
    "collapsed": true
   },
   "source": [
    "Again we get two families of solutions, each of them being parametrized by $(q, m)$."
   ]
  }
 ],
 "metadata": {
  "kernelspec": {
   "display_name": "SageMath 9.0.beta6",
   "language": "sage",
   "name": "sagemath"
  },
  "language_info": {
   "codemirror_mode": {
    "name": "ipython",
    "version": 3
   },
   "file_extension": ".py",
   "mimetype": "text/x-python",
   "name": "python",
   "nbconvert_exporter": "python",
   "pygments_lexer": "ipython3",
   "version": "3.7.3"
  },
  "name": "Lifshitz_black_brane.ipynb"
 },
 "nbformat": 4,
 "nbformat_minor": 1
}
