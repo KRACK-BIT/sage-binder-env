{
 "cells": [
  {
   "cell_type": "markdown",
   "metadata": {},
   "source": [
    "# Sage多様体演習　Sage manifold tutorial\n",
    "\n",
    "このワークシートはSageMathにおける微分可能多様体の取り扱いについての簡単な紹介です。以下で紹介するツールは[SageManifolds](https://sagemanifolds.obspm.fr/) プロジェクト (version 1.2, included in SageMath 8.2).を通じて実装されました。\n",
    "ipnyb形式のワークシートファイルは[ここ](https://raw.githubusercontent.com/sagemanifolds/SageManifolds/master/Notebooks/SM_tutorial.ipynb) からダウンロード可能です。このワークシートを実行するには、コマンド`sage -n jupyter`などを使ってSageMathのJupyterノートブックインタフェースを起動する必要があります。\n",
    "\n",
    "[訳注：この日本語版翻訳は山本 昇によって作成されました。翻訳者へのご連絡は、https://souran.kek.jp/kss/top/　を経由して、 職員情報詳細ページ内の「メール送信」リンクをご利用ください。この翻訳版作成にあたり、東海大学理学部北林さんには貴重なコメントをいただきました。この場を借りてお礼申しあげます。\n",
    "(2023/05/02追記：原文の更新を反映しました。)]\n",
    "\n",
    "This notebook provides a short introduction to differentiable manifolds in SageMath. The tools described\n",
    "below have been implemented through the [SageManifolds](https://sagemanifolds.obspm.fr/) project.\n",
    "\n",
    "Click [here](https://raw.githubusercontent.com/sagemanifolds/SageManifolds/master/Notebooks/SM_tutorial.ipynb) to download the worksheet file (ipynb format). To run it, you must start SageMath with the Jupyter notebook, via the command `sage -n jupyter`\n",
    "\n",
    "[Note for Japanese version.: this document was translated into Japanese by Noboru Yamamoto. You can reach him through https://souran.kek.jp/kss/top/. \"Staff Detail Information\" page includes a link \"send email\". The translator thanks Prof. Kitabayashi of Tokai University for his valuable comments on the draft of the documents.]"
   ]
  },
  {
   "cell_type": "markdown",
   "metadata": {},
   "source": [
    "このワークシートはSageMathのバージョン 9.2 (あるいはそれ以降）を必要としています、それ以前のバージョンではSageManifoldsの全ての機能が利用可能というわけではないからです。 [訳注：このjupyter notebookはSageMath 9.8 を使って実行しています。]\n",
    "\n",
    "This notebook is valid for version 9.2 or higher of SageMath:"
   ]
  },
  {
   "cell_type": "code",
   "execution_count": null,
   "metadata": {},
   "outputs": [],
   "source": [
    "version()"
   ]
  },
  {
   "cell_type": "markdown",
   "metadata": {},
   "source": [
    "最初に、ノートブックが結果をLaTexを使った数式表示で表示するようにします。\n",
    "\n",
    "First we set up the notebook to display mathematical objects using LaTeX rendering:"
   ]
  },
  {
   "cell_type": "code",
   "execution_count": null,
   "metadata": {},
   "outputs": [],
   "source": [
    "%display latex"
   ]
  },
  {
   "cell_type": "markdown",
   "metadata": {},
   "source": [
    "## 多様体の定義　Defining a manifold\n",
    "\n",
    "例として、 $\\mathbb{R}$上の3次元の微分可能多様体を定義します。\n",
    "\n",
    "As an example let us define a differentiable manifold of dimension 3 over $\\mathbb{R}$:"
   ]
  },
  {
   "cell_type": "code",
   "execution_count": null,
   "metadata": {},
   "outputs": [],
   "source": [
    "M = Manifold(3, 'M', latex_name=r'\\mathcal{M}', start_index=1)"
   ]
  },
  {
   "cell_type": "markdown",
   "metadata": {},
   "source": [
    "- 最初の引数、`3`, は多様体の次元です。SageManifoldsでは任意の正の整数を指定できます。\n",
    "- 2番目の引数, `'M'`, は多様体の名前を与える文字列です。この名前は = 記号の左辺にあるシンボルの名前(ここでは`M`)と\n",
    "異なっていても構いません。左辺のシンボル名はコンピュータメモリのなかの多様体オブジェクトを参照しています。一方、\n",
    "引数であたえる名前は、多様体に与えられた数学的な名前です。\n",
    "- 省略可能な引数, `latex_name=r'\\mathcal{M}'`, はこの多様体をLaTeXで表示する際に使う名前を指定します。\n",
    "最初の引用符の前の 'r' に注意してください。：これはこの文字列が *raw* 文字列であることを示しています。\n",
    "それによって文字列`\\mathcal`中のバックスラッシュ '\\\\' は通常の文字として取り扱われます（ '\\\\\\\\' としてエスケープする必要がないということです）。\n",
    "この引数(`latex_name`)が省略された場合は、第2引数に与えられた名前(ここでは`M`です）が使われます。\n",
    "- 次の省略可能な引数`start_index=1`は多様体のテンソル成分の指標の範囲を指定しています。これを1とすることは指標の範囲が$\\{1,2,3\\}$であることを示しています。この引数の既定値は `start_index=0` です。\n",
    "\n",
    "- The first argument, `3`, is the manifold dimension. In SageManifolds, it can be any\n",
    "  positive integer.\n",
    "- The second argument, `'M'`, is a string defining the manifold's name; it may be \n",
    "  different from the symbol set on the left-hand side of the = sign (here `M`): the latter\n",
    "  stands for a mere Python variable, which refers to the manifold object in the computer \n",
    "  memory, while the string `'M'` is the mathematical symbol chosen for the manifold.\n",
    "- The optional argument `latex_name=r'\\mathcal{M}'` sets the LaTeX\n",
    "  symbol to display the manifold. Note the letter 'r' in front on the first quote: \n",
    "  it indicates that the  string is a *raw* one, so that the backslash character \n",
    "  in `\\mathcal` is considered as an ordinary character (otherwise, the backslash is \n",
    "  used to escape some special characters). If the argument `latex_name` is not \n",
    "  provided by the user, it is set to the string used as the second argument (here `'M'`)\n",
    "- The optional argument `start_index=1` defines the range of indices to be used for \n",
    "  tensor components on the manifold: setting it to 1 means that indices will range \n",
    "  in $\\{1,2,3\\}$. The default value is `start_index=0`.\n",
    "\n",
    "規定のベースフィールド（基底）は$\\mathbb{R}$であることに注意してください。もし、\n",
    "`field='complex'`,が与えられていれば、複素数体$\\mathbb{C}$を基底として持つ\n",
    "多様体が定義されます。[[list of all options](http://doc.sagemath.org/html/en/reference/manifolds/sage/manifolds/manifold.html#sage.manifolds.manifold.Manifold) を参照のこと]\n",
    "\n",
    "Note that the default base field is $\\mathbb{R}$. If we would have used the optional\n",
    "argument `field='complex'`, we would have defined a manifold over $\\mathbb{C}$. See the\n",
    "[list of all options](http://doc.sagemath.org/html/en/reference/manifolds/sage/manifolds/manifold.html#sage.manifolds.manifold.Manifold) for more details. \n",
    "\n",
    "Mを要求すると、そのLaTexのシンボルとして表示されます。\n",
    "\n",
    "If we ask for M, it is displayed via its LaTeX symbol:"
   ]
  },
  {
   "cell_type": "code",
   "execution_count": null,
   "metadata": {},
   "outputs": [],
   "source": [
    "M"
   ]
  },
  {
   "cell_type": "markdown",
   "metadata": {},
   "source": [
    "代わりに `print` 関数を使うと、簡潔な記述が表示されます。\n",
    "\n",
    "If we use the `print` function instead, we get a short description of the object:"
   ]
  },
  {
   "cell_type": "code",
   "execution_count": null,
   "metadata": {},
   "outputs": [],
   "source": [
    "print(M)"
   ]
  },
  {
   "cell_type": "markdown",
   "metadata": {},
   "source": [
    "`type` コマンドを使うと、`M`に対応するPythonオブジェクトのタイプ(`DifferentiableManifold_with_category`)が表示できます。\n",
    "\n",
    "<p> Via the command <span style=\"font-family: courier new,courier;\">type</span>, we get the type of the Python object corresponding to M (here the Python class <span style=\"font-family: courier new,courier;\">DifferentiableManifold_with_category</span>):</p>"
   ]
  },
  {
   "cell_type": "code",
   "execution_count": null,
   "metadata": {},
   "outputs": [],
   "source": [
    "print(type(M))"
   ]
  },
  {
   "cell_type": "markdown",
   "metadata": {},
   "source": [
    "category()関数を使って、多様体`M`のカテゴリーを調べます。この例では、この多様体の\n",
    "カテゴリーは$\\mathbb{R}$の上の滑らかな多様体であることがわかります。\n",
    "\n",
    "We can also ask for the category of M and see that it is the category of smooth manifolds over $\\mathbb{R}$:"
   ]
  },
  {
   "cell_type": "code",
   "execution_count": null,
   "metadata": {},
   "outputs": [],
   "source": [
    "category(M)"
   ]
  },
  {
   "cell_type": "markdown",
   "metadata": {},
   "source": [
    "多様体の指標(を表すgeneator)は　`irange()` メソッドで生成されます。この指標はfor-ループなどで使われます。\n",
    "\n",
    "<p>The indices on the manifold are generated by the method <span style=\"font-family: courier new,courier;\">irange()</span>, to be used in loops:</p>"
   ]
  },
  {
   "cell_type": "code",
   "execution_count": null,
   "metadata": {},
   "outputs": [],
   "source": [
    "[i for i in M.irange()]"
   ]
  },
  {
   "cell_type": "markdown",
   "metadata": {},
   "source": [
    "`start_index` パラメータが明示的に指定されていない場合、多様体の指標は 0 からはじまります、例えばこの例のように(0,1,2) の範囲となります。\n",
    "\n",
    "<p>If the parameter<span style=\"font-family: courier new,courier;\"> start_index</span> had not been specified, the default range of the indices would have been $\\{0,1,2\\}$ instead:</p>"
   ]
  },
  {
   "cell_type": "code",
   "execution_count": null,
   "metadata": {},
   "outputs": [],
   "source": [
    "M0 = Manifold(3, 'M', r'\\mathcal{M}')\n",
    "[i for i in M0.irange()]"
   ]
  },
  {
   "cell_type": "markdown",
   "metadata": {},
   "source": [
    "## 多様体上の座標系(chart)の定義：Defining a chart on the manifold\n",
    "まずは、多様体 $\\mathcal{M}$ は一つの座標系で覆われると仮定します（そうでない場合は以下で議論されます）。\n",
    "座標系は次のように宣言されます。\n",
    "<p>Let us assume that the manifold $\\mathcal{M}$ can be covered by a single chart (other cases are discussed below); the chart is declared as follows:</p>"
   ]
  },
  {
   "cell_type": "code",
   "execution_count": null,
   "metadata": {},
   "outputs": [],
   "source": [
    "X.<x,y,z> = M.chart()"
   ]
  },
  {
   "cell_type": "markdown",
   "metadata": {},
   "source": [
    "上式の左辺にある`.<x,y,z>` は　Pythonの変数 `x`, `y` and `z`が座標系の軸名として使われることを意味します。\n",
    "これにより、座標軸を名前で指定することが可能になります。\n",
    "\n",
    "The writing `.<x,y,z>` in the left-hand side means that the Python variables `x`, `y` and `z` are set to the three coordinates of the chart. This allows one to refer subsequently to the coordinates by their names.\n",
    "\n",
    "この例では、関数 `chart()` は引数をもっていません。この場合には、座標の名前は、`x`, `y` と `z` (即ち、左辺の `<...>` 演算子で与えられた名前）になります。また座標の範囲は $(-\\infty,+\\infty)$ となります。それ以外の座標の名前やその範囲を指定する場合には `chart()` にそれらを引数として与えなければなりません。座標名と異なる LaTex で使われる名前を指定する場合も同様です。（以下にそのような例が示されます。)\n",
    "\n",
    "In this example, the function `chart()` has no arguments, which implies that the coordinate symbols will be `x`, `y` and `z` (i.e. exactly the characters set in the `<...>` operator) and that each coordinate range is $(-\\infty,+\\infty)$. For other cases, an argument must be passed to `chart()`  to specify the coordinate symbols and range, as well as the LaTeX symbol of a coordinate if the latter is different from the coordinate name (an example will be provided below)."
   ]
  },
  {
   "cell_type": "markdown",
   "metadata": {},
   "source": [
    "座標系は座標系が覆う開集合(ここでは多様体自身）と座標の組で表示されます。\n",
    "<p>The chart is displayed as a pair formed by the open set covered by it (here the whole manifold) and the coordinates:</p>"
   ]
  },
  {
   "cell_type": "code",
   "execution_count": null,
   "metadata": {},
   "outputs": [],
   "source": [
    "print(X)"
   ]
  },
  {
   "cell_type": "code",
   "execution_count": null,
   "metadata": {},
   "outputs": [],
   "source": [
    "X"
   ]
  },
  {
   "cell_type": "markdown",
   "metadata": {},
   "source": [
    "それぞれの座標値は指標を使って入手できます。指標の指定方法は多様体の定義時の設定（`start_index=1`）に従います。\n",
    "\n",
    "<p>The coordinates can be accessed individually, by means of their indices, following the convention defined by <span style=\"font-family: courier new,courier;\">start_index=1</span> in the manifold's definition:</p>"
   ]
  },
  {
   "cell_type": "code",
   "execution_count": null,
   "metadata": {},
   "outputs": [],
   "source": [
    "X[1]"
   ]
  },
  {
   "cell_type": "code",
   "execution_count": null,
   "metadata": {},
   "outputs": [],
   "source": [
    "X[2]"
   ]
  },
  {
   "cell_type": "code",
   "execution_count": null,
   "metadata": {},
   "outputs": [],
   "source": [
    "X[3]"
   ]
  },
  {
   "cell_type": "markdown",
   "metadata": {},
   "source": [
    "座標の全体は`[:]` 演算子を使って取得します。\n",
    "<p>The full set of coordinates is obtained by means of the operator [:]:</p>"
   ]
  },
  {
   "cell_type": "code",
   "execution_count": null,
   "metadata": {},
   "outputs": [],
   "source": [
    "X[:]"
   ]
  },
  {
   "cell_type": "markdown",
   "metadata": {},
   "source": [
    "座標系定義で使った `<x,y,z>` 演算子のおかげで、それぞれの座標をこの名前を使って直接取り扱えます。\n",
    "\n",
    "Thanks to the operator `<x,y,z>` used in the chart declaration, each coordinate can be accessed directly via its name:"
   ]
  },
  {
   "cell_type": "code",
   "execution_count": null,
   "metadata": {},
   "outputs": [],
   "source": [
    "z is X[3]"
   ]
  },
  {
   "cell_type": "markdown",
   "metadata": {},
   "source": [
    "座標は SageMath の記号表現になっています。\n",
    "\n",
    "Coordinates are SageMath symbolic expressions:"
   ]
  },
  {
   "cell_type": "code",
   "execution_count": null,
   "metadata": {},
   "outputs": [],
   "source": [
    "print(type(z))"
   ]
  },
  {
   "cell_type": "markdown",
   "metadata": {},
   "source": [
    "### 座標の関数 : Functions of the chart coordinates\n",
    "\n",
    "実数値をもつ座標の関数 (数学的にいえば、**座標の終域で定義された関数**) は チャートの`function()` メソッドを使って生成されます。\n",
    "\n",
    "<p>Real-valued functions of the chart coordinates (mathematically speaking, <em>functions defined on the chart codomain</em>) are generated via the method <span style=\"font-family: courier new,courier;\">function()</span> acting on the chart:</p>"
   ]
  },
  {
   "cell_type": "code",
   "execution_count": null,
   "metadata": {},
   "outputs": [],
   "source": [
    "f = X.function(x+y^2+z^3) \n",
    "f"
   ]
  },
  {
   "cell_type": "code",
   "execution_count": null,
   "metadata": {},
   "outputs": [],
   "source": [
    "f.display()"
   ]
  },
  {
   "cell_type": "code",
   "execution_count": null,
   "metadata": {},
   "outputs": [],
   "source": [
    "f(1,2,3)"
   ]
  },
  {
   "cell_type": "markdown",
   "metadata": {},
   "source": [
    "これらの関数は、SageManiforldsのクラス `ChartFunction` (実際には、そのサブクラス`𝙲𝚑𝚊𝚛𝚝𝙵𝚞𝚗𝚌𝚝𝚒𝚘𝚗𝚁𝚒𝚗𝚐_𝚠𝚒𝚝h_𝚌𝚊𝚝𝚎𝚐𝚘𝚛𝚢.𝚎𝚕𝚎𝚖𝚎𝚗t_𝚌𝚕𝚊𝚜𝚜`)に属しています。\n",
    "\n",
    "They belong to the class `ChartFunction` (actually the subclass `𝙲𝚑𝚊𝚛𝚝𝙵𝚞𝚗𝚌𝚝𝚒𝚘𝚗𝚁𝚒𝚗𝚐_𝚠𝚒𝚝h_𝚌𝚊𝚝𝚎𝚐𝚘𝚛𝚢.𝚎𝚕𝚎𝚖𝚎𝚗t_𝚌𝚕𝚊𝚜𝚜`):"
   ]
  },
  {
   "cell_type": "code",
   "execution_count": null,
   "metadata": {},
   "outputs": [],
   "source": [
    "print(type(f))"
   ]
  },
  {
   "cell_type": "markdown",
   "metadata": {},
   "source": [
    "そしてこの`ChartFunction`クラスに属する関数は、標準的な SageMath の記号的関数とは全ての演算で自動的簡約化の振る舞いが異なっています。例えば、二つの記号的関数の和：\n",
    "\n",
    "<p>and differ from SageMath standard symbolic functions by automatic simplifications in all operations. For instance, adding the two symbolic functions</p>"
   ]
  },
  {
   "cell_type": "code",
   "execution_count": null,
   "metadata": {},
   "outputs": [],
   "source": [
    "f0(x,y,z) = cos(x)^2 ; g0(x,y,z) = sin(x)^2"
   ]
  },
  {
   "cell_type": "markdown",
   "metadata": {},
   "source": [
    "は、次の結果になります。\n",
    "\n",
    "<p>results in</p>"
   ]
  },
  {
   "cell_type": "code",
   "execution_count": null,
   "metadata": {},
   "outputs": [],
   "source": [
    "f0 + g0"
   ]
  },
  {
   "cell_type": "markdown",
   "metadata": {},
   "source": [
    "一方、`ChartFunction` クラスに属する関数は自動的に簡約化されます。\n",
    "\n",
    "<p>while the sum of the corresponding functions in the class <span style=\"font-family: courier new,courier;\">ChartFunction</span> is automatically simplified:</p>"
   ]
  },
  {
   "cell_type": "code",
   "execution_count": null,
   "metadata": {},
   "outputs": [],
   "source": [
    "f1 = X.function(cos(x)^2) ; g1 = X.function(sin(x)^2)\n",
    "f1 + g1"
   ]
  },
  {
   "cell_type": "markdown",
   "metadata": {},
   "source": [
    "同じ結果を記号的関数でも得るためには、`simplify_trig()` メソッドを使います。\n",
    "\n",
    "<p>To get the same output with symbolic functions, one has to invoke the method <span style=\"font-family: courier new,courier;\">simplify_trig()</span>:</p>"
   ]
  },
  {
   "cell_type": "code",
   "execution_count": null,
   "metadata": {},
   "outputs": [],
   "source": [
    "(f0 + g0).simplify_trig()"
   ]
  },
  {
   "cell_type": "markdown",
   "metadata": {},
   "source": [
    "違いは表示方法にもあります。記号関数 `f0` を表示させると、\n",
    "\n",
    "<p>Another difference regards the display; if we ask for the symbolic function f0, we get:</p>"
   ]
  },
  {
   "cell_type": "code",
   "execution_count": null,
   "metadata": {},
   "outputs": [],
   "source": [
    "f0"
   ]
  },
  {
   "cell_type": "markdown",
   "metadata": {},
   "source": [
    "となりますが、座標関数　`f1` を表示させると、座標表示だけが表示されます。\n",
    "\n",
    "<p>while if we ask for the chart function f1, we get only the coordinate expression:</p>"
   ]
  },
  {
   "cell_type": "code",
   "execution_count": null,
   "metadata": {},
   "outputs": [],
   "source": [
    "f1"
   ]
  },
  {
   "cell_type": "markdown",
   "metadata": {},
   "source": [
    "`f0` の場合と同じような表示を望む場合には、 `display()` メソッドを使います。\n",
    "\n",
    "<p>To get an output similar to that of f0, one should call the method <span style=\"font-family: courier new,courier;\">display()</span>:</p>"
   ]
  },
  {
   "cell_type": "code",
   "execution_count": null,
   "metadata": {},
   "outputs": [],
   "source": [
    "f1.display()"
   ]
  },
  {
   "cell_type": "markdown",
   "metadata": {},
   "source": [
    "`expr()`メソッドは基になる記号表現を返すことを覚えておいてください。\n",
    "Note that the method `expr()` returns the underlying symbolic expression:"
   ]
  },
  {
   "cell_type": "code",
   "execution_count": null,
   "metadata": {},
   "outputs": [],
   "source": [
    "f1.expr()"
   ]
  },
  {
   "cell_type": "code",
   "execution_count": null,
   "metadata": {},
   "outputs": [],
   "source": [
    "print(type(f1.expr()))"
   ]
  },
  {
   "cell_type": "markdown",
   "metadata": {},
   "source": [
    "### 多様体への二つ目の座標系の導入:Introducing a second chart on the manifold\n",
    "\n",
    "まず、多様体$\\mathcal{M}$の部分集合を考えましょう。たとえば、$\\{y=0, x\\geq 0\\}$ で定義される領域の補集合 $U$ です(\n",
    "`(y!=0, x<0)` は $y\\not=0$ OR $x<0$を意味していることに注意。$y\\not=0$ AND $x<0$　は`[y!=0, x<0]`となる。）。\n",
    "\n",
    "Let us first consider an open subset of $\\mathcal{M}$, for instance the complement $U$ of the region defined by $\\{y=0, x\\geq 0\\}$ (note that `(y!=0, x<0)` stands for $y\\not=0$ OR $x<0$; the condition $y\\not=0$ AND $x<0$ would have been written `[y!=0, x<0]` instead):"
   ]
  },
  {
   "cell_type": "code",
   "execution_count": null,
   "metadata": {},
   "outputs": [],
   "source": [
    "U = M.open_subset('U', coord_def={X: (y!=0, x<0)})"
   ]
  },
  {
   "cell_type": "markdown",
   "metadata": {},
   "source": [
    "開部分集合$U$に制限された座標系 `X` を `X_U`と呼ぶことにします。\n",
    "\n",
    "Let us call `X_U` the restriction of the chart `X` to the open subset $U$:"
   ]
  },
  {
   "cell_type": "code",
   "execution_count": null,
   "metadata": {},
   "outputs": [],
   "source": [
    "X_U = X.restrict(U)\n",
    "X_U"
   ]
  },
  {
   "cell_type": "markdown",
   "metadata": {},
   "source": [
    "$U$上の別の座標系、 $(r,\\theta,\\phi)$、を　導入します。\n",
    "\n",
    "<p>We introduce another chart on $U$, with spherical-type coordinates $(r,\\theta,\\phi)$:</p>"
   ]
  },
  {
   "cell_type": "code",
   "execution_count": null,
   "metadata": {},
   "outputs": [],
   "source": [
    "Y.<r,th,ph> = U.chart(r'r:(0,+oo) th:(0,pi):\\theta ph:(0,2*pi):\\phi')\n",
    "Y"
   ]
  },
  {
   "cell_type": "markdown",
   "metadata": {},
   "source": [
    "ここでは関数 `chart()` は引数を持っています。それはraw文字列でLaTexのシンボルを含んでいます。また、この文字列には座標の(既定値の$(-\\infty, +\\infty)$とは異なる）範囲指定が含まれています。フィールドは`:`で区切られており、座標は空白文字で区切られています。 座標$r$については、LaTexシンボルを指定していないので、下限と上限の二つだけが指定されています。LaTexシンボルは出力の際に使われます。\n",
    "\n",
    "<p>The function <span style=\"font-family: courier new,courier;\">chart()</span> has now some argument; it is a string, which contains specific LaTeX symbols, hence the prefix 'r' to it (for <em>raw</em> string). It also contains the coordinate ranges, since they are different from the default value, which is $(-\\infty, +\\infty)$. For a given coordinate, the various fields are separated by the character ':' and a space character separates the coordinates. Note that for the coordinate $r$, there are only two fields, since the LaTeX symbol has not to be specified. The LaTeX symbols are used for the outputs:</p>"
   ]
  },
  {
   "cell_type": "code",
   "execution_count": null,
   "metadata": {},
   "outputs": [],
   "source": [
    "th, ph"
   ]
  },
  {
   "cell_type": "code",
   "execution_count": null,
   "metadata": {},
   "outputs": [],
   "source": [
    "Y[2], Y[3]"
   ]
  },
  {
   "cell_type": "markdown",
   "metadata": {},
   "source": [
    "Sageが使っている座標の条件は、`assumptions()`メソッドを使って確認することができます。\n",
    "\n",
    "<p>The declared coordinate ranges are now known to Sage, as we may check by means of the command <span style=\"font-family: courier new,courier; font-size: small;\">assumptions()</span>:</p>"
   ]
  },
  {
   "cell_type": "code",
   "execution_count": null,
   "metadata": {},
   "outputs": [],
   "source": [
    "assumptions()"
   ]
  },
  {
   "cell_type": "markdown",
   "metadata": {},
   "source": [
    "これらの条件は、表現の簡約化の際に使われます。\n",
    "\n",
    "<p>They are used in simplifications:</p>"
   ]
  },
  {
   "cell_type": "code",
   "execution_count": null,
   "metadata": {},
   "outputs": [],
   "source": [
    "simplify(abs(r))"
   ]
  },
  {
   "cell_type": "markdown",
   "metadata": {},
   "source": [
    "$r >0$ と仮定されているので、$\\mathrm{abs}(r)$ は　$r$ に簡約されます。"
   ]
  },
  {
   "cell_type": "code",
   "execution_count": null,
   "metadata": {},
   "outputs": [],
   "source": [
    "simplify(abs(x)) # no simplification occurs since x can take any value in R "
   ]
  },
  {
   "cell_type": "markdown",
   "metadata": {},
   "source": [
    "$x$ は$R$の負の値を含むどんな値でも取ることができますから、$\\mathrm{abs}(x)$ は簡約できません。"
   ]
  },
  {
   "cell_type": "markdown",
   "metadata": {},
   "source": [
    "座標 $Y$が宣言されたあとで、さらに　遷移写像を指定することで、$Y$の$X_U$への関係を完全に特定することができます。\n",
    "<p>After having been declared, the chart Y can be fully specified by its relation to the chart X_U, via a transition map:</p>"
   ]
  },
  {
   "cell_type": "code",
   "execution_count": null,
   "metadata": {},
   "outputs": [],
   "source": [
    "transit_Y_to_X = Y.transition_map(X_U,\n",
    "                                  [r*sin(th)*cos(ph), r*sin(th)*sin(ph), r*cos(th)])\n",
    "transit_Y_to_X"
   ]
  },
  {
   "cell_type": "code",
   "execution_count": null,
   "metadata": {},
   "outputs": [],
   "source": [
    "transit_Y_to_X.display()"
   ]
  },
  {
   "cell_type": "markdown",
   "metadata": {},
   "source": [
    "`set_inverse()` メソッドを用いることで、遷移写像の逆写像を指定することができます。\n",
    "\n",
    "<p>The inverse of the transition map can be specified by means of the method <span style=\"font-family: courier new,courier;\">set_inverse()</span>:</p>"
   ]
  },
  {
   "cell_type": "code",
   "execution_count": null,
   "metadata": {},
   "outputs": [],
   "source": [
    "transit_Y_to_X.set_inverse(sqrt(x^2+y^2+z^2), atan2(sqrt(x^2+y^2),z), atan2(y, x))"
   ]
  },
  {
   "cell_type": "markdown",
   "metadata": {},
   "source": [
    "導かれた逆写像は、それと元の写像を組み合わせることで検証できます。\n",
    "左辺と右辺がそれぞれに対応しています。\n",
    "上の結果が示しているように、thとphの検証が失敗したと報告されているのは、\n",
    "arctan2が関係する表式の単純化が不十分であることに起因しています。\n",
    "\n",
    "A check of the provided inverse is performed by composing \n",
    "it with the original transition map, on the left and\n",
    "on the right respectively. As indicated, the reported failure for th and ph is actually due to a lack of\n",
    "simplification of expressions involving arctan2 .\n",
    "We have then"
   ]
  },
  {
   "cell_type": "code",
   "execution_count": null,
   "metadata": {},
   "outputs": [],
   "source": [
    "transit_Y_to_X.inverse().display()"
   ]
  },
  {
   "cell_type": "markdown",
   "metadata": {},
   "source": [
    "この段階で、多様体のアトラス( `user atlas`であって最大アトラスではありません）は三つの座標系を含んでいます。\n",
    "\n",
    "<p>At this stage, the manifold's <strong>atlas</strong> (the \"user atlas\", not the maximal atlas!) contains three charts:</p>"
   ]
  },
  {
   "cell_type": "code",
   "execution_count": null,
   "metadata": {},
   "outputs": [],
   "source": [
    "M.atlas()"
   ]
  },
  {
   "cell_type": "markdown",
   "metadata": {},
   "source": [
    "多様体に最初に定義された座標系は既定の座標系とみなされます。既定座標系はあとで、`set_default_chart()`メソッドを使って変更できます。\n",
    "\n",
    "<p>The first chart defined on the manifold is considered as the manifold's default chart (it can be changed by the method <span style=\"font-family: courier new,courier;\">set_default_chart()</span>):</p>"
   ]
  },
  {
   "cell_type": "code",
   "execution_count": null,
   "metadata": {},
   "outputs": [],
   "source": [
    "M.default_chart()"
   ]
  },
  {
   "cell_type": "markdown",
   "metadata": {},
   "source": [
    "各々の開部分空間は各自のアトラスを持っています。開部分空間はそれ自身でも多様体であるからです。\n",
    "<p>Each open subset has its own atlas (since an open subset of a manifold is a manifold by itself):</p>"
   ]
  },
  {
   "cell_type": "code",
   "execution_count": null,
   "metadata": {},
   "outputs": [],
   "source": [
    "U.atlas()"
   ]
  },
  {
   "cell_type": "code",
   "execution_count": null,
   "metadata": {},
   "outputs": [],
   "source": [
    "U.default_chart()"
   ]
  },
  {
   "cell_type": "code",
   "execution_count": null,
   "metadata": {},
   "outputs": [],
   "source": [
    "Y.plot(X,color={r:'red', th:'green', ph:'blue'})"
   ]
  },
  {
   "cell_type": "markdown",
   "metadata": {},
   "source": [
    "`Y.plot(X)` コマンドを使って、座標系$Y$を座標系$X$を使って表示することができます。このコマンドは、座標系$Y$で一定の座標値を持つ線を、座標系$X$に基づく\"直交フレーム\"中に表示します。\n",
    "\n",
    "We can draw the chart $Y$ in terms of the chart $X$ via the command `Y.plot(X)`, which shows the lines of constant coordinates from the $Y$ chart in a \"Cartesian frame\" based on the $X$ coordinates:"
   ]
  },
  {
   "cell_type": "code",
   "execution_count": null,
   "metadata": {},
   "outputs": [],
   "source": [
    "Y.plot(X,  color={r:'blue', th:'green', ph:'red'}, aspect_ratio=1)"
   ]
  },
  {
   "cell_type": "markdown",
   "metadata": {},
   "source": [
    "コマンド`plot()`は多くのオプションを持っています。オプションを使い、描画される座標線の数、スタイル、色、そして座標の範囲などを指定します。\n",
    "(参照:[list of all options](http://doc.sagemath.org/html/en/reference/manifolds/sage/manifolds/chart.html#sage.manifolds.chart.RealChart.plot)):\n",
    "\n",
    "The command plot() allows for many options, to control the number of coordinate lines to be drawn, their style and color, as well as the coordinate ranges (cf. the [list of all options](http://doc.sagemath.org/html/en/reference/manifolds/sage/manifolds/chart.html#sage.manifolds.chart.RealChart.plot)):"
   ]
  },
  {
   "cell_type": "code",
   "execution_count": null,
   "metadata": {},
   "outputs": [],
   "source": [
    "Y.plot(X, ranges={r:(1,2), th:(0,pi/2)}, number_values=4, \n",
    "       color={r:'blue', th:'green', ph:'red'}, aspect_ratio=1)"
   ]
  },
  {
   "cell_type": "markdown",
   "metadata": {},
   "source": [
    "逆に、（制限された）座標系 $X|_{U}$ を座標系$Y$を使って表示することも可能です。この場合、座標系 $X$ の全てを表示することはできません、なぜなら $X$ の定義域(ドメイン)は $Y$ のそれより広いからです。\n",
    "\n",
    "<p>Conversly, the chart $X|_{U}$ can be plotted in terms of the chart $Y$ (this is not possible for the whole chart $X$ since its domain is larger than that of chart $Y$):</p>"
   ]
  },
  {
   "cell_type": "code",
   "execution_count": null,
   "metadata": {},
   "outputs": [],
   "source": [
    "graph = X_U.plot(Y,color={x:'blue',y:'green', z:'red'})\n",
    "show(graph, axes_labels=['r','theta','phi'])"
   ]
  },
  {
   "cell_type": "markdown",
   "metadata": {},
   "source": [
    "オプションを追加してすることで、グラフを見やすくできます。"
   ]
  },
  {
   "cell_type": "code",
   "execution_count": null,
   "metadata": {},
   "outputs": [],
   "source": [
    "graph = X_U.plot(Y, ranges={x:(0,2), y:(0,2),z:(0,2),\n",
    "                            r:(0,5), th:(0,pi/2), ph:(0, 2*pi) }, \n",
    "                    number_values=4, \n",
    "                    color={x:'blue',y:'green', z:'red'})\n",
    "show(graph, axes_labels=['r','theta','phi'])"
   ]
  },
  {
   "cell_type": "markdown",
   "metadata": {},
   "source": [
    "## 多様体上の点 :Points on the manifold\n",
    "\n",
    "多様体$\\mathcal{M}$上の点は、与えられた座標系での座標を使って定義されます。\n",
    "\n",
    "<p>A point on $\\mathcal{M}$ is defined by its coordinates in a given chart:</p>"
   ]
  },
  {
   "cell_type": "code",
   "execution_count": null,
   "metadata": {},
   "outputs": [],
   "source": [
    "p = M.point((1,2,-1), chart=X, name='p') ; print(p) ; p"
   ]
  },
  {
   "cell_type": "markdown",
   "metadata": {},
   "source": [
    "$X=(\\mathcal{M}, (x,y,z))$ は既定の座標系ですから、その名前を省略することが可能です。\n",
    "<p>Since $X=(\\mathcal{M}, (x,y,z))$ is the manifold's default chart, its name can be omitted:</p>"
   ]
  },
  {
   "cell_type": "code",
   "execution_count": null,
   "metadata": {},
   "outputs": [],
   "source": [
    "p = M.point((1,2,-1), name='p') ; print(p) ; p"
   ]
  },
  {
   "cell_type": "markdown",
   "metadata": {},
   "source": [
    "もちろんpは多様体$\\mathcal{M}$中の点です。\n",
    "<p>Of course, $p$ belongs to $\\mathcal{M}$:</p>                                                                                                                         "
   ]
  },
  {
   "cell_type": "code",
   "execution_count": null,
   "metadata": {},
   "outputs": [],
   "source": [
    "p in M"
   ]
  },
  {
   "cell_type": "markdown",
   "metadata": {},
   "source": [
    "この点は$U$の中の点でもあります。\n",
    "\n",
    "<p>It is also in $U$:</p>"
   ]
  },
  {
   "cell_type": "code",
   "execution_count": null,
   "metadata": {},
   "outputs": [],
   "source": [
    "p in U"
   ]
  },
  {
   "cell_type": "markdown",
   "metadata": {},
   "source": [
    "実際、点$p$の座標 $y$ は 0　ではありません ( $y\\not=0$ ):(Uは　$ y!=0 ||  x<0 $で定義された開領域)\n",
    "\n",
    "<p>Indeed the coordinates of $p$ have $y\\not=0$:</p>"
   ]
  },
  {
   "cell_type": "code",
   "execution_count": null,
   "metadata": {},
   "outputs": [],
   "source": [
    "p.coord(X)"
   ]
  },
  {
   "cell_type": "markdown",
   "metadata": {},
   "source": [
    "ここで、$X$は$\\mathcal{M}$の既定座標系であることから　`coord()` にわたす引数では、省略可能であることに注意してください。\n",
    "\n",
    "<p>Note in passing that since $X$ is the default chart on $\\mathcal{M}$, its name can be omitted in the arguments of coord():</p>"
   ]
  },
  {
   "cell_type": "code",
   "execution_count": null,
   "metadata": {},
   "outputs": [],
   "source": [
    "p.coord()"
   ]
  },
  {
   "cell_type": "markdown",
   "metadata": {},
   "source": [
    "$p$の座標値は、座標系を点$p$に作用させることによっても得ることができます(座標系の定義により！）：\n",
    "\n",
    "<p>The coordinates of $p$ can also be obtained by letting the chart acting of the point (from the very definition of a chart!):</p>"
   ]
  },
  {
   "cell_type": "code",
   "execution_count": null,
   "metadata": {},
   "outputs": [],
   "source": [
    "X(p)"
   ]
  },
  {
   "cell_type": "markdown",
   "metadata": {},
   "source": [
    "別の点 $q$ を $y = 0$ and $x \\geq 0$を満たす一つの点として定義します。\n",
    "<p>Let $q$ be a point with $y = 0$ and $x \\geq 0$:</p>"
   ]
  },
  {
   "cell_type": "code",
   "execution_count": null,
   "metadata": {},
   "outputs": [],
   "source": [
    "q = M.point((1,0,2), name='q')"
   ]
  },
  {
   "cell_type": "markdown",
   "metadata": {},
   "source": [
    "$q$は$U$には属しません。\n",
    "\n",
    "<p>This time, the point does not belong to $U$:</p>"
   ]
  },
  {
   "cell_type": "code",
   "execution_count": null,
   "metadata": {},
   "outputs": [],
   "source": [
    "q in U"
   ]
  },
  {
   "cell_type": "markdown",
   "metadata": {},
   "source": [
    "従って、点$q$の座標系$Y=(U, (r,\\theta,\\phi))$ での座標値を求めることはできません。\n",
    "<p>Accordingly, we cannot ask for the coordinates of $q$ in the chart $Y=(U, (r,\\theta,\\phi))$:</p>"
   ]
  },
  {
   "cell_type": "code",
   "execution_count": null,
   "metadata": {},
   "outputs": [],
   "source": [
    "try:\n",
    "    q.coord(Y)\n",
    "except ValueError as exc:\n",
    "    print(\"Error: \" + str(exc))"
   ]
  },
  {
   "cell_type": "markdown",
   "metadata": {},
   "source": [
    "しかし、点$p$については可能です。\n",
    "\n",
    "<p>but we can for point $p$:</p>"
   ]
  },
  {
   "cell_type": "code",
   "execution_count": null,
   "metadata": {},
   "outputs": [],
   "source": [
    "p.coord(Y)"
   ]
  },
  {
   "cell_type": "code",
   "execution_count": null,
   "metadata": {},
   "outputs": [],
   "source": [
    "Y(p)"
   ]
  },
  {
   "cell_type": "markdown",
   "metadata": {},
   "source": [
    "点は比較可能です。：\n",
    "<p>Points can be compared:</p>"
   ]
  },
  {
   "cell_type": "code",
   "execution_count": null,
   "metadata": {},
   "outputs": [],
   "source": [
    "q == p"
   ]
  },
  {
   "cell_type": "code",
   "execution_count": null,
   "metadata": {},
   "outputs": [],
   "source": [
    "p1 = U.point((sqrt(3)*sqrt(2), pi-atan(sqrt(5)), atan(2)), chart=Y)\n",
    "p1 == p"
   ]
  },
  {
   "cell_type": "markdown",
   "metadata": {},
   "source": [
    "SageMathの用語では、点は　それが定義された多様体を **親(parents)** として持つ **要素(elements)** です。\n",
    "<p>In SageMath's terminology, points are <strong>elements</strong>, whose <strong>parents</strong> are the manifold on which they have been defined:</p>"
   ]
  },
  {
   "cell_type": "code",
   "execution_count": null,
   "metadata": {},
   "outputs": [],
   "source": [
    "p.parent()"
   ]
  },
  {
   "cell_type": "code",
   "execution_count": null,
   "metadata": {},
   "outputs": [],
   "source": [
    "q.parent()"
   ]
  },
  {
   "cell_type": "code",
   "execution_count": null,
   "metadata": {},
   "outputs": [],
   "source": [
    "p1.parent()"
   ]
  },
  {
   "cell_type": "markdown",
   "metadata": {},
   "source": [
    "## スカラー場：Scalar fields\n",
    "***スカラー場*** は微分可能な写像 $U \\longrightarrow \\mathbb{R}$ のことです。ここで $U$ は多様体$\\mathcal{M}$の開部分集合です。\n",
    "スカラー場はその定義域を覆う座標系を使った式で定義されます。一般には、一つ以上の座標系が定義域全体を覆うためには必要となります。\n",
    "\n",
    "A **scalar field** is a differentiable map $U \\to \\mathbb{R}$, where $U$ is an open subset of $\\mathcal{M}$.\n",
    "\n",
    "A scalar field is defined by its expressions in terms of charts covering its domain (in general more than one chart is necessary to cover all the domain):"
   ]
  },
  {
   "cell_type": "code",
   "execution_count": null,
   "metadata": {},
   "outputs": [],
   "source": [
    "f = U.scalar_field({X_U: x+y^2+z^3}, name='f') ; print(f)"
   ]
  },
  {
   "cell_type": "markdown",
   "metadata": {},
   "source": [
    "座標で書かれた表式は、座標系をキーとしたPythonの辞書型データ`{X_U: x+y^2+z^3}`として渡されます。\n",
    "この例では、辞書には一つの座標系しかありませんので、次のような表現も可能です。\n",
    "\n",
    "<p>The coordinate expressions of the scalar field are passed as a Python dictionary, with the charts as keys, hence the writing <span style=\"font-family: courier new,courier;\">{X_U: x+y^2+z^3}</span>.</p>\n",
    "<p>Since in the present case, there is only one chart in the dictionary, an alternative writing is</p>"
   ]
  },
  {
   "cell_type": "code",
   "execution_count": null,
   "metadata": {},
   "outputs": [],
   "source": [
    "f = U.scalar_field({X_U:x+y^2+z^3}, name='f') \n",
    "print(f)"
   ]
  },
  {
   "cell_type": "markdown",
   "metadata": {},
   "source": [
    "$X_U$ は定義域 ($U$) の既定の座標系ですので、上記の表現では省略可能です。\n",
    "\n",
    "<p>Since X_U is the domain's default chart, it can be omitted in the above declaration:</p>"
   ]
  },
  {
   "cell_type": "code",
   "execution_count": null,
   "metadata": {},
   "outputs": [],
   "source": [
    "f = U.scalar_field(x+y^2+z^3, name='f') ; print(f)"
   ]
  },
  {
   "cell_type": "markdown",
   "metadata": {},
   "source": [
    "スカラー場は定義域となる多様体から実数体への写像ですから、それは点に対して働き、座標値に対して働くものではありません。\n",
    "As a mapping $U\\subset\\mathcal{M}\\longrightarrow\\mathbb{R}$, a scalar field acts on points, not on coordinates:"
   ]
  },
  {
   "cell_type": "code",
   "execution_count": null,
   "metadata": {},
   "outputs": [],
   "source": [
    "f(p)"
   ]
  },
  {
   "cell_type": "markdown",
   "metadata": {},
   "source": [
    "スカラー場の`display()`　メソッドは与えられた座標系でのスカラー場の表現を表示します。\n",
    "\n",
    "The method `display()` provides the expression of the scalar field in terms of a given chart:"
   ]
  },
  {
   "cell_type": "code",
   "execution_count": null,
   "metadata": {},
   "outputs": [],
   "source": [
    "f.display(X_U)"
   ]
  },
  {
   "cell_type": "markdown",
   "metadata": {},
   "source": [
    "引数なしで呼び出された場合、`display()`メソッドは　定義域 $U$ の上で定義された全ての座標系について、座標表現を表示します。\n",
    "（但し*副座標系*,即ち制限された副定義域のみで定義された座標系は除きます。）\n",
    "\n",
    "If no argument is provided, the method `display()` shows the coordinate expression of the scalar field in all the charts defined on the domain (except for *subcharts*, i.e. the restrictions of some chart to a subdomain):"
   ]
  },
  {
   "cell_type": "code",
   "execution_count": null,
   "metadata": {},
   "outputs": [],
   "source": [
    "f.display()"
   ]
  },
  {
   "cell_type": "markdown",
   "metadata": {},
   "source": [
    "スカラー場 $f$の　座標$(r,\\theta,\\phi)$ での表現はユーザによって与えられたものではなく、座標系の遷移写像で定義された座標変換のルールを使って自動的に導出されていることに注意してください。\n",
    "\n",
    "<p>Note that the expression of $f$ in terms of the coordinates $(r,\\theta,\\phi)$ has not been provided by the user but has been automatically computed by means of the change-of-coordinate formula declared above in the transition map. </p>"
   ]
  },
  {
   "cell_type": "code",
   "execution_count": null,
   "metadata": {},
   "outputs": [],
   "source": [
    "f.display(Y)"
   ]
  },
  {
   "cell_type": "markdown",
   "metadata": {},
   "source": [
    "各座標系で、スカラー場は座標の関数(`CoordFunctionSymb` のオブジェクト）として表現されます。このオブジェクトは`coord_function()`メソッドを通じてアクセス可能です。\n",
    "<p>In each chart, the scalar field is represented by a function of the chart coordinates (an object of the type <span style=\"font-family: courier new,courier;\">CoordFunctionSymb</span> described above), which is accessible via the method <span style=\"font-family: courier new,courier;\">coord_function()</span>:</p>"
   ]
  },
  {
   "cell_type": "code",
   "execution_count": null,
   "metadata": {},
   "outputs": [],
   "source": [
    "f.coord_function(X_U)"
   ]
  },
  {
   "cell_type": "code",
   "execution_count": null,
   "metadata": {},
   "outputs": [],
   "source": [
    "f.coord_function(X_U).display()"
   ]
  },
  {
   "cell_type": "code",
   "execution_count": null,
   "metadata": {},
   "outputs": [],
   "source": [
    "f.coord_function(Y)"
   ]
  },
  {
   "cell_type": "code",
   "execution_count": null,
   "metadata": {},
   "outputs": [],
   "source": [
    "f.coord_function(Y).display()"
   ]
  },
  {
   "cell_type": "markdown",
   "metadata": {},
   "source": [
    "\"生\"の記号的表現は、`expr()`メソッドの戻り値として返されます。\n",
    "<p>The \"raw\" symbolic expression is returned by the method <span style=\"font-family: courier new,courier;\">expr()</span>:</p>"
   ]
  },
  {
   "cell_type": "code",
   "execution_count": null,
   "metadata": {},
   "outputs": [],
   "source": [
    "f.expr(X_U)"
   ]
  },
  {
   "cell_type": "code",
   "execution_count": null,
   "metadata": {},
   "outputs": [],
   "source": [
    "f.expr(Y)"
   ]
  },
  {
   "cell_type": "code",
   "execution_count": null,
   "metadata": {},
   "outputs": [],
   "source": [
    "f.expr(Y) is f.coord_function(Y).expr()"
   ]
  },
  {
   "cell_type": "markdown",
   "metadata": {},
   "source": [
    "スカラー場は具体的な式ではなく、座標値の関数を用いて定義することも可能です。\n",
    "<p>A scalar field can also be defined by some unspecified function of the coordinates:</p>"
   ]
  },
  {
   "cell_type": "code",
   "execution_count": null,
   "metadata": {},
   "outputs": [],
   "source": [
    "h = U.scalar_field(function('H')(x, y, z), name='h') ; print(h)"
   ]
  },
  {
   "cell_type": "code",
   "execution_count": null,
   "metadata": {},
   "outputs": [],
   "source": [
    "h.display()"
   ]
  },
  {
   "cell_type": "code",
   "execution_count": null,
   "metadata": {},
   "outputs": [],
   "source": [
    "h.display(Y)"
   ]
  },
  {
   "cell_type": "code",
   "execution_count": null,
   "metadata": {},
   "outputs": [],
   "source": [
    "h(p) # remember that p is the point of coordinates (1,2,-1) in the chart X_U"
   ]
  },
  {
   "cell_type": "markdown",
   "metadata": {},
   "source": [
    "$f$の親(parent)は　すべての　$U$　上の滑らかなスカラー場からなる集合　$C^\\infty(U)$　です。これは$\\mathbb{R}$上の 可換代数です。\n",
    "\n",
    "<p>The parent of $f$ is the set $C^\\infty(U)$ of all smooth scalar fields on $U$, which is a commutative algebra over $\\mathbb{R}$:</p>"
   ]
  },
  {
   "cell_type": "code",
   "execution_count": null,
   "metadata": {},
   "outputs": [],
   "source": [
    "CU = f.parent() ; CU"
   ]
  },
  {
   "cell_type": "code",
   "execution_count": null,
   "metadata": {},
   "outputs": [],
   "source": [
    "print(CU)"
   ]
  },
  {
   "cell_type": "code",
   "execution_count": null,
   "metadata": {},
   "outputs": [],
   "source": [
    "CU.category()"
   ]
  },
  {
   "cell_type": "markdown",
   "metadata": {},
   "source": [
    "代数$CU$の基礎体となる環は実数体$\\mathbb{R}$です。それはSageMathではSymbolic Ring (SR)で表現されます。\n",
    "\n",
    "The base ring of the algebra is the field $\\mathbb{R}$, which is represented here by SageMath's Symbolic Ring (`SR`):"
   ]
  },
  {
   "cell_type": "code",
   "execution_count": null,
   "metadata": {},
   "outputs": [],
   "source": [
    "CU.base_ring()"
   ]
  },
  {
   "cell_type": "markdown",
   "metadata": {},
   "source": [
    "スカラー場の代数計算は代数構造を通じて定義されます。\n",
    "\n",
    "<p>Arithmetic operations on scalar fields are defined <span id=\"cell_outer_92\"><span id=\"cell_outer_91\"><span id=\"cell_outer_92\">through the algebra structure:</span></span></span></p>"
   ]
  },
  {
   "cell_type": "code",
   "execution_count": null,
   "metadata": {},
   "outputs": [],
   "source": [
    "s = f + 2*h ; print(s)"
   ]
  },
  {
   "cell_type": "code",
   "execution_count": null,
   "metadata": {},
   "outputs": [],
   "source": [
    "s.display()"
   ]
  },
  {
   "cell_type": "markdown",
   "metadata": {},
   "source": [
    "## 接空間：Tangent spaces\n",
    "\n",
    "点 $p$での多様体の接ベクトル空間を次のようにして取り出します。\n",
    "\n",
    "<p>The tangent vector space to the manifold at point $p$ is obtained as follows:</p>"
   ]
  },
  {
   "cell_type": "code",
   "execution_count": null,
   "metadata": {},
   "outputs": [],
   "source": [
    "Tp = M.tangent_space(p) ; Tp"
   ]
  },
  {
   "cell_type": "code",
   "execution_count": null,
   "metadata": {},
   "outputs": [],
   "source": [
    "print(Tp)"
   ]
  },
  {
   "cell_type": "markdown",
   "metadata": {},
   "source": [
    "$T_p\\, \\mathcal{M}$は　$\\mathbb{R}$上の3次元のベクトル空間です。\n",
    "\n",
    "<p>$T_p\\, \\mathcal{M}$ is a 3-dimensional vector space over $\\mathbb{R}$ (represented here by SageMath's Symbolic Ring (SR)) :</p>"
   ]
  },
  {
   "cell_type": "code",
   "execution_count": null,
   "metadata": {},
   "outputs": [],
   "source": [
    "print(Tp.category())"
   ]
  },
  {
   "cell_type": "code",
   "execution_count": null,
   "metadata": {},
   "outputs": [],
   "source": [
    "Tp.dim()"
   ]
  },
  {
   "cell_type": "markdown",
   "metadata": {},
   "source": [
    "<p>$T_p\\, \\mathcal{M}$のベクトルの基底は点$p$の周りのベクトルフレームから誘導されます。\n",
    "\n",
    "<p>$T_p\\, \\mathcal{M}$ is automatically endowed with vector bases deduced from the vector frames defined around the point:</p>"
   ]
  },
  {
   "cell_type": "code",
   "execution_count": null,
   "metadata": {},
   "outputs": [],
   "source": [
    "Tp.bases()"
   ]
  },
  {
   "cell_type": "markdown",
   "metadata": {},
   "source": [
    "対照的に、点 $q$ については、あらかじめ定義された基底は一つだけです。 $q$ はドメイン $U$ に含まれませんので、$(r,\\theta,\\phi)$ に関連づけれられていません。\n",
    "\n",
    "<p>For the tangent space at the point $q$, on the contrary, there is only one pre-defined basis, since $q$ is not in the domain $U$ of the frame associated with coordinates $(r,\\theta,\\phi)$:</p>"
   ]
  },
  {
   "cell_type": "code",
   "execution_count": null,
   "metadata": {},
   "outputs": [],
   "source": [
    "Tq = M.tangent_space(q)\n",
    "Tq.bases()"
   ]
  },
  {
   "cell_type": "markdown",
   "metadata": {},
   "source": [
    "ランダムな要素：\n",
    "\n",
    "<p>A random element:</p>"
   ]
  },
  {
   "cell_type": "code",
   "execution_count": null,
   "metadata": {},
   "outputs": [],
   "source": [
    "v = Tp.an_element() ; print(v)"
   ]
  },
  {
   "cell_type": "code",
   "execution_count": null,
   "metadata": {},
   "outputs": [],
   "source": [
    "v.display()"
   ]
  },
  {
   "cell_type": "code",
   "execution_count": null,
   "metadata": {},
   "outputs": [],
   "source": [
    "u = Tq.an_element() ; print(u)"
   ]
  },
  {
   "cell_type": "code",
   "execution_count": null,
   "metadata": {},
   "outputs": [],
   "source": [
    "u.display()"
   ]
  },
  {
   "cell_type": "markdown",
   "metadata": {},
   "source": [
    "上記の簡略化された表現(基底ベクトルに点$p$あるいは$q$の指定がない）から類推されるのとは異なり、$u$と$v$は異なるベクトルです。これらは異なったベクトル空間に属しています。:\n",
    "\n",
    "<p>Note that, despite what the above simplified writing may suggest (the mention of the point $p$ or $q$ is omitted in the basis vectors), $u$ and $v$ are different vectors, for they belong to different vector spaces:</p>"
   ]
  },
  {
   "cell_type": "code",
   "execution_count": null,
   "metadata": {},
   "outputs": [],
   "source": [
    "v.parent()"
   ]
  },
  {
   "cell_type": "code",
   "execution_count": null,
   "metadata": {},
   "outputs": [],
   "source": [
    "u.parent()"
   ]
  },
  {
   "cell_type": "markdown",
   "metadata": {},
   "source": [
    "とくに $u$と$v$を足し合わせることはできません。\n",
    "<p>In particular, it is not possible to add $u$ and $v$:</p>"
   ]
  },
  {
   "cell_type": "code",
   "execution_count": null,
   "metadata": {},
   "outputs": [],
   "source": [
    "try:\n",
    "    s = u + v\n",
    "except TypeError as exc:\n",
    "    print(\"Error: \" + str(exc))"
   ]
  },
  {
   "cell_type": "markdown",
   "metadata": {},
   "source": [
    "## べクトル場：Vector Fields\n",
    "全ての座標系は座標系のドメインの上のベクトルフレームを持っています。これは、`coordinate basis`と呼ばれます、\n",
    "\n",
    "<p>Each chart defines a vector frame on the chart domain: the so-called <strong>coordinate basis</strong>:</p>"
   ]
  },
  {
   "cell_type": "code",
   "execution_count": null,
   "metadata": {},
   "outputs": [],
   "source": [
    "X.frame()"
   ]
  },
  {
   "cell_type": "code",
   "execution_count": null,
   "metadata": {},
   "outputs": [],
   "source": [
    "X.frame().domain()  # this frame is defined on the whole manifold　このフレームは多様体全体で定義されています。"
   ]
  },
  {
   "cell_type": "code",
   "execution_count": null,
   "metadata": {},
   "outputs": [],
   "source": [
    "Y.frame()"
   ]
  },
  {
   "cell_type": "code",
   "execution_count": null,
   "metadata": {},
   "outputs": [],
   "source": [
    "Y.frame().domain() # this frame is defined only on U　このフレームは部分多様体 $U$でのみ定義されています。"
   ]
  },
  {
   "cell_type": "markdown",
   "metadata": {},
   "source": [
    "`frames()`メソッドによって、与えられた開空間で定義されたフレームのリストが入手可能です。\n",
    "\n",
    "<p>The list of frames defined on a given open subset is <span>returned by the method <span style=\"font-family: courier new,courier;\">frames()</span></span>:</p>"
   ]
  },
  {
   "cell_type": "code",
   "execution_count": null,
   "metadata": {},
   "outputs": [],
   "source": [
    "M.frames()"
   ]
  },
  {
   "cell_type": "code",
   "execution_count": null,
   "metadata": {},
   "outputs": [],
   "source": [
    "U.frames()"
   ]
  },
  {
   "cell_type": "code",
   "execution_count": null,
   "metadata": {},
   "outputs": [],
   "source": [
    "M.default_frame()"
   ]
  },
  {
   "cell_type": "markdown",
   "metadata": {},
   "source": [
    "`set_default_frame()`メソッドで別途明示的に指定されない限り、基底の座標系に関連づけられるベクトルフレームが基底のフレームです。\n",
    "\n",
    "<p>Unless otherwise specified (via the command <span style=\"font-family: courier new,courier;\">set_default_frame()</span>), the default frame is that associated with the default chart:</p>"
   ]
  },
  {
   "cell_type": "code",
   "execution_count": null,
   "metadata": {},
   "outputs": [],
   "source": [
    "M.default_frame() is M.default_chart().frame()"
   ]
  },
  {
   "cell_type": "code",
   "execution_count": null,
   "metadata": {},
   "outputs": [],
   "source": [
    "U.default_frame() is U.default_chart().frame()"
   ]
  },
  {
   "cell_type": "markdown",
   "metadata": {},
   "source": [
    "フレームのそれぞれの要素は指標を使って指定できます。\n",
    "\n",
    "<p>Individual elements of a frame can be accessed by means of their indices:</p>"
   ]
  },
  {
   "cell_type": "code",
   "execution_count": null,
   "metadata": {},
   "outputs": [],
   "source": [
    "e = U.default_frame() ; e2 = e[2] ; e2"
   ]
  },
  {
   "cell_type": "code",
   "execution_count": null,
   "metadata": {},
   "outputs": [],
   "source": [
    "print(e2)"
   ]
  },
  {
   "cell_type": "markdown",
   "metadata": {},
   "source": [
    "新しいベクトル場を次のようにして、定義できます。\n",
    "<p><span id=\"cell_outer_109\">We may define a new vector field as follows:</span></p>"
   ]
  },
  {
   "cell_type": "code",
   "execution_count": null,
   "metadata": {},
   "outputs": [],
   "source": [
    "v = e[2] + 2*x*e[3] ; print(v)"
   ]
  },
  {
   "cell_type": "code",
   "execution_count": null,
   "metadata": {},
   "outputs": [],
   "source": [
    "v.display()"
   ]
  },
  {
   "cell_type": "markdown",
   "metadata": {},
   "source": [
    "ベクトル場は与えられたベクトルフレームに関する要素を指定することで、定義できます。\n",
    "もしベクトルフレームが指定されていない場合には、既定のフレームがもちろん仮定されます。\n",
    "\n",
    "<p>A vector field can be defined by its components with respect to a given vector frame. When the latter is not specified, the open set's default frame is of course assumed:</p>"
   ]
  },
  {
   "cell_type": "code",
   "execution_count": null,
   "metadata": {},
   "outputs": [],
   "source": [
    "v = U.vector_field(name='v') # vector field defined on the open set U\n",
    "v[1] = 1+y\n",
    "v[2] = -x\n",
    "v[3] = x*y*z\n",
    "v.display()"
   ]
  },
  {
   "cell_type": "markdown",
   "metadata": {},
   "source": [
    "SageMath 8.8 以降では、ベクトルフィールドの成分はそれを宣言する時に設定することができます。従って、上記は次の宣言と等価です。\n",
    "\n",
    "Since version 8.8 of SageMath, it is possible to initialize the components of the vector field while declaring it, so that the above is equivalent to"
   ]
  },
  {
   "cell_type": "code",
   "execution_count": null,
   "metadata": {},
   "outputs": [],
   "source": [
    "v = U.vector_field(1+y, -x, x*y*z, name='v')  # valid only in SageMath 8.8 and higher\n",
    "v.display() "
   ]
  },
  {
   "cell_type": "markdown",
   "metadata": {},
   "source": [
    "$U$上のベクトル場はSageの **要素(element)** オブジェクトです。その　**親(parent)** は　$U$上で定義されたベクトル場の$\\mathfrak{X}(U)$集合に設定されています。\n",
    "\n",
    "<p>Vector fields on $U$ are Sage <em>element</em> objects, whose <em>parent</em> is the set $\\mathfrak{X}(U)$ of vector fields defined on $U$:</p>"
   ]
  },
  {
   "cell_type": "code",
   "execution_count": null,
   "metadata": {},
   "outputs": [],
   "source": [
    "v.parent()"
   ]
  },
  {
   "cell_type": "markdown",
   "metadata": {},
   "source": [
    "集合　$\\mathfrak{X}(U)$　は$U$で定義されたのスカラー場の可換代数$C^\\infty(U)$上のモジュールです。\n",
    "\n",
    "<p>The set $\\mathfrak{X}(U)$ is a module over the commutative algebra $C^\\infty(U)$ of scalar fields on $U$:</p>"
   ]
  },
  {
   "cell_type": "code",
   "execution_count": null,
   "metadata": {},
   "outputs": [],
   "source": [
    "print(v.parent())"
   ]
  },
  {
   "cell_type": "code",
   "execution_count": null,
   "metadata": {},
   "outputs": [],
   "source": [
    "print(v.parent().category())"
   ]
  },
  {
   "cell_type": "code",
   "execution_count": null,
   "metadata": {},
   "outputs": [],
   "source": [
    "v.parent().base_ring()"
   ]
  },
  {
   "cell_type": "markdown",
   "metadata": {},
   "source": [
    "ベクトル場はスカラー場に作用します。\n",
    "\n",
    "<p>A vector field acts on scalar fields:</p>"
   ]
  },
  {
   "cell_type": "code",
   "execution_count": null,
   "metadata": {},
   "outputs": [],
   "source": [
    "f.display()"
   ]
  },
  {
   "cell_type": "code",
   "execution_count": null,
   "metadata": {},
   "outputs": [],
   "source": [
    "s = v(f) ; print(s)"
   ]
  },
  {
   "cell_type": "code",
   "execution_count": null,
   "metadata": {},
   "outputs": [],
   "source": [
    "s.display()"
   ]
  },
  {
   "cell_type": "code",
   "execution_count": null,
   "metadata": {},
   "outputs": [],
   "source": [
    "e[3].display()"
   ]
  },
  {
   "cell_type": "code",
   "execution_count": null,
   "metadata": {},
   "outputs": [],
   "source": [
    "e[3](f).display()"
   ]
  },
  {
   "cell_type": "markdown",
   "metadata": {},
   "source": [
    "設定されていない要素は、0 と仮定されます。\n",
    "\n",
    "<p>Unset components are assumed to be zero:</p>"
   ]
  },
  {
   "cell_type": "code",
   "execution_count": null,
   "metadata": {},
   "outputs": [],
   "source": [
    "w = U.vector_field(name='w')\n",
    "w[2] = 3\n",
    "w.display()"
   ]
  },
  {
   "cell_type": "markdown",
   "metadata": {},
   "source": [
    "$U$上のベクトル場は座標系　$(r,\\theta,\\phi)$ に関係付けられているベクトルフレームで展開することができます。\n",
    "\n",
    "<p>A vector field on $U$ can be expanded in the vector frame associated with the chart $(r,\\theta,\\phi)$:</p>"
   ]
  },
  {
   "cell_type": "code",
   "execution_count": null,
   "metadata": {},
   "outputs": [],
   "source": [
    "v.display(Y.frame())"
   ]
  },
  {
   "cell_type": "markdown",
   "metadata": {},
   "source": [
    "既定の設定では、要素は既定の座標 $(x,y,z)$ を用いて、表現されます。これらの要素を 別の座標　$(r,\\theta,\\phi)$　を用いて表現するには、\n",
    "`display()`メソッドの2番目の引数として、対応する座標系を指定することが必要です。\n",
    "\n",
    "<p>By default, the components are expressed in terms of the default coordinates $(x,y,z)$. To express them in terms of the coordinates $(r,\\theta,\\phi)$, one should add the corresponding chart as the second argument of the method <span style=\"font-family: courier new,courier;\">display()</span>:</p>"
   ]
  },
  {
   "cell_type": "code",
   "execution_count": null,
   "metadata": {},
   "outputs": [],
   "source": [
    "v.display(Y.frame(), Y)"
   ]
  },
  {
   "cell_type": "code",
   "execution_count": null,
   "metadata": {},
   "outputs": [],
   "source": [
    "for i in M.irange(): \n",
    "    show(e[i].display(Y.frame(), Y))"
   ]
  },
  {
   "cell_type": "markdown",
   "metadata": {},
   "source": [
    "既定のフレームに関するテンソル場の要素は、コマンド `[:]` を使うことで、リストとして取り出せます。\n",
    "\n",
    "<p>The components of a tensor field w.r.t. the default frame can also be obtained as a list, via the command <span style=\"font-family: courier new,courier;\">[:]</span>:</p>"
   ]
  },
  {
   "cell_type": "code",
   "execution_count": null,
   "metadata": {},
   "outputs": [],
   "source": [
    "v[:]"
   ]
  },
  {
   "cell_type": "markdown",
   "metadata": {},
   "source": [
    "別の方法として、`display_comp()`メソッドを使うこともできます。\n",
    "\n",
    "<p>An alternative is to use the method <span style=\"font-family: courier new,courier;\">display_comp()</span>:</p>"
   ]
  },
  {
   "cell_type": "code",
   "execution_count": null,
   "metadata": {},
   "outputs": [],
   "source": [
    "v.display_comp()"
   ]
  },
  {
   "cell_type": "markdown",
   "metadata": {},
   "source": [
    "別のフレームについての要素を取り出すには、`comp()` メソッドを通じて要素を取り出すフレームを指定する必要があります。\n",
    "\n",
    "<p>To obtain the components w.r.t. to another frame, one may go through the method <span style=\"font-family: courier new,courier;\">comp()</span> and specify the frame:</p>"
   ]
  },
  {
   "cell_type": "code",
   "execution_count": null,
   "metadata": {},
   "outputs": [],
   "source": [
    "v.comp(Y.frame())[:]"
   ]
  },
  {
   "cell_type": "markdown",
   "metadata": {},
   "source": [
    "しかしながら、最初の引数にフレームを与える　短縮表現も用意されています。\n",
    "\n",
    "<p>However a shortcut is to provide the frame as the first argument of the square brackets:</p>"
   ]
  },
  {
   "cell_type": "code",
   "execution_count": null,
   "metadata": {},
   "outputs": [],
   "source": [
    "v[Y.frame(), :]"
   ]
  },
  {
   "cell_type": "code",
   "execution_count": null,
   "metadata": {},
   "outputs": [],
   "source": [
    "v.display_comp(Y.frame())"
   ]
  },
  {
   "cell_type": "markdown",
   "metadata": {},
   "source": [
    "要素は、既定の座標系の座標で表現されます。これらの別の座標系の座標、例えば$(r,\\theta,\\phi)$、で表現したい時には、\n",
    "`[]`の最後の引数として、座標系の名前を与えます。\n",
    "\n",
    "<p>Components are shown expressed in terms of the default's coordinates; to get them in terms of the coordinates $(r,\\theta,\\phi)$ instead, add the chart name as the last argument in the square brackets:</p>"
   ]
  },
  {
   "cell_type": "code",
   "execution_count": null,
   "metadata": {},
   "outputs": [],
   "source": [
    "v[Y.frame(), :, Y]"
   ]
  },
  {
   "cell_type": "markdown",
   "metadata": {},
   "source": [
    "あるいは、`display_comp()` の引数に座標系の名前を与えます。\n",
    "\n",
    "<p>or specify the chart in <span style=\"font-family: courier new,courier;\">display_comp()</span>:<span style=\"font-family: courier new,courier;\"><br /></span></p>"
   ]
  },
  {
   "cell_type": "code",
   "execution_count": null,
   "metadata": {},
   "outputs": [],
   "source": [
    "v.display_comp(Y.frame(), chart=Y)"
   ]
  },
  {
   "cell_type": "markdown",
   "metadata": {},
   "source": [
    "ベクトル場の成分を座標についての表現ではなく、スカラーフィールドとして取り出すために、二重の括弧 `[[]]` を使います。\n",
    "\n",
    "To get some vector component as a scalar field instead of a coordinate expression, use double square brackets:"
   ]
  },
  {
   "cell_type": "code",
   "execution_count": null,
   "metadata": {},
   "outputs": [],
   "source": [
    "print(v[[1]])"
   ]
  },
  {
   "cell_type": "code",
   "execution_count": null,
   "metadata": {},
   "outputs": [],
   "source": [
    "v[[1]].display()"
   ]
  },
  {
   "cell_type": "code",
   "execution_count": null,
   "metadata": {},
   "outputs": [],
   "source": [
    "v[[1]].expr(X_U)"
   ]
  },
  {
   "cell_type": "markdown",
   "metadata": {},
   "source": [
    "ベクトル場は関数オブジェクトを要素として定義することも可能です。\n",
    "\n",
    "<p>A vector field can be defined with components being unspecified functions of the coordinates:</p>"
   ]
  },
  {
   "cell_type": "code",
   "execution_count": null,
   "metadata": {},
   "outputs": [],
   "source": [
    "u = U.vector_field(name='u')\n",
    "u[:] = [function('u_x')(x,y,z), \n",
    "        function('u_y')(x,y,z), \n",
    "        function('u_z')(x,y,z)]\n",
    "u.display()"
   ]
  },
  {
   "cell_type": "code",
   "execution_count": null,
   "metadata": {},
   "outputs": [],
   "source": [
    "s = v + u ; s.set_name('s') ; s.display()"
   ]
  },
  {
   "cell_type": "markdown",
   "metadata": {},
   "source": [
    "### ある点でのベクトル場の値：Values of vector fields at a given point\n",
    "多様体中のある点でのベクトル場の値は`at()`メソッドを通じて入手します。\n",
    "\n",
    "<p>The value of a vector field at some point of the manifold is obtained via the method <span style=\"font-family: courier new,courier;\">at()</span>:</p>"
   ]
  },
  {
   "cell_type": "code",
   "execution_count": null,
   "metadata": {},
   "outputs": [],
   "source": [
    "vp = v.at(p) ; print(vp)"
   ]
  },
  {
   "cell_type": "code",
   "execution_count": null,
   "metadata": {},
   "outputs": [],
   "source": [
    "vp.display()"
   ]
  },
  {
   "cell_type": "markdown",
   "metadata": {},
   "source": [
    "座標系　$X_U$ = $(x,y,z)$ を使った、点$p$の座標と、ベクトル場$v$の要素は次のようになっていたことを思い出してください。\n",
    "\n",
    "<p>Indeed, recall that, w.r.t. chart X_U=$(x,y,z)$,  the coordinates of the point $p$ and the components of the vector field $v$ are</p>"
   ]
  },
  {
   "cell_type": "code",
   "execution_count": null,
   "metadata": {},
   "outputs": [],
   "source": [
    "p.coord(X_U)"
   ]
  },
  {
   "cell_type": "code",
   "execution_count": null,
   "metadata": {},
   "outputs": [],
   "source": [
    "v.display(X_U.frame(), X_U)"
   ]
  },
  {
   "cell_type": "markdown",
   "metadata": {},
   "source": [
    "記述を簡単にするために、点$p$でのベクトル場の値とベクトル場は同じ記号($v$)を使って表示されています。`set_name()`メソッドを使うことで、\n",
    "表示に使われる記号を変更できます。\n",
    "\n",
    "<p>Note that to simplify the writing, the symbol used to denote the value of the vector field at point $p$ is the same as that of the vector field itself (namely $v$); this can be changed by the method <span style=\"font-family: courier new,courier;\">set_name()</span>:</p>"
   ]
  },
  {
   "cell_type": "code",
   "execution_count": null,
   "metadata": {},
   "outputs": [],
   "source": [
    "vp.set_name(latex_name='v|_p')\n",
    "vp.display()"
   ]
  },
  {
   "cell_type": "markdown",
   "metadata": {},
   "source": [
    "もちろん、$v|_p$　は$p$の接ベクトル空間に属しています。\n",
    "\n",
    "<p>Of course, $v|_p$ belongs to the tangent space at $p$:</p>"
   ]
  },
  {
   "cell_type": "code",
   "execution_count": null,
   "metadata": {},
   "outputs": [],
   "source": [
    "vp.parent()"
   ]
  },
  {
   "cell_type": "code",
   "execution_count": null,
   "metadata": {},
   "outputs": [],
   "source": [
    "vp in M.tangent_space(p)"
   ]
  },
  {
   "cell_type": "code",
   "execution_count": null,
   "metadata": {},
   "outputs": [],
   "source": [
    "up = u.at(p) ; print(up)"
   ]
  },
  {
   "cell_type": "code",
   "execution_count": null,
   "metadata": {},
   "outputs": [],
   "source": [
    "up.display()"
   ]
  },
  {
   "cell_type": "markdown",
   "metadata": {},
   "source": [
    "## 1-形式: 1-forms\n",
    "$\\mathcal{M}$の1-形式とは、線形形式の場です。例えば、スカラー場の微分は1ー形式です。\n",
    " \n",
    "<p>A 1-form on $\\mathcal{M}$ is a field of linear forms. For instance, it can be the <strong>differential of a scalar field</strong>:</p>"
   ]
  },
  {
   "cell_type": "code",
   "execution_count": null,
   "metadata": {},
   "outputs": [],
   "source": [
    "df = f.differential() ; print(df)"
   ]
  },
  {
   "cell_type": "code",
   "execution_count": null,
   "metadata": {},
   "outputs": [],
   "source": [
    "df.display()"
   ]
  },
  {
   "cell_type": "markdown",
   "metadata": {},
   "source": [
    "上記の表現では、1-形式は座標系 $(x,y,z)$から導かれる基底$(\\mathrm{d}x, \\mathrm{d}y, \\mathrm{d}z)$で展開されています。\n",
    "この基底は`coframe()`メソッドで取り出すことが可能です。\n",
    "\n",
    "<p>In the above writing, the 1-form is expanded over the basis $(\\mathrm{d}x, \\mathrm{d}y, \\mathrm{d}z)$ associated with the chart $(x,y,z)$. This basis can be accessed via the method <span style=\"font-family: courier new,courier;\">coframe()</span>:</p>"
   ]
  },
  {
   "cell_type": "code",
   "execution_count": null,
   "metadata": {},
   "outputs": [],
   "source": [
    "dX = X.coframe() ; dX"
   ]
  },
  {
   "cell_type": "markdown",
   "metadata": {},
   "source": [
    "多様体 $M$の上に存在する全ての coframe のリストは `coframes()` メソッドを使って取り出します。\n",
    "\n",
    "<p>The list of all coframes defined on a given manifold open subset is returned by the method <span style=\"font-family: courier new,courier;\">coframes()</span>:</p>"
   ]
  },
  {
   "cell_type": "code",
   "execution_count": null,
   "metadata": {},
   "outputs": [],
   "source": [
    "M.coframes()"
   ]
  },
  {
   "cell_type": "markdown",
   "metadata": {},
   "source": [
    "ベクトル場として、多様体上の点 $p$ における微分形式の値は `at()` メソッドで取り出します。\n",
    "\n",
    "<p>As for a vector field, the value of the differential form at some point on the manifold is obtained by the method <span style=\"font-family: courier new,courier;\">at()</span>:</p>"
   ]
  },
  {
   "cell_type": "code",
   "execution_count": null,
   "metadata": {},
   "outputs": [],
   "source": [
    "dfp = df.at(p) ; print(dfp)"
   ]
  },
  {
   "cell_type": "code",
   "execution_count": null,
   "metadata": {},
   "outputs": [],
   "source": [
    "dfp.display()"
   ]
  },
  {
   "cell_type": "markdown",
   "metadata": {},
   "source": [
    "なお、$p$の座標は次のようなものでした。\n",
    "<p>Recall that</p>"
   ]
  },
  {
   "cell_type": "code",
   "execution_count": null,
   "metadata": {},
   "outputs": [],
   "source": [
    "p.coord()"
   ]
  },
  {
   "cell_type": "markdown",
   "metadata": {},
   "source": [
    "線形形式　$\\mathrm{d}f|_p$ は$p$の接ベクトル空間の双対に所属しています。\n",
    "\n",
    "<p>The linear form $\\mathrm{d}f|_p$ belongs to the dual of the tangent vector space at $p$:</p>"
   ]
  },
  {
   "cell_type": "code",
   "execution_count": null,
   "metadata": {},
   "outputs": [],
   "source": [
    "dfp.parent()"
   ]
  },
  {
   "cell_type": "code",
   "execution_count": null,
   "metadata": {},
   "outputs": [],
   "source": [
    "dfp.parent() is M.tangent_space(p).dual()"
   ]
  },
  {
   "cell_type": "markdown",
   "metadata": {},
   "source": [
    "その結果、線形形式を$p$の接ベクトルに作用させると、実数が結果として得られます。\n",
    "\n",
    "<p>As such, it is acting on vectors at $p$, yielding a real number:</p>"
   ]
  },
  {
   "cell_type": "code",
   "execution_count": null,
   "metadata": {},
   "outputs": [],
   "source": [
    "print(vp) ; vp.display()"
   ]
  },
  {
   "cell_type": "code",
   "execution_count": null,
   "metadata": {},
   "outputs": [],
   "source": [
    "dfp(vp)"
   ]
  },
  {
   "cell_type": "code",
   "execution_count": null,
   "metadata": {},
   "outputs": [],
   "source": [
    "print(up) ; up.display()"
   ]
  },
  {
   "cell_type": "code",
   "execution_count": null,
   "metadata": {},
   "outputs": [],
   "source": [
    "dfp(up)"
   ]
  },
  {
   "cell_type": "markdown",
   "metadata": {},
   "source": [
    "<p>The differential 1-form of the unspecified scalar field $h$:</p>"
   ]
  },
  {
   "cell_type": "code",
   "execution_count": null,
   "metadata": {},
   "outputs": [],
   "source": [
    "show(h.display())\n",
    "dh = h.differential() ; \n",
    "dh.display()"
   ]
  },
  {
   "cell_type": "markdown",
   "metadata": {},
   "source": [
    "1-形式を何もないところから、定義することもできます。\n",
    "\n",
    "<p>A 1-form <span id=\"cell_outer_132\">can also be defined from scratch:</span></p>"
   ]
  },
  {
   "cell_type": "code",
   "execution_count": null,
   "metadata": {},
   "outputs": [],
   "source": [
    "om = U.one_form(name='omega', latex_name=r'\\omega')\n",
    "print(om)"
   ]
  },
  {
   "cell_type": "markdown",
   "metadata": {},
   "source": [
    "与えられたcoframeの要素をあたえることで、この1-形式を特定できます。\n",
    "\n",
    "<p>It can be specified by providing its components in a given coframe:</p>"
   ]
  },
  {
   "cell_type": "code",
   "execution_count": null,
   "metadata": {},
   "outputs": [],
   "source": [
    "om[:] = [x^2+y^2, z, x-z]    # components in the default coframe (dx,dy,dz)\n",
    "om.display()"
   ]
  },
  {
   "cell_type": "markdown",
   "metadata": {},
   "source": [
    "\n",
    "SageMath 8.8 以降では、1-形式の成分を宣言時に初期化することができます。上記の式は次の式と等価です。\n",
    "\n",
    "Since version 8.8 of SageMath, it is possible to initialize the components of the 1-form while declaring it, so that the above is equivalent to"
   ]
  },
  {
   "cell_type": "code",
   "execution_count": null,
   "metadata": {},
   "outputs": [],
   "source": [
    "om = U.one_form(x^2+y^2, z, x-z, name='omega',  # valid only in \n",
    "                latex_name=r'\\omega')           # SageMath 8.8 and higher\n",
    "om.display()"
   ]
  },
  {
   "cell_type": "markdown",
   "metadata": {},
   "source": [
    "もちろん、既定のフレームとは異なるフレームでの要素を指定することもできます。\n",
    "<p>Of course, one may set the components in a frame different from the default one:</p>"
   ]
  },
  {
   "cell_type": "code",
   "execution_count": null,
   "metadata": {},
   "outputs": [],
   "source": [
    "om[Y.frame(), :, Y] = [r*sin(th)*cos(ph), 0, r*sin(th)*sin(ph)]\n",
    "om.display(Y.frame(), Y)"
   ]
  },
  {
   "cell_type": "markdown",
   "metadata": {},
   "source": [
    "この場合、coframe $(\\mathrm{d}x,\\mathrm{d}y,\\mathrm{d}z)$での要素は自動的に更新されます。\n",
    "\n",
    "<p>The components in the coframe $(\\mathrm{d}x,\\mathrm{d}y,\\mathrm{d}z)$ are updated automatically:</p>"
   ]
  },
  {
   "cell_type": "code",
   "execution_count": null,
   "metadata": {},
   "outputs": [],
   "source": [
    "om.display()"
   ]
  },
  {
   "cell_type": "markdown",
   "metadata": {},
   "source": [
    "元の要素の値に戻してみます。\n",
    "\n",
    "<p>Let us revert to the values set previously:</p>"
   ]
  },
  {
   "cell_type": "code",
   "execution_count": null,
   "metadata": {},
   "outputs": [],
   "source": [
    "om[:] = [x^2+y^2, z, x-z]\n",
    "om.display()"
   ]
  },
  {
   "cell_type": "markdown",
   "metadata": {},
   "source": [
    "今度は、coframe $(\\mathrm{d}r, \\mathrm{d}\\theta,\\mathrm{d}\\phi)$ についての要素は自動的に更新されています。\n",
    "\n",
    "<p>This time, the components in the coframe $(\\mathrm{d}r, \\mathrm{d}\\theta,\\mathrm{d}\\phi)$ are those that are updated:</p>"
   ]
  },
  {
   "cell_type": "code",
   "execution_count": null,
   "metadata": {},
   "outputs": [],
   "source": [
    "om.display(Y.frame(), Y)"
   ]
  },
  {
   "cell_type": "markdown",
   "metadata": {},
   "source": [
    "1-形式は、ベクトル場に作用して、スカラー場を与えます。\n",
    "\n",
    "<p>A 1-form acts on vector fields, resulting in a scalar field:</p>"
   ]
  },
  {
   "cell_type": "code",
   "execution_count": null,
   "metadata": {},
   "outputs": [],
   "source": [
    "print(om(v)) ; om(v).display()"
   ]
  },
  {
   "cell_type": "code",
   "execution_count": null,
   "metadata": {},
   "outputs": [],
   "source": [
    "print(df(v)) ; df(v).display()"
   ]
  },
  {
   "cell_type": "code",
   "execution_count": null,
   "metadata": {},
   "outputs": [],
   "source": [
    "om(u).display()"
   ]
  },
  {
   "cell_type": "markdown",
   "metadata": {},
   "source": [
    "スカラー場$f$から導かれた1ー形式については、次の恒等式が成立します。\n",
    "\n",
    "<p>In the case of a differential 1-form, the following identity holds:</p>"
   ]
  },
  {
   "cell_type": "code",
   "execution_count": null,
   "metadata": {},
   "outputs": [],
   "source": [
    "df(v) == v(f)"
   ]
  },
  {
   "cell_type": "markdown",
   "metadata": {},
   "source": [
    "1-形式は、*親*が $U$上で定義された全ての1ー形式からなる$C^\\infty(U)$-module $\\Omega^{1}(U)$　であるSageの *element* オブジェクトです。\n",
    "\n",
    "1-forms are Sage *element* objects, whose *parent* is the $C^\\infty(U)$-module $\\Omega^{1}(U)$ of all 1-forms defined on $U$:"
   ]
  },
  {
   "cell_type": "code",
   "execution_count": null,
   "metadata": {},
   "outputs": [],
   "source": [
    "df.parent()"
   ]
  },
  {
   "cell_type": "code",
   "execution_count": null,
   "metadata": {},
   "outputs": [],
   "source": [
    "print(df.parent())"
   ]
  },
  {
   "cell_type": "code",
   "execution_count": null,
   "metadata": {},
   "outputs": [],
   "source": [
    "print(om.parent())"
   ]
  },
  {
   "cell_type": "markdown",
   "metadata": {},
   "source": [
    "$\\Omega^{1}(U)$は自由モジュール $\\mathfrak{X}(U)$の双対です。\n",
    "\n",
    "$\\Omega^{1}(U)$ is actually the dual of the free module $\\mathfrak{X}(U)$:"
   ]
  },
  {
   "cell_type": "code",
   "execution_count": null,
   "metadata": {},
   "outputs": [],
   "source": [
    "df.parent() is v.parent().dual()"
   ]
  },
  {
   "cell_type": "markdown",
   "metadata": {},
   "source": [
    "## 微分形式と外積, 外微分\n",
    "二つの1ー形式の **外積** は `wedge()` メソッドを使って求められます。その結果は 2-形式となります。\n",
    "\n",
    "<h2>Differential forms and exterior calculus</h2>\n",
    "<p>The <strong>exterior product</strong> of two 1-forms is taken via the method <span style=\"font-family: courier new,courier;\">wedge()</span> and results in a 2-form:</p>"
   ]
  },
  {
   "cell_type": "code",
   "execution_count": null,
   "metadata": {},
   "outputs": [],
   "source": [
    "a = om.wedge(df) ; print(a) ; a.display()"
   ]
  },
  {
   "cell_type": "markdown",
   "metadata": {},
   "source": [
    "行列形式での要素の表示：\n",
    "<p>A matrix view of the components:</p>"
   ]
  },
  {
   "cell_type": "code",
   "execution_count": null,
   "metadata": {},
   "outputs": [],
   "source": [
    "a[:]"
   ]
  },
  {
   "cell_type": "markdown",
   "metadata": {},
   "source": [
    "歪対称性から導かれる余分な要素を省き、ゼロでない成分だけを表示します：\n",
    "<p>Displaying only the non-vanishing components, skipping the redundant ones (i.e. those that can be deduced by antisymmetry):</p>"
   ]
  },
  {
   "cell_type": "code",
   "execution_count": null,
   "metadata": {},
   "outputs": [],
   "source": [
    "a.display_comp(only_nonredundant=True)"
   ]
  },
  {
   "cell_type": "markdown",
   "metadata": {},
   "source": [
    "2-形式$\\omega\\wedge\\mathrm{d}f$を　コフレーム$(\\mathrm{d}r,\\mathrm{d}\\theta,\\mathrm{d}\\phi)$ での成分に展開することもできます。\n",
    "\n",
    "<p>The 2-form $\\omega\\wedge\\mathrm{d}f$ can be expanded on the $(\\mathrm{d}r,\\mathrm{d}\\theta,\\mathrm{d}\\phi)$ coframe:</p>"
   ]
  },
  {
   "cell_type": "code",
   "execution_count": null,
   "metadata": {},
   "outputs": [],
   "source": [
    "a.display(Y.frame(), Y)"
   ]
  },
  {
   "cell_type": "markdown",
   "metadata": {},
   "source": [
    "$A:=\\omega\\wedge\\mathrm{d}f$　は2-形式として 二組のベクトルに作用させることができ、また歪対称です。\n",
    "\n",
    "<p>As a 2-form, $A:=\\omega\\wedge\\mathrm{d}f$ can be applied to a pair of vectors and is antisymmetric:</p>"
   ]
  },
  {
   "cell_type": "code",
   "execution_count": null,
   "metadata": {},
   "outputs": [],
   "source": [
    "a.set_name('A')\n",
    "print(a(u,v)) ; a(u,v).display()"
   ]
  },
  {
   "cell_type": "code",
   "execution_count": null,
   "metadata": {},
   "outputs": [],
   "source": [
    "a(u,v) == - a(v,u)"
   ]
  },
  {
   "cell_type": "code",
   "execution_count": null,
   "metadata": {},
   "outputs": [],
   "source": [
    "a.symmetries()"
   ]
  },
  {
   "cell_type": "markdown",
   "metadata": {},
   "source": [
    "ある微分形式の **外微分** は以下のように、`exterior_derivative()`メソッドを使って求めます。\n",
    "\n",
    "<p>The <strong>exterior derivative</strong>  of a differential form:</p>"
   ]
  },
  {
   "cell_type": "code",
   "execution_count": null,
   "metadata": {},
   "outputs": [],
   "source": [
    "dom = om.exterior_derivative() ; print(dom) ; dom.display()"
   ]
  },
  {
   "cell_type": "markdown",
   "metadata": {},
   "source": [
    "`exterior_derivative()`メソッドを作用させる代わりに、関数 `diff()` を使うこともできます(SageMath 9.2以降で利用可能）。\n",
    "\n",
    "Instead of invoking the method `exterior_derivative()`, one can use the function `diff()` (available in SageMath 9.2 or higher):"
   ]
  },
  {
   "cell_type": "code",
   "execution_count": null,
   "metadata": {},
   "outputs": [],
   "source": [
    "dom = diff(om)\n",
    "dom"
   ]
  },
  {
   "cell_type": "code",
   "execution_count": null,
   "metadata": {},
   "outputs": [],
   "source": [
    "da = diff(a) ; print(da) ; da.display()"
   ]
  },
  {
   "cell_type": "markdown",
   "metadata": {},
   "source": [
    "**外微分** を続けて作用させると、結果は0になります。\n",
    "\n",
    "<p>The exterior derivative is nilpotent:</p>"
   ]
  },
  {
   "cell_type": "code",
   "execution_count": null,
   "metadata": {},
   "outputs": [],
   "source": [
    "ddf = diff(df) ; ddf.display()"
   ]
  },
  {
   "cell_type": "code",
   "execution_count": null,
   "metadata": {},
   "outputs": [],
   "source": [
    "ddom = diff(dom) ; ddom.display()"
   ]
  },
  {
   "cell_type": "markdown",
   "metadata": {},
   "source": [
    "## Lie 微分: Lie derivative\n",
    "テンソル場のあるベクトル場に関するLie微分は、`lie_derivative()` メソッドを用いて計算します。\n",
    "\n",
    "<p>The Lie derivative of any tensor field with respect to a vector field is computed by the method <span style=\"font-family: courier new,courier;\">lie_derivative()</span>, with the vector field as the argument:</p>"
   ]
  },
  {
   "cell_type": "code",
   "execution_count": null,
   "metadata": {},
   "outputs": [],
   "source": [
    "lv_om = om.lie_derivative(v) ; print(lv_om) ; \n",
    "lv_om.display()"
   ]
  },
  {
   "cell_type": "code",
   "execution_count": null,
   "metadata": {},
   "outputs": [],
   "source": [
    "lu_dh = dh.lie_derivative(u) ; print(lu_dh) ; \n",
    "lu_dh.display()"
   ]
  },
  {
   "cell_type": "markdown",
   "metadata": {},
   "source": [
    "*Cartanの恒等式*を確かめてみましょう\n",
    "\n",
    "1-形式$\\omega$についての*Cartanの恒等式*\n",
    "$$\\mathcal{L}_v \\omega = v\\cdot \\mathrm{d}\\omega + \\mathrm{d}\\langle \\omega, v\\rangle$$\n",
    "2-形式$\\omega$についての*Cartanの恒等式*\n",
    "$$\\mathcal{L}_v A = v\\cdot \\mathrm{d}A + \\mathrm{d}(v\\cdot A)$$\n",
    "\n",
    "<p>Let us check <strong>Cartan identity</strong> on the 1-form $\\omega$:</p>\n",
    "<p>$\\mathcal{L}_v \\omega = v\\cdot \\mathrm{d}\\omega + \\mathrm{d}\\langle \\omega, v\\rangle$</p>\n",
    "<p>and on the 2-form $A$:</p>\n",
    "<p>$\\mathcal{L}_v A = v\\cdot \\mathrm{d}A + \\mathrm{d}(v\\cdot A)$</p>"
   ]
  },
  {
   "cell_type": "code",
   "execution_count": null,
   "metadata": {},
   "outputs": [],
   "source": [
    "om.lie_derivative(v) == v.contract(diff(om)) + diff(om(v))"
   ]
  },
  {
   "cell_type": "code",
   "execution_count": null,
   "metadata": {},
   "outputs": [],
   "source": [
    "a.lie_derivative(v) == v.contract(diff(a)) + diff(v.contract(a))"
   ]
  },
  {
   "cell_type": "markdown",
   "metadata": {},
   "source": [
    "ベクトル場の別のベクトル場によるLie微分は、二つのベクトル場による **交換子積**(あるいは **交換子**) になります。\n",
    "\n",
    "<p>The Lie derivative of a vector field along another one is the <strong>commutator</strong> of the two vectors fields:</p>"
   ]
  },
  {
   "cell_type": "code",
   "execution_count": null,
   "metadata": {},
   "outputs": [],
   "source": [
    "v.lie_derivative(u)(f) == u(v(f)) - v(u(f))"
   ]
  },
  {
   "cell_type": "markdown",
   "metadata": {},
   "source": [
    "## 任意の階数のテンソル場:Tensor fields of arbitrary rank\n",
    "これまでに、次のようなテンソル場をみてきました。\n",
    "\n",
    " - (0,0)形式のテンソル ：スカラー場,\n",
    " -  (1,0) 形式のテンソル :ベクトル場,\n",
    " -  (0,1)形式のテンソル ：1ー形式あるいは一階の微分形式,\n",
    " -  (0,2)形式で歪対称のテンソル ：2ー形式あるいは二階の微分形式.\n",
    "\n",
    "より一般に、$(p,q)$型のテンソル場をSageManifoldsに導入することができます。\n",
    "例えば、副多様体$U$上の(1,2)型のテンソル場を次のように宣言します。\n",
    "\n",
    "Up to now, we have encountered tensor fields\n",
    "\n",
    "- of type (0,0) (i.e. scalar fields),\n",
    "- of type (1,0) (i.e. vector fields),\n",
    "- of type (0,1) (i.e. 1-forms),\n",
    "- of type (0,2) and antisymmetric (i.e. 2-forms).\n",
    "\n",
    "More generally, tensor fields of any type $(p,q)$ can be introduced in SageMath. For instance a tensor field of type (1,2) on the open subset $U$ is declared as follows:"
   ]
  },
  {
   "cell_type": "code",
   "execution_count": null,
   "metadata": {},
   "outputs": [],
   "source": [
    "t = U.tensor_field(1, 2, name='T') ; print(t)"
   ]
  },
  {
   "cell_type": "markdown",
   "metadata": {},
   "source": [
    "ベクトルや1-形式と同じように、テンソル場の既定のフレームに関する要素を `[]`演算子を使って設定できます。\n",
    "\n",
    "<p>As for vectors or 1-forms, the tensor's components with respect to the domain's default frame are set by means of square brackets:</p>"
   ]
  },
  {
   "cell_type": "code",
   "execution_count": null,
   "metadata": {},
   "outputs": [],
   "source": [
    "t[1,2,1] = 1 + x^2\n",
    "t[3,2,1] = x*y*z"
   ]
  },
  {
   "cell_type": "markdown",
   "metadata": {},
   "source": [
    "設定されていない要素は0です。\n",
    "<p>Unset components are zero:</p>"
   ]
  },
  {
   "cell_type": "code",
   "execution_count": null,
   "metadata": {},
   "outputs": [],
   "source": [
    "t.display()"
   ]
  },
  {
   "cell_type": "code",
   "execution_count": null,
   "metadata": {},
   "outputs": [],
   "source": [
    "t[:]"
   ]
  },
  {
   "cell_type": "markdown",
   "metadata": {},
   "source": [
    "0 でない要素を表示します。\n",
    "<p>Display of the nonzero components:</p>"
   ]
  },
  {
   "cell_type": "code",
   "execution_count": null,
   "metadata": {},
   "outputs": [],
   "source": [
    "t.display_comp()"
   ]
  },
  {
   "cell_type": "markdown",
   "metadata": {},
   "source": [
    "二重括弧`[[]]`演算子は既定のフレームに関する成分をスカラー場として返します。一方、一重の括弧`[]`演算子はこのスカラー場の既定の座標系についての表現を返します。\n",
    "<p>Double square brackets return the component (still w.r.t. the default frame) as a scalar field, while single square brackets return the expression of this scalar field in terms of the domain's default coordinates:</p>"
   ]
  },
  {
   "cell_type": "code",
   "execution_count": null,
   "metadata": {},
   "outputs": [],
   "source": [
    "print(t[[1,2,1]]) ; \n",
    "t[[1,2,1]].display()"
   ]
  },
  {
   "cell_type": "code",
   "execution_count": null,
   "metadata": {},
   "outputs": [],
   "source": [
    "print(t[1,2,1])\n",
    "t[1,2,1]"
   ]
  },
  {
   "cell_type": "markdown",
   "metadata": {},
   "source": [
    "(1,2)型のテンソル場は　(1-形式、ベクトル場、ベクトル場）からなる3成分のタプルをスカラー場に写像します。\n",
    "\n",
    "<p>A tensor field of type (1,2) maps a 3-tuple (1-form, vector field, vector field) to a scalar field:</p>"
   ]
  },
  {
   "cell_type": "code",
   "execution_count": null,
   "metadata": {},
   "outputs": [],
   "source": [
    "print(t(om, u, v))\n",
    "t(om, u, v).display()"
   ]
  },
  {
   "cell_type": "markdown",
   "metadata": {},
   "source": [
    "ベクトル場や微分形式と同じように、多様体に定義されたどのフレームついてのテンソル場の成分も取り出せます。\n",
    "\n",
    "<p>As for vectors and differential forms, the tensor components can be taken in any frame defined on the manifold:</p>"
   ]
  },
  {
   "cell_type": "code",
   "execution_count": null,
   "metadata": {},
   "outputs": [],
   "source": [
    "t[Y.frame(), 1,1,1, Y]"
   ]
  },
  {
   "cell_type": "markdown",
   "metadata": {},
   "source": [
    "## テンソル計算：Tensor calculus\n",
    "テンソル積$\\otimes$ は `*`で示されます。\n",
    "\n",
    "<p>The<strong> tensor product</strong> $\\otimes$ is denoted by `*`:</p>"
   ]
  },
  {
   "cell_type": "code",
   "execution_count": null,
   "metadata": {},
   "outputs": [],
   "source": [
    "print(v.tensor_type())\n",
    "print(a.tensor_type())"
   ]
  },
  {
   "cell_type": "code",
   "execution_count": null,
   "metadata": {},
   "outputs": [],
   "source": [
    "b = v*a \n",
    "print(b)\n",
    "b"
   ]
  },
  {
   "cell_type": "markdown",
   "metadata": {},
   "source": [
    "テンソル積は、（歪)対称性を保ちます。$A$は2-形式なので、二つの引数(位置0および1）について歪対称です。結果として$b$は最後の二つの引数(位置1および2）について歪対称となります。\n",
    "\n",
    "<p>The tensor product preserves the (anti)symmetries: since $A$ is a 2-form, it is antisymmetric with respect to its two arguments (positions 0 and 1); as a result, b is antisymmetric with respect to its last two arguments (positions 1 and 2):</p>"
   ]
  },
  {
   "cell_type": "code",
   "execution_count": null,
   "metadata": {},
   "outputs": [],
   "source": [
    "a.symmetries()"
   ]
  },
  {
   "cell_type": "code",
   "execution_count": null,
   "metadata": {},
   "outputs": [],
   "source": [
    "b.symmetries()"
   ]
  },
  {
   "cell_type": "markdown",
   "metadata": {},
   "source": [
    "標準的な **テンソル 計算** は実装済みです。\n",
    "\n",
    "<p>Standard<strong> tensor arithmetics</strong> is implemented:</p>"
   ]
  },
  {
   "cell_type": "code",
   "execution_count": null,
   "metadata": {},
   "outputs": [],
   "source": [
    "s = - t + 2*f* b\n",
    "print(s)"
   ]
  },
  {
   "cell_type": "markdown",
   "metadata": {},
   "source": [
    "**テンソルの縮約 **は `trace()`メソッドおよび `contract()` メソッドで取り扱われます。例として、テンソル　$T$ の最初の二つの引数(位置 0 および　1) について縮約してみましょう。つまり、$c_i = T^k_{\\ \\, k i}$で与えられるテンソル $c$を構築してみましょう。\n",
    "\n",
    "**Tensor contractions** are dealt with by the methods`trace()` and `contract()`: for instance, let us contract the tensor $T$ w.r.t. its first two arguments (positions 0 and 1), i.e. let us form the tensor $c$ of components $c_i = T^k_{\\ \\, k i}$:"
   ]
  },
  {
   "cell_type": "code",
   "execution_count": null,
   "metadata": {},
   "outputs": [],
   "source": [
    "c = t.trace(0,1)\n",
    "print(c)"
   ]
  },
  {
   "cell_type": "markdown",
   "metadata": {},
   "source": [
    "`trace(0,1)`と入力する代わりに、**指標表記** を使って縮約を指定できます。指標は文字列として`[]`演算子の中に記述されます。\n",
    "文字列中で、\"^\" は反変指標の前、\"_\" は共変指標の前、に置かれます。\n",
    "\n",
    "An alternative to the writing `trace(0,1)` is to use the **index notation** to denote the contraction: the indices are given in a string inside the `[]` operator, with `'^'` in front of the contravariant indices and `'_'` in front of the covariant ones:"
   ]
  },
  {
   "cell_type": "code",
   "execution_count": null,
   "metadata": {},
   "outputs": [],
   "source": [
    "c1 = t['^k_ki']\n",
    "print(c1)\n",
    "c1 == c"
   ]
  },
  {
   "cell_type": "markdown",
   "metadata": {},
   "source": [
    "縮約は繰り返された指標(ここでは $k$ です)について実行されます。それ以外の文字(ここでは $i$ )は任意です。\n",
    "\n",
    "The contraction is performed on the repeated index (here `k`); the letter denoting the remaining index (here `i`) is arbitrary:"
   ]
  },
  {
   "cell_type": "code",
   "execution_count": null,
   "metadata": {},
   "outputs": [],
   "source": [
    "t['^k_kj'] == c"
   ]
  },
  {
   "cell_type": "code",
   "execution_count": null,
   "metadata": {},
   "outputs": [],
   "source": [
    "t['^b_ba'] == c"
   ]
  },
  {
   "cell_type": "markdown",
   "metadata": {},
   "source": [
    "縮約されない指標については \".\"（ドット）で置き換え可能です。\n",
    "\n",
    "<p>It can even be replaced by a dot:</p>"
   ]
  },
  {
   "cell_type": "code",
   "execution_count": null,
   "metadata": {},
   "outputs": [],
   "source": [
    "t['^k_k.'] == c"
   ]
  },
  {
   "cell_type": "markdown",
   "metadata": {},
   "source": [
    "この文字列中ではLaTeX式の指定も可能です。\n",
    "\n",
    "<p>LaTeX notations are allowed:</p>"
   ]
  },
  {
   "cell_type": "code",
   "execution_count": null,
   "metadata": {},
   "outputs": [],
   "source": [
    "t['^{k}_{ki}'] == c"
   ]
  },
  {
   "cell_type": "markdown",
   "metadata": {},
   "source": [
    "SageMath 9.2以降では、ギリシャ文字を使うことも可能です。\n",
    "\n",
    "as well as Greek letters (only for SageMath 9.2 or higher):"
   ]
  },
  {
   "cell_type": "code",
   "execution_count": null,
   "metadata": {},
   "outputs": [],
   "source": [
    "t['^μ_μα'] == c"
   ]
  },
  {
   "cell_type": "markdown",
   "metadata": {},
   "source": [
    "テンソル場 $T$ とベクトル場 $v$ の縮約 $T^i_{\\ j k}  v^k$ は次のようにして、実行されます。ここで、2は$T$の最後の指標の場所、0は$v$の唯一の指標の場所です。\n",
    "\n",
    "<p>The contraction $T^i_{\\ j k} v^k$ of the tensor fields $T$ and $v$ is taken as follows (2 refers to the last index position of $T$ and 0 to the only index position of v):</p>"
   ]
  },
  {
   "cell_type": "code",
   "execution_count": null,
   "metadata": {},
   "outputs": [],
   "source": [
    "tv = t.contract(2, v, 0)\n",
    "print(tv)"
   ]
  },
  {
   "cell_type": "markdown",
   "metadata": {},
   "source": [
    "2はTの最後の指標の場所、0は$v$の唯一の指標の場所ですので、上記の表記の簡略版は次のようになります。\n",
    "\n",
    "<p>Since 2 corresponds to the last index position of $T$ and 0 to the first index position of $v$, a shortcut for the above is</p>"
   ]
  },
  {
   "cell_type": "code",
   "execution_count": null,
   "metadata": {},
   "outputs": [],
   "source": [
    "tv1 = t.contract(v)\n",
    "print(tv1)"
   ]
  },
  {
   "cell_type": "code",
   "execution_count": null,
   "metadata": {},
   "outputs": [],
   "source": [
    "tv1 == tv"
   ]
  },
  {
   "cell_type": "markdown",
   "metadata": {},
   "source": [
    "`contract()` メソッドに替わって、**指標表記** と　直積演算子 `*` を組み合わせることで、縮約を表現できます。\n",
    "\n",
    "<p>Instead of <span style=\"font-family: courier new,courier;\">contract()</span>, the <strong>index notation</strong>, combined with the <strong>*</strong> operator, can be used to denote the contraction:</p>"
   ]
  },
  {
   "cell_type": "code",
   "execution_count": null,
   "metadata": {},
   "outputs": [],
   "source": [
    "t['^i_jk']*v['^k'] == tv"
   ]
  },
  {
   "cell_type": "markdown",
   "metadata": {},
   "source": [
    "繰り替えされない指標については、`.`で置き換えることができます。\n",
    "\n",
    "<p>The non-repeated indices can be replaced by dots:</p>"
   ]
  },
  {
   "cell_type": "code",
   "execution_count": null,
   "metadata": {},
   "outputs": [],
   "source": [
    "t['^._.k']*v['^k'] == tv"
   ]
  },
  {
   "cell_type": "markdown",
   "metadata": {},
   "source": [
    "## 計量構造: Metric structures\n",
    "多様体$\\mathcal{M}$の**Riemann 計量** はつぎのように宣言されます。\n",
    "\n",
    "<p>A <strong>Riemannian metric</strong> on the manifold $\\mathcal{M}$ is declared as follows:</p>"
   ]
  },
  {
   "cell_type": "code",
   "execution_count": null,
   "metadata": {},
   "outputs": [],
   "source": [
    "g = M.riemannian_metric('g')\n",
    "print(g)"
   ]
  },
  {
   "cell_type": "markdown",
   "metadata": {},
   "source": [
    "計量 $g$ は対称な (0,2) 型のテンソル場です。\n",
    "\n",
    "<p>It is a symmetric tensor field of type (0,2):</p>"
   ]
  },
  {
   "cell_type": "code",
   "execution_count": null,
   "metadata": {},
   "outputs": [],
   "source": [
    "g.parent()"
   ]
  },
  {
   "cell_type": "code",
   "execution_count": null,
   "metadata": {},
   "outputs": [],
   "source": [
    "print(g.parent())"
   ]
  },
  {
   "cell_type": "code",
   "execution_count": null,
   "metadata": {},
   "outputs": [],
   "source": [
    "g.symmetries()"
   ]
  },
  {
   "cell_type": "markdown",
   "metadata": {},
   "source": [
    "計量は、あるベクトルフレームに関する要素で初期化されます。例えば、\n",
    "$\\mathcal{M}$の既定のフレームを使って、\n",
    "<p>The metric is initialized by its components with respect to some vector frame. For instance, using the default frame of $\\mathcal{M}$:</p>"
   ]
  },
  {
   "cell_type": "code",
   "execution_count": null,
   "metadata": {},
   "outputs": [],
   "source": [
    "g[1,1], g[2,2], g[3,3] = 1, 1, 1\n",
    "g.display()"
   ]
  },
  {
   "cell_type": "markdown",
   "metadata": {},
   "source": [
    "別のベクトルフレームに関する成分を表示します。\n",
    "<p>The components w.r.t. another vector frame are obtained as for any tensor field:</p>"
   ]
  },
  {
   "cell_type": "code",
   "execution_count": null,
   "metadata": {},
   "outputs": [],
   "source": [
    "g.display(Y.frame(), Y)"
   ]
  },
  {
   "cell_type": "markdown",
   "metadata": {},
   "source": [
    "もちろん計量は二つのベクトルに作用します。\n",
    "\n",
    "<p>Of course, the metric acts on vector pairs:</p>"
   ]
  },
  {
   "cell_type": "code",
   "execution_count": null,
   "metadata": {},
   "outputs": [],
   "source": [
    "print(g(u,v)) ; \n",
    "g(u,v).display()"
   ]
  },
  {
   "cell_type": "markdown",
   "metadata": {},
   "source": [
    "計量　$g$に付随する **Levi-Civita 接続**は、：\n",
    "\n",
    "<p>The <strong>Levi-Civita connection</strong> associated to the metric $g$:</p>"
   ]
  },
  {
   "cell_type": "code",
   "execution_count": null,
   "metadata": {},
   "outputs": [],
   "source": [
    "nabla = g.connection() \n",
    "print(nabla)\n",
    "nabla"
   ]
  },
  {
   "cell_type": "markdown",
   "metadata": {},
   "source": [
    "多様体の既定の座標をつかってChristoffel記号を書き出します。\n",
    "\n",
    "<p>The Christoffel symbols with respect to the manifold's default coordinates:</p>"
   ]
  },
  {
   "cell_type": "code",
   "execution_count": null,
   "metadata": {},
   "outputs": [],
   "source": [
    "nabla.coef()[:]"
   ]
  },
  {
   "cell_type": "markdown",
   "metadata": {},
   "source": [
    "次に、座標$(r,\\theta,\\phi)$を使って、Christoffel記号を書き出します。\n",
    "\n",
    "<p>The Christoffel symbols with respect to the coordinates $(r,\\theta,\\phi)$:</p>"
   ]
  },
  {
   "cell_type": "code",
   "execution_count": null,
   "metadata": {},
   "outputs": [],
   "source": [
    "nabla.coef(Y.frame())[:, Y]"
   ]
  },
  {
   "cell_type": "markdown",
   "metadata": {},
   "source": [
    "`display()` を使って、見易く表示させて見ます。既定の設定では非零の接続係数のみが表示されます。\n",
    "\n",
    "A nice view is obtained via the method `display()` (by default, only the nonzero connection coefficients are shown):"
   ]
  },
  {
   "cell_type": "code",
   "execution_count": null,
   "metadata": {},
   "outputs": [],
   "source": [
    "nabla.display(frame=Y.frame(), chart=Y)"
   ]
  },
  {
   "cell_type": "markdown",
   "metadata": {},
   "source": [
    "計量の`christoffel_symbols_display()`メソッドを使うこともできます。この関数は（既定の設定では）独立なChristoffel記号だけを表示します。\n",
    "\n",
    "One may also use the method `christoffel_symbols_display()` of the metric, which (by default) displays only the non-redundant Christoffel symbols:"
   ]
  },
  {
   "cell_type": "code",
   "execution_count": null,
   "metadata": {},
   "outputs": [],
   "source": [
    "g.christoffel_symbols_display(Y)"
   ]
  },
  {
   "cell_type": "markdown",
   "metadata": {},
   "source": [
    "接続の共変微分に対する作用。\n",
    "\n",
    "<p>The connection acting as a covariant derivative:</p>"
   ]
  },
  {
   "cell_type": "code",
   "execution_count": null,
   "metadata": {},
   "outputs": [],
   "source": [
    "nab_v = nabla(v)\n",
    "print(nab_v) ; nab_v.display()"
   ]
  },
  {
   "cell_type": "markdown",
   "metadata": {},
   "source": [
    "Levi-Civita　接続係数として, $\\nabla_g$ には捩れ(torsion)がありません。\n",
    "\n",
    "<p>Being a Levi-Civita connection, $\\nabla_g$ is torsion.free:</p>"
   ]
  },
  {
   "cell_type": "code",
   "execution_count": null,
   "metadata": {},
   "outputs": [],
   "source": [
    "print(nabla.torsion()) ; nabla.torsion().display()"
   ]
  },
  {
   "cell_type": "markdown",
   "metadata": {},
   "source": [
    "この例ではさらに、多様体は平坦(フラット, 曲率が0）です。\n",
    "\n",
    "<p>In the present case, it is also flat:</p>"
   ]
  },
  {
   "cell_type": "code",
   "execution_count": null,
   "metadata": {},
   "outputs": [],
   "source": [
    "print(nabla.riemann()) ; nabla.riemann().display()"
   ]
  },
  {
   "cell_type": "markdown",
   "metadata": {},
   "source": [
    "$g_{rr}$ を $1/(1+r^2)$と変更することで、曲率のある空間を考えましょう。\n",
    "\n",
    "<p>Let us consider a non-flat metric, by changing $g_{rr}$ to $1/(1+r^2)$:</p>"
   ]
  },
  {
   "cell_type": "code",
   "execution_count": null,
   "metadata": {},
   "outputs": [],
   "source": [
    "g[Y.frame(), 1,1, Y] = 1/(1+r^2)\n",
    "g.display(Y.frame(), Y)"
   ]
  },
  {
   "cell_type": "markdown",
   "metadata": {},
   "source": [
    "簡単の為に、副多様体$U$の既定の座標系をY=$(U,(r,\\theta,\\phi))$に変更します。\n",
    "\n",
    "<p>For convenience, we change the default chart on the domain $U$ to Y=$(U,(r,\\theta,\\phi))$:</p>"
   ]
  },
  {
   "cell_type": "code",
   "execution_count": null,
   "metadata": {},
   "outputs": [],
   "source": [
    "U.set_default_chart(Y)"
   ]
  },
  {
   "cell_type": "markdown",
   "metadata": {},
   "source": [
    "これによって、 $(r,\\theta,\\phi)$を使った座標表現を求める際に座標系 $Y$ を指定する必要がありません。\n",
    "\n",
    "<p>In this way, we do not have to specify Y when asking for coordinate expressions in terms of $(r,\\theta,\\phi)$:</p>"
   ]
  },
  {
   "cell_type": "code",
   "execution_count": null,
   "metadata": {},
   "outputs": [],
   "source": [
    "g.display(Y.frame())"
   ]
  },
  {
   "cell_type": "markdown",
   "metadata": {},
   "source": [
    "この計量は双曲空間　$\\mathbb{H}^3$の計量だと気がつきます。座標系 $(U,(x,y,z))$についての表現は、次のようになります。\n",
    "\n",
    "<p>We recognize the metric of the hyperbolic space $\\mathbb{H}^3$. Its expression in terms of the chart $(U,(x,y,z))$ is</p>"
   ]
  },
  {
   "cell_type": "code",
   "execution_count": null,
   "metadata": {},
   "outputs": [],
   "source": [
    "g.display(X_U.frame(), X_U)"
   ]
  },
  {
   "cell_type": "markdown",
   "metadata": {},
   "source": [
    "要素の行列表示の方がより適切かもしれません。\n",
    "\n",
    "<p>A matrix view of the components may be more appropriate:</p>"
   ]
  },
  {
   "cell_type": "code",
   "execution_count": null,
   "metadata": {},
   "outputs": [],
   "source": [
    "g[X_U.frame(), :, X_U]"
   ]
  },
  {
   "cell_type": "markdown",
   "metadata": {},
   "source": [
    "もともとは　$U$でのみ定義されていたこれらの成分を、全体の多様体$\\mathcal{M}$までに拡張します。拡張は、座標系 X=$(\\mathcal{M},(x,y,z))$ に付随するフレームでの座標表現が同じであることを要求して実行されます。\n",
    "\n",
    "<p>We extend these components, a priori defined only on $U$, to the whole manifold $\\mathcal{M}$, by demanding the same coordinate expressions in the frame associated to the chart X=$(\\mathcal{M},(x,y,z))$:</p>"
   ]
  },
  {
   "cell_type": "code",
   "execution_count": null,
   "metadata": {},
   "outputs": [],
   "source": [
    "g.add_comp_by_continuation(X.frame(), U, X)\n",
    "g.display()"
   ]
  },
  {
   "cell_type": "markdown",
   "metadata": {},
   "source": [
    "Levi-Civita接続は、計量 $g$の変更後、自動的に再計算されます。\n",
    "\n",
    "<p>The Levi-Civita connection is automatically recomputed, after the change in $g$:</p>"
   ]
  },
  {
   "cell_type": "code",
   "execution_count": null,
   "metadata": {},
   "outputs": [],
   "source": [
    "nabla = g.connection()"
   ]
  },
  {
   "cell_type": "markdown",
   "metadata": {},
   "source": [
    "とくに、Christoffel 係数は、異なっています。\n",
    "<p>In particular, the Christoffel symbols are different:</p>"
   ]
  },
  {
   "cell_type": "code",
   "execution_count": null,
   "metadata": {},
   "outputs": [],
   "source": [
    "nabla.display(only_nonredundant=True)"
   ]
  },
  {
   "cell_type": "code",
   "execution_count": null,
   "metadata": {},
   "outputs": [],
   "source": [
    "nabla.display(frame=Y.frame(), chart=Y, only_nonredundant=True)"
   ]
  },
  {
   "cell_type": "markdown",
   "metadata": {},
   "source": [
    "Rimannテンソルは、今や：\n",
    "<p>The <strong>Riemann tensor</strong> is now</p>"
   ]
  },
  {
   "cell_type": "code",
   "execution_count": null,
   "metadata": {},
   "outputs": [],
   "source": [
    "Riem = nabla.riemann()\n",
    "print(Riem) ; Riem.display(Y.frame())"
   ]
  },
  {
   "cell_type": "markdown",
   "metadata": {},
   "source": [
    "リーマンテンソルは接続などを明示的に求めることなく、計量$g$から直接算出できます。\n",
    "\n",
    "<p>Note that it can be accessed directely via the metric, without any explicit mention of the connection:</p>"
   ]
  },
  {
   "cell_type": "code",
   "execution_count": null,
   "metadata": {},
   "outputs": [],
   "source": [
    "g.riemann() is nabla.riemann()"
   ]
  },
  {
   "cell_type": "markdown",
   "metadata": {},
   "source": [
    "**Ricci　テンソル** はこのようになります。\n",
    "\n",
    "<p>The <strong>Ricci tensor</strong> is</p>"
   ]
  },
  {
   "cell_type": "code",
   "execution_count": null,
   "metadata": {},
   "outputs": [],
   "source": [
    "Ric = g.ricci()\n",
    "print(Ric)\n",
    "Ric.display(Y.frame())"
   ]
  },
  {
   "cell_type": "markdown",
   "metadata": {},
   "source": [
    "**Weyl テンソル** は：\n",
    "<p>The<strong> Weyl tensor</strong> is:</p>"
   ]
  },
  {
   "cell_type": "code",
   "execution_count": null,
   "metadata": {},
   "outputs": [],
   "source": [
    "C = g.weyl()\n",
    "print(C) ; C.display()"
   ]
  },
  {
   "cell_type": "markdown",
   "metadata": {},
   "source": [
    "多様体 $\\mathcal{M}$ の次元が 3 なので、**Weyl テンソル** は恒等的に0になります。\n",
    "最後に **Ricci スカラ(曲率）** を求めます。\n",
    "\n",
    "<p>The Weyl tensor vanishes identically because the dimension of $\\mathcal{M}$ is 3.</p>\n",
    "<p>Finally, the <strong>Ricci scalar</strong> is </p>"
   ]
  },
  {
   "cell_type": "code",
   "execution_count": null,
   "metadata": {},
   "outputs": [],
   "source": [
    "R = g.ricci_scalar()\n",
    "print(R) ; R.display()"
   ]
  },
  {
   "cell_type": "markdown",
   "metadata": {},
   "source": [
    "<p>We recover the fact that $\\mathbb{H}^3$ is a Riemannian manifold of constant negative curvature.</p>\n",
    "\n",
    "## 計量によって引き起こされるテンソル場の変形:Tensor transformations induced by a metric\n",
    "\n",
    "もっとも重要な軽量 $g$によって引き起こされるテンソル場の変形は、**musical isomorphism** あるいは **指標の引き上げ** および　**指標の引き下げ**と呼ばれるものです。\n",
    "\n",
    "<p>The most important tensor transformation induced by the metric $g$ is the so-called <strong>musical isomorphism</strong>, or <strong>index raising</strong> and<strong> index lowering</strong>:</p>"
   ]
  },
  {
   "cell_type": "code",
   "execution_count": null,
   "metadata": {},
   "outputs": [],
   "source": [
    "print(t)"
   ]
  },
  {
   "cell_type": "code",
   "execution_count": null,
   "metadata": {},
   "outputs": [],
   "source": [
    "t.display()"
   ]
  },
  {
   "cell_type": "code",
   "execution_count": null,
   "metadata": {},
   "outputs": [],
   "source": [
    "t.display(X_U.frame(), X_U)"
   ]
  },
  {
   "cell_type": "markdown",
   "metadata": {},
   "source": [
    "テンソル場 $T$の最後の指標(位置は2)を計量　$g$ について、引き上げます。\n",
    "\n",
    "Raising the last index (position 2) of $T$ with $g$:"
   ]
  },
  {
   "cell_type": "code",
   "execution_count": null,
   "metadata": {},
   "outputs": [],
   "source": [
    "s = t.up(g, 2)\n",
    "print(t,s)"
   ]
  },
  {
   "cell_type": "markdown",
   "metadata": {},
   "source": [
    "\n",
    "上記の式で引き上げられた指標は反変な指数のうち最後のものになることに注意しましょう。つまり、メソッド`up`が返すテンソル $s$ は\n",
    "$$ s^{ab}_{\\ \\ \\ \\, c} = g^{bi} T^a_{\\ \\ ic}$$\n",
    "です。\n",
    "\n",
    "Note that the raised index becomes the *last* one among the contravariant indices,  i.e. the tensor $s$ returned by the method `up` is \n",
    "$$ s^{ab}_{\\ \\ \\ \\, c} = g^{bi} T^a_{\\ \\ ic}$$"
   ]
  },
  {
   "cell_type": "markdown",
   "metadata": {},
   "source": [
    "これについての詳細は[up()の解説](https://doc.sagemath.org/html/en/reference/manifolds/sage/manifolds/differentiable/tensorfield.html#sage.manifolds.differentiable.tensorfield.TensorField.up) をご覧ください。\n",
    "\n",
    "See the [up() documentation](https://doc.sagemath.org/html/en/reference/manifolds/sage/manifolds/differentiable/tensorfield.html#sage.manifolds.differentiable.tensorfield.TensorField.up) for more details."
   ]
  },
  {
   "cell_type": "markdown",
   "metadata": {},
   "source": [
    "$T$の全ての共変な指標(この例では　位置 1と2）を引き上げます。\n",
    "\n",
    "<p>Raising all the covariant indices of $T$ (i.e. those at the positions 1 and 2):</p>"
   ]
  },
  {
   "cell_type": "code",
   "execution_count": null,
   "metadata": {},
   "outputs": [],
   "source": [
    "s = t.up(g)\n",
    "print(s)"
   ]
  },
  {
   "cell_type": "code",
   "execution_count": null,
   "metadata": {},
   "outputs": [],
   "source": [
    "s = t.down(g)\n",
    "print(s)"
   ]
  },
  {
   "cell_type": "markdown",
   "metadata": {},
   "source": [
    "\n",
    "上記の式で引き下げられた指標は 共変な指標のうち *最初* の指標になることに注意しましょう。　即ち、`down`メソッドが返すテンソル $s$ は、\n",
    "$$ s_{abc} = g_{ai} T^i_{\\ \\ bc}$$\n",
    "となります。\n",
    "\n",
    "\n",
    "Note that the lowered index becomes the *first* one among the covariant indices,  i.e. the tensor $s$ returned by the method `down` is \n",
    "$$ s_{abc} = g_{ai} T^i_{\\ \\ bc}$$"
   ]
  },
  {
   "cell_type": "markdown",
   "metadata": {},
   "source": [
    "\n",
    "これについての詳細は[down()の解説](https://doc.sagemath.org/html/en/reference/manifolds/sage/manifolds/differentiable/tensorfield.html#sage.manifolds.differentiable.tensorfield.TensorField.down)  をご覧ください。\n",
    "\n",
    "See the [down() documentation](https://doc.sagemath.org/html/en/reference/manifolds/sage/manifolds/differentiable/tensorfield.html#sage.manifolds.differentiable.tensorfield.TensorField.down) for more details."
   ]
  },
  {
   "cell_type": "markdown",
   "metadata": {},
   "source": [
    "## Hodge双対(星印演算子)　：Hodge duality\n",
    "計量 $g$についての体積　3-形式(Levi-Civita テンソル　）は\n",
    "\n",
    "<p>The volume 3-form (Levi-Civita tensor) associated with the metric $g$ is</p>"
   ]
  },
  {
   "cell_type": "code",
   "execution_count": null,
   "metadata": {},
   "outputs": [],
   "source": [
    "epsilon = g.volume_form()\n",
    "print(epsilon)\n",
    "epsilon.display()"
   ]
  },
  {
   "cell_type": "code",
   "execution_count": null,
   "metadata": {},
   "outputs": [],
   "source": [
    "epsilon.display(Y.frame())"
   ]
  },
  {
   "cell_type": "code",
   "execution_count": null,
   "metadata": {},
   "outputs": [],
   "source": [
    "print(f) ; f.display()"
   ]
  },
  {
   "cell_type": "code",
   "execution_count": null,
   "metadata": {},
   "outputs": [],
   "source": [
    "sf = f.hodge_dual(g.restrict(U))\n",
    "print(sf)\n",
    "sf.display()"
   ]
  },
  {
   "cell_type": "markdown",
   "metadata": {},
   "source": [
    "古典的な式$\\star f = f\\, \\epsilon_g$, より正確には$\\star f = f\\, \\epsilon_g|_U$, を確かめてみましょう。\n",
    "$f$ は $U$ 上でのみ定義されていることに注意します。\n",
    "\n",
    "<p>We check the classical formula $\\star f = f\\, \\epsilon_g$, or, more precisely, $\\star f = f\\, \\epsilon_g|_U$ (for $f$ is defined on $U$ only):</p>"
   ]
  },
  {
   "cell_type": "code",
   "execution_count": null,
   "metadata": {},
   "outputs": [],
   "source": [
    "sf == f * epsilon.restrict(U)"
   ]
  },
  {
   "cell_type": "markdown",
   "metadata": {},
   "source": [
    "1-形式のHodge 双対は、2ー形式 です。(3次元多様体の場合）；\n",
    "<xp>The Hodge dual of a 1-form is a 2-form:</p>"
   ]
  },
  {
   "cell_type": "code",
   "execution_count": null,
   "metadata": {},
   "outputs": [],
   "source": [
    "print(om) ; om.display()"
   ]
  },
  {
   "cell_type": "code",
   "execution_count": null,
   "metadata": {},
   "outputs": [],
   "source": [
    "som = om.hodge_dual(g)\n",
    "print(som) ; \n",
    "som.display()"
   ]
  },
  {
   "cell_type": "markdown",
   "metadata": {},
   "source": [
    "（3次元多様体上では）2ー形式のhodge 双対は　1ー形式になります。\n",
    "\n",
    "<p>The Hodge dual of a 2-form is a 1-form:</p>"
   ]
  },
  {
   "cell_type": "code",
   "execution_count": null,
   "metadata": {},
   "outputs": [],
   "source": [
    "print(a)"
   ]
  },
  {
   "cell_type": "code",
   "execution_count": null,
   "metadata": {},
   "outputs": [],
   "source": [
    "sa = a.hodge_dual(g)\n",
    "print(sa)\n",
    "sa.display()"
   ]
  },
  {
   "cell_type": "markdown",
   "metadata": {},
   "source": [
    "最後に3ー形式のHodge 双対は　0-forms です。\n",
    "<p>Finally, the Hodge dual of a 3-form is a 0-form:</p>"
   ]
  },
  {
   "cell_type": "code",
   "execution_count": null,
   "metadata": {},
   "outputs": [],
   "source": [
    "print(da)\n",
    "da.display()"
   ]
  },
  {
   "cell_type": "code",
   "execution_count": null,
   "metadata": {},
   "outputs": [],
   "source": [
    "sda = da.hodge_dual(g)\n",
    "print(sda)\n",
    "sda.display()"
   ]
  },
  {
   "cell_type": "markdown",
   "metadata": {},
   "source": [
    "3次元のリーマン計量に対して、Hodge 双対はidempotent、つまり2回続けて作用させると元に戻ります。\n",
    "\n",
    "<p>In dimension 3 and for a Riemannian metric, the Hodge star is idempotent:</p>"
   ]
  },
  {
   "cell_type": "code",
   "execution_count": null,
   "metadata": {},
   "outputs": [],
   "source": [
    "sf.hodge_dual(g) == f"
   ]
  },
  {
   "cell_type": "code",
   "execution_count": null,
   "metadata": {},
   "outputs": [],
   "source": [
    "som.hodge_dual(g) == om"
   ]
  },
  {
   "cell_type": "code",
   "execution_count": null,
   "metadata": {},
   "outputs": [],
   "source": [
    "sa.hodge_dual(g) == a"
   ]
  },
  {
   "cell_type": "code",
   "execution_count": null,
   "metadata": {},
   "outputs": [],
   "source": [
    "sda.hodge_dual(g.restrict(U)) == da"
   ]
  },
  {
   "cell_type": "markdown",
   "metadata": {},
   "source": [
    "## 助けを求める：Getting help\n",
    "\n",
    "オブジェクトが呼び出すことのできる関数(メソッドを入手するには、オブジェクトの名前を入力したのち、\".\"とTABを入力します。\n",
    "つまり、`sa.<tab>`です。\n",
    "\n",
    "オブジェクトやメソッドについての情報を入手するために、疑問符 `?`をお使いください。\n",
    "\n",
    "<p><span>To get the list of functions (methods) that can be called on a object, type the name of the object, followed by a dot and the TAB key, e.g. </span></p>\n",
    "<p><span><span style=\"font-family: courier new,courier;\">sa.<tab></tab></span><br></span></p>\n",
    "<p><span id=\"cell_outer_269\">To get information on an object or a method, use the question mark:</span></p>"
   ]
  },
  {
   "cell_type": "code",
   "execution_count": null,
   "metadata": {},
   "outputs": [],
   "source": [
    "nabla?"
   ]
  },
  {
   "cell_type": "code",
   "execution_count": null,
   "metadata": {},
   "outputs": [],
   "source": [
    "g.ricci_scalar?"
   ]
  },
  {
   "cell_type": "markdown",
   "metadata": {},
   "source": [
    "二つの疑問符 `??` は **Pythonソースコード** に直接導かれます。(SageMathはオープンソースです、そうでしょう？)\n",
    "\n",
    "Using a double question mark leads directly to the **Python source code** (SageMath is **open source**, isn't it?):"
   ]
  },
  {
   "cell_type": "code",
   "execution_count": null,
   "metadata": {},
   "outputs": [],
   "source": [
    "g.ricci_scalar??"
   ]
  },
  {
   "cell_type": "markdown",
   "metadata": {},
   "source": [
    "## さらに先へ：Going further\n",
    "\n",
    "[ページ:SageManifolds の例](https://sagemanifolds.obspm.fr/examples.html)をご覧ください。とくに、平行化不能な多様体（スカラー場は少なくとも二つの座標系で定義される必要があり、\n",
    "モジュール $\\mathfrak{X}(\\mathcal{M})$はもはやフリーではなく、\n",
    "テンソル場は少なくとも二つのフレームで定義される必要があります）\n",
    "での使い方については、\n",
    "[2-次元 球面](https://nbviewer.jupyter.org/github/sagemanifolds/SageManifolds/blob/master/Notebooks/SM_sphere_S2.ipynb)\n",
    "が役に立つでしょう。\n",
    "\n",
    "Christian Bär氏による[チュートリアル　ビデオ](https://www.youtube.com/playlist?list=PLnrOCYZpQUuJlnQbQ48zgGk-Ks1t145Yw)もご覧ください。\n",
    "\n",
    "Have a look at the [examples on SageManifolds page](https://sagemanifolds.obspm.fr/examples.html), especially the \n",
    "[2-dimensional sphere](https://nbviewer.jupyter.org/github/sagemanifolds/SageManifolds/blob/master/Notebooks/SM_sphere_S2.ipynb) for usage on a non-parallelizable manifold (each scalar field has to be defined in at least two coordinate charts, the $C^\\infty(\\mathcal{M})$-module $\\mathfrak{X}(\\mathcal{M})$ is no longer free and each tensor field has to be defined in at least two vector frames).\n",
    "\n",
    "You may also take a look at the [tutorial videos](https://www.youtube.com/playlist?list=PLnrOCYZpQUuJlnQbQ48zgGk-Ks1t145Yw) by Christian Bär."
   ]
  }
 ],
 "metadata": {
  "kernelspec": {
   "display_name": "SageMath 9.8",
   "language": "sage",
   "name": "sagemath"
  },
  "language": "python",
  "language_info": {
   "codemirror_mode": {
    "name": "ipython",
    "version": 3
   },
   "file_extension": ".py",
   "mimetype": "text/x-python",
   "name": "python",
   "nbconvert_exporter": "python",
   "pygments_lexer": "ipython3",
   "version": "3.8.10"
  }
 },
 "nbformat": 4,
 "nbformat_minor": 4
}
