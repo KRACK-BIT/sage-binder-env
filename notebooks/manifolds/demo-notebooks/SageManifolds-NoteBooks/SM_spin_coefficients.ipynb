{
 "cells": [
  {
   "cell_type": "markdown",
   "metadata": {
    "collapsed": false,
    "jupyter": {
     "outputs_hidden": false
    },
    "tags": []
   },
   "source": [
    "# Ricci rotation coefficients and spin coefficients \n",
    "\n",
    "This SageMath notebook implements the computation of the Ricci rotation coefficients of a given tetrad, as well as the Newman-Penrose and GHP spin coefficients.\n",
    "\n",
    "An example is provided by the Kinnersley null tetrad in Kerr spacetime. \n",
    "\n",
    "*Author:* Eric Gourgoulhon (2024)"
   ]
  },
  {
   "cell_type": "code",
   "execution_count": null,
   "metadata": {
    "jupyter": {
     "outputs_hidden": false
    }
   },
   "outputs": [],
   "source": [
    "version()"
   ]
  },
  {
   "cell_type": "code",
   "execution_count": null,
   "metadata": {
    "jupyter": {
     "outputs_hidden": false
    }
   },
   "outputs": [],
   "source": [
    "%display latex"
   ]
  },
  {
   "cell_type": "markdown",
   "metadata": {
    "collapsed": false,
    "jupyter": {
     "outputs_hidden": false
    }
   },
   "source": [
    "Since some computations are quite heavy, we ask for running them in parallel on 8 threads:"
   ]
  },
  {
   "cell_type": "code",
   "execution_count": null,
   "metadata": {
    "jupyter": {
     "outputs_hidden": false
    }
   },
   "outputs": [],
   "source": [
    "Parallelism().set(nproc=8)"
   ]
  },
  {
   "cell_type": "markdown",
   "metadata": {
    "collapsed": false,
    "jupyter": {
     "outputs_hidden": false
    }
   },
   "source": [
    "## Spacetime manifold"
   ]
  },
  {
   "cell_type": "code",
   "execution_count": null,
   "metadata": {
    "jupyter": {
     "outputs_hidden": false
    }
   },
   "outputs": [],
   "source": [
    "M = Manifold(4, 'M', structure='Lorentzian')"
   ]
  },
  {
   "cell_type": "markdown",
   "metadata": {
    "collapsed": false,
    "jupyter": {
     "outputs_hidden": false
    }
   },
   "source": [
    "We sall use the **advanced Kerr coordinates** $(v,r,\\theta,\\varphi)$:"
   ]
  },
  {
   "cell_type": "code",
   "execution_count": null,
   "metadata": {
    "jupyter": {
     "outputs_hidden": false
    }
   },
   "outputs": [],
   "source": [
    "X.<v,r,th,ph> = M.chart(r'v r th:\\theta:(0,pi) ph:\\varphi:(0,2*pi)')\n",
    "X"
   ]
  },
  {
   "cell_type": "markdown",
   "metadata": {
    "collapsed": false,
    "jupyter": {
     "outputs_hidden": false
    }
   },
   "source": [
    "### Metric tensor\n",
    "\n",
    "Expression of the Kerr metric in terms of the **advanced Kerr coordinates**:"
   ]
  },
  {
   "cell_type": "code",
   "execution_count": null,
   "metadata": {
    "jupyter": {
     "outputs_hidden": false
    }
   },
   "outputs": [],
   "source": [
    "m, a = var('m a', domain='real')"
   ]
  },
  {
   "cell_type": "code",
   "execution_count": null,
   "metadata": {
    "jupyter": {
     "outputs_hidden": false
    }
   },
   "outputs": [],
   "source": [
    "Delta = r^2 - 2*m*r + a^2\n",
    "Sigma = r^2 + a^2*cos(th)^2\n",
    "\n",
    "g = M.metric()\n",
    "g[0,0] = - 1 + 2*m*r/Sigma\n",
    "g[0,1] = 1\n",
    "g[0,3] = - 2*a*m*r*sin(th)^2/Sigma\n",
    "g[1,3] = - a*sin(th)^2\n",
    "g[2,2] = Sigma\n",
    "g[3,3] = (r^2 + a^2 + 2*a^2*m*r*sin(th)^2/Sigma)*sin(th)^2\n",
    "\n",
    "g.display()"
   ]
  },
  {
   "cell_type": "code",
   "execution_count": null,
   "metadata": {
    "jupyter": {
     "outputs_hidden": false
    }
   },
   "outputs": [],
   "source": [
    "g.inverse().display()"
   ]
  },
  {
   "cell_type": "markdown",
   "metadata": {
    "collapsed": false,
    "jupyter": {
     "outputs_hidden": false
    }
   },
   "source": [
    "## Kinnersley null tetrad"
   ]
  },
  {
   "cell_type": "markdown",
   "metadata": {
    "collapsed": false,
    "jupyter": {
     "outputs_hidden": false
    }
   },
   "source": [
    "Let us first introduce some auxiliary quantities (remark: we use `I` for the imaginary number $i$, keeping `i` for indices):"
   ]
  },
  {
   "cell_type": "code",
   "execution_count": null,
   "metadata": {
    "jupyter": {
     "outputs_hidden": false
    }
   },
   "outputs": [],
   "source": [
    "rho = 1 / (I*a*cos(th) - r) \n",
    "rho"
   ]
  },
  {
   "cell_type": "code",
   "execution_count": null,
   "metadata": {
    "jupyter": {
     "outputs_hidden": false
    }
   },
   "outputs": [],
   "source": [
    "rho_bar = rho.conjugate().simplify_full()\n",
    "rho_bar"
   ]
  },
  {
   "cell_type": "code",
   "execution_count": null,
   "metadata": {
    "jupyter": {
     "outputs_hidden": false
    }
   },
   "outputs": [],
   "source": [
    "(rho*rho_bar).simplify_full()"
   ]
  },
  {
   "cell_type": "markdown",
   "metadata": {
    "collapsed": false,
    "jupyter": {
     "outputs_hidden": false
    }
   },
   "source": [
    "We then introduce the vector fields of the Kinnersley tetrad $(\\ell_{\\rm K}, n_{\\rm K}, m_{\\rm K}, \\bar{m}_{\\rm K})$  one by one:"
   ]
  },
  {
   "cell_type": "code",
   "execution_count": null,
   "metadata": {
    "jupyter": {
     "outputs_hidden": false
    },
    "tags": []
   },
   "outputs": [],
   "source": [
    "lK = M.vector_field(2*(r^2 + a^2)/Delta, 1, 0, 2*a/Delta,\n",
    "                    name='lK', latex_name=r'\\ell_{\\rm K}')\n",
    "lK.display()"
   ]
  },
  {
   "cell_type": "code",
   "execution_count": null,
   "metadata": {
    "jupyter": {
     "outputs_hidden": false
    }
   },
   "outputs": [],
   "source": [
    "nK = M.vector_field(0, -Delta/(2*Sigma), 0, 0, \n",
    "                    name='nK', latex_name=r'n_{\\rm K}')\n",
    "nK.display()"
   ]
  },
  {
   "cell_type": "code",
   "execution_count": null,
   "metadata": {
    "jupyter": {
     "outputs_hidden": false
    }
   },
   "outputs": [],
   "source": [
    "mK = - rho_bar/sqrt(2) * M.vector_field(I*a*sin(th), 0, 1, I/sin(th))\n",
    "mK.set_name('mK', latex_name=r'm_{\\rm K}')\n",
    "mK.display()"
   ]
  },
  {
   "cell_type": "code",
   "execution_count": null,
   "metadata": {
    "jupyter": {
     "outputs_hidden": false
    }
   },
   "outputs": [],
   "source": [
    "mbK = M.vector_field(name='mbK', latex_name=r'\\bar{m}_{\\rm K}')\n",
    "for i in M.irange():\n",
    "    mbK[i] = mK[i].expr().conjugate()\n",
    "mbK.display()"
   ]
  },
  {
   "cell_type": "markdown",
   "metadata": {
    "collapsed": false,
    "jupyter": {
     "outputs_hidden": false
    }
   },
   "source": [
    "Let us check that each vector of the tetrad is a null vector:"
   ]
  },
  {
   "cell_type": "code",
   "execution_count": null,
   "metadata": {
    "jupyter": {
     "outputs_hidden": false
    }
   },
   "outputs": [],
   "source": [
    "g(lK, lK).expr()"
   ]
  },
  {
   "cell_type": "code",
   "execution_count": null,
   "metadata": {
    "jupyter": {
     "outputs_hidden": false
    }
   },
   "outputs": [],
   "source": [
    "g(nK, nK).expr()"
   ]
  },
  {
   "cell_type": "code",
   "execution_count": null,
   "metadata": {
    "jupyter": {
     "outputs_hidden": false
    }
   },
   "outputs": [],
   "source": [
    "g(mK, mK).expr()"
   ]
  },
  {
   "cell_type": "code",
   "execution_count": null,
   "metadata": {
    "jupyter": {
     "outputs_hidden": false
    }
   },
   "outputs": [],
   "source": [
    "g(mbK, mbK).expr()"
   ]
  },
  {
   "cell_type": "markdown",
   "metadata": {
    "collapsed": false,
    "jupyter": {
     "outputs_hidden": false
    }
   },
   "source": [
    "Furthermore, we have the following scalar products:"
   ]
  },
  {
   "cell_type": "code",
   "execution_count": null,
   "metadata": {
    "jupyter": {
     "outputs_hidden": false
    }
   },
   "outputs": [],
   "source": [
    "g(lK, nK).expr(), g(mK,mbK).expr()"
   ]
  },
  {
   "cell_type": "code",
   "execution_count": null,
   "metadata": {
    "jupyter": {
     "outputs_hidden": false
    }
   },
   "outputs": [],
   "source": [
    "g(lK, mK).expr(), g(nK, mK).expr()"
   ]
  },
  {
   "cell_type": "code",
   "execution_count": null,
   "metadata": {
    "jupyter": {
     "outputs_hidden": false
    }
   },
   "outputs": [],
   "source": [
    "g(lK, mbK).expr(), g(nK, mbK).expr()"
   ]
  },
  {
   "cell_type": "markdown",
   "metadata": {
    "collapsed": false,
    "jupyter": {
     "outputs_hidden": false
    }
   },
   "source": [
    "Let us define the Kinnersley tetrad `K` as the vector frame $(\\ell_{\\rm K}, n_{\\rm K}, m_{\\rm K}, \\bar{m}_{\\rm K})$ on $M$, using the symbol $e_{\\rm K}$ for a generic member of the tetrad:"
   ]
  },
  {
   "cell_type": "code",
   "execution_count": null,
   "metadata": {
    "jupyter": {
     "outputs_hidden": false
    }
   },
   "outputs": [],
   "source": [
    "K = M.vector_frame('eK', (lK, nK, mK, mbK), latex_symbol=r'{e_{\\rm K}}')\n",
    "K"
   ]
  },
  {
   "cell_type": "markdown",
   "metadata": {
    "collapsed": false,
    "jupyter": {
     "outputs_hidden": false
    },
    "tags": []
   },
   "source": [
    "We have then:"
   ]
  },
  {
   "cell_type": "code",
   "execution_count": null,
   "metadata": {
    "jupyter": {
     "outputs_hidden": false
    },
    "tags": []
   },
   "outputs": [],
   "source": [
    "for vec in (lK, nK, mK, mbK):\n",
    "    show(vec.display(K))"
   ]
  },
  {
   "cell_type": "markdown",
   "metadata": {
    "collapsed": false,
    "jupyter": {
     "outputs_hidden": false
    }
   },
   "source": [
    "The dual basis of the Kinnersley tetrad (each member of the dual is a 1-form and is labelled with an upper index):"
   ]
  },
  {
   "cell_type": "code",
   "execution_count": null,
   "metadata": {
    "jupyter": {
     "outputs_hidden": false
    }
   },
   "outputs": [],
   "source": [
    "for form in K.coframe():\n",
    "    show(form.display())"
   ]
  },
  {
   "cell_type": "markdown",
   "metadata": {
    "collapsed": false,
    "jupyter": {
     "outputs_hidden": false
    }
   },
   "source": [
    "We notice a lack of simplification. To fix it, we define a simplifying function that \n",
    "invokes the algebraic field $\\bar{\\mathbb{Q}}$:"
   ]
  },
  {
   "cell_type": "code",
   "execution_count": null,
   "metadata": {
    "jupyter": {
     "outputs_hidden": false
    }
   },
   "outputs": [],
   "source": [
    "def algebraic_simplify(expr):\n",
    "    r\"\"\"\n",
    "    Simplifies a symbolic expression through the fraction field of polynomials\n",
    "    over QQbar\n",
    "\n",
    "    INPUT:\n",
    "\n",
    "    - ``expr`` -- a Sage's symbolic expression (element of the symbolic ring SR)\n",
    "\n",
    "    OUTPUT:\n",
    "\n",
    "    - a Sage's symbolic expression\n",
    "\n",
    "    \"\"\"\n",
    "    a00, m00, r00, y00, z00, s00 = SR.var('a00 m00 r00 y00 z00 s00')\n",
    "    # From symbolic variables to variables in QQbar:\n",
    "    expr = expr.subs({a: a00, m: m00, r: r00, cos(th): y00, sin(th): z00, sqrt(2): s00})\n",
    "    expr = expr.subs({z00^2: 1 - y00^2}) # sin(th)^2 --> 1 - cos(th)^2\n",
    "    F = QQbar['a00', 'm00', 'r00', 'y00', 'z00', 's00'].fraction_field()\n",
    "    expr = SR(F(str(expr))).simplify()\n",
    "    # Back to the original symbolic variables:\n",
    "    expr = expr.subs({a00: a, m00: m, r00: r, y00: cos(th), z00: sin(th), s00: sqrt(2)})\n",
    "    # Some extra simplifications:\n",
    "    expr = expr.subs({1 - cos(th)^2: sin(th)^2})\n",
    "    expr = expr.subs({cos(th)^2 - 1: -sin(th)^2})\n",
    "    w0 = SR.wild(0)\n",
    "    expr = expr.subs({w0 - w0*cos(th)^2: w0*sin(th)^2})\n",
    "    expr = expr.subs({w0*cos(th)^2 - w0: -w0*sin(th)^2})\n",
    "    expr = expr.factor().simplify_trig().factor()\n",
    "    return expr"
   ]
  },
  {
   "cell_type": "markdown",
   "metadata": {
    "collapsed": false,
    "jupyter": {
     "outputs_hidden": false
    }
   },
   "source": [
    "Let us check it:"
   ]
  },
  {
   "cell_type": "code",
   "execution_count": null,
   "metadata": {
    "jupyter": {
     "outputs_hidden": false
    }
   },
   "outputs": [],
   "source": [
    "s1, s2 = K.coframe()[3][3].expr(), K.coframe()[1][3].expr()\n",
    "s1, s2"
   ]
  },
  {
   "cell_type": "code",
   "execution_count": null,
   "metadata": {
    "jupyter": {
     "outputs_hidden": false
    }
   },
   "outputs": [],
   "source": [
    "algebraic_simplify(s1), algebraic_simplify(s2)"
   ]
  },
  {
   "cell_type": "markdown",
   "metadata": {
    "collapsed": false,
    "jupyter": {
     "outputs_hidden": false
    }
   },
   "source": [
    "Let us apply the simplifying function to all the coframe elements:"
   ]
  },
  {
   "cell_type": "code",
   "execution_count": null,
   "metadata": {
    "jupyter": {
     "outputs_hidden": false
    }
   },
   "outputs": [],
   "source": [
    "for f in K.coframe():\n",
    "    f.apply_map(algebraic_simplify, keep_other_components=True)\n",
    "    show(f.display())"
   ]
  },
  {
   "cell_type": "markdown",
   "metadata": {
    "collapsed": false,
    "jupyter": {
     "outputs_hidden": false
    }
   },
   "source": [
    "Let us check that `K` is a null NP tetrad by asking for the components of the metric tensor w.r.t. it:"
   ]
  },
  {
   "cell_type": "code",
   "execution_count": null,
   "metadata": {
    "jupyter": {
     "outputs_hidden": false
    }
   },
   "outputs": [],
   "source": [
    "g.display(K)"
   ]
  },
  {
   "cell_type": "markdown",
   "metadata": {
    "collapsed": false,
    "jupyter": {
     "outputs_hidden": false
    }
   },
   "source": [
    "A matrix view of the components:"
   ]
  },
  {
   "cell_type": "code",
   "execution_count": null,
   "metadata": {
    "jupyter": {
     "outputs_hidden": false
    }
   },
   "outputs": [],
   "source": [
    "g[K,:]"
   ]
  },
  {
   "cell_type": "markdown",
   "metadata": {
    "collapsed": false,
    "jupyter": {
     "outputs_hidden": false
    }
   },
   "source": [
    "Let us evaluate the *metric* duals (not the frame dual!) of each of the vector of the Kinnersley frame. These 1-forms are obtained via `down(g)` (index lowering with the metric $g$):"
   ]
  },
  {
   "cell_type": "code",
   "execution_count": null,
   "metadata": {
    "jupyter": {
     "outputs_hidden": false
    }
   },
   "outputs": [],
   "source": [
    "lKf = lK.down(g)\n",
    "lKf.set_name('lKf', latex_name=r'\\underline{\\ell}_{\\rm K}')\n",
    "\n",
    "nKf = nK.down(g)\n",
    "nKf.set_name('nKf', latex_name=r'\\underline{n}_{\\rm K}')\n",
    "\n",
    "mKf = mK.down(g)\n",
    "mKf.set_name('mKf', latex_name=r'\\underline{m}_{\\rm K}')\n",
    "\n",
    "mbKf = mbK.down(g)\n",
    "mbKf.set_name('mbKf', latex_name=r'\\underline{\\bar{m}}_{\\rm K}')\n",
    "\n",
    "for f in (lKf, nKf, mKf, mbKf):\n",
    "    f.apply_map(algebraic_simplify, keep_other_components=True)\n",
    "    show(f.display())"
   ]
  },
  {
   "cell_type": "code",
   "execution_count": null,
   "metadata": {
    "jupyter": {
     "outputs_hidden": false
    }
   },
   "outputs": [],
   "source": [
    "for f in (lKf, nKf, mKf, mbKf):\n",
    "    show(f.display(K))"
   ]
  },
  {
   "cell_type": "markdown",
   "metadata": {
    "collapsed": false,
    "jupyter": {
     "outputs_hidden": false
    }
   },
   "source": [
    "## Levi-Civita connection\n",
    "\n",
    "The Levi-Civita connection  $\\nabla$ is returned by the method `connection`:"
   ]
  },
  {
   "cell_type": "code",
   "execution_count": null,
   "metadata": {
    "jupyter": {
     "outputs_hidden": false
    }
   },
   "outputs": [],
   "source": [
    "nabla = g.connection()"
   ]
  },
  {
   "cell_type": "markdown",
   "metadata": {
    "collapsed": false,
    "jupyter": {
     "outputs_hidden": false
    }
   },
   "source": [
    "## Ricci rotation coefficients"
   ]
  },
  {
   "cell_type": "markdown",
   "metadata": {
    "collapsed": false,
    "jupyter": {
     "outputs_hidden": false
    }
   },
   "source": [
    "The connection coefficients with respect to the Kinnersley tetrad would be returned by simply typing `nabla.coef(K)`. However the Ricci rotation coefficients do not coincide exactly with those. \n",
    "Indeed, the **connection coefficients** $\\Gamma^k_{\\ \\, ij}$ are defined by\n",
    "$$ \\Gamma^i_{\\ \\, jk} := \\langle e^i ,\\nabla_{e_k} e_j\\rangle $$\n",
    "while the **Ricci rotation coefficients** are defined by\n",
    "$$ \\Gamma_{ijk} := e_i\\cdot \\nabla_{e_k} e_j \\qquad\\qquad \\mbox{(1)}$$\n",
    "where a dot stands for the scalar product with respect to the metric $g$.\n",
    "If $g_{ij} := g(e_i,e_j) = e_i\\cdot e_j$, then \n",
    "$$ \\Gamma_{ijk} = g_{il} \\Gamma^{l}_{\\ \\, jk}  . $$"
   ]
  },
  {
   "cell_type": "markdown",
   "metadata": {
    "collapsed": false,
    "jupyter": {
     "outputs_hidden": false
    }
   },
   "source": [
    "We implement here a Python function that computes the Ricci rotation coefficients from (1) and returns them as an object of type `CompWithSym`, in order to take into account the antisymmetry with respect to the first two indices ($\\Gamma_{ijk} = - \\Gamma_{jik}$):"
   ]
  },
  {
   "cell_type": "code",
   "execution_count": null,
   "metadata": {
    "jupyter": {
     "outputs_hidden": false
    }
   },
   "outputs": [],
   "source": [
    "def ricci_coef(tetrad, metric=g, chart=M.default_chart(), \n",
    "               simplify=algebraic_simplify, verbose=False):\n",
    "    r\"\"\"\n",
    "    Compute the Ricci rotation coefficients with respect to a given tetrad.\n",
    "\n",
    "    The Ricci rotation coefficients `Gamma_{ijk}` are stored in a CompWithSym \n",
    "    object ``C`` such that ``C[i,j,k]`` ` = \\Gamma_{ijk}`\n",
    "\n",
    "    INPUT:\n",
    "\n",
    "    - ``tetrad`` -- the tetrad, as an instance of VectorFrame\n",
    "    - ``metric`` -- the metric defining the Levi-Civita connection\n",
    "    - ``chart`` -- the coordinate chart in which the computation is performed\n",
    "    - ``simplify`` -- a simplifying function \n",
    "    - ``verbose`` -- if ``True``, loop indices are printed out during \n",
    "      the computation\n",
    "\n",
    "    OUTPUT:\n",
    "\n",
    "    - instance of ``CompWithSym`` providing the Ricci rotation coefficients\n",
    "\n",
    "    \"\"\"\n",
    "    from sage.tensor.modules.comp import CompWithSym\n",
    "    from sage.manifolds.differentiable.scalarfield import DiffScalarField\n",
    "\n",
    "    ee = tetrad  # shortcut notations\n",
    "    gg = metric  #\n",
    "    nabla = gg.connection()\n",
    "    resu = CompWithSym(M.scalar_field_algebra(),  # each $\\Gamma_{ijk}$ is a scalar field\n",
    "                       tetrad,    # these are coefficients with respect to the given tetrad\n",
    "                       3,         # 3-index objects\n",
    "                       start_index=M.start_index(), # same starting index as for the manifold\n",
    "                       output_formatter=DiffScalarField.coord_function,  # for display\n",
    "                       antisym=(0,1))   # antisymmetry with respect to the first two indices\n",
    "\n",
    "    for j in M.irange(end=M.dim() - 2 - M.start_index()):\n",
    "        if verbose: print(\"j = \", j)\n",
    "        nab_ej = nabla(ee[j])  # \\nabla e_j\n",
    "        for k in M.irange():\n",
    "            nab_ek_ej = nab_ej.contract(ee[k])  # \\nabla_{e_k} e_j\n",
    "            nab_ek_ej.apply_map(simplify, frame=chart.frame(), chart=chart)\n",
    "            for i in M.irange(start=j+1):\n",
    "                if verbose: print('i j k : ', i, j, k)\n",
    "                # formula (1) above :\n",
    "                resu[[i,j,k]] = simplify( gg(ee[i], nab_ek_ej).expr(chart) )\n",
    "    return resu"
   ]
  },
  {
   "cell_type": "code",
   "execution_count": null,
   "metadata": {
    "jupyter": {
     "outputs_hidden": false
    }
   },
   "outputs": [],
   "source": [
    "%time omK = ricci_coef(K, verbose=True)"
   ]
  },
  {
   "cell_type": "markdown",
   "metadata": {
    "collapsed": false,
    "jupyter": {
     "outputs_hidden": false
    }
   },
   "source": [
    "## Newman-Penrose spin coefficients"
   ]
  },
  {
   "cell_type": "code",
   "execution_count": null,
   "metadata": {
    "jupyter": {
     "outputs_hidden": false
    }
   },
   "outputs": [],
   "source": [
    "def spin_coef_NP(rcf, simplify=algebraic_simplify, signature='positive'):\n",
    "    r\"\"\"\n",
    "    Evaluate the Newman-Penrose spin coefficients associated to a tetrad,\n",
    "    from the Ricci rotation coefficients of this tetrad.\n",
    "\n",
    "    INPUT:\n",
    "\n",
    "    - ``rcf`` -- the Ricci rotation coefficients, as an instance of CompWithSym\n",
    "    - ``simplify`` -- a simplifying function\n",
    "    - ``signature`` -- the metric signature (either ``'positive'``\n",
    "      or ``'negative'``)\n",
    "\n",
    "    OUPUT:\n",
    "\n",
    "    - a dictionary containing the 12 Newman-Penrose spin coefficients, with\n",
    "      the Greek symbols of the coefficients as the dictionary keys.\n",
    "\n",
    "    \"\"\"\n",
    "    resu = {}\n",
    "    resu['κ'] = rcf[0,2,0]\n",
    "    resu['ρ'] = rcf[0,2,3]\n",
    "    resu['σ'] = rcf[0,2,2]\n",
    "    resu['τ'] = rcf[0,2,1]\n",
    "    resu['ν'] = rcf[3,1,1]\n",
    "    resu['μ'] = rcf[3,1,2]\n",
    "    resu['λ'] = rcf[3,1,3]\n",
    "    resu['π'] = rcf[3,1,0]\n",
    "    resu['ϵ'] = (rcf[0,1,0] - rcf[2,3,0])/2\n",
    "    resu['α'] = (rcf[0,1,3] - rcf[2,3,3])/2\n",
    "    resu['β'] = (rcf[0,1,2] - rcf[2,3,2])/2\n",
    "    resu['γ'] = (rcf[0,1,1] - rcf[2,3,1])/2\n",
    "    if signature == 'negative':\n",
    "        for name, sc in resu.items():\n",
    "            resu[name] = - sc\n",
    "    elif signature != 'positive':\n",
    "        raise ValueError(\"signature must be either 'positive' or 'negative'\")\n",
    "    # Conversion to symbolic expressions and simplification:\n",
    "    for name, sc in resu.items():\n",
    "        resu[name] = simplify(sc.expr())\n",
    "    return resu"
   ]
  },
  {
   "cell_type": "code",
   "execution_count": null,
   "metadata": {
    "jupyter": {
     "outputs_hidden": false
    }
   },
   "outputs": [],
   "source": [
    "scNP = spin_coef_NP(omK)\n",
    "scNP"
   ]
  },
  {
   "cell_type": "markdown",
   "metadata": {
    "collapsed": false,
    "jupyter": {
     "outputs_hidden": false
    }
   },
   "source": [
    "## Geroch–Held–Penrose spin coefficients"
   ]
  },
  {
   "cell_type": "code",
   "execution_count": null,
   "metadata": {
    "jupyter": {
     "outputs_hidden": false
    }
   },
   "outputs": [],
   "source": [
    "def spin_coef_GHP(rcf, simplify=algebraic_simplify, signature='positive'):\n",
    "    r\"\"\"\n",
    "    Evaluate the Geroch-Held-Penrose spin coefficients associated to a tetrad,\n",
    "    from the Ricci rotation coefficients of this tetrad.\n",
    "\n",
    "    INPUT:\n",
    "\n",
    "    - ``rcf`` -- the Ricci rotation coefficients, as an instance of CompWithSym\n",
    "    - ``simplify`` -- a simplifying function\n",
    "    - ``signature`` -- the metric signature (either ``'positive'``\n",
    "      or ``'negative'``)\n",
    "\n",
    "    OUPUT:\n",
    "\n",
    "    - a dictionary containing the 12 Geroch-Help-Penrose spin coefficients, with\n",
    "      the Greek symbols of the coefficients as the dictionary keys.\n",
    "\n",
    "    \"\"\"\n",
    "    scNP = spin_coef_NP(rcf, simplify=simplify, signature=signature)\n",
    "    resu = {}\n",
    "    for symb in ('β', 'ϵ', 'ρ', 'τ', 'σ', 'κ'):\n",
    "        resu[symb] = scNP[symb]\n",
    "    resu[\"β'\"] = -scNP[\"α\"]\n",
    "    resu[\"ϵ'\"] = -scNP[\"γ\"]\n",
    "    resu[\"ρ'\"] = -scNP[\"μ\"]\n",
    "    resu[\"τ'\"] = -scNP[\"π\"]\n",
    "    resu[\"σ'\"] = -scNP[\"λ\"]\n",
    "    resu[\"κ'\"] = -scNP[\"ν\"]\n",
    "    return resu"
   ]
  },
  {
   "cell_type": "code",
   "execution_count": null,
   "metadata": {
    "jupyter": {
     "outputs_hidden": false
    }
   },
   "outputs": [],
   "source": [
    "sc = spin_coef_GHP(omK)\n",
    "sc"
   ]
  },
  {
   "cell_type": "markdown",
   "metadata": {
    "collapsed": false,
    "jupyter": {
     "outputs_hidden": false
    }
   },
   "source": [
    "### Check of the GHP spin coefficients by comparison with known formulas"
   ]
  },
  {
   "cell_type": "code",
   "execution_count": null,
   "metadata": {
    "jupyter": {
     "outputs_hidden": false
    }
   },
   "outputs": [],
   "source": [
    "sc[\"ρ\"]"
   ]
  },
  {
   "cell_type": "code",
   "execution_count": null,
   "metadata": {
    "jupyter": {
     "outputs_hidden": false
    }
   },
   "outputs": [],
   "source": [
    "bool(sc[\"ρ\"] == rho)"
   ]
  },
  {
   "cell_type": "code",
   "execution_count": null,
   "metadata": {
    "jupyter": {
     "outputs_hidden": false
    }
   },
   "outputs": [],
   "source": [
    "sc[\"ρ'\"]"
   ]
  },
  {
   "cell_type": "code",
   "execution_count": null,
   "metadata": {
    "jupyter": {
     "outputs_hidden": false
    }
   },
   "outputs": [],
   "source": [
    "bool(sc[\"ρ'\"] == -rho*Delta/(2*Sigma))"
   ]
  },
  {
   "cell_type": "code",
   "execution_count": null,
   "metadata": {
    "jupyter": {
     "outputs_hidden": false
    }
   },
   "outputs": [],
   "source": [
    "sc[\"τ\"]"
   ]
  },
  {
   "cell_type": "code",
   "execution_count": null,
   "metadata": {
    "jupyter": {
     "outputs_hidden": false
    }
   },
   "outputs": [],
   "source": [
    "bool(sc[\"τ\"] == -I*a*sin(th)/(sqrt(2)*Sigma))"
   ]
  },
  {
   "cell_type": "code",
   "execution_count": null,
   "metadata": {
    "jupyter": {
     "outputs_hidden": false
    }
   },
   "outputs": [],
   "source": [
    "sc[\"τ'\"]"
   ]
  },
  {
   "cell_type": "code",
   "execution_count": null,
   "metadata": {
    "jupyter": {
     "outputs_hidden": false
    }
   },
   "outputs": [],
   "source": [
    "bool(sc[\"τ'\"] == -I*a*rho^2*sin(th)/sqrt(2))"
   ]
  },
  {
   "cell_type": "code",
   "execution_count": null,
   "metadata": {
    "jupyter": {
     "outputs_hidden": false
    }
   },
   "outputs": [],
   "source": [
    "sc[\"β\"]"
   ]
  },
  {
   "cell_type": "code",
   "execution_count": null,
   "metadata": {
    "jupyter": {
     "outputs_hidden": false
    }
   },
   "outputs": [],
   "source": [
    "bool(sc[\"β\"] == -rho_bar/(2*sqrt(2)*tan(th)))"
   ]
  },
  {
   "cell_type": "code",
   "execution_count": null,
   "metadata": {
    "jupyter": {
     "outputs_hidden": false
    }
   },
   "outputs": [],
   "source": [
    "sc[\"β'\"]"
   ]
  },
  {
   "cell_type": "code",
   "execution_count": null,
   "metadata": {
    "jupyter": {
     "outputs_hidden": false
    }
   },
   "outputs": [],
   "source": [
    "bool(sc[\"β'\"] == sc[\"β\"].conjugate() + sc[\"τ'\"])"
   ]
  },
  {
   "cell_type": "markdown",
   "metadata": {
    "collapsed": false,
    "jupyter": {
     "outputs_hidden": false
    }
   },
   "source": [
    "Besides, we have $\\epsilon' \\neq 0$:"
   ]
  },
  {
   "cell_type": "code",
   "execution_count": null,
   "metadata": {
    "jupyter": {
     "outputs_hidden": false
    }
   },
   "outputs": [],
   "source": [
    "sc[\"ϵ'\"]"
   ]
  },
  {
   "cell_type": "code",
   "execution_count": null,
   "metadata": {
    "jupyter": {
     "outputs_hidden": false
    }
   },
   "outputs": [],
   "source": [
    "eps_prime0 = (m*(a^2*cos(th)^2 - r^2) + a^2*r*sin(th)^2 \n",
    "              + I*a*Delta*cos(th)) / (2*(r^2 + a^2*cos(th)^2)^2)\n",
    "eps_prime0"
   ]
  },
  {
   "cell_type": "code",
   "execution_count": null,
   "metadata": {
    "jupyter": {
     "outputs_hidden": false
    }
   },
   "outputs": [],
   "source": [
    "bool(sc[\"ϵ'\"] == eps_prime0)"
   ]
  },
  {
   "cell_type": "markdown",
   "metadata": {
    "collapsed": false,
    "jupyter": {
     "outputs_hidden": false
    }
   },
   "source": [
    "All the other spin coefficients are zero:"
   ]
  },
  {
   "cell_type": "code",
   "execution_count": null,
   "metadata": {
    "jupyter": {
     "outputs_hidden": false
    }
   },
   "outputs": [],
   "source": [
    "sc[\"ϵ\"], sc[\"σ\"], sc[\"σ'\"], sc[\"κ\"], sc[\"κ'\"]"
   ]
  }
 ],
 "metadata": {
  "kernelspec": {
   "display_name": "SageMath 10.4.rc1",
   "language": "sage",
   "name": "sagemath"
  },
  "language_info": {
   "codemirror_mode": {
    "name": "ipython",
    "version": 3
   },
   "file_extension": ".py",
   "mimetype": "text/x-python",
   "name": "python",
   "nbconvert_exporter": "python",
   "pygments_lexer": "ipython3",
   "version": "3.10.12"
  }
 },
 "nbformat": 4,
 "nbformat_minor": 4
}
