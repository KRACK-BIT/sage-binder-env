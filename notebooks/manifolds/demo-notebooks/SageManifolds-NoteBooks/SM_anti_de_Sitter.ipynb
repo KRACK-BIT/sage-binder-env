{
 "cells": [
  {
   "cell_type": "markdown",
   "metadata": {},
   "source": [
    "# Anti-de Sitter spacetime\n",
    "\n",
    "This notebook demonstrates some capabilities of SageMath in computations regarding the 4-dimensional anti-de Sitter spacetime. The corresponding tools have been developed within the  [SageManifolds](https://sagemanifolds.obspm.fr) project."
   ]
  },
  {
   "cell_type": "markdown",
   "metadata": {},
   "source": [
    "*NB:* a version of SageMath at least equal to 8.8 is required to run this notebook:"
   ]
  },
  {
   "cell_type": "code",
   "execution_count": null,
   "metadata": {},
   "outputs": [],
   "source": [
    "version()"
   ]
  },
  {
   "cell_type": "markdown",
   "metadata": {},
   "source": [
    "First we set up the notebook to display mathematical objects using LaTeX rendering:"
   ]
  },
  {
   "cell_type": "code",
   "execution_count": null,
   "metadata": {},
   "outputs": [],
   "source": [
    "%display latex"
   ]
  },
  {
   "cell_type": "markdown",
   "metadata": {},
   "source": [
    "We initialize a time counter for benchmarking:"
   ]
  },
  {
   "cell_type": "code",
   "execution_count": null,
   "metadata": {},
   "outputs": [],
   "source": [
    "import time\n",
    "comput_time0 = time.perf_counter()"
   ]
  },
  {
   "cell_type": "markdown",
   "metadata": {},
   "source": [
    "## Spacetime manifold\n",
    "\n",
    "We declare the anti-de Sitter spacetime as a 4-dimensional Lorentzian manifold:"
   ]
  },
  {
   "cell_type": "code",
   "execution_count": null,
   "metadata": {},
   "outputs": [],
   "source": [
    "M = Manifold(4, 'M', r'\\mathcal{M}', structure='Lorentzian')\n",
    "print(M); M"
   ]
  },
  {
   "cell_type": "markdown",
   "metadata": {},
   "source": [
    "<p>We consider hyperbolic coordinates $(\\tau,\\rho,\\theta,\\phi)$ on $\\mathcal{M}$. Allowing for the standard coordinate singularities at $\\rho=0$, $\\theta=0$ or $\\theta=\\pi$, these coordinates cover the entire spacetime manifold (which is topologically $\\mathbb{R}^4$). If we restrict ourselves to <em>regular</em> coordinates (i.e. to considering only mathematically well defined charts), the hyperbolic coordinates cover only an open part of $\\mathcal{M}$, which we call $\\mathcal{M}_0$, on which $\\rho$ spans the open interval $(0,+\\infty)$, $\\theta$ the open interval $(0,\\pi)$ and $\\phi$ the open interval $(0,2\\pi)$. Therefore, we declare:</p>"
   ]
  },
  {
   "cell_type": "code",
   "execution_count": null,
   "metadata": {},
   "outputs": [],
   "source": [
    "M0 = M.open_subset('M_0', r'\\mathcal{M}_0' )\n",
    "X_hyp.<ta,rh,th,ph> = M0.chart(r'ta:\\tau rh:(0,+oo):\\rho th:(0,pi):\\theta ph:(0,2*pi):\\phi')\n",
    "print(X_hyp); X_hyp"
   ]
  },
  {
   "cell_type": "code",
   "execution_count": null,
   "metadata": {},
   "outputs": [],
   "source": [
    "X_hyp.coord_range()"
   ]
  },
  {
   "cell_type": "markdown",
   "metadata": {},
   "source": [
    "## $\\mathbb{R}^{2,3}$ as an ambient space\n",
    "The AdS metric can be defined as that induced by the immersion of $\\mathcal{M}$ in $\\mathbb{R}^{2,3}$, the latter being nothing but $\\mathbb{R}^5$ equipped with a flat pseudo-Riemannian metric of signature $(-,-,+,+,+)$. Let us construct $\\mathbb{R}^{2,3}$ as a 5-dimensional manifold covered by canonical coordinates:"
   ]
  },
  {
   "cell_type": "code",
   "execution_count": null,
   "metadata": {},
   "outputs": [],
   "source": [
    "R23 = Manifold(5, 'R23', r'\\mathbb{R}^{2,3}', structure='pseudo-Riemannian', signature=1, \n",
    "               metric_name='h')\n",
    "X23.<U,V,X,Y,Z> = R23.chart()\n",
    "print(X23); X23"
   ]
  },
  {
   "cell_type": "markdown",
   "metadata": {},
   "source": [
    "We define the pseudo-Riemannian metric of $\\mathbb{R}^{2,3}$:"
   ]
  },
  {
   "cell_type": "code",
   "execution_count": null,
   "metadata": {},
   "outputs": [],
   "source": [
    "h = R23.metric()\n",
    "h[0,0], h[1,1], h[2,2], h[3,3], h[4,4] = -1, -1, 1, 1, 1\n",
    "h.display()"
   ]
  },
  {
   "cell_type": "markdown",
   "metadata": {},
   "source": [
    "The AdS immersion into $\\mathbb{R}^{2,3}$ is defined as a differential map $\\Phi$ from $\\mathcal{M}$ to $\\mathbb{R}^{2,3}$, by providing its expression in terms of $\\mathcal{M}$'s default chart (which is X_hyp = $(\\mathcal{M}_0,(\\tau,\\rho,\\theta,\\phi))$ ) and $\\mathbb{R}^{2,3}$'s default chart (which is X23 = $(\\mathbb{R}^{2,3},(U,V,X,Y,Z))$ ):"
   ]
  },
  {
   "cell_type": "code",
   "execution_count": null,
   "metadata": {},
   "outputs": [],
   "source": [
    "var('l', latex_name=r'\\ell', domain='real')\n",
    "assume(l>0)\n",
    "Phi = M.diff_map(R23, [l*cosh(rh)*cos(ta/l),\n",
    "                       l*cosh(rh)*sin(ta/l),\n",
    "                       l*sinh(rh)*sin(th)*cos(ph),\n",
    "                       l*sinh(rh)*sin(th)*sin(ph),\n",
    "                       l*sinh(rh)*cos(th)],\n",
    "                 name='Phi', latex_name=r'\\Phi')\n",
    "print(Phi); Phi.display()"
   ]
  },
  {
   "cell_type": "markdown",
   "metadata": {},
   "source": [
    "The constant $\\ell$ is the AdS length parameter. Considering AdS metric as a solution of vacuum Einstein equation with negative cosmological constant $\\Lambda$, one has $\\ell = \\sqrt{-3/\\Lambda}$.\n",
    "\n",
    "Let us evaluate the image of a point via the map $\\Phi$:"
   ]
  },
  {
   "cell_type": "code",
   "execution_count": null,
   "metadata": {},
   "outputs": [],
   "source": [
    "p = M((ta, rh, th, ph), name='p'); print(p)"
   ]
  },
  {
   "cell_type": "markdown",
   "metadata": {},
   "source": [
    "The coordinates of $p$ in the chart `X_hyp`:"
   ]
  },
  {
   "cell_type": "code",
   "execution_count": null,
   "metadata": {},
   "outputs": [],
   "source": [
    "X_hyp(p)"
   ]
  },
  {
   "cell_type": "code",
   "execution_count": null,
   "metadata": {},
   "outputs": [],
   "source": [
    "q = Phi(p); print(q)"
   ]
  },
  {
   "cell_type": "code",
   "execution_count": null,
   "metadata": {},
   "outputs": [],
   "source": [
    "X23(q)"
   ]
  },
  {
   "cell_type": "markdown",
   "metadata": {},
   "source": [
    "The image of $\\mathcal{M}$ by the immersion $\\Phi$ is a hyperboloid of one sheet, of equation $$-U^2-V^2+X^2+Y^2+Z^2=-\\ell^2.$$\n",
    "Indeed:"
   ]
  },
  {
   "cell_type": "code",
   "execution_count": null,
   "metadata": {},
   "outputs": [],
   "source": [
    "(Uq,Vq,Xq,Yq,Zq) = X23(q)\n",
    "s = - Uq^2 - Vq^2 + Xq^2 + Yq^2 + Zq^2\n",
    "s.simplify_full()"
   ]
  },
  {
   "cell_type": "markdown",
   "metadata": {},
   "source": [
    "We may use the immersion $\\Phi$ to draw the coordinate grid $(\\tau,\\rho)$ in terms of the coordinates $(U,V,X)$ for $\\theta=\\pi/2$ and $\\phi=0$ ($X\\geq 0$ part) or $\\phi=\\pi$ \n",
    "($X\\leq 0$ part). The red (rep. grey) curves are those for which $\\rho={\\rm const}$ \n",
    "(resp. $\\tau={\\rm const}$):"
   ]
  },
  {
   "cell_type": "code",
   "execution_count": null,
   "metadata": {},
   "outputs": [],
   "source": [
    "graph_hyp = X_hyp.plot(X23, mapping=Phi, ambient_coords=(V,X,U), fixed_coords={th:pi/2, ph:0}, \n",
    "                    ranges={ta:(0,2*pi), rh:(0,2)}, number_values=9, \n",
    "                    color={ta:'red', rh:'grey'}, thickness=2, parameters={l:1}, \n",
    "                    label_axes=False)  # phi = 0 => X > 0 part\n",
    "graph_hyp += X_hyp.plot(X23, mapping=Phi, ambient_coords=(V,X,U), fixed_coords={th:pi/2, ph:pi},\n",
    "                    ranges={ta:(0,2*pi), rh:(0,2)}, number_values=9, \n",
    "                    color={ta:'red', rh:'grey'}, thickness=2, parameters={l:1}, \n",
    "                    label_axes=False)  # phi = pi => X < 0 part\n",
    "show(graph_hyp, aspect_ratio=1, axes_labels=['V','X','U'])"
   ]
  },
  {
   "cell_type": "markdown",
   "metadata": {},
   "source": [
    "To have a nicer picture, we add the plot of the hyperboloid obtained by `parametric_plot` with $(\\tau,\\rho)$ as parameters and the expressions of $(U,V,X)$ in terms of $(\\tau,\\rho)$  deduced from the coordinate representation of $\\Phi$:"
   ]
  },
  {
   "cell_type": "code",
   "execution_count": null,
   "metadata": {},
   "outputs": [],
   "source": [
    "Phi.coord_functions() # the default pair of charts (X_hyp, X23) is assumed"
   ]
  },
  {
   "cell_type": "code",
   "execution_count": null,
   "metadata": {},
   "outputs": [],
   "source": [
    "Ug = Phi.coord_functions()[0](ta,rh,pi/2,0).subs({l:1})  # l=1 substituted to have numerical values\n",
    "Vg = Phi.coord_functions()[1](ta,rh,pi/2,0).subs({l:1})\n",
    "Xg = Phi.coord_functions()[2](ta,rh,pi/2,0).subs({l:1})\n",
    "Ug, Vg, Xg"
   ]
  },
  {
   "cell_type": "code",
   "execution_count": null,
   "metadata": {},
   "outputs": [],
   "source": [
    "hyperboloid = parametric_plot3d([Vg, Xg, Ug], (ta,0,2*pi), (rh,-2,2), color=(1.,1.,0.9))\n",
    "graph_hyp += hyperboloid\n",
    "show(graph_hyp, aspect_ratio=1, axes_labels=['V','X','U'])"
   ]
  },
  {
   "cell_type": "markdown",
   "metadata": {},
   "source": [
    "## Spacetime metric"
   ]
  },
  {
   "cell_type": "markdown",
   "metadata": {},
   "source": [
    "As mentionned above, the AdS metric $g$ on $\\mathcal{M}$ is that induced by the flat metric $h$ on $\\mathbb{R}^{2,3}$, i.e.$g$ is the pullback of $h$ by the differentiable map $\\Phi$:"
   ]
  },
  {
   "cell_type": "code",
   "execution_count": null,
   "metadata": {},
   "outputs": [],
   "source": [
    "g = M.metric()\n",
    "g.set( Phi.pullback(h) )"
   ]
  },
  {
   "cell_type": "markdown",
   "metadata": {},
   "source": [
    "<p>The expression of $g$ in terms of $\\mathcal{M}$'s default frame is found to be</p>"
   ]
  },
  {
   "cell_type": "code",
   "execution_count": null,
   "metadata": {},
   "outputs": [],
   "source": [
    "g.display()"
   ]
  },
  {
   "cell_type": "code",
   "execution_count": null,
   "metadata": {},
   "outputs": [],
   "source": [
    "g[:]"
   ]
  },
  {
   "cell_type": "markdown",
   "metadata": {},
   "source": [
    "<h2>Curvature</h2>\n",
    "<p>The Riemann tensor of $g$ is</p>"
   ]
  },
  {
   "cell_type": "code",
   "execution_count": null,
   "metadata": {},
   "outputs": [],
   "source": [
    "Riem = g.riemann()\n",
    "print(Riem)"
   ]
  },
  {
   "cell_type": "code",
   "execution_count": null,
   "metadata": {},
   "outputs": [],
   "source": [
    "Riem.display_comp(only_nonredundant=True)"
   ]
  },
  {
   "cell_type": "markdown",
   "metadata": {},
   "source": [
    "<p>The Ricci tensor:</p>"
   ]
  },
  {
   "cell_type": "code",
   "execution_count": null,
   "metadata": {},
   "outputs": [],
   "source": [
    "Ric = g.ricci()\n",
    "print(Ric)\n",
    "Ric.display()"
   ]
  },
  {
   "cell_type": "code",
   "execution_count": null,
   "metadata": {},
   "outputs": [],
   "source": [
    "Ric[:]"
   ]
  },
  {
   "cell_type": "markdown",
   "metadata": {},
   "source": [
    "<p>The Ricci scalar:</p>"
   ]
  },
  {
   "cell_type": "code",
   "execution_count": null,
   "metadata": {},
   "outputs": [],
   "source": [
    "R = g.ricci_scalar()\n",
    "print(R)\n",
    "R.display()"
   ]
  },
  {
   "cell_type": "markdown",
   "metadata": {},
   "source": [
    "We recover the fact that AdS spacetime has a constant curvature. It is indeed a **maximally symmetric space**. In particular, the Riemann tensor is expressible as\n",
    "$$ R^i_{\\ \\, jlk} = \\frac{R}{n(n-1)} \\left( \\delta^i_{\\ \\, k} g_{jl} - \\delta^i_{\\ \\, l} g_{jk} \\right), $$\n",
    "where $n$ is the dimension of $\\mathcal{M}$: $n=4$ in the present case. Let us check this formula here, under the form $R^i_{\\ \\, jlk} = -\\frac{R}{6} g_{j[k} \\delta^i_{\\ \\, l]}$:"
   ]
  },
  {
   "cell_type": "code",
   "execution_count": null,
   "metadata": {},
   "outputs": [],
   "source": [
    "delta = M.tangent_identity_field() \n",
    "Riem == - (R/6)*(g*delta).antisymmetrize(2,3)  # 2,3 = last positions of the \n",
    "                                               #       type-(1,3) tensor g*delta"
   ]
  },
  {
   "cell_type": "markdown",
   "metadata": {},
   "source": [
    "We may also check that AdS metric is a solution of the vacuum **Einstein equation** with (negative) cosmological constant $\\Lambda = - 3/\\ell^2$:"
   ]
  },
  {
   "cell_type": "code",
   "execution_count": null,
   "metadata": {},
   "outputs": [],
   "source": [
    "Lambda = -3/l^2\n",
    "Ric - 1/2*R*g + Lambda*g == 0"
   ]
  },
  {
   "cell_type": "markdown",
   "metadata": {},
   "source": [
    "## Radial null geodesics\n",
    "\n",
    "Null geodesics that are radial with respect to coordinates $(\\tau,\\rho,\\theta,\\phi)$ obey\n",
    "$$ \\tau = \\pm 2 \\ell \\left( \\mathrm{atan} \\left(\\mathrm{e}^\\rho\\right) - \\frac{\\pi}{4} \\right) + \\tau_0,$$\n",
    "where $\\tau_0$ is a constant (the value of $\\tau$ at $\\rho=0$). Note that, due to the homogeneity of AdS spacetime, any null geodesic is a \"radial\" geodesic with respect to some coordinate system $(\\tau',\\rho',\\theta',\\phi')$, as in Minkowski spacetime, any null geodesic is a straight line and one can always find a Minkowskian coordinate system $(t',x',y',z')$ with respect to which the null geodesic is radial.\n",
    "\n",
    "Let us consider two finite families of radial null geodesics having $\\theta=\\pi/2$ and $\\phi=0$ or $\\pi$: \n",
    "- `null_geod1` has $\\phi=\\pi$ when $\\tau< 0$ and $\\phi=0$ when $\\tau>0$\n",
    "- `null_geod2` has $\\phi=0$ when $\\tau<0$ and $\\phi=\\pi$ when $\\tau>0$"
   ]
  },
  {
   "cell_type": "code",
   "execution_count": null,
   "metadata": {},
   "outputs": [],
   "source": [
    "lamb = var('lamb', latex_name=r'\\lambda')\n",
    "null_geod1 = [M.curve({X_hyp: [2*sgn(lamb)*l*(atan(exp(abs(lamb))) - pi/4) + 2*pi*(i-4)/8, \n",
    "                                  abs(lamb), pi/2, pi*unit_step(-lamb)]}, \n",
    "                         (lamb, -oo, +oo)) for i in range(9)]\n",
    "null_geod2 = [M.curve({X_hyp: [2*sgn(lamb)*l*(atan(exp(abs(lamb))) - pi/4) + 2*pi*(i-4)/8, \n",
    "                                 abs(lamb), pi/2, pi*unit_step(lamb)]}, \n",
    "                         (lamb, -oo, +oo)) for i in range(9)]\n",
    "null_geods = null_geod1 + null_geod2"
   ]
  },
  {
   "cell_type": "code",
   "execution_count": null,
   "metadata": {},
   "outputs": [],
   "source": [
    "print(null_geods[0])"
   ]
  },
  {
   "cell_type": "code",
   "execution_count": null,
   "metadata": {},
   "outputs": [],
   "source": [
    "null_geods[0].display()"
   ]
  },
  {
   "cell_type": "code",
   "execution_count": null,
   "metadata": {},
   "outputs": [],
   "source": [
    "null_geods[9].display()"
   ]
  },
  {
   "cell_type": "markdown",
   "metadata": {},
   "source": [
    "To graphically display these geodesics, we introduce a Cartesian-like coordinate system\n",
    "$(\\tau,x_\\rho,y_\\rho,z_\\rho)$ linked to $(\\tau,\\rho,\\theta,\\phi)$ by the standard formulas:"
   ]
  },
  {
   "cell_type": "code",
   "execution_count": null,
   "metadata": {},
   "outputs": [],
   "source": [
    "X_hyp_graph.<ta,x_rho,y_rho,z_rho> = M0.chart(r'ta:\\tau x_rho:x_\\rho y_rho:y_\\rho z_rho:z_\\rho')\n",
    "hyp_to_hyp_graph = X_hyp.transition_map(X_hyp_graph, [ta, rh*sin(th)*cos(ph), \n",
    "                                                      rh*sin(th)*sin(ph), rh*cos(th)])\n",
    "hyp_to_hyp_graph.display()"
   ]
  },
  {
   "cell_type": "markdown",
   "metadata": {},
   "source": [
    "Let us plot the null geodesics in terms of the coordinates $(\\tau,x_\\rho)$:"
   ]
  },
  {
   "cell_type": "code",
   "execution_count": null,
   "metadata": {},
   "outputs": [],
   "source": [
    "graph_2d = Graphics()\n",
    "for geod in null_geods:\n",
    "    geod.expr(geod.domain().canonical_chart(), X_hyp_graph)\n",
    "    graph_2d += geod.plot(X_hyp_graph, ambient_coords=(x_rho,ta), prange=(-4,4),\n",
    "                          parameters={l:1}, color='green', thickness=1.5)\n",
    "graph_2d += X_hyp_graph.plot(X_hyp_graph, ambient_coords=(x_rho,ta), \n",
    "                             fixed_coords={th:0, ph:pi}, \n",
    "                             ranges={ta:(-pi,pi), x_rho:(-4,4)}, \n",
    "                             number_values={ta: 9, x_rho: 9},\n",
    "                             color={ta:'red', x_rho:'grey'}, parameters={l:1})\n",
    "show(graph_2d, aspect_ratio=1, ymin=-pi, ymax=pi)"
   ]
  },
  {
   "cell_type": "markdown",
   "metadata": {},
   "source": [
    "We can also get a 3D view of the radial null geodesics via the isometric immersion $\\Phi$:"
   ]
  },
  {
   "cell_type": "code",
   "execution_count": null,
   "metadata": {},
   "outputs": [],
   "source": [
    "graph_3d = Graphics()\n",
    "for geod in null_geods:\n",
    "    graph_3d += geod.plot(X23, mapping=Phi, ambient_coords=(V,X,U), prange=(-2,2),\n",
    "                          parameters={l:1}, color='green', thickness=2, \n",
    "                          plot_points=20, label_axes=False)\n",
    "show(graph_3d+graph_hyp, aspect_ratio=1, axes_labels=['V','X','U'])"
   ]
  },
  {
   "cell_type": "markdown",
   "metadata": {},
   "source": [
    "We notice that the image by $\\Phi$ of the null geodesics are straight lines of $\\mathbb{R}^{2,3}$.\n",
    "This is not surprising since $\\Phi$ is an isometric immersion and the null geodesics of\n",
    "$\\mathbb{R}^{2,3}$ are straight lines. Note that the two considered families of null geodesics of $\\mathrm{AdS}_4$ \n",
    "rule the hyperboloid (remember that a hyperboloid of one sheet is a ruled surface).  "
   ]
  },
  {
   "cell_type": "markdown",
   "metadata": {},
   "source": [
    "## A timelike geodesic\n",
    "\n",
    "Let us consider a timelike geodesic:"
   ]
  },
  {
   "cell_type": "code",
   "execution_count": null,
   "metadata": {},
   "outputs": [],
   "source": [
    "time_geod = M.curve({X_hyp: [ta, abs(atanh(4*sin(ta/l)/5)), pi/2, \n",
    "                             pi*unit_step(frac(ta/(2*pi*l))-1/2)]}, \n",
    "                    (ta, -oo, +oo))\n",
    "time_geod.display()"
   ]
  },
  {
   "cell_type": "markdown",
   "metadata": {},
   "source": [
    "and draw it in terms of the $(\\tau,x_\\rho)$ coordinates:"
   ]
  },
  {
   "cell_type": "code",
   "execution_count": null,
   "metadata": {},
   "outputs": [],
   "source": [
    "graph = time_geod.plot(X_hyp_graph, ambient_coords=(x_rho,ta), plot_points=800,\n",
    "                       parameters={l:1}, color='purple', thickness=2)\n",
    "show(graph+graph_2d, aspect_ratio=1, ymin=-pi, ymax=pi)"
   ]
  },
  {
   "cell_type": "markdown",
   "metadata": {},
   "source": [
    "Let us superpose the timelike geodesic to the 3D plot obtained via the immersion $\\Phi$ of AdS$_4$ in $\\mathbb{R}^{2,3}$:"
   ]
  },
  {
   "cell_type": "code",
   "execution_count": null,
   "metadata": {},
   "outputs": [],
   "source": [
    "graph_3d += time_geod.plot(X23, mapping=Phi, ambient_coords=(V,X,U), prange=(0,2*pi),\n",
    "                           parameters={l:1}, color='purple', thickness=2, \n",
    "                           label_axes=False)\n",
    "show(graph_3d+graph_hyp, aspect_ratio=1, axes_labels=['V','X','U'])"
   ]
  },
  {
   "cell_type": "markdown",
   "metadata": {},
   "source": [
    "We notice that the immersed timelike geodesic looks like an ellipse. It is actually a *circle* of $\\mathbb{R}^{2,3}$, as we can see by considering its restriction to $\\tau\\in(0,\\pi)$ (this avoids absolute values and step functions and therefore ease the simplifications):"
   ]
  },
  {
   "cell_type": "code",
   "execution_count": null,
   "metadata": {},
   "outputs": [],
   "source": [
    "time_geod_partial = M.curve({X_hyp: [ta, atanh(4*sin(ta/l)/5), pi/2, 0]}, \n",
    "                    (ta, 0, pi))\n",
    "time_geod_partial.display()"
   ]
  },
  {
   "cell_type": "markdown",
   "metadata": {},
   "source": [
    "The immersed curve:"
   ]
  },
  {
   "cell_type": "code",
   "execution_count": null,
   "metadata": {},
   "outputs": [],
   "source": [
    "(Phi*time_geod_partial).display()"
   ]
  },
  {
   "cell_type": "markdown",
   "metadata": {},
   "source": [
    "The position vector with respect to the origin of $\\mathbb{R}^{2,3}$:"
   ]
  },
  {
   "cell_type": "code",
   "execution_count": null,
   "metadata": {},
   "outputs": [],
   "source": [
    "v = R23.vector_field(name='v')\n",
    "v[:] = (Phi*time_geod_partial).expr()\n",
    "v.display()"
   ]
  },
  {
   "cell_type": "code",
   "execution_count": null,
   "metadata": {},
   "outputs": [],
   "source": [
    "h(v,v).display()"
   ]
  },
  {
   "cell_type": "markdown",
   "metadata": {},
   "source": [
    "Since $v$ has a constant (negative) squared norm, we conclude that the immersed timelike geodesic is a \"circle\" of $\\mathbb{R}^{2,3}$. This circle is nothing but the intersection of the hyperboloid with a 2-plane through the origin. Note also that the straight line representing the immersed null geodesics are also intersections of the hyperboloid with some 2-planes through the origin, but with a different inclination. "
   ]
  },
  {
   "cell_type": "markdown",
   "metadata": {},
   "source": [
    "## \"Static\" coordinates\n",
    "Let us introduce coordinates $(\\tau,R,\\theta,\\phi)$ on the AdS spacetime via the simple coordinate change\n",
    "$$R = \\ell \\sinh(\\rho) $$\n",
    "Despite the $(\\tau,\\rho,\\theta,\\phi)$ coordinates are as adapted to the spacetime staticity as the $(\\tau,R,\\theta,\\phi)$ coordinates, the latter ones are usually called \"static\" coordinates."
   ]
  },
  {
   "cell_type": "code",
   "execution_count": null,
   "metadata": {},
   "outputs": [],
   "source": [
    "X_stat.<ta,R,th,ph> = M0.chart(r'ta:\\tau R:(0,+oo) th:(0,pi):\\theta ph:(0,2*pi):\\phi')\n",
    "print(X_stat); X_stat"
   ]
  },
  {
   "cell_type": "code",
   "execution_count": null,
   "metadata": {},
   "outputs": [],
   "source": [
    "X_stat.coord_range()"
   ]
  },
  {
   "cell_type": "code",
   "execution_count": null,
   "metadata": {},
   "outputs": [],
   "source": [
    "hyp_to_stat = X_hyp.transition_map(X_stat, [ta, l*sinh(rh), th, ph])\n",
    "hyp_to_stat.display()"
   ]
  },
  {
   "cell_type": "code",
   "execution_count": null,
   "metadata": {},
   "outputs": [],
   "source": [
    "hyp_to_stat.set_inverse(ta, asinh(R/l), th, ph)\n",
    "stat_to_hyp = hyp_to_stat.inverse()\n",
    "stat_to_hyp.display()"
   ]
  },
  {
   "cell_type": "markdown",
   "metadata": {},
   "source": [
    "The expression of the metric tensor in the new coordinates is"
   ]
  },
  {
   "cell_type": "code",
   "execution_count": null,
   "metadata": {},
   "outputs": [],
   "source": [
    "g.display(X_stat)"
   ]
  },
  {
   "cell_type": "markdown",
   "metadata": {},
   "source": [
    "Similarly, the expression of the Riemann tensor is"
   ]
  },
  {
   "cell_type": "code",
   "execution_count": null,
   "metadata": {},
   "outputs": [],
   "source": [
    "Riem.display_comp(X_stat.frame(), X_stat, only_nonredundant=True)"
   ]
  },
  {
   "cell_type": "code",
   "execution_count": null,
   "metadata": {},
   "outputs": [],
   "source": [
    "Phi.display(X_stat, X23)"
   ]
  },
  {
   "cell_type": "markdown",
   "metadata": {},
   "source": [
    "A view of the various geodesics in terms of the coordinates $(\\tau,R)$:"
   ]
  },
  {
   "cell_type": "code",
   "execution_count": null,
   "metadata": {},
   "outputs": [],
   "source": [
    "graph = Graphics()\n",
    "for geod in null_geods:\n",
    "    geod.expr(geod.domain().canonical_chart(), X_stat)\n",
    "    graph += geod.plot(X_stat, ambient_coords=(R,ta), prange=(-3,3),\n",
    "                       parameters={l:1}, color='green', thickness=1.5)\n",
    "graph += X_stat.plot(X_stat, ambient_coords=(R,ta), fixed_coords={th:0, ph:pi}, \n",
    "                     ranges={ta:(-pi,pi), R:(0,5)}, \n",
    "                     number_values={ta: 9, R: 11},\n",
    "                     color={ta:'grey', R:'grey'}, parameters={l:1})\n",
    "time_geod.expr(time_geod.domain().canonical_chart(), X_stat)\n",
    "graph += time_geod.plot(X_stat, ambient_coords=(R,ta), plot_points=800,\n",
    "                        parameters={l:1}, color='purple', thickness=2)\n",
    "show(graph, aspect_ratio=1, ymin=-pi, ymax=pi, xmin=0, xmax=5)"
   ]
  },
  {
   "cell_type": "markdown",
   "metadata": {},
   "source": [
    "## Conformal coordinates\n",
    "\n",
    "We introduce coordinates $(\\tilde{\\tau},\\chi,\\theta,\\phi)$ such that \n",
    "$$ \\tilde{\\tau} = \\frac{\\tau}{\\ell} \\qquad\\mbox{and}\\qquad \\chi = \\mathrm{atan}\\left(\\frac{R}{\\ell}\\right) $$"
   ]
  },
  {
   "cell_type": "code",
   "execution_count": null,
   "metadata": {},
   "outputs": [],
   "source": [
    "X_conf.<tat,ch,th,ph> = M0.chart(r'tat:\\tilde{\\tau} ch:(0,pi/2):\\chi th:(0,pi):\\theta ph:(0,2*pi):\\phi')\n",
    "print(X_conf); X_conf"
   ]
  },
  {
   "cell_type": "code",
   "execution_count": null,
   "metadata": {},
   "outputs": [],
   "source": [
    "X_conf.coord_range()"
   ]
  },
  {
   "cell_type": "code",
   "execution_count": null,
   "metadata": {},
   "outputs": [],
   "source": [
    "stat_to_conf = X_stat.transition_map(X_conf, [ta/l, atan(R/l), th, ph])\n",
    "stat_to_conf.display()"
   ]
  },
  {
   "cell_type": "code",
   "execution_count": null,
   "metadata": {},
   "outputs": [],
   "source": [
    "stat_to_conf.inverse().display()"
   ]
  },
  {
   "cell_type": "code",
   "execution_count": null,
   "metadata": {},
   "outputs": [],
   "source": [
    "hyp_to_conf = stat_to_conf * hyp_to_stat\n",
    "hyp_to_conf.display()"
   ]
  },
  {
   "cell_type": "code",
   "execution_count": null,
   "metadata": {},
   "outputs": [],
   "source": [
    "conf_to_hyp = hyp_to_stat.inverse() * stat_to_conf.inverse()\n",
    "conf_to_hyp.display()"
   ]
  },
  {
   "cell_type": "markdown",
   "metadata": {},
   "source": [
    "The expression of the metric tensor in the conformal coordinates is"
   ]
  },
  {
   "cell_type": "code",
   "execution_count": null,
   "metadata": {},
   "outputs": [],
   "source": [
    "g.display(X_conf)"
   ]
  },
  {
   "cell_type": "markdown",
   "metadata": {},
   "source": [
    "The immersion of $\\mathcal{M}$ in $(\\mathbb{R}^{2,3},h)$ in terms of the conformal coordinates:"
   ]
  },
  {
   "cell_type": "code",
   "execution_count": null,
   "metadata": {},
   "outputs": [],
   "source": [
    "Phi.display(X_conf, X23)"
   ]
  },
  {
   "cell_type": "code",
   "execution_count": null,
   "metadata": {},
   "outputs": [],
   "source": [
    "Riem.display_comp(X_conf.frame(), X_conf, only_nonredundant=True)"
   ]
  },
  {
   "cell_type": "markdown",
   "metadata": {},
   "source": [
    "Let us draw the grid of hyperbolic coordinates in terms of the conformal ones:"
   ]
  },
  {
   "cell_type": "code",
   "execution_count": null,
   "metadata": {},
   "outputs": [],
   "source": [
    "graph = X_hyp.plot(X_conf, ambient_coords=(ch, tat), fixed_coords={th: pi/2, ph: pi}, \n",
    "                    ranges={ta: (-pi,pi), rh: (0,10)}, number_values={ta: 9, rh: 20},\n",
    "                    parameters={l:1}, color={ta: 'red', rh: 'grey'})\n",
    "show(graph, aspect_ratio=0.25)"
   ]
  },
  {
   "cell_type": "markdown",
   "metadata": {},
   "source": [
    "Same thing for the grid of static coordinates in terms of the conformal ones:"
   ]
  },
  {
   "cell_type": "code",
   "execution_count": null,
   "metadata": {},
   "outputs": [],
   "source": [
    "graph = X_stat.plot(X_conf, ambient_coords=(ch, tat), fixed_coords={th: pi/2, ph: pi}, \n",
    "                    ranges={ta: (-pi,pi), R: (0,40)}, number_values={ta: 9, R: 40},\n",
    "                    parameters={l:1}, color={ta: 'red', R: 'grey'})\n",
    "show(graph, aspect_ratio=0.25)"
   ]
  },
  {
   "cell_type": "markdown",
   "metadata": {},
   "source": [
    "Let us add some geodesics:"
   ]
  },
  {
   "cell_type": "code",
   "execution_count": null,
   "metadata": {},
   "outputs": [],
   "source": [
    "for geod in null_geods:\n",
    "    geod.display(geod.domain().canonical_chart(), X_conf)\n",
    "time_geod.display(time_geod.domain().canonical_chart(), X_conf)"
   ]
  },
  {
   "cell_type": "code",
   "execution_count": null,
   "metadata": {},
   "outputs": [],
   "source": [
    "for geod in null_geods:\n",
    "    graph += geod.plot(X_conf, ambient_coords=(ch,tat), \n",
    "                       parameters={l:1}, color='green', thickness=2)\n",
    "graph += time_geod.plot(X_conf, ambient_coords=(ch,tat), prange=(-pi, pi),\n",
    "                       plot_points=200, parameters={l:1}, color='purple', thickness=2)\n",
    "show(graph, aspect_ratio=0.25, ymin=-pi, ymax=pi)"
   ]
  },
  {
   "cell_type": "markdown",
   "metadata": {},
   "source": [
    "We notice that the null geodesics are straight lines in terms of the conformal coordinates\n",
    "$(\\tau,\\chi)$."
   ]
  },
  {
   "cell_type": "markdown",
   "metadata": {},
   "source": [
    "## Conformal metric"
   ]
  },
  {
   "cell_type": "markdown",
   "metadata": {},
   "source": [
    "Let us call $\\Omega^{-2}$ the common factor that appear in the expression of the metric in conformal coordinates: "
   ]
  },
  {
   "cell_type": "code",
   "execution_count": null,
   "metadata": {},
   "outputs": [],
   "source": [
    "Omega = M.scalar_field({X_conf: cos(ch)/l}, name='Omega', latex_name=r'\\Omega')\n",
    "Omega.display()"
   ]
  },
  {
   "cell_type": "code",
   "execution_count": null,
   "metadata": {},
   "outputs": [],
   "source": [
    "Omega.display(X_hyp)"
   ]
  },
  {
   "cell_type": "markdown",
   "metadata": {},
   "source": [
    "We introduce the metric $\\tilde g = \\Omega^2 g$:"
   ]
  },
  {
   "cell_type": "code",
   "execution_count": null,
   "metadata": {},
   "outputs": [],
   "source": [
    "gt = M.lorentzian_metric('gt', latex_name=r'\\tilde{g}')\n",
    "gt.set(Omega^2*g)\n",
    "gt.display(X_conf)"
   ]
  },
  {
   "cell_type": "markdown",
   "metadata": {},
   "source": [
    "## Einstein static universe"
   ]
  },
  {
   "cell_type": "markdown",
   "metadata": {},
   "source": [
    "The Einstein static universe is the manifold $\\mathbb{R}\\times\\mathbb{S}^3$ equipped with a Lorentzian metric equivalent to $\\tilde{g}$. We consider here the part $E$ of $\\mathbb{R}\\times\\mathbb{S}^3$ covered by hyperspherical coordinates:"
   ]
  },
  {
   "cell_type": "code",
   "execution_count": null,
   "metadata": {},
   "outputs": [],
   "source": [
    "E = Manifold(4, 'E')\n",
    "print(E)"
   ]
  },
  {
   "cell_type": "code",
   "execution_count": null,
   "metadata": {},
   "outputs": [],
   "source": [
    "XE.<tat,cht,th,ph> = E.chart(r'tat:\\tilde{\\tau} cht:(0,pi):\\chi th:(0,pi):\\theta ph:(0,2*pi):\\phi')\n",
    "XE"
   ]
  },
  {
   "cell_type": "code",
   "execution_count": null,
   "metadata": {},
   "outputs": [],
   "source": [
    "XE.coord_range()"
   ]
  },
  {
   "cell_type": "markdown",
   "metadata": {},
   "source": [
    "The conformal completion of AdS spacetime is defined by the map:"
   ]
  },
  {
   "cell_type": "code",
   "execution_count": null,
   "metadata": {},
   "outputs": [],
   "source": [
    "Psi = M.diff_map(E, {(X_conf, XE): [tat, ch, th, ph]},\n",
    "                 name='Psi', latex_name=r'\\Psi')\n",
    "print(Psi)\n",
    "Psi.display()"
   ]
  },
  {
   "cell_type": "markdown",
   "metadata": {},
   "source": [
    "### Embedding of $E$ in $\\mathbb{R}^5$"
   ]
  },
  {
   "cell_type": "markdown",
   "metadata": {},
   "source": [
    "For visualization purposes, we introduce the (differentiable, not isometric) embedding $\\Phi_E$ of the Einstein cylinder $\\mathbb{R}\\times\\mathbb{S}^3$ in $\\mathbb{R}^5$ that follows immediately from the canonical embedding of $\\mathbb{S}^3$ in $\\mathbb{R}^4$. We introduce $\\mathbb{R}^5$ first:"
   ]
  },
  {
   "cell_type": "code",
   "execution_count": null,
   "metadata": {},
   "outputs": [],
   "source": [
    "R5 = Manifold(5, 'R5', latex_name=r'\\mathbb{R}^5')\n",
    "X5.<T,W,X,Y,Z> = R5.chart()\n",
    "X5"
   ]
  },
  {
   "cell_type": "markdown",
   "metadata": {},
   "source": [
    "and define $\\Phi_E$ as "
   ]
  },
  {
   "cell_type": "code",
   "execution_count": null,
   "metadata": {},
   "outputs": [],
   "source": [
    "PhiE = E.diff_map(R5, {(XE, X5): [tat,\n",
    "                                  cos(cht),\n",
    "                                  sin(cht)*sin(th)*cos(ph), \n",
    "                                  sin(cht)*sin(th)*sin(ph), \n",
    "                                  sin(cht)*cos(th)]},\n",
    "                  name='Phi_E', latex_name=r'\\Phi_E')\n",
    "print(PhiE)\n",
    "PhiE.display()"
   ]
  },
  {
   "cell_type": "code",
   "execution_count": null,
   "metadata": {},
   "outputs": [],
   "source": [
    "graphE = XE.plot(X5, ambient_coords=(W,X,T), mapping=PhiE, fixed_coords={th:pi/2, ph:0}, \n",
    "                 ranges={tat: (-pi,pi), cht: (0,pi)}, number_values=9, color='silver', \n",
    "                 thickness=0.5, label_axes=False)  # phi = 0 \n",
    "graphE += XE.plot(X5, ambient_coords=(W,X,T), mapping=PhiE, fixed_coords={th:pi/2, ph:pi}, \n",
    "                  ranges={tat: (-pi,pi), cht: (0,pi)}, number_values=9, color='silver', \n",
    "                  thickness=0.5, label_axes=False)  # phi = pi\n",
    "show(graphE, aspect_ratio=1, axes_labels=['W','X','tau'])"
   ]
  },
  {
   "cell_type": "markdown",
   "metadata": {
    "collapsed": true
   },
   "source": [
    "## View of $\\mathrm{AdS}_4$ on the Einstein cylinder\n",
    "\n",
    "The view is obtained by composing the embeddings\n",
    "$\\Psi:\\, \\mathcal{M}\\rightarrow E$ and $\\Phi_E:\\, E\\rightarrow \\mathbb{R}^5$, i.e. by introducing \n",
    "$$\\Theta= \\Phi_E\\circ \\Psi :\\  \\mathcal{M}\\rightarrow  \\mathbb{R}^5$$"
   ]
  },
  {
   "cell_type": "code",
   "execution_count": null,
   "metadata": {},
   "outputs": [],
   "source": [
    "Theta = PhiE * Psi\n",
    "print(Theta)\n",
    "Theta.display()"
   ]
  },
  {
   "cell_type": "code",
   "execution_count": null,
   "metadata": {},
   "outputs": [],
   "source": [
    "graph = X_stat.plot(X5, ambient_coords=(W,X,T), mapping=Theta,\n",
    "                    fixed_coords={th: pi/2, ph: 0}, ranges={ta: (-pi,pi), R: (0,40)}, \n",
    "                    number_values={ta: 9, R: 40}, parameters={l:1}, \n",
    "                    color={ta: 'red', R: 'grey'}, label_axes=False)  # phi = 0 \n",
    "graph += X_stat.plot(X5, ambient_coords=(W,X,T), mapping=Theta,\n",
    "                     fixed_coords={th: pi/2, ph: pi}, ranges={ta: (-pi,pi), R: (0,40)},\n",
    "                     number_values={ta: 9, R: 40}, parameters={l:1}, \n",
    "                     color={ta: 'red', R: 'grey'}, label_axes=False)  # phi = pi \n",
    "graph += graphE  # superposing the plot of the Einstein cylinder\n",
    "half_cylinder = parametric_plot3d([sin(ph), cos(ph), ta], (ta, -pi, pi), (ph, 0, pi), \n",
    "                                  color=(1.,1.,0.9))\n",
    "graph += half_cylinder\n",
    "show(graph, aspect_ratio=1, axes_labels=['W','X','tau'])"
   ]
  },
  {
   "cell_type": "code",
   "execution_count": null,
   "metadata": {},
   "outputs": [],
   "source": [
    "for geod in null_geods:\n",
    "    graph += geod.plot(X5, ambient_coords=(W,X,T), mapping=Theta,\n",
    "                       parameters={l:1}, color='green', thickness=1, label_axes=False)\n",
    "graph += time_geod.plot(X5, ambient_coords=(W,X,T), mapping=Theta, prange=(-pi, pi),\n",
    "                       plot_points=100, parameters={l:1}, color='purple', thickness=2,\n",
    "                       label_axes=False)\n",
    "show(graph, aspect_ratio=1, zmin=-pi, zmax=pi, axes_labels=['W','X','tau'])"
   ]
  },
  {
   "cell_type": "code",
   "execution_count": null,
   "metadata": {},
   "outputs": [],
   "source": [
    "graph1 = graph.rotate((0,0,1), 0.4)\n",
    "show(graph1, aspect_ratio=1, viewer='tachyon', frame=False, \n",
    "     figsize=20)"
   ]
  },
  {
   "cell_type": "markdown",
   "metadata": {},
   "source": [
    "A different cylindrical view of AdS spacetime is obtained by using the coordinates $(T,X,Y)$ of $\\mathbb{R}^5$ instead of $(T,W,X)$ as above. Let us draw the grid of conformal \n",
    "coordinates at $\\theta=\\pi/2$, with \n",
    "- red lines as those along which $\\tilde{\\tau}$ varies at fixed $(\\chi,\\phi)$\n",
    "- grey lines as those along which $\\chi$ varies at fixed $(\\tilde{\\tau},\\phi)$\n",
    "- orange lines as those along which $\\phi$ varies at fixed $(\\tilde{\\tau},\\chi)$"
   ]
  },
  {
   "cell_type": "code",
   "execution_count": null,
   "metadata": {},
   "outputs": [],
   "source": [
    "graph = X_conf.plot(X5, ambient_coords=(X,Y,T), mapping=Theta,\n",
    "                    fixed_coords={th: pi/2}, \n",
    "                    ranges={tat: (-pi,pi), ch: (0,pi/2), ph:(0,2*pi)}, \n",
    "                    number_values=6, parameters={l:1}, \n",
    "                    color={tat: 'red', ch: 'grey', ph: 'orange'}, \n",
    "                    label_axes=False)\n",
    "graph += graphE\n",
    "show(graph, aspect_ratio=1, axes_labels=['X','Y','tau'])"
   ]
  },
  {
   "cell_type": "markdown",
   "metadata": {},
   "source": [
    "Let us add the previously considered null (green) and timelike (purple) geodesics, noticing that they all lie in the plane $Y=0$ for they have $\\phi=0$ or $\\pi$:"
   ]
  },
  {
   "cell_type": "code",
   "execution_count": null,
   "metadata": {},
   "outputs": [],
   "source": [
    "for geod in null_geods:\n",
    "    graph += geod.plot(X5, ambient_coords=(X,Y,T), mapping=Theta,\n",
    "                       parameters={l:1}, color='green', thickness=1, label_axes=False)\n",
    "graph += time_geod.plot(X5, ambient_coords=(X,Y,T), mapping=Theta, prange=(-pi, pi),\n",
    "                        plot_points=100, parameters={l:1}, color='purple', thickness=2,\n",
    "                        label_axes=False)\n",
    "show(graph, aspect_ratio=1, axes_labels=['X','Y','tau'])"
   ]
  },
  {
   "cell_type": "markdown",
   "metadata": {
    "collapsed": true
   },
   "source": [
    "## Poincaré coordinates"
   ]
  },
  {
   "cell_type": "markdown",
   "metadata": {},
   "source": [
    "The Poincaré coordinates are defined on the open subset $\\mathcal{M}_{\\rm P}$ of $\\mathcal{M}_0$ defined by $U-X>0$ in terms of the canonical immersion $\\Phi$ in $\\mathbb{R}^{2,3}$. The open subset $\\mathcal{M}_{\\rm P}$ is usually called the **Poincaré patch** of AdS spacetime and its boundary $U-X=0$ is called the **Poincaré horizon**.\n",
    "\n",
    "Given the expression of $\\Phi$:"
   ]
  },
  {
   "cell_type": "code",
   "execution_count": null,
   "metadata": {},
   "outputs": [],
   "source": [
    "Phi.display()"
   ]
  },
  {
   "cell_type": "markdown",
   "metadata": {},
   "source": [
    "we see that $U-X>0$ is equivalent to each of the following conditions:\n",
    "\n",
    "- in hyperboloidal coordinates:"
   ]
  },
  {
   "cell_type": "code",
   "execution_count": null,
   "metadata": {},
   "outputs": [],
   "source": [
    "Phi.expr(X_hyp, X23)[0] - Phi.expr(X_hyp, X23)[2] > 0 "
   ]
  },
  {
   "cell_type": "markdown",
   "metadata": {},
   "source": [
    "- in static coordinates:"
   ]
  },
  {
   "cell_type": "code",
   "execution_count": null,
   "metadata": {},
   "outputs": [],
   "source": [
    "Phi.expr(X_stat, X23)[0] - Phi.expr(X_stat, X23)[2] > 0 "
   ]
  },
  {
   "cell_type": "markdown",
   "metadata": {},
   "source": [
    "- in conformal coordinates:"
   ]
  },
  {
   "cell_type": "code",
   "execution_count": null,
   "metadata": {},
   "outputs": [],
   "source": [
    "Phi.expr(X_conf, X23)[0] - Phi.expr(X_conf, X23)[2] > 0 "
   ]
  },
  {
   "cell_type": "markdown",
   "metadata": {},
   "source": [
    "Hence we declare:"
   ]
  },
  {
   "cell_type": "code",
   "execution_count": null,
   "metadata": {},
   "outputs": [],
   "source": [
    "MP = M0.open_subset('MP', latex_name=r'\\mathcal{M}_{\\rm P}', \n",
    "                    coord_def={X_hyp: cos(ta/l) - tanh(rh)*sin(th)*cos(ph)>0,\n",
    "                               X_stat: cos(ta/l) - R/sqrt(R^2+l^2)*sin(th)*cos(ph)>0,\n",
    "                               X_conf: cos(tat) - sin(ch)*sin(th)*cos(ph)>0})\n",
    "print(MP)"
   ]
  },
  {
   "cell_type": "code",
   "execution_count": null,
   "metadata": {},
   "outputs": [],
   "source": [
    "print(\"Coordinate definition of the Poincaré patch in different charts:\")\n",
    "for chart in MP.atlas():\n",
    "    show(chart)\n",
    "    show(chart._restrictions)"
   ]
  },
  {
   "cell_type": "markdown",
   "metadata": {},
   "source": [
    "A view of the Poincaré patch on the AdS hyperboloid in $\\mathbb{R}^{2,3}$:"
   ]
  },
  {
   "cell_type": "code",
   "execution_count": null,
   "metadata": {},
   "outputs": [],
   "source": [
    "graph = X_hyp.restrict(MP).plot(X23, mapping=Phi, ambient_coords=(V,X,U), \n",
    "                    fixed_coords={th: pi/2, ph:0}, \n",
    "                    ranges={ta:(0,2*pi), rh:(0,2)}, number_values={ta: 24, rh: 11}, \n",
    "                    color={ta:'red', rh:'grey'}, thickness=2, parameters={l:1}, \n",
    "                    label_axes=False)\n",
    "graph += X_hyp.restrict(MP).plot(X23, mapping=Phi, ambient_coords=(V,X,U), \n",
    "                    fixed_coords={th: pi/2, ph:pi},\n",
    "                    ranges={ta:(0,2*pi), rh:(0,2)}, number_values={ta: 24, rh: 11}, \n",
    "                    color={ta:'red', rh:'grey'}, thickness=2, parameters={l:1}, \n",
    "                    label_axes=False)\n",
    "graph += hyperboloid\n",
    "show(graph, aspect_ratio=1, axes_labels=['V','X','U'])"
   ]
  },
  {
   "cell_type": "markdown",
   "metadata": {},
   "source": [
    "A view of the Poincaré patch on the Einstein cylinder:"
   ]
  },
  {
   "cell_type": "code",
   "execution_count": null,
   "metadata": {},
   "outputs": [],
   "source": [
    "graph = X_stat.restrict(MP).plot(X5, ambient_coords=(W,X,T), mapping=Theta,\n",
    "                     fixed_coords={th: pi/2, ph: 0}, \n",
    "                     ranges={ta: (-pi,pi), R: (0, 10)}, number_values={ta: 15, R: 20},\n",
    "                     parameters={l:1}, color={ta: 'red', R: 'grey'}, \n",
    "                     label_axes=False)  # phi = 0 \n",
    "graph += X_stat.restrict(MP).plot(X5, ambient_coords=(W,X,T), mapping=Theta,\n",
    "                      fixed_coords={th: pi/2, ph: pi}, \n",
    "                      ranges={ta: (-pi,pi), R: (0, 10)}, number_values={ta: 15, R: 20},\n",
    "                      parameters={l:1}, color={ta: 'red', R: 'grey'}, \n",
    "                      label_axes=False)  # phi = pi \n",
    "graph += graphE + half_cylinder\n",
    "show(graph, aspect_ratio=1, axes_labels=['W','X','tau'])"
   ]
  },
  {
   "cell_type": "markdown",
   "metadata": {},
   "source": [
    "Let us add the Poincaré horizon:"
   ]
  },
  {
   "cell_type": "code",
   "execution_count": null,
   "metadata": {},
   "outputs": [],
   "source": [
    "poincare_hor = parametric_plot3d([cos(ch), sin(ch), acos(-sin(ch))-pi], (ch, 0, pi/2),\n",
    "                                  color='green', thickness=2) + \\\n",
    "               parametric_plot3d([cos(ch), sin(ch), -acos(-sin(ch))+pi], (ch, 0, pi/2),\n",
    "                                  color='green', thickness=2) + \\\n",
    "               parametric_plot3d([cos(ch), -sin(ch), acos(sin(ch))-pi], (ch, 0, pi/2),\n",
    "                                  color='green', thickness=2) + \\\n",
    "               parametric_plot3d([cos(ch), -sin(ch), -acos(sin(ch))+pi], (ch, 0, pi/2),\n",
    "                                  color='green', thickness=2)\n",
    "graph += poincare_hor\n",
    "show(graph, aspect_ratio=1, axes_labels=['W','X','tau'])"
   ]
  },
  {
   "cell_type": "markdown",
   "metadata": {},
   "source": [
    "The Poincaré patch in the alternative cylindrical view of AdS spacetime based on the \n",
    "$(T,X,Y)$ coordinates of $\\mathbb{R}^5$:"
   ]
  },
  {
   "cell_type": "code",
   "execution_count": null,
   "metadata": {},
   "outputs": [],
   "source": [
    "graph = X_conf.restrict(MP).plot(X5, ambient_coords=(X,Y,T), mapping=Theta,\n",
    "                                 fixed_coords={th: 0.9*pi/2}, \n",
    "                                 ranges={tat: (-pi,pi), ch: (0,pi/2), ph:(0,2*pi)}, \n",
    "                                 number_values=6, parameters={l:1}, \n",
    "                                 color={tat: 'red', ch: 'grey', ph: 'orange'}, \n",
    "                                 label_axes=False)\n",
    "show(graph+graphE, aspect_ratio=(1,1,0.5), axes_labels=['X','Y','tau'])"
   ]
  },
  {
   "cell_type": "markdown",
   "metadata": {},
   "source": [
    "We define the **Poincaré coordinates** $(t,x,y,u)$ on $\\mathcal{M}_{\\rm P}$ as"
   ]
  },
  {
   "cell_type": "code",
   "execution_count": null,
   "metadata": {},
   "outputs": [],
   "source": [
    "X_Poinc.<t,x,y,u> = MP.chart('t x y u:(0,+oo)')\n",
    "X_Poinc"
   ]
  },
  {
   "cell_type": "code",
   "execution_count": null,
   "metadata": {},
   "outputs": [],
   "source": [
    "X_Poinc.coord_range()"
   ]
  },
  {
   "cell_type": "markdown",
   "metadata": {},
   "source": [
    "The link between the conformal coordinates and the Poincaré ones is"
   ]
  },
  {
   "cell_type": "code",
   "execution_count": null,
   "metadata": {},
   "outputs": [],
   "source": [
    "conf_to_Poinc = X_conf.restrict(MP).transition_map(X_Poinc, \n",
    "                            [l*sin(tat)/(cos(tat) - sin(ch)*sin(th)*cos(ph)),\n",
    "                             l*sin(ch)*sin(th)*sin(ph)/(cos(tat) - sin(ch)*sin(th)*cos(ph)),\n",
    "                             l*sin(ch)*cos(th)/(cos(tat) - sin(ch)*sin(th)*cos(ph)),\n",
    "                             l*(cos(tat) - sin(ch)*sin(th)*cos(ph))/cos(ch)])\n",
    "conf_to_Poinc.display()"
   ]
  },
  {
   "cell_type": "code",
   "execution_count": null,
   "metadata": {},
   "outputs": [],
   "source": [
    "conf_to_Poinc.set_inverse(atan2(2*l*t, x^2+y^2-t^2+l^2*(1+l^2/u^2)),\n",
    "            acos(2*l^3/u/sqrt((x^2+y^2-t^2+l^2*(1+l^2/u^2))^2 + 4*l^2*t^2)),\n",
    "            acos(2*l*y/sqrt((x^2+y^2-t^2+l^2*(1+l^2/u^2))^2\n",
    "                                                    + 4*l^2*(t^2-l^4/u^2))),\n",
    "            atan2(2*l*x, x^2+y^2-t^2-l^2*(1-l^2/u^2)))          "
   ]
  },
  {
   "cell_type": "markdown",
   "metadata": {},
   "source": [
    "The test is passed, modulo some lack of simplification in the `arctan2` and `arccos` functions."
   ]
  },
  {
   "cell_type": "code",
   "execution_count": null,
   "metadata": {},
   "outputs": [],
   "source": [
    "conf_to_Poinc.inverse().display()"
   ]
  },
  {
   "cell_type": "markdown",
   "metadata": {},
   "source": [
    "The isometric immersion $\\Phi$ expressed in terms of conformal coordinates on the Poincaré patch:"
   ]
  },
  {
   "cell_type": "code",
   "execution_count": null,
   "metadata": {},
   "outputs": [],
   "source": [
    "Phi.restrict(MP).display(X_conf.restrict(MP), X23)"
   ]
  },
  {
   "cell_type": "markdown",
   "metadata": {},
   "source": [
    "The isometric immersion $\\Phi$ expressed in terms of Poincaré coordinates:"
   ]
  },
  {
   "cell_type": "code",
   "execution_count": null,
   "metadata": {},
   "outputs": [],
   "source": [
    "Phi.restrict(MP).display(X_Poinc, X23)"
   ]
  },
  {
   "cell_type": "markdown",
   "metadata": {},
   "source": [
    "We see that the coordinate $u$ is simply $U-X$:"
   ]
  },
  {
   "cell_type": "code",
   "execution_count": null,
   "metadata": {},
   "outputs": [],
   "source": [
    "U1 = Phi.restrict(MP).expr(X_Poinc, X23)[0]\n",
    "X1 = Phi.restrict(MP).expr(X_Poinc, X23)[2]\n",
    "(U1 - X1).simplify_full()"
   ]
  },
  {
   "cell_type": "markdown",
   "metadata": {},
   "source": [
    "so that the Poincaré horizon corresponds to $u\\rightarrow 0$. "
   ]
  },
  {
   "cell_type": "markdown",
   "metadata": {},
   "source": [
    "### Metric in Poincaré coordinates\n",
    "\n",
    "Let us ask Sage to compute the metric components in terms of the Poincaré coordinates:"
   ]
  },
  {
   "cell_type": "code",
   "execution_count": null,
   "metadata": {},
   "outputs": [],
   "source": [
    "g.display(X_Poinc)"
   ]
  },
  {
   "cell_type": "markdown",
   "metadata": {},
   "source": [
    "We notice that the metric restricted to the hypersurfaces $u=\\mathrm{const}$ (i.e. the intersection of the hyperboloid with hyperplanes $U-X = \\mathrm{const}$) is nothing but the Minkowski metric (up to some constant factor $u^2/\\ell^2$):\n",
    "$$ \\left. g \\right| _{u=\\mathrm{const}}= \\frac{u^2}{\\ell^2} \\left( \n",
    "    -\\mathrm{d}t\\otimes\\mathrm{d}t + \n",
    "    \\mathrm{d}x\\otimes\\mathrm{d}x + \\mathrm{d}y\\otimes\\mathrm{d}y \\right).$$\n",
    "$(t,x,y)$ appear then as Minkowskian coordinates of these hypersurfaces. We may say that  $\\mathcal{M}_{\\rm P}$ is sliced by a family, parametrized by $u$, of flat 3-dimensional spacetimes.  "
   ]
  },
  {
   "cell_type": "code",
   "execution_count": null,
   "metadata": {},
   "outputs": [],
   "source": [
    "Poinc_to_stat = stat_to_conf.inverse().restrict(MP) * conf_to_Poinc.inverse()\n",
    "Poinc_to_stat.display()"
   ]
  },
  {
   "cell_type": "markdown",
   "metadata": {},
   "source": [
    "Plot of the Poincaré coordinates $(t,x)$ in terms of the static coordinates $(\\tau, R)$ for $y=0$ and $u=1$:"
   ]
  },
  {
   "cell_type": "code",
   "execution_count": null,
   "metadata": {},
   "outputs": [],
   "source": [
    "X_Poinc.plot(X_stat.restrict(MP), ambient_coords=(R, ta), \n",
    "             fixed_coords={y:0, u:1}, number_values=9, \n",
    "             parameters={l:1}, plot_points=200,\n",
    "             color={t: 'red', x: 'gold'})"
   ]
  },
  {
   "cell_type": "markdown",
   "metadata": {},
   "source": [
    "Plot of the Poincaré coordinates $(t,u)$ in terms of $(U,V,X)$ for $(x,y)=(0,0)$:"
   ]
  },
  {
   "cell_type": "code",
   "execution_count": null,
   "metadata": {},
   "outputs": [],
   "source": [
    "graph = X_Poinc.plot(X23, mapping=Phi.restrict(MP), ambient_coords=(V,X,U), \n",
    "                     fixed_coords={x:0, y:0}, ranges={t:(-1,1), u:(0.1, 6)},\n",
    "                     number_values=13, color={t:'red', u: 'cyan'}, \n",
    "                     thickness=1, parameters={l:1}, label_axes=False)\n",
    "graph += hyperboloid\n",
    "show(graph, aspect_ratio=1, axes_labels=['V','X','U'])"
   ]
  },
  {
   "cell_type": "markdown",
   "metadata": {},
   "source": [
    "Plot of the Poincaré coordinates $(t,x,u)$ in terms of $(T,X,Y)$ for $y=0$:\n",
    "- the red lines are those along which $t$ varies at fixed $(x,u)$\n",
    "- the gold lines are those along which $x$ varies at fixed $(t,u)$\n",
    "- the cyan lines are those along which $u$ varies at fixed $(t,x)$"
   ]
  },
  {
   "cell_type": "code",
   "execution_count": null,
   "metadata": {},
   "outputs": [],
   "source": [
    "graph = X_Poinc.plot(X5, ambient_coords=(X,Y,T), mapping=Theta.restrict(MP),\n",
    "                     fixed_coords={y:0}, ranges={t:(-3,3), x:(-3,3), u:(0.01, 6)}, \n",
    "                     number_values=7, color={t:'red', x:'gold', u: 'cyan'}, \n",
    "                     parameters={l:1}, label_axes=False)\n",
    "graph += graphE\n",
    "show(graph, aspect_ratio=1)"
   ]
  },
  {
   "cell_type": "markdown",
   "metadata": {},
   "source": [
    "### Variant of Poincaré coordinates\n",
    "\n",
    "Instead of $u$, we may use the coordinate\n",
    "$$ z = \\frac{\\ell^2}{u}$$"
   ]
  },
  {
   "cell_type": "code",
   "execution_count": null,
   "metadata": {},
   "outputs": [],
   "source": [
    "X_Poinc_z.<t,x,y,z> = MP.chart('t x y z:(0,+oo)')\n",
    "X_Poinc_z"
   ]
  },
  {
   "cell_type": "code",
   "execution_count": null,
   "metadata": {},
   "outputs": [],
   "source": [
    "X_Poinc_z.coord_range()"
   ]
  },
  {
   "cell_type": "code",
   "execution_count": null,
   "metadata": {},
   "outputs": [],
   "source": [
    "Poinc_to_Poinc_z = X_Poinc.transition_map(X_Poinc_z, [t, x, y, l^2/u])\n",
    "Poinc_to_Poinc_z.display()"
   ]
  },
  {
   "cell_type": "code",
   "execution_count": null,
   "metadata": {},
   "outputs": [],
   "source": [
    "Poinc_to_Poinc_z.inverse().display()"
   ]
  },
  {
   "cell_type": "markdown",
   "metadata": {},
   "source": [
    "In terms of the coordinates $(t,x,y,z)$, the AdS metric looks like the metric of the 4-dimensional hyperbolic space in [\"half-plane\" Poincaré coordinates](http://nbviewer.jupyter.org/github/sagemanifolds/SageManifolds/blob/master/Worksheets/v1.3/SM_hyperbolic_plane.ipynb), except for the change of signature from $(+,+,+,+)$ to $(-,+,+,+)$:"
   ]
  },
  {
   "cell_type": "code",
   "execution_count": null,
   "metadata": {},
   "outputs": [],
   "source": [
    "g.display(X_Poinc_z)"
   ]
  },
  {
   "cell_type": "markdown",
   "metadata": {},
   "source": [
    "This justifies the name *Poincaré coordinates* given to $(t,x,y,u)$."
   ]
  },
  {
   "cell_type": "markdown",
   "metadata": {},
   "source": [
    "The isometric immersion in $\\mathbb{R}^{2,3}$ in terms of the Poincaré coordinates $(t,x,y,z)$:"
   ]
  },
  {
   "cell_type": "code",
   "execution_count": null,
   "metadata": {},
   "outputs": [],
   "source": [
    "Phi.restrict(MP).display(X_Poinc_z, X23)"
   ]
  },
  {
   "cell_type": "markdown",
   "metadata": {},
   "source": [
    "### Exponential Poincaré coordinates\n",
    "\n",
    "Another variant of Poincaré coordinates is by using $r$ instead of $u$, such that\n",
    "$$ u = \\ell e^{r/\\ell}$$"
   ]
  },
  {
   "cell_type": "code",
   "execution_count": null,
   "metadata": {},
   "outputs": [],
   "source": [
    "X_Poinc_exp.<t,x,y,r> = MP.chart()\n",
    "X_Poinc_exp"
   ]
  },
  {
   "cell_type": "code",
   "execution_count": null,
   "metadata": {},
   "outputs": [],
   "source": [
    "X_Poinc_exp.coord_range()"
   ]
  },
  {
   "cell_type": "code",
   "execution_count": null,
   "metadata": {},
   "outputs": [],
   "source": [
    "Poinc_to_Poinc_exp = X_Poinc.transition_map(X_Poinc_exp, [t, x, y, l*ln(u/l)])\n",
    "Poinc_to_Poinc_exp.display()"
   ]
  },
  {
   "cell_type": "code",
   "execution_count": null,
   "metadata": {},
   "outputs": [],
   "source": [
    "Poinc_to_Poinc_exp.inverse().display()"
   ]
  },
  {
   "cell_type": "code",
   "execution_count": null,
   "metadata": {},
   "outputs": [],
   "source": [
    "g.display(X_Poinc_exp)"
   ]
  },
  {
   "cell_type": "markdown",
   "metadata": {},
   "source": [
    "The isometric immersion in $\\mathbb{R}^{2,3}$ in terms of the coordinates $(t,x,y,r)$:"
   ]
  },
  {
   "cell_type": "code",
   "execution_count": null,
   "metadata": {},
   "outputs": [],
   "source": [
    "Phi.restrict(MP).display(X_Poinc_exp, X23)"
   ]
  },
  {
   "cell_type": "markdown",
   "metadata": {},
   "source": [
    "## Summary\n",
    "\n",
    "10 charts have been defined on the $\\mathrm{AdS}_4$ spacetime:"
   ]
  },
  {
   "cell_type": "code",
   "execution_count": null,
   "metadata": {},
   "outputs": [],
   "source": [
    "M.atlas()"
   ]
  },
  {
   "cell_type": "markdown",
   "metadata": {},
   "source": [
    "There are actually 7 main charts, the other ones being subcharts:"
   ]
  },
  {
   "cell_type": "code",
   "execution_count": null,
   "metadata": {},
   "outputs": [],
   "source": [
    "M.top_charts()"
   ]
  },
  {
   "cell_type": "markdown",
   "metadata": {},
   "source": [
    "Except for $(\\tau,x_\\rho,y_\\rho,z_\\rho)$ (which has been introduced only for graphical purposes), the expression of the metric tensor in each of these chart is"
   ]
  },
  {
   "cell_type": "code",
   "execution_count": null,
   "metadata": {},
   "outputs": [],
   "source": [
    "for chart in M.top_charts():\n",
    "    if chart is not X_hyp_graph:\n",
    "        show(g.display(chart))"
   ]
  },
  {
   "cell_type": "code",
   "execution_count": null,
   "metadata": {},
   "outputs": [],
   "source": [
    "print(\"Total elapsed time: {} s\".format(time.perf_counter() - comput_time0))"
   ]
  }
 ],
 "metadata": {
  "kernelspec": {
   "display_name": "SageMath 9.4",
   "language": "sage",
   "name": "sagemath"
  },
  "language": "python",
  "language_info": {
   "codemirror_mode": {
    "name": "ipython",
    "version": 3
   },
   "file_extension": ".py",
   "mimetype": "text/x-python",
   "name": "python",
   "nbconvert_exporter": "python",
   "pygments_lexer": "ipython3",
   "version": "3.8.10"
  }
 },
 "nbformat": 4,
 "nbformat_minor": 1
}
