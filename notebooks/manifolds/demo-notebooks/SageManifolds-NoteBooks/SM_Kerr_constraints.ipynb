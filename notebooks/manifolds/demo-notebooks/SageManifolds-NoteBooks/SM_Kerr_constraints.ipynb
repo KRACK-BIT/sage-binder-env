{
 "cells": [
  {
   "cell_type": "markdown",
   "id": "c00ce43c-8671-4177-8ab6-8eb58832fb74",
   "metadata": {},
   "source": [
    "# Einstein constraints on a Boyer-Lindquist slice of Kerr spacetime"
   ]
  },
  {
   "cell_type": "markdown",
   "id": "05ef00da-4a4f-40b6-b37f-fcee973e11d9",
   "metadata": {},
   "source": [
    "This notebook demonstrates a few capabilities of SageMath in computations regarding hypersurfaces of a pseudo-Riemannian manifold. The corresponding tools have been developed in the framework of the  [SageManifolds](https://sagemanifolds.obspm.fr) project."
   ]
  },
  {
   "cell_type": "code",
   "execution_count": null,
   "id": "39aacfcd-71a5-4216-b60d-e43b340eda33",
   "metadata": {},
   "outputs": [],
   "source": [
    "version()"
   ]
  },
  {
   "cell_type": "markdown",
   "id": "e976c18d-1921-4287-8b96-810cbfb999d3",
   "metadata": {},
   "source": [
    "First we set up the notebook to display maths with LaTeX rendering:"
   ]
  },
  {
   "cell_type": "code",
   "execution_count": null,
   "id": "363e3bab-b538-4f29-ae07-649578d1cb1f",
   "metadata": {},
   "outputs": [],
   "source": [
    "%display latex"
   ]
  },
  {
   "cell_type": "markdown",
   "id": "5b0341e1-3603-4a70-82d1-9805fb5307c4",
   "metadata": {},
   "source": [
    "We ask for running computations in parallel on 8 threads:"
   ]
  },
  {
   "cell_type": "code",
   "execution_count": null,
   "id": "1a85b5f5-5517-4a6d-a6a1-b2d9411d685b",
   "metadata": {},
   "outputs": [],
   "source": [
    "Parallelism().set(nproc=8)"
   ]
  },
  {
   "cell_type": "markdown",
   "id": "cc4b3519-9a30-406b-99c0-e4ee3007cd0b",
   "metadata": {},
   "source": [
    "## Kerr spacetime $(M,g)$"
   ]
  },
  {
   "cell_type": "markdown",
   "id": "ac5dcae8-713a-48d8-ab82-494ae6994ab8",
   "metadata": {},
   "source": [
    "The mass parameter $m$ and spin parameter $a$ of Kerr solution:"
   ]
  },
  {
   "cell_type": "code",
   "execution_count": null,
   "id": "9ae70523-2f2c-48ea-9cf2-be00067e9c87",
   "metadata": {},
   "outputs": [],
   "source": [
    "m, a = var('m a', domain='real')\n",
    "assume(a<m)"
   ]
  },
  {
   "cell_type": "markdown",
   "id": "0b7ecb17-222f-487d-b691-692b48db549e",
   "metadata": {},
   "source": [
    "The Kerr spacetime declared as a 4-dimensional Lorentzian manifold:"
   ]
  },
  {
   "cell_type": "code",
   "execution_count": null,
   "id": "da3d61cb-7f2a-4d56-b2e9-ff5863b22cb3",
   "metadata": {},
   "outputs": [],
   "source": [
    "M = Manifold(4, 'M', structure='Lorentzian')\n",
    "print(M)"
   ]
  },
  {
   "cell_type": "markdown",
   "id": "550a0fbd-5ad0-4cc9-8c8c-57c780dd5d13",
   "metadata": {},
   "source": [
    "On $M$, we consider the *\"rational-polynomial\" coordinates* $(t,r,y,\\phi)$ inherited from the standard **Boyer-Lindquist coordinates** $(t,r,\\theta,\\phi)$ via $y=\\cos\\theta$:"
   ]
  },
  {
   "cell_type": "code",
   "execution_count": null,
   "id": "89a6723f-40d5-47a1-b154-3bc0a7888c32",
   "metadata": {},
   "outputs": [],
   "source": [
    "BL.<t,r,y,ph> = M.chart(r't r:(0,+oo) y:(-1,1) ph:(0,2*pi):\\phi') \n",
    "BL"
   ]
  },
  {
   "cell_type": "markdown",
   "id": "594d5723-80e7-4632-94c7-1c7ba73f49f2",
   "metadata": {},
   "source": [
    "We focus on the exterior of the Kerr black hole, on which $\\Delta := r^2 - 2 mr + a^2 > 0$: "
   ]
  },
  {
   "cell_type": "code",
   "execution_count": null,
   "id": "d033928f-f11e-48af-8fbc-afc4d7a04612",
   "metadata": {},
   "outputs": [],
   "source": [
    "assume(a^2 -2*m*r+ r^2 > 0)"
   ]
  },
  {
   "cell_type": "markdown",
   "id": "c48942d1-2082-416d-bd55-89c8cfddb161",
   "metadata": {},
   "source": [
    "The Kerr metric:"
   ]
  },
  {
   "cell_type": "code",
   "execution_count": null,
   "id": "3de0af8e-ab6f-41fd-931a-be04ef5c43ec",
   "metadata": {},
   "outputs": [],
   "source": [
    "g = M.metric()\n",
    "rho2 = r^2 + (a*y)^2\n",
    "Delta = r^2 -2*m*r + a^2\n",
    "g[0,0] = -(1-2*m*r/rho2)\n",
    "g[0,3] = -2*a*m*r*(1 - y^2)/rho2\n",
    "g[1,1], g[2,2] = rho2/Delta, rho2/(1 - y^2)\n",
    "g[3,3] = (r^2 + a^2 + 2*m*r*a^2*(1 - y^2)/rho2)*(1 - y^2)\n",
    "g.display()"
   ]
  },
  {
   "cell_type": "markdown",
   "id": "4d4b1d89-4e68-4217-b0ed-7fb5b5eeddbe",
   "metadata": {},
   "source": [
    "As a test, let us check that $g$ is a solution of the **vacuum Einstein equation**:"
   ]
  },
  {
   "cell_type": "code",
   "execution_count": null,
   "id": "2b4930ff-0b0d-4631-8fb0-d9a8fc995e21",
   "metadata": {},
   "outputs": [],
   "source": [
    "g.ricci().display()"
   ]
  },
  {
   "cell_type": "markdown",
   "id": "2ec16849-35d8-4de4-8e75-f8d2a9a3d38b",
   "metadata": {},
   "source": [
    "## Spacelike hypersurface $(\\Sigma,\\gamma)$\n",
    "\n",
    "We declare $\\Sigma$ as a 3-dimensional (immersed) submanifold of $M$ via the keyword `ambient`:"
   ]
  },
  {
   "cell_type": "code",
   "execution_count": null,
   "id": "626870e8-59e9-463b-8102-7da821df79e3",
   "metadata": {},
   "outputs": [],
   "source": [
    "S = Manifold(3, 'S', latex_name=r'\\Sigma', ambient=M, \n",
    "             structure=\"Riemannian\", start_index=1)\n",
    "print(S)"
   ]
  },
  {
   "cell_type": "code",
   "execution_count": null,
   "id": "fb42203c-c354-49e9-af77-b389e68f90fb",
   "metadata": {},
   "outputs": [],
   "source": [
    "S"
   ]
  },
  {
   "cell_type": "markdown",
   "id": "6751868d-becd-47cf-84f1-20c00ee30459",
   "metadata": {},
   "source": [
    "We consider $\\Sigma$ to be a constant Boyer-Lindquist coordinate $t$ hypersurface. Natural coordinates on $\\Sigma$ are then the Boyer-Lindquist coordinates $(r,y,\\phi)$:"
   ]
  },
  {
   "cell_type": "code",
   "execution_count": null,
   "id": "5fa63fd7-8881-4014-8a3f-01fb69421ce9",
   "metadata": {},
   "outputs": [],
   "source": [
    "BLS = S.chart(r'r:(0,+oo) y:(-1,1) ph:(0,2*pi):\\phi')\n",
    "BLS"
   ]
  },
  {
   "cell_type": "markdown",
   "id": "243d59ab-283e-470f-b25c-2128eb550629",
   "metadata": {},
   "source": [
    "At this stage, the user atlas of $\\Sigma$ contains a single chart:"
   ]
  },
  {
   "cell_type": "code",
   "execution_count": null,
   "id": "f75fc052-f1ab-44e6-8b7a-eda3fd2eb3c5",
   "metadata": {},
   "outputs": [],
   "source": [
    "S.atlas()"
   ]
  },
  {
   "cell_type": "markdown",
   "id": "e966b016-7e9a-47a0-9d97-21e93413a212",
   "metadata": {},
   "source": [
    "The embedding $\\Phi: \\Sigma \\to M$:"
   ]
  },
  {
   "cell_type": "code",
   "execution_count": null,
   "id": "c9be07fe-5491-40cf-af5b-32c6f9321408",
   "metadata": {},
   "outputs": [],
   "source": [
    "Phi = S.diff_map(M, {(BLS, BL): (t, r, y, ph)}, name='Phi',\n",
    "                 latex_name=r'\\Phi')\n",
    "Phi.display()"
   ]
  },
  {
   "cell_type": "markdown",
   "id": "66bc8bff-28d1-4048-9af7-9a6d96d69150",
   "metadata": {},
   "source": [
    "The partial inverse:"
   ]
  },
  {
   "cell_type": "code",
   "execution_count": null,
   "id": "204160fc-a819-4387-a611-7c72d165a580",
   "metadata": {},
   "outputs": [],
   "source": [
    "Phi_inv = M.diff_map(S, {(BL, BLS): (r, y, ph)})\n",
    "Phi_inv.display()"
   ]
  },
  {
   "cell_type": "code",
   "execution_count": null,
   "id": "ace095f5-bd06-4391-9f4e-f4ac84f88ad0",
   "metadata": {},
   "outputs": [],
   "source": [
    "Phi_inv*Phi == S.identity_map()"
   ]
  },
  {
   "cell_type": "markdown",
   "id": "97ae8ec8-916e-46d9-a1ec-8ba54ea7b520",
   "metadata": {},
   "source": [
    "$t$ as a scalar field on $M$:"
   ]
  },
  {
   "cell_type": "code",
   "execution_count": null,
   "id": "92e826ee-bbdb-44f1-a5da-e7220a973f7c",
   "metadata": {},
   "outputs": [],
   "source": [
    "t_scalar = M.scalar_field(t)\n",
    "t_scalar.display()"
   ]
  },
  {
   "cell_type": "markdown",
   "id": "1137a238-b065-4f3e-8080-1795556c8480",
   "metadata": {},
   "source": [
    "We declare that $\\Phi$ is the embedding of $\\Sigma$ in $M$ and that $\\Sigma$ is a level\n",
    "surface of $t$:"
   ]
  },
  {
   "cell_type": "code",
   "execution_count": null,
   "id": "718ababf-de0b-40d2-b8db-f2320662c120",
   "metadata": {
    "jp-MarkdownHeadingCollapsed": true
   },
   "outputs": [],
   "source": [
    "S.set_embedding(Phi, inverse=Phi_inv, var=t,\n",
    "                t_inverse = {t: t_scalar})\n",
    "print(S)"
   ]
  },
  {
   "cell_type": "markdown",
   "id": "cd4b2a60-a682-40fb-b4bc-77a0139afcd5",
   "metadata": {},
   "source": [
    "For some computations, $\\Sigma$ is considered as belonging to a foliation of $M$ by\n",
    "a family of hypersurfaces $(\\Sigma_t)_{t\\in\\mathbb{R}}$. A chart of $M$ adapted to the\n",
    "foliation is computed by the method `adapted_chart`. In the present case, it is trivial, \n",
    "since $t$ is one of the coordinate of the default chart of $M$:\n"
   ]
  },
  {
   "cell_type": "code",
   "execution_count": null,
   "id": "b9447abd-b79e-4dfd-9c12-072be6e24f53",
   "metadata": {},
   "outputs": [],
   "source": [
    "S.adapted_chart()"
   ]
  },
  {
   "cell_type": "code",
   "execution_count": null,
   "id": "9b305a49-eb40-4c12-b651-b4b8edde927a",
   "metadata": {},
   "outputs": [],
   "source": [
    "M.atlas()"
   ]
  },
  {
   "cell_type": "markdown",
   "id": "b1c0a870-f90b-4a4b-90f4-c2149c20fe36",
   "metadata": {},
   "source": [
    "### The Riemannian metric $\\gamma$ induced by $g$ on $\\Sigma$"
   ]
  },
  {
   "cell_type": "markdown",
   "id": "8974e0a4-7501-4015-963b-742a9b491082",
   "metadata": {},
   "source": [
    "$\\gamma$ is the first fundamental form of $\\Sigma$:"
   ]
  },
  {
   "cell_type": "code",
   "execution_count": null,
   "id": "089d3434-5352-42c1-b4be-f47bd889499d",
   "metadata": {},
   "outputs": [],
   "source": [
    "gam = S.first_fundamental_form()\n",
    "gam.display()"
   ]
  },
  {
   "cell_type": "markdown",
   "id": "8e5ea3d5-5760-4e87-859a-cdb176a37629",
   "metadata": {},
   "source": [
    "It is actually the pullback of $g$ by the embedding $\\Phi$:"
   ]
  },
  {
   "cell_type": "code",
   "execution_count": null,
   "id": "b7f36ae5-6b94-48cb-8e10-36591673f5fc",
   "metadata": {},
   "outputs": [],
   "source": [
    "gam == Phi.pullback(g)"
   ]
  },
  {
   "cell_type": "markdown",
   "id": "43e31511-a1b9-44cb-826c-e5b27bcbba0c",
   "metadata": {},
   "source": [
    "An alias of `first_fundamental_form` is `induced_metric`:"
   ]
  },
  {
   "cell_type": "code",
   "execution_count": null,
   "id": "da2e59f0-16c4-45d9-8ddb-7f2774aabf19",
   "metadata": {},
   "outputs": [],
   "source": [
    "gam is S.induced_metric()"
   ]
  },
  {
   "cell_type": "markdown",
   "id": "14a6fadc-d1f3-4d58-b739-c24335309462",
   "metadata": {},
   "source": [
    "The Levi-Civita connection $D$ associated with $\\gamma$:"
   ]
  },
  {
   "cell_type": "code",
   "execution_count": null,
   "id": "7c388184-a616-469f-90c4-29c3e7e20e51",
   "metadata": {},
   "outputs": [],
   "source": [
    "D = gam.connection(name='D')\n",
    "print(D)"
   ]
  },
  {
   "cell_type": "code",
   "execution_count": null,
   "id": "814b7600-530f-4231-af7b-ffddcdac02e2",
   "metadata": {},
   "outputs": [],
   "source": [
    "D.display()"
   ]
  },
  {
   "cell_type": "markdown",
   "id": "abe0404d-c694-43e5-902b-a2575bb39fb8",
   "metadata": {},
   "source": [
    "The unit normal to $\\Sigma$ (actually to the foliation $(\\Sigma_t)_{t\\in\\mathbb{R}}$):"
   ]
  },
  {
   "cell_type": "code",
   "execution_count": null,
   "id": "734d44c3-a92d-42ff-9d01-412402cd7cf3",
   "metadata": {},
   "outputs": [],
   "source": [
    "n = S.normal()\n",
    "print(n)\n",
    "n.display()"
   ]
  },
  {
   "cell_type": "markdown",
   "id": "8fe8ac82-3736-439b-8777-ad565a72f11a",
   "metadata": {},
   "source": [
    "Let us check that $n$ is a unit timelike vector:"
   ]
  },
  {
   "cell_type": "code",
   "execution_count": null,
   "id": "0ea115ff-feeb-4e13-850e-f5b2c4cc876b",
   "metadata": {},
   "outputs": [],
   "source": [
    "g(n,n).expr()"
   ]
  },
  {
   "cell_type": "markdown",
   "id": "6f458f51-9593-41db-a7d7-4e916094930a",
   "metadata": {},
   "source": [
    "## The second fundamental form $K$:"
   ]
  },
  {
   "cell_type": "code",
   "execution_count": null,
   "id": "c519f2a5-853f-4a5c-bd01-a137a64c497b",
   "metadata": {},
   "outputs": [],
   "source": [
    "K = S.second_fundamental_form()\n",
    "print(K)"
   ]
  },
  {
   "cell_type": "code",
   "execution_count": null,
   "id": "2078e80e-4bd6-459c-b3c0-5395bd832684",
   "metadata": {},
   "outputs": [],
   "source": [
    "K.display()"
   ]
  },
  {
   "cell_type": "code",
   "execution_count": null,
   "id": "1c335401-057f-428f-9f26-0e7526009bda",
   "metadata": {},
   "outputs": [],
   "source": [
    "K.display_comp()"
   ]
  },
  {
   "cell_type": "markdown",
   "id": "80d1f54b-a72a-42ad-af00-f4ec3dffc325",
   "metadata": {},
   "source": [
    "The metric dual $K^i_{\\ \\, j} = \\gamma^{ik} K_{kj}$:"
   ]
  },
  {
   "cell_type": "code",
   "execution_count": null,
   "id": "975837c7-8951-4b7f-9caa-24062cffc85d",
   "metadata": {},
   "outputs": [],
   "source": [
    "Ku = K.up(gam, 0)  # 0 = first index of K\n",
    "print(Ku)"
   ]
  },
  {
   "cell_type": "code",
   "execution_count": null,
   "id": "0b49af28-b0b5-402b-8452-861f4b0f2976",
   "metadata": {},
   "outputs": [],
   "source": [
    "Ku.display()"
   ]
  },
  {
   "cell_type": "markdown",
   "id": "09e3ba34-7cde-41d9-85ca-32a251d90bbc",
   "metadata": {},
   "source": [
    "The trace $K := K^i_{\\ \\, i}$:"
   ]
  },
  {
   "cell_type": "code",
   "execution_count": null,
   "id": "0a906ee4-620d-4c98-b305-cf4fce999e33",
   "metadata": {},
   "outputs": [],
   "source": [
    "trK = Ku.trace()\n",
    "print(trK)"
   ]
  },
  {
   "cell_type": "markdown",
   "id": "9c38ad68-2261-4eda-a19a-b586fc392ab0",
   "metadata": {},
   "source": [
    "We have $K=0$:"
   ]
  },
  {
   "cell_type": "code",
   "execution_count": null,
   "id": "e1f73a7f-bea0-42bc-874e-5718bc69d68d",
   "metadata": {},
   "outputs": [],
   "source": [
    "trK.expr()"
   ]
  },
  {
   "cell_type": "markdown",
   "id": "c9ca1e7f-0ea8-4f56-a023-b23db11c734f",
   "metadata": {},
   "source": [
    "i.e. $\\Sigma$ is a **maximal hypersurface** of $(M,g)$."
   ]
  },
  {
   "cell_type": "markdown",
   "id": "40271cf7-5f05-4368-a1e5-0c000c7c0ae9",
   "metadata": {},
   "source": [
    "## Hamiltonian constraint\n",
    "\n",
    "The vacuum Hamiltonian constraint equation is \n",
    "$$ R + K^2 -K_{ij} K^{ij} = 0 $$\n",
    "where $R = \\mathrm{tr}_\\gamma \\mathbf{R} = \\gamma^{ij} R_{ij}$ is the Ricci scalar of $\\gamma$.\n",
    "Let us first evaluate $R$:"
   ]
  },
  {
   "cell_type": "code",
   "execution_count": null,
   "id": "07f379be-c888-49c5-a04b-093b50b1c842",
   "metadata": {},
   "outputs": [],
   "source": [
    "R = gam.ricci_scalar()\n",
    "print(R)\n",
    "R.display()"
   ]
  },
  {
   "cell_type": "code",
   "execution_count": null,
   "id": "71041f16-2b9b-4864-9236-9302dbd14d8f",
   "metadata": {},
   "outputs": [],
   "source": [
    "R.expr().factor()"
   ]
  },
  {
   "cell_type": "markdown",
   "id": "cde9d36b-ebe8-4c93-ab2e-75a5a87cb32d",
   "metadata": {},
   "source": [
    "The term $K_{ij} K^{ij}$:"
   ]
  },
  {
   "cell_type": "code",
   "execution_count": null,
   "id": "603baccd-f5e4-4008-8d8b-d5dd2c56d558",
   "metadata": {},
   "outputs": [],
   "source": [
    "Kuu = Ku.up(gam, 1)\n",
    "KK = K['_ij']*Kuu['^ij']\n",
    "print(KK)\n",
    "KK.display()"
   ]
  },
  {
   "cell_type": "markdown",
   "id": "11b5dcc4-7397-4304-874b-a353cf559b2b",
   "metadata": {},
   "source": [
    "Finally the Hamiltonian constraint:"
   ]
  },
  {
   "cell_type": "code",
   "execution_count": null,
   "id": "e22c6d05-5baa-4654-be9e-a2f456dbbe09",
   "metadata": {},
   "outputs": [],
   "source": [
    "Ham = R + trK^2 - KK\n",
    "print(Ham)\n",
    "Ham.display()"
   ]
  },
  {
   "cell_type": "code",
   "execution_count": null,
   "id": "6840bed1-d520-4f26-aa74-82130a37f68f",
   "metadata": {},
   "outputs": [],
   "source": [
    "Ham.expr()"
   ]
  },
  {
   "cell_type": "markdown",
   "id": "2b7988bf-fe95-4358-9294-e496192c3f05",
   "metadata": {},
   "source": [
    "Hence the Hamiltonian constraint is fulfilled. "
   ]
  },
  {
   "cell_type": "markdown",
   "id": "fa823948-9af4-455c-b251-1a20d84c9912",
   "metadata": {},
   "source": [
    "## The momentum constraint\n",
    "\n",
    "In vacuum, the momentum constraint is\n",
    "$$ D_j K^j_{\\ \\, i} - D_i K = 0 $$"
   ]
  },
  {
   "cell_type": "markdown",
   "id": "e4fa8c98-8eee-4aa7-87ed-64b36750d672",
   "metadata": {},
   "source": [
    "Given that $D_k K^j_{\\ \\, i}$ is the tensor $(DK)^j_{\\ \\, ik}$, we evaluate the momentum constraint \n",
    "as follows:"
   ]
  },
  {
   "cell_type": "code",
   "execution_count": null,
   "id": "7e7d6c87-a6e0-4818-a296-47ccd7d1f389",
   "metadata": {},
   "outputs": [],
   "source": [
    "mom = D(Ku)['^j_{ij}'] - D(trK)\n",
    "print(mom)"
   ]
  },
  {
   "cell_type": "code",
   "execution_count": null,
   "id": "2e3cb80d-f43a-487b-b3b9-b3c5ebc25230",
   "metadata": {},
   "outputs": [],
   "source": [
    "mom.display()"
   ]
  },
  {
   "cell_type": "markdown",
   "id": "10114b32-c85c-45d7-8ed7-a69784eae9ea",
   "metadata": {},
   "source": [
    "Hence the momentum constraint is fulfilled. "
   ]
  },
  {
   "cell_type": "markdown",
   "id": "51247d98-81f6-4803-9f97-1827ee09b399",
   "metadata": {},
   "source": [
    "*Remark:* an alternative writting for `D(Ku)['^j_{ij}']` is `D(Ku).trace(0,2)`:"
   ]
  },
  {
   "cell_type": "code",
   "execution_count": null,
   "id": "71e0f020-255a-4df0-8b4b-f753c88c55b7",
   "metadata": {},
   "outputs": [],
   "source": [
    "mom == D(Ku).trace(0,2) - D(trK)"
   ]
  }
 ],
 "metadata": {
  "kernelspec": {
   "display_name": "SageMath 10.4.beta6",
   "language": "sage",
   "name": "sagemath"
  },
  "language_info": {
   "codemirror_mode": {
    "name": "ipython",
    "version": 3
   },
   "file_extension": ".py",
   "mimetype": "text/x-python",
   "name": "python",
   "nbconvert_exporter": "python",
   "pygments_lexer": "ipython3",
   "version": "3.10.12"
  }
 },
 "nbformat": 4,
 "nbformat_minor": 5
}
