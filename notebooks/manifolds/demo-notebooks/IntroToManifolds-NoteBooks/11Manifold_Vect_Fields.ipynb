{
 "cells": [
  {
   "cell_type": "markdown",
   "metadata": {},
   "source": [
    "# 11. Vector fields\n",
    "\n",
    "This notebook is part of the [Introduction to manifolds in SageMath](https://sagemanifolds.obspm.fr/intro_to_manifolds.html) by Andrzej Chrzeszczyk (Jan Kochanowski University of Kielce, Poland)."
   ]
  },
  {
   "cell_type": "code",
   "execution_count": null,
   "metadata": {},
   "outputs": [],
   "source": [
    "version()"
   ]
  },
  {
   "cell_type": "markdown",
   "metadata": {},
   "source": [
    "A **vector field** $X$ on a manifold $M$  assigns to a point $p ∈ M$ a tangent vector\n",
    "$X(p) ∈ T_p M$. Instead of $X(p)$ we shall write $X_p$. Since a vector field gives us a tangent vector at each point of its domain and\n",
    "a tangent vector can be applied to real-valued smooth functions to yield real\n",
    "numbers, given a vector field $X$ and $f ∈ C^∞ (M)$, we can form a real-valued function\n",
    "$X(f)=Xf$, defined by \n",
    "\\begin{equation}\n",
    "(X f )( p) ≡ X_p( f ).\n",
    "\\label{}\\tag{11.1}\n",
    "\\end{equation}\n",
    "\n",
    "\n",
    "We have also an equivalent definition<br>\n",
    "A **vector field**  $X$ on a manifold $M$ is a linear map $X : C^∞ (M ) → C^∞ (M )$ such that\n",
    "\n",
    "$$X(f g) = f X(g) + gX(f )\\quad \\mbox{   for all } f, g ∈ C^∞ (M ).$$\n",
    "\n",
    "A vector field $X$ is **smooth** if for all $f\\in C^\\infty(M)$ the function $Xf$ is also in $C^\\infty(M)$.<br>\n",
    "Equivalently we can say that a vector field $X$ on a manifold $M$ is **smooth** if for any coordinate chart $φ = (x^1 ,\\ldots , x^n ) :U → R^n$ we have for any point $p ∈ U$ \n",
    "\\begin{equation}\n",
    "X(p) = f^i(p)\\frac{\\partial}{\\partial x^i}\\Big|_p\n",
    "\\label{}\\tag{11.2}\n",
    "\\end{equation}\n",
    "for some $C^\\infty$ functions $f^i : U → R$.<br>\n"
   ]
  },
  {
   "cell_type": "markdown",
   "metadata": {},
   "source": [
    "<br>\n",
    "\n",
    "### Frames\n",
    "\n",
    "<br>\n",
    "\n",
    "To define vector fields with specified components in SageMath Manifolds we  need vector frames.\n",
    "\n",
    "\n",
    "If $U$ is an open subset of a manifold $M$ (for example a coordinate neighborhood)  then the **vector frame** on $U$ is the sequence $e$ of vector fields on $U$ such that for each $p∈U, \\ e(p)$ is a vector basis of the tangent space $T_pU$.<br><br>\n",
    "\n",
    "Usually we shall use the coordinate frames associated with the local coordinates.\n",
    "\n",
    "<br>\n",
    "\n",
    "**Example 11.1**\n",
    "\n",
    "Let us display the frame corresponding to the default chart"
   ]
  },
  {
   "cell_type": "code",
   "execution_count": null,
   "metadata": {},
   "outputs": [],
   "source": [
    "%display latex\n",
    "R2=Manifold(2,'R^2',start_index=1)     # manifold R^2\n",
    "c_xy.<x,y>=R2.chart()                  # global coordinates\n",
    "v = R2.vector_field(name='v')          # vector field on R2\n",
    "e = c_xy.frame()                       # vector frame\n",
    "print(e)\n",
    "e"
   ]
  },
  {
   "cell_type": "markdown",
   "metadata": {},
   "source": [
    "In this case the elements of the frame are the vector fields $p\\to \\frac{\\partial}{\\partial x^i}\\big|_p\\quad$ \n",
    "($\\frac{\\partial}{\\partial x^i}\\big|_p$ was defined by formula (8.3)).<br><br>\n",
    "If the frame is not defined by the user, the default frame is used."
   ]
  },
  {
   "cell_type": "markdown",
   "metadata": {},
   "source": [
    "Let us check how the elements e[1],e[2] of our frame e act on a scalar function."
   ]
  },
  {
   "cell_type": "code",
   "execution_count": null,
   "metadata": {},
   "outputs": [],
   "source": [
    "# continuation                   # f is a scalar function on R2:\n",
    "f = R2.scalar_field(function('f')(x,y), name='f') \n",
    "e[1](f).expr(), e[2](f).expr()   # values of the vector frame on f"
   ]
  },
  {
   "cell_type": "markdown",
   "metadata": {},
   "source": [
    "If the frame is defined, we can define the components of the vector field in this frame.\n",
    "\n",
    "<br>\n",
    "\n",
    "**Example 11.2**\n",
    "\n",
    "Here defining a vector field, we use frame e:"
   ]
  },
  {
   "cell_type": "code",
   "execution_count": null,
   "metadata": {},
   "outputs": [],
   "source": [
    "R2=Manifold(2,'R^2',start_index=1)     # manifold R2\n",
    "c_xy.<x,y>=R2.chart()                  # global coordinates\n",
    "v = R2.vector_field(name='v')          # vector field v\n",
    "e = c_xy.frame()                       # vector frame e\n",
    "v[e,:] = [-y, 1+x]                     # components of v in e\n",
    "v.display()                            # show v"
   ]
  },
  {
   "cell_type": "markdown",
   "metadata": {},
   "source": [
    "Since we use the default frame, the previous code can be simplified.\n",
    "\n",
    "<br>\n",
    "\n",
    "**Example 11.3**\n",
    "\n",
    "Here the frame is not specified, the result is the same, since we have used the default frame"
   ]
  },
  {
   "cell_type": "code",
   "execution_count": null,
   "metadata": {},
   "outputs": [],
   "source": [
    "R2=Manifold(2,'R^2',start_index=1)     # manifold R2\n",
    "c_xy.<x,y>=R2.chart()                  # global coordinates\n",
    "v = R2.vector_field(name='v')          # vector field\n",
    "v[:] = [-y, 1+x]               # components of v in default frame\n",
    "v.display()                            # show v"
   ]
  },
  {
   "cell_type": "markdown",
   "metadata": {},
   "source": [
    "The value of v on a scalar function:"
   ]
  },
  {
   "cell_type": "code",
   "execution_count": null,
   "metadata": {},
   "outputs": [],
   "source": [
    "# continuation                         # scalar function\n",
    "f = R2.scalar_field(function('f')(x,y), name='f') \n",
    "s=v(f)                                 # value of v on f\n",
    "s.expr()                               # show expression"
   ]
  },
  {
   "cell_type": "markdown",
   "metadata": {},
   "source": [
    "<br>\n",
    "\n",
    "**Example 11.4**\n",
    "\n",
    "Let us check that vector fields are derivations."
   ]
  },
  {
   "cell_type": "code",
   "execution_count": null,
   "metadata": {},
   "outputs": [],
   "source": [
    "# vector fields are derivations\n",
    "R2=Manifold(2,'R^2',start_index=1)        # manifold R2\n",
    "c_xy.<x,y>=R2.chart()                     # global coordinates\n",
    "v = R2.vector_field(name='v')             # vector field v\n",
    "e = c_xy.frame()                          # frame on R2\n",
    "f=R2.scalar_field(function('f')(x,y))     # scalar function f\n",
    "g=R2.scalar_field(function('g')(x,y))     # scalar function g\n",
    "v1=R2.scalar_field(function('v1')(x,y))   # component v1 of v\n",
    "v2=R2.scalar_field(function('v2')(x,y))   # component v2 of v\n",
    "v[e,:] = [v1, v2]                         # components of v in frame e"
   ]
  },
  {
   "cell_type": "markdown",
   "metadata": {},
   "source": [
    "First we compute the value of  $\\ v(fg)$:"
   ]
  },
  {
   "cell_type": "code",
   "execution_count": null,
   "metadata": {},
   "outputs": [],
   "source": [
    "v(f*g).expr()                             # value of v on f*g"
   ]
  },
  {
   "cell_type": "markdown",
   "metadata": {},
   "source": [
    "and next the value of $\\ fv(g)+gv(f)$:"
   ]
  },
  {
   "cell_type": "code",
   "execution_count": null,
   "metadata": {},
   "outputs": [],
   "source": [
    "(f*v(g)+g*v(f)).expr()                    #  value of f*v(g)+g*v(f)"
   ]
  },
  {
   "cell_type": "markdown",
   "metadata": {},
   "source": [
    "Both values are the same:"
   ]
  },
  {
   "cell_type": "code",
   "execution_count": null,
   "metadata": {},
   "outputs": [],
   "source": [
    "v(f*g) == f*v(g) + g*v(f)                 # check if v is derivation"
   ]
  },
  {
   "cell_type": "markdown",
   "metadata": {},
   "source": [
    "<br>\n",
    "\n",
    "**Example 11.5**\n",
    "\n",
    " Let us plot the vector field \n",
    " $\\quad v_0=\\frac{-y}{\\sqrt{x^2+y^2}}\\frac{\\partial}{\\partial x}\n",
    " +\\frac{x}{\\sqrt{x^2+y^2}}\\frac{\\partial}{\\partial y}.\n",
    " $\n",
    " \n",
    " To obtain the plot, some restriction are necessary."
   ]
  },
  {
   "cell_type": "code",
   "execution_count": null,
   "metadata": {},
   "outputs": [],
   "source": [
    "%display latex\n",
    "R2=Manifold(2,'R^2',start_index=1)        # manifold R2\n",
    "c_xy.<x,y>=R2.chart(coord_restrictions=lambda x,y:x^2+y^2>0) \n",
    "v0=R2.vector_field(name='v0')             # vector field v0\n",
    "v0[:]=-y/sqrt(x^2+y^2),x/sqrt(x^2+y^2)    # components of v0\n",
    "v0.display()"
   ]
  },
  {
   "cell_type": "code",
   "execution_count": null,
   "metadata": {},
   "outputs": [],
   "source": [
    "v0.plot(arrowsize=2,color='black',aspect_ratio=1)  # plot v0"
   ]
  },
  {
   "cell_type": "markdown",
   "metadata": {},
   "source": [
    "Use the command `v0.plot?` to see   how to plot vector fields.\n",
    "\n",
    "<br>\n",
    "\n",
    "**Example 11.6**\n",
    "\n",
    "Now let us plot the vector field\n",
    "$\\quad v_1=x\\frac{\\partial}{\\partial x}\n",
    " -y\\frac{\\partial}{\\partial y}.\n",
    " $\n",
    " \n",
    " Here we have excluded some neighborhood of the origin."
   ]
  },
  {
   "cell_type": "code",
   "execution_count": null,
   "metadata": {},
   "outputs": [],
   "source": [
    "M=Manifold(2,'M')               # manifold M\n",
    "X.<x,y>=M.chart(coord_restrictions=lambda x,y:(abs(x)>0.1,abs(y)>0.1))\n",
    "e=X.frame()                     # frame e on M\n",
    "v1=M.vector_field(name='v1')    # vector field v1\n",
    "v1[e,:]=x,-y                    # components of v1\n",
    "v1.plot(number_values=10, scale=0.2,\n",
    "  arrowsize=2,color='black',aspect_ratio=1)  # plot v1"
   ]
  },
  {
   "cell_type": "markdown",
   "metadata": {},
   "source": [
    "<br>\n",
    "\n",
    "**Example 11.7**\n",
    "\n",
    "Let us consider the two-dimensional sphere with spherical coordinates $\\theta,\\phi$ and the corresponding frame $\\frac{\\partial}{\\partial\\theta},\\frac{\\partial}{\\partial\\phi}$."
   ]
  },
  {
   "cell_type": "code",
   "execution_count": null,
   "metadata": {},
   "outputs": [],
   "source": [
    "%display latex\n",
    "S2=manifolds.Sphere(2)                    # sphere S^2\n",
    "Phi=S2.embedding()                        # embedding S^2 -> E^3\n",
    "sph.<th,ph>=S2.spherical_coordinates()    # spherical coord. on S^2\n",
    "sphFr=sph.frame()                         # frame on S^2\n",
    "E=S2.ambient()                            # Euclidean space E^3\n",
    "cart.<x,y,z> = E.cartesian_coordinates()  # Cart.coord. in E^3"
   ]
  },
  {
   "cell_type": "markdown",
   "metadata": {},
   "source": [
    "First let us plot the vector field $\\frac{\\partial}{\\partial\\phi}$:"
   ]
  },
  {
   "cell_type": "code",
   "execution_count": null,
   "metadata": {},
   "outputs": [],
   "source": [
    "p1=sphFr[2].plot(chart=cart, mapping=Phi,number_values=10,\n",
    "    scale=0.5,arrowsize=0.5,label_axes=False,thickness=0.5,\n",
    "    width=0.5,color='black')          # plot vector field d/dphi\n",
    "s=sphere(color='lightgrey',opacity=0.9)   # plot the sphere\n",
    "(p1+s).show(frame=False,label_axes=False) # combine plots"
   ]
  },
  {
   "cell_type": "markdown",
   "metadata": {},
   "source": [
    "and next $\\frac{\\partial}{\\partial\\theta}$:"
   ]
  },
  {
   "cell_type": "code",
   "execution_count": null,
   "metadata": {},
   "outputs": [],
   "source": [
    "p3=sphFr[1].plot(chart=cart, mapping=Phi,number_values=10,\n",
    "    scale=0.3,arrowsize=0.5,label_axes=False,thickness=0.5,\n",
    "    width=0.5,color='black')      # plot vector field d/dtheta\n",
    "(s+p3).show(frame=False,label_axes=False)  # combine plots"
   ]
  },
  {
   "cell_type": "markdown",
   "metadata": {},
   "source": [
    "<br>\n",
    "\n",
    "### Vector fields of tangents to a curve\n",
    "\n",
    "<br>\n",
    "\n",
    "We can also define a vector fields of tangents to a curve $\\gamma$ in a manifold $M$ i.e. the map\n",
    "$t\\to \\gamma'(t)\\in T_{\\gamma(t)}M$ defined for $t$ from some  interval $I$.\n",
    "\n",
    "<br>\n",
    "\n",
    "**Example 11.8**\n",
    "\n",
    "Let us plot the vector field of tangent vectors to the curve\n",
    "$\\ \\gamma\\ $ defined in Cartesian coordinates by $(x(t),y(t),z(t))=(\\cos(3t),\\sin(3t),2t)$."
   ]
  },
  {
   "cell_type": "code",
   "execution_count": null,
   "metadata": {},
   "outputs": [],
   "source": [
    "R.<t> = manifolds.RealLine()         # Real line with coordinate t\n",
    "R3 = Manifold(3, 'R^3')              # manifold R3\n",
    "X.<x,y,z> = R3.chart()               # cartesian coordinates in R3\n",
    "                                     # curve c definition\n",
    "c=R3.curve({X:[cos(3*t),sin(3*t),2*t]},(t, -pi/2, +pi/2),name='c')\n",
    "                                     # plot curve:\n",
    "p=c.plot(X,color='grey',thickness=3,plot_points=200,label_axes=False)\n",
    "vc = c.tangent_vector_field()        # vector field vc along c\n",
    "p2=vc.plot(chart=X, number_values=40, scale=0.15,\n",
    "  arrowsize=0.5,thickness=0.5,width=0.5,\n",
    "  color='black', label_axes=False)   # plot the vector field\n",
    "(p+p2).rotateZ(pi/2).show(figsize=[4,3],aspect_ratio=[1,1,0.4],\n",
    "  label_axes=False)                  # combine plots  "
   ]
  },
  {
   "cell_type": "markdown",
   "metadata": {},
   "source": [
    "<br>\n",
    "\n",
    "**Example 11.9**\n",
    "\n",
    "Now let us try to plot a curve on the sphere and the vector field of tangents to that curve. \n",
    "\n",
    "We start from preparation commands from Example 11.7."
   ]
  },
  {
   "cell_type": "code",
   "execution_count": null,
   "metadata": {},
   "outputs": [],
   "source": [
    "S2=manifolds.Sphere(2)                    # sphere S^2\n",
    "Phi=S2.embedding()                        # embedding S^2 -> E^3\n",
    "sph.<th,ph>=S2.spherical_coordinates()    # spherical coord.on S^2\n",
    "sphFr=sph.frame()                         # frame on S^2\n",
    "E=S2.ambient()                            # Euclidean space E^3\n",
    "cart.<x,y,z> = E.cartesian_coordinates()  # Cartesian coord.in E^3"
   ]
  },
  {
   "cell_type": "markdown",
   "metadata": {},
   "source": [
    "Next we define the curve and the vector field of tangents."
   ]
  },
  {
   "cell_type": "code",
   "execution_count": null,
   "metadata": {},
   "outputs": [],
   "source": [
    "R.<t> = manifolds.RealLine()              # real line\n",
    "c = S2.curve({sph: [t, cos(2*t)]},        # curve th=t,ph=cos(2t)\n",
    "    (t, -oo, +oo), name='c')\n",
    "vc = c.tangent_vector_field()             # vector field of tangents"
   ]
  },
  {
   "cell_type": "markdown",
   "metadata": {},
   "source": [
    "Now we plot the curve:"
   ]
  },
  {
   "cell_type": "code",
   "execution_count": null,
   "metadata": {},
   "outputs": [],
   "source": [
    "p4=c.plot(chart=cart,mapping=Phi,thickness=2,color='black',\n",
    "    plot_points=200, aspect_ratio=1,label_axes=False)  # plot curve"
   ]
  },
  {
   "cell_type": "markdown",
   "metadata": {},
   "source": [
    "the vector field of tangents:"
   ]
  },
  {
   "cell_type": "code",
   "execution_count": null,
   "metadata": {},
   "outputs": [],
   "source": [
    "p5=vc.plot(chart=cart,mapping=Phi, number_values=40, scale=0.2,\n",
    "  arrowsize=0.3,thickness=0.3,width=0.3,color='black',\n",
    "  label_axes=False)                      # plot vector field"
   ]
  },
  {
   "cell_type": "markdown",
   "metadata": {},
   "source": [
    "and the sphere:"
   ]
  },
  {
   "cell_type": "code",
   "execution_count": null,
   "metadata": {},
   "outputs": [],
   "source": [
    "s=sphere(color='lightgrey',opacity=0.6)  # plot sphere"
   ]
  },
  {
   "cell_type": "markdown",
   "metadata": {},
   "source": [
    "Finally we combine the three plots."
   ]
  },
  {
   "cell_type": "code",
   "execution_count": null,
   "metadata": {},
   "outputs": [],
   "source": [
    "(s+p4+p5).rotateZ(pi/2).show(frame=False,label_axes=False) # combine plots"
   ]
  },
  {
   "cell_type": "markdown",
   "metadata": {},
   "source": [
    "## What's next?\n",
    "\n",
    "Take a look at the notebook [Vector fields - continuation](https://nbviewer.org/github/sagemanifolds/IntroToManifolds/blob/main/12Manifold_VectorFields_cont.ipynb)."
   ]
  }
 ],
 "metadata": {
  "kernelspec": {
   "display_name": "SageMath 9.6",
   "language": "sage",
   "name": "sagemath"
  },
  "language_info": {
   "codemirror_mode": {
    "name": "ipython",
    "version": 3
   },
   "file_extension": ".py",
   "mimetype": "text/x-python",
   "name": "python",
   "nbconvert_exporter": "python",
   "pygments_lexer": "ipython3",
   "version": "3.8.10"
  }
 },
 "nbformat": 4,
 "nbformat_minor": 4
}
