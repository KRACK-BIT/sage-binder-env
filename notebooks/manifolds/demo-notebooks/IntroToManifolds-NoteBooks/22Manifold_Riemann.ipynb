{
 "cells": [
  {
   "cell_type": "markdown",
   "metadata": {},
   "source": [
    "# 22. Riemannian and pseudo-Riemannian manifolds\n",
    "\n",
    "This notebook is part of the [Introduction to manifolds in SageMath](https://sagemanifolds.obspm.fr/intro_to_manifolds.html) by Andrzej Chrzeszczyk (Jan Kochanowski University of Kielce, Poland)."
   ]
  },
  {
   "cell_type": "code",
   "execution_count": null,
   "metadata": {},
   "outputs": [],
   "source": [
    "version()"
   ]
  },
  {
   "cell_type": "markdown",
   "metadata": {},
   "source": [
    "Let $M$ be a smooth manifold and $g$ a covariant tensor field of rank two: $g\\in T^{(0,2)}M.$ We call $g$ **symmetric** if\n",
    "$$g_p(X_p,Y_p)=g_p(Y_p,X_p)\\quad \\text{for } X_p,Y_p\\in T_pM,\\ p\\in M.$$\n",
    "\n",
    "We call $g$ **positive definite** if \n",
    "$$g_p(X_p,X_p)\\geq 0\\quad \\text{for all}\\  X_p\\in T_pM,\\ p\\in M$$ and \n",
    "$$g_p(X_p,X_p)=0\\quad \\text{implies } X_p=0_p\\in T_pM.\n",
    "$$\n",
    "\n",
    "The tensor field $g$ is **non-singular** if for all $p\\in M$\n",
    "\n",
    "$$g_p(X_p,Y_p)=0\\quad \\text{for all } Y_p\\in T_pM\\quad \\text{implies } X_p=0_p\\in T_pM.\n",
    "$$\n",
    "\n",
    "Note that the positive-definiteness implies the non-singularity:<br>\n",
    "if $g_p(X_p,Y_p)=0\\quad \\text{for all }  Y_p\\in T_pM,\\ $ then \n",
    "$\\ g_p(X_p,X_p)=0\\ $ and consequently $X_p=0_p$."
   ]
  },
  {
   "cell_type": "markdown",
   "metadata": {},
   "source": [
    "A **pseudo-Riemannian manifold** is a smooth manifold $M$ with a non-singular, symmetric, smooth tensor field $g\\in T^{(0,2)}M$, called **metric** of $M$.\n",
    "\n",
    "If the metric is positive definite we use the name **Riemannian manifold**."
   ]
  },
  {
   "cell_type": "markdown",
   "metadata": {},
   "source": [
    "<br>\n",
    "\n",
    "**Example 22.1**\n",
    "\n",
    "Metric method in SageMath:"
   ]
  },
  {
   "cell_type": "code",
   "execution_count": null,
   "metadata": {},
   "outputs": [],
   "source": [
    "                       # Riemannian manifold M\n",
    "M = Manifold(2, 'M', structure='Riemannian'); M"
   ]
  },
  {
   "cell_type": "code",
   "execution_count": null,
   "metadata": {},
   "outputs": [],
   "source": [
    "g = M.metric(); g       # metric on M"
   ]
  },
  {
   "cell_type": "markdown",
   "metadata": {},
   "source": [
    "<br>\n",
    "\n",
    "In a Riemannian manifold, $M$, with a metric $g$, the bilinear form $g_p(\\cdot,\\cdot)$ is an **inner product on** $T_pM$. The **norm or length** of a tangent vector $X_p ∈ T_p M$ is defined by \n",
    "\n",
    "\\begin{equation}\n",
    "\\|X_p\\| = \\sqrt{g_p (X_p , X_p )},\n",
    "\\tag{22.1}\n",
    "\\end{equation}\n",
    "\n",
    "and the **length of a curve** $\\gamma : [a, b] → M$ is defined by\n",
    "\n",
    "\\begin{equation}\n",
    "L_\\gamma=\\int_a^b\\|\\gamma'_t\\|dt.\n",
    "\\tag{22.2}\n",
    "\\end{equation}\n",
    "\n",
    "If $M$ is a Riemannian manifold and $(x^1,\\ldots,x^n)$ are local coordinates, then the metric is given by\n",
    "\n",
    "\\begin{equation}\n",
    "g = g_{i j} dx^i ⊗ dx^j,\n",
    "\\tag{22.3}\n",
    "\\end{equation}\n",
    "\n",
    "where $g_{ij}=g(\\frac{\\partial}{\\partial x^i},\\frac{\\partial}{\\partial x^j})$ (this is a special case of (13.7) ).\n",
    "\n",
    "\n",
    "The  **standard metric on $R^n$** with Cartesian coordinates is defined by\n",
    "\n",
    "\\begin{equation}\n",
    "g = \\delta_{ij}dx^i\\otimes dx^j=dx^1 ⊗ dx^1  + · · · + dx^n ⊗ dx^n ,\n",
    "\\tag{22.4}\n",
    "\\end{equation}\n",
    "\n",
    "<br><br>\n",
    "**Example 22.2**\n",
    "\n",
    "Let us start from the standard metric in 2-dimensional Euclidean space"
   ]
  },
  {
   "cell_type": "code",
   "execution_count": null,
   "metadata": {},
   "outputs": [],
   "source": [
    "E.<x,y> = EuclideanSpace()  # Euclidean space E^2\n",
    "g = E.metric()              # standard metric on E^2\n",
    "g.disp()"
   ]
  },
  {
   "cell_type": "markdown",
   "metadata": {},
   "source": [
    "and use (22.2) to compute the length of the curve c defined in Cartesian coordinates by\n",
    "\n",
    "$$x(t)=\\sin(t),\\quad y(t)=\\sin(2t)/2,\\quad t\\in (0,2\\pi),$$\n",
    "\n",
    "(in simple cases the **exact** integral can be computed in SageMath, but **not in the present case**)."
   ]
  },
  {
   "cell_type": "code",
   "execution_count": null,
   "metadata": {},
   "outputs": [],
   "source": [
    "E.<x,y> = EuclideanSpace()  # Euclidean space E^2\n",
    "t = var('t')                # symbolic variable for c \n",
    "c = E.curve({E.cartesian_coordinates():[sin(t), sin(2*t)/2]},\n",
    "    (t, 0, 2*pi), name='c') # define curve in Cart. coord.\n",
    "v=c.tangent_vector_field()  # vector field of tangent vect. to c\n",
    "w=v.norm().expr()           # norm of v\n",
    "numerical_integral(w,0,2*pi)[0]  # numerical version of (22.2)"
   ]
  },
  {
   "cell_type": "markdown",
   "metadata": {},
   "source": [
    "If the curve is simple, for example  \n",
    "\n",
    "$$x(t)=\\sin(2t),\\quad y(t)=\\cos(2t),\\quad t\\in (0,2\\pi),$$\n",
    "\n",
    "then we don't need numerical tools:"
   ]
  },
  {
   "cell_type": "code",
   "execution_count": null,
   "metadata": {},
   "outputs": [],
   "source": [
    "%display latex\n",
    "E.<x,y> = EuclideanSpace()  # Euclidean space E^2\n",
    "t = var('t')                # symbolic variable for c \n",
    "c = E.curve({E.cartesian_coordinates():[sin(2*t), cos(2*t)]},\n",
    "    (t, 0, 2*pi), name='c') # define curve in Cart. coord.\n",
    "v=c.tangent_vector_field()  # vector field of tangent vect. to c\n",
    "w=v.norm().expr()           # norm of v\n",
    "w.integral(t,0,2*pi)        # exact version of (22.2)"
   ]
  },
  {
   "cell_type": "markdown",
   "metadata": {},
   "source": [
    "<br>\n",
    "\n",
    "**Example 22.3**\n",
    "\n",
    "The standard metric in 4-dimensional Euclidean space is predefined."
   ]
  },
  {
   "cell_type": "code",
   "execution_count": null,
   "metadata": {},
   "outputs": [],
   "source": [
    "%display latex\n",
    "E=EuclideanSpace(4)         # Euclidean space E^4\n",
    "E.metric().disp()           # standard metric on E^4"
   ]
  },
  {
   "cell_type": "markdown",
   "metadata": {},
   "source": [
    "If we need upper indices and  more general manifolds, then we can use the commands:"
   ]
  },
  {
   "cell_type": "code",
   "execution_count": null,
   "metadata": {},
   "outputs": [],
   "source": [
    "N = 3                       # dimension of manifold\n",
    "                            # variables with superscripts:\n",
    "M = Manifold(N, 'M')        # manifold M\n",
    "X = M.chart(' '.join(['x'+str(i)+':x^{'+str(i)+'}' for i in range(N)]))  # chart on M\n",
    "g = M.metric('g')           # metric g on M \n",
    "g[0,0], g[1,1], g[2,2] = 1, 1, 1  # components of g\n",
    "g.disp()                    # show g"
   ]
  },
  {
   "cell_type": "markdown",
   "metadata": {},
   "source": [
    "<br>\n",
    "\n",
    "### Determinant of of $[g_{ij}]$\n",
    "\n",
    "<br>\n",
    "\n",
    "If in the implication \n",
    "$$g_p(X_p,Y_p)=0\\  \\text{for all } Y_p\\quad \\Rightarrow X_p=0,\n",
    "$$\n",
    "\n",
    "we put $X_p=a^i\\frac{\\partial}{\\partial x^i}\\big|_p, \\quad Y_p=\\frac{\\partial}{\\partial x^j}\\big|_p$, then we obtain\n",
    "\n",
    "$$g_{i j} ( p)\\, a^i = 0,\\quad j=1,\\ldots,n\\quad \\Rightarrow a^i=0, \\ i=1,\\ldots,n,$$\n",
    "\n",
    "which means that the homogeneous system of linear equations for the unknowns $a^i$ admits only the zero solutions i.e., \n",
    "\n",
    "$$\\det [g_{i,j}](p)\\not=0,$$\n",
    "for all $p$ in the the coordinate domain."
   ]
  },
  {
   "cell_type": "markdown",
   "metadata": {},
   "source": [
    "<br>\n",
    "\n",
    "### Pullback of a metric\n",
    "\n",
    "<br>\n",
    "\n",
    "If $M$ is a Riemannian manifold with a positive definite metric tensor $g$ and $ψ :N → M $ is a smooth map such that for all $p ∈\n",
    "N ,\\  dψ_p$ has **maximal rank**, that is,\n",
    "\n",
    " $$dψ_p X_p = 0_{ψ( p)}\\quad \\text{implies}\\ \\ X_p = 0_p,$$\n",
    "\n",
    "then **the pullback $ψ^∗ g$ is\n",
    "a  positive definite metric tensor in $N$.**\n",
    "\n",
    "In fact since $(ψ^∗ g)_p (X_p , Y_p ) ≡ g_{ψ( p)} (dψ_p X_p , dψ_p Y_p )$, and $g$ is  symmetric  then $\\psi^*g$ is symmetric.\n",
    "Furthermore, if $(ψ^*g)_p (X_p , Y_p ) = 0$ for all $Y_p ∈ T_p N$ , from the definition of $ψ^*g$, we have $g_{ψ( p)} (dψ_p X_p , dψ_p Y_p ) = 0$ for all $Y_p ∈ T_p N$, In particular taking $X_p = Y_p$ and using the fact that $g$ is positive definite  we see that $dψ_p X_p = 0_{\\psi(p)}$, and therefore $X_p = 0_p$ .\n",
    "\n",
    "<br>\n",
    "\n",
    "### Immersions and embeddings\n",
    "\n",
    "<br>\n",
    "\n",
    "A smooth mapping with maximal rank  is called an **immersion** (in other words, $ψ : N → M$ is an immersion if for all $p ∈ N$, the rank of the linear mapping $dψ_p$\n",
    "is equal to the dimension of $N$ ).<br>\n",
    "The smooth map $\\ \\psi: N\\to M\\ $ is an **embedding** if it is one-to one immersion and the image $\\psi(N)$ with the subspace topology is homeomorphic to $N$ under $\\psi$.\n",
    "\n",
    "<br><br>\n",
    "\n",
    "**Example 22.4**\n",
    "The metric  on the standard **sphere** $S^2$:"
   ]
  },
  {
   "cell_type": "code",
   "execution_count": null,
   "metadata": {},
   "outputs": [],
   "source": [
    "%display latex\n",
    "M = Manifold(3, 'R^3')       # manifold M=R^3\n",
    "c_xyz.<x,y,z> = M.chart()    # Cartesian coordinates\n",
    "N = Manifold(2, 'N')         # manifold N=S^2\n",
    "                             # chart on N:\n",
    "c_sph.<theta,phi>=N.chart(r'th:(0,pi):\\theta ph:(0,2*pi):\\phi')  \n",
    "psi = N.diff_map(M, (sin(theta)*cos(phi), \n",
    "    sin(theta)*sin(phi),cos(theta)),name='psi',\n",
    "    latex_name=r'\\psi')      # embedding S^2 -> R^3\n",
    "g=M.metric('g')              # standard metric on R^3\n",
    "g[0,0],g[1,1],g[2,2]=1,1,1   # components of g\n",
    "plb=psi.pullback(g)          # pullback of g\n",
    "plb.display()                # show metric on S^2"
   ]
  },
  {
   "cell_type": "markdown",
   "metadata": {},
   "source": [
    "It is easy to check that $\\psi$ is of maximal rank:"
   ]
  },
  {
   "cell_type": "code",
   "execution_count": null,
   "metadata": {},
   "outputs": [],
   "source": [
    "psi.jacobian_matrix().rank()"
   ]
  },
  {
   "cell_type": "markdown",
   "metadata": {},
   "source": [
    "\n",
    "\n",
    "**Example 22.5**\n",
    "\n",
    "The metric  on the **paraboloid**:"
   ]
  },
  {
   "cell_type": "code",
   "execution_count": null,
   "metadata": {},
   "outputs": [],
   "source": [
    "M = Manifold(3, 'R3')        # manifold M=R^3\n",
    "c_xyz.<x,y,z> = M.chart()    # Cartesian coordinates\n",
    "N=Manifold(2,name='R2')      # manifold N; paraboloid\n",
    "c_uv.<u,v>=N.chart()         # coordinates on N\n",
    "g = M.metric('g');           # metric in R^3\n",
    "g[:]=[[1,0,0],[0,1,0],[0,0,1]];     # components of g\n",
    "psi = N.diff_map(M, (u, v,u^2+v^2),\n",
    "    name='psi',latex_name=r'\\psi')  # embedding N->R^3\n",
    "plb=psi.pullback(g)          # pullback of g\n",
    "plb.display()                # show metric on paraboloid"
   ]
  },
  {
   "cell_type": "code",
   "execution_count": null,
   "metadata": {},
   "outputs": [],
   "source": [
    "# check if psi is of maximal rank\n",
    "J = psi.jacobian_matrix()\n",
    "J.rank()"
   ]
  },
  {
   "cell_type": "markdown",
   "metadata": {},
   "source": [
    "\n",
    "\n",
    "**Example 22.6**\n",
    "\n",
    "The metric  on the **hyperboloid**:"
   ]
  },
  {
   "cell_type": "code",
   "execution_count": null,
   "metadata": {},
   "outputs": [],
   "source": [
    "M = Manifold(3, 'R3')        # manifold M=R^3\n",
    "c_xyz.<x,y,z> = M.chart()    # Cartesian coordinates\n",
    "N=Manifold(2,name='R2')      # manifold N; hyperboloid\n",
    "c_uv.<u,v>=N.chart()         # coordinates on N\n",
    "g = M.metric('g');           # metric in R^3\n",
    "g[:]=[[1,0,0],[0,1,0],[0,0,1]];     # components of g\n",
    "psi = N.diff_map(M, (u, v,u^2-v^2),\n",
    "    name='psi',latex_name=r'\\psi')  # embedding N->R^3\n",
    "plb=psi.pullback(g)          # pullback of g\n",
    "plb.display()                # show metric on hyperboloid"
   ]
  },
  {
   "cell_type": "code",
   "execution_count": null,
   "metadata": {},
   "outputs": [],
   "source": [
    "# check if psi is of maximal rank\n",
    "J=psi.jacobian_matrix()\n",
    "J.rank()"
   ]
  },
  {
   "cell_type": "markdown",
   "metadata": {},
   "source": [
    "<br>\n",
    "\n",
    "### Levi-Civita connection\n",
    "\n",
    "<br>\n",
    "\n",
    "If $M$ is a Riemannian manifold, then there exists a unique connection $∇$  with vanishing torsion and such\n",
    "that $∇_X g = 0$ for all $X ∈ \\mathfrak{X}(M)$. \n",
    "Connections  with this properties are called **Riemannian or Levi-Civita connections.**\n",
    "\n",
    "From the definition (21.13) of torsion \n",
    "($T (X, Y) = ∇_X Y − ∇_Y X − [X, Y]$) it follows that the torsion vanishes iff\n",
    "\\begin{equation}\n",
    "[X, Y] = ∇_X Y − ∇_Y X.\n",
    "\\tag{22.5}\n",
    "\\end{equation}\n",
    "\n",
    "Recall that connections satisfying (22.5) are called **torsion free** or **symmetric**.\n",
    "\n",
    "\n",
    "From the rule of covariant differentiation of covariant tensor fields (21.14) it follows that\n",
    "\n",
    "$$(∇_X g)(Y,Z)=X (g (Y,Z))-g(∇_X Y,Z)-g(Y,∇_X Z),$$\n",
    "\n",
    "so $∇_X g$ vanishes iff\n",
    "\n",
    "\\begin{equation}\n",
    "X (g(Y, Z)) = g(∇_X Y, Z) + g(Y, ∇_X Z).\n",
    "\\tag{22.6}\n",
    "\\end{equation}\n",
    "\n",
    "A connection $\\ \\nabla\\ $ in a Riemannian manifold $M$ is said to be \n",
    "**compatible with the metric** if (22.6) is true for all \n",
    "$X,Y,Z\\in \\mathfrak{X}(M)$.\n",
    "\n",
    "<br>\n",
    "\n",
    "One can prove that:\n",
    "\n",
    "**On any Riemannian manifold $M$ there exists a unique connection  for which (22.5),(22.6) hold for $X, Y, Z ∈ \\mathfrak{X}(M).$**\n",
    "\n",
    "<br>\n",
    "\n",
    "Let us assume that (22.5),(22.6) hold true. We have \n",
    "\n",
    "$$\n",
    "X( g(Y, Z)) +Y( g(Z, X)) − Z (g(X, Y))\\\\\n",
    "= g(∇_X Y, Z) + g(Y, ∇_X Z)\n",
    "+ g(∇_Y Z, X) + g(Z, ∇_Y X)\n",
    "− g(∇_Z X, Y) − g(X, ∇_Z Y)\\\\\n",
    "= g(∇_X Y + ∇_Y X, Z) + g(Y, ∇_X Z − ∇_Z X) + g(X, ∇_Y Z − ∇_Z Y)\\\\\n",
    "= g(∇_X Y + ∇_X Y+(\\nabla_Y X-\\nabla_X Y), Z) + g(Y, ∇_X Z − ∇_Z X) + g(X, ∇_Y Z − ∇_Z Y)\\\\\n",
    "= g(∇_X Y + ∇_X Y + [Y, X], Z) + g(Y, [X, Z]) + g(X, [Y, Z])\\\\\n",
    "= 2g(∇_X Y, Z) + g(Z, [Y, X]) + g(Y, [X, Z]) + g(X, [Y, Z]).\n",
    "$$\n",
    "\n",
    "The obtained equality implies the following **Koszul formula**\n",
    "\n",
    "\\begin{equation}\n",
    "2g(∇_X Y, Z) = X (g(Y, Z)) + Y (g(Z, X)) − Z (g(X, Y))\\\\\n",
    "− g (Z, [Y, X]) − g (Y, [X, Z]) − g( X, [Y, Z]).\n",
    "\\tag{22.7}\n",
    "\\end{equation}\n",
    "\n",
    "Since $g$ is non-singular if such a $g$ exists, it defines the connection $∇_X Y$ in an unique manner."
   ]
  },
  {
   "cell_type": "markdown",
   "metadata": {},
   "source": [
    "Now let us assume that $\\nabla_X Y$ is defined by (22.7). We have\n",
    "\n",
    "$$2g(\\nabla_XY,Z)-2g(\\nabla_Y X,Z)=\\\\\n",
    "X(g(Y,Z))+Y(g(Z,X))-Z(g(X,Y))\n",
    "-g(Z,[Y,X])-g(Y,[X,Z])-g(X,[Y,Z])\\\\\n",
    "-Y(g(X,Z))-X(g(Z,Y))+Z(g(Y,X))\n",
    "+g(Z,[X,Y])+g(X,[Y,Z])+g(Y,[X,Z])\\\\\n",
    "=2g([X,Y],Z),\n",
    "$$\n",
    "thus (22.5) is fulfilled.\n",
    "\n",
    "To check (22.6) let us note that\n",
    "\n",
    "$$2g(\\nabla_XY,Z)+2g(Y,\\nabla_XZ)=2g(\\nabla_XY,Z)+2g(\\nabla_XZ,Y)\\\\\n",
    "=X(g(Y,Z))+Y(g(Z,X))-Z(g(X,Y))-g(Z,[Y,X])-g(Y,[X,Z])-g(X,[Y,Z])\\\\\n",
    "+X(g(Z,Y))+Z(g(Y,X))-Y(g(X,Z))-g(Y,[Z,X])-g(Z,[X,Y])-g(X,[Z,Y])\\\\\n",
    "=2X(g(Y,Z)).\n",
    "$$\n"
   ]
  },
  {
   "cell_type": "markdown",
   "metadata": {},
   "source": [
    "<br>\n",
    "\n",
    "### Levi-Civita connection in components\n",
    "\n",
    "<br>\n",
    "\n",
    "\n",
    "Let $g_{ij}=g\\big(\\frac{\\partial}{\\partial x^i},\\frac{\\partial}{\\partial x^j}\\big)$. Recall from the notebook 12 that $[\\frac{\\partial}{\\partial x^i},\\frac{\\partial}{\\partial x^j}]=0.$\n",
    "\n",
    "If we put in  (22.7)  .\n",
    "$$X=\\frac{\\partial}{\\partial x^i},\\quad\n",
    "Y=\\frac{\\partial}{\\partial x^j},\\quad\n",
    "Z=\\frac{\\partial}{\\partial x^k},\n",
    "$$\n",
    "then \n",
    "\n",
    "$$2g\\Big(\\nabla_{\\frac{\\partial}{\\partial x^i}}\n",
    "\\frac{\\partial}{\\partial x^j},\\frac{\\partial}{\\partial x^k}\\Big)\\\\\n",
    "=\\frac{\\partial}{\\partial x^i}\n",
    "\\big(g(\\frac{\\partial}{\\partial x^j},\\frac{\\partial}{\\partial x^k}\\big)\\big)\n",
    "+\n",
    "\\frac{\\partial}{\\partial x^j}\n",
    "\\big(g(\\frac{\\partial}{\\partial x^k},\\frac{\\partial}{\\partial x^i}\\big)\\big)\n",
    "-\n",
    "\\frac{\\partial}{\\partial x^k}\n",
    "\\big(g(\\frac{\\partial}{\\partial x^i},\\frac{\\partial}{\\partial x^j}\\big)\\big)\\\\\n",
    "=\\frac{\\partial g_{jk}}{\\partial x^i}+\n",
    "\\frac{\\partial g_{ki}}{\\partial x^j}-\n",
    "\\frac{\\partial g_{ij}}{\\partial x^k}.\n",
    "$$"
   ]
  },
  {
   "cell_type": "markdown",
   "metadata": {},
   "source": [
    "Using the formula \n",
    "$\\nabla_{\\frac{\\partial}{\\partial x^i}}\n",
    "\\frac{\\partial}{\\partial x^j}=\\Gamma^m_{ji}\\frac{\\partial}{\\partial x^m}\n",
    "$ we obtain\n",
    "\n",
    "$$2\\Gamma^m_{ji}g_{mk}=\n",
    "\\frac{\\partial g_{jk}}{\\partial x^i}+\n",
    "\\frac{\\partial g_{ki}}{\\partial x^j}-\n",
    "\\frac{\\partial g_{ij}}{\\partial x^k},\n",
    "$$\n",
    "and finally\n",
    "\\begin{equation}\n",
    "\\Gamma^m_{ji}=\\frac{1}{2}g^{km}\\Big(\n",
    "\\frac{\\partial g_{jk}}{\\partial x^i}+\n",
    "\\frac{\\partial g_{ki}}{\\partial x^j}-\n",
    "\\frac{\\partial g_{ij}}{\\partial x^k}\n",
    "\\Big),\n",
    "\\tag{22.8}\n",
    "\\end{equation}\n",
    "\n",
    "where $[g^{km}]$ is the  matrix inverse to $[g_{mk}]$.\n",
    "\n",
    "Note that from (22.8) it follows that $\\Gamma_{ij}^k=\\Gamma_{ji}^m$.\n",
    "\n",
    "Note that a symmetric $n\\times n$ matrix has $n(n+1)/2$ independent elements and $\\Gamma^m_{ij}$ defines $n$ such matrices, so the Riemannian manifolds have $n^2(n+1)/2$ independent Christoffel symbols."
   ]
  },
  {
   "cell_type": "markdown",
   "metadata": {},
   "source": [
    "<br>\n",
    "\n",
    "### Geodesics in Riemannian manifolds\n",
    "\n",
    "<br>\n",
    "\n",
    "\n",
    "In the case of Riemannian connections SageMath offers `integrated_geodesic`, a numerical method of finding geodesics \n",
    "<br><br>\n",
    "\n",
    "**Example 22.7**\n",
    "\n",
    "Use `integrated_geodesic`  method to find the geodesics on Poincaré half-plane passing through the point with coordinates $(0,1)$.\n",
    "\n",
    "\n",
    "Let us start from the geodesic with tangent vector at $(0,1)$ parallel to $x$-axis."
   ]
  },
  {
   "cell_type": "code",
   "execution_count": null,
   "metadata": {},
   "outputs": [],
   "source": [
    "M = Manifold(2,'M',structure='Riemannian') # Riemannian manifold M\n",
    "X.<x,y> = M.chart('x y:(0,+oo)')           # Poincare half-plane\n",
    "g = M.metric()                             # metric on M\n",
    "g[0,0], g[1,1] = 1/y^2, 1/y^2              # nonzero components of the metric\n",
    "p = M((0,1), name='p')                     # point p\n",
    "t = var('t')                               # symbolic variable for geodesic           \n",
    "v = M.tangent_space(p)((1,0), name='v')    # tang. vect. at p, comp.: (1,0)\n",
    "v1 = M.tangent_space(p)((-1,0), name='v1') # tang. vect. at p, comp.: (-1,0)\n",
    "c = M.integrated_geodesic(g, (t, 0, 2), v, name='c')    # geodesic with init.vect. v\n",
    "c1 = M.integrated_geodesic(g, (t, 0, 2), v1, name='c1') # geodesic with init.vect. v1\n",
    "sol = c.solve()                            # find the geodesic facing right\n",
    "interp = c.interpolate()                   # interpolate the result\n",
    "p0=c.plot_integrated(thickness=2)          # plot the geodesic c\n",
    "sol1=c1.solve()                            # find the geodesic facing left\n",
    "interp1 = c1.interpolate()                 # interpolate the result\n",
    "p1=c1.plot_integrated(thickness=2)         # plot the geodesic c1\n",
    "(p0+p1).show(aspect_ratio=1,figsize=[4,4]) # combine plots"
   ]
  },
  {
   "cell_type": "markdown",
   "metadata": {},
   "source": [
    "Now let us show how the other geodesics through the same point may look.\n",
    "\n",
    "First we repeat the six commands defining the Poincaré half-plane."
   ]
  },
  {
   "cell_type": "code",
   "execution_count": null,
   "metadata": {},
   "outputs": [],
   "source": [
    "M = Manifold(2, 'M', structure='Riemannian')\n",
    "X.<x,y> = M.chart('x y:(0,+oo)')\n",
    "g = M.metric()\n",
    "g[0,0], g[1,1] = 1/y^2, 1/y^2\n",
    "p = M((0,1), name='p')\n",
    "t = var('t')"
   ]
  },
  {
   "cell_type": "markdown",
   "metadata": {},
   "source": [
    "Next we plot 6 geodesics facing right, 6 geodesics facing left,\n",
    "one geodesic facing up and one geodesic pointing down."
   ]
  },
  {
   "cell_type": "code",
   "execution_count": null,
   "metadata": {},
   "outputs": [],
   "source": [
    "Gr=[]                                        # list of plots\n",
    "                                             \n",
    "for y in range(-1,5):                        # 6 geodesics pointing facing *right*\n",
    "    v = M.tangent_space(p)((1,y),name='v')   # initial tangent vector\n",
    "    c = M.integrated_geodesic(g,(t,0,2),v,name='c')   # define geodesic\n",
    "    sol = c.solve()                          # find the geodesic points\n",
    "    interp = c.interpolate()                 # interpolate the result\n",
    "    gr=c.plot_integrated(thickness=2)        # plot the geodesic\n",
    "    Gr=Gr+[gr]                               # add the plot to the list of plots\n",
    "    \n",
    "for y in range(-1,5):                        # 6 geodesics pointing facing *left*\n",
    "    v = M.tangent_space(p)((-1,y), name='v')        \n",
    "    c = M.integrated_geodesic(g,(t,0,2),v,name='c')   # comments as above\n",
    "    sol = c.solve()\n",
    "    interp = c.interpolate()\n",
    "    gr=c.plot_integrated(thickness=2) \n",
    "    Gr=Gr+[gr]\n",
    "                                             # vertical geodesic facing up                                \n",
    "v = M.tangent_space(p)((0,1), name='v')             \n",
    "c = M.integrated_geodesic(g,(t,0,2),v,name='c')      # comments as above\n",
    "sol = c.solve()\n",
    "interp = c.interpolate()\n",
    "gr=c.plot_integrated(thickness=3) \n",
    "Gr=Gr+[gr]\n",
    "                                             # vertical geodesic pointing down\n",
    "v = M.tangent_space(p)((0,-1), name='v')             \n",
    "c = M.integrated_geodesic(g,(t,0,2),v,name='c')      # comments as above\n",
    "sol = c.solve()\n",
    "interp = c.interpolate()\n",
    "gr=c.plot_integrated(thickness=2) \n",
    "Gr=Gr+[gr]\n",
    "\n",
    "sum(Gr).show(aspect_ratio=1)                 # combine all plots"
   ]
  },
  {
   "cell_type": "markdown",
   "metadata": {},
   "source": [
    "As we can see (one can suspect that) geodesics in Poincare half-plane are semicircles or vertical half-lines."
   ]
  },
  {
   "cell_type": "markdown",
   "metadata": {},
   "source": [
    "<br><br>\n",
    "**Example 22.8**\n",
    "\n",
    "Show (numerically) that one of the geodesics on the sphere $S^2$ is the \"equator\"."
   ]
  },
  {
   "cell_type": "code",
   "execution_count": null,
   "metadata": {},
   "outputs": [],
   "source": [
    "N = Manifold(2, 'N')         # manifold N=S^2\n",
    "c_sph.<theta,phi>=N.chart()  # spherical coordinates\n",
    "g=N.metric('g')              # metric on S^2\n",
    "g[0,0],g[1,1]=1,sin(theta)^2 # components of g\n",
    "p = N((pi/2,pi), name='p')   # initial point on S^2\n",
    "t = var('t')                 # symbolic variable for geodesic\n",
    "v = N.tangent_space(p)((0,1), name='v') # tang.vector at p\n",
    "                             # define geodesic\n",
    "c = N.integrated_geodesic(g, (t, 0, 2*pi), v, name='c')\n",
    "sol = c.solve()              # find the geodesic points\n",
    "interp = c.interpolate()     # interpolate the result"
   ]
  },
  {
   "cell_type": "markdown",
   "metadata": {},
   "source": [
    "The geodesic is computed, but to show a 3-dimensional picture\n",
    "we need the embedding $ \\psi: S^2\\to R^3$."
   ]
  },
  {
   "cell_type": "code",
   "execution_count": null,
   "metadata": {},
   "outputs": [],
   "source": [
    "M = Manifold(3, 'R^3')       # manifold M=R^3\n",
    "c_xyz.<x,y,z> = M.chart()    # Cartesian coordinates\n",
    "psi = N.diff_map(M, (sin(theta)*cos(phi), \n",
    "    sin(theta)*sin(phi),cos(theta)),\n",
    "    name='psi',latex_name=r'\\psi') # embedding s^2 -> R^3\n",
    "                             # plot the geodesic:\n",
    "p1=c.plot_integrated(c_xyz,mapping=psi,thickness=3,color='red',\n",
    "    plot_points=200, aspect_ratio=1,label_axes=False)\n",
    "p2=sphere(color='lightgrey',opacity=0.6)  # plot sphere\n",
    "(p1+p2).show(frame=False)    # combine plots"
   ]
  },
  {
   "cell_type": "markdown",
   "metadata": {},
   "source": [
    "## What's next?\n",
    "\n",
    "Take a look at the notebook [Curvature](https://nbviewer.org/github/sagemanifolds/IntroToManifolds/blob/main/23Manifold_Curvature.ipynb)."
   ]
  }
 ],
 "metadata": {
  "kernelspec": {
   "display_name": "SageMath 9.6",
   "language": "sage",
   "name": "sagemath"
  },
  "language_info": {
   "codemirror_mode": {
    "name": "ipython",
    "version": 3
   },
   "file_extension": ".py",
   "mimetype": "text/x-python",
   "name": "python",
   "nbconvert_exporter": "python",
   "pygments_lexer": "ipython3",
   "version": "3.8.10"
  }
 },
 "nbformat": 4,
 "nbformat_minor": 4
}
