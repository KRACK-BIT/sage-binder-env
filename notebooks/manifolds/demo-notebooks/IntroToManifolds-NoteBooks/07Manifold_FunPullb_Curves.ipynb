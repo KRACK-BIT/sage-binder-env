{
 "cells": [
  {
   "cell_type": "markdown",
   "metadata": {},
   "source": [
    "# 7. Smooth functions and pullbacks\n",
    "\n",
    "This notebook is part of the [Introduction to manifolds in SageMath](https://sagemanifolds.obspm.fr/intro_to_manifolds.html) by Andrzej Chrzeszczyk (Jan Kochanowski University of Kielce, Poland)."
   ]
  },
  {
   "cell_type": "code",
   "execution_count": null,
   "metadata": {},
   "outputs": [],
   "source": [
    "version()"
   ]
  },
  {
   "cell_type": "markdown",
   "metadata": {},
   "source": [
    "Recall that if $M$ is a smooth manifold, the set of all  smooth functions from $M$ to $R$ is denoted by $C^∞(M)$.\n",
    "This set is a **ring** with the operations given by<br>\n",
    "\\begin{equation}\n",
    "\\begin{matrix}\n",
    "( f + g)( p) = f ( p) + g( p),\\\\\n",
    "( f g)( p) = f ( p)g( p),\n",
    "\\end{matrix}\n",
    "\\label{}\\tag{7.1}\n",
    "\\end{equation}<br>\n",
    "for $f, g ∈ C^\\infty(M),\\ \\  a ∈ R$  and $p ∈ M.$\n",
    "\n",
    "One can also define an additional operation\n",
    "$$(a f )( p) = a f ( p),$$\n",
    "\n",
    "for $f∈ C^\\infty(M),\\ \\  a ∈ R$  and $p ∈ M.$\n"
   ]
  },
  {
   "cell_type": "markdown",
   "metadata": {},
   "source": [
    "If $ψ$ is a smooth map from $M$ to a smooth manifold $N$ and $f ∈\n",
    "C^∞ (N )$, the **pullback $ \\ \\ ψ ^* f\\ \\ $ of $f$ under** $\\ \\ ψ\\ \\ $ is defined by\n",
    "\n",
    "\\begin{equation}\n",
    "ψ^∗ f = f ◦ ψ.\n",
    "\\label{}\\tag{7.2}\n",
    "\\end{equation}\n",
    "\n",
    "If $\\phi\\ $ and $\\ \\chi\\ $ are charts on $M$ and $N$, respectively, then\n",
    "from  $\\ \\ (ψ^∗ f ) ◦ φ^{−1} = ( f ◦ χ^{−1} ) ◦ (χ ◦ ψ ◦ φ^{−1} )\\ \\ $ it follows that $ψ^∗ f ∈\n",
    "C^∞ (M).$  \n",
    "\n",
    "The operation $ψ^∗$ is applied to functions defined on $N$\n",
    "to produce functions defined on $M$, hence the name pullback for $ψ^∗$."
   ]
  },
  {
   "cell_type": "markdown",
   "metadata": {},
   "source": [
    "<br>\n",
    "\n",
    "**Example 7.1**\n",
    "\n",
    "If we denote by $\\psi$ the coordinate change defined by\n",
    "$x=r\\cos(\\phi),\\; y=r\\sin(\\phi)$  on the open set $U=\\{(r,\\phi): r>0, 0<\\phi <2\\pi \\},$ then for a scalar function $f$ of variables $x,y,$ the pullback\n",
    "$\\psi^*f$ is the function $(r,\\phi)\\to f(r\\cos(\\phi),r\\sin(\\phi))$, defined on $U$.\n"
   ]
  },
  {
   "cell_type": "code",
   "execution_count": null,
   "metadata": {},
   "outputs": [],
   "source": [
    "%display latex\n",
    "M = Manifold(2, 'R^2p')   # manifold R^2\n",
    "U = M.open_subset('U')    # open subset of R2, \n",
    "                          # polar coord. on U: \n",
    "c_rphi.<r,phi>=U.chart(r'r:(0,oo) phi:(0,2*pi):\\phi')\n",
    "N = Manifold(2, 'R^2c')   # second copy of R^2                         \n",
    "c_xy.<x,y> = N.chart()    # Cartesian coordinates:\n",
    "                          # psi: M --> N : polar to Cart.:\n",
    "psi = U.diff_map(N, (r*cos(phi), r*sin(phi)),name=r'\\psi')\n",
    "                          # f -scalar function on N \n",
    "f = N.scalar_field(function('f')(x,y), name='f') \n",
    "\n",
    "fplb=psi.pullback(f)      # psi^*f -scalar func. on M\n",
    "fplb.disp()               # show pullback"
   ]
  },
  {
   "cell_type": "markdown",
   "metadata": {},
   "source": [
    "<br>\n",
    "\n",
    "If $ψ$ is a smooth map  $M\\to N$ then\n",
    "\\begin{equation}\n",
    "ψ^∗ (a f + bg) = aψ^∗ f + bψ^∗ g,\n",
    "\\tag{7.3}\n",
    "\\end{equation}<br>\n",
    "for $f, g ∈ C^∞ (N )$ and $a, b ∈ R.$\n",
    "\n",
    "In fact\n",
    "$$ψ^∗ (a f + bg) ( p) = (a f + bg)(ψ( p)) = a f (ψ( p)) + bg(ψ( p))\\\\\n",
    "= a(ψ^∗ f )( p) + b(ψ^∗ g)( p) = (aψ^∗ f + bψ^∗ g)( p).\n",
    "$$\n",
    "\n",
    "If $ψ$ is a smooth map  $M\\to N$ then\n",
    "\\begin{equation}\n",
    "ψ^∗ ( f g) = (ψ^∗ f )(ψ^∗ g),\n",
    "\\tag{7.4}\n",
    "\\end{equation}<br>\n",
    "for $f, g ∈ C^∞ (N )$.\n",
    "\n",
    "\n",
    "The last relation follows from\n",
    "\n",
    "$$ψ^∗ ( f g) ( p) = ( f g)(ψ( p)) = f (ψ( p))g(ψ( p)) = (ψ^∗ f )( p)(ψ^∗ g)( p)\n",
    "= (ψ^∗ f )(ψ^∗ g) ( p).\n",
    "$$"
   ]
  },
  {
   "cell_type": "markdown",
   "metadata": {},
   "source": [
    "If $M_1,M_2,M_3$ are smooth manifolds and $ψ_1 : M_1 → M_2$ and $ψ_2 : M_2 → M_3$ are smooth\n",
    "maps, then \n",
    "\n",
    "\\begin{equation}\n",
    "(ψ_2 ◦ ψ_1 )^∗ = ψ_1^∗ ◦ ψ_2^∗ .\n",
    "\\tag{7.5}\n",
    "\\end{equation}\n",
    "\n",
    "This is consequence of"
   ]
  },
  {
   "cell_type": "markdown",
   "metadata": {},
   "source": [
    "$$(ψ_2 ◦ ψ_1 )^∗ f = f ◦ (ψ_2 ◦ ψ_1 ) = ( f ◦ ψ_2 ) ◦ ψ_1 = (ψ_2^∗ f ) ◦ ψ_1 = ψ_1^∗ (ψ_2^∗ f )= (ψ_1^∗ ◦ ψ_2^∗ ) f.\n",
    "$$"
   ]
  },
  {
   "cell_type": "markdown",
   "metadata": {},
   "source": [
    "\n",
    "<br>\n",
    "\n",
    "## Curves in a manifold\n",
    "\n",
    "<br> \n",
    "\n",
    "\n",
    "Let $M$ be a smooth manifold. A **smooth curve** $\\gamma$  in\n",
    "$M$, is a smooth mapping $\\gamma : I → M$ where $I\\subset R$ is an open interval.<br>\n",
    "Equivalently:\n",
    "$\\gamma : I → M$ is a smooth curve in $M$ if $I$ is an open interval of $R$ and\n",
    "$φ ◦ \\gamma: I\\to R^n$ is a smooth map   for every chart $(U, φ)$ of the atlas of $M$.\n",
    "\n",
    "In local coordinates $\\ \\ (x^1,\\ldots,x^n)\\ $ the curve is defined if we define $\\ n\\ $  real functions \n",
    "\n",
    "$$\\gamma^1(t)=x^1(\\gamma(t)),\\ldots, \\gamma^n(t)=x^n(\\gamma(t)),\\quad t\\in I. $$\n",
    "\n",
    "<br>\n",
    "\n",
    "**Example 7.2**\n",
    "\n",
    "Assume, that  in an open subset $U\\subset R^2$ we have a curve defined in polar coordinates: $\\ r=1,\\phi=t, \\ t\\in(0,2\\pi)$.<br>  Since in this example the transition maps are defined, the representation of the curve in Cartesian coordinates is determined by the system."
   ]
  },
  {
   "cell_type": "code",
   "execution_count": null,
   "metadata": {},
   "outputs": [],
   "source": [
    "M = Manifold(2, 'R^2', r'\\RR^2')  # the Euclidean plane R^2\n",
    "c_xy.<x,y> = M.chart()            # Cartesian coordinates on R^2\n",
    "U = M.open_subset('U', coord_def={c_xy: (y!=0, x<0)}) \n",
    "                   # the complement of the segment y=0 and x>0\n",
    "c_cart = c_xy.restrict(U)         # Cartesian coordinates on U\n",
    "                                  # spherical coordinates on U:\n",
    "c_spher.<r,ph> = U.chart(r'r:(0,+oo) ph:(0,2*pi):\\phi') \n",
    "                                  # transition spher. to Cartesian\n",
    "ch_cart_spher=c_cart.transition_map(c_spher, [sqrt(x*x+y*y),\n",
    "                                              atan2(y,x)])\n",
    "                                  # transition Cartesian to spher.\n",
    "ch_cart_spher.set_inverse(r*cos(ph), r*sin(ph))\n",
    "R.<t> = manifolds.RealLine()      # manifold R\n",
    "c = U.curve({c_spher: (1,t)}, (t, 0, 2*pi), name='c') # curve c\n",
    "print()\n",
    "print(\"Representations in polar and Cartesian coordinates:\")\n",
    "show(c.coord_expr(c_spher))       # curve c in spherical coord.\n",
    "show(c.coord_expr(c_cart))        # curve c in Cartesian coord.\n",
    "cp=c.plot(color='black',aspect_ratio=1)   # curve plot\n",
    "cp.show(figsize=[3,3])            # show plot"
   ]
  },
  {
   "cell_type": "markdown",
   "metadata": {},
   "source": [
    "<br>\n",
    "\n",
    "**Example 7.3**\n",
    "\n",
    "Consider the curve in $R^3$  defined in Cartesian coordinates by \n",
    "$\\ x=\\cos 3t,\\ y=\\sin 3t,\\ z=2t$:"
   ]
  },
  {
   "cell_type": "code",
   "execution_count": null,
   "metadata": {},
   "outputs": [],
   "source": [
    "J = manifolds.OpenInterval(0, 2*pi)      # open interval\n",
    "c.<t>=J.chart()                          # coordinate t on c\n",
    "R3 = Manifold(3, 'R^3')                  # manifold R^3\n",
    "X.<x,y,z> = R3.chart()                   # Cartesian coord. on R^3\n",
    "                                         # curve c in R^3:\n",
    "c = R3.curve({X:[cos(3*t),sin(3*t),2*t]},(t,-pi/2,+pi/2),name='c')\n",
    "                                         # plot c:\n",
    "p = c.plot(X,color='grey',thickness=4,plot_points=200,label_axes=False)\n",
    "p.show(aspect_ratio=[1,1,0.3])           # show plot"
   ]
  },
  {
   "cell_type": "markdown",
   "metadata": {},
   "source": [
    "<br>\n",
    "\n",
    "**Example 7.4**\n",
    "\n",
    "Define a  curve on the sphere  $S^2$, using spherical coordinates $\\ \\theta=t,\\ \\phi=\\cos 2t$:"
   ]
  },
  {
   "cell_type": "code",
   "execution_count": null,
   "metadata": {},
   "outputs": [],
   "source": [
    "%display latex\n",
    "S2=manifolds.Sphere(2)                 # sphere S^2\n",
    "Phi=S2.embedding()                     # embedding S^2-> E^3\n",
    "sph.<th,ph>=S2.spherical_coordinates() # spherical coord. on S^2\n",
    "E=S2.ambient()                         # Euclidean space E^3\n",
    "cart.<x,y,z> = E.cartesian_coordinates() # Cartesian coord. on E^3\n",
    "fun=Phi.expr()                         # functions defining Phi\n",
    "R.<t> = manifolds.RealLine()           # Real line as manifold\n",
    "c = S2.curve({sph: [t, cos(2*t)]}, (t, -oo, +oo),\n",
    "             name='c')                 # curve c\n",
    "                                       # plot c:\n",
    "p1=c.plot(chart=cart,mapping=Phi,thickness=3,color='black',\n",
    "          plot_points=200, aspect_ratio=1,label_axes=False)\n",
    "p2=parametric_plot3d(fun,(th,0,pi),(ph,0,2*pi),\n",
    "        color='lightgrey',opacity=0.7) # plot sphere\n",
    "(p1+p2).rotateZ(pi/2).show(frame=False,label_axes=False) # show plot"
   ]
  },
  {
   "cell_type": "markdown",
   "metadata": {},
   "source": [
    "<br>\n",
    "\n",
    "### Tangent vector to a smooth curve\n",
    "\n",
    "<br>\n",
    "\n",
    "If $\\gamma$ is a smooth curve in $M$ and $f ∈ C^∞ (M),$ then $\\gamma^∗ f = f ◦ \\gamma$ is a smooth function from an open interval $I ⊂ R$ into $R$. If $t_0 ∈ I$ , the\n",
    "**tangent vector to  $\\gamma$ at the point $\\gamma(t_0 )$**, denoted by $\\gamma'_{t_0}$ , is the map $C^\\infty(M)\\to R$ defined by\n",
    "\\begin{equation}\n",
    "\\gamma'_{t_0}(f) =\\frac{d}{dt}(\\gamma^*f)\\Big|_{t_0}=\n",
    "\\frac{d}{dt}(f\\circ\\gamma)\\Big|_{t_0},\\quad f\\in C^\\infty(M).\n",
    "\\label{}\\tag{7.6}\n",
    "\\end{equation}\n",
    "\n"
   ]
  },
  {
   "cell_type": "markdown",
   "metadata": {},
   "source": [
    "Using (7.3), (7.4) we can check that $\\gamma'_{t_0}:C^∞ (M)\\to R$ has the properties\n",
    "$$\\gamma'_{t_0}(af+bg)=\\frac{d}{dt}(\\gamma^*(af+bg))\\Big|_{t_0}=\\frac{d}{dt}(a\\gamma^*(f)+b\\gamma^*(g))\\Big|_{t_0}\\\\\n",
    "=a\\frac{d}{dt}(\\gamma^*f)\\Big|_{t_0}+\n",
    "b\\frac{d}{dt}(\\gamma^*g)\\Big|_{t_0}=\n",
    "a\\gamma'_{t_0}(f)+b\\gamma'_{t_0}(f),\n",
    "$$\n",
    "and\n",
    "$$\\gamma'_{t_0}(fg)=\\frac{d}{dt}(\\gamma^*(fg))\\Big|_{t_0}=\\frac{d}{dt}(\\gamma^*(f)\\gamma^*(g))\\Big|_{t_0}\\\\\n",
    "=f (\\gamma(t_0 ))\\frac{d}{dt}(\\gamma^*(g))\\Big|_{t_0}\n",
    "+g (\\gamma(t_0 ))\\frac{d}{dt}(\\gamma^*(f))\\Big|_{t_0}\\\\\n",
    "=f (\\gamma(t_0 ))\\gamma'_{t_0}(g)+\n",
    " g (\\gamma(t_0 ))\\gamma'_{t_0}(f),\n",
    "$$<br>\n",
    "for $f, g ∈ C^∞ (M)$ and $a,b\\in R$."
   ]
  },
  {
   "cell_type": "markdown",
   "metadata": {},
   "source": [
    "## What's next?\n",
    "\n",
    "Take a look at the notebook [Tangent spaces](https://nbviewer.org/github/sagemanifolds/IntroToManifolds/blob/main/08Manifold_Tangent_Vect.ipynb)."
   ]
  }
 ],
 "metadata": {
  "kernelspec": {
   "display_name": "SageMath 9.6",
   "language": "sage",
   "name": "sagemath"
  },
  "language_info": {
   "codemirror_mode": {
    "name": "ipython",
    "version": 3
   },
   "file_extension": ".py",
   "mimetype": "text/x-python",
   "name": "python",
   "nbconvert_exporter": "python",
   "pygments_lexer": "ipython3",
   "version": "3.8.10"
  }
 },
 "nbformat": 4,
 "nbformat_minor": 4
}
