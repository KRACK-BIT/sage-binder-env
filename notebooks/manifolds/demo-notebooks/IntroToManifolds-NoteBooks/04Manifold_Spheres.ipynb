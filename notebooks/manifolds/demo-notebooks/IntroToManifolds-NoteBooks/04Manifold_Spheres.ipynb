{
 "cells": [
  {
   "cell_type": "markdown",
   "metadata": {},
   "source": [
    "# 4. Spheres as manifolds\n",
    "\n",
    "This notebook is part of the [Introduction to manifolds in SageMath](https://sagemanifolds.obspm.fr/intro_to_manifolds.html) by Andrzej Chrzeszczyk (Jan Kochanowski University of Kielce, Poland)."
   ]
  },
  {
   "cell_type": "code",
   "execution_count": null,
   "metadata": {},
   "outputs": [],
   "source": [
    "version()"
   ]
  },
  {
   "cell_type": "markdown",
   "metadata": {},
   "source": [
    "## One dimensional sphere $\\mathbf{S}^1$"
   ]
  },
  {
   "cell_type": "markdown",
   "metadata": {},
   "source": [
    "<br>\n",
    "\n",
    "**Example 4.1**\n",
    "\n",
    "In `manifolds.Sphere` in the one-dimensional  case \n",
    "$\\ \\  S^1=\\{(x,y)\\in R^2: x^2+y^2=1\\}\\ \\ $ the default coordinates are the spherical (polar) ones."
   ]
  },
  {
   "cell_type": "code",
   "execution_count": null,
   "metadata": {},
   "outputs": [],
   "source": [
    "%display latex\n",
    "S1=manifolds.Sphere(1)                      # 1-dimensional sphere\n",
    "Phi=S1.embedding()                          # embedding S^1 -> E^2\n",
    "Phi.disp()                                  # show embedding"
   ]
  },
  {
   "cell_type": "markdown",
   "metadata": {},
   "source": [
    "The spherical coordinates are predefined in `manifolds.Sphere` but we want to have a shorter name."
   ]
  },
  {
   "cell_type": "code",
   "execution_count": null,
   "metadata": {},
   "outputs": [],
   "source": [
    "sph.<phi>=S1.spherical_coordinates()       # spherical coordinates\n",
    "sph.coord_range()                          # coordinate range"
   ]
  },
  {
   "cell_type": "markdown",
   "metadata": {},
   "source": [
    "On $\\ [-\\pi,\\pi]\\ $ the map $\\varphi \\to (\\cos\\varphi, \\sin\\varphi) $ is not one-to one, so not homeomorphic."
   ]
  },
  {
   "cell_type": "markdown",
   "metadata": {},
   "source": [
    "To represent  graphically  the sphere $S^1$ we need the ambient space $R^2$ and the mapping\n",
    "$S^1 \\to R^2$."
   ]
  },
  {
   "cell_type": "code",
   "execution_count": null,
   "metadata": {},
   "outputs": [],
   "source": [
    "E=S1.ambient()                            # ambient space E^2\n",
    "c_cart.<x,y> = E.cartesian_coordinates()  # Cartesian coord in R^2\n",
    "p=sph.plot(c_cart,mapping=Phi,number_values=15,\n",
    "    thickness=1,color='grey')             # plot S^1\n",
    "p.show(figsize=[3,2])                     # show plot"
   ]
  },
  {
   "cell_type": "markdown",
   "metadata": {},
   "source": [
    "Restricting the coordinate to an open interval contained in $[-\\pi,\\pi]$ we obtain a homeomorphic map (but the image is a proper subset of the sphere)."
   ]
  },
  {
   "cell_type": "code",
   "execution_count": null,
   "metadata": {},
   "outputs": [],
   "source": [
    "p=sph.plot(c_cart,mapping=Phi,ranges={phi:(-pi,pi/4)},\n",
    "  number_values={phi:50},color={phi:'grey'})  # plot subset of S^1\n",
    "p.show(figsize=[3,2])                         # show plot"
   ]
  },
  {
   "cell_type": "markdown",
   "metadata": {},
   "source": [
    "<br>\n",
    "\n",
    "**Example 4.2**\n",
    "\n",
    "$S^1$ can be defined as a manifold with **two-element atlas**. Note that in this new example we do not use the `manifolds.Sphere` command!"
   ]
  },
  {
   "cell_type": "code",
   "execution_count": null,
   "metadata": {},
   "outputs": [],
   "source": [
    "# example from the Manifolds manual, sect 2.7.1 (p.546 in 9.5 version)\n",
    "M = Manifold(1, 'S^1')          # manifold S^1\n",
    "U = M.open_subset('U')          # the complement of one point (1,0)\n",
    "c_u.<u> = U.chart('u:(0,2*pi)') # the standard angle coordinate\n",
    "V = M.open_subset('V')          # the complement of the point (-1,0)\n",
    "c_v.<v> = V.chart('v:(0,2*pi)') # the angle u-pi\n",
    "M.declare_union(U,V)            # S^1 is the union of U and V\n",
    "M.atlas()                       # atlas"
   ]
  },
  {
   "cell_type": "markdown",
   "metadata": {},
   "source": [
    "On the intersection of $W=U\\cap V$ two \"new\" charts are defined, they are just restrictions of the \"old\" maps to $W$."
   ]
  },
  {
   "cell_type": "code",
   "execution_count": null,
   "metadata": {},
   "outputs": [],
   "source": [
    "u_to_v = c_u.transition_map(c_v, (u-pi,), # transition map u->v\n",
    "    intersection_name='W',\n",
    "    restrictions1 = u!=0, \n",
    "    restrictions2 = v!=pi)\n",
    "v_to_u = u_to_v.inverse()                 # inverse transition\n",
    "M.atlas()                                 # atlas"
   ]
  },
  {
   "cell_type": "markdown",
   "metadata": {},
   "source": [
    "If we need to use $W=U\\cap V$ in calculations we can define it:"
   ]
  },
  {
   "cell_type": "code",
   "execution_count": null,
   "metadata": {},
   "outputs": [],
   "source": [
    "W = U.intersection(V)                    # intersection of\n",
    "print(W)                                 # chart domains"
   ]
  },
  {
   "cell_type": "markdown",
   "metadata": {},
   "source": [
    "To make the plot in $R^2$ we need to define an ambient space and the embedding."
   ]
  },
  {
   "cell_type": "code",
   "execution_count": null,
   "metadata": {},
   "outputs": [],
   "source": [
    "R2 = Manifold(2, 'R^2')                 # manifold R^2\n",
    "X.<x,y> = R2.chart()                    # Cartesian coordinates\n",
    "# the embedding is not predefined this time, so it must be\n",
    "                                        # defined:\n",
    "F = M.continuous_map(R2, {(c_u, X): [cos(u),sin(u)]}, name='F')\n",
    "p=c_u.plot(X,mapping=F,color='grey')    # plot image of S^1\n",
    "p.show(figsize=(3,2))                   # show plot"
   ]
  },
  {
   "cell_type": "markdown",
   "metadata": {},
   "source": [
    "<br>\n",
    "\n",
    "### Stereographic coordinates on $\\mathbf{S}^1$\n",
    "\n",
    "<br>\n",
    "\n",
    "**Example 4.3**\n",
    "\n",
    "In `manifold.Sphere` not only the Cartesian and polar  but also the stereographic coordinates are predefined."
   ]
  },
  {
   "cell_type": "code",
   "execution_count": null,
   "metadata": {},
   "outputs": [],
   "source": [
    "S1=manifolds.Sphere(1)         # stereographic projection from the\n",
    "S1.stereographic_coordinates(pole='north',names='u')  # North pole"
   ]
  },
  {
   "cell_type": "code",
   "execution_count": null,
   "metadata": {},
   "outputs": [],
   "source": [
    "                               # stereographic projection from the\n",
    "S1.stereographic_coordinates(pole='south',names='u')  # South pole"
   ]
  },
  {
   "cell_type": "markdown",
   "metadata": {},
   "source": [
    "<br>\n",
    "\n",
    "### Stereographic projection of $S^1$ from the North pole $N = (0, 1)$"
   ]
  },
  {
   "cell_type": "code",
   "execution_count": null,
   "metadata": {},
   "outputs": [],
   "source": [
    "var('t')                                        # symb. variable\n",
    "p1=parametric_plot((cos(t),sin(t)),(t,0,2*pi),color='grey')  \n",
    "                                                # plot the circle\n",
    "p2=plot(1-x/2,(x,0,2))          # half line through (0,1) and (x,y)\n",
    "p3= text(\"(x,y)\",(0.88,0.72))                   # point (x,y)\n",
    "p4= text(\"(u,0)\",(2.0,0.15))                    # point (u,0)\n",
    "(p1+p2+p3+p4).show(figsize=[3,2])               # combine plots"
   ]
  },
  {
   "cell_type": "markdown",
   "metadata": {},
   "source": [
    "Consider the line which passes through the North pole $(0, 1)$, the point $(x, y)$ on the circle and intersects\n",
    "the axis Ox at the point $(u, 0)$. The function $u = u(x, y)$ defines the\n",
    "stereographic projection. Three points: North pole, the\n",
    "point $(x, y)$ on the circle and the point $(u, 0)$ are on the same line.\n",
    "Since the right triangle with the hypotenuse joining (0,1), (x,y) and the right triangle with the hypotenuse joining (0,1),(u,0) are similar, we have $\\frac{u}{x}=\\frac{1}{1-y}$ and consequently $u=\\frac{x}{1-y}$.\n",
    "Solving the system of equations\n",
    "$$ x^2+y^2=1,\\quad u=\\frac{x}{1-y},$$ with respect to $(x,y)$: "
   ]
  },
  {
   "cell_type": "code",
   "execution_count": null,
   "metadata": {},
   "outputs": [],
   "source": [
    "%display latex\n",
    "forget()                               # forget previous assumptions\n",
    "var('x, y, u')                               # symbolic variables\n",
    "assume(y>0)                                  # assume y>0\n",
    "s=solve([x^2+y^2==1,u==x/(1-y)],[x,y]);s     # solve eq. above"
   ]
  },
  {
   "cell_type": "markdown",
   "metadata": {},
   "source": [
    "we obtain the relations\n",
    "$$ x=\\frac{2u}{u^2+1},\\quad y=\\frac{u^2-1}{u^2+1}, \\quad u=\\frac{x}{1-y}.$$"
   ]
  },
  {
   "cell_type": "markdown",
   "metadata": {},
   "source": [
    "<br>\n",
    "\n",
    "Now consider the South pole case.\n",
    "\n",
    "###  Stereographic projection of $S^1$ from the South pole $S = (0, -1)$"
   ]
  },
  {
   "cell_type": "code",
   "execution_count": null,
   "metadata": {},
   "outputs": [],
   "source": [
    "var('t')                                       # symbolic variable\n",
    "p1=parametric_plot((cos(t),sin(t)),(t,0,2*pi),color='grey') \n",
    "                                               # plot the circle\n",
    "p2=plot(x/2-1,(x,0,2))          # halfline through (0,-1) and (x,y)\n",
    "p3= text(\"(x,y)\",(0.88,-0.72))                 # point (x,y)\n",
    "p4= text(\"(u',0)\",(2.0,0.15))                  # point (u',0)\n",
    "(p1+p2+p3+p4).show(figsize=[3,2])              # combine plots"
   ]
  },
  {
   "cell_type": "markdown",
   "metadata": {},
   "source": [
    "\n",
    "Since the right triangle with the hypotenuse joining (0,-1), (x,y) and the right triangle with the hypotenuse joining (0,-1),(u',0) are similar we have $\\frac{u'}{x}=\\frac{1}{1-(-y)}$ ($y$ is negative now) and consequently $u'=\\frac{x}{1+y}$.\n",
    "Solving the system of equations\n",
    "$$ x^2+y^2=1,\\quad u'=\\frac{x}{1+y},$$ with respect to $(x,y)$: "
   ]
  },
  {
   "cell_type": "code",
   "execution_count": null,
   "metadata": {},
   "outputs": [],
   "source": [
    "forget()                               # forget previous assumptions\n",
    "var('x, y, up')                               # symbolic variables\n",
    "assume(y<0)                                   # assume y<0\n",
    "s=solve([x^2+y^2==1,up==x/(1+y)],[x,y]);s     # solve eq. above"
   ]
  },
  {
   "cell_type": "markdown",
   "metadata": {},
   "source": [
    "we obtain the relations\n",
    "$$ x=\\frac{2u'}{u'^2+1},\\quad y=\\frac{1-u'^2}{u'^2+1}, \\quad u'=\\frac{x}{1+y}.$$"
   ]
  },
  {
   "cell_type": "markdown",
   "metadata": {},
   "source": [
    "<br>\n",
    "\n",
    "**Example 4.4**\n",
    "\n",
    "As we mentioned, both the stereographic projections from North and South poles are predefined in `manifolds.Sphere`."
   ]
  },
  {
   "cell_type": "code",
   "execution_count": null,
   "metadata": {},
   "outputs": [],
   "source": [
    "reset()\n",
    "S1=manifolds.Sphere(1)                    # S^1 from manifolds.Sphere\n",
    "                     # stereographic projection from the North pole:\n",
    "stereoN.<u> = S1.stereographic_coordinates(pole='north')\n",
    "                     # stereographic projection from the South pole:\n",
    "stereoS.<up> = S1.stereographic_coordinates(pole='south')\n",
    "\n",
    "Phi=S1.embedding()                        # embedding S^1 -> E^2\n",
    "Phi.disp()                                # show embedding"
   ]
  },
  {
   "cell_type": "markdown",
   "metadata": {},
   "source": [
    "<br>\n",
    "\n",
    "**Example 4.5**\n",
    "\n",
    "To show graphically how the projection from the North pole acts, let us extract \n",
    "an appropriate part of the definition from the previous cell."
   ]
  },
  {
   "cell_type": "code",
   "execution_count": null,
   "metadata": {},
   "outputs": [],
   "source": [
    "# continuation\n",
    "E=S1.ambient()                                    # ambient space E^2\n",
    "c_cart.<x,y> = E.cartesian_coordinates()          # Cartesian coord.\n",
    "fun=list(Phi.coord_functions(stereoN).expr())     # embedd. functions\n",
    "PhiN = S1.continuous_map(E,{(stereoN, c_cart): fun},\n",
    "        name='PhiN',latex_name=r'\\Phi_N')         # define embedding\n",
    "PhiN.display()                                    # show embedding"
   ]
  },
  {
   "cell_type": "markdown",
   "metadata": {},
   "source": [
    "Let us plot the set of points $(x,y)$ corresponding to   $u\\in (-10,10)$."
   ]
  },
  {
   "cell_type": "code",
   "execution_count": null,
   "metadata": {},
   "outputs": [],
   "source": [
    "p=stereoN.plot(c_cart,mapping=PhiN,ranges={u:(-10,10)},\n",
    "  number_values={u:50},color={u:'grey'},\n",
    "  plot_points=500)                  # image of (-10,10) under PhiN\n",
    "p.show(figsize=[3,2])               # show the image"
   ]
  },
  {
   "cell_type": "markdown",
   "metadata": {},
   "source": [
    "Thus the points of the grey arc in the figure are projected onto the interval (-10,10)."
   ]
  },
  {
   "cell_type": "markdown",
   "metadata": {},
   "source": [
    "<br>\n",
    "\n",
    "**Example 4.6**\n",
    "\n",
    "Now let us extract the definition of the projection from the South pole,"
   ]
  },
  {
   "cell_type": "code",
   "execution_count": null,
   "metadata": {},
   "outputs": [],
   "source": [
    "# continuation\n",
    "fun=list(Phi.coord_functions(stereoS).expr())    # embedd. functions\n",
    "PhiS = S1.continuous_map(E,{(stereoS, c_cart): fun},\n",
    "    name='PhiS',latex_name=r'\\Phi_S')            # define embedding\n",
    "PhiS.display()                                   # show embedding"
   ]
  },
  {
   "cell_type": "markdown",
   "metadata": {},
   "source": [
    "and check which points of the circle are projected onto (-10,10):"
   ]
  },
  {
   "cell_type": "code",
   "execution_count": null,
   "metadata": {},
   "outputs": [],
   "source": [
    "# continuation\n",
    "p=stereoS.plot(c_cart,mapping=PhiS,ranges={up:(-10,10)},\n",
    "  number_values={up:50},color={up:'grey'},   # plot image of (-10,10)\n",
    "  plot_points=500)\n",
    "p.show(figsize=[3,2])                        # show image"
   ]
  },
  {
   "cell_type": "markdown",
   "metadata": {},
   "source": [
    "<br>\n",
    "\n",
    "\n",
    "### Transition map from u coordinate to u' coordinate"
   ]
  },
  {
   "cell_type": "markdown",
   "metadata": {},
   "source": [
    "Using the relations  $\\ u=\\frac{x}{1-y},\\ \\ u'=\\frac{x}{1+y}$ and $y=\\frac{u^2-1}{u^2+1},\\ $ we obtain\n",
    "$u'=\\frac{x}{1+y}=\\frac{u(1-y)}{1+y}=\\frac{1-y}{1+y}u.\\ \\ $ Replacing $y$ by $\\frac{u^2-1}{u^2+1}\\ \\ $ we get $\\ \\frac{1-y}{1+y}=\\frac{1-\\frac{u^2-1}{u^2+1}}{1+\\frac{u^2-1}{u^2+1}}=\n",
    "\\frac{u^2+1-u^2+1}{u^2+1+u^2-1}=\\frac{2}{2u^2}=\\frac{1}{u^2}.\\ $ Accordingly $u'=\\frac{1-y}{1+y}u=\\frac{1}{u},\\ $ so the transition map from $u$ coordinate to $u'$ coordinate has the form $\\ u'=\\frac{1}{u}.\\ $ It is smooth if $\\ u\\not=0, u'\\not=0.$"
   ]
  },
  {
   "cell_type": "markdown",
   "metadata": {},
   "source": [
    "Here is SageMath solution (eliminate x,y variables from  equations of  the first line in the previous computations):"
   ]
  },
  {
   "cell_type": "code",
   "execution_count": null,
   "metadata": {},
   "outputs": [],
   "source": [
    "%display latex\n",
    "var('x,y,u,up')\n",
    "maxima.eliminate([u==x/(1-y),up==x/(1+y),   # eliminate var. x,y\n",
    "    y==(u^2-1)/(u^2+1)],[x,y]).sage()   # from eqs of projections"
   ]
  },
  {
   "cell_type": "markdown",
   "metadata": {},
   "source": [
    "The answer means that the bracket vanishes.\n",
    "Since $u\\not=0$, the expression in the bracket vanishes if $\\ \\ u'=\\frac{1}{u}$."
   ]
  },
  {
   "cell_type": "markdown",
   "metadata": {},
   "source": [
    "<br>\n",
    "\n",
    "**Example 4.7**\n",
    "\n",
    "In `SageMath Manifolds` the transition from one coordinate system to the other can be defined as follows:"
   ]
  },
  {
   "cell_type": "code",
   "execution_count": null,
   "metadata": {},
   "outputs": [],
   "source": [
    "S1=manifolds.Sphere(1)                    # S^1 from manifolds.Sphere\n",
    "                     # stereographic projection from the North pole:\n",
    "stereoN.<u> = S1.stereographic_coordinates(pole='north')\n",
    "                     # stereographic projection from the South pole:\n",
    "stereoS.<up> = S1.stereographic_coordinates(pole='south')\n",
    "\n",
    "\n",
    "trans = stereoN.transition_map(stereoS, 1/u, # define transition\n",
    "                intersection_name='W',       # stereoN -> StereoS\n",
    "                restrictions1= u!=0,         # specify\n",
    "                restrictions2 = up!=0)       # restrictions\n",
    "trans.display()                              # show transition"
   ]
  },
  {
   "cell_type": "markdown",
   "metadata": {},
   "source": [
    "In some cases, the definition of the inverse transition can be left to the `SageMath Manifolds`."
   ]
  },
  {
   "cell_type": "code",
   "execution_count": null,
   "metadata": {},
   "outputs": [],
   "source": [
    "trans.inverse().display()"
   ]
  },
  {
   "cell_type": "markdown",
   "metadata": {},
   "source": [
    "As we can see the transition map and its inverse are smooth."
   ]
  },
  {
   "cell_type": "markdown",
   "metadata": {},
   "source": [
    "Some transition maps are predefined in `manifolds.Sphere`.<br>\n",
    "\n",
    "<br>\n",
    "\n",
    "**Example 4.8**\n",
    "\n",
    "Let us check that the transitions from the previous example are predefined in `manifolds.Sphere`."
   ]
  },
  {
   "cell_type": "code",
   "execution_count": null,
   "metadata": {},
   "outputs": [],
   "source": [
    "dim=1                                         # dim of the sphere\n",
    "Sph=manifolds.Sphere(dim)                     # sphere S^1 \n",
    "spher = Sph.spherical_coordinates()           # spherical coord.\n",
    "stereoN, stereoS = Sph.coordinate_charts('stereographic',\n",
    "                     names=['u'])             # sterogr. projections\n",
    "A=stereoN.domain()                            # domain of stereoN\n",
    "                 # intersection of domains of stereoN and stereo S:\n",
    "W = Sph._stereoN_dom.intersection(Sph._stereoS_dom)\n",
    "                              # transition from stereoN to stereoS:\n",
    "FNS=Sph.coord_change(stereoN.restrict(W),stereoS.restrict(W))\n",
    "                              # transition from stereoS to stereoN:\n",
    "FSN=Sph.coord_change(stereoS.restrict(W),stereoN.restrict(W))\n",
    "FNS.disp(),FSN.disp()                        # show transitions"
   ]
  },
  {
   "cell_type": "markdown",
   "metadata": {},
   "source": [
    "We can check that both transitions can be obtained as compositions of other transitions."
   ]
  },
  {
   "cell_type": "code",
   "execution_count": null,
   "metadata": {},
   "outputs": [],
   "source": [
    "# continuation\n",
    "A = spher.domain()                         # domain of spher.coord\n",
    "                 # intersection of domains of stereoN and stereo S:\n",
    "W = Sph._stereoN_dom.intersection(Sph._stereoS_dom)\n",
    "V=W.intersection(A)                  # intersection of domains of \n",
    "                                     # stereoN, stereoS and spher                                   \n",
    "F1=Sph.coord_change(spher.restrict(V), \n",
    "        stereoN.restrict(V))         # transition spher -> stereoN\n",
    "\n",
    "F2=Sph.coord_change( stereoN.restrict(V),\n",
    "        spher.restrict(V))           # transition stereoN -> spher\n",
    "\n",
    "F3=Sph.coord_change(spher.restrict(V), stereoS.restrict(V))\n",
    "                                     # transition spher -> stereoS\n",
    "F4=Sph.coord_change( stereoS.restrict(V),spher.restrict(V))\n",
    "                                     # transition stereoS -> spher\n",
    "(F1*F4).disp(),(F3*F2).disp()        # show compositions"
   ]
  },
  {
   "cell_type": "markdown",
   "metadata": {},
   "source": [
    "<br>\n",
    "\n",
    "**Example 4.9**\n",
    "\n",
    "Knowing the transition maps  we are ready to define  $S^1$ as a manifold with two maps. \n",
    "\n",
    "Note that this time, our calculations are independent of `manifolds.Sphere`. "
   ]
  },
  {
   "cell_type": "code",
   "execution_count": null,
   "metadata": {},
   "outputs": [],
   "source": [
    "M = Manifold(1, 'S^1')         # sphere S^1 \n",
    "U = M.open_subset('U')         # complement of the North pole\n",
    "cU.<u> = U.chart()             # sterogr. proj. from North pole\n",
    "V = M.open_subset('V')         # complement of the South pole\n",
    "cV.<v> = V.chart()             # sterogr. proj. from South pole\n",
    "M.declare_union(U,V)           # M is  the sum of U and V\n",
    "trans = cU.transition_map(cV, 1/u, intersection_name='W',\n",
    "        restrictions1= u!=0,   # transition  cU -> cV\n",
    "        restrictions2 = v!=0)\n",
    "trans_inv=trans.inverse()      # inverse transition\n",
    "trans.disp(),trans_inv.disp()  # show transitions"
   ]
  },
  {
   "cell_type": "markdown",
   "metadata": {},
   "source": [
    "\n",
    "<br>\n",
    "\n",
    "## Two dimensional sphere $S^2$"
   ]
  },
  {
   "cell_type": "markdown",
   "metadata": {},
   "source": [
    "### Spherical coordinates in $\\mathbf{S}^2$"
   ]
  },
  {
   "cell_type": "markdown",
   "metadata": {},
   "source": [
    "In `manifolds.Sphere` in  two-dimensional case \n",
    "$\\ \\ S^2=\\{(x,y,z)\\in R^3: x^2+y^2+z^2=1\\}\\ \\ $ the default coordinates are the spherical ones."
   ]
  },
  {
   "cell_type": "code",
   "execution_count": null,
   "metadata": {},
   "outputs": [],
   "source": [
    "var('u v t')                                   # symb.var.\n",
    "\n",
    "po1={'thickness':5,'color':'darkblue'}         # parameters\n",
    "po2={'fontsize':20,'color':'black'}\n",
    "po3={'size':7,'color':'black'}\n",
    "\n",
    "ax =line3d([(0,0,0), (1+0.15,0,0)], **po1)     # axes\n",
    "ax+=line3d([(0,0,0), (0,1+0.15,0)], **po1)\n",
    "ax+=line3d([(0,0,0), (0,0,1+0.15)], **po1)\n",
    "ax+=text3d(\"x\",(1.25,0,0),**po2)\n",
    "ax+=text3d(\"y\",(0,1.25,0),**po2)\n",
    "ax+=text3d(\"z\",(0.,0.,1.25),**po2)"
   ]
  },
  {
   "cell_type": "code",
   "execution_count": null,
   "metadata": {},
   "outputs": [],
   "source": [
    "                                              # semisphere:\n",
    "s=parametric_plot3d((cos(u)*cos(v), sin(u)*cos(v), sin(v)),\n",
    "(u,0,2*pi), (v,0,pi/2),opacity=0.9,color='lightgrey')\n",
    "\n",
    "a=0.59                                        # triangle\n",
    "tr=line3d([(0,0,0),(a,a,0),(a,a,a),(0,0,0)],**po1)\n",
    "\n",
    "dots=point3d([(0.5*cos(t),0.5*sin(t),0)       # dots\n",
    "  for t in srange(0,pi/4,0.1)], **po3)\n",
    "dots+=point3d([(0.5*cos(t),0.5*cos(t),0.5*sin(t))\n",
    "  for t in srange(pi/4,pi/2,0.1)],**po3)\n",
    "                                               \n",
    "t=text3d(\"(x,y,z)\",(0.6,0.8,0.7),**po2)       # variables\n",
    "t+=text3d(\"φ\",(0.7,0.3,0.0),**po2)            # names\n",
    "t+=text3d(\"θ\",(0.,0.2,0.5),**po2)\n",
    "                                              # combine plots:\n",
    "(ax+s+tr+dots+t).rotateZ(-pi/8).show(frame=False)"
   ]
  },
  {
   "cell_type": "markdown",
   "metadata": {},
   "source": [
    "**Example 4.10**\n",
    "\n",
    "Let us show how to use the spherical coordinates in $\\ S^2$."
   ]
  },
  {
   "cell_type": "code",
   "execution_count": null,
   "metadata": {},
   "outputs": [],
   "source": [
    "%display latex\n",
    "S2=manifolds.Sphere(2)  # two-dimensional sphere\n",
    "Phi=S2.embedding()      # embedding into E^3\n",
    "Phi.disp()              # show embedding"
   ]
  },
  {
   "cell_type": "code",
   "execution_count": null,
   "metadata": {},
   "outputs": [],
   "source": [
    "S2.default_chart()      # default chart"
   ]
  },
  {
   "cell_type": "markdown",
   "metadata": {},
   "source": [
    "Let us check the ranges of variables $\\theta, \\phi$."
   ]
  },
  {
   "cell_type": "code",
   "execution_count": null,
   "metadata": {},
   "outputs": [],
   "source": [
    "sph.<th,ph>=S2.spherical_coordinates()  # spherical coordinates\n",
    "print(sph.codomain())"
   ]
  },
  {
   "cell_type": "markdown",
   "metadata": {},
   "source": [
    "Let us note that that the spherical coordinates in `manifolds.Sphere` are defined on an open subset of the sphere, they do not cover the whole sphere. To cover the entire sphere with charts, we will use the stereographic coordinates instead."
   ]
  },
  {
   "cell_type": "code",
   "execution_count": null,
   "metadata": {},
   "outputs": [],
   "source": [
    "A=sph.domain()      # domain of definition of spher. coordinates\n",
    "print(A)"
   ]
  },
  {
   "cell_type": "markdown",
   "metadata": {},
   "source": [
    "Check the Jacobian of the embedding into $E^3$,"
   ]
  },
  {
   "cell_type": "code",
   "execution_count": null,
   "metadata": {},
   "outputs": [],
   "source": [
    "Phi.jacobian_matrix()           # Jacobian matrix of embedding"
   ]
  },
  {
   "cell_type": "markdown",
   "metadata": {},
   "source": [
    "and the 2x2 minors of this matrix."
   ]
  },
  {
   "cell_type": "code",
   "execution_count": null,
   "metadata": {},
   "outputs": [],
   "source": [
    "Phi.jacobian_matrix().minors(2)     # minors of Jacobian"
   ]
  },
  {
   "cell_type": "markdown",
   "metadata": {},
   "source": [
    "The sum of squares of 2x2 minors allows us to check the rank of the Jacobian matrix."
   ]
  },
  {
   "cell_type": "code",
   "execution_count": null,
   "metadata": {},
   "outputs": [],
   "source": [
    "ll=[Phi.jacobian_matrix().minors(2)[k].full_simplify() \n",
    "    for k in range(3)]             # list of minors of Jacobian\n",
    "sum([ll[k]^2 for k in range(3)]).full_simplify()\n",
    "                                   # sum of squares of minors"
   ]
  },
  {
   "cell_type": "markdown",
   "metadata": {},
   "source": [
    "so the rank is 2 if $\\theta\\in (0,\\pi)$.\n",
    "\n",
    "<br>\n",
    "\n",
    "If we are not interested in all details, we can check the rank of Jacobian using the command:"
   ]
  },
  {
   "cell_type": "code",
   "execution_count": null,
   "metadata": {},
   "outputs": [],
   "source": [
    "Phi.jacobian_matrix().rank()"
   ]
  },
  {
   "cell_type": "markdown",
   "metadata": {},
   "source": [
    "As we can see  spherical coordinates define  transformation with Jacobian of rank 2 on the subset A of the sphere  defined by $(\\theta,\\varphi)\\in (0,\\pi)\\times [-\\pi,\\pi)$.\n",
    "\n",
    "<br>\n",
    "\n",
    "**Example 4.11**\n",
    "\n",
    "Let us plot the coordinate lines of the spherical coordinates."
   ]
  },
  {
   "cell_type": "code",
   "execution_count": null,
   "metadata": {},
   "outputs": [],
   "source": [
    "%display latex\n",
    "S2=manifolds.Sphere(2)                    # two-dimensional sphere\n",
    "sph.<th,ph>=S2.spherical_coordinates()    # spherical coordinates\n",
    "Phi=S2.embedding()                        # embedding into E^3\n",
    "E=S2.ambient()                            # ambient space E^3\n",
    "c_cart.<x,y,z> = E.cartesian_coordinates()  # Cartesian coordinates\n",
    "p=sph.plot(c_cart,mapping=Phi,number_values=15,\n",
    "    thickness=2,color='grey',             # plot coordinate lines\n",
    "    label_axes=False,frame=False)\n",
    "p.show(frame=False)                       # show plot"
   ]
  },
  {
   "cell_type": "markdown",
   "metadata": {},
   "source": [
    "<br>\n",
    "\n",
    "**Example 4.12**\n",
    "\n",
    "We can restrict the ranges of parameters (for example to $\\ \\theta\\in (0,\\pi/2),\\ \\ \\phi \\in (0,\\pi/4)$ ):"
   ]
  },
  {
   "cell_type": "code",
   "execution_count": null,
   "metadata": {},
   "outputs": [],
   "source": [
    "po1={'thickness':5,'color':'darkblue'}                # param.\n",
    "po2={'fontsize':20,'color':'black'}\n",
    "ax =line3d([(0,0,0), (1+0.15,0,0)], **po1)            # axes\n",
    "ax+=line3d([(0,0,0), (0,1+0.15,0)], **po1)\n",
    "ax+=line3d([(0,0,0), (0,0,1+0.15)], **po1)\n",
    "ax+=text3d(\"x\",(1.25,0,0),**po2)\n",
    "ax+=text3d(\"y\",(0,1.25,0),**po2)\n",
    "ax+=text3d(\"z\",(0.,0.,1.25),**po2)"
   ]
  },
  {
   "cell_type": "code",
   "execution_count": null,
   "metadata": {},
   "outputs": [],
   "source": [
    "S2=manifolds.Sphere(2)                         # sphere S^2\n",
    "Phi=S2.embedding()                             # embedding S^2->E^3\n",
    "sph.<th,ph>=S2.spherical_coordinates()         # spherical coord.\n",
    "A=sph.domain()                                 # domain of sph\n",
    "U=A.open_subset('U',coord_def={sph:[th>0,th<pi/2,\n",
    "                             ph>0,ph<pi/4]})   # def.restrictions\n",
    "                                               # on coordinates\n",
    "sphU=sph.restrict(U)                           # restrict sph to U\n",
    "E=S2.ambient()                                 # ambient space E^3\n",
    "c_cart.<x,y,z> = E.cartesian_coordinates()     # Cartesian coord.\n",
    "p=sphU.plot(c_cart,mapping=Phi,number_values=10,thickness=2,\n",
    "    color='grey',label_axes=False)        # plot sphU coord lines             \n",
    "(p+ax).show(frame=False,label_axes=False) # plot coord lines and ax"
   ]
  },
  {
   "cell_type": "markdown",
   "metadata": {},
   "source": [
    "**Example 4.13**\n",
    "\n",
    "We can investigate $S^2$ and its parts without `manifolds.Sphere`,\n",
    "but the transition maps and the corresponding restrictions must be defined by the user in that case.\n",
    "\n",
    "We have to define the manifolds, charts and the embedding $S^2\\to R^3$."
   ]
  },
  {
   "cell_type": "code",
   "execution_count": null,
   "metadata": {},
   "outputs": [],
   "source": [
    "# spherical coordinates in S^2 without manifolds.Sphere setup\n",
    "M = Manifold(2, 'S^2')             # sphere S^2\n",
    "U = M.open_subset('U')             # the complement of a meridian, \n",
    "                                   # domain of spherical coordinates\n",
    "c_spher.<th,ph> = U.chart(r'th:(0,pi):\\theta ph:(0,2*pi):\\phi') \n",
    "                                   # spherical coordinates on U\n",
    "N = Manifold(3, 'R^3', r'\\RR^3')   # manifold R^3\n",
    "c_cart.<x,y,z> = N.chart()         # Cartesian coord. on R^3\n",
    "Phi=U.continuous_map(N,(sin(th)*cos(ph),sin(th)*sin(ph), cos(th)),\n",
    "    name='Phi',latex_name=r'\\Phi') # define embedding S^2 -> R^3"
   ]
  },
  {
   "cell_type": "markdown",
   "metadata": {},
   "source": [
    "We can make previous plots  without `manifolds.Sphere` setup."
   ]
  },
  {
   "cell_type": "code",
   "execution_count": null,
   "metadata": {},
   "outputs": [],
   "source": [
    "# Previous graph without manifolds.Sphere setup\n",
    "forget()\n",
    "M = Manifold(2, 'S2')                # sphere S^2\n",
    "c_pol.<th,ph> = M.chart()            # spherical coordinates\n",
    "D = M.open_subset('D', coord_def={c_pol: [0<th,th<pi/2,\n",
    "    0<=ph,ph<pi/4]})  # D -not open, contains some boundary points\n",
    "c_pol_D = c_pol.restrict(D)          # restrict coordinates to D                                       # dla rysunku\n",
    "N = Manifold(3, 'R3', r'R^3')        # manifold R^3\n",
    "c_cart.<x,y,z> = N.chart()           # Cartesian coordinates on R^3\n",
    "Phi = M.continuous_map(N,{(c_pol,c_cart): \n",
    "    (cos(ph)*sin(th),sin(ph)*sin(th), cos(th))},\n",
    "    name='Phi',latex_name=r'\\Phi')   # define embedding S^2->R^3 \n",
    "Phi1 = Phi.restrict(D)               # restrict embedding to D\n",
    "p=c_pol_D.plot(c_cart,mapping=Phi1,  # plot the coordinate lines\n",
    "   ranges={ph:(0,pi/4),th:(0,pi/2)}, # contained in D\n",
    "   number_values={ph:11,th:10},thickness=2,\n",
    "   color='grey',label_axes=False)\n",
    "(p+ax).show(frame=False)             # use ax defined in the previous plot!"
   ]
  },
  {
   "cell_type": "markdown",
   "metadata": {},
   "source": [
    "### Stereographic coordinates in $\\mathbf{S^2}$\n",
    "\n",
    "### Stereographic projection of $S^2$ from the North pole"
   ]
  },
  {
   "cell_type": "code",
   "execution_count": null,
   "metadata": {},
   "outputs": [],
   "source": [
    "var('t u v')\n",
    "\n",
    "po1={'thickness':5,'color':'darkblue'}       # parameters\n",
    "po2={'fontsize':20,'color':'black'}\n",
    "po3={'fontsize':20,'color':'white'}\n",
    "                                 # half line from North pole:\n",
    "p=parametric_plot3d((t,t,1-t/0.85),(t,0,0.85),**po1)\n",
    "p+=point3d([(1.2*cos(t),1.2*sin(t),0)        # dotted arc\n",
    "    for t in srange(0,pi/2,0.087)], size=7,frame=False)"
   ]
  },
  {
   "cell_type": "code",
   "execution_count": null,
   "metadata": {},
   "outputs": [],
   "source": [
    "ax =line3d([(0,0,0), (1+0.15,0,0)], **po1)   # axes\n",
    "ax+=line3d([(0,0,0), (0,1.1+0.15,0)], **po1)\n",
    "ax+=line3d([(0,0,0), (0,0,1+0.15)], **po1)\n",
    "ax+=text3d(\"x\",(1.25,0,0),**po2)\n",
    "ax+=text3d(\"y\",(0,1.3,0),**po2)\n",
    "ax+=text3d(\"z\",(0.,0.,1.25),**po2) "
   ]
  },
  {
   "cell_type": "code",
   "execution_count": null,
   "metadata": {},
   "outputs": [],
   "source": [
    "                                             # hemisphere:\n",
    "s=parametric_plot3d((cos(u)*cos(v), sin(u)*cos(v), sin(v)),\n",
    "(u,0,2*pi), (v,0,pi/2),opacity=0.9,color='lightgrey')\n",
    "\n",
    "t=text3d(\"(x,y,z)\",(0.8,0.67,0.3),**po3)     # distinguished\n",
    "t+=text3d(\"(u,v,0)\",(1.,1.,0.0),fontsize=20) # points\n",
    "t+=text3d(\"(0,0,1)\",(0.6,0.2,0.98),**po3)\n",
    "\n",
    "(p+ax+s+t).rotateZ(-pi/6).show(frame=False)  # combine plots"
   ]
  },
  {
   "cell_type": "markdown",
   "metadata": {},
   "source": [
    "Consider the line which passes through the North pole $(0,0,1)$, the point $(x,y,z)$ on the sphere and intersects\n",
    "the plane Oxy at the point $(u,v,0)$. The functions $\\ u = u(x,y,z),\\ v=v(x,y,z)\\ $ define the stereographic projection from the North pole. Using the rotations around z-axis and appropriate similar triangles in $Oxz$ and $Oyz$ planes we can see that (as in the case of $S^1$)  $\\quad\\frac{u}{x}=\\frac{1}{1-z},\\quad \\frac{v}{y}=\\frac{1}{1-z},\\quad$ so the stereographic projection can be described by $$u=\\frac{x}{1-z},\\quad v=\\frac{y}{1-z}.$$\n",
    "Solving this system combined with the equation of the unit sphere: $x^2+y^2+z^2=1$ with respect to $x,y,z$:"
   ]
  },
  {
   "cell_type": "code",
   "execution_count": null,
   "metadata": {},
   "outputs": [],
   "source": [
    "%display latex\n",
    "var('u v x y z')            # symbolic variables\n",
    "assume(z>0)                 # assume z>0\n",
    "                            # solve the system above, \n",
    "                            # with respect to x,y,z\n",
    "solve([u==x/(1-z),v==y/(1-z),x^2+y^2+z^2==1],[x,y,z])"
   ]
  },
  {
   "cell_type": "markdown",
   "metadata": {},
   "source": [
    "we obtain the  transformation\n",
    "$$x=\\frac{2u}{u^2+v^2+1},\\quad y=\\frac{2v}{u^2+v^2+1},\\quad z=\\frac{u^2+v^2-1}{u^2+v^2+1}.$$"
   ]
  },
  {
   "cell_type": "markdown",
   "metadata": {},
   "source": [
    "<br>\n",
    "\n",
    "### Stereographic projection of $S^2$ from the South pole"
   ]
  },
  {
   "cell_type": "code",
   "execution_count": null,
   "metadata": {},
   "outputs": [],
   "source": [
    "var('t u v')\n",
    "po1={'thickness':4,'color':'darkblue'}     # parameters\n",
    "po2={'fontsize':20,'color':'black'}\n",
    "po3={'fontsize':20,'color':'black'}\n",
    "\n",
    "p=parametric_plot3d((t,t,-1+t/0.85),(t,0,0.85), # half line\n",
    "    thickness=3,color='green')             # from South pole\n",
    "p+=point3d([(1.2*cos(t),1.2*sin(t),0)      # dotted arc\n",
    "    for t in srange(0,pi/2,0.075)],\n",
    "    color='darkblue',size=7,frame=False)"
   ]
  },
  {
   "cell_type": "code",
   "execution_count": null,
   "metadata": {},
   "outputs": [],
   "source": [
    "ax =line3d([(0,0,0), (1.3,0,0)], **po1)    # axes\n",
    "ax+=line3d([(0,0,0), (0,1.3,0)], **po1)\n",
    "ax+=line3d([(0,0,-1.), (0,0,0.55)], **po1)\n",
    "ax+=text3d(\"x\",(1.4,0,0),**po2)\n",
    "ax+=text3d(\"y\",(0,1.5,0),**po2)\n",
    "ax+=text3d(\"z\",(0.,0.,0.7),**po2)"
   ]
  },
  {
   "cell_type": "code",
   "execution_count": null,
   "metadata": {},
   "outputs": [],
   "source": [
    "                                           # hemi-sphere:\n",
    "s=parametric_plot3d((cos(u)*cos(v), sin(u)*cos(v), sin(v)), \n",
    "    (u,0,2*pi), (v,-pi/2,0),opacity=0.4,color='lightgrey')\n",
    "\n",
    "t=text3d(\"(x,y,z)\",(0.4,0.67,-0.2),**po3)  # distinguished \n",
    "t+=text3d(\"(u,v,0)\",(1.,1.2,0.0),**po3)        # points\n",
    "t+=text3d(\"(0,0,-1)\",(-0.5,0.4,-2.2),**po3)\n",
    "                                           # intersection\n",
    "P=point3d([(0.6,0.67,-0.29)],size=20)      # point\n",
    "P+=point3d([(0,0,-1)],size=25,color='red') # South pole\n",
    "\n",
    "(p+ax+s+t+P).rotateZ(-pi/1.9).show(frame=False)"
   ]
  },
  {
   "cell_type": "markdown",
   "metadata": {},
   "source": [
    "Consider the line which passes through the South pole $(0,0,-1)$, the point $(x,y,z)$ on the sphere and intersects\n",
    "the plane Oxy at the point $(u,v,0)$. The functions $u = u(x,y,z), v=v(x,y,z)$ define a stereographic projection from the South pole. Using the rotations around z-axis and appropriate similar triangles in $Oxz$ and $Oyz$ planes we can see that (as in the case of $S^1$)  $\\quad\\frac{u}{x}=\\frac{1}{1+z},\\quad \\frac{v}{y}=\\frac{1}{1+z},\\quad$ so the stereographic projection from the South pole can be described by $$u=\\frac{x}{1+z},\\quad v=\\frac{y}{1+z}.$$\n",
    "Solving this system combined with the equation of the unit sphere: $x^2+y^2+z^2=1$ with respect to $x,y,z$:"
   ]
  },
  {
   "cell_type": "code",
   "execution_count": null,
   "metadata": {},
   "outputs": [],
   "source": [
    "forget()\n",
    "%display latex\n",
    "var('u v x y z')             # symbolic variables\n",
    "assume(z<0)                  # assume z<0\n",
    "                             # solve the system above\n",
    "                             # with respect to x,y,z\n",
    "solve([u==x/(1+z),v==y/(1+z),x^2+y^2+z^2==1],[x,y,z])"
   ]
  },
  {
   "cell_type": "markdown",
   "metadata": {},
   "source": [
    "we obtain the inverse transformation\n",
    "$$x=\\frac{2u}{u^2+v^2+1},\\quad y=\\frac{2v}{u^2+v^2+1},\\quad z=-\\frac{u^2+v^2-1}{u^2+v^2+1}.$$"
   ]
  },
  {
   "cell_type": "markdown",
   "metadata": {},
   "source": [
    "<br>\n",
    "\n",
    "**Example 4.14**\n",
    "\n",
    "As we mentioned in the case of $S^1$ both the stereographic projections from North and South poles are predefined in `manifolds.Sphere`."
   ]
  },
  {
   "cell_type": "code",
   "execution_count": null,
   "metadata": {},
   "outputs": [],
   "source": [
    "%display latex\n",
    "S2=manifolds.Sphere(2)                  # sphere S^2\n",
    "                     # stereographic proj. from North pole:\n",
    "stereoN.<u,v>=S2.stereographic_coordinates(pole='north')\n",
    "                     # stereographic proj. from South pole:\n",
    "stereoS.<up,vp>=S2.stereographic_coordinates(pole='south')\n",
    "Phi=S2.embedding()                      # embeddings\n",
    "Phi.disp()                              # show embeddings "
   ]
  },
  {
   "cell_type": "markdown",
   "metadata": {},
   "source": [
    "<br>\n",
    "\n",
    "**Example 4.15**\n",
    "\n",
    "To show graphically how the projection from the North pole acts, let us extract \n",
    "an appropriate part of definition from the previous cell."
   ]
  },
  {
   "cell_type": "code",
   "execution_count": null,
   "metadata": {},
   "outputs": [],
   "source": [
    "# continuation\n",
    "E=S2.ambient()                             # ambient space E^3\n",
    "c_cart.<x,y,z> = E.cartesian_coordinates() # Cartesian coordinates\n",
    "fun=list(Phi.coord_functions(stereoN).expr()) # embedd. functions\n",
    "PhiN = S2.continuous_map(E,{(stereoN, c_cart): fun},\n",
    "    name='PhiN',latex_name=r'\\Phi_N')      # define embedding PhiN\n",
    "PhiN.display()                             # show PhiN"
   ]
  },
  {
   "cell_type": "markdown",
   "metadata": {},
   "source": [
    "In the figure below we show the arcs on the sphere, which correspond to the lines $v=\\text{const}$ on the $(u,v)$ plane (for the stereographic projection from the North pole)."
   ]
  },
  {
   "cell_type": "code",
   "execution_count": null,
   "metadata": {},
   "outputs": [],
   "source": [
    "# continuation\n",
    "p=stereoN.plot(c_cart,mapping=PhiN,ranges={u:(-4,4),v:(-4,4)},\n",
    "    number_values={u:0,v:14},color='black',thickness=3,\n",
    "    plot_points=200,label_axes=False)     # plot coordinate lines\n",
    "s=sphere(color='lightgrey',opacity=0.6)   # plot sphere\n",
    "(p+s).show(frame=False,label_axes=False)  # combine plots"
   ]
  },
  {
   "cell_type": "markdown",
   "metadata": {},
   "source": [
    "<br>\n",
    "\n",
    "**Example 4.16**\n",
    "\n",
    "Now let us do the same for the South pole."
   ]
  },
  {
   "cell_type": "code",
   "execution_count": null,
   "metadata": {},
   "outputs": [],
   "source": [
    "# continuation\n",
    "fun=list(Phi.coord_functions(stereoS).expr())  # embedd. functions\n",
    "PhiS = S2.continuous_map(E,{(stereoS, c_cart): fun},\n",
    "    name='PhiS',latex_name=r'\\Phi_S')          # define embedd PhiS\n",
    "PhiS.display()                                 # show PhiS"
   ]
  },
  {
   "cell_type": "markdown",
   "metadata": {},
   "source": [
    "In the figure below we show the arcs on the sphere, which correspond to the lines $v'=\\text{const}$ on the $(u',v')$ plane (for the stereographic projection from the South pole)."
   ]
  },
  {
   "cell_type": "code",
   "execution_count": null,
   "metadata": {},
   "outputs": [],
   "source": [
    "p=stereoS.plot(c_cart,mapping=PhiS,ranges={up:(-4,4),vp:(-4,4)},\n",
    "    number_values={up:0,vp:25},color='black',thickness=3,\n",
    "    plot_points=200,label_axes=False)       # plot coordinate lines\n",
    "s=sphere(color='lightgrey',opacity=0.6)     # plot sphere\n",
    "(p+s).show(frame=False,label_axes=False)    # combine plots"
   ]
  },
  {
   "cell_type": "markdown",
   "metadata": {},
   "source": [
    "### Transition map"
   ]
  },
  {
   "cell_type": "markdown",
   "metadata": {},
   "source": [
    "From the relations $\\ (u,v)=(\\frac{x}{1-z},\\frac{y}{1-z})\\ $ and $\\ (u',v')=(\\frac{x}{1+z},\\frac{y}{1+z})\\ $ it follows\n",
    "$\\ (1+z)(u',v')=(1-z)(u,v)=(x,y)\\ $, so the transition map is of the form \n",
    "$$(u',v')=\\frac{1-z}{1+z}(u,v).$$\n",
    "\n",
    "To calculate the fraction $\\ \\frac{1-z}{1+z}\\ $ let us note that $\\ z=\\frac{u^2+v^2-1}{u^2+v^2+1}=\\frac{r^2-1}{r^2+1},\\ $ where $\\ r^2=u^2+v^2.\\ $  Accordingly $\\ \\frac{1-z}{1+z}=\\frac{1-\\frac{r^2-1}{r^2+1}}{1+\\frac{r^2-1}{r^2+1}}=\\frac{r^2+1-r^2+1}{r^2+1+r^2-1}=\\frac{2}{2r^2}=\\frac{1}{r^2}.\\ $ Consequently the transition map has the form\n",
    "$$u'=\\frac{u}{u^2+v^2},\\quad v'=\\frac{v}{u^2+v^2}.$$\n",
    "\n",
    "<br>\n",
    "\n",
    "**Example 4.17**\n",
    "\n",
    "Transition maps from one stereographic projection to the second one in `SageMath Manifolds`:"
   ]
  },
  {
   "cell_type": "code",
   "execution_count": null,
   "metadata": {},
   "outputs": [],
   "source": [
    "%display latex\n",
    "S2=manifolds.Sphere(2)                   # sphere S^2\n",
    "                     # stereographic proj. from North pole:\n",
    "stereoN.<u,v>=S2.stereographic_coordinates(pole='north')\n",
    "                     # stereographic proj. from South pole:\n",
    "stereoS.<up,vp>=S2.stereographic_coordinates(pole='south')\n",
    "\n",
    "stereoN_to_stereoS = stereoN.transition_map(stereoS, \n",
    "    (u/(u^2+v^2), v/(u^2+v^2)),\n",
    "    intersection_name='W', restrictions1= u^2+v^2!=0,\n",
    "    restrictions2= up^2+vp^2!=0)        # define transition map\n",
    "stereoN_to_stereoS.display()            # show transition map"
   ]
  },
  {
   "cell_type": "markdown",
   "metadata": {},
   "source": [
    "<br>\n",
    "\n",
    "`SageMath` can perform the corresponding calculation (with the help of Maxima)."
   ]
  },
  {
   "cell_type": "code",
   "execution_count": null,
   "metadata": {},
   "outputs": [],
   "source": [
    "var('u,v,up,vp,x,y,z')                 # symbolic variables\n",
    "\n",
    "# Eliminate variables x,y,z from the system defining stereogr. proj\n",
    "maxima.eliminate([u==x/(1-z),v==y/(1-z),up==x/(1+z),vp==y/(1+z),\n",
    "                  z==(u^2+v^2-1)/(u^2+v^2+1)],[x,y,z]).sage()"
   ]
  },
  {
   "cell_type": "code",
   "execution_count": null,
   "metadata": {},
   "outputs": [],
   "source": [
    "#Solve the obtained system with respect to up,vp\n",
    "solve([2*(u^2 + v^2)*vp - 2*v, -2*up*v + 2*u*vp],[up,vp])"
   ]
  },
  {
   "cell_type": "markdown",
   "metadata": {},
   "source": [
    "<br>\n",
    "\n",
    "The inverse transition map has the form\n",
    "$$u=\\frac{u'}{u'^2+v'^2},\\quad v=\\frac{v'}{u'^2+v'^2}.$$"
   ]
  },
  {
   "cell_type": "code",
   "execution_count": null,
   "metadata": {},
   "outputs": [],
   "source": [
    "stereoN_to_stereoS.inverse().display()  # inverse transition map"
   ]
  },
  {
   "cell_type": "markdown",
   "metadata": {},
   "source": [
    "Both transformations are smooth provided $u^2+v^2$ and $u'^2+v'^2$ are nonzero."
   ]
  },
  {
   "cell_type": "markdown",
   "metadata": {},
   "source": [
    "<br>\n",
    "\n",
    "**Example 4.18**\n",
    "\n",
    "In fact, both transition maps are predefined in `manifolds.Sphere`."
   ]
  },
  {
   "cell_type": "code",
   "execution_count": null,
   "metadata": {},
   "outputs": [],
   "source": [
    "%display latex\n",
    "dim=2                                         # dim of the sphere\n",
    "Sph=manifolds.Sphere(dim)                     # sphere S^2 \n",
    "spher = Sph.spherical_coordinates()           # spherical coord.\n",
    "stereoN, stereoS = Sph.coordinate_charts('stereographic',\n",
    "                     names=['u','v'])         # sterogr. projections\n",
    "A=stereoN.domain()                            # domain of stereoN\n",
    "                  # intersection of domains of stereoN and stereoS:\n",
    "W = Sph._stereoN_dom.intersection(Sph._stereoS_dom)\n",
    "                              # transition from stereoN to stereoS:\n",
    "FNS=Sph.coord_change(stereoN.restrict(W),stereoS.restrict(W))\n",
    "                              # transition from stereoS to stereoN:\n",
    "FSN=Sph.coord_change(stereoS.restrict(W),stereoN.restrict(W))\n",
    "FNS.disp(),FSN.disp()         # show transitions"
   ]
  },
  {
   "cell_type": "markdown",
   "metadata": {},
   "source": [
    "<br>\n",
    "\n",
    "**Example 4.19**\n",
    "\n",
    "The transitions from stereoN \n",
    "to stereoS and  the inverse can be also obtained  as  compositions."
   ]
  },
  {
   "cell_type": "code",
   "execution_count": null,
   "metadata": {},
   "outputs": [],
   "source": [
    "dim=2                               # dimension of sphere\n",
    "Sph=manifolds.Sphere(dim)           # manifold S^2\n",
    "spher = Sph.spherical_coordinates() # spherical coordinates\n",
    "stereoN,stereoS=Sph.coordinate_charts('stereographic',\n",
    "    names=['u','v'])                # stereographic coordinates\n",
    "A = spher.domain()                  # domain of stereogr. coord.\n",
    "     # intersection of stereoN and stereoS coordinates domains:\n",
    "W = Sph._stereoN_dom.intersection(Sph._stereoS_dom)\n",
    "V=W.intersection(A)    # intersection with spher. coord. domain \n",
    "                                    # transition spher->stereoN:\n",
    "F1=Sph.coord_change(spher.restrict(V), stereoN.restrict(V))\n",
    "                                    # transition stereoN->spher:\n",
    "F2=Sph.coord_change( stereoN.restrict(V),spher.restrict(V))\n",
    "                                    # transition spher->stereoS:\n",
    "F3=Sph.coord_change(spher.restrict(V), stereoS.restrict(V))\n",
    "                                    # transition stereoS->spher\n",
    "F4=Sph.coord_change( stereoS.restrict(V),spher.restrict(V))\n",
    "(F1*F4).disp(),(F3*F2).disp()       # show compositions"
   ]
  },
  {
   "cell_type": "markdown",
   "metadata": {},
   "source": [
    "<br>\n",
    "\n",
    "**Example 4.20**\n",
    "\n",
    "Knowing the transition maps  we are ready to an independent of `manifolds.Sphere` definition of $S^2$ as a manifold with two maps. "
   ]
  },
  {
   "cell_type": "code",
   "execution_count": null,
   "metadata": {},
   "outputs": [],
   "source": [
    "S2 = Manifold(2, 'S^2')              # S^2-sphere\n",
    "U = S2.open_subset('U')              # complement of the North pole\n",
    "V = S2.open_subset('V')              # complement of the South pole\n",
    "S2.declare_union(U,V)\n",
    "c_uv.<u,v> = U.chart() # stereogr. coordinates from the North pole\n",
    "c_upvp.<up,vp> = V.chart()  # stereogr. coord. from the South pole\n",
    "\n",
    "uv_to_upvp = c_uv.transition_map(c_upvp, (u/(u^2+v^2), v/(u^2+v^2)),\n",
    "    intersection_name='W',           # transition map\n",
    "    restrictions1= u^2+v^2!=0, \n",
    "    restrictions2= up^2+vp^2!=0)\n",
    "upvp_to_uv = uv_to_upvp.inverse()    # inverse transition\n",
    "uv_to_upvp.disp(),upvp_to_uv.disp()  # show transitions"
   ]
  },
  {
   "cell_type": "markdown",
   "metadata": {},
   "source": [
    "## What's next?\n",
    "\n",
    "Take a look at the notebook [Spheres and spherical coordinates in higher dimensions](https://nbviewer.org/github/sagemanifolds/IntroToManifolds/blob/main/05Manifold_Spher_Higher_Dim.ipynb)."
   ]
  }
 ],
 "metadata": {
  "kernelspec": {
   "display_name": "SageMath 9.6",
   "language": "sage",
   "name": "sagemath"
  },
  "language_info": {
   "codemirror_mode": {
    "name": "ipython",
    "version": 3
   },
   "file_extension": ".py",
   "mimetype": "text/x-python",
   "name": "python",
   "nbconvert_exporter": "python",
   "pygments_lexer": "ipython3",
   "version": "3.8.10"
  }
 },
 "nbformat": 4,
 "nbformat_minor": 4
}
