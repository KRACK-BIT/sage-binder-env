{
 "cells": [
  {
   "cell_type": "markdown",
   "metadata": {},
   "source": [
    "# 8. Tangent spaces\n",
    "\n",
    "This notebook is part of the [Introduction to manifolds in SageMath](https://sagemanifolds.obspm.fr/intro_to_manifolds.html) by Andrzej Chrzeszczyk (Jan Kochanowski University of Kielce, Poland)."
   ]
  },
  {
   "cell_type": "code",
   "execution_count": null,
   "metadata": {},
   "outputs": [],
   "source": [
    "version()"
   ]
  },
  {
   "cell_type": "markdown",
   "metadata": {},
   "source": [
    "Let $M$ be a smooth manifold and $p ∈ M$. A **tangent vector to $M$ at $p$** is\n",
    "a map $X_p : C^∞ (M ) → R$ such that\n",
    "\n",
    "\\begin{equation}\n",
    "\\begin{matrix}\n",
    "X_p (a f + bg) = aX_p ( f ) + bX_p (g),\\\\\n",
    "X_p(f g) = f (p)X_p(g) + g(p)X_p(f), \n",
    "\\end{matrix}\n",
    "\\tag{8.1}\n",
    "\\end{equation}\n",
    "\n",
    "for all  $f, g ∈ C^\\infty (M )$ and $a,b\\in R$.<br><br>\n",
    "Maps $C^∞ (M ) → R$ satisfying the last relation are also said to have a **derivation property** and are called\n",
    "**derivations** (into $R$).<br><br>\n",
    "In the [previous notebook](https://nbviewer.org/github/sagemanifolds/IntroToManifolds/blob/main/07Manifold_FunPullb_Curves.ipynb) we have checked that the tangent vectors to smooth curves are derivations. Later in this notebook we will show that all tangent vectors are in fact tangent vectors to some curve. <br><br>\n",
    "If we define addition and  multiplication by a scalar on the set of derivations at $p$ by\n",
    "\n",
    "\\begin{equation}\n",
    "\\begin{matrix}\n",
    "(X_p+Y_p)(f)=X_p(f)+Y_p(f),\\\\\n",
    "(\\lambda X_p)(f)=\\lambda X_p(f),\n",
    "\\tag{8.2}\n",
    "\\end{matrix}\n",
    "\\end{equation}\n",
    "\n",
    "for $\\ f ∈ C^\\infty (M )$ and $\\lambda\\in R$, then we obtain a vector space.\n",
    "\n",
    "**Tangent space** $T_p M$ to a smooth manifold $M$ at a point $p$ is the vector space of\n",
    "all tangent vectors to $M$ at $p$."
   ]
  },
  {
   "cell_type": "markdown",
   "metadata": {},
   "source": [
    "<br>\n",
    "\n",
    "### Local bases for tangent spaces\n",
    "\n",
    "<br>\n",
    "\n",
    "Let $(U, φ)$ be a chart on $M,$ with coordinates $x^1 , . . . , x^n$ and $p ∈ U$. The tangent\n",
    "vectors,$ \\frac{∂}{∂ x^i}\\Big|_p$  are defined by\n",
    "\\begin{equation}\n",
    "\\frac{∂}{∂ x^i}\\Big|_p(f) = D_i ( f ◦ φ^{−1} )|_{φ( p)}.\n",
    "\\tag{8.3}\n",
    "\\end{equation}\n",
    "\n",
    "Here $f\\in C^\\infty(M)$ and $D_i$ denotes the partial derivative in $R^n$, i.e. \n",
    "\n",
    "$$\\displaystyle D_i(g)|_q=\\lim_{h\\to 0}\\frac{g(q+he_i)-g(q)}{h},\n",
    "\\quad \\text{for}\\  g\\in C^\\infty(M),\\ q\\in M,$$\n",
    "\n",
    "where $e_i$ is the vector in $R^n$ with $i$-th component 1 and all other 0.\n",
    "\n",
    "Using the Leibniz rule for $D_i$ one can show that $\\frac{∂}{∂ x^i}\\Big|_p$ satisfy (8.1), so they are tangent vectors to $M$ at $p\\in M$."
   ]
  },
  {
   "cell_type": "markdown",
   "metadata": {},
   "source": [
    "Let us check how the tangent vectors $\\ \\frac{∂}{∂ x^i}\\big|_p$ act on coordinate functions $x^j$. We have\n",
    "\n",
    "$$x^j\\circ\\phi^{-1}(\\phi(p)+he_i)-x^j\\circ\\phi^{-1}(\\phi(p))=\n",
    "\\left\\{\n",
    "\\begin{array}{ll}\n",
    "h, & \\mbox{if } i=j,\\\\\n",
    "0, & \\mbox{if } i\\not=j.\n",
    "\\end{array}\\right.$$\n",
    "\n",
    "As a consequence we obtain"
   ]
  },
  {
   "cell_type": "markdown",
   "metadata": {},
   "source": [
    "\\begin{equation}\n",
    "\\frac{\\partial}{\\partial x^i}\\Big|_p(x^j)=\\delta^j_i=\n",
    "\\Big\\{\n",
    "\\begin{array}{ll}\n",
    "1, & \\mbox{if } i=j,\\\\\n",
    "0, & \\mbox{if } i\\not=j.\n",
    "\\end{array}\n",
    "\\tag{8.4}\n",
    "\\end{equation}"
   ]
  },
  {
   "cell_type": "markdown",
   "metadata": {},
   "source": [
    "**The vectors $\\ \\ \\displaystyle\\frac{\\partial}{\\partial x^i}\\Big|_p,\\ \\ $ $i=1,\\ldots,n\\ \\ $ form a basis of $T_pM$.**\n",
    "\n",
    "\n",
    "\n",
    "The linear independence follows from the fact that if\n",
    "$\\sum_{i=1}^n a^i\\frac{\\partial}{\\partial x^i}\\Big|_p=0\\in T_pM$, then by (8.4)\n",
    "$$\\sum_{i=1}^n a^i\\frac{\\partial}{\\partial x^i}\\Big|_p(x^j)=\\sum_{i=1}^n a^i\\delta^j_i=a^j=0.$$"
   ]
  },
  {
   "cell_type": "markdown",
   "metadata": {},
   "source": [
    "To show that $\\ \\ \\displaystyle\\frac{\\partial}{\\partial x^i}\\Big|_p,\\ \\ $ $i=1,\\ldots,n\\ \\ $  span  the tangent space $\\ T_pM\\ $ we need to prove:\n",
    "\n",
    "If $\\phi=(x^1,\\ldots,x^n): U\\to R^n$ is a coordinate chart on a manifold $M$ and $X_p\\in T_pM$ is a tangent vector at $p\\in U$, then\n",
    "\\begin{equation}\n",
    " X_p=\\sum_{i=1}^n X_p(x^i)\\frac{\\partial}{\\partial x^i}\\Big|_p.\n",
    " \\label{}\\tag{8.5}\n",
    " \\end{equation}\n",
    "\n",
    "\n",
    "#### From now on, in all notebooks we use **Einstein summation convention**:  <br> When an index variable appears twice in a single term and is not otherwise defined, it implies summation of that term over all the values of the index.\n",
    "\n",
    "\n",
    "Using this convention, the last formula can be written as\n",
    "\n",
    "$$X_p=X_p(x^i)\\frac{\\partial}{\\partial x^i}\\Big|_p.$$\n",
    " \n",
    "\n",
    "To check (8.5) let $f\\in C^\\infty(M)$ and let $F=f\\circ\\phi^{-1}$.\n",
    "If $q\\in U$, then \n",
    "\n",
    "$$f(q)=(f\\circ\\phi^{-1})(\\phi(q))=F(\\phi(q)).$$ \n",
    "\n",
    "Analogously $f ( p) = F (φ( p)).\\ \\ $ \n",
    "We shall use the following version of the mean value theorem.\n",
    "\n",
    "<br> \n",
    "For smooth function $F$ of $n$ real variables defined in a neighborhood of the segment joining $\\phi(p)$ and $\\phi(q)$ we have the equality<br>\n",
    "\n",
    "\\begin{equation}\n",
    "\\displaystyle\n",
    "F(\\phi(q))=F(\\phi(p))+(x^i(q)-x^i(p))g_i(q),\n",
    "\\tag{8.6}\n",
    "\\end{equation}<br>\n",
    "where $g_i(p)=D_iF|_{\\phi(p)}=D_i(f\\circ\\phi^{-1})|_{\\phi(p)}$.\n",
    "\n",
    "If $p$ is fixed, then (8.6) leads to\n",
    "\n",
    "$$f (q) = f ( p) + [x^i (q) − x^i ( p) ]g_i (q).$$\n",
    "\n",
    "Since $q$ is arbitrary point in a neighborhood of $p$\n",
    "\n",
    "\\begin{equation}\n",
    "f = f ( p) + [x^i − x^i ( p)] g_i.\n",
    "\\tag{8.7}\n",
    "\\end{equation}<br>\n",
    "Note that for a constant $c$ we have\n",
    "$X_p(c)=X_p(c\\cdot  1)=cX_p(1)=cX_p(1\\cdot 1)$ $\n",
    "=c(1\\cdot X_p(1)+1\\cdot X_p(1))=2cX_p(1)=2X_p(c),$ so $X_p(c)=0$.\n",
    "\n",
    "\n",
    "Using (8.1) and the fact that $f(p)$ and $x^i(p)$ are constants\n",
    "($p$ is fixed) we have\n",
    "\n",
    "$$X_p ( f ) = X_p ( f ( p)) + [x^i ( p) − x^i ( p)] X_p (g_i ) \n",
    "+ g_i ( p) X_p (x^i − x^i ( p))\n",
    "= g_i ( p) X_p (x^i ).\n",
    "$$\n",
    "\n",
    "Since $g_i(p)=D_i(f\\circ\\phi^{-1})|_{\\phi(p)}=\\frac{\\partial}{\\partial x^i}\\Big|_p(f)$, we have proved (8.5)."
   ]
  },
  {
   "cell_type": "markdown",
   "metadata": {},
   "source": [
    "<br>\n",
    "\n",
    "### Tangent vectors in SageMath\n",
    "\n",
    "<br> \n",
    "\n",
    "In the sequel we shall use variables with upper indices in latex output"
   ]
  },
  {
   "cell_type": "markdown",
   "metadata": {},
   "source": [
    "<br>\n",
    "\n",
    "**Example 8.1**\n",
    "\n",
    "Now let us define our first tangent vector, using variables with **superscripts** in Latex output."
   ]
  },
  {
   "cell_type": "code",
   "execution_count": null,
   "metadata": {},
   "outputs": [],
   "source": [
    "%display latex\n",
    "M = Manifold(3, 'M')                          # Manifold M\n",
    "X = M.chart(r\"x0:x^0 x1:x^1 x2:x^2\")          # chart (x^0,x^1,x^2)\n",
    "p = M.point((1,0,-2), name='p')               # point in M\n",
    "Tp = M.tangent_space(p)                       # tangent space at p\n",
    "v = Tp((2,1,3), name='v') ; print(v)          # tangent vector in Tp\n",
    "v.disp()                                      # show v"
   ]
  },
  {
   "cell_type": "markdown",
   "metadata": {},
   "source": [
    "If we would like subscripts instead, we should write"
   ]
  },
  {
   "cell_type": "code",
   "execution_count": null,
   "metadata": {},
   "outputs": [],
   "source": [
    "# Version with subscripts !!!\n",
    "M = Manifold(3, 'M')                          # Manifold\n",
    "X = M.chart(r\"x0:x_0 x1:x_1 x2:x_2\")          # chart (x_0,x_1,x_2)\n",
    "p = M.point((1,0,-2), name='p')               # point in M\n",
    "Tp = M.tangent_space(p)                       # tangent space at p\n",
    "v = Tp((2,1,3), name='v') ; print(v)          # tangent vector in Tp\n",
    "v.disp()                                      # show v"
   ]
  },
  {
   "cell_type": "markdown",
   "metadata": {},
   "source": [
    "<br>\n",
    "\n",
    "**Example 8.2**\n",
    "\n",
    "Let us introduce a tangent vector with symbolic components, first with subscripts. "
   ]
  },
  {
   "cell_type": "code",
   "execution_count": null,
   "metadata": {},
   "outputs": [],
   "source": [
    "# version with subscripts\n",
    "%display latex\n",
    "M = Manifold(2, 'M')                           # Manifold\n",
    "X.<x0,x1> = M.chart()                          # chart  (X0,X1)\n",
    "p = M.point((x0, x1), name='p')                # generic point in M\n",
    "Tp = M.tangent_space(p)                        # tangent space at p\n",
    "var('v',n=2)                                   # symbols v0,v1\n",
    "v = Tp((v0,v1), name='v')                      # tan. vector in Tp\n",
    "v.disp()                                       # show v"
   ]
  },
  {
   "cell_type": "markdown",
   "metadata": {},
   "source": [
    "Now the version with superscripts and manifold dimension specified by `N`: "
   ]
  },
  {
   "cell_type": "code",
   "execution_count": null,
   "metadata": {},
   "outputs": [],
   "source": [
    "%display latex\n",
    "N = 2\n",
    "M = Manifold(N, 'M')          # manifold M\n",
    "X = M.chart(' '.join(['x'+str(i)+':x^{'+str(i)+'}' for i in range(N)]))  # chart on M\n",
    "p = M.point(X[:], name='p')   # generic point of M\n",
    "Tp = M.tangent_space(p)       # tangent space at p\n",
    "v = [var('v'+str(i),latex_name='v'+'^'+str(i)) \n",
    "     for i in range(N)]       # variables with superscripts\n",
    "V = Tp(v, name='V')           # tangent vector at p\n",
    "V.disp()                      # show tangent vector"
   ]
  },
  {
   "cell_type": "markdown",
   "metadata": {},
   "source": [
    "Check that the tangent vector `V` maps a scalar function  `f` to the real number\n",
    "$v^0\\left.\\frac{\\partial f}{\\partial x^0}\\right|_p+\n",
    "v^1\\left.\\frac{\\partial f}{\\partial x^1}\\right|_p\\quad\n",
    " \\big(=v^i\\left.\\frac{\\partial f}{\\partial x^i}\\right|_p\\big)$.\n"
   ]
  },
  {
   "cell_type": "code",
   "execution_count": null,
   "metadata": {},
   "outputs": [],
   "source": [
    "x0, x1 = X[:]    # coordinates x^0 and x^1 of chart X as the Python variables x0 and x1\n",
    "f = M.scalar_field(function('f')(x0, x1), name='f') # scalar function f\n",
    "V(f)                          # value of vect. field on f"
   ]
  },
  {
   "cell_type": "markdown",
   "metadata": {},
   "source": [
    "Let us check the derivation property:"
   ]
  },
  {
   "cell_type": "code",
   "execution_count": null,
   "metadata": {},
   "outputs": [],
   "source": [
    "                              # scalar function g:\n",
    "g = M.scalar_field(function('g')(x0, x1), name='g') \n",
    "                              # V is derivation?\n",
    "bool(V(f*g) == V(f)*g(p) + f(p)*V(g))"
   ]
  },
  {
   "cell_type": "markdown",
   "metadata": {},
   "source": [
    "<br>\n",
    "\n",
    "### Differential of a smooth map\n",
    "\n",
    "<br>\n",
    "\n",
    "The definition of **smooth maps** (from [notebook 1](https://nbviewer.org/github/sagemanifolds/IntroToManifolds/blob/main/01Manifold_Def.ipynb)) is equivalent to the following. Let $M$ and $N$ be two smooth manifolds with some atlases {$(U_α,φ_α )$} and\n",
    "{$(V_β,ψ_β)$}, respectively.<br> A continuous map $F : M → N$ is a **smooth ($C^\\infty$) map** if for all $α$ and $β$ with\n",
    "$F^{−1}(V_β)∩ U_α  \\not= ∅$,\n",
    "the composition\n",
    "$ψ_β ◦ F ◦ φ^{−1}_α : φ_α(U_α ∩ F^{-1}(V_β ))→ ψ_β (V_β )$\n",
    "is smooth ($C^∞$ map on the open subset $φ_α(U_α ∩ F^{-1}(V_β ))$ of $R^n$). \n",
    "\n",
    "<br>\n",
    "\n",
    "A **diffeomorphism** of manifolds is a bijective $C^∞$ map $F : N → M$ whose inverse $F^{−1}$\n",
    "is also $C^∞$.\n",
    "\n",
    "If $M$ is a smooth manifold, then the coordinate maps $\\phi: U\\to \\phi(U)$ are examples of diffeomorphisms of open subsets $U$ and $\\phi(U)$.\n",
    "\n",
    "In fact, $\\phi: U\\to \\phi(U)$ is homeomorphic by definition. \n",
    "Take the atlas with a single chart $\\{(U,\\phi)\\}$ on $U$ and the atlas  with a single chart $\\{(\\phi(U),id_{\\phi(U)})\\}$ on $\\phi(U)$.\n",
    "To check the smoothness of $\\phi$ and $\\phi^{-1}$ it suffices to note that $id_{\\phi(U)}\\circ \\phi \\circ \\phi^{-1}$ and $\\phi \\circ \\phi^{-1}\\circ id_{\\phi(U)}$ are identity maps $\\phi(U)\\to\\phi(U).\\ \\ $ Note, that if $V=\\phi(U)$, then $\\phi(U\\cap\\phi^{-1}(V))=\\phi(U)\\ $ and if $\\psi=id_{\\phi(U)}\\ $, then $\\psi(V)=\\phi(U)$.\n",
    "\n",
    "<br>\n",
    "\n",
    "Every smooth map ${\\displaystyle F :M\\to N}$ between smooth manifolds induces natural linear maps between their corresponding tangent spaces:\n",
    "$${\\displaystyle {d} {F }_{p}:T_{p}M\\to T_{F (p)}N,\\quad p\\in M.}$$ \n",
    " This map is defined by\n",
    "\\begin{equation}\n",
    "{\\displaystyle [ {d} {F }_{p}(X_p)]f\\mathrel {\\stackrel {\\text{}}{=}} X_p(f\\circ F ),} \n",
    "\\tag{8.8}\n",
    "\\end{equation}\n",
    "for $X_p\\in T_pM$ and $f\\in C^\\infty(M).$\n",
    "\n",
    "The linear map ${\\displaystyle  {d} {F }_{p}}$ is called  the **differential of $F$ at $p$**, the derivative, or pushforward of \n",
    "${\\displaystyle F }$  at $ {\\displaystyle p}$. It is frequently expressed using another notations, for example ${(F _{*})_{p}}$ or $T_pF$.\n",
    "\n",
    "\n"
   ]
  },
  {
   "cell_type": "markdown",
   "metadata": {},
   "source": [
    "<br>\n",
    "\n",
    "**Chain Rule.** If $F : X → Y$ and $H : Y → Z$ are smooth maps between smooth manifolds, then\n",
    "$d(H ◦ F)_p = dH_{F(p)}◦dF_p$\n",
    "for any point $p ∈ X$."
   ]
  },
  {
   "cell_type": "markdown",
   "metadata": {},
   "source": [
    "This is a consequence of\n",
    "\n",
    "$$ dH_{F(p)}(dF_p(X_p))f=(dF_p(X_p)(f\\circ H)=X_p(f\\circ H\\circ F)=d(H\\circ F)_pf.$$"
   ]
  },
  {
   "cell_type": "markdown",
   "metadata": {},
   "source": [
    "<br>\n",
    "\n",
    "If $F : N → M$ is a diffeomorphism of manifolds and $p ∈ N$, then\n",
    "$dF_p : T_p N → T_{F(p)} M$ is an isomorphism of vector spaces and $d(F^{-1})_{F(p)}=(dF_p)^{-1}$."
   ]
  },
  {
   "cell_type": "markdown",
   "metadata": {},
   "source": [
    "<br>\n",
    "\n",
    "\n",
    "### The value of the differential of the coordinate map on the local  basis\n",
    "\n",
    "<br>\n",
    "\n",
    "<br>\n",
    "Let $(U,\\phi)=(U,x^1,\\ldots,x^n)$ be a coordinate chart at a point $p$ in a manifold $M$.   By the definition of the differential and the tangent vector $\\frac{\\partial}{\\partial x^i}\\big|_p$<br> \n",
    "$\\displaystyle d\\phi_p\\Big(\\frac{\\partial}{\\partial x^i}\\big|_p\\Big)f=\\frac{\\partial}{\\partial x^i}\\Big|_p(f\\circ\\phi)=D_i\\big|_{\\phi(p)}(f\\circ\\phi\\circ\\phi^{-1})=D_i\\big|_{\\phi(p)}f$. We have checked that\n",
    "$$\\displaystyle d\\phi_p\\Big(\\frac{\\partial}{\\partial x^i}\\big|_p\\Big)\n",
    "=D_i\\big|_{\\phi(p)}.$$\n",
    "Thus the tangent vectors $\\displaystyle \\frac{\\partial}{\\partial x^i}\\big|_p\\ $, ($p\\in U$) are inverse images with respect to  $d\\phi_p$ of the tangent vectors corresponding to the partial derivatives \n",
    "$D_i\\big|_{\\phi(p)}$ . Recall that  $D_i\\big|_{\\phi(p)}$ denote the  usual partial derivatives  in $R^n$ (defined after (8.3))."
   ]
  },
  {
   "cell_type": "markdown",
   "metadata": {},
   "source": [
    "<br>\n",
    "\n",
    "### Matrix representation of the differential\n",
    "\n",
    "<br>\n",
    "\n",
    "For a smooth map $F : M → N$ of manifolds and a point $p ∈ M$,\n",
    "let $(U, x^1 , \\ldots , x^n )$ and $(V, y^1 , \\ldots , y^m )$ be coordinate charts about $p$ in $M$ and $F(p)$ in $N$,\n",
    "respectively. Relative to the bases $\\frac{ ∂ }{∂ x^j} |_p $ for $T_p M$ and $\\frac{ ∂ }{ ∂ y^i} |_{F(p)} $ for $T_{F(p)} N$,\n",
    "the differential $dF_p : T_p M → T_{F(p)} N$ is represented by the Jacobian matrix $$\\displaystyle \\Big[ \\frac{∂ F^i} { ∂ x^j}\\big|_p\\Big],$$\n",
    "\n",
    "where $F^i = y^i ◦ F $ is the $i$-th component of $F$ i.e.,\n",
    "\n",
    "$$dF_p\\big(\\frac{\\partial}{\\partial x_j}\\big|_p\\big)\n",
    "=\\frac{∂ F^i} { ∂ x^j}\\big|_p\\frac{\\partial}{\\partial y^i}\\big|_{F(p)}.\n",
    "$$"
   ]
  },
  {
   "cell_type": "markdown",
   "metadata": {},
   "source": [
    "To check this formula, let us note, that as a linear map, the differential $dF_p$ is is determined by\n",
    "the matrix $a^i_j$ such that\n",
    "$$dF_p\\big(\\frac{\\partial}{\\partial x^j}\\big|_p\\big)\n",
    "=a^k_j \\frac{\\partial}{\\partial y^k}\\big|_{F(p)},\\quad j=1,\\ldots,n.\n",
    "$$\n",
    "Applying both sides to $y^i$ we obtain\n",
    "\n",
    "$$a^i_j=a^k_j\\delta^i_k=\\Big(a^k_j\\frac{\\partial}{\\partial y^k}\\big|_{F(p)}\\Big)y^i=dF_p\\Big( \\frac{\\partial}{\\partial x^j}\\big|_p\\Big)y^i=\\frac{\\partial}{\\partial x^j}\\big|_p(y^i\\circ F)\n",
    "=\\frac{\\partial F^i}{\\partial x^j}\\big|_p.\n",
    "$$"
   ]
  },
  {
   "cell_type": "markdown",
   "metadata": {},
   "source": [
    "<br>\n",
    "\n",
    "**Example 8.3**\n",
    "\n",
    "Consider the map  $\\Phi:R^2\\to R^3$ defined by\n",
    "\n",
    "$$\\Phi(x,y)=(u,v,w)=(x,y,xy).$$\n",
    "\n",
    "For $p=(x,y)$ compute the values $\\ \\ d\\Phi_p(\\frac{\\partial}{\\partial x}\\big|_p\\big)\\ \\ $ and $\\ \\ d\\Phi_p(\\frac{\\partial}{\\partial y}\\big|_p\\big)$."
   ]
  },
  {
   "cell_type": "code",
   "execution_count": null,
   "metadata": {},
   "outputs": [],
   "source": [
    "M = Manifold(2, 'M')             # manifold M\n",
    "X.<x,y> = M.chart()              # coordinates on M\n",
    "N = Manifold(3, 'N')             # manifold N\n",
    "Y.<u,v,w> = N.chart()            # coordinates on N\n",
    "                                 # smooth map Phi: M->N:\n",
    "Phi=M.diff_map(N,{(X,Y):[x,y,x*y]},name='Phi',latex_name=r'\\Phi')    \n",
    "p = M.point((x,y), name='p')     # point p on M\n",
    "dPhip = Phi.differential(p)      # differential of Phi at p\n",
    "print(dPhip)                     # print info on the differential"
   ]
  },
  {
   "cell_type": "code",
   "execution_count": null,
   "metadata": {},
   "outputs": [],
   "source": [
    "Tp=M.tangent_space(p)            # tangent space at p\n",
    "b=Tp.default_basis();b           # basis of Tp\n",
    "                                 # index p is dropped"
   ]
  },
  {
   "cell_type": "markdown",
   "metadata": {},
   "source": [
    "The values of $d\\Phi_p$ on the basis vectors:"
   ]
  },
  {
   "cell_type": "code",
   "execution_count": null,
   "metadata": {},
   "outputs": [],
   "source": [
    "[dPhip(b[0]).disp(),'_______',dPhip(b[1]).disp()]"
   ]
  },
  {
   "cell_type": "markdown",
   "metadata": {},
   "source": [
    "The coefficients in the basis $\\  \\frac{\\partial}{\\partial u},\\  \\frac{\\partial}{\\partial v}, \\   \\frac{\\partial}{\\partial w}\\ \\ $ of the tangent vectors \n",
    "$\\ \\ d\\Phi_p(\\frac{\\partial}{\\partial x}\\big|_p\\big)\\ \\ $ and $\\ \\ d\\Phi_p(\\frac{\\partial}{\\partial y}\\big|_p\\big)$\n",
    "can be found in columns of the Jacobian:"
   ]
  },
  {
   "cell_type": "code",
   "execution_count": null,
   "metadata": {},
   "outputs": [],
   "source": [
    "dPhip.matrix()                  # matrix of dPhi at p"
   ]
  },
  {
   "cell_type": "markdown",
   "metadata": {},
   "source": [
    "<br>\n",
    "\n",
    "**Example 8.4**\n",
    "\n",
    "Let us show how the tangent vectors in $R^2$ are transformed by the map $\\ \\Phi(x,y)=(x,y,1-(x^2+y^2)/4).$\n",
    "\n",
    "First we sketch a tangent  vector $v$ in $R^2$:"
   ]
  },
  {
   "cell_type": "code",
   "execution_count": null,
   "metadata": {},
   "outputs": [],
   "source": [
    "# Tangent vector in  R^2\n",
    "R2 = Manifold(2,'R2')                  # manifold R2\n",
    "ch1.<x,y>=R2.chart()                   # coordinates on R2\n",
    "p = R2((4,-4), name='p')               # p=(4,-4) \"starting point\"\n",
    "Tp = R2.tangent_space(p)               # tangent space at p\n",
    "v = Tp((4, -2), name='v')              # (4,-2) -vector coordinates\n",
    "p1 = v.plot(fontsize=18,label='$v$',   # plot  vector v\n",
    "            arrowsize=2,label_offset=0.7,color='black')\n",
    "p2 = ch1.plot(color='black')           # plot the coordinate lines\n",
    "(p1 + p2).show(figsize=[3,3])          # combine plots"
   ]
  },
  {
   "cell_type": "markdown",
   "metadata": {},
   "source": [
    "To obtain more information on plotting vectors use the command `v.plot?`:"
   ]
  },
  {
   "cell_type": "code",
   "execution_count": null,
   "metadata": {},
   "outputs": [],
   "source": [
    "# v.plot?"
   ]
  },
  {
   "cell_type": "markdown",
   "metadata": {},
   "source": [
    "To show the corresponding tangent vector to the graph of $\\Phi$ we have to define the ambient space $R^3$ which contains the  graph.\n",
    " The corresponding tangent vector  is equal to $d\\Phi_p(v)$."
   ]
  },
  {
   "cell_type": "code",
   "execution_count": null,
   "metadata": {},
   "outputs": [],
   "source": [
    "# Continuation, image of the previous manifold under the map\n",
    "# (x,y) --> (x,y,1-(x^2+y^2)/4)\n",
    "R3 = Manifold(3,'R3')                  # manifold R^3   \n",
    "ch2.<X,Y,Z> = R3.chart()               # coordinates X,Y,Z \n",
    "Phi = R2.diff_map(R3,{(ch1,ch2):[x,y,1-(x^2+y^2)/4]},\n",
    "    name='Phi',latex_name=r'\\Phi')  # define Phi\n",
    "pl=ch1.plot(chart=ch2,mapping=Phi, thickness=1,number_values=9,       \n",
    "    label_axes=False,color='black')    # image of coord. lines x,y\n",
    "pl1=parametric_plot3d([x,y, 1-0.25*(x^2+y^2)],(x,-8,8),(y,-8,8),\n",
    "    color='lightgrey',opacity=0.9)     # plot the image of Phi\n",
    "vpl=v.plot(ch2,mapping=Phi,scale=1,width=6,fontsize=24, label='V',\n",
    "    color='black',label_offset=0.8)    # plot vector V\n",
    "(pl+pl1+vpl).rotateZ(-pi/1.7).show(frame=False,\n",
    "    aspect_ratio=[1,1,0.3])            # combine plots\n",
    "# the rotation allows for better view of the vector V"
   ]
  },
  {
   "cell_type": "markdown",
   "metadata": {},
   "source": [
    "Let us compute the value of the differential $d\\Phi_p$  on the tangent vector $v$."
   ]
  },
  {
   "cell_type": "code",
   "execution_count": null,
   "metadata": {},
   "outputs": [],
   "source": [
    "dPhi = Phi.differential(p)          # differential of Phi at p\n",
    "dPhi(v).disp()                      # show the differential"
   ]
  },
  {
   "cell_type": "markdown",
   "metadata": {},
   "source": [
    "The coordinates (4,-2,-12) of $d\\Phi_p(v)$  can be obtained as a result of multiplication of the Jacobian of $\\Phi$  at $p$ by the vector of components of $v$:"
   ]
  },
  {
   "cell_type": "code",
   "execution_count": null,
   "metadata": {},
   "outputs": [],
   "source": [
    "                           # jacobian in an arbitrary \n",
    "jac=Phi.jacobian_matrix()  # point (x,y)   \n",
    "                           # jacobian at the point p \n",
    "                           # with coordinates (4,-4):\n",
    "jac0=jac.apply_map(lambda u:u.subs({x:4,y:-4}))\n",
    "jac0"
   ]
  },
  {
   "cell_type": "code",
   "execution_count": null,
   "metadata": {},
   "outputs": [],
   "source": [
    "jac0*vector([4,-2])       # jacobian at p times vector([4,-2])"
   ]
  },
  {
   "cell_type": "markdown",
   "metadata": {},
   "source": [
    "<br>\n",
    "\n",
    "**Example 8.5** \n",
    "\n",
    "Let us show a tangent vector in polar coordinates.\n",
    "This time we define the  map by\n",
    "$\\Phi(r,\\phi)=(r\\cos(\\phi),r\\sin(\\phi), 1-r^2/2)$.\n",
    "\n",
    "Its Jacobian is of the form jac=\n",
    "$\\left(\\begin{matrix}\n",
    "\\partial\\Phi_1/\\partial r & \\partial\\Phi_1/\\partial\\phi\\\\\n",
    "\\partial\\Phi_2/\\partial r & \\partial\\Phi_2/\\partial\\phi\\\\\n",
    "\\partial\\Phi_3/\\partial r & \\partial\\Phi_3/\\partial\\phi\n",
    "\\end{matrix}\n",
    "\\right).\n",
    "$"
   ]
  },
  {
   "cell_type": "code",
   "execution_count": null,
   "metadata": {},
   "outputs": [],
   "source": [
    "%display latex\n",
    "R2 = Manifold(2, 'R2')  \n",
    "V = R2.open_subset('V')             # disk in r,ph plane\n",
    "c_rph.<r,ph> = V.chart(r'r:(0,2) ph:(0,2*pi):\\phi') # polar coord.\n",
    "R3 = Manifold(3, 'R^3')             # ambient space R^3\n",
    "c_cart.<x,y,z> = R3.chart()         # Cartesian coord. on R^3 \n",
    "Phi = V.diff_map(R3,                # define Phi:\n",
    "    {(c_rph,c_cart):[r*cos(ph),r*sin(ph),1-r^2/2]},\n",
    "    name='Phi',latex_name=r'\\Phi')"
   ]
  },
  {
   "cell_type": "code",
   "execution_count": null,
   "metadata": {},
   "outputs": [],
   "source": [
    "jac=Phi.jacobian_matrix();jac       # Jacobian of Phi"
   ]
  },
  {
   "cell_type": "markdown",
   "metadata": {},
   "source": [
    "For the point $p$ in the $r,\\phi$ plane with $(r,\\phi)=(1,\\pi/2)$ \n",
    "we define jac0 as the value of jac in $p$.<br> "
   ]
  },
  {
   "cell_type": "code",
   "execution_count": null,
   "metadata": {},
   "outputs": [],
   "source": [
    "jac0=jac.apply_map(lambda x:x.subs({r:1,ph:pi/2}))\n",
    "jac0                               # show Jacobian at p"
   ]
  },
  {
   "cell_type": "markdown",
   "metadata": {},
   "source": [
    "The image of the vector $v$ in the $r,\\phi$ plane with components $(0,1)$ i.e. $ v=0\\frac{\\partial}{\\partial r}+1\\frac{\\partial}{\\partial\\phi}$ is  the vector $d\\Phi|_p(v)$:"
   ]
  },
  {
   "cell_type": "code",
   "execution_count": null,
   "metadata": {},
   "outputs": [],
   "source": [
    "p = V((1,pi/2), name='p')          # point p in V\n",
    "c_cart(Phi(p))                     # coordinates of Phi at p\n",
    "dPhi=Phi.differential(p)           # differential of Phi at p                              \n",
    "Tp = V.tangent_space(p)            # tangent space at p\n",
    "v = Tp((0, 1), name='v')           \n",
    "dPhi(v).disp()"
   ]
  },
  {
   "cell_type": "markdown",
   "metadata": {},
   "source": [
    "Components of this vector can be computed using the jacobian jac0."
   ]
  },
  {
   "cell_type": "code",
   "execution_count": null,
   "metadata": {},
   "outputs": [],
   "source": [
    "jac0*vector([0,1])  # multiply matrix jac0 by the vector [0,1]"
   ]
  },
  {
   "cell_type": "markdown",
   "metadata": {},
   "source": [
    "Since the points of the the tangent plane are of the form:<br> \n",
    "vector(c_cart(Phi(p)))+jac0*vector([r,ph]),<br>\n",
    "we can add the plot of the tangent plane to the surface. "
   ]
  },
  {
   "cell_type": "code",
   "execution_count": null,
   "metadata": {},
   "outputs": [],
   "source": [
    "# plot the image of coordinate lines r,ph under Phi:\n",
    "pl=c_rph.plot(chart=c_cart,mapping=Phi, thickness=2,\n",
    "    number_values=20,label_axes=False,color='black')\n",
    "\n",
    "# plot the image of v under Phi\n",
    "vpl=v.plot(chart=c_cart,mapping=Phi,scale=1.4,width=2,\n",
    "           fontsize=24, label='V',\n",
    "    color='black',label_offset=0.4)         \n",
    "\n",
    "# plot the graph of Phi\n",
    "pl1=parametric_plot3d((r*cos(ph),r*sin(ph), 1-0.5*r^2),\n",
    "                (r,0,2),(ph,0,2*pi),color='darkgrey')\n",
    "\n",
    "# plot the tangent plane at p\n",
    "tpl=parametric_plot3d(vector(c_cart(Phi(p)))+\n",
    "    jac0*vector([r,ph])+jac0*vector([r,ph]),\n",
    "    (r,-0.5,0.5),(ph,-pi/4,pi/4),opacity=0.7,color='lightgrey')\n",
    "\n",
    "# combine plots\n",
    "(pl+vpl+pl1+tpl).rotateZ(pi/8).show(aspect_ratio=[1,1,0.9],\n",
    "                                    frame=False)"
   ]
  },
  {
   "cell_type": "markdown",
   "metadata": {},
   "source": [
    "<br>\n",
    "\n",
    "\n",
    "### Tangent vectors to curves\n",
    "\n",
    "<br>\n",
    "\n",
    "For a **smooth curve** on a Manifold i.e., a smooth map $\\gamma: I\\to M$ we defined (cf. (7.6), [notebook 7](https://nbviewer.org/github/sagemanifolds/IntroToManifolds/blob/main/07Manifold_FunPullb_Curves.ipynb)) the \n",
    "**tangent vector** to $\\gamma$ at $t_0\\in I$ to be\n",
    "\n",
    "\\begin{equation}\n",
    "\\gamma'_{t_0}(f) =\\frac{d}{dt}(\\gamma^*f)\\Big|_{t_0}=\n",
    "\\frac{d}{dt}(f\\circ\\gamma)\\Big|_{t_0}.\n",
    "\\tag{8.9}\n",
    "\\end{equation}"
   ]
  },
  {
   "cell_type": "markdown",
   "metadata": {},
   "source": [
    "<br>\n",
    "\n",
    "### Tangent vectors  to  curves in local coordinates\n",
    "\n",
    "<br>\n",
    "\n",
    "Let $\\gamma: I\\to M$ be a smooth curve and $(U,x^1,\\ldots,x^n)$ be a coordinate chart about $\\gamma(t_0)$. Define $\\gamma^i=x^i\\circ\\gamma:I\\to R$. Then the tangent vector at $t_0$ to the curve $\\gamma$ is given by\n",
    "\n",
    "\\begin{equation}\n",
    "\\gamma'_{t_0}=\\frac{d(x^i\\circ \\gamma)}{dt}\\Big|_{t_0}\\frac{\\partial}{\\partial x^i}\\Big|_{\\gamma(t_0)}=\\frac{d\\gamma^i}{dt}\\Big|_{t_0}\\frac{\\partial}{\\partial x^i}\\Big|_{\\gamma(t_0)}.\n",
    "\\tag{8.10}\n",
    "\\end{equation}\n",
    "\n",
    "To check this relation it suffices to recall, that by (8.5)\n",
    "$\\ \\ \\gamma'_{t_0}=\\gamma'_{t_0}(x^i)\\frac{\\partial}{\\partial x^i}\\Big|_{\\gamma(t_0)}$\n",
    "and by (8.9) $\\ \\ \\gamma'_{t_0}(x^i) = \n",
    "\\frac{d(x^i ◦\\gamma)}{dt}\\Big|_{t_0} .$\n",
    "\n",
    "<br>\n",
    "\n",
    "### All tangent vectors are tangent to some curve\n",
    "\n",
    "<br>\n",
    "\n",
    "Let $M$ be a smooth manifold, $p\\in M$. For any  tangent vector $X_p\\in T_pM$,  there is a curve $\\gamma: I\\to M$ ( $I$ an open interval containing $t_0$) with $\\gamma_{t_0}=p $ and $\\gamma'_{t_0}=X_p.$\n",
    "\n",
    "In fact if $X_p=a^i\\frac{\\partial}{\\partial x^i}\\Big|_p$, define \n",
    "\n",
    "$$\\gamma(t)=\\phi^{-1}(\\phi(p)+(t-t_0)a),$$\n",
    "\n",
    "where $a=(a^1,\\ldots,a^n)$.\n",
    "From this definition and the relation $\\gamma(t_0)=p$ it follows\n",
    "\n",
    "$$\\phi(\\gamma(t))=\\phi(p)+(t-t_0)a, $$ \n",
    "\n",
    "or equivalently\n",
    "\n",
    "$$\\phi(\\gamma(t))-\\phi(p)=(t-t_0)a.$$ \n",
    "\n",
    "Equating $i$-th components we obtain \n",
    "$$x^i(\\gamma(t))-x^i(\\gamma(t_0))=a^i(t-t_0),$$\n",
    "so\n",
    "$$\\gamma'_{t_0}(x^i)=\\lim_{t\\to t_0}\\frac{x^i(\\gamma(t))-x^i(\\gamma(t_0))}{t-t_0}=a^i.$$\n",
    "\n",
    "Thus the tangent vectors $\\gamma'_{t_0}$ and $X_p$ have the same components."
   ]
  },
  {
   "cell_type": "markdown",
   "metadata": {},
   "source": [
    "<br>\n",
    "\n",
    "### Computing differentials using curves\n",
    "\n",
    "<br>\n",
    "\n",
    "Observe that if in the definition of differential: $\\ \\ dF_p(X_p)f=X_p(f\\circ F)\\ \\ $ we replace $dF_p$ by $d\\gamma_0\\ $ and $\\ X_p\\ $ by $\\ \\frac{d}{dt}\\big|_0,\\ $ then we obtain \n",
    "$\\ \\ d\\gamma_0\\big(\\frac{d}{dt}\\big|_0\\big)f=\\frac{d}{dt}\\big|_0(f\\circ\\gamma)=\\gamma'_0(f),$\n",
    "so $$d\\gamma_0(\\frac{d}{dt}\\big|_0)=\\gamma'_0.$$\n"
   ]
  },
  {
   "cell_type": "markdown",
   "metadata": {},
   "source": [
    "The last two observations  give us a useful way of computing differentials $dF_p : T_pM →T_{F(p)}N $. By the first of them, for any $v ∈ T_pM$ we can find a curve $γ : I → M$ with $γ_0 = p$ and $γ'_0 = v$.\n",
    "Then, by the chain rule,\n",
    "$$dF_p(v) = dF_p(γ'_0) = dF_p (dγ_0(\\frac{d}{dt}\\big|_0)) = \n",
    "d(F◦γ)_0 (\\frac{d}{dt}\\big|_0 ) = (F◦γ)'_0.$$"
   ]
  },
  {
   "cell_type": "markdown",
   "metadata": {},
   "source": [
    "Thus\n",
    "the tangent vector to the image of the curve $\\gamma$ under the map $F$ is\n",
    "the image of the tangent vector to $\\gamma$ under $dF$."
   ]
  },
  {
   "cell_type": "markdown",
   "metadata": {},
   "source": [
    "<br>\n",
    "\n",
    "**Example 8.6**\n",
    "\n",
    "Consider the map $\\Phi(x,y)=(x,y,1-(x^2+y^2)/4)$ and two Cartesian coordinate lines, intersecting in a point $p$ with Cartesian coordinates (1,-1). Let $v_x$ and $v_y$ be the tangent vectors to the coordinate lines at $p$."
   ]
  },
  {
   "cell_type": "code",
   "execution_count": null,
   "metadata": {},
   "outputs": [],
   "source": [
    "# unit vectors in R^2 tangent to coordinates lines\n",
    "R2=Manifold(2,'R2')             # manifold R2\n",
    "ch1.<x,y>=R2.chart(r'x:(-2,2) y:(-2,2)')  # coordinates on R2\n",
    "p = R2((1,-1), name='p')        # p=(1,-1) \"starting point\"\n",
    "Tp = R2.tangent_space(p)        # tangent space at p\n",
    "vx = Tp((1, 0), name='v_x') ;   # tangent vector vx at p\n",
    "vy = Tp((0, 1), name='v_y') ;   # tangent vector vy at p\n",
    "px=vx.plot(fontsize=18,label_offset=0.2,       # plot vx\n",
    "    arrowsize=3,color='black')+ch1.plot(color='grey')\n",
    "py=vy.plot(fontsize=18,label_offset=0.2,       # plot vy\n",
    "    arrowsize=2,color='black')+ch1.plot(color='grey')\n",
    "(px+py).show(figsize=[3,3])     # combine plots"
   ]
  },
  {
   "cell_type": "markdown",
   "metadata": {},
   "source": [
    "Now let us show how the tangent vectors are transformed by $d\\Phi_p$.\n",
    "\n",
    "**Remark.**  In 3-d plots in SageMath one can use  unicode characters (we were not able to obtain latex symbols in 3-d plots)."
   ]
  },
  {
   "cell_type": "code",
   "execution_count": null,
   "metadata": {},
   "outputs": [],
   "source": [
    "# example how to obtain \"\\partial\" symbol\n",
    "from sage.typeset.unicode_characters import *\n",
    "print(unicode_partial)"
   ]
  },
  {
   "cell_type": "code",
   "execution_count": null,
   "metadata": {},
   "outputs": [],
   "source": [
    "# continuation, image of the previous manifold under the map \n",
    "# (x,y) --> (x,y,1-(x^2+y^2)/4)\n",
    "R3=Manifold(3,'R3')                         # manifold R3\n",
    "ch2.<X,Y,Z>=R3.chart()                      # coordinates in R3\n",
    "\n",
    "Phi = R2.diff_map(R3,{(ch1,ch2):[x,y, 1 - (x^2+y^2)/4]},\n",
    "    name='Phi',latex_name=r'\\Phi')          # define Phi\n",
    "\n",
    "pl=ch1.plot(chart=ch2,mapping=Phi, thickness=1,number_values=9,\n",
    "    label_axes=False,color='black') # plot image of coord. lines x,y\n",
    "\n",
    "pl1=parametric_plot3d([x,y, 1-0.25*(x^2+y^2)],(x,-2,2),(y,-2,2),\n",
    "    color='lightgrey',opacity=0.9)          # plot graph of Phi\n",
    "\n",
    "vplx=vx.plot(ch2,mapping=Phi,scale=1,width=1,fontsize=20, \n",
    "  label=r'∂/∂X - 1/2 ∂/∂Z',color='black',label_offset=-0.3)        \n",
    "                                            # plot image of vx\n",
    "\n",
    "vply=vy.plot(ch2,mapping=Phi,scale=1,width=1,fontsize=20, \n",
    "   label=r'∂/∂Y + 1/2 ∂/∂Z',color='black',label_offset=0.3)         \n",
    "                                            # plot image of vy\n",
    "\n",
    "(pl+pl1+vplx+vply).rotateZ(-pi/3).show(frame=False,\n",
    "             aspect_ratio=[1,1,1])          # combine plots\n",
    "\n",
    "# images of tangent vectors are tangent \n",
    "# to transformed coordinate lines"
   ]
  },
  {
   "cell_type": "markdown",
   "metadata": {},
   "source": [
    "Now let us do the corresponding calculations.\n",
    "\n",
    "First recall all needed numbers."
   ]
  },
  {
   "cell_type": "code",
   "execution_count": null,
   "metadata": {},
   "outputs": [],
   "source": [
    "# Coordinates in R^2 of p and components of vx, vy\n",
    "print(p.coord(),\"  \",vx.comp()[:],\"  \",vy.comp()[:])"
   ]
  },
  {
   "cell_type": "code",
   "execution_count": null,
   "metadata": {},
   "outputs": [],
   "source": [
    "Phi(p).coord()                     # coordinates of Phi(p)"
   ]
  },
  {
   "cell_type": "code",
   "execution_count": null,
   "metadata": {},
   "outputs": [],
   "source": [
    "jac=Phi.jacobian_matrix(); jac      # Jacobian of dPhi"
   ]
  },
  {
   "cell_type": "code",
   "execution_count": null,
   "metadata": {},
   "outputs": [],
   "source": [
    "jac0=jac.apply_map(lambda u:u.subs({x:1,y:-1}))\n",
    "jac0                               # Jacobian at p"
   ]
  },
  {
   "cell_type": "code",
   "execution_count": null,
   "metadata": {},
   "outputs": [],
   "source": [
    "dPhi=Phi.differential(p)           # differential of Phi at p\n",
    "dPhi(vx).disp()                    # value of dPhi(vx)"
   ]
  },
  {
   "cell_type": "code",
   "execution_count": null,
   "metadata": {},
   "outputs": [],
   "source": [
    "dPhi(vy).disp()                    # value of dPhi(vy)"
   ]
  },
  {
   "cell_type": "markdown",
   "metadata": {},
   "source": [
    "As we can see, the components in the basis $\\  \\frac{\\partial}{\\partial X},\\  \\frac{\\partial}{\\partial Y}, \\   \\frac{\\partial}{\\partial Z}\\ \\ $ of the tangent vectors \n",
    "$\\ \\ d\\Phi_p(\\frac{\\partial}{\\partial x}\\big|_p\\big)\\ \\ $ and $\\ \\ d\\Phi_p(\\frac{\\partial}{\\partial y}\\big|_p\\big)$\n",
    "can be found in columns of the Jacobian at $p$.\n",
    "\n",
    "They can be computed by multiplying the Jacobian at $p$ by the vectors of components of $v_x$ and $v_y$."
   ]
  },
  {
   "cell_type": "code",
   "execution_count": null,
   "metadata": {},
   "outputs": [],
   "source": [
    "jac0*vector([1,0])"
   ]
  },
  {
   "cell_type": "code",
   "execution_count": null,
   "metadata": {},
   "outputs": [],
   "source": [
    "jac0*vector([0,1])"
   ]
  },
  {
   "cell_type": "markdown",
   "metadata": {},
   "source": [
    "<br>\n",
    "\n",
    "### Family of tangents to a curve\n",
    "\n",
    "<br>\n",
    "\n",
    "If we are interested in  tangents to a curve, an easy way to define them is to use the notion of the\n",
    "vector field along the curve (i.e. the map  $t\\to \\gamma'(t)$, $t\\in I$). The more general notion of a vector field will be defined in later notebooks. In the figure below, we use the function `tangent_vector_field` which allows for defining tangent vectors in all points of  curves. Here we restricted ourselves to a selected point of intersection of two curves $c_1, c_2$ and tangent vectors to these curves at that point.\n",
    "\n",
    "<br>\n",
    "\n",
    "**Example 8.7**\n",
    "\n",
    "Let us show how `tangent_vector_field` method can be used to plot\n",
    " tangent vectors to two curves at intersection point."
   ]
  },
  {
   "cell_type": "code",
   "execution_count": null,
   "metadata": {},
   "outputs": [],
   "source": [
    "R2 = Manifold(2, 'R^2')                             # R^2\n",
    "U = R2.open_subset('U')                             # unit disk in R^2\n",
    "c_rph.<r,ph> = U.chart(r'r:(0,1) ph:(0,2*pi):\\phi') # polar coordinates on U\n",
    "R3 = Manifold(3, 'R^3')                             # R^3\n",
    "c_cart.<x,y,z> = R3.chart()                         # Cartesian coord. on R^3\n",
    "Phi = U.diff_map(R3,{(c_rph,c_cart):[r*cos(ph),r*sin(ph), 1-r^2]},   # define Phi\n",
    "name='Phi', latex_name=r'\\Phi')\n",
    "R.<t> = manifolds.RealLine()                             # real line\n",
    "c1 = U.curve([t+sqrt(2)/4,pi/4], (t, -oo, +oo), name=\"\") # user defined curve #1\n",
    "c2 = U.curve([sqrt(2)/4,t+pi/4], (t, -oo, +oo), name=\"\") # user defined curve #2\n",
    "pl=c_rph.plot(chart=c_cart,mapping=Phi, number_values={r:4,ph:2},    \n",
    "    thickness=2,label_axes=False,color='darkgrey')       # coordinate lines\n",
    "pl1=parametric_plot3d([r*cos(ph),r*sin(ph), 1-r^2],(r,0,1),(ph,0,2*pi),\n",
    "    color='lightgrey',opacity=0.9)                       # surface plot\n",
    "cpl1=c1.plot(mapping=Phi, max_range=0.4,color='black',   # plot curve #1\n",
    "    plot_points=200, thickness=3, label_axes=False)\n",
    "cpl2=c2.plot(mapping=Phi, max_range=0.6,color='black',   # plot curve #2\n",
    "    plot_points=200, thickness=3, label_axes=False)                        \n",
    "v1 = c1.tangent_vector_field()                        # tangents to curve #1\n",
    "v2 = c2.tangent_vector_field()                        # tangents to curve #2\n",
    "vp1=v1.at(R(0))                                       # tangent to curve #1 at t=0\n",
    "vp2=v2.at(R(0))                                       # tangent to curve #2 at t=0 \n",
    "pv1=vp1.plot(mapping=Phi,scale=0.5,color='black',arrowsize=1) # plot tang.vector #1\n",
    "pv2=vp2.plot(mapping=Phi,scale=1.5,label_axes=False,\n",
    "             color='black',arrowsize=1)               # plot tangent vector #2\n",
    "(pl+pl1+pv1+pv2+cpl1+cpl2).rotateZ(-pi/7).show(frame=False)   # combine plots"
   ]
  },
  {
   "cell_type": "markdown",
   "metadata": {},
   "source": [
    "## What's next?\n",
    "\n",
    "Take a look at the notebook [Tensors on modules](https://nbviewer.org/github/sagemanifolds/IntroToManifolds/blob/main/09aManifold_Tensors_onModules.ipynb)."
   ]
  }
 ],
 "metadata": {
  "kernelspec": {
   "display_name": "SageMath 9.6",
   "language": "sage",
   "name": "sagemath"
  },
  "language_info": {
   "codemirror_mode": {
    "name": "ipython",
    "version": 3
   },
   "file_extension": ".py",
   "mimetype": "text/x-python",
   "name": "python",
   "nbconvert_exporter": "python",
   "pygments_lexer": "ipython3",
   "version": "3.8.10"
  }
 },
 "nbformat": 4,
 "nbformat_minor": 4
}
