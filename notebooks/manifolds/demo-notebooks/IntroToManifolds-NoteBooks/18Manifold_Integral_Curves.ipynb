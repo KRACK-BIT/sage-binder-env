{
 "cells": [
  {
   "cell_type": "markdown",
   "metadata": {},
   "source": [
    "# 18. Integral curves\n",
    "\n",
    "This notebook is part of the [Introduction to manifolds in SageMath](https://sagemanifolds.obspm.fr/intro_to_manifolds.html) by Andrzej Chrzeszczyk (Jan Kochanowski University of Kielce, Poland)."
   ]
  },
  {
   "cell_type": "code",
   "execution_count": null,
   "metadata": {},
   "outputs": [],
   "source": [
    "version()"
   ]
  },
  {
   "cell_type": "markdown",
   "metadata": {},
   "source": [
    "Let $X$ be a vector field on a smooth manifold  $M$. A curve $\\gamma : I → M$ is an **integral\n",
    "curve of $\\mathbf{X}$** if \n",
    "\n",
    "\\begin{equation}\n",
    "\\displaystyle \\gamma'_t = X_{\\gamma(t)} , \\mbox{ for } t ∈ I.\n",
    "\\tag{18.1}\n",
    "\\end{equation}\n",
    "\n",
    "Let us recall that $\\gamma'_t\\ $ is the tangent vector to $\\gamma$ at $t$ (defined in (8.9)).\n",
    "\n",
    "If $\\gamma(0) = x\\in M$, we say that **the curve $\\gamma$ starts at $x$.**"
   ]
  },
  {
   "cell_type": "markdown",
   "metadata": {},
   "source": [
    "\n",
    "Let ϕ be a one-parameter group of transformations on $M$ (defined in a previous notebook) and let $X$ be its\n",
    "infinitesimal generator.\n",
    "If we put $y = ϕ_{t_0} (x) = ϕ(x, t_0 )$, we get\n",
    "\n",
    "$$ϕ_y (t) = ϕ(y, t) = ϕ(ϕ(x, t_0 ), t) = ϕ(x, t_0 + t) = ϕ_x (t_0 + t).$$\n",
    "\n",
    "The tangent vector to the curve $\\phi_y$ at $t=0$ satisfies\n",
    "$$(ϕ_y )'_0 ( f ) =\\frac{d}{dt}(f (ϕ_y (t)))\\Big|_{t=0}=\n",
    "\\frac{d}{dt}(f (ϕ_x (t+t_0)))\\Big|_{t=0}=\n",
    "\\frac{d}{ds}(f (ϕ_x (s)))\\Big|_{s=t_0}=(ϕ_x)'_{t_0} ( f ),\n",
    "$$<br>\n",
    "for any $f ∈ C^∞ (M)$, and therefore $(ϕ_x )'_{t_0} = (ϕ_y )'_0 = X_y = X_{ ϕ_x (t_0 )}$. \n",
    "\n",
    "We have checked that:<br>\n",
    "if $y = ϕ_x (t_0 )$, for some $t_0 ∈ R$ then $(ϕ_x )'_{t_0} = (ϕ_y )'_0$\n",
    "and, therefore, $(ϕ_x )'_{t_0} = X_{ϕ_x (t_0 )}$ ; that is, **the tangent vector to the curve $ϕ_x$,  at any point\n",
    "    of the curve, coincides with the value of the infinitesimal generator of ϕ at that point.**\n",
    "\n",
    "Thus\n",
    "if $ϕ$ is a one-parameter group of transformations and\n",
    "$X$ is its infinitesimal generator, then **the curve $ϕ_x$ is an integral curve of X that starts at $x$**."
   ]
  },
  {
   "cell_type": "markdown",
   "metadata": {},
   "source": [
    "Let us recall that if $\\phi=(x^1,\\ldots,x^n)$ are local coordinates on a smooth manifold $M$, $\\gamma$ is a smooth curve in $M$, then from (8.10)  it follows\n",
    "$$\\gamma'_t=\\frac{d}{dt}(x^i\\circ\\gamma)\\Big|_t\\frac{\\partial}{\\partial x^i}\\Big|_{\\gamma(t)}.$$\n",
    "\n",
    "Since from $\\ \\ (Xf)(p)=X_p(f)\\ $ we obtain $X(x^i)(\\gamma(t))=X_{\\gamma(t)}(x^i)$, then by (8.5)\n",
    "the right hand side of (18.1) can be written as \n",
    "$$X_{\\gamma(t)} = \n",
    "X_{\\gamma(t)}(x^i)\\frac{∂}{∂ x^i}\\Big|_{\\gamma(t)}=\n",
    "X(x^i)(\\gamma(t))\n",
    "\\frac{∂}{∂ x^i}\\Big|_{\\gamma(t)}=\n",
    "(X^i\\circ\\gamma)(t) \\frac{∂}{∂ x^i}\\Big|_{\\gamma(t)},$$\n",
    "where $X^i=X(x^i).$<br>\n",
    "The last two equations imply, that the integral curves $\\gamma$  of $X$ defined by (18.1) **satisfy   the system of ordinary differential equations**\n",
    "\\begin{equation}\n",
    "\\frac{d}{dt}(x^i\\circ\\gamma)=X^i\\circ\\gamma,\\quad i=1,\\ldots,n.\n",
    "\\tag{18.2}\n",
    "\\end{equation}\n"
   ]
  },
  {
   "cell_type": "markdown",
   "metadata": {},
   "source": [
    "The right-hand side of (18.2) ca be written in the form\n",
    "$$\n",
    "(X^i ◦ \\gamma)(t) = (X^i ◦ φ^{−1} ) φ(\\gamma(t))\\\\\n",
    "= (X^i ◦ φ^{−1} ) (x^1 (\\gamma(t)), . . . , x^n (\\gamma(t)))\\\\\n",
    "= (X^i ◦ φ^{−1} ) ((x^1 ◦ \\gamma)(t),..., (x^n ◦ \\gamma)(t)),\n",
    "$$\n",
    "so (18.2) is equivalent to\n",
    "\\begin{equation}\n",
    "\\frac{d(x^i\\circ\\gamma)}{dt}= (X^i ◦ φ^{−1} )(x^1 ◦ \\gamma, . . . , x^n ◦ \\gamma).\n",
    "\\tag{18.3}\n",
    "\\end{equation}\n",
    "If we put $f^i = X^i ◦ φ^{−1} $ and replace $x^i ◦ \\gamma$ by $x^i$\n",
    "we obtain the simplified form of the system (18.3)\n",
    "\\begin{equation}\n",
    "\\frac{dx^i}{dt}=f^i(x^1,\\ldots,x^n),\\quad i=1,\\ldots,n.\n",
    "\\tag{18.4}\n",
    "\\end{equation}"
   ]
  },
  {
   "cell_type": "markdown",
   "metadata": {},
   "source": [
    "For a smooth vector field $X$, on a smooth manifold $M$, given $x\\in M$ there exist a unique integral curve $\\gamma$ of the vector field $X$ starting at $x$, defined in some interval $I\\subset R$. Define\n",
    "\n",
    "\\begin{equation}\n",
    "\\phi(x,t)=\\gamma(t).\n",
    "\\tag{18.5}\n",
    "\\end{equation}\n",
    "<br>\n",
    "We want to check that **if the integral curves of $X$ are defined for all $t\\in R$, then $\\phi$  is a one-parameter group of transformations**.\n",
    "\n",
    "Consider the curve $\\chi$ defined by \n",
    "$$\\chi(t)=\\gamma(t+s),\\quad s-\\mbox{fixed}.$$\n",
    "The curve $\\chi$ is an integral curve of $X$,  since for $f\\in C^\\infty(M)$\n",
    "\n",
    "$$\\chi'_t(f)=\\frac{d(f\\circ\\chi)}{dt}\\Big|_t\n",
    "=\\lim_{h\\to 0}\\frac{f(\\chi(t+h))-f(\\chi(t))}{h}\\\\\n",
    "=\\lim_{h\\to 0}\\frac{f(\\gamma(t+h+s))-f(\\gamma(t+s))}{h}\n",
    "=\\gamma'_{t+s}(f)=X_{\\gamma(t+s)}(f)=X_{\\chi(t)}(f).\n",
    "$$<br>\n",
    "The curve $\\chi$ starts at $\\chi(0)=\\gamma(s)$ and the curve $\\phi(\\gamma(s),t)$ also starts at  $\\gamma(s)$. By the uniqueness of the integral curves of smooth vector fields we have\n",
    "\n",
    "$$\\chi(t)=\\phi(\\gamma (s),t)=\\phi(\\phi(x,s),t).\n",
    "$$\n",
    "We have also \n",
    "$$\n",
    "\\chi(t)=\\gamma(t+s)=\\phi(x,t+s),\n",
    "$$\n",
    "so\n",
    "\\begin{equation}\n",
    "\\phi(\\phi(x,s),t)=\\phi(x,t+s).\n",
    "\\tag{18.6}\n",
    "\\end{equation}\n",
    "\n",
    "Thus $\\phi$ defines a one-parameter group of transformations."
   ]
  },
  {
   "cell_type": "markdown",
   "metadata": {},
   "source": [
    "<br>\n",
    "\n",
    "**Example 18.1** \n",
    "\n",
    "For $\\ X=y\\frac{\\partial}{\\partial x}+x\\frac{\\partial}{\\partial y}$, the system (18.4) takes the form\n",
    "$$\\frac{dx}{dt}=y,\\quad \\frac{dy}{dt}=x.$$\n",
    "\n",
    "Let us solve the system with Sympy. "
   ]
  },
  {
   "cell_type": "code",
   "execution_count": null,
   "metadata": {},
   "outputs": [],
   "source": [
    "from sympy import *                   # import Sympy\n",
    "init_printing()                       # use latex to output results\n",
    "t,x0,y0 = symbols('t,x0,y0')          # Sympy variables\n",
    "x = Function('x')                     # Sympy function x(t)\n",
    "y = Function('y')                     # Sympy function y(t)\n",
    "ics = {x(0): x0,y(0):y0}              # initial conditions\n",
    "                                      # solve ODE system in Sympy:\n",
    "sol = dsolve([x(t).diff(t)-y(t), y(t).diff(t) -x(t)],ics=ics)\n",
    "import sympy                          # \"sympy\" not defined previously\n",
    "(sol[0].rhs).rewrite(sympy.sin).simplify()  # use Sympy rewrite method\n",
    "                                      # to simplify first component"
   ]
  },
  {
   "cell_type": "markdown",
   "metadata": {},
   "source": [
    "(first component of the solution),"
   ]
  },
  {
   "cell_type": "code",
   "execution_count": null,
   "metadata": {},
   "outputs": [],
   "source": [
    "(sol[1].rhs).rewrite(sympy.sin).simplify()  # do the same for second comp."
   ]
  },
  {
   "cell_type": "markdown",
   "metadata": {},
   "source": [
    "(second component)."
   ]
  },
  {
   "cell_type": "markdown",
   "metadata": {},
   "source": [
    "<br>\n",
    "\n",
    "**Example 18.2**\n",
    "\n",
    "Check, that the integral curves from previous example define one-parameter group of transformations.\n",
    "\n",
    "<br>\n",
    "\n",
    "Let us define the components of the  one-parameter group of transformations $\\phi$ corresponding to the vector field \n",
    "\n",
    "$$X=(𝑥_0\\cosh(𝑡)+𝑦_0\\sinh(𝑡))\\frac{\\partial}{\\partial x}\n",
    "+(𝑥_0\\sinh(𝑡)+𝑦_0\\cosh(𝑡))\\frac{\\partial}{\\partial y}\n",
    "$$\n",
    "\n",
    "from the previous example, using (18.5):"
   ]
  },
  {
   "cell_type": "code",
   "execution_count": null,
   "metadata": {},
   "outputs": [],
   "source": [
    "reset()\n",
    "var('t,s,x,y')                    # symbolic variables\n",
    "                                  # \\phi[Tab] gives the greek letter phi\n",
    "ϕ1(x,y,t)=x*cosh(t) + y*sinh(t)   # define ϕ1\n",
    "ϕ2(x,y,t)=x*sinh(t) + y*cosh(t)   # define ϕ2"
   ]
  },
  {
   "cell_type": "markdown",
   "metadata": {},
   "source": [
    "Now let us compute the difference between the right and left hand sides of the first components of (18.6):"
   ]
  },
  {
   "cell_type": "code",
   "execution_count": null,
   "metadata": {},
   "outputs": [],
   "source": [
    "a1=ϕ1(x,y,t+s).trig_expand().expand()  # right hand side of (18.6) for ϕ1\n",
    "b1=ϕ1(ϕ1(x,y,t),ϕ2(x,y,t),s).expand()  # left hand side of (18.6) for ϕ1\n",
    "a1-b1                                  # rhs-lhs"
   ]
  },
  {
   "cell_type": "markdown",
   "metadata": {},
   "source": [
    "The same for the second components:"
   ]
  },
  {
   "cell_type": "code",
   "execution_count": null,
   "metadata": {},
   "outputs": [],
   "source": [
    "a2=ϕ2(x,y,t+s).trig_expand().expand()  # right hand side of (18.6) for ϕ2\n",
    "b2=ϕ2(ϕ1(x,y,t),ϕ2(x,y,t),s).expand()  # left hand side of (18.6) for ϕ2\n",
    "a2-b2                                  # rhs-lhs"
   ]
  },
  {
   "cell_type": "markdown",
   "metadata": {},
   "source": [
    "We have checked that (18.6) is fulfilled."
   ]
  },
  {
   "cell_type": "markdown",
   "metadata": {},
   "source": [
    "<br>\n",
    "\n",
    "**Example 18.3**\n",
    "\n",
    "For the vector field $\\displaystyle X = x^2 \\frac{∂}{∂ x} + 2x y \\frac{∂}{∂ y}$ the system (18.4) takes the form\n",
    "$$\\frac{dx}{dt}=x^2,\\quad \\frac{dy}{dt}=2xy.$$\n",
    "<br>\n",
    "Solve it.\n"
   ]
  },
  {
   "cell_type": "code",
   "execution_count": null,
   "metadata": {},
   "outputs": [],
   "source": [
    "from sympy import *              # import Sympy\n",
    "x0=symbols('x0')                 # initial value for x in Sympy\n",
    "y0=symbols('y0')                 # initial value for y in Sympy\n",
    "t = symbols('t')                 # symbolic variable t in Sympy\n",
    "x = Function('x')                # function x(t) in Sympy\n",
    "y = Function('y')                # function y(t) in Sympy\n",
    "ics = {x(0): x0,y(0):y0}         # initial conditions\n",
    "                                 # solve ODE system in Sympy:\n",
    "sol = dsolve([x(t).diff(t) - x(t)**2, \n",
    "              y(t).diff(t) - 2*x(t)*y(t)],ics=ics)"
   ]
  },
  {
   "cell_type": "markdown",
   "metadata": {},
   "source": [
    "The system has the following solution:"
   ]
  },
  {
   "cell_type": "code",
   "execution_count": null,
   "metadata": {},
   "outputs": [],
   "source": [
    "init_printing()\n",
    "list(map(simplify,sol))"
   ]
  },
  {
   "cell_type": "markdown",
   "metadata": {},
   "source": [
    "The expression is not defined for $t = 1/x_0$ , and therefore we are not dealing\n",
    "with a one-parameter group of transformations (by definition defined for $t\\in R$), despite the fact that $X$ is smooth."
   ]
  },
  {
   "cell_type": "markdown",
   "metadata": {},
   "source": [
    "<br>\n",
    "\n",
    "**Example 18.4**\n",
    "\n",
    "Show that the integral curve from the previous example defines a local version of \n",
    "one parameter group of transformations $\\phi$  with $t$ in a sufficiently small neighborhood of zero.\n",
    "\n",
    "<br>\n",
    "\n",
    "Define components of $\\phi$:"
   ]
  },
  {
   "cell_type": "code",
   "execution_count": null,
   "metadata": {},
   "outputs": [],
   "source": [
    "reset()\n",
    "var('t,s,x,y')                  # symbolic variables\n",
    "ϕ1(x,y,t)=-x/(t*x - 1)          # define ϕ1\n",
    "ϕ2(x,y,t)=y/(t*x - 1)**2        # define ϕ2"
   ]
  },
  {
   "cell_type": "markdown",
   "metadata": {},
   "source": [
    "next, the right and left hand sides of (18.6):"
   ]
  },
  {
   "cell_type": "code",
   "execution_count": null,
   "metadata": {},
   "outputs": [],
   "source": [
    "a1=ϕ1(x,y,t+s).normalize()     # right hand side of (18.6) for ϕ1\n",
    "b1=ϕ1(ϕ1(x,y,t),ϕ2(x,y,t),s).normalize()  # lhs of (18.6) for ϕ1\n",
    "\n",
    "a2=ϕ2(x,y,t+s).normalize()     # right hand side of (18.6) for ϕ2\n",
    "b2=ϕ2(ϕ1(x,y,t),ϕ2(x,y,t),s).normalize()  # lhs of (18.6) for ϕ2"
   ]
  },
  {
   "cell_type": "markdown",
   "metadata": {},
   "source": [
    "and the differences between the right and left hand sides"
   ]
  },
  {
   "cell_type": "code",
   "execution_count": null,
   "metadata": {},
   "outputs": [],
   "source": [
    "a1-b1,a2-b2                    # lhs - rhs"
   ]
  },
  {
   "cell_type": "markdown",
   "metadata": {},
   "source": [
    "So (18.6) is fulfilled for sufficiently small $t$ and $s$."
   ]
  },
  {
   "cell_type": "markdown",
   "metadata": {},
   "source": [
    "<br>\n",
    "\n",
    "**Example 18.5**\n",
    "\n",
    "For $\\displaystyle X = \\frac{1}{2} (x^2 − y^2 ) \\frac{∂}{∂ x} +\n",
    "x y \\frac{∂}{∂ y}$ on $M = \\{(x, y) ∈ R^2 : y > 0\\}$ we have\n",
    "$$\\frac{dx}{dt}=\\frac{1}{2}(x^2-y^2),\\quad \\frac{dy}{dt}=xy.$$\n",
    "Solve the system.<br><br>\n",
    "\n",
    "The system implies the single differential equation\n",
    "$$\\frac{dy}{dx} = 2x y/(x^2 − y^2 ).$$\n",
    "We can solve this equation with Sympy:"
   ]
  },
  {
   "cell_type": "code",
   "execution_count": null,
   "metadata": {},
   "outputs": [],
   "source": [
    "from sympy import *            # import Sympy\n",
    "init_printing(False)           # we want to copy-paste the result\n",
    "x=symbols('x')                 # Sympy variable x\n",
    "y = Function('y')              # Sympy function y(x)\n",
    "sol = dsolve(y(x).diff(x) -2*x*y(x)/(x**2-y(x)**2))#,ics=ics\n",
    "var('C1')                      # C1 is the constant from solution\n",
    "solve(sol,C1)                  # solve the result with respect to C1"
   ]
  },
  {
   "cell_type": "markdown",
   "metadata": {},
   "source": [
    "The result means that \n",
    "$$C1=\\log(x^2/y+y).$$\n",
    "If we replace $C1$ by $\\log C$, we obtain $$C=x^2/y + y.$$\n",
    "or\n",
    "$$x^2+y^2=Cy,$$\n",
    "so the integral curves are circles centered at $(0,C/2)$ with radius $C/2.$"
   ]
  },
  {
   "cell_type": "markdown",
   "metadata": {},
   "source": [
    "**Example 18.6**\n",
    "\n",
    "Show the integral curves from the previous example."
   ]
  },
  {
   "cell_type": "code",
   "execution_count": null,
   "metadata": {},
   "outputs": [],
   "source": [
    "reset()\n",
    "var('x y')                    # symbolic variables\n",
    "# show curves x^2/y+y=C for 30 values of C selected by the system\n",
    "p=contour_plot(log(x^2/y + y),(x,-8,8),(y,0,16),\n",
    "fill=false,contours=30,linewidths=2)\n",
    "p.show()"
   ]
  },
  {
   "cell_type": "markdown",
   "metadata": {},
   "source": [
    "<br>\n",
    "\n",
    "**Remark.** In many cases  exact solutions of the ODE systems defining the integral curves are not available. In that case one can use  numerical tools."
   ]
  },
  {
   "cell_type": "markdown",
   "metadata": {},
   "source": [
    "<br>\n",
    "\n",
    "**Example 18.6**\n",
    "\n",
    "Using numerical tools find selected integral curve of the vector field from previous example."
   ]
  },
  {
   "cell_type": "code",
   "execution_count": null,
   "metadata": {},
   "outputs": [],
   "source": [
    "x,y,t=var('x y t')\n",
    "# find numerically the integral curve of X=(X1,X2), where\n",
    "# X1=1/2(x^2-y^2),  X2=xy,  passing through  (0.1,0.01)\n",
    "P=desolve_system_rk4([0.5*(x^2-y^2),x*y],[x,y],ics=[0,0.1,0.01],ivar=t,\n",
    "                     end_points=60)\n",
    "Q=[ [j,k] for i,j,k in P]         # list of points of the integral curve\n",
    "LP=list_plot(Q,plotjoined=True,color='grey')   # line through points of Q\n",
    "plot(LP).show(aspect_ratio=1)     # show with the same scale on both axes"
   ]
  },
  {
   "cell_type": "markdown",
   "metadata": {},
   "source": [
    "## What's next?\n",
    "\n",
    "Take a look at the notebook [Lie derivative](https://nbviewer.org/github/sagemanifolds/IntroToManifolds/blob/main/19Manifold_Lie_Derivative.ipynb)."
   ]
  }
 ],
 "metadata": {
  "kernelspec": {
   "display_name": "SageMath 9.6",
   "language": "sage",
   "name": "sagemath"
  },
  "language_info": {
   "codemirror_mode": {
    "name": "ipython",
    "version": 3
   },
   "file_extension": ".py",
   "mimetype": "text/x-python",
   "name": "python",
   "nbconvert_exporter": "python",
   "pygments_lexer": "ipython3",
   "version": "3.8.10"
  }
 },
 "nbformat": 4,
 "nbformat_minor": 4
}
