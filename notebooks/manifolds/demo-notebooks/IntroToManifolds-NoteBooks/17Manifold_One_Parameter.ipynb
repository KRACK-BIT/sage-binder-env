{
 "cells": [
  {
   "cell_type": "markdown",
   "metadata": {},
   "source": [
    "# 17. One-parameter groups of transformations\n",
    "\n",
    "This notebook is part of the [Introduction to manifolds in SageMath](https://sagemanifolds.obspm.fr/intro_to_manifolds.html) by Andrzej Chrzeszczyk (Jan Kochanowski University of Kielce, Poland)."
   ]
  },
  {
   "cell_type": "code",
   "execution_count": null,
   "metadata": {},
   "outputs": [],
   "source": [
    "version()"
   ]
  },
  {
   "cell_type": "markdown",
   "metadata": {},
   "source": [
    "Let $M$ be a smooth manifold. A **one-parameter group of\n",
    "transformations $ϕ$, on $M$** is a smooth map  $\\phi: M × R\\to M$  such that\n",
    "\n",
    "\\begin{equation}\n",
    "ϕ(x, 0) = x,\n",
    "\\label{}\\tag{17.1}\n",
    "\\end{equation}\n",
    "\n",
    "\\begin{equation}\n",
    "ϕ(ϕ(x, t), s) = ϕ(x, t + s)\\quad \\mbox{for all } x ∈ M, \\ t, s ∈ R.\n",
    "\\label{}\\tag{17.2}\n",
    "\\end{equation}"
   ]
  },
  {
   "cell_type": "markdown",
   "metadata": {},
   "source": [
    "If we put $$ϕ_t (x) = ϕ(x, t),$$ \n",
    "\n",
    "then $\\phi_t$, for $t\\in R$ is a smooth map $M\\to M$ and according to (17.2)\n",
    "\n",
    "$$\\displaystyle \\phi_{t+s}(x)=\\phi(x,t+s)=\\phi(\\phi(x,t),s)\\\\=\\phi(\\phi_t(x),s)=\\phi_s(\\phi_t(x))=(\\phi_s\\circ\\phi_t)(x),$$\n",
    "i.e.,\n",
    "\n",
    "\\begin{equation}\n",
    "ϕ_{t+s} = ϕ_s ◦ ϕ_t = ϕ_t ◦ ϕ_s,\n",
    "\\label{}\\tag{17.3}\n",
    "\\end{equation}\n",
    "\n",
    "since $\\ t+s=s+t$.\n",
    "\n",
    "The map $\\phi_0$ is the identity on $M$ since from (17.1) it follows\n",
    "$ϕ_0 (x) = ϕ(x, 0) = x$ for all $x ∈ M$. From (17.3) it follows $ϕ_t ◦ ϕ_{−t} = ϕ_{−t} ◦ ϕ_t = ϕ_0$ , which means that each map $ϕ_t$ has\n",
    "an inverse, $ϕ_{−t}$ , which is also smooth. Therefore, each $ϕ_t$ is a diffeomorphism\n",
    "of $M$ onto itself. Thus, the set of transformations $\\{ϕ_t : t ∈ R\\}$ is an Abelian **group of\n",
    "diffeomorphisms of** $M$ onto $M$, and the map $t → ϕ_t$ is a homomorphism from the\n",
    "additive group of the real numbers into the group of diffeomorphisms of $M$."
   ]
  },
  {
   "cell_type": "markdown",
   "metadata": {},
   "source": [
    "<br>\n",
    "\n",
    "**Example 17.1**"
   ]
  },
  {
   "cell_type": "markdown",
   "metadata": {},
   "source": [
    "Let us check that the formula\n",
    "$$\\phi((x,y,t)=\\frac{(2x,2y\\cos t+(1-x^2-y^2)\\sin t)}{1+x^2+y^2+(1-x^2-y^2)\\cos t-2y\\sin t}$$\n",
    "\n",
    "defines a one-parameter group of transformations i.e., the conditions (17.1), (17.2) are satisfied."
   ]
  },
  {
   "cell_type": "code",
   "execution_count": null,
   "metadata": {},
   "outputs": [],
   "source": [
    "var('t,s,x,y,x0,y0')           # symbolic variables\n",
    "                               # components ϕ1,ϕ2 of ϕ:\n",
    "ϕ1(x,y,t)=2*x/(1+x^2+y^2+(1-x^2-y^2)*cos(t)-2*y*sin(t))\n",
    "ϕ2(x,y,t)=(2*y*cos(t)+(1-x^2-y^2)*sin(t))/(1+x^2+y^2+(1-x^2-y^2)*cos(t)-2*y*sin(t))\n",
    "                               # ϕ=(ϕ1,ϕ2):\n",
    "ϕ(x,y,t)=(ϕ1(x,y,t),ϕ2(x,y,t))"
   ]
  },
  {
   "cell_type": "markdown",
   "metadata": {},
   "source": [
    "First let us check (17.1), i.e. that $ϕ(x,y,t)|_{t=0}=(x,y)$:"
   ]
  },
  {
   "cell_type": "code",
   "execution_count": null,
   "metadata": {},
   "outputs": [],
   "source": [
    "ϕ(x,y,t).subs(t=0)             # substitute t by 0 in ϕ"
   ]
  },
  {
   "cell_type": "markdown",
   "metadata": {},
   "source": [
    "Now check that (17.2) holds for the first component of $ϕ$:"
   ]
  },
  {
   "cell_type": "code",
   "execution_count": null,
   "metadata": {},
   "outputs": [],
   "source": [
    "a1=ϕ1(x,y,t+s).trig_expand()   # first comp. of the right hand side of (17.2)\n",
    "                               # first comp. of the left hand side of (17.2):\n",
    "b1=ϕ1(ϕ1(x,y,t),ϕ2(x,y,t),s).normalize()\n",
    "                               # first component of the difference between\n",
    "                               # the left and right hand side of (17.2) (numerator)\n",
    "c1=(a1-b1).numerator()         # take numerator of a1-b1\n",
    "c1.full_simplify()             # simplify"
   ]
  },
  {
   "cell_type": "markdown",
   "metadata": {},
   "source": [
    "and for the second component of $ϕ$:"
   ]
  },
  {
   "cell_type": "code",
   "execution_count": null,
   "metadata": {},
   "outputs": [],
   "source": [
    "a2=ϕ2(x,y,t+s).trig_expand()  # second component of the right hand side of (17.2)\n",
    "                              # second component of the left hand side of (17.2)\n",
    "b2=ϕ2(ϕ1(x,y,t),ϕ2(x,y,t),s).normalize()\n",
    "                              # second component of the difference between\n",
    "                              # the left and right side of (17.2) (numerator):\n",
    "c2=(a2-b2).numerator()        # take numerator of a2-b2\n",
    "c2.full_simplify()"
   ]
  },
  {
   "cell_type": "markdown",
   "metadata": {},
   "source": [
    "We have checked the condition (17.2)."
   ]
  },
  {
   "cell_type": "markdown",
   "metadata": {},
   "source": [
    "<br>\n",
    "\n",
    "### Infinitesimal generator of $\\phi_t$\n",
    "\n",
    "<br>\n",
    "\n",
    "\n",
    "Each one-parameter group of transformations $ϕ$ on $M$ defines a family of curves\n",
    "in $M$. The map $ϕ_x : R → M$ given by $ϕ_x (t) = ϕ(x, t)$ is a\n",
    "smooth curve in M for each $x ∈ M$. Since $ϕ_x (0) = ϕ(x, 0) = x$, the tangent\n",
    "vector to the curve $ϕ_x$ at $t = 0$ (defined in (8.9)) belongs to $T_x M$. The **infinitesimal generator of** $ϕ$ is\n",
    "the vector field $X$ such that \n",
    "\n",
    "$$X_x = (ϕ_x )'_0.$$ \n",
    "\n",
    "The infinitesimal generator of $ϕ$ is a vector\n",
    "field tangent to the curves generated by the one-parameter group of transformations."
   ]
  },
  {
   "cell_type": "markdown",
   "metadata": {},
   "source": [
    "<br>\n",
    "\n",
    "**Example 17.2**\n",
    "\n",
    "Let us compute the infinitesimal generator $X$ of the one-parameter group $\\phi_t$ from the previous example in Cartesian coordinates of $R^2$."
   ]
  },
  {
   "cell_type": "code",
   "execution_count": null,
   "metadata": {},
   "outputs": [],
   "source": [
    "# continuation                           according to (8.10)\n",
    "# the first component of X is the derivative of ϕ1 w.r. to t\n",
    "X1=diff(ϕ1(x,y,t),t).subs(t=0);X1"
   ]
  },
  {
   "cell_type": "code",
   "execution_count": null,
   "metadata": {},
   "outputs": [],
   "source": [
    "# the second component of X is the derivative of ϕ2 w.r. to t\n",
    "X2=diff(ϕ2(x,y,t),t).subs(t=0);X2"
   ]
  },
  {
   "cell_type": "code",
   "execution_count": null,
   "metadata": {},
   "outputs": [],
   "source": [
    "X2.numerator_denominator()   # numerator and denominator of X2 "
   ]
  },
  {
   "cell_type": "markdown",
   "metadata": {},
   "source": [
    "Thus the infinitesimal generator is \n",
    "$\\ \\ X=xy\\frac{\\partial}{\\partial x}+\\frac{-x^2+y^2+1}{2}\\frac{\\partial}{\\partial y}.$"
   ]
  },
  {
   "cell_type": "markdown",
   "metadata": {},
   "source": [
    "<br>\n",
    "\n",
    "**Example 17.3**\n",
    "\n",
    "Plot  the infinitesimal generator from the previous example."
   ]
  },
  {
   "cell_type": "code",
   "execution_count": null,
   "metadata": {},
   "outputs": [],
   "source": [
    "M = Manifold(2, 'M')                      # manifold M=R^2\n",
    "X.<x,y> = M.chart()                       # Cartesian coordinates \n",
    "X = M.vector_field(x*y,(-x^2+y^2+1)/2, name='v') # vector field  \n",
    "                                          # with components X1,X2\n",
    "p=X.plot(scale=0.2,arrowsize=1.5,number_values={x:10, y:10},   \n",
    "    ranges={x: (0.2,1.7), y: (-0.8,0.8)},color='grey') # plot X\n",
    "p.show(aspect_ratio=1)                    # show plot"
   ]
  },
  {
   "cell_type": "markdown",
   "metadata": {},
   "source": [
    "<br>\n",
    "\n",
    "**Example 17.4**\n",
    "\n",
    "\n",
    "For $ϕ$ from  Example 17.1,\n",
    " plot the curves $\\phi_{(x,y)}$ for some selected points $(x,y)$, where \n",
    "$ϕ_{(x,y)} (t) = ϕ(x,y, t)$. "
   ]
  },
  {
   "cell_type": "code",
   "execution_count": null,
   "metadata": {},
   "outputs": [],
   "source": [
    "var('t,s,x,y,x0,y0')                   # symbolic variables\n",
    "                                       # components ϕ1,ϕ2 of ϕ:\n",
    "ϕ1(x,y,t)=2*x/(1+x^2+y^2+(1-x^2-y^2)*cos(t)-2*y*sin(t))\n",
    "ϕ2(x,y,t)=(2*y*cos(t)+(1-x^2-y^2)*sin(t))/(1+x^2+y^2+(1-x^2-y^2)*cos(t)-2*y*sin(t))                               \n",
    "ϕ(x,y,t)=(ϕ1(x,y,t),ϕ2(x,y,t))         # ϕ=(ϕ1,ϕ2):\n",
    "# plot curves passing through (1,1),(1,1/2),(1,1/3),(1,3/4)\n",
    "s1=[parametric_plot( ϕ(x,y,t).subs({x:1,y:y0}), (t, 0, 2*pi),color='grey') \n",
    " for y0 in [1,1/2,1/3,3/4]]  \n",
    "# plot curves passing through (-1,1),(-1,1/2),(-1,1/3),(-1,3/4)\n",
    "s2=[parametric_plot( ϕ(x,y,t).subs({x:-1,y:y0}), (t, 0, 2*pi),color='grey') \n",
    " for y0 in [1,1/2,1/3,3/4]]\n",
    "sum(s1)+sum(s2)                       # combine plots"
   ]
  },
  {
   "cell_type": "markdown",
   "metadata": {},
   "source": [
    "<br>\n",
    "\n",
    "**Example 17.5**\n",
    "\n",
    "Check that the formulas\n",
    "$$\\left\\{\\begin{matrix}\n",
    "ϕ_1(x,y,t)=x\\cos t-y\\sin t ,\\\\\n",
    "ϕ_2(x,y,t)=x\\sin t +y\\cos t,\n",
    "\\end{matrix}\n",
    "\\right.\n",
    "$$\n",
    "\n",
    "define a one-parameter group of transformations."
   ]
  },
  {
   "cell_type": "code",
   "execution_count": null,
   "metadata": {},
   "outputs": [],
   "source": [
    "forget()\n",
    "var('t,s,x,y')                 # symbolic variables\n",
    "ϕ1(x,y,t)=x*cos(t)-y*sin(t)    # component ϕ1\n",
    "ϕ2(x,y,t)=x*sin(t)+y*cos(t)    # component ϕ2                                \n",
    "a1=ϕ1(x,y,t+s).trig_expand()   # first components of the right\n",
    "b1=ϕ1(ϕ1(x,y,t),ϕ2(x,y,t),s)   # and left hand sides of (17.2)"
   ]
  },
  {
   "cell_type": "code",
   "execution_count": null,
   "metadata": {},
   "outputs": [],
   "source": [
    "c1=(a1-b1)                     # difference between left and right\n",
    "c1.full_simplify()             # sides of (17.2)for the first component"
   ]
  },
  {
   "cell_type": "code",
   "execution_count": null,
   "metadata": {},
   "outputs": [],
   "source": [
    "a2=ϕ2(x,y,t+s).trig_expand()   # second components of the right\n",
    "b2=ϕ2(ϕ1(x,y,t),ϕ2(x,y,t),s)   # and left hand sides of (17.2)"
   ]
  },
  {
   "cell_type": "code",
   "execution_count": null,
   "metadata": {},
   "outputs": [],
   "source": [
    "c2=(a2-b2)                     # difference between left and right\n",
    "c2.full_simplify()             # hand sides for the second component"
   ]
  },
  {
   "cell_type": "markdown",
   "metadata": {},
   "source": [
    "<br>\n",
    "\n",
    "**Example 17.6**\n",
    "\n",
    "Compute components of the infinitesimal  generator $X$ of $\\phi_t$ from the previous example. Plot $X$."
   ]
  },
  {
   "cell_type": "code",
   "execution_count": null,
   "metadata": {},
   "outputs": [],
   "source": [
    "# continuation\n",
    "# the first component of X is the derivative of ϕ1 w.r. to t\n",
    "X1=diff(ϕ1(x,y,t),t).subs(t=0);X1               # cf. (8.10)"
   ]
  },
  {
   "cell_type": "code",
   "execution_count": null,
   "metadata": {},
   "outputs": [],
   "source": [
    "# the second component of X is the derivative of ϕ2 w.r. to t\n",
    "X2=diff(ϕ2(x,y,t),t).subs(t=0);X2"
   ]
  },
  {
   "cell_type": "markdown",
   "metadata": {},
   "source": [
    "Thus $\\ \\ X=-y\\frac{\\partial}{\\partial x}+x\\frac{\\partial}{\\partial y}$"
   ]
  },
  {
   "cell_type": "code",
   "execution_count": null,
   "metadata": {},
   "outputs": [],
   "source": [
    "M = Manifold(2, 'M')                  #  manifold M=R^2\n",
    "X.<x,y> = M.chart()                   # Cartesian coordinates\n",
    "X = M.vector_field(X1,X2, name='v')   # vector field with comp X1,X2\n",
    "p=X.plot(scale=0.3,arrowsize=1.5,number_values={x:10, y:10},\n",
    "    ranges={x: (-1,1), y: (-1,1)},color='grey')    # plot X\n",
    "p.show(aspect_ratio=1)                # show plot"
   ]
  },
  {
   "cell_type": "markdown",
   "metadata": {},
   "source": [
    "<br>\n",
    "\n",
    "**Example 17.7**\n",
    "\n",
    "For $ϕ$ from Example 17.5\n",
    "plot the curves $\\phi_{(x,y)}$ for some selected points $(x,y)$, where \n",
    "$ϕ_{(x,y)} (t) = ϕ(x,y, t)$. "
   ]
  },
  {
   "cell_type": "code",
   "execution_count": null,
   "metadata": {},
   "outputs": [],
   "source": [
    "var('t,s,x,y')                       # symbolic variables\n",
    "ϕ1(x,y,t)=x*cos(t)-y*sin(t)          # component ϕ1\n",
    "ϕ2(x,y,t)=x*sin(t)+y*cos(t)          # component ϕ2                                \n",
    "ϕ(x,y,t)=(ϕ1(x,y,t),ϕ2(x,y,t))       # define ϕ=(ϕ1,ϕ2)\n",
    "# plot curves passing through (1,1),(1,1/2),(1,3/2),(1,2)\n",
    "s1=[parametric_plot( ϕ(x,y,t).subs({x:1,y:y0}), (t, 0, 2*pi),color='grey') \n",
    " for y0 in [1,1/2,3/2,2]]\n",
    "sum(s1)                              # combine plots"
   ]
  },
  {
   "cell_type": "markdown",
   "metadata": {},
   "source": [
    "<br>\n",
    "\n",
    "**Example 17.8**\n",
    "\n",
    "Consider $ϕ=(ϕ_1,ϕ_2)$ defined by\n",
    "$$\\left\\{\\begin{matrix}\n",
    "ϕ_1(x,y,t)=x+at,\\\\\n",
    "ϕ_2(x,y,t)=y+bt,\n",
    "\\end{matrix}\n",
    "\\right.\n",
    "$$\n",
    "\n",
    "for fixed $a,b\\in R$. Show that $ϕ$ defines a one-parametric group of transformations."
   ]
  },
  {
   "cell_type": "code",
   "execution_count": null,
   "metadata": {},
   "outputs": [],
   "source": [
    "forget()\n",
    "var('t,s,x,y,a,b')                      # symbolic variables\n",
    "ϕ1(x,y,t)=x+a*t                         # define ϕ1\n",
    "ϕ2(x,y,t)=y+b*t                         # define ϕ2"
   ]
  },
  {
   "cell_type": "code",
   "execution_count": null,
   "metadata": {},
   "outputs": [],
   "source": [
    "a1=ϕ1(x,y,t+s).expand()                 # right hand side of (17.2) for ϕ1\n",
    "b1=ϕ1(ϕ1(x,y,t),ϕ2(x,y,t),s).expand()   # left hand side of (17.2) for ϕ1"
   ]
  },
  {
   "cell_type": "code",
   "execution_count": null,
   "metadata": {},
   "outputs": [],
   "source": [
    "c1=(a1-b1)                              # difference between lhs and rhs\n",
    "c1.full_simplify()                      # simplification"
   ]
  },
  {
   "cell_type": "code",
   "execution_count": null,
   "metadata": {},
   "outputs": [],
   "source": [
    "a2=ϕ2(x,y,t+s).expand()                # right hand side of (17.2) for ϕ2\n",
    "b2=ϕ2(ϕ1(x,y,t),ϕ2(x,y,t),s).expand()  # left hand side of (17.2) for ϕ2"
   ]
  },
  {
   "cell_type": "code",
   "execution_count": null,
   "metadata": {},
   "outputs": [],
   "source": [
    "c2=(a2-b2)                             # difference between lhs and rhs\n",
    "c2.full_simplify()                     # simplification"
   ]
  },
  {
   "cell_type": "markdown",
   "metadata": {},
   "source": [
    "<br>\n",
    "\n",
    "**Example 17.9**\n",
    "\n",
    "Compute components of the infinitesimal  generator $X$ of $\\phi_t$ from the previous example for $a=1,\\ b=2$."
   ]
  },
  {
   "cell_type": "code",
   "execution_count": null,
   "metadata": {},
   "outputs": [],
   "source": [
    "# continuation\n",
    "# the first component of X is the derivative of ϕ1 w.r. to t\n",
    "X1=diff(x+t,t).subs({t:0});\n",
    "X1"
   ]
  },
  {
   "cell_type": "code",
   "execution_count": null,
   "metadata": {},
   "outputs": [],
   "source": [
    "# the second component of X is the derivative of ϕ2 w.r. to t\n",
    "X2=diff(y+2*t,t).subs(t=0);X2"
   ]
  },
  {
   "cell_type": "markdown",
   "metadata": {},
   "source": [
    "Thus $\\ \\ X=\\frac{\\partial}{\\partial x}+2\\frac{\\partial}{\\partial y}.$\n",
    "\n",
    "\n",
    "<br>\n",
    "\n",
    "**Example 17.10**\n",
    "\n",
    "Plot the vector field $X$ from the previous example."
   ]
  },
  {
   "cell_type": "code",
   "execution_count": null,
   "metadata": {},
   "outputs": [],
   "source": [
    "M = Manifold(2, 'M')                    # manifold M\n",
    "X.<x,y> = M.chart()                     # Cartesian coordinates\n",
    "X = M.vector_field(1,2, name='v')       # vector field X\n",
    "p=X.plot(scale=0.1,arrowsize=1.5,number_values={x:6, y:6},\n",
    "    ranges={x: (-1,1), y: (-1,1)},color='grey')    # plot X\n",
    "p.show(aspect_ratio=1)                  # show plot"
   ]
  },
  {
   "cell_type": "markdown",
   "metadata": {},
   "source": [
    "<br>\n",
    "\n",
    "**Example 17.11**\n",
    "\n",
    "For $ϕ$ from  Example 17.8\n",
    "plot the curves $\\phi_{(x,y)}$ for some selected points $(x,y)$, where \n",
    "$ϕ_{(x,y)} (t) = ϕ(x,y, t)$. "
   ]
  },
  {
   "cell_type": "code",
   "execution_count": null,
   "metadata": {},
   "outputs": [],
   "source": [
    "# continuation of Example 17.8\n",
    "# selected curves ϕ_(x,y) \n",
    "ϕ(x,y,t)=(ϕ1(x,y,t).subs(a=1),ϕ2(x,y,t).subs(b=2))   # a=1, b=2\n",
    "s1=[parametric_plot( ϕ(x,y,t).subs({x:1,y:y0}), \n",
    "                    (t,-5,5),ymax=5,ymin=-5,color='grey') \n",
    " for y0 in range(-15,15)]                # x=1,y=-15,-14,...,14\n",
    "sum(s1).show(aspect_ratio=1)             # combine plots"
   ]
  },
  {
   "cell_type": "markdown",
   "metadata": {},
   "source": [
    "<br>\n",
    "\n",
    "**Example 17.12**\n",
    "\n",
    "Consider $ϕ=(ϕ_1,ϕ_2)$ defined by\n",
    "$$\\left\\{\\begin{matrix}\n",
    "ϕ_1(x,y,t)=x\\exp(at),\\\\\n",
    "ϕ_2(x,y,t)=y\\exp(bt),\n",
    "\\end{matrix}\n",
    "\\right.\n",
    "$$\n",
    "\n",
    "for fixed $a,b\\in R$. Show that $ϕ$ defines a one-parameter group of transformations."
   ]
  },
  {
   "cell_type": "code",
   "execution_count": null,
   "metadata": {},
   "outputs": [],
   "source": [
    "var('t,s,x,y,a,b')                     # symbolic variables\n",
    "ϕ1(x,y,t)=exp(a*t)*x                   # define ϕ1\n",
    "ϕ2(x,y,t)=exp(b*t)*y                   # define ϕ2\n",
    "\n",
    "a1=ϕ1(x,y,t+s).expand()                # right hand side of (17.2) for ϕ1\n",
    "b1=ϕ1(ϕ1(x,y,t),ϕ2(x,y,t),s).expand()  # left hand side of (17.2) for ϕ1\n",
    "\n",
    "c1=(a1-b1)                             # difference between lhs and rhs\n",
    "c1.full_simplify()                     # simplification"
   ]
  },
  {
   "cell_type": "code",
   "execution_count": null,
   "metadata": {},
   "outputs": [],
   "source": [
    "a2=ϕ2(x,y,t+s).expand()                # right hand side of (17.2) for ϕ2\n",
    "b2=ϕ2(ϕ1(x,y,t),ϕ2(x,y,t),s).expand()  # left hand side of (17.2) for ϕ2"
   ]
  },
  {
   "cell_type": "code",
   "execution_count": null,
   "metadata": {},
   "outputs": [],
   "source": [
    "c2=(a2-b2)                             # difference between lhs and rhs\n",
    "c2.full_simplify()                     # simplification"
   ]
  },
  {
   "cell_type": "markdown",
   "metadata": {},
   "source": [
    "<br>\n",
    "\n",
    "**Example 17.13**\n",
    "\n",
    "Compute components of the infinitesimal  generator $X$ of $\\phi_t$ from the previous example for $a=1,\\ b=2$."
   ]
  },
  {
   "cell_type": "code",
   "execution_count": null,
   "metadata": {},
   "outputs": [],
   "source": [
    "# first component of X is the derivative of ϕ1 w.r. to t\n",
    "X1=diff(exp(t)*x,t).subs({t:0});             # cf. (8.10)\n",
    "X1"
   ]
  },
  {
   "cell_type": "code",
   "execution_count": null,
   "metadata": {},
   "outputs": [],
   "source": [
    "# second component of X is the derivative of ϕ2 w.r. to t\n",
    "X2=diff(exp(2*t)*y,t).subs({t:0});\n",
    "X2"
   ]
  },
  {
   "cell_type": "markdown",
   "metadata": {},
   "source": [
    "Thus $\\ \\ X=x\\frac{\\partial}{\\partial x}+2y\\frac{\\partial}{\\partial y}.$\n",
    "\n",
    "<br>\n",
    "\n",
    "**Example 17.14**\n",
    "\n",
    "Plot the vector field $X$ from the previous example."
   ]
  },
  {
   "cell_type": "code",
   "execution_count": null,
   "metadata": {},
   "outputs": [],
   "source": [
    "M = Manifold(2, 'M')                      # manifold M=R^2\n",
    "X.<x,y> = M.chart()                       # Cartesian coordinates\n",
    "X = M.vector_field(x,2*y, name='v')       # vector field X\n",
    "p=X.plot(scale=0.1,arrowsize=1.5,number_values={x:6, y:6},\n",
    "    ranges={x: (0.1,3), y: (-3,3)},color='grey')    # plot X\n",
    "p.show(aspect_ratio=0.3)                  # show plot"
   ]
  },
  {
   "cell_type": "markdown",
   "metadata": {},
   "source": [
    "<br>\n",
    "\n",
    "**Example 17.15**\n",
    "\n",
    "For $ϕ$ from  Example 17.12\n",
    "plot the curves $\\phi_{(x,y)}$ for some selected points $(x,y)$, where \n",
    "$ϕ_{(x,y)} (t) = ϕ(x,y, t)$. "
   ]
  },
  {
   "cell_type": "code",
   "execution_count": null,
   "metadata": {},
   "outputs": [],
   "source": [
    "ϕ(x,y,t)=(exp(t)*x,exp(2*t)*y)                    # define ϕ\n",
    "# plot curves passing through (1,y0), for y0 in [-5,...,4]\n",
    "s1=[parametric_plot( ϕ(x,y,t).subs({x:1,y:y0}), (t, -0.5,0.5 ),\n",
    "    color='grey',ymax=3,ymin=-3,aspect_ratio=0.15) \n",
    "        for y0 in range(-5,5)]         # x=1, y=-5,-4,...,4\n",
    "sum(s1)                                # combine plots"
   ]
  },
  {
   "cell_type": "markdown",
   "metadata": {},
   "source": [
    "## What's next?\n",
    "\n",
    "Take a look at the notebook [Integral curves](https://nbviewer.org/github/sagemanifolds/IntroToManifolds/blob/main/18Manifold_Integral_Curves.ipynb)."
   ]
  }
 ],
 "metadata": {
  "kernelspec": {
   "display_name": "SageMath 9.6",
   "language": "sage",
   "name": "sagemath"
  },
  "language_info": {
   "codemirror_mode": {
    "name": "ipython",
    "version": 3
   },
   "file_extension": ".py",
   "mimetype": "text/x-python",
   "name": "python",
   "nbconvert_exporter": "python",
   "pygments_lexer": "ipython3",
   "version": "3.8.10"
  }
 },
 "nbformat": 4,
 "nbformat_minor": 4
}
