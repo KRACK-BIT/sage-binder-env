{
 "cells": [
  {
   "cell_type": "markdown",
   "metadata": {},
   "source": [
    "# 15. Pulback of tensor fields\n",
    "\n",
    "This notebook is part of the [Introduction to manifolds in SageMath](https://sagemanifolds.obspm.fr/intro_to_manifolds.html) by Andrzej Chrzeszczyk (Jan Kochanowski University of Kielce, Poland)."
   ]
  },
  {
   "cell_type": "code",
   "execution_count": null,
   "metadata": {},
   "outputs": [],
   "source": [
    "version()"
   ]
  },
  {
   "cell_type": "markdown",
   "metadata": {},
   "source": [
    "Recall from [notebook 7](https://nbviewer.org/github/sagemanifolds/IntroToManifolds/blob/main/07Manifold_FunPullb_Curves.ipynb), that every smooth map between two smooth manifolds $\\psi : M → N$  defines a pullback map $\\psi^* : C^∞ (N ) → C^∞ (M )$\n",
    "by\n",
    "\n",
    "$$\n",
    "\\psi^∗ f = f ◦ \\psi\\quad \\mbox{ for any } f ∈ C^∞ (N ).$$"
   ]
  },
  {
   "cell_type": "markdown",
   "metadata": {},
   "source": [
    "<br>\n",
    "\n",
    "**Example 15.1**\n",
    "\n",
    "If we denote by $\\psi$ the coordinate change defined by\n",
    "$x=r\\cos(\\phi),\\; y=r\\sin(\\phi)$  on the open set $U=\\{(r,\\phi): r>0, 0<\\phi <2\\pi \\},$ then for a scalar function $f$ of variables $x,y,$ the pullback\n",
    "$\\psi^*f$ is the function $(r,\\phi)\\to f(r\\cos(\\phi),r\\sin(\\phi))$, defined on $U$.\n",
    "\n",
    "In the special case $f(x,y)=\\sqrt{x^2+y^2}$, the pullback \n",
    "$\\psi^*f$ is the function on $U$: $(r,\\phi)\\to r.$"
   ]
  },
  {
   "cell_type": "code",
   "execution_count": null,
   "metadata": {},
   "outputs": [],
   "source": [
    "%display latex\n",
    "M = Manifold(2, 'R^2p')   # manifold R^2\n",
    "U = M.open_subset('U')    # open subset of R2, \n",
    "                          # polar coord. on U: \n",
    "c_rphi.<r,phi>=U.chart(r'r:(0,oo) phi:(0,2*pi):\\phi')\n",
    "N = Manifold(2, 'R^2c')   # second copy of R^2                         \n",
    "c_xy.<x,y> = N.chart()    # Cartesian coordinates:\n",
    "                          # psi: M --> N : polar to Cart.:\n",
    "psi = U.diff_map(N, (r*cos(phi), r*sin(phi)),name=r'\\psi')\n",
    "                          # f -scalar function on N \n",
    "f=N.scalar_field(sqrt(x^2+y^2),name='f') \n",
    "\n",
    "fplb=psi.pullback(f)      # psi^*f -scalar func. on M\n",
    "fplb.disp()               # show pullback psi^*f"
   ]
  },
  {
   "cell_type": "markdown",
   "metadata": {},
   "source": [
    "<br>\n",
    "\n",
    "### Pullback of covariant tensor fields\n",
    "\n",
    "<br>\n",
    "\n",
    "If $\\psi: M\\to N$ is a smooth map between smooth manifolds, one  can extend the pullback operation   to a map  $\\psi^∗ : T^{(0,k)}N  → T^{(0,k)}M $  by\n",
    "\n",
    "\\begin{equation}\n",
    "(ψ^∗ t)_p (u_{1p} , . . . , u_{kp} ) = t_{ψ( p)} (dψ_p u_{1p} , . . . , dψ_p u_{kp} ),\n",
    "\\label{}\\tag{15.1}\n",
    "\\end{equation}\n",
    "\n",
    "for $u_{1p} , . . . , u_{kp} ∈ T_p M,\\ \\  p ∈ M.$\n",
    "From the linearity of $d\\psi_p$ it follows the multilinearity of $(\\psi^*t)_p$.\n",
    "\n",
    "If $f ∈ C^∞ (N )$, then the differential $d f$ of $f$    is a tensor field of type $(0,1)$,\n",
    "consequently from (15.1) it follows\n",
    "\n",
    "$$(ψ^∗ d f )_p (v_p ) = d f_{ψ( p)} (dψ_p v_p ),$$\n",
    "\n",
    "for $v_p ∈ T_p M.$<br>  From the definitions of $df$ and $d\\psi$  we have\n",
    "\n",
    "$$d f_{ ψ( p)} (dψ_p v_p ) = dψ_p v_p ( f ) = v_p (ψ^∗ f ) = d(ψ^*f )_p (v_p ).$$\n",
    "\n",
    "We have checked that for a smooth map $\\ \\psi : M → N\\ $  and $\\ f\\in C^∞ (N )$\n",
    "\n",
    "\\begin{equation}\n",
    "ψ^∗ d f = d(ψ^∗ f ).\n",
    "\\label{}\\tag{15.2}\n",
    "\\end{equation}"
   ]
  },
  {
   "cell_type": "markdown",
   "metadata": {},
   "source": [
    "<br>\n",
    "\n",
    "**Example 15.2**\n",
    "\n",
    "Compute the pullback of differential of  the scalar function from Example 15.1.\n",
    "\n",
    "First we compute the left hand side of (15.2):"
   ]
  },
  {
   "cell_type": "code",
   "execution_count": null,
   "metadata": {},
   "outputs": [],
   "source": [
    "# continuation\n",
    "df=f.differential()          # differential of f\n",
    "dfplb=psi.pullback(df)       # pullback psi^*df\n",
    "dfplb.disp(basis=c_rphi)     # display in polar coordinates"
   ]
  },
  {
   "cell_type": "markdown",
   "metadata": {},
   "source": [
    "Here is the right hand side of (15.2):"
   ]
  },
  {
   "cell_type": "code",
   "execution_count": null,
   "metadata": {},
   "outputs": [],
   "source": [
    "fplb.differential().disp()  # d(psi^*f)"
   ]
  },
  {
   "cell_type": "markdown",
   "metadata": {},
   "source": [
    "<br>\n",
    "\n",
    "**Example 15.3**\n",
    "\n",
    "Compute pullback of a scalar function and its differential for  general mapping between two-dimensional manifolds $M$ and $N$\n",
    "\n",
    "$$\\psi: M \\to N,\\quad \\psi(u,v)=\n",
    "(\\psi_1(u,v),\\psi_2(u,v)).\n",
    "$$\n"
   ]
  },
  {
   "cell_type": "code",
   "execution_count": null,
   "metadata": {},
   "outputs": [],
   "source": [
    "%display latex\n",
    "M = Manifold(2, r'R^2_{uv}')  # manifold M\n",
    "c_uv.<u,v>=M.chart()          # coordinates u,v\n",
    "N = Manifold(2, r'R^2_{xy}')  # manifold N\n",
    "c_xy.<x,y> = N.chart()        # coordinates x,y\n",
    "                              # first component of psi\n",
    "psi1=M.scalar_field(function('psi1')(u,v),name=r'\\psi1')\n",
    "                              # second component of psi\n",
    "psi2=M.scalar_field(function('psi2')(u,v),name=r'\\psi2') \n",
    "                              # define psi\n",
    "psi = M.diff_map(N,(psi1.expr(),psi2.expr()) ,name=r'\\psi')\n",
    "                              # scalar function f\n",
    "f=N.scalar_field(function('f')(x,y),name='f') \n",
    "fplb=psi.pullback(f)          # pullback psi^*f\n",
    "fplb.disp()                   # show pullback psi^*f"
   ]
  },
  {
   "cell_type": "code",
   "execution_count": null,
   "metadata": {},
   "outputs": [],
   "source": [
    "fplb.differential().disp()   # d(psi^*f)"
   ]
  },
  {
   "cell_type": "code",
   "execution_count": null,
   "metadata": {},
   "outputs": [],
   "source": [
    "df=f.differential()          # df\n",
    "dfplb=psi.pullback(df)       # psi^*(df)\n",
    "dfplb.disp()                 # show pullback of df"
   ]
  },
  {
   "cell_type": "markdown",
   "metadata": {},
   "source": [
    "<br>\n",
    "\n",
    "**Example 15.4**\n",
    "\n",
    "Compute the pullback of 1-form  $\\ \\ 𝛼=𝑎_0(𝑥,𝑦)d𝑥+𝑎_1(𝑥,𝑦)d𝑦\\ $ under the map $\\psi$ from the previous example."
   ]
  },
  {
   "cell_type": "code",
   "execution_count": null,
   "metadata": {},
   "outputs": [],
   "source": [
    "%display latex\n",
    "M = Manifold(2, r'R^2_{uv}')  # manifold M\n",
    "c_uv.<u,v>=M.chart()          # coordinates u,v\n",
    "N = Manifold(2, r'R^2_{xy}')  # manifold N\n",
    "c_xy.<x,y> = N.chart()        # coordinates x,y\n",
    "                              # first component of psi\n",
    "psi1=M.scalar_field(function('psi1')(u,v),name=r'\\psi1')\n",
    "                              # second component of psi\n",
    "psi2=M.scalar_field(function('psi2')(u,v),name=r'\\psi2') \n",
    "                              # define psi\n",
    "psi = M.diff_map(N,(psi1.expr(),psi2.expr()) ,name=r'\\psi')\n",
    "                              # scalar function f\n",
    "f=N.scalar_field(function('f')(x,y),name='f') \n",
    "\n",
    "al=N.diff_form(1,name=r'\\alpha')       # 1-form al\n",
    "astr=['a'+str(i) for i in range(2)]    # list of comp. names\n",
    "af=[N.scalar_field(function(astr[i])(x,y),name=astr[i]) \n",
    "         for i in range(2)]            # list of components\n",
    "al[:]=af                               # define all components\n",
    "al.disp()                              # show al"
   ]
  },
  {
   "cell_type": "code",
   "execution_count": null,
   "metadata": {},
   "outputs": [],
   "source": [
    "Manifold.options.omit_function_arguments=False\n",
    "alplb=psi.pullback(al)                 # pullback psi^*al\n",
    "alplb.disp()                           # show pullback of al"
   ]
  },
  {
   "cell_type": "markdown",
   "metadata": {},
   "source": [
    "Shorter result can be obtained omitting functions arguments."
   ]
  },
  {
   "cell_type": "code",
   "execution_count": null,
   "metadata": {},
   "outputs": [],
   "source": [
    "Manifold.options.omit_function_arguments=True\n",
    "alplb.disp()"
   ]
  },
  {
   "cell_type": "markdown",
   "metadata": {},
   "source": [
    "<br>\n",
    "\n",
    "**Example 15.5**\n",
    "\n",
    "Compute the pullback of a tensor field of (0,2)-type  \n",
    "$f_{00}(𝑥,𝑦)d𝑥⊗d𝑥+𝑓_{01}(𝑥,𝑦)d𝑥⊗d𝑦+𝑓_{10}(𝑥,𝑦)d𝑦⊗d𝑥+𝑓_{11}(𝑥,𝑦)d𝑦⊗d𝑦\\ \\ $\n",
    "on a two dimensional manifold under $\\psi$ from Example 15.3."
   ]
  },
  {
   "cell_type": "code",
   "execution_count": null,
   "metadata": {},
   "outputs": [],
   "source": [
    "# continuation\n",
    "t = N.tensor_field(0,2, name='t')  # tensor field t of type (0,2)\n",
    "                                   # list of component names:\n",
    "def fn(i,j): return 'f'+str(i)+str(j) \n",
    "                                   # list of component functions:\n",
    "f=[[N.scalar_field(function(fn(j,k))(x,y),name=fn(j,k)) \n",
    "     for k in range(2)] for j in range(2)]\n",
    "t[:]=f                             # define all components of t\n",
    "t.disp()                           # show t"
   ]
  },
  {
   "cell_type": "code",
   "execution_count": null,
   "metadata": {},
   "outputs": [],
   "source": [
    "Manifold.options.omit_function_arguments=True\n",
    "tplb=psi.pullback(t)               # pullback psi^*t\n",
    "tplb.display_comp()                # show pullback components"
   ]
  },
  {
   "cell_type": "markdown",
   "metadata": {},
   "source": [
    "<br>\n",
    "\n",
    "### Basic properties of pullback\n",
    "\n",
    "<br>"
   ]
  },
  {
   "cell_type": "markdown",
   "metadata": {},
   "source": [
    "For  a smooth map $\\psi: M \\to N,\\ $ tensor fields $t$ and $s$ on $N$ of type\n",
    "$( 0,k)$  and  constants $a,b\\in R\\ $ we have\n",
    "\n",
    "$$\n",
    "(ψ^*(at + bs))_p (u_{1p} , . . . , u_{kp} ) = (at + bs)_{ψ( p)}\n",
    "(dψ_p u_{1p} , . . . , dψ_p u_{kp} )\\\\\n",
    "= (at_{ψ( p)} + bs_{ψ( p)} )(dψ_p u_{1p} , . . . , dψ_p u_{kp} )\\\\\n",
    "= at_{ψ( p)} (dψ_p u_{1p} , . . . , dψ_p u_{kp} )\n",
    "+ bs_{ψ( p)} (dψ_p u_{1p} , . . . , dψ_p u_{kp} )\\\\\n",
    "= a(ψ^∗ t)_p (u_{1p} , . . . , u_{kp} ) + b(ψ^∗ s)_p (u_{1p} , . . . , u_{kp} )\\\\\n",
    "= (aψ^∗ t + bψ^∗ s)_p (u_p , . . . , w_p ),$$\n",
    "\n",
    "for $u_{1p} , . . . , u_{kp} ∈ T_p M$. Therefore we have the following linearity result.\n",
    "\n",
    "Let $ψ : M → N$ be a  smooth\n",
    "map.\n",
    "If $t$ and $s$ are tensor fields of type\n",
    "$( 0,k)$ on $N$ and $a, b ∈ R$, then\n",
    "\n",
    "\\begin{equation}\n",
    "ψ^∗ (at + bs) = aψ^∗ t + bψ^∗ s.\n",
    "\\label{}\\tag{15.3}\n",
    "\\end{equation}<br>\n",
    "\n",
    "For $\\psi\\ $ as before, $f\\in C^\\infty(N)\\ $ and $t\\in T^{(0.k)}N$, we have\n",
    "\n",
    "$$\n",
    "(ψ^∗ ( f t)_p (u_{1p} , . . . , u_{kp} ) = \n",
    "( f t)_{ψ( p)} (dψ_p u_{1p} , . . . , dψ_p u_{kp} )\\\\\n",
    "= f( ψ( p)) t_{ψ( p)} (dψ_p u_{1p} , . . . , dψ_p u_{kp} )\n",
    "= (ψ^∗ f )( p) (ψ^∗ t)_p (u_{1p} , . . . , u_{kp} )\n",
    "=((ψ^∗ f )(ψ^∗ t))_p (u_{1p} , . . . , u_{kp} ).\n",
    "$$\n",
    "Thus\n",
    "\\begin{equation}\n",
    "ψ^∗ ( f t) = (ψ^∗ f )(ψ^∗ t).\n",
    "\\label{}\\tag{15.4}\n",
    "\\end{equation}\n",
    "<br>\n",
    "\n",
    "If $\\psi:M\\to N\\ $ is smooth, $t$ and $s$ are tensor fields on $N$ of types\n",
    "$(0,k)$\n",
    "and $(0,l)$ respectively,\n",
    "  we have\n",
    "\n",
    "$$\n",
    "ψ^*(t ⊗ s)_p(u_{1p},...,u_{(k+l)p}) = (t ⊗ s)_{ψ( p)} (dψ_p u_{1p} , . . . , dψ_p u_{(k+l)p} )\\\\\n",
    "= t_{ψ( p)} (dψ_p u_{1p} , . . .,dψ_p u_{kp}) s_{ψ( p)} (dψ_p u_{(k+1)p},. . . , dψ_p u_{(k+l)p} )\\\\\n",
    "= (ψ^∗ t)_p (u_{1p} , . . .,u_{kp})(ψ^∗ s)_p (u_{(k+1)p},. . . , u_{(k+l)p} )\n",
    "= ((ψ^∗ t) ⊗ (ψ^∗ s))_p (u_{1p} , . . . , u_{(k+l)p} ),\n",
    "$$\n",
    "\n",
    "so\n",
    "\n",
    "\\begin{equation}\n",
    "ψ^∗ (t ⊗ s) = (ψ^∗ t) ⊗ (ψ^∗ s).\n",
    "\\label{}\\tag{15.5}\n",
    "\\end{equation}"
   ]
  },
  {
   "cell_type": "markdown",
   "metadata": {},
   "source": [
    "If $M_1, M_2, M_3$ are smooth manifolds, $ψ_1 : M_1 → M_2$ and $ψ_2 : M_2 → M_3$ are smooth maps, then\n",
    "\n",
    "$$ (ψ_2 ◦ ψ_1 )^∗ t = (ψ_1^∗ ◦ ψ_2^∗ )\\;t,\\quad \\mbox{for } t ∈ T^{(0,k)} M_3.$$\n",
    "\n",
    "To prove this relation let us note that\n",
    "$$((ψ_2 ◦ ψ_1 )^∗ t)_p (u_{1p} , . . . , u_{kp} )\\\\\n",
    "= t_{(ψ_2 ◦ψ_1 )( p)} (d(ψ_2 ◦ ψ_1 )_p u_{1p} , . . . , \n",
    "d(ψ_2 ◦ ψ_1 )_p u_{kp})\\\\\n",
    "= t_{ψ_2(ψ_1(p))} (dψ_{2ψ_1( p)} (dψ_{1p} u_{1p} ), . . . , \n",
    "                   dψ_{2ψ_1( p)} (dψ_{1p} u_{kp} ))\\\\\n",
    "= (ψ_2^∗ t)_{ψ 1 ( p)} (dψ_{1 p} u_{1p} , . . . , dψ_{1p} u_{kp} )\n",
    "= (ψ_1^∗ (ψ_2^∗ t))_p (u_{1p} , . . . , u_{kp} ).\n",
    "$$\n",
    "\n",
    "<br>\n",
    "\n",
    "### Pullback of covariant tensor fields in components\n",
    "\n",
    "<br>\n",
    "\n",
    "If $t$ is a tensor field of type $(0,k)$ on $N$, given locally by $t = t_{i_1... i_k} dy^{i_1} ⊗ · · · ⊗dy^{i_k}$, then the pullback of $t$ under $ψ$ is given by\n",
    "\n",
    "$$ψ^∗ t = ψ^∗ (t_{i_1... i_k} dy^{i_1} ⊗ · · · ⊗ dy^{i_k} )\\\\\n",
    "= (ψ^∗ t_{i_1... i_k} )(ψ^∗ dy^{i_1} ) ⊗ · · · ⊗ (ψ^∗ dy^{i_k} )\\\\\n",
    "= (ψ^∗ t_{i_1... i_k} ) d(ψ^∗ y^{i_1} ) ⊗ · · · ⊗ d(ψ^∗ y^{i_k} ).$$\n",
    "\n",
    "Since $d(ψ^∗ y^i ) = (∂(ψ^∗ y^i )/∂ x^m) dx^m$,\n",
    "where $(x^1 , . . . , x^n )$ are coordinates on $M$, we have\n",
    "\n",
    "\\begin{equation}\n",
    "ψ^∗ t = (ψ^∗ t_{i_1... i_k} )\\frac{\\partial(\\psi^*y^{i_1})}{\n",
    "\\partial x^{m_1}}\\ldots\n",
    "\\frac{\\partial(\\psi^*y^{i_k})}{\\partial x^{m_k}}dx^{m_1}⊗ · · · ⊗ dx^{m_k}.\n",
    "\\tag{15.6}\n",
    "\\end{equation}"
   ]
  },
  {
   "cell_type": "markdown",
   "metadata": {},
   "source": [
    "\n",
    "The same formula can be written:\n",
    "$$ψ^∗ (t_{i_1... i_k} dy^{i_1} ⊗ · · · ⊗dy^{i_k} )= (t_{i_1... i_k}\\circ\\psi )\\frac{\\partial(y^{i_1}\\circ\\psi)}{\n",
    "\\partial x^{m_1}}\\ldots\n",
    "\\frac{\\partial(y^{i_k}\\circ\\psi)}{\\partial x^{m_k}}dx^{m_1}⊗ · · · ⊗ dx^{m_k}.$$<br>\n",
    "So to obtain $\\psi^*t$, just replace in $t=t_{i_1... i_k} dy^{i_1} ⊗ · · · ⊗dy^{i_k}$<br>\n",
    "$t_{i_1... i_k}\\to t_{i_1... i_k}\\circ \\psi\\quad$\n",
    "and $dy^i\\to \\frac{\\partial(y^{i}\\circ\\psi)}{\\partial x^{m}}dx^{m}.$"
   ]
  },
  {
   "cell_type": "markdown",
   "metadata": {},
   "source": [
    "<br>\n",
    "\n",
    "**Example 15.6**\n",
    "\n",
    "Consider the covariant tensor field  $ \\ g=dx\\otimes dx+ dy\\otimes dy+ dz\\otimes dz$ in $R^3$ and its pullback under the embedding $\\psi: S^2\\to R^3$ defined by  \n",
    "\n",
    "$$ \\psi(\\theta,\\phi)=(\\sin \\theta \\cos \\phi, \\sin \\theta\\sin \\phi,\\cos\\theta).$$"
   ]
  },
  {
   "cell_type": "code",
   "execution_count": null,
   "metadata": {},
   "outputs": [],
   "source": [
    "%display latex\n",
    "S2=manifolds.Sphere(2)     # manifolds.Sphere module contains the def.\n",
    "Phi=S2.embedding()                      # of the embedding S^2 -> E^3 \n",
    "sph.<th,ph>=S2.spherical_coordinates()  # spherical coordinates\n",
    "E=S2.ambient()                          # 3-dim Euclidean space\n",
    "c_cart.<x,y,z> = E.cartesian_coordinates()  # Cartesian coord. in E^3\n",
    "Phi.disp()                              # show Phi"
   ]
  },
  {
   "cell_type": "markdown",
   "metadata": {},
   "source": [
    "`metric` is a predefined  covariant tensor field of type (0,2) in $E^3$ "
   ]
  },
  {
   "cell_type": "code",
   "execution_count": null,
   "metadata": {},
   "outputs": [],
   "source": [
    "g=E.metric()              # g is predefined tensor field of type (0,2)\n",
    "g.disp()                  # show g"
   ]
  },
  {
   "cell_type": "markdown",
   "metadata": {},
   "source": [
    "The pullback of g:"
   ]
  },
  {
   "cell_type": "code",
   "execution_count": null,
   "metadata": {},
   "outputs": [],
   "source": [
    "Phi.pullback(g).disp()                 # pullback of g"
   ]
  },
  {
   "cell_type": "markdown",
   "metadata": {},
   "source": [
    "<br>\n",
    "\n",
    "**Example 15.7**\n",
    "\n",
    "We can repeat the previous  example in higher dimensions. For example we can compute the pullback of $ \\ g=dx_1\\otimes dx_1+ dx_2\\otimes dx_2+ dx_3\\otimes dx_3+dx_4\\otimes dx_4$\n",
    "under the embedding $S^3\\to E^4.$"
   ]
  },
  {
   "cell_type": "code",
   "execution_count": null,
   "metadata": {},
   "outputs": [],
   "source": [
    "%display latex\n",
    "S3=manifolds.Sphere(3)          # manifolds.Sphere module contains the def.\n",
    "Phi=S3.embedding()                             # of the embedding S^3 -> E^4\n",
    "sph.<chi,theta,phi>=S3.spherical_coordinates() # and spherical coordinates\n",
    "E=S3.ambient()                                 # Euclidean space E^4\n",
    "c_cart.<x1,x2,x3,x4> = E.cartesian_coordinates() # Cartesian coord. in E^4\n",
    "fun=Phi.coord_functions()[:];fun   # functions defining the emb. S^3 -> E^4"
   ]
  },
  {
   "cell_type": "markdown",
   "metadata": {},
   "source": [
    "`metric` is a predefined  covariant tensor field of type (0,2) in $E^4.$ "
   ]
  },
  {
   "cell_type": "code",
   "execution_count": null,
   "metadata": {},
   "outputs": [],
   "source": [
    "g=E.metric()                   # g is a predefined (0,2) type tensor field\n",
    "g.disp()                       # show g"
   ]
  },
  {
   "cell_type": "markdown",
   "metadata": {},
   "source": [
    "Pullback of g:"
   ]
  },
  {
   "cell_type": "code",
   "execution_count": null,
   "metadata": {},
   "outputs": [],
   "source": [
    "Phi.pullback(g).disp()        # pullback Psi^*g"
   ]
  },
  {
   "cell_type": "markdown",
   "metadata": {},
   "source": [
    "<br>\n",
    "\n",
    "\n",
    "Since the differential k-forms are special cases of covariant tensor fields, the pullback operation can be applied to such forms.\n",
    "\n",
    "<br>"
   ]
  },
  {
   "cell_type": "markdown",
   "metadata": {},
   "source": [
    "**Example 15.8**\n",
    "\n",
    "Consider the same embedding $\\psi: S^2\\to R^3$ as in Example 15.6,  defined by  $$ \\psi(\\theta,\\phi)=(\\sin \\theta \\cos \\phi, \\sin \\theta\\sin \\phi,\\cos\\theta),$$ and compute the pullbacks\n",
    "$\\psi^*(dx\\wedge dy),\\ \\psi^*(dy\\wedge dz),\\ \\psi^*(dx\\wedge dz).$"
   ]
  },
  {
   "cell_type": "code",
   "execution_count": null,
   "metadata": {},
   "outputs": [],
   "source": [
    "%display latex\n",
    "M = Manifold(3, 'R^3')            # manifold M=R^3\n",
    "c_xyz.<x,y,z> = M.chart()         # Cartesian coordinates\n",
    "N = Manifold(2, 'N')              # manifold N=S^2\n",
    "c_sph.<theta,phi>=N.chart()       # spherical coordinates\n",
    "                                  # embedding S^2->R^3\n",
    "psi = N.diff_map(M, (sin(theta)*cos(phi), sin(theta)*sin(phi),cos(theta)),\n",
    "                 name='psi',latex_name=r'\\psi')\n",
    "E=c_xyz.coframe()                 # coframe (dx,dy,dz)\n",
    "dx,dy,dz=E[:]                     # define dx,dy,dz\n",
    "omega1=dx.wedge(dy)               # wedge prod. dx/\\dy\n",
    "omega2=dy.wedge(dz)               # wedge prod. dy/\\dz\n",
    "omega3=dx.wedge(dz)               # wedge prod. dx/\\dz\n",
    "plb=psi.pullback(omega1)          # pullback psi^*omega1\n",
    "plb.disp()"
   ]
  },
  {
   "cell_type": "code",
   "execution_count": null,
   "metadata": {},
   "outputs": [],
   "source": [
    "plb=psi.pullback(omega2)          # pullback psi^*omega2\n",
    "plb.disp()"
   ]
  },
  {
   "cell_type": "code",
   "execution_count": null,
   "metadata": {},
   "outputs": [],
   "source": [
    "plb=psi.pullback(omega3)          # pullback psi^*omega3\n",
    "plb.disp()"
   ]
  },
  {
   "cell_type": "markdown",
   "metadata": {},
   "source": [
    "More examples of pullbacks of k-forms can be found in the [next notebook](https://nbviewer.org/github/sagemanifolds/IntroToManifolds/blob/main/16Manifold_Ext_Der.ipynb)."
   ]
  },
  {
   "cell_type": "markdown",
   "metadata": {},
   "source": [
    "## What's next?\n",
    "\n",
    "Take a look at the notebook [Exterior derivative](https://nbviewer.org/github/sagemanifolds/IntroToManifolds/blob/main/16Manifold_Ext_Der.ipynb)."
   ]
  }
 ],
 "metadata": {
  "kernelspec": {
   "display_name": "SageMath 9.6",
   "language": "sage",
   "name": "sagemath"
  },
  "language_info": {
   "codemirror_mode": {
    "name": "ipython",
    "version": 3
   },
   "file_extension": ".py",
   "mimetype": "text/x-python",
   "name": "python",
   "nbconvert_exporter": "python",
   "pygments_lexer": "ipython3",
   "version": "3.8.10"
  }
 },
 "nbformat": 4,
 "nbformat_minor": 4
}
