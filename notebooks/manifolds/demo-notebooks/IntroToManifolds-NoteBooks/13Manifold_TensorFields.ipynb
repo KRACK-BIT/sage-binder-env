{
 "cells": [
  {
   "cell_type": "markdown",
   "metadata": {},
   "source": [
    "# 13. Tensor fields\n",
    "\n",
    "This notebook is part of the [Introduction to manifolds in SageMath](https://sagemanifolds.obspm.fr/intro_to_manifolds.html) by Andrzej Chrzeszczyk (Jan Kochanowski University of Kielce, Poland)."
   ]
  },
  {
   "cell_type": "code",
   "execution_count": null,
   "metadata": {},
   "outputs": [],
   "source": [
    "version()"
   ]
  },
  {
   "cell_type": "markdown",
   "metadata": {},
   "source": [
    "### Linear differential forms (1- forms, covector fields) on a manifold\n",
    "\n",
    "<br>\n",
    "\n",
    "Let $M$ be a smooth manifold.\n",
    "A **linear differential form or 1-form or covector field**  $α$ on $M$ is a map that assigns to each $p ∈ M$ an element\n",
    "$α( p) ∈ T_p^∗M$ (the space $T_p^∗M$ was defined in [notebook 9](https://nbviewer.org/github/sagemanifolds/IntroToManifolds/blob/main/09Manifold_LinearFormsTensors_onTp.ipynb)) . The 1-form $α( p)$ will also be denoted by $α_p$, it is \n",
    "smooth (of class $C^∞$ ) if for all $X ∈ \\mathfrak{X}(M)$ the function $α(X)$ defined by\\begin{equation}\n",
    "(α(X))( p) = α_p (X_p ),\\quad\\text{for }\\ p\\in M\n",
    "\\label{}\\tag{13.1}\n",
    "\\end{equation}\n",
    "is smooth (of class $C^∞$ ).\n",
    "\n",
    "The set of all smooth 1-forms on $M$ is denoted by $\\Omega^1 (M)$. The\n",
    "set $\\Omega^1(M)$ is a **module over** $C^∞ (M)$ with the algebraic operations given by\n",
    "\\begin{equation}\n",
    "\\begin{matrix}\n",
    "(α + β)_p ≡ α_p + β_p ,\\\\\n",
    "( f α)_p ≡ f ( p)α_p ,\n",
    "\\end{matrix}\n",
    "\\label{}\\tag{13.2}\n",
    "\\end{equation}\n",
    "for $α, β ∈ \\Omega^1 (M)$ and $f ∈ C^∞ (M).$\n",
    "\n",
    "<br>\n",
    "\n",
    "**Example 13.1**"
   ]
  },
  {
   "cell_type": "markdown",
   "metadata": {},
   "source": [
    "Let us define a 1-form on a 3-dimensional manifold."
   ]
  },
  {
   "cell_type": "code",
   "execution_count": null,
   "metadata": {},
   "outputs": [],
   "source": [
    "%display latex\n",
    "N = 3                         # dimension of manifold M\n",
    "M = Manifold(N, 'M')          # manifold M\n",
    "a = M.diff_form(1)            # 1-form on M\n",
    "a                             # print information on a"
   ]
  },
  {
   "cell_type": "code",
   "execution_count": null,
   "metadata": {},
   "outputs": [],
   "source": [
    "# mathematical object of which \"a\" is an element.\n",
    "a.parent()"
   ]
  },
  {
   "cell_type": "markdown",
   "metadata": {},
   "source": [
    "<br>\n",
    "\n",
    "### Differential of scalar functions\n",
    "\n",
    "<br>\n",
    "\n",
    "If $f ∈ C^∞ (M)$, the **differential**\n",
    "of $f$ denoted by $d f$ is given by $$d f ( p) = d f_p,\\quad\\text{for}\\ p\\in M,$$ where $df_p$ is the differential at point defined in (9.1).\n",
    "The differential $df$  belongs to $\\Omega^1(M).$ If $X ∈ \\mathfrak{X}(M),$\n",
    "then from (13.1),(11.1),(9.1) it follows that\n",
    "\n",
    "$$(df(X))(p)=df_p(X_p)=X_p(f)=(Xf)(p),$$\n",
    "for $p ∈ M$ i.e.,\n",
    "\\begin{equation}\n",
    "df(X)=X(f).\n",
    "\\label{}\\tag{13.3}\n",
    "\\end{equation}"
   ]
  },
  {
   "cell_type": "markdown",
   "metadata": {},
   "source": [
    "<br>\n",
    "\n",
    "**Example 13.2**\n",
    "\n",
    "Define a scalar function $f$ and its differential $df$. The differential is an example of 1-form."
   ]
  },
  {
   "cell_type": "code",
   "execution_count": null,
   "metadata": {},
   "outputs": [],
   "source": [
    "# continuation\n",
    "f = M.scalar_field()\n",
    "f.differential()"
   ]
  },
  {
   "cell_type": "markdown",
   "metadata": {},
   "source": [
    "<br>\n",
    "\n",
    "### The differential of function is a derivation\n",
    "\n",
    "<br>\n",
    "\n",
    "The map $d : C^∞ (M) →\\Omega^1 (M)$, which sends $f$ into $df$, satisfies\n",
    "\\begin{equation}\n",
    "\\begin{matrix}\n",
    "d(a f + bg) = ad f + bdg,\\\\\n",
    "d( f g) = f dg + gd f,\n",
    "\\end{matrix}\n",
    "\\label{}\\tag{13.4}\n",
    "\\end{equation}\n",
    "for $f, g ∈ C^∞ (M)$ and $a, b ∈ R.$"
   ]
  },
  {
   "cell_type": "markdown",
   "metadata": {},
   "source": [
    "To check the first equality note, that for $X\\in \\mathfrak{X}(M)$\n",
    "\n",
    "$$\n",
    "d(a f + bg)(X) = X(a f + bg) = aX f + bXg\n",
    "= a\\,d f (X) + b\\,dg(X) = (a\\,d f + b\\,dg)(X).\n",
    "$$\n",
    "\n",
    "The second one follows from\n",
    "\n",
    "$$\n",
    "d( f g)(X) = X( f g) = f Xg + gX f\n",
    "= f dg(X) + gd f (X) = ( f dg + gd f )(X).\n",
    "$$"
   ]
  },
  {
   "cell_type": "markdown",
   "metadata": {},
   "source": [
    "<br>\n",
    "\n",
    "### Differentials of coordinate functions form local bases for $\\Omega^1(M)$\n",
    "\n",
    "<br>\n",
    "\n",
    "If $(U, φ)$ is a chart on $M$, then as we have checked in [notebook 9](https://nbviewer.org/github/sagemanifolds/IntroToManifolds/blob/main/09Manifold_LinearFormsTensors_onTp.ipynb),\n",
    "the differentials of the\n",
    "coordinate functions $x^1 , x^2 , . . . , x^n$ computed at $p\\in U$\n",
    "form the basis of $T_p^*M$.<br>\n",
    "The formula (9.1') implies that on $U$ we have\n",
    "$$\n",
    "dx^i(X)=X(x^i).\n",
    "$$\n",
    "\n",
    "Since from (8.5) we have on $U$: $X=X(x^i)\\frac{\\partial}{\\partial x^i},$ the covector field $dx^i$ assigns to the vector field $X$ its $i$-th component function $X(x^i)$ in the frame $\\{\\frac{\\partial}{\\partial x^j}\\}_{j=1}^n$. <br>\n",
    "If $α\\in\\Omega^1(M)$, using (9.2), we obtain for $p\\in M$\n",
    "and $α(p) ∈ T_p^∗ (M)$ \n",
    "\n",
    "$$\\alpha(p)=\\alpha(p)\\big(\\frac{\\partial}{\\partial x^i}\\Big|_p\\big)dx^i_p=\\Big[\\alpha\\big(\\frac{\\partial}{\\partial x^i}\\big) dx^i\\Big](p).$$\n",
    "\n",
    "Thus\n",
    "\n",
    "\\begin{equation}\n",
    "\\alpha=\\alpha\\big(\\frac{\\partial}{\\partial x^i}\\big) dx^i.\n",
    "\\label{}\\tag{13.5}\n",
    "\\end{equation}\n",
    "\n",
    "If we denote $\\alpha\\big(\\frac{\\partial}{\\partial x^i}\\big)$ by $\\alpha_i$ then  in local coordinates every element of $\\Omega^1(M)$ is of the form\n",
    "\n",
    "$$\\alpha_idx^i.$$\n",
    "\n",
    "**Remark**. Let us underscore that the last expressions holds only locally (in the domain of a local chart).\n",
    "\n",
    "<br>\n",
    "\n",
    "### Coframe\n",
    "\n",
    "<br>\n",
    "\n",
    "Recall that in [notebook 11](https://nbviewer.org/github/sagemanifolds/IntroToManifolds/blob/main/11Manifold_Vect_Fields.ipynb) we defined frames.\n",
    "\n",
    "<br>\n",
    "\n",
    "If $U$ is an open subset of a manifold $M$ (for example a coordinate neighborhood)  then the **coframe** on $U$ is the sequence $e$ of covector fields on $U$ such that for each $p∈U, \\ e(p)$ is a  basis of the cotangent space $T^*_pU$.<br>\n",
    "From (13.5) it follows that the covectors $\\ dx^1,\\ldots,dx^n\\ $ define a coframe on the coordinate neighborhood $U.\\ $ Let us recall that the  linear independence of $\\ dx^1_p,\\ldots,dx^n_p\\ $ for every $p\\in U$ was\n",
    "checked in [notebook 9](https://nbviewer.org/github/sagemanifolds/IntroToManifolds/blob/main/09Manifold_LinearFormsTensors_onTp.ipynb) (cf. the argument before the formula (9.2)).\n"
   ]
  },
  {
   "cell_type": "code",
   "execution_count": null,
   "metadata": {},
   "outputs": [],
   "source": [
    "N = 3\n",
    "M = Manifold(N, 'M')                # manifold M\n",
    "X = M.chart(' '.join(['x'+str(i)+':x^{'+str(i)+'}' for i in range(N)]))  # chart on M\n",
    "X"
   ]
  },
  {
   "cell_type": "code",
   "execution_count": null,
   "metadata": {},
   "outputs": [],
   "source": [
    "X.coframe()[:]"
   ]
  },
  {
   "cell_type": "markdown",
   "metadata": {},
   "source": [
    "\n",
    "Using the local representation we can give concrete examples of 1-forms/covector fields.\n",
    "\n",
    "<br>\n",
    "\n",
    "**Example 13.3**\n",
    "\n",
    "Define  1-form $\\ a=a_0dx^0+a_1dx^1+a_2dx^2\\ $ in SageMath."
   ]
  },
  {
   "cell_type": "code",
   "execution_count": null,
   "metadata": {},
   "outputs": [],
   "source": [
    "%display latex\n",
    "N = 3                               # dimension of manifold M\n",
    "M = Manifold(N, 'M')                # manifold M\n",
    "X = M.chart(' '.join(['x'+str(i)+':x^{'+str(i)+'}' for i in range(N)]))   # chart on M\n",
    "a = M.diff_form(1,name='a')           # 1-form a\n",
    "ast = ['a'+str(j) for j in range(N)]  # list of component names \n",
    "af = [M.scalar_field(function(ast[j])(*X), name=ast[j]) \n",
    "      for j in range(N)]              # list of component functions\n",
    "a[:] = af                             # define all components of a\n",
    "a.disp()                              # show a"
   ]
  },
  {
   "cell_type": "markdown",
   "metadata": {},
   "source": [
    "Function arguments can be omitted:"
   ]
  },
  {
   "cell_type": "code",
   "execution_count": null,
   "metadata": {},
   "outputs": [],
   "source": [
    "Manifold.options.omit_function_arguments=True\n",
    "a.disp()                            # show abbreviated a"
   ]
  },
  {
   "cell_type": "markdown",
   "metadata": {},
   "source": [
    "<br>\n",
    "\n",
    "**Example 13.4**\n",
    "\n",
    "Now use the local coordinates to show  the differential of a scalar function."
   ]
  },
  {
   "cell_type": "code",
   "execution_count": null,
   "metadata": {},
   "outputs": [],
   "source": [
    "# continuation               # scalar function f:\n",
    "f = M.scalar_field(function('f')(*X), name='f')\n",
    "df = f.differential()        # differential of f\n",
    "print(df)                    # show information on df\n",
    "df.disp()                    # show df"
   ]
  },
  {
   "cell_type": "markdown",
   "metadata": {},
   "source": [
    "To explain the last formula let us note that by (13.5)\n",
    "$\\ d f = d f (\\frac{∂}{∂ x^i} )dx^i,\\ $  but, by virtue of (13.3), \n",
    "$\\ d f (\\frac{\\partial}{\\partial x^i})=  \\frac{∂}{∂ x^i} f,\\ $\n",
    "so that\n",
    "\\begin{equation}\n",
    "d f = \\frac{\\partial f}{\\partial x^i}dx^i.\n",
    "\\label{}\\tag{13.6}\n",
    "\\end{equation}"
   ]
  },
  {
   "cell_type": "markdown",
   "metadata": {},
   "source": [
    "## Tensor fields\n",
    "\n",
    "<br>"
   ]
  },
  {
   "cell_type": "markdown",
   "metadata": {},
   "source": [
    "### Tensor fields of type $\\mathbf{(0,k)}$ (covariant tensor fields)\n",
    "\n",
    "<br>"
   ]
  },
  {
   "cell_type": "markdown",
   "metadata": {},
   "source": [
    "A **tensor field $t$ of type $(0,k)$** or a **covariant tensor field of rank $k$**  on a manifold $M$ is a map $t$ that associates with\n",
    "each point $p∈M$ a tensor $t(p)=t_p\\in T^{(0,k)}_pM\\ \\ \\ $ ($T^{(0,k)}_pM$ was defined in [notebook 9](09Manifold_LinearFormsTensors_onTp.ipynb)). \n",
    "<br>\n",
    "If $t$\n",
    "is a tensor field of type $(0, k)$ and $X_1 , . . . , X_k$ are  vector fields on $M$, then $t (X_1 , . . . , X_k)$ is the real-valued function given by \n",
    "\n",
    "$$[t (X_1 , . . . , X _k )]( p) = t_p (X_1 ( p), . . . , X_k ( p)).$$\n",
    "\n",
    "We say that $t$ is smooth if $t (X_1 , . . . , X_k )$ is a smooth function for all\n",
    "$X_1 , . . . , X_k ∈ \\mathfrak{X}(M)$.<br>\n",
    "One can prove that if $x^1,\\ldots,x^n$ are local coordinates on $U$ and \n",
    "$t_{i_1\\ldots i_k}=t(\\frac{\\partial}{\\partial x^{i_1}},\\ldots,\\frac{\\partial}{\\partial x^{i_k}})$, then $t$ is smooth iff for arbitrary $p\\in M$ there is a coordinate map \n",
    "$(U,(x^1,\\ldots,x^n))$  around $p$ such that the  real functions $t_{i_1\\ldots i_k}$ are smooth. "
   ]
  },
  {
   "cell_type": "markdown",
   "metadata": {},
   "source": [
    "The operations of tensor addition, scalar multiplication and tensor product are defined pointwise:\n",
    "\n",
    "$$\n",
    "\\begin{matrix}\n",
    "(at + bs)_p = at_p + bs_p,\\\\\n",
    "( f t)_p = f ( p)t_p,\\\\\n",
    "(t ⊗ s)_p = t_p ⊗ s_p,\n",
    "\\end{matrix}\n",
    "$$\n",
    "\n",
    "for $a, b ∈ R\\ $, $s, t$ -covariant tensor fields on $M$ and $f : M → R.$"
   ]
  },
  {
   "cell_type": "markdown",
   "metadata": {},
   "source": [
    "Using these formulas and  (9.5) we can check that arbitrary tensor field of type $(0,k)$ can be expressed in local coordinates as follows\n",
    "\n",
    "\\begin{equation}\n",
    "\\begin{matrix}\n",
    "t=t_{i_1\\ldots i_k}dx^{i_1}\\otimes\\dots\\otimes dx^{i_k},\\\\\n",
    "t_{i_1\\ldots i_k}=t\\big(\\frac{\\partial}{\\partial x^{i_1}},\\ldots,\\frac{\\partial}{\\partial x^{i_k}}\\big).\n",
    "\\end{matrix}\n",
    "\\tag{13.7}\n",
    "\\end{equation}\n",
    "\n",
    "<br>"
   ]
  },
  {
   "cell_type": "markdown",
   "metadata": {},
   "source": [
    "If $X_1 , . . . , X_k$ are vector fields on $M$ and $f\\in C^\\infty(M)$, then from the multi-linearity of $t_p$ on $T_pM$ for $p\\in M$ it follows that\n",
    "\n",
    "$$[t (X_1 , . . . , f X_i , . . . , X_k )]( p) =\n",
    "t_p (X_1 ( p), . . . , ( f X_i )( p), . . . , X_k ( p))\\\\\n",
    "= t_p (X_1 ( p), . . . , f ( p)X_i ( p), . . . , X_k ( p))\\\\\n",
    "= f ( p)t_p( X_1 ( p), . . . , X_i ( p), . . . , X_k ( p))\\\\\n",
    "= f ( p)[t (X_1 , . . . , X_i , . . . , X_k )]( p),\n",
    "$$\n",
    "\n",
    "for $p ∈ M$. We have checked that \n",
    "\n",
    "$$t (X_1 , . . . , f X_i , . . . , X_k )=ft (X_1 , . . . , X_i , . . . , X_k ),\\quad i=1,\\ldots,k,$$\n",
    "\n",
    "for $X_i\\in \\mathfrak{X}(M)$ and $f\\in C^\\infty(M).$<br>\n",
    "\n",
    "Similarly for $X_i,Y_i\\in\\mathfrak{X}(M)$ we can check that for $i=1,\\ldots,k$\n",
    "\n",
    "$$t (X_1 , . . . , X_i + Y_i , . . . , X_k ) = t (X_1 , . . . , X_i , . . . , X_k ) + t (X_1 , . . . , Y_i  , . . . , X_k ).$$\n",
    "\n",
    "\n"
   ]
  },
  {
   "cell_type": "markdown",
   "metadata": {},
   "source": [
    "<br>\n",
    "\n",
    "### Tensorial property\n",
    "\n",
    "<br>\n",
    "\n",
    "If $t$ is a map that to each set of $k$ vector fields  $X_i\\in\\mathfrak{X}(M)\\ $  on $M$ associates a function  $t(X_1,\\ldots,X_k):M\\to R$ with the property that for functions $f,g\\in C^\\infty(M),\\ $  $X_i,Y_i\\in\\mathfrak{X}(M)\\ $   and $i=1,\\ldots,k$\n",
    "\n",
    "$$t (X_1 , . . . , fX_i + gY_i , . . . , X_k ) = ft (X_1 , . . . , X_i , . . . , X_k ) +gt (X_1 , . . . , Y_i  , . . . , X_k ),$$\n",
    "\n",
    "then $t$ is a tensor field of type $(0,k).$\n",
    "\n",
    "<br>\n",
    "\n",
    "Note that the last property means that covariant tensor fields of rank $k$ are just multilinear functions on the Cartesian product $\\underbrace{\\mathfrak{X}(M)\\times\\cdots\\times \\mathfrak{X}(M)}_{k\\ \\; \\mbox{times}}$ of $k$ copies of the module $\\mathfrak{X}(M)$ over the ring $C^\\infty(M)$.\n",
    "\n",
    "The module of covariant tensor fields of type $(0,k)\\ $ on a manifold $M$ will be denoted by $T^{(0,k)}M$. \n",
    "\n",
    "**Warning.** If $M$ is a module -not a manifold, in [notebook 9a](https://nbviewer.org/github/sagemanifolds/IntroToManifolds/blob/main/09aManifold_Tensors_onModules.ipynb) the same notations denote the space of covariant tensors of rank $k$ on the module $M$.\n",
    "\n"
   ]
  },
  {
   "cell_type": "markdown",
   "metadata": {},
   "source": [
    "<br>\n",
    "\n",
    "### Covariant tensor fields in components\n",
    "\n",
    "<br>\n",
    "\n",
    "Using this property we can give another proof of (13.7). If the vector fields are expressed in the form $\\quad X_i = dx^j (X_i ) \\frac{∂}{∂ x^j} ,\\quad i = 1, . . . , k,$  then\n",
    "$$t (X_1 , . . . , X_k ) = t(dx^i(X_1 )\\frac{∂}{∂ x^i} , . . . , \n",
    "dx^m (X_k )\\frac{∂}{∂ x^m})\\\\\n",
    "= dx^i (X_1 ) · · · dx^m (X_k )\\;t( \\frac{∂}{∂ x^i},\\ldots \\frac{∂}{∂ x^m})\\\\\n",
    "=\\Big[t(\\frac{∂}{∂ x^i},\\ldots \\frac{∂}{∂ x^m})dx^i \\otimes · · · \\otimes dx^m\\Big] (X_1 , . . . , X_k ).$$\n"
   ]
  },
  {
   "cell_type": "markdown",
   "metadata": {},
   "source": [
    "<br>\n",
    "\n",
    "**Example 13.5**\n",
    "\n",
    "Define a general (0,2)-type tensor field on a 2-dimensional manifold (4 scalar functions as components)."
   ]
  },
  {
   "cell_type": "code",
   "execution_count": null,
   "metadata": {},
   "outputs": [],
   "source": [
    "N = 2                              # dimension of manifold\n",
    "M = Manifold(N, 'M')               # manifold M of dim. N\n",
    "X = M.chart(' '.join(['x'+str(i)+':x^{'+str(i)+'}' for i in range(N)]))  # chart on M\n",
    "t = M.tensor_field(0, 2, name='t')     # tensor field of type (0,2)\n",
    "print(t)                           # show information on t"
   ]
  },
  {
   "cell_type": "markdown",
   "metadata": {},
   "source": [
    "The components of the tensor field $t$ are scalar functions"
   ]
  },
  {
   "cell_type": "code",
   "execution_count": null,
   "metadata": {},
   "outputs": [],
   "source": [
    "x0, x1 = X[:]    # coordinates x^0 and x^1 of chart X as the Python variables x0 and x1\n",
    "f00 = M.scalar_field(function('f00')(x0, x1), name='f00')   # scalar functions\n",
    "f01 = M.scalar_field(function('f01')(x0, x1), name='f01')   # defining components\n",
    "f10 = M.scalar_field(function('f10')(x0, x1), name='f10')\n",
    "f11 = M.scalar_field(function('f11')(x0, x1), name='f11')\n",
    "t[0,0] = f00; t[0,1] = f01                      # components of tensor field t\n",
    "t[1,0] = f10; t[1,1] = f11     \n",
    "t.disp()                                        # show t"
   ]
  },
  {
   "cell_type": "markdown",
   "metadata": {},
   "source": [
    "Let us check that $t_{ij}=t(\\frac{\\partial}{\\partial x_i},\\frac{\\partial}{\\partial x_j})$"
   ]
  },
  {
   "cell_type": "code",
   "execution_count": null,
   "metadata": {},
   "outputs": [],
   "source": [
    "fr = X.frame();fr[:]                             # local frame on M"
   ]
  },
  {
   "cell_type": "code",
   "execution_count": null,
   "metadata": {},
   "outputs": [],
   "source": [
    "matrix(2,2,lambda i,j: t(fr[i],fr[j]).expr())  # compute t(d/dxi,d/dxj)"
   ]
  },
  {
   "cell_type": "code",
   "execution_count": null,
   "metadata": {},
   "outputs": [],
   "source": [
    "X.coframe()[:]                                 # local coframe"
   ]
  },
  {
   "cell_type": "markdown",
   "metadata": {},
   "source": [
    "<br>\n",
    "\n",
    "**Example 13.6**\n",
    "\n",
    "Let us define a  more concrete example with variable components (upper indices and powers do not mix well)."
   ]
  },
  {
   "cell_type": "code",
   "execution_count": null,
   "metadata": {},
   "outputs": [],
   "source": [
    "# continuation\n",
    "t[:] = matrix(2, 2, lambda i,j: X[i]*X[j])  # t_{ij}=x_i*x_j\n",
    "t.disp()"
   ]
  },
  {
   "cell_type": "markdown",
   "metadata": {},
   "source": [
    "<br>\n",
    "\n",
    "**Example 13.7**"
   ]
  },
  {
   "cell_type": "markdown",
   "metadata": {},
   "source": [
    "An example of a (0,4)-type tensor field (`*` denotes the tensor product):"
   ]
  },
  {
   "cell_type": "code",
   "execution_count": null,
   "metadata": {},
   "outputs": [],
   "source": [
    "(t*t).disp()"
   ]
  },
  {
   "cell_type": "markdown",
   "metadata": {},
   "source": [
    "<br>\n",
    "\n",
    "**Example 13.8**\n",
    "\n",
    "Defining tensor fields with symbolic components we can use  shorter and more general notation. \n",
    "\n",
    "Let us define a tensor field of type (0,2) in a more compact way."
   ]
  },
  {
   "cell_type": "code",
   "execution_count": null,
   "metadata": {},
   "outputs": [],
   "source": [
    "N = 2                             # dimension of manifold M\n",
    "M = Manifold(N, 'M')              # manifold M\n",
    "X = M.chart(' '.join(['x'+str(i)+':x^{'+str(i)+'}' for i in range(N)]))  # chart on M\n",
    "t = M.tensor_field(0,2, name='t') # tensor field of type (0,2)\n",
    "def fn(i,j): return 'f'+str(i)+str(j)  # names for components\n",
    "def fl(i,j): return 'f'+'_'+'{'+str(i)+str(j)+'}'  # latex comp.names \n",
    "ff=[[M.scalar_field(function(fn(i,j),latex_name=fl(i,j))(*X)) \n",
    "     for j in range(N)] for i in range(N)]    # nested list of comp.\n",
    "t[:] = ff                         # define all components\n",
    "t.disp()                          # show the result"
   ]
  },
  {
   "cell_type": "markdown",
   "metadata": {},
   "source": [
    "As we can see, the result is the same as previously."
   ]
  },
  {
   "cell_type": "markdown",
   "metadata": {},
   "source": [
    "The functions arguments can be omitted."
   ]
  },
  {
   "cell_type": "code",
   "execution_count": null,
   "metadata": {},
   "outputs": [],
   "source": [
    "Manifold.options.omit_function_arguments=True\n",
    "t.disp()"
   ]
  },
  {
   "cell_type": "code",
   "execution_count": null,
   "metadata": {},
   "outputs": [],
   "source": [
    "(t*t).disp()"
   ]
  },
  {
   "cell_type": "code",
   "execution_count": null,
   "metadata": {},
   "outputs": [],
   "source": [
    "Manifold.options.omit_function_arguments=False"
   ]
  },
  {
   "cell_type": "markdown",
   "metadata": {},
   "source": [
    "**Remark**.\n",
    "If we want to make purely algebraic operations on  tensor fields, then we can use symbols, not functions as components (this will not work if we want to use derivatives!)."
   ]
  },
  {
   "cell_type": "markdown",
   "metadata": {},
   "source": [
    "<br>\n",
    "\n",
    "**Example 13.9**\n",
    "\n",
    "Define (0,3) type tensor field on a two dimensional manifold."
   ]
  },
  {
   "cell_type": "code",
   "execution_count": null,
   "metadata": {},
   "outputs": [],
   "source": [
    "N = 2                              # dimension of manifold M\n",
    "M = Manifold(N, 'M')               # manifold M\n",
    "X = M.chart(' '.join(['x'+str(i)+':x^{'+str(i)+'}' for i in range(N)]))  # chart on M\n",
    "t3 = M.tensor_field(0,3, name='t3')# tensor field of type (0,3)\n",
    "print(t3)                          # information on t3"
   ]
  },
  {
   "cell_type": "markdown",
   "metadata": {},
   "source": [
    "We define a three-dimensional table of symbols $a_{ijk}$"
   ]
  },
  {
   "cell_type": "code",
   "execution_count": null,
   "metadata": {},
   "outputs": [],
   "source": [
    "a3  =[[[SR('a'+str(i)+str(j)+str(k)) for k in range(N)] \n",
    "        for j in range(N)] for i in range(N)]   # nested list of components"
   ]
  },
  {
   "cell_type": "markdown",
   "metadata": {},
   "source": [
    "and  all components define with one equality."
   ]
  },
  {
   "cell_type": "code",
   "execution_count": null,
   "metadata": {},
   "outputs": [],
   "source": [
    "t3[:] = a3                         # define all components as symbols\n",
    "t3[:]                              # show components of t3 "
   ]
  },
  {
   "cell_type": "code",
   "execution_count": null,
   "metadata": {},
   "outputs": [],
   "source": [
    "t3.disp()                          # show the tensor"
   ]
  },
  {
   "cell_type": "markdown",
   "metadata": {},
   "source": [
    "Remember that the components in this example do not depend on coordinates. "
   ]
  },
  {
   "cell_type": "markdown",
   "metadata": {},
   "source": [
    "<br>\n",
    "\n",
    "**Example 13.10**\n",
    "\n",
    "If we need a proper tensor field, with components depending on coordinates, the previous example should be modified.\n",
    "\n",
    "The first cell remains the same:"
   ]
  },
  {
   "cell_type": "code",
   "execution_count": null,
   "metadata": {},
   "outputs": [],
   "source": [
    "N = 2                              # dimension of manifold\n",
    "M = Manifold(N, 'M')               # manifold M\n",
    "X = M.chart(' '.join(['x'+str(i)+':x^{'+str(i)+'}' for i in range(N)]))  # chart on M\n",
    "t3 = M.tensor_field(0,3, name='t3');print(t3)  # tensor field"
   ]
  },
  {
   "cell_type": "markdown",
   "metadata": {},
   "source": [
    "but to define components we need scalar fields: "
   ]
  },
  {
   "cell_type": "code",
   "execution_count": null,
   "metadata": {},
   "outputs": [],
   "source": [
    "def fn(i,j,k): return 'f'+str(i)+str(j)+str(k)      # names of components\n",
    "def fl(i,j,k): return 'f'+'_'+'{'+str(i)+str(j)+str(k)+'}'  # latex names\n",
    "                                    # nested list of component functions\n",
    "ff = [[[M.scalar_field(function(fn(i,j,k),latex_name=fl(i,j,k))(*X)) \n",
    "        for k in range(N)] for j in range(N)] for i in range(N)]\n",
    "t3[:] = ff                          # define all components\n",
    "t3.disp()                           # show t3"
   ]
  },
  {
   "cell_type": "markdown",
   "metadata": {},
   "source": [
    "The functions argument can be omitted:"
   ]
  },
  {
   "cell_type": "code",
   "execution_count": null,
   "metadata": {},
   "outputs": [],
   "source": [
    "Manifold.options.omit_function_arguments=True\n",
    "t3.disp()                           # output without component arguments"
   ]
  },
  {
   "cell_type": "code",
   "execution_count": null,
   "metadata": {},
   "outputs": [],
   "source": [
    "Manifold.options.omit_function_arguments=False"
   ]
  },
  {
   "cell_type": "markdown",
   "metadata": {},
   "source": [
    "Unfortunately, (in our system)  latex encounters problems if the outputs are to long.\n",
    "\n",
    "If the latex formatted output is not needed, the `%display plain` method works properly."
   ]
  },
  {
   "cell_type": "code",
   "execution_count": null,
   "metadata": {},
   "outputs": [],
   "source": [
    "#(t3*t3).disp()   returns latex code string\n",
    "#(t3*t3)[:]       works OK\n",
    "Manifold.options.omit_function_arguments=True\n",
    "tt = t3*t3\n",
    "%display plain\n",
    "tt.disp()"
   ]
  },
  {
   "cell_type": "markdown",
   "metadata": {},
   "source": [
    "<br>\n",
    "\n",
    "### Tensor fields  of type $(k,0)$ (contravariant tensor fields of rank $k$)\n",
    "\n",
    "<br>\n",
    "\n",
    "A **tensor field of type $(k, 0)$** (or a **contravariant tensor field\n",
    " of rank $k$**)  on a manifold $M$ is a map $t$ that\n",
    " associates to each point $p ∈ M$ a tensor $t(p)=t_p\\in T^{(k,0)}_pM\\ \\ \\ $ ($T^{(k,0)}_pM$ was defined in [notebook 9](09Manifold_LinearFormsTensors_onTp.ipynb)). \n",
    "<br> \n",
    "The tensor\n",
    "field $t$ is smooth if for arbitrary 1-forms $α_1 , . . . , α_k$ , the function $t(α_1 , . . . , α_k )$,\n",
    "defined by $[t (α_1, . . . , α_k )]( p) = t_p( α_1(p), . . . , α_k(p))$ , is smooth. \n",
    "\n",
    "The operations of tensor addition, scalar multiplication and tensor product are defined pointwise as in the case of covariant tensor fields.\n",
    "\n",
    "<br>\n",
    "\n",
    "### Tensorial property\n",
    "\n",
    "<br>\n",
    "\n",
    "A map $t$ is a tensor field of type $(k,0)$ iff it associates to each set of $k$ covector fields $α_1 , . . . , α_k$ on $M$ a function  $t(α_1 , . . . , α_k):M\\to R$ with \n",
    "the property that for functions $f,g:M\\to R$, $\\alpha_1,\\ldots,\\alpha_k,\\beta_1,\\ldots,\\beta_k\\in T^*(M)$, and $i=1,\\ldots,k$\n",
    "\n",
    "$$t (\\alpha_1 , . . . , f\\alpha_i + g\\beta_i , . . . , \\alpha_k ) = ft (\\alpha_1 , . . . , \\alpha_i , . . . , \\alpha_k ) +gt (\\alpha_1 , . . . , \\beta_i  , . . . , \\alpha_k ).$$\n",
    "\n",
    "<br>\n",
    "\n",
    "Note that the last property means that contravariant tensor fields of rank $k$ are just multilinear functions on the Cartesian product $\\underbrace{\\Omega^1(M)\\times\\cdots\\times \\Omega^1(M)}_{k\\ \\; \\mbox{times}}$ of $k$ copies of the module $\\Omega^1(M)$ over the ring $C^\\infty(M)$.\n",
    "\n",
    "The module of contravariant tensor fields of type $(k,0)$\n",
    "on a manifold $M$ will be denoted by $T^{(𝑘,0)}M.$\n",
    "\n",
    "\n",
    "**Warning**. If $M$\n",
    "is a module -not a manifold, in [notebook 9a](https://nbviewer.org/github/sagemanifolds/IntroToManifolds/blob/main/09aManifold_Tensors_onModules.ipynb) the same notations denote the space of contravariant tensors of rank 𝑘 on the module $M$.\n",
    "\n",
    "<br>\n",
    "\n",
    "### Contravariant tensor fields in components\n",
    "\n",
    "<br>\n",
    "\n",
    "Using (9.7) we can check that any tensor\n",
    "field of type $(k,0)$ on $M$ is expressed locally as\n",
    "\n",
    "\\begin{equation}\n",
    "t = t (dx^{i_1} , . . . , dx^{i_k} )\\frac{\\partial}{\\partial x^{i_1}}\\otimes\\dots\\otimes\n",
    "\\frac{\\partial}{\\partial x^{i_k}}.\n",
    "\\label{}\\tag{13.8}\n",
    "\\end{equation}\n",
    "\n",
    "One can prove that if $x^1,\\ldots,x^n$ are local coordinates on $U$ and \n",
    "$\\ t^{i_1\\ldots i_k}=t(dx^{i_1} , . . . , dx^{i_k} )\\ $, then $t$ is smooth iff for arbitrary $p\\in M$ there is a coordinate map \n",
    "$(U,(x^1,\\ldots,x^n))$  around $p$ such that the  real functions $\\ t^{i_1\\ldots i_k}\\ $ are smooth. "
   ]
  },
  {
   "cell_type": "markdown",
   "metadata": {},
   "source": [
    "<br>\n",
    "\n",
    "**Example 13.11**\n",
    "\n",
    "Let us show an example of tensor field $t\\in T^{(2,0)}M$.<br>"
   ]
  },
  {
   "cell_type": "code",
   "execution_count": null,
   "metadata": {},
   "outputs": [],
   "source": [
    "%display latex\n",
    "N = 2                               # dimension of manifold M\n",
    "M = Manifold(N, 'M')                # manifold M\n",
    "X = M.chart(' '.join(['x'+str(i)+':x^{'+str(i)+'}' for i in range(N)]))  # chart on M\n",
    "t = M.tensor_field(2,0, name='t'); print(t)  # tensor field (2,0) type"
   ]
  },
  {
   "cell_type": "markdown",
   "metadata": {},
   "source": [
    "Below, we use superscripts to show that the contravariant tensor fields may look in SageMath Manifolds  as in textbooks."
   ]
  },
  {
   "cell_type": "code",
   "execution_count": null,
   "metadata": {},
   "outputs": [],
   "source": [
    "def fn(i,j): return 'f'+str(i)+str(j)          # component names\n",
    "def fl(i,j): return 'f'+'^'+'{'+str(i)+str(j)+'}'   # latex names\n",
    "ff = [[M.scalar_field(function(fn(i,j),latex_name=fl(i,j))(*X)) \n",
    "       for j in range(N)] for i in range(N)]   # nested list of comp.\n",
    "t[:] = ff                                      # define all components\n",
    "Manifold.options.omit_function_arguments=True  # output without comp. arguments\n",
    "t.disp()                                       # show t"
   ]
  },
  {
   "cell_type": "markdown",
   "metadata": {},
   "source": [
    "Using tensor products it is easy to obtain large outputs."
   ]
  },
  {
   "cell_type": "code",
   "execution_count": null,
   "metadata": {},
   "outputs": [],
   "source": [
    "Manifold.options.omit_function_arguments=False  # output with comp. arguments\n",
    "(t*t).disp()                                    # show tensor product"
   ]
  },
  {
   "cell_type": "code",
   "execution_count": null,
   "metadata": {},
   "outputs": [],
   "source": [
    "Manifold.options.omit_function_arguments=True   # output without comp. arguments\n",
    "%display plain\n",
    "(t*t).disp()                                    # show tensor product"
   ]
  },
  {
   "cell_type": "markdown",
   "metadata": {},
   "source": [
    "<br>\n",
    "\n",
    "**Example 13.12**\n",
    "\n",
    "The superscripts in contravariant tensor components are not obligatory. \n",
    "Let us modify the previous example using subscripts."
   ]
  },
  {
   "cell_type": "code",
   "execution_count": null,
   "metadata": {},
   "outputs": [],
   "source": [
    "reset()\n",
    "N = 2                                # dimension of manifold M\n",
    "M = Manifold(N, 'M')                 # manifold M\n",
    "X = M.chart(' '.join(['x'+str(i)+':x^{'+str(i)+'}' for i in range(N)]))  # chart on M\n",
    "t2 = M.tensor_field(2,0, name='t2')  # tensor field (2,0) type\n",
    "def hn(i,j): return 'h'+str(i)+str(j)       # names for components\n",
    "def hl(i,j): return 'h'+'_'+'{'+str(i)+str(j)+'}'   # latex names\n",
    "ff = [[M.scalar_field(function(hn(i,j), latex_name=hl(i,j))(*X)) \n",
    "       for j in range(N)] for i in range(N)]  # component functions\n",
    "t2[:] = ff                                    # define all components\n",
    "Manifold.options.omit_function_arguments=True  # output without comp.arg\n",
    "%display latex\n",
    "t2.disp()                            # show the tensor field"
   ]
  },
  {
   "cell_type": "code",
   "execution_count": null,
   "metadata": {},
   "outputs": [],
   "source": [
    "tt2 = t2*t2\n",
    "tt2.disp()                           # show tensor product"
   ]
  },
  {
   "cell_type": "markdown",
   "metadata": {},
   "source": [
    "<br>\n",
    "\n",
    "**Example 13.13**\n",
    "\n",
    "Let us show an example of (3,0) type tensor field, using superscripts."
   ]
  },
  {
   "cell_type": "code",
   "execution_count": null,
   "metadata": {},
   "outputs": [],
   "source": [
    "%display latex                                   \n",
    "N = 2                                 # dimension of manifold M\n",
    "M = Manifold(N, 'M')                  # manifold M\n",
    "X = M.chart(' '.join(['x'+str(i)+':x^{'+str(i)+'}' for i in range(N)]))  # chart on M\n",
    "s3 = M.tensor_field(3,0, name='s3');  # tensor field of type (3,0)"
   ]
  },
  {
   "cell_type": "code",
   "execution_count": null,
   "metadata": {},
   "outputs": [],
   "source": [
    "def fn(i,j,k): return 'f'+str(i)+str(j)+str(k)      # components names\n",
    "def fl(i,j,k): return 'f'+'^'+'{'+str(i)+str(j)+str(k)+'}'  # latex names\n",
    "ff = [[[M.scalar_field(function(fn(i,j,k),latex_name=fl(i,j,k))(*X)) \n",
    "        for k in range(N)] for j in range(N)] for i in range(N)]  # components\n",
    "s3[:] = ff                                       # define all components\n",
    "Manifold.options.omit_function_arguments=True  # output without comp. args\n",
    "s3.disp()                                      # show the tensor"
   ]
  },
  {
   "cell_type": "code",
   "execution_count": null,
   "metadata": {},
   "outputs": [],
   "source": [
    "# check tensor product \n",
    "ss3 = s3*s3\n",
    "print(ss3)"
   ]
  },
  {
   "cell_type": "markdown",
   "metadata": {},
   "source": [
    "<br>\n",
    "\n",
    "### Tensor fields of type $(𝑘,m)$ (mixed tensor fields) \n",
    "\n",
    "<br>"
   ]
  },
  {
   "cell_type": "markdown",
   "metadata": {},
   "source": [
    "A tensor field of type $(k,m)$ (a mixed tensor field) on $M$ is a map $t$ \n",
    "that to each point $p ∈ M$ associates a tensor $t(p)=t_p\\in T^{(k,m)}_pM\\ \\ \\ $ ($T^{(k,m)}_pM$ was defined in [notebook 9](https://nbviewer.org/github/sagemanifolds/IntroToManifolds/blob/main/09Manifold_LinearFormsTensors_onTp.ipynb).\n",
    "\n",
    "<br>\n",
    "A tensor field of type $(0,0)$ on $M$ is a scalar function  $M\\to R$. \n",
    "\n",
    "A tensor field\n",
    "$t$ of type $(k,m)$ is smooth if for $X_1 , . . . , X_m ∈ \\mathfrak{X}(M)$ and $α_1 , . . . , α_k ∈ \\Omega^1 (M)$,\n",
    "the function  $M \\to R$ that to each point $p ∈ M$ associates the value  $t_p(α_1 ( p), . . . , α_k ( p),X_1 ( p), . . . , X_m ( p) )$  is smooth.\n",
    "<br>\n",
    "The sum, the product by scalars, the product by real-valued functions, and the\n",
    "tensor product of mixed tensor fields are defined pointwise as in the case of covariant and contravariant tensors."
   ]
  },
  {
   "cell_type": "markdown",
   "metadata": {},
   "source": [
    "$$\n",
    "\\begin{matrix}\n",
    "(at + bs)_p = at_p + bs_p,\\\\\n",
    "( f t)_p = f ( p)t_p,\\\\\n",
    "(t ⊗ s)_p = t_p ⊗ s_p,\n",
    "\\end{matrix}\n",
    "$$\n",
    "\n",
    "for $a, b ∈ R$, $s, t$ mixed tensor fields on $M$ and $f : M → R$ (addition is defined only for tensors of the same type).\n",
    "\n",
    "The set of smooth\n",
    "tensor fields of type $(k,m)$ on a manifold $M$, will be denoted by $T^{(k,m)}M$.<br>\n",
    "$T^{(k,m)}M$ **is a module over the ring $C^∞(M)$**.\n",
    "\n",
    "**Warning.** Recall, that in [notebook 9a](https://nbviewer.org/github/sagemanifolds/IntroToManifolds/blob/main/09aManifold_Tensors_onModules.ipynb), the same symbol $\\ T^{(k,m)}M\\ $ denotes the space of mixed tensors on a module $M$.\n",
    "\n",
    "<br>\n",
    "\n",
    "### Tensorial property\n",
    "\n",
    "<br>\n",
    "\n",
    "As previously, we can check, that tensor fields of type $(k,m)$  are just multilinear functions on the Cartesian product \n",
    "$\\underbrace{\\Omega^1(M)\\times\\cdots\\times \\Omega^1(M)}_{k\\ \\; \\mbox{times}}\n",
    "\\times \\underbrace{\\mathfrak{X}(M)\\times\\cdots\\times \\mathfrak{X}(M)}_{m\\ \\; \\mbox{times}}\n",
    "$ of $k$ copies of the module $\\Omega^1(M)$   and $m$ copies of the module $\\mathfrak{X}(M)$ over the ring $C^\\infty(M)$.\n"
   ]
  },
  {
   "cell_type": "markdown",
   "metadata": {},
   "source": [
    "<br>\n",
    "\n",
    "### General tensor fields in components\n",
    "\n",
    "<br>\n",
    "\n",
    "Generalizing the formulas (13.7) and (13.8) we obtain the following expression for the general tensor field  $t\\in T^{(k,m)}M$ in local components\n",
    "\n",
    "\\begin{equation}\n",
    "t=\n",
    "t\\big(dx^{i_1},..,dx^{i_k},\\frac{\\partial}{\\partial x^{j_1}},..,\\frac{\\partial}{\\partial x^{j_m}}\\big)\n",
    "\\frac{\\partial}{\\partial x^{i_1}}\\otimes\\dots\\otimes\\frac{\\partial}{\\partial x^{i_k}}\\otimes dx^{j_1}\\otimes\\ldots\\otimes dx^{j_m}.\n",
    "\\label{}\\tag{13.9}\n",
    "\\end{equation}\n",
    "\n",
    "Very often the notation\n",
    "$$t^{i_1\\ldots i_k}_{j_1\\ldots j_m}=t\\big(dx^{i_1},..,dx^{i_k},\\frac{\\partial}{\\partial x^{j_1}},..,\\frac{\\partial}{\\partial x^{j_m}}\\big)\n",
    "$$\n",
    "is used and then \n",
    "$$t=t^{i_1\\ldots i_k}_{j_1\\ldots j_m}\\frac{\\partial}{\\partial x^{i_1}}\\otimes\\dots\\otimes\\frac{\\partial}{\\partial x^{i_k}}\\otimes dx^{j_1}\\otimes\\ldots\\otimes dx^{j_m}.\n",
    "$$"
   ]
  },
  {
   "cell_type": "markdown",
   "metadata": {},
   "source": [
    "One can prove that if $x^1,\\ldots,x^n$ are local coordinates on $U$ and $t^{i_1\\ldots i_k}_{j_1\\ldots j_m}$ are defined as above,\n",
    " then $t$ is smooth iff for arbitrary $p\\in M$ there is a coordinate map \n",
    "$(U,(x^1,\\ldots,x^n))$  around $p$ such that the  real functions  $t^{i_1\\ldots i_k}_{j_1\\ldots j_m}$ are smooth."
   ]
  },
  {
   "cell_type": "markdown",
   "metadata": {},
   "source": [
    "<br>\n",
    "\n",
    "**Example 13.14**\n",
    "\n",
    "Consider a 2-dimensional manifold with global coordinates $x^0,x^1$:"
   ]
  },
  {
   "cell_type": "code",
   "execution_count": null,
   "metadata": {},
   "outputs": [],
   "source": [
    "%display latex\n",
    "N = 2                        # dimension of manifold M\n",
    "M = Manifold(N, 'M')         # manifold M\n",
    "X = M.chart(' '.join(['x'+str(i)+':x^{'+str(i)+'}' for i in range(N)]))  # chart on M"
   ]
  },
  {
   "cell_type": "markdown",
   "metadata": {},
   "source": [
    "Define a general tensor field of type (1,1).\n",
    "\n",
    "In the case of mixed type tensor fields it is important to distinguish the lower and upper indices!"
   ]
  },
  {
   "cell_type": "code",
   "execution_count": null,
   "metadata": {},
   "outputs": [],
   "source": [
    "def fn(i,j): return 't'+str(i)+str(j)          # component names\n",
    "def fl(i,j): return 't'+'^'+str(i)+'_'+str(j)  # latex names\n",
    "ff = [[M.scalar_field(function(fn(i,j),latex_name=fl(i,j))(*X)) \n",
    "       for j in range(N)] for i in range(N)]   # list of components\n",
    "t = M.tensor_field(1,1, name='t')              # tensor of (1,1) type\n",
    "t[:] = ff                                      # define all components\n",
    "t.disp()                                       # show the tensor"
   ]
  },
  {
   "cell_type": "markdown",
   "metadata": {},
   "source": [
    "With this notations, the tensor product can be computed without problems:"
   ]
  },
  {
   "cell_type": "code",
   "execution_count": null,
   "metadata": {},
   "outputs": [],
   "source": [
    "#t*t works\n",
    "Manifold.options.omit_function_arguments=False # output with comp.args\n",
    "tt = t*t                                       # tensor product\n",
    "tt.disp()                                      # show tensor product"
   ]
  },
  {
   "cell_type": "markdown",
   "metadata": {},
   "source": [
    "<br>\n",
    "\n",
    "**Example 13.15**\n",
    "\n",
    "Now let us try to define (2,2)-type tensor field on the same two-dimensional manifold"
   ]
  },
  {
   "cell_type": "code",
   "execution_count": null,
   "metadata": {},
   "outputs": [],
   "source": [
    "# continuation; first define names and latex names of components\n",
    "def fl(i0,i1,i2,i3): return 't'+'^'+'{'+str(i0)+str(i1)+'}'+'_'+'{'+str(i2)+str(i3)+'}'\n",
    "def fn(i0,i1,i2,i3): return 't'+str(i0)+str(i1)+str(i2)+str(i3)\n",
    "# define nested list of components of the tensor\n",
    "ff = [[[[M.scalar_field(function(fn(i0,i1,i2,i3),latex_name=fl(i0,i1,i2,i3))(*X)) \n",
    "         for i3 in range(N)] for i2 in range(N)] for i1 in range(N)] for i0 in range(N)]\n",
    "t = M.tensor_field(2,2, name='t')        # tensor field of type (2,2)\n",
    "t[:] = ff                                # define all components#\n",
    "Manifold.options.omit_function_arguments=True   # output without comp. args\n",
    "t.disp()                                        # show the tensor"
   ]
  },
  {
   "cell_type": "markdown",
   "metadata": {},
   "source": [
    "Tensor product works with this notations (but the output is very long)."
   ]
  },
  {
   "cell_type": "code",
   "execution_count": null,
   "metadata": {},
   "outputs": [],
   "source": [
    "#t*t works\n",
    "tt = t*t"
   ]
  },
  {
   "cell_type": "code",
   "execution_count": null,
   "metadata": {},
   "outputs": [],
   "source": [
    "# tt.disp() -latex code\n",
    "# tt[:]  very long output after very long time"
   ]
  },
  {
   "cell_type": "code",
   "execution_count": null,
   "metadata": {},
   "outputs": [],
   "source": [
    "# %display plain\n",
    "# tt.disp()  # very-very long output"
   ]
  },
  {
   "cell_type": "markdown",
   "metadata": {},
   "source": [
    "It is easier to check that the linear operations work:"
   ]
  },
  {
   "cell_type": "code",
   "execution_count": null,
   "metadata": {},
   "outputs": [],
   "source": [
    "Manifold.options.omit_function_arguments=True    # output without comp.args\n",
    "(t + 2*t).disp()                                   # show t+2*t"
   ]
  },
  {
   "cell_type": "markdown",
   "metadata": {},
   "source": [
    "## What's next?\n",
    "\n",
    "Take a look at the notebook [Differential k-forms](https://nbviewer.org/github/sagemanifolds/IntroToManifolds/blob/main/14Manifold_Differential_Forms.ipynb)."
   ]
  }
 ],
 "metadata": {
  "kernelspec": {
   "display_name": "SageMath 9.6",
   "language": "sage",
   "name": "sagemath"
  },
  "language_info": {
   "codemirror_mode": {
    "name": "ipython",
    "version": 3
   },
   "file_extension": ".py",
   "mimetype": "text/x-python",
   "name": "python",
   "nbconvert_exporter": "python",
   "pygments_lexer": "ipython3",
   "version": "3.8.10"
  }
 },
 "nbformat": 4,
 "nbformat_minor": 4
}
