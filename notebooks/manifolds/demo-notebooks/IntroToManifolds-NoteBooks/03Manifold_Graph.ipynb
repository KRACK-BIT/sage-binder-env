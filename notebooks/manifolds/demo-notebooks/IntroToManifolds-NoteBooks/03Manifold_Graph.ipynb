{
 "cells": [
  {
   "cell_type": "markdown",
   "metadata": {},
   "source": [
    "# 3. Function graph as a manifold\n",
    "\n",
    "This notebook is part of the [Introduction to manifolds in SageMath](https://sagemanifolds.obspm.fr/intro_to_manifolds.html) by Andrzej Chrzeszczyk (Jan Kochanowski University of Kielce, Poland)."
   ]
  },
  {
   "cell_type": "code",
   "execution_count": null,
   "metadata": {},
   "outputs": [],
   "source": [
    "version()"
   ]
  },
  {
   "cell_type": "markdown",
   "metadata": {},
   "source": [
    "The graph\n",
    "$$Γ(f)=\\{(x, f(x))\\in R^{m+n}: x ∈ U  \\},$$\n",
    "\n",
    "for a smooth function $f : U → R^{m}$ and an open subset $U\\subset R^n$  is a simple example of a smooth manifold having an atlas with a single chart \n",
    "\n",
    "$$(Γ( f ), φ ),\\quad \\phi: (x, f (x)) \\to x,\\quad x\\in U.$$\n"
   ]
  },
  {
   "cell_type": "markdown",
   "metadata": {},
   "source": [
    "<br>\n",
    "\n",
    "### One-dimensional function graph as a manifold\n",
    "\n",
    "<br>\n",
    "\n",
    "Since we don't use any predefined charts or transitions in this case, we can use general manifold (not the Euclidean space as previously).\n",
    "\n",
    "<br>\n",
    "\n",
    "**Example 3.1**\n",
    "\n",
    "Here we use an open interval $(0,2\\pi)$:"
   ]
  },
  {
   "cell_type": "code",
   "execution_count": null,
   "metadata": {},
   "outputs": [],
   "source": [
    "J = manifolds.OpenInterval(0, 2*pi)  # open interval J as manifold\n",
    "c.<t>=J.chart()                      # chart on J"
   ]
  },
  {
   "cell_type": "markdown",
   "metadata": {},
   "source": [
    "First we plot $U=(0,2\\pi)$  as a subset of $R^2$  defined as $x(t)=t,\\quad y(t)=0.$"
   ]
  },
  {
   "cell_type": "code",
   "execution_count": null,
   "metadata": {},
   "outputs": [],
   "source": [
    "R2 = Manifold(2, 'R^2')             # manifold R^2\n",
    "X.<x,y> = R2.chart()                # chart on R^2\n",
    "                                    # F1: J -> R^2 :\n",
    "F1 = J.continuous_map(R2,{(c, X):[t,0]}, name='F1')\n",
    "                                    # plot c\n",
    "p1=c.plot(X,mapping=F1,thickness=4,color='grey')\n",
    "p1.show(figsize=[4,3])              # show plot"
   ]
  },
  {
   "cell_type": "markdown",
   "metadata": {},
   "source": [
    "And next the image of $U$ under sinus function as a subset of $R^2$."
   ]
  },
  {
   "cell_type": "code",
   "execution_count": null,
   "metadata": {},
   "outputs": [],
   "source": [
    "                                    # continuous map x=t,y=sin(t):\n",
    "F2 = J.continuous_map(R2, {(c, X): [t,sin(t)]}, name='F2')\n",
    "p=c.plot(X,mapping=F2,color='grey',thickness=2) # plot image of J\n",
    "p.show(figsize=[4,3])                           # under F2"
   ]
  },
  {
   "cell_type": "markdown",
   "metadata": {},
   "source": [
    "<br>\n",
    "\n",
    "**Example 3.2**\n",
    "\n",
    "Below, we map the same open interval into $R^3$."
   ]
  },
  {
   "cell_type": "code",
   "execution_count": null,
   "metadata": {},
   "outputs": [],
   "source": [
    "# continuation\n",
    "po1={'thickness':5,'color':'darkblue'}         # param.\n",
    "po2={'fontsize':20,'color':'black'}\n",
    "\n",
    "ax =line3d([(0,0,0), (1+0.15,0,0)], **po1)     # axes\n",
    "ax+=line3d([(0,0,0), (0,1+0.15,0)], **po1)\n",
    "ax+=line3d([(0,0,0), (0,0,6.28+0.15)], **po1)\n",
    "ax+=text3d(\"x\",(1.25,0,0),**po2)\n",
    "ax+=text3d(\"y\",(0,1.25,0),**po2)\n",
    "ax+=text3d(\"z\",(0.,0.,6.9),**po2)"
   ]
  },
  {
   "cell_type": "code",
   "execution_count": null,
   "metadata": {},
   "outputs": [],
   "source": [
    "J=manifolds.OpenInterval(0,2*pi)  # open interval as manifold\n",
    "c.<t>=J.chart()                   # chart on J\n",
    "R3 = Manifold(3, 'R^3')           # manifold R^3\n",
    "X.<x,y,z> = R3.chart()            # chart on R^3\n",
    "                                  # F: J -> R^3:\n",
    "F=J.continuous_map(R3,{(c,X):[cos(3*t),sin(3*t),t]},name='F')\n",
    "p=c.plot(X,mapping=F,color='grey',thickness=3,\n",
    "  plot_points=200,label_axes=False)  # plot image of J\n",
    "(p+ax).show(aspect_ratio=[1,1,0.3],frame=False)  # show plot\n"
   ]
  },
  {
   "cell_type": "markdown",
   "metadata": {},
   "source": [
    "### Two-dimensional function graph as a manifold\n",
    "\n",
    "<br>\n",
    "\n",
    "**Example 3.3**\n",
    "\n",
    "Now let $U$ be an open rectangle $(-\\pi,\\pi)\\times (-\\pi,\\pi)$ in $R^2$."
   ]
  },
  {
   "cell_type": "code",
   "execution_count": null,
   "metadata": {},
   "outputs": [],
   "source": [
    "R2 = Manifold(2, 'R^2')                  # manifold R^2\n",
    "c_xy.<x,y> = R2.chart()                  # chart on R^2 \n",
    "U = R2.open_subset('U',                  # open subset of R^2\n",
    "    coord_def={c_xy: [x>-pi,x<pi,y>-pi,y<pi]})\n",
    "c_U.<x,y>=U.chart()                      # chart on U"
   ]
  },
  {
   "cell_type": "markdown",
   "metadata": {},
   "source": [
    "First we plot the coordinate lines in the set $(-\\pi,\\pi)\\times(-\\pi,\\pi)$."
   ]
  },
  {
   "cell_type": "code",
   "execution_count": null,
   "metadata": {},
   "outputs": [],
   "source": [
    "p=c_U.plot(number_values={x:15,y:15},color='grey')  # plot\n",
    "p.show(figsize=4)                        # coordinate lines on U"
   ]
  },
  {
   "cell_type": "markdown",
   "metadata": {},
   "source": [
    "The graph of the function $f(x,y)=\\cos(\\sqrt{x^2+y^2})$ as a subset of $R^3$:"
   ]
  },
  {
   "cell_type": "code",
   "execution_count": null,
   "metadata": {},
   "outputs": [],
   "source": [
    "R3 = Manifold(3, 'R^3')                     # manifold R^3\n",
    "c_XYZ.<X,Y,Z> = R3.chart()                  # chart on R^3\n",
    "F = U.continuous_map(R3,                    # F: U -> R^3\n",
    "  {(c_U, c_XYZ): [x,y,cos(sqrt(x^2+y^2))]}, name='F')\n",
    "                    # plot the image of coordinate lines in  U:\n",
    "p1=c_U.plot(c_XYZ,mapping=F,number_values={x:15,y:15},\n",
    "  color='black',thickness=2,label_axes=False)\n",
    "s=plot3d(cos(sqrt(x^2+y^2)),(x,-pi,pi),(y,-pi,pi),\n",
    "         color='lightgrey',opacity=0.7)     # plot  image of U                 \n",
    "(p1+s).rotateZ(-pi/6).show(frame=False,aspect_ratio=[1,1,1.8]) \n",
    "                                            # show plot"
   ]
  },
  {
   "cell_type": "markdown",
   "metadata": {},
   "source": [
    "**Example 3.4**\n",
    "\n",
    "Now we show a similar example using  polar coordinates. We need two charts in this example. If we don't use the Euclidean space, **we need to define both Cartesian and polar coordinates and also the transition map**  \n",
    "\n",
    "$$\\ \\ x=r\\cos\\phi,\\ \\ y=r\\sin\\phi.$$\n",
    "\n",
    "First we plot the coordinate lines $r,\\phi$:"
   ]
  },
  {
   "cell_type": "code",
   "execution_count": null,
   "metadata": {},
   "outputs": [],
   "source": [
    "reset()\n",
    "R2 = Manifold(2, 'R^2')                  # manifold R^2\n",
    "c_cart.<x,y> = R2.chart()                # Cartesian coordinates\n",
    "                    # the complement of the segment y=0 and x>=0:\n",
    "U = R2.open_subset('U', coord_def={c_cart: (y!=0, x<0)}) \n",
    "c_pol.<r,ph> = U.chart(r'r:(0,+oo) ph:(0,2*pi):\\phi') # polar coord.\n",
    "                                         # transition map:\n",
    "pol_to_cart = c_pol.transition_map(c_cart, [r*cos(ph), r*sin(ph)])\n",
    "                                         # plot coordinate lines\n",
    "g = c_pol.plot(c_cart,number_values={r:20,ph:20},color='grey')\n",
    "g.show(figsize=[3,3])                    # show plot"
   ]
  },
  {
   "cell_type": "markdown",
   "metadata": {},
   "source": [
    "And next the image of these lines as a subset of $R^3$:"
   ]
  },
  {
   "cell_type": "code",
   "execution_count": null,
   "metadata": {},
   "outputs": [],
   "source": [
    "# continuation\n",
    "R3 = Manifold(3, 'R^3')                  # manifold R^3\n",
    "c_XYZ.<X,Y,Z> = R3.chart()               # chart on R^3\n",
    "F = U.continuous_map(R3,                 # F: U->R^3\n",
    "  {(c_pol, c_XYZ): [r*cos(ph),r*sin(ph),cos(r)]}, name='F')\n",
    "                     # plot images of coordinate lines in U:\n",
    "p=c_pol.plot(c_XYZ,mapping=F,number_values={r:20,ph:20},\n",
    "  color='black',thickness=1,label_axes=False)\n",
    "                                         # plot image of U:\n",
    "s=parametric_plot3d([r*cos(ph),r*sin(ph),cos(r)],\n",
    "    (ph,0,2*pi),(r,0,8.1),color='lightgrey',opacity=0.5)\n",
    "(p+s).show(aspect_ratio=[1,1,4],frame=False)  # show plot"
   ]
  },
  {
   "cell_type": "markdown",
   "metadata": {},
   "source": [
    "### Three dimensional function graph as a manifold"
   ]
  },
  {
   "cell_type": "markdown",
   "metadata": {},
   "source": [
    "<br>\n",
    "\n",
    "**Example 3.5**\n",
    "\n",
    "First we show the coordinate lines $x,y,z$ in the three dimensional rectangle:"
   ]
  },
  {
   "cell_type": "code",
   "execution_count": null,
   "metadata": {},
   "outputs": [],
   "source": [
    "M = Manifold(3, 'M')                   # manifold M\n",
    "c_xyz.<x,y,z> = M.chart()              # coordinates x,y,z\n",
    "p1=c_xyz.plot(ranges={x:(0.1,1),y:(0.1,1),z:(0.1,1)},\n",
    "    number_values={x:4,y:4,z:4},thickness=2,\n",
    "    color='grey',label_axes=False)     # plot coordinate lines\n",
    "p1.show(frame=False)                   # show plot\n",
    "# adjust manually the figure after plot \n",
    "# (figsize does not work in 3d)"
   ]
  },
  {
   "cell_type": "markdown",
   "metadata": {},
   "source": [
    "And next the image under the map $F(x,y,z)=(x,y,(x^2+y^2)+z)$:"
   ]
  },
  {
   "cell_type": "code",
   "execution_count": null,
   "metadata": {},
   "outputs": [],
   "source": [
    "c_XYZ.<X,Y,Z> = M.chart()                 # new chart X,Y,Z\n",
    "                                          # F: R^3 -> R^3\n",
    "F=M.continuous_map(M,{(c_xyz,c_XYZ):[x,y,(x^2+y^2)+z]}, name='F')\n",
    "                               # plot images of coordinate lines:\n",
    "p=c_xyz.plot(c_XYZ,mapping=F,\n",
    "    ranges={x:(0.1,1),y:(0.1,1),z:(0.1,4)},\n",
    "    number_values={x:4,y:4,z:4},color='grey',\n",
    "    thickness=2,label_axes=False)\n",
    "p.show (aspect_ratio=[1,1,0.3],frame=False)   # show plot"
   ]
  },
  {
   "cell_type": "markdown",
   "metadata": {},
   "source": [
    "**Example 3.6**\n",
    "\n",
    "Finally  let us show  3-dimensional example in spherical coordinates.\n",
    "\n",
    "First we show some coordinate lines of the open set defined by: $0<r<1,\\ 0<\\phi<\\pi/2,\\  0<\\theta<\\pi/2,$\n",
    "\n",
    "(the transition map $\\ \\ x=r\\sin\\theta\\cos\\phi,\\ y=r\\sin\\theta\\sin\\phi,\\ \\ z=r\\cos\\theta\\ \\ $ must be defined by the user).\n"
   ]
  },
  {
   "cell_type": "code",
   "execution_count": null,
   "metadata": {},
   "outputs": [],
   "source": [
    "M = Manifold(3, 'R^3')               # manifold R^3\n",
    "U = M.open_subset('U') # the domain of spherical coordinates\n",
    "c_spher.<r,th,ph>=U.chart(r'r:(0,+oo) th:(0,pi):\\theta\\\n",
    "ph:(0,2*pi):periodic:\\phi')          # spherical coordinates\n",
    "c_cart.<x,y,z> = U.chart()           # Cartesian coordinates\n",
    "spher_to_cart = c_spher.transition_map(c_cart,  \n",
    "[r*sin(th)*cos(ph), r*sin(th)*sin(ph), r*cos(th)]) # trans.map"
   ]
  },
  {
   "cell_type": "code",
   "execution_count": null,
   "metadata": {},
   "outputs": [],
   "source": [
    "po1={'thickness':5,'color':'darkblue'}         # param.\n",
    "po2={'fontsize':20,'color':'black'}\n",
    "\n",
    "ax =line3d([(0,0,0), (1+0.35,0,0)], **po1)     # axes\n",
    "ax+=line3d([(0,0,0), (0,1+0.35,0)], **po1)\n",
    "ax+=line3d([(0,0,0), (0,0,1.3+0)], **po1)\n",
    "ax+=text3d(\"x\",(1.45,0,0),**po2)\n",
    "ax+=text3d(\"y\",(0,1.45,0),**po2)\n",
    "ax+=text3d(\"z\",(0.,0.,1.40),**po2)"
   ]
  },
  {
   "cell_type": "code",
   "execution_count": null,
   "metadata": {},
   "outputs": [],
   "source": [
    "                                    # plot the coordinate lines:\n",
    "pp=c_spher.plot(c_cart,ranges={r:(0,1),th:(0,pi/2),ph:(0,pi/2)},\n",
    "    number_values={r:2,th:10,ph:2},thickness=2,\n",
    "    color={r:'red', ph:'green',th:'blue'},label_axes=False)\n",
    "(pp+ax).rotateZ(pi/9).show(frame=False)   # show plot  frame=False\n",
    "# adjust manually the figure after plot "
   ]
  },
  {
   "cell_type": "markdown",
   "metadata": {},
   "source": [
    "And next the image of these lines under the mapping which triples the $\\phi$ coordinate."
   ]
  },
  {
   "cell_type": "code",
   "execution_count": null,
   "metadata": {},
   "outputs": [],
   "source": [
    "                                   # F1(r,th,ph)=(r,th,3ph)\n",
    "F1 = U.continuous_map(M, {(c_spher, c_spher): [r,th,3*ph]}, \n",
    "    name='F1')                     # define F1\n",
    "p1=c_spher.plot(c_cart,mapping=F1,ranges={r:(0,1),th:(0,pi/2),\n",
    "    ph:(0,pi/2)},number_values={r:2,ph:2,th:10},\n",
    "    color={r:'red', ph:'green',th:'blue'},\n",
    "    thickness=2,label_axes=False)  # plot image of coord. lines\n",
    "(p1+ax).rotateZ(3*pi/2+0.2).show(frame=False)       # show plot"
   ]
  },
  {
   "cell_type": "markdown",
   "metadata": {},
   "source": [
    "## What's next?\n",
    "\n",
    "Take a look at the notebook [Spheres as manifolds](https://nbviewer.org/github/sagemanifolds/IntroToManifolds/blob/main/04Manifold_Spheres.ipynb)."
   ]
  }
 ],
 "metadata": {
  "kernelspec": {
   "display_name": "SageMath 9.6",
   "language": "sage",
   "name": "sagemath"
  },
  "language_info": {
   "codemirror_mode": {
    "name": "ipython",
    "version": 3
   },
   "file_extension": ".py",
   "mimetype": "text/x-python",
   "name": "python",
   "nbconvert_exporter": "python",
   "pygments_lexer": "ipython3",
   "version": "3.8.10"
  }
 },
 "nbformat": 4,
 "nbformat_minor": 4
}
