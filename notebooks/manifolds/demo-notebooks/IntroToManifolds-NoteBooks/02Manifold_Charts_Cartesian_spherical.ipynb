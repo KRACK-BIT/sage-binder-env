{
 "cells": [
  {
   "cell_type": "markdown",
   "metadata": {},
   "source": [
    "# 2. Examples of charts. Cartesian and spherical coordinates\n",
    "\n",
    "This notebook is part of the [Introduction to differentiable manifolds in SageMath](https://sagemanifolds.obspm.fr/intro_to_manifolds.html) by Andrzej Chrzeszczyk (Jan Kochanowski University of Kielce, Poland)."
   ]
  },
  {
   "cell_type": "code",
   "execution_count": null,
   "metadata": {},
   "outputs": [],
   "source": [
    "version()"
   ]
  },
  {
   "cell_type": "markdown",
   "metadata": {
    "tags": []
   },
   "source": [
    "In every example of a manifold, some charts must be defined, so in the next four notebooks  we present examples of such definitions.\n",
    "\n",
    "In the present  notebook we are using the `EuclideanSpace` module, since some coordinate systems are predefined in this special case. \n",
    "\n",
    "Generally, in the `Manifold` module, the charts (or coordinate systems) and the transition maps must be defined by the user."
   ]
  },
  {
   "cell_type": "markdown",
   "metadata": {},
   "source": [
    "<br>\n",
    "\n",
    "### 2-dimensional case\n",
    "\n",
    "<br>\n",
    "\n",
    "**Example 2.1**\n",
    "\n",
    "First consider the case of 2-dimensional Euclidean space."
   ]
  },
  {
   "cell_type": "code",
   "execution_count": null,
   "metadata": {},
   "outputs": [],
   "source": [
    "E.<x,y> = EuclideanSpace()  # number of variables determines dimension\n",
    "cartesian.<x,y> = E.cartesian_coordinates()  # Cartesian coordinates\n",
    "polar.<r,ph> = E.polar_coordinates()         # polar coordinates "
   ]
  },
  {
   "cell_type": "markdown",
   "metadata": {},
   "source": [
    "Let us check, that the domains of these maps are whole Euclidean space $E^2$."
   ]
  },
  {
   "cell_type": "code",
   "execution_count": null,
   "metadata": {},
   "outputs": [],
   "source": [
    "cartesian.domain(), polar.domain() # domains of Cart.and polar coord."
   ]
  },
  {
   "cell_type": "markdown",
   "metadata": {},
   "source": [
    "Now let us check the ranges of the coordinate  variables."
   ]
  },
  {
   "cell_type": "code",
   "execution_count": null,
   "metadata": {},
   "outputs": [],
   "source": [
    "print(cartesian.coord_range())           # Cartesian coord. ranges\n",
    "print(polar.coord_range())               # polar coord. ranges"
   ]
  },
  {
   "cell_type": "markdown",
   "metadata": {},
   "source": [
    "The result: $r\\in (0,+\\infty),\\ \\ \\phi\\in [0,2\\pi]$ (periodic) shows that\n",
    "the predefined polar coordinates do not define a one-to one map onto an open subset of $R^2$ (the domain and the range of polar coordinates will be restricted below).\n",
    "\n",
    "The transition from the polar coordinate system to the Cartesian coordinate system is given by  $x=r\\cos\\varphi,\\ \\ y=r\\sin\\varphi$:"
   ]
  },
  {
   "cell_type": "code",
   "execution_count": null,
   "metadata": {},
   "outputs": [],
   "source": [
    "polar_to_cart = E.coord_change(polar,cartesian)  # polar -> Cartesian\n",
    "polar_to_cart.display()                        # transition"
   ]
  },
  {
   "cell_type": "code",
   "execution_count": null,
   "metadata": {},
   "outputs": [],
   "source": [
    "po1 = {'thickness': 2, 'linestyle': ':'}            # lines parameters\n",
    "po2 = {'fontsize': 16, 'color': 'black'}            # text parameters\n",
    "t = var('t')                                     # symbolic variable\n",
    "p0 = parametric_plot((0.5*cos(t), 0.5*sin(t)),    \n",
    "                     (t,0,pi/6), color='green')                # circular arc\n",
    "p1 = parametric_plot((cos(t),sin(t)),\n",
    "                     (t,0,2*pi-0.2), color='green', **po1)       # dotted circle\n",
    "p2 = parametric_plot((cos(pi/6),t),\n",
    "                     (t,0,sin(pi/6)), color='blue', **po1)       # vertical dot-line\n",
    "p3 = parametric_plot((t,sin(pi/6)),              \n",
    "                     (t,0,cos(pi/6)), color='blue', **po1)       # horizontal dot-line\n",
    "a = arrow((0,0), (cos(pi/6),sin(pi/6)), color='grey')      # arrow\n",
    "t0 = text(\"$y=r\\\\; \\\\sin\\\\phi$\", (-0.4,sin(pi/6)), **po2)     # y=rsin(phi)\n",
    "t1 = text(\"$x=r\\\\;\\\\cos\\\\phi$\", (cos(pi/6)+0.1,-0.1), **po2)  # x=rcos(phi)\n",
    "t2 = text(\"$r$\", (1,0.5), **po2)                            # r\n",
    "t3 = text(\"$\\\\phi$\", (0.4,0.1), **po2)                      # phi\n",
    "(p0+p1+p2+p3+t0+t1+t2+t3+a).show(ticks=[[],[]], figsize=[3,3])"
   ]
  },
  {
   "cell_type": "markdown",
   "metadata": {},
   "source": [
    "The polar coordinates defined on the entire $E^2$ are not homeomorphic.\n",
    "They do not define a one-to-one\n",
    "mapping of $E^2$ onto an open subset of $R^2$, since points of the form $(r, \\varphi)$ and $(r, \\varphi+2\\pi)$ pass to the same point. \n",
    "\n",
    "To obtain homeomorphic charts on an open set\n",
    " and smooth invertible transitions we can restrict ourselves \n",
    " to the  open subset of $E^2$ with half line {y=0, x>=0} excluded.\n",
    "\n",
    "With this restriction in mind the inverse transition is well defined. "
   ]
  },
  {
   "cell_type": "code",
   "execution_count": null,
   "metadata": {},
   "outputs": [],
   "source": [
    "cart_to_polar = E.coord_change(cartesian, polar) # transition\n",
    "cart_to_polar.display()                          # Cartesian -> polar"
   ]
  },
  {
   "cell_type": "markdown",
   "metadata": {},
   "source": [
    "https://en.wikipedia.org/wiki/Atan2"
   ]
  },
  {
   "cell_type": "markdown",
   "metadata": {},
   "source": [
    "The nonvanishing of the Jacobian determinants of the one-to-one smooth mapping $f$ at all points of its domain  means that the mapping $f^{-1}$ inverse to $f$ is smooth. This follows\n",
    "from the local inverse  function theorem. So let us check the Jacobians of the transition maps."
   ]
  },
  {
   "cell_type": "code",
   "execution_count": null,
   "metadata": {},
   "outputs": [],
   "source": [
    "print(polar_to_cart.jacobian_det())   # det(Jacobian(polar->Cart))\n",
    "print(cart_to_polar.jacobian_det())   # det(Jacobian(Cart->polar))"
   ]
  },
  {
   "cell_type": "markdown",
   "metadata": {},
   "source": [
    "This shows (again) that the point (0,0) should be excluded from the domain of transition maps. \n",
    "\n",
    " As was mentioned  above, to obtain homeomorphic charts on an open set\n",
    " and smooth invertible transitions we can restrict ourselves \n",
    " to the subset of $E^2$ with  half line $\\{y=0, x\\geq 0\\}$ excluded.\n",
    " \n",
    " In the definition of the open set $U$, below we show how to make the corresponding restrictions.\n",
    " The round brackets in `(y!=0, x<0)` denote the inclusive OR (true if  at least one of two inputs is true).  Thus  `(y!=0, x<0)` is equivalent to $\\ \\ \\neg(y=0\\ \\&\\  x\\geq 0)\\ $ i.e., the half line $\\{y=0, x\\geq 0 \\}$ is excluded."
   ]
  },
  {
   "cell_type": "code",
   "execution_count": null,
   "metadata": {},
   "outputs": [],
   "source": [
    "# U is the open subset of E^2 with {y=0,x>=0} excluded\n",
    "U = E.open_subset('U', coord_def={cartesian: (y!=0, x<0)})\n",
    "polarU = U.chart(r'r:(0,+oo) ph:(0,2*pi):\\phi')    # polar coord.\n",
    "cartU = cartesian.restrict(U)        # Cartesian coordinates on U\n",
    "polarU.coord_range()                 # ranges of polar on U"
   ]
  },
  {
   "cell_type": "markdown",
   "metadata": {},
   "source": [
    "The command `coordinate_chart.plot` allows to plot coordinate lines of the chart `coordinate_chart`. \n",
    "\n",
    "<br>\n",
    "\n",
    "**Example 2.2**\n",
    "\n",
    "In our next example, coordinate_chart is polar (try polar.plot? to see more information).\n",
    "As the first  argument one can use both `polar` and `cartesian`. In polar coordinates the set \n",
    "$\\ \\ \\varepsilon < r < r_0$, $\\ \\ \\varepsilon < \\varphi < 2\\pi-\\varepsilon\\ \\ $ is an open rectangle. \n",
    "In Cartesian coordinates its image is the circle with a small sector and some small neighborhood of (0.0) excluded."
   ]
  },
  {
   "cell_type": "code",
   "execution_count": null,
   "metadata": {},
   "outputs": [],
   "source": [
    "# To define a set with some neighborhood of the half line {y=0, x>=0} \n",
    "# excluded it is sufficient to use appropriate ranges of parameters r,ph\n",
    "E.<x,y> = EuclideanSpace()  # number of variables determines dimension\n",
    "cartesian.<x,y> = E.cartesian_coordinates()     # Cartesian coordinates\n",
    "polar.<r,ph> = E.polar_coordinates()            # polar coordinates \n",
    "p0 = polar.plot(polar, ranges={r: (0.5,7), ph: (0.2,2*pi-0.3)},\n",
    "                number_values=10, color='grey')  # plot coordinate lines r,ph\n",
    "                                                 # in polar coordinates\n",
    "t0 = text(\"$\\\\varepsilon < r < r_0$\", (4, 4), fontsize=16, color='black')\n",
    "s0 = text(\"$\\\\varepsilon < \\\\varphi < 2\\\\pi-\\\\varepsilon$\", (4, 3), \n",
    "          fontsize=16, color='black')               # textual description\n",
    "r0 = p0 + t0 + s0                                   # combine previous plots\n",
    "p1 = polar.plot(cartesian, ranges={r: (0.5,7), ph: (0.2,2*pi-0.3)},\n",
    "                number_values=10, color='grey')         # plot r,ph lines in Cart.coord.\n",
    "p2 = point2d((0,0), size=50, color='orange')   # plot excluded neighb. of (0,0)\n",
    "p3 = plot(0*x,(0,7), thickness=5, color='orange') # plot excluded halfline\n",
    "p = p1 + p2 + p3                                    # combine plots\n",
    "graphics_array([r0,p]).show(figsize=(8,3))          # plot graphics array"
   ]
  },
  {
   "cell_type": "markdown",
   "metadata": {},
   "source": [
    "<br>\n",
    "    \n",
    "**Example 2.3**\n",
    "\n",
    "The same plot with maps restricted to an open subset $U$ of $E^2$."
   ]
  },
  {
   "cell_type": "code",
   "execution_count": null,
   "metadata": {},
   "outputs": [],
   "source": [
    "# continuation\n",
    "U = E.open_subset('U', coord_def={cartesian: (y!=0, x<0)})\n",
    "polarU = U.chart(r'r:(0,+oo) ph:(0,2*pi):\\phi')   # polar coord. on U\n",
    "cartU = cartesian.restrict(U)                     # Cart. coord. on U\n",
    "p0 = polarU.plot(polarU, ranges={r: (0.5,7), ph: (0.2,2*pi-0.3)},\n",
    "                 number_values=10, color='grey') # plot coord.lines r,ph in polar coord.\n",
    "                                    # transition from polarU to cartU:\n",
    "FU = U.continuous_map(U, {(polarU, cartU): [r*cos(ph), r*sin(ph)]}, name='FU')\n",
    "                                   \n",
    "p1 = polarU.plot(cartU, mapping=FU, ranges={r:(0.5,7), ph:(0.2,2*pi-0.3)},\n",
    "                 number_values=10, color='grey') # plot the image of coord lines r,ph\n",
    "t0 = text(\"$\\\\varepsilon < r < r_0$\", (4, 4), fontsize=16, color='black')\n",
    "s0 = text(\"$\\\\varepsilon < \\\\phi < 2\\\\pi-\\\\varepsilon$\", \n",
    "          (4, 3), fontsize=16, color='black')         # textual description\n",
    "r0 = p0 + t0 + s0                                     # combine plots\n",
    "graphics_array([r0, p1]).show(figsize=(8,3))     # graphics array"
   ]
  },
  {
   "cell_type": "markdown",
   "metadata": {},
   "source": [
    "Using coordinate lines one can easily plot images of any rectangle \n",
    "      $ r_0< r <r_1, \\ \\    \\phi_0< \\phi <\\phi_1$:"
   ]
  },
  {
   "cell_type": "code",
   "execution_count": null,
   "metadata": {},
   "outputs": [],
   "source": [
    "p = polar.plot(cartesian,ranges={r: (1,2), ph: (pi/4,3*pi/4)},\n",
    "               number_values=10, color='grey')    # plot coord.lines r,ph \n",
    "p.show(figsize=3)         # in the subset r0<r<r1, ph0<ph<ph1"
   ]
  },
  {
   "cell_type": "markdown",
   "metadata": {},
   "source": [
    "<br>\n",
    "\n",
    "### 3-dimensional case\n",
    "\n",
    "<br>\n",
    "\n",
    "**Example 2.4**\n",
    "\n",
    "Now consider the 3-dimensional case."
   ]
  },
  {
   "cell_type": "code",
   "execution_count": null,
   "metadata": {},
   "outputs": [],
   "source": [
    "E.<x,y,z> = EuclideanSpace()  # number of variables determines the dimension\n",
    "cartesian.<x,y,z> = E.cartesian_coordinates()  # Cartesian coordinates in E^3\n",
    "spherical.<r,th,ph> = E.spherical_coordinates()  # polar coordinates in E^3"
   ]
  },
  {
   "cell_type": "markdown",
   "metadata": {},
   "source": [
    "Check the domains and variables ranges."
   ]
  },
  {
   "cell_type": "code",
   "execution_count": null,
   "metadata": {},
   "outputs": [],
   "source": [
    "cartesian.domain(), spherical.domain()  # domains of Cart. and polar coord. "
   ]
  },
  {
   "cell_type": "code",
   "execution_count": null,
   "metadata": {},
   "outputs": [],
   "source": [
    "print(cartesian.coord_range())         # ranges of Cartesian coordinates  \n",
    "print(spherical.coord_range())         # ranges of spherical coordinates"
   ]
  },
  {
   "cell_type": "markdown",
   "metadata": {},
   "source": [
    "As we can see, the spherical coordinates don't define a homeomorphism on the entire $E^3$\n",
    "(appropriate restrictions will be given below)."
   ]
  },
  {
   "cell_type": "markdown",
   "metadata": {},
   "source": [
    "The transition from\n",
    "the spherical coordinate system to the Cartesian coordinate system is given by the functions \n",
    "\n",
    "$x = r\\cos\\phi\\sin\\theta,\\quad\n",
    "y = r\\sin\\phi\\sin\\theta,\\quad\n",
    "z = r\\cos\\theta$:"
   ]
  },
  {
   "cell_type": "code",
   "execution_count": null,
   "metadata": {},
   "outputs": [],
   "source": [
    "sph_to_cart = E.coord_change(spherical, cartesian) # transition \n",
    "sph_to_cart.disp()                                 # spher-> Cartesian"
   ]
  },
  {
   "cell_type": "code",
   "execution_count": null,
   "metadata": {},
   "outputs": [],
   "source": [
    "var('u v t')                                   # symb.var.\n",
    "\n",
    "po1 = {'thickness': 5, 'color': 'darkblue'}         # param.\n",
    "po2 = {'fontsize': 20, 'color': 'black'}\n",
    "po3 = {'size': 7, 'color': 'black'}\n",
    "\n",
    "ax = line3d([(0,0,0), (1+0.15,0,0)], **po1)     # axes\n",
    "ax += line3d([(0,0,0), (0,1+0.15,0)], **po1)\n",
    "ax += line3d([(0,0,0), (0,0,1+0.15)], **po1)\n",
    "ax += text3d(\"x\", (1.25,0,0), **po2)\n",
    "ax += text3d(\"y\", (0,1.25,0), **po2)\n",
    "ax += text3d(\"z\", (0.,0.,1.25), **po2)\n",
    "                                               # hemisphere:\n",
    "s = parametric_plot3d((cos(u)*cos(v), sin(u)*cos(v), sin(v)),\n",
    "                      (u,0,2*pi), (v,0,pi/2), opacity=0.9, color='lightgrey')\n",
    "\n",
    "a = 0.59                                         # triangle\n",
    "tr = line3d([(0,0,0), (a,a,0), (a,a,a), (0,0,0)], **po1)\n",
    "\n",
    "dots = point3d([(0.5*cos(t), 0.5*sin(t), 0)        # dots\n",
    "                for t in srange(0,pi/4,0.1)], **po3)\n",
    "dots+=point3d([(0.5*cos(t), 0.5*cos(t), 0.5*sin(t))\n",
    "               for t in srange(pi/4,pi/2,0.1)], **po3)\n",
    "                                               \n",
    "t = text3d(\"(x,y,z)\", (0.6,0.8,0.7),**po2)        # variables\n",
    "t += text3d(\"φ\", (0.7,0.3,0.0), **po2)\n",
    "t += text3d(\"θ\", (0.,0.2,0.5), **po2)\n",
    "                                               # combine plots\n",
    "(ax+s+tr+dots+t).rotateZ(-pi/8).show(frame=False)"
   ]
  },
  {
   "cell_type": "markdown",
   "metadata": {},
   "source": [
    "The spherical coordinates defined on the entire $E^3$ are not homeomorphic. They do not define a one-to-one mapping of $E^3$ onto an open subset of $R^3$, since for example, points of the form (𝑟,𝜃,𝜑) \n",
    "and (𝑟,𝜃,𝜑+2𝜋) pass to the same point. \n",
    "\n",
    "To obtain homeomorphic charts on an open set\n",
    " and smooth invertible transitions, we can restrict ourselves \n",
    " to the  open subset of $E^3$ with  half plane {y=0, x>=0} excluded.\n",
    "\n",
    "With this restriction in mind the inverse transition is well defined. "
   ]
  },
  {
   "cell_type": "code",
   "execution_count": null,
   "metadata": {},
   "outputs": [],
   "source": [
    "cart_to_sph = E.coord_change(cartesian, spherical); # transition\n",
    "cart_to_sph.display()                 # Cartesian -> spherical"
   ]
  },
  {
   "cell_type": "markdown",
   "metadata": {},
   "source": [
    "https://en.wikipedia.org/wiki/Atan2"
   ]
  },
  {
   "cell_type": "markdown",
   "metadata": {},
   "source": [
    "Let us check the determinants of Jacobians of the transition maps."
   ]
  },
  {
   "cell_type": "code",
   "execution_count": null,
   "metadata": {},
   "outputs": [],
   "source": [
    "sph_to_cart.jacobian_det()           # det(Jacobian(spher->cart))"
   ]
  },
  {
   "cell_type": "code",
   "execution_count": null,
   "metadata": {},
   "outputs": [],
   "source": [
    "cart_to_sph.jacobian_det()           # det(Jacobian(cart->spher))"
   ]
  },
  {
   "cell_type": "markdown",
   "metadata": {},
   "source": [
    "<br>\n",
    "\n",
    "**Example 2.5**\n",
    "\n",
    "As we have observed, to obtain well defined transitions, we can restrict ourselves\n",
    " to the open subset of $E^3$ <br>\n",
    " with  half plane {y=0, x>=0} excluded.\n",
    " \n",
    " Below, we show how to make  appropriate restriction.\n",
    " "
   ]
  },
  {
   "cell_type": "code",
   "execution_count": null,
   "metadata": {},
   "outputs": [],
   "source": [
    "# continuation                      # define open subset U\n",
    "U = E.open_subset('U', coord_def={cartesian: (y!=0, x<0)})\n",
    "spherU.<r,th,ph> = U.chart(r'r:(0,+oo) th:(0,pi):\\theta ph:(0,2*pi)')\n",
    "cartU = cartesian.restrict(U)         # restrict Cart. coord to U"
   ]
  },
  {
   "cell_type": "markdown",
   "metadata": {},
   "source": [
    "To make a plot with some neighborhood of the half plane {y=0, x>=0} excluded\n",
    "it is sufficient to use appropriate ranges of parameters.\n"
   ]
  },
  {
   "cell_type": "code",
   "execution_count": null,
   "metadata": {},
   "outputs": [],
   "source": [
    "# plot coord. lines using the values 0, 5.7 of r;\n",
    "#                      values 0.3, 2pi-0.3 of ph;\n",
    "#          and 20 values of th from [0.3,pi-0.3];\n",
    "\n",
    "p1 = spherical.plot(cartesian,        \n",
    "                    ranges={r: (0.5,7), th: (0.3,pi-0.3), ph: (0.3,2*pi-0.3)},\n",
    "                    number_values={r: 2, ph: 2, th: 20},\n",
    "                    color={r: 'red', ph: 'grey', th: 'red'},\n",
    "                    thickness=1, label_axes=False)    # plot coord. lines r,th,ph"
   ]
  },
  {
   "cell_type": "code",
   "execution_count": null,
   "metadata": {},
   "outputs": [],
   "source": [
    "po1 = {'thickness': 3, 'color': 'darkblue'}         # param.\n",
    "po2 = {'fontsize': 20, 'color': 'black'}\n",
    "\n",
    "ax = line3d([(0,0,0), (13,0,0)], **po1)         # axes\n",
    "ax += line3d([(0,0,0), (0,9,0)], **po1)\n",
    "ax += line3d([(0,0,0), (0,0,8)], **po1)\n",
    "ax += text3d(\"x\", (14,0,0), **po2)\n",
    "ax += text3d(\"y\", (0,10,0), **po2)\n",
    "ax += text3d(\"z\", (0.,0.,9), **po2)\n",
    "                                              # show plot:\n",
    "(p1+ax).rotateZ(-pi/4).show(frame=False, label_axes=False)"
   ]
  },
  {
   "cell_type": "markdown",
   "metadata": {},
   "source": [
    "\n",
    "**Example 2.6**\n",
    "\n",
    "Below we show the part of the sphere, which is excluded from the domain of the restricted spherical coordinates."
   ]
  },
  {
   "cell_type": "code",
   "execution_count": null,
   "metadata": {},
   "outputs": [],
   "source": [
    "# continuation ; \n",
    "# plot coord. lines using the values 0, 2pi of r;\n",
    "#                             values 0, pi of ph;\n",
    "#                and 20 values of th from [0,pi];\n",
    "p1 = spherical.plot(cartesian,\n",
    "                    ranges={r: (0,2*pi), th: (0,pi), ph: (0,2*pi)},\n",
    "                    number_values={r: 2, ph: 2, th: 20},\n",
    "                    color={r: 'red', ph: 'grey', th: 'red'},\n",
    "                    thickness={r: 2, ph: 1, th: 2}, label_axes=False)\n",
    "(p1+ax).rotateZ(-pi/4).show(frame=False)"
   ]
  },
  {
   "cell_type": "markdown",
   "metadata": {},
   "source": [
    "## What's next?\n",
    "\n",
    "Take a look at the notebook [Function graph as a manifold](https://nbviewer.org/github/sagemanifolds/IntroToManifolds/blob/main/03Manifold_Graph.ipynb)."
   ]
  }
 ],
 "metadata": {
  "kernelspec": {
   "display_name": "SageMath 9.6",
   "language": "sage",
   "name": "sagemath"
  },
  "language_info": {
   "codemirror_mode": {
    "name": "ipython",
    "version": 3
   },
   "file_extension": ".py",
   "mimetype": "text/x-python",
   "name": "python",
   "nbconvert_exporter": "python",
   "pygments_lexer": "ipython3",
   "version": "3.8.10"
  }
 },
 "nbformat": 4,
 "nbformat_minor": 4
}
