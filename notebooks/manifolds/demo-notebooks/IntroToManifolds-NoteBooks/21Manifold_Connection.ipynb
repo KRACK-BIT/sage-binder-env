{
 "cells": [
  {
   "cell_type": "markdown",
   "metadata": {},
   "source": [
    "# 21. Connection\n",
    "\n",
    "This notebook is part of the [Introduction to manifolds in SageMath](https://sagemanifolds.obspm.fr/intro_to_manifolds.html) by Andrzej Chrzeszczyk (Jan Kochanowski University of Kielce, Poland)."
   ]
  },
  {
   "cell_type": "code",
   "execution_count": null,
   "metadata": {},
   "outputs": [],
   "source": [
    "version()"
   ]
  },
  {
   "cell_type": "markdown",
   "metadata": {},
   "source": [
    "Roughly speaking,  connection $∇$ on a smooth manifold $M$, is a rule to calculate the directional derivatives of the\n",
    "vector fields on $M$. If $X$ and $Y$ are two vector fields, $∇_X Y$ denotes the vector field\n",
    "whose value at each point $p ∈ M$ is equal to the directional derivative of $Y$ in the direction of $X_p$ .\n",
    "\n",
    "\n",
    "<br>\n",
    "\n",
    "### Euclidean connection in $U\\subset R^n$\n",
    "\n",
    "<br>\n",
    "\n",
    "Let $U\\subset R^n$ be an open subset and $\\ \\ (x^1,\\ldots,x^n)\\ \\ $ define  Cartesian coordinates on $U$. For $X,Y\\in \\mathfrak{X}(U),$ $ \\ X=X^i\\frac{\\partial}{\\partial x^i},\\ Y=Y^i\\frac{\\partial}{\\partial x^i}\\ $ define $\\ D_XY\\in \\mathfrak{X}(U)\\ $ by\n",
    "\n",
    "$$D_XY=X(Y^j)\\frac{\\partial}{\\partial x^j}=X^i\\frac{\\partial Y^j}{\\partial x^i}\\frac{\\partial}{\\partial x^j}.$$\n",
    "\n",
    "Thus, each component of the vector field $D_XY$ is the usual directional derivative in $R^n$ of $Y^j$ in the direction of $X$.\n",
    "\n",
    "The map $$(X,Y)\\to D_XY$$\n",
    "\n",
    "is $R$-linear with respect to $Y$ since \n",
    "\n",
    "$$X(\\alpha Y_1^j+\\beta Y_2^j)=\\alpha X(Y_1^j)+\\beta X(Y_2^j),\\quad \\text{for } \\alpha,\\beta\\in R.$$\n",
    "\n",
    "It is $C^\\infty(U)$ -linear in $X$ since \n",
    "\n",
    "$$(f_1X_1+f_2X_2)(Y^j)=\n",
    "f_1X_1(Y^j)+f_2X_2(Y^j), \\ \\text{for } \\ f_1,f_2\\in C^\\infty(U).$$\n",
    "\n",
    "It satisfies the Leibniz rule since\n",
    "\n",
    "$D_XY(fY)=X(fY^j)\\frac{\\partial}{\\partial x^j}=\n",
    "(Xf)Y^j\\frac{\\partial}{\\partial x^j}+fX(Y^j)\\frac{\\partial}{\\partial x^j}\n",
    "=(Xf)Y+fD_XY.$\n",
    "\n",
    "\n"
   ]
  },
  {
   "cell_type": "markdown",
   "metadata": {},
   "source": [
    "<br>\n",
    "\n",
    "### Affine connection in a manifold\n",
    "\n",
    "<br>\n",
    "\n",
    "\n",
    "The above observations motivate the following definition.\n",
    "\n",
    "\n",
    "Let $M$ be a smooth manifold. A **connection on $M$** assigns to\n",
    "each $X ∈ \\mathfrak{X}(M)$ an operator $∇_X$ from $\\mathfrak{X}(M)$ into itself, such that for all $X, Y, Z ∈\n",
    "\\mathfrak{X}(M), a, b ∈ R$ and $f ∈ C^∞ (M)$,\n",
    "\n",
    "\\begin{eqnarray}\n",
    "\\tag{21.1} &∇_X (aY + bZ) = a∇_X Y + b∇_X Z,\\\\\n",
    "\\tag{21.2} &∇_X ( f Y) = f ∇_X Y + (X f )Y,\\\\\n",
    "\\tag{21.3} &∇_{aX+bY} Z = a∇_X Z + b∇_Y Z,\\\\\n",
    "\\tag{21.4} &∇_{f X} Y = f ∇_X Y.\n",
    "\\end{eqnarray}\n",
    "\n",
    "$∇_X Y$ is called the **covariant derivative** of $Y$ with respect to $X$.\n",
    "\n",
    "If $\\ (x^1 , x^2 , . . . , x^n )\\ $ is a coordinate system in some neighborhood $U$  of $M$, and $\\ X = X^i \\frac{∂}{∂ x^i},\\ \\ Y = Y^j \\frac{∂}{∂ x^j},\\ $ then from (21.3),(21.4) it follows\n",
    "\n",
    "$$\\displaystyle \\nabla_{X^i\\frac{∂}{∂ x^i}}Y=\\displaystyle\n",
    "\\nabla_{(X^1\\frac{∂}{∂ x^1}+\\ldots+X^n\\frac{∂}{∂ x^n})}Y\n",
    "\\stackrel{\\text{(3)}}{=}\\displaystyle\n",
    "\\nabla_{X^1\\frac{∂}{∂ x^1}}Y+\\ldots+\\nabla_{X^n\\frac{∂}{∂ x^n}}Y\\\\\n",
    "\\stackrel{\\text{(4)}}{=}\\displaystyle\n",
    "X^1\\nabla_{\\frac{∂}{∂ x^1}}Y+\\ldots+X^n\\nabla_{\\frac{∂}{∂ x^n}}Y\n",
    "=X^i\\nabla_{\\frac{∂}{∂ x^i}}Y.\n",
    "$$\n",
    "From (21.1),(21.2) we have\n",
    "$$\n",
    "\\nabla_{\\frac{∂}{∂ x^i}}Y=\n",
    "\\nabla_{\\frac{∂}{∂ x^i}}\\big(Y^j\\frac{∂}{∂ x^j}\\big)\n",
    "=\\nabla_{\\frac{∂}{∂ x^i}}\\big(Y^1\\frac{∂}{∂ x^1}+\\ldots Y^n\\frac{∂}{∂ x^n}\\big)\\\\\n",
    "\\stackrel{\\text{(1)}}{=}\\displaystyle\n",
    "\\nabla_{\\frac{∂}{∂ x^i}}\\big(Y^1\\frac{∂}{∂ x^1}\\big)+\\ldots+\n",
    "\\nabla_{\\frac{∂}{∂ x^i}}\\big(Y^n\\frac{∂}{∂ x^n}\\big)$$\n",
    "$$\n",
    "\\stackrel{\\text{(2)}}{=}\n",
    "Y^1\\nabla_{\\frac{∂}{∂ x^i}}\\big(\\frac{∂}{∂ x^1}\\big)+\n",
    "\\big(\\frac{∂}{∂ x^i}Y^1\\big)\\frac{∂}{∂ x^1}+\n",
    "\\ldots+\n",
    "Y^n\\nabla_{\\frac{∂}{∂ x^i}}\\big(\\frac{∂}{∂ x^n}\\big)+\n",
    "\\big(\\frac{∂}{∂ x^i}Y^n\\big)\\frac{∂}{∂ x^n}\\\\\n",
    "=Y^j\\nabla_{\\frac{∂}{∂ x^i}}\\frac{∂}{∂ x^j}+\n",
    "\\big(\\frac{∂}{∂ x^i}Y^j\\big)\\frac{∂}{∂ x^j}\n",
    "=\\big(\\frac{∂}{∂ x^i}Y^j\\big)\\frac{∂}{∂ x^j}\n",
    "+Y^j\\nabla_{\\frac{∂}{∂ x^i}}\\frac{∂}{∂ x^j}.\n",
    "$$\n",
    "\n",
    "Thus (21.1)-(21.4) give us\n",
    "\n",
    "$$\n",
    "∇_X Y=X^i\\big[\\big(\\frac{∂}{∂ x^i}Y^j\\big)\\frac{∂}{∂ x^j}\n",
    "+Y^j\\nabla_{\\frac{∂}{∂ x^i}}\\frac{∂}{∂ x^j}\\big].\n",
    "$$\n",
    "\n",
    "Since $\\nabla_{\\frac{∂}{∂ x^i}}\\frac{∂}{∂ x^j}$ is a smooth vector field, it is a linear combination of the vector fields $\\{\\frac{∂}{∂ x^k}\\}_{k=1}^n$, so there is a set of $n^3$ smooth functions $\\displaystyle\\Gamma^k_{ji}$ on $U$, such that\n",
    "\n",
    "\\begin{equation}\n",
    "\\nabla_{\\frac{∂}{∂ x^i}}\\frac{∂}{∂ x^j}=\\Gamma^k_{ji}\\frac{∂}{∂ x^k}.\n",
    "\\tag{21.5}\n",
    "\\end{equation}\n",
    "\n",
    "Functions $\\displaystyle\\Gamma^k_{ji}$ which are called **Christoffel symbols** define the connection in the coordinate system $(x^1,\\ldots,x^n)$ since\n",
    "\n",
    "\\begin{equation}\n",
    "\\begin{matrix}\n",
    "\\displaystyle\n",
    "∇_X Y=X^i\\big[\\big(\\frac{∂}{∂ x^i}Y^j\\big)\\frac{∂}{∂ x^j}\n",
    "+Y^j\\Gamma^k_{ji}\\frac{∂}{∂ x^k}\\big]\\\\\n",
    "\\displaystyle\n",
    "=X^i\\big(\\frac{∂}{∂ x^i}Y^k+\n",
    "\\Gamma^k_{ji}Y^j\\big)\\frac{∂}{∂ x^k}.\n",
    "\\end{matrix}\n",
    "\\tag{21.6}\n",
    "\\end{equation}\n",
    "\n",
    "Comparing (21.6) with the definition of the  **Euclidean** connection we see that all **Christoffel symbols for the Euclidean connection vanish.**\n",
    "\n",
    "Observe that if in the definition of the **Euclidean** connection, we put\n",
    "$X=\\frac{∂}{∂ x^i}$ and $Y=\\frac{∂}{∂ x^j}$, then the components of $Y$ in Cartesian coordinates are $(0,\\ldots,1,\\ldots,0),\\ $ ($1$ on $j$-th position) and \n",
    "$\\displaystyle D_{\\frac{∂}{∂ x^i}}\\frac{∂}{∂ x^j}=\n",
    "\\frac{∂}{∂ x^i}(0)\\frac{∂}{∂ x^1}+\\ldots+\n",
    "\\frac{∂}{∂ x^i}(1)\\frac{∂}{∂ x^j}+\\ldots+\n",
    "\\frac{∂}{∂ x^i}(0)\\frac{∂}{∂ x^n}=0.\n",
    "$\n"
   ]
  },
  {
   "cell_type": "markdown",
   "metadata": {},
   "source": [
    "<br>\n",
    "\n",
    "**Example 21.1**\n",
    "\n",
    "Consider the two-dimensional half-plane $y>0$ with connection coefficients defined by\n",
    "$\\ \\ \\Gamma^1_{12}=\\Gamma^1_{21}=\\Gamma^2_{22}=-\\frac{1}{y}\\ \\ $\n",
    "and $\\ \\ \\Gamma^2_{11}=\\frac{1}{y}.$"
   ]
  },
  {
   "cell_type": "code",
   "execution_count": null,
   "metadata": {},
   "outputs": [],
   "source": [
    "%display latex\n",
    "M = Manifold(2, 'M', start_index=1)        # manifold M, y>0\n",
    "c_xy.<x,y> = M.chart()                     # chart on M\n",
    "                                           # affine connection on M\n",
    "nab = M.affine_connection('nabla', r'\\nabla') ; print(nab)"
   ]
  },
  {
   "cell_type": "code",
   "execution_count": null,
   "metadata": {},
   "outputs": [],
   "source": [
    "                                           # Christoffel symbols  \n",
    "nab[1,1,2], nab[1,2,1],nab[2,2,2],nab[2,1,1] = -1/y, -1/y,-1/y,1/y\n",
    "nab.display(coordinate_labels=False)       # only nonzero coefficients                  "
   ]
  },
  {
   "cell_type": "markdown",
   "metadata": {},
   "source": [
    "As we can see, only nonzero Christoffel symbols are displayed.\n",
    "\n",
    "We can force  displaying all symbols using `only_nonzero=False` switch.\n",
    "\n",
    "The `coordinate_labels=False` switch prevents using coordinate labels instead of indices."
   ]
  },
  {
   "cell_type": "code",
   "execution_count": null,
   "metadata": {},
   "outputs": [],
   "source": [
    "nab.display(coordinate_labels=False,only_nonzero=False)\n",
    "# display all 2^3=8 Christoffel symbols"
   ]
  },
  {
   "cell_type": "markdown",
   "metadata": {},
   "source": [
    "<br>\n",
    "\n",
    "### Covariant derivative along a curve\n",
    "\n",
    "<br>\n",
    "\n",
    "If $\\gamma:I\\to M$ is a smooth curve in a smooth manifold $M$ and $Y$ is a smooth vector field defined on the image of $\\gamma$, then the **covariant derivative of $Y$ along $\\ \\gamma$** is the vector field $∇_{\\gamma'} Y$ on $\\gamma$ defined by\n",
    "\n",
    "\\begin{equation}\n",
    "\\displaystyle (∇_{\\gamma'} Y)_{\\gamma_t\n",
    "} = ∇_{\\gamma'_t} Y\\quad \\text{for } t ∈ I.\n",
    "\\tag{21.7}\n",
    "\\end{equation}\n",
    "\n",
    "($\\gamma'_t$ denotes the tangent vector to $\\gamma$ at $t$, defined in (7.6))\n",
    "\n",
    "Recall that in local coordinates the tangent vector $\\gamma'$ can be represented by (cf. (8.10))\n",
    "\n",
    "$$\n",
    "\\gamma'_{t_0}=\\frac{d(x^i\\circ \\gamma)}{dt}\\Big|_{t_0}\\frac{\\partial}{\\partial x^i}\\Big|_{\\gamma(t_0)},\n",
    "$$\n",
    "\n",
    "furthermore\n",
    "$$\\frac{d(x^i\\circ\\gamma)}{dt}\\Big|_{t}\\frac{\\partial Y^k}{\\partial x^i}\\Big|_{\\gamma(t)}=\n",
    "\\frac{\\partial Y^k}{\\partial x^i}\\Big|_{\\gamma(t)}\n",
    "\\frac{d(x^i\\circ\\gamma)}{dt}\\Big|_{t}\n",
    "=\\frac{d(Y^k\\circ\\gamma)}{dt}\\Big|_t,$$\n",
    "and consequently\n",
    "\\begin{equation}\n",
    "\\begin{matrix}\n",
    "\\displaystyle\n",
    "∇_{\\gamma'(t)} Y =\\frac{d(x^i\\circ\\gamma)}{dt}\\Big|_{t}\n",
    "\\Big(\\frac{\\partial Y^k}{\\partial x^i}+\\Gamma^k_{ji}Y^j\\Big)\\Big|_{\\gamma(t)}\\frac{\\partial}{\\partial x^k}\\Big|_{\\gamma(t)}\\\\\n",
    "\\displaystyle\n",
    "=\\Big(\\frac{d(Y^k\\circ\\gamma)}{dt}+\\frac{d(x^i\\circ\\gamma)}{dt}(\\Gamma^k_{ji}Y^j)\\circ\\gamma\\Big)\\Big|_{t}\\frac{\\partial}{\\partial x^k}\\Big|_{\\gamma(t)}.\n",
    "\\end{matrix}\n",
    "\\tag{21.8}\n",
    "\\end{equation}\n"
   ]
  },
  {
   "cell_type": "markdown",
   "metadata": {},
   "source": [
    "<br>\n",
    "\n",
    "### Vector field  parallel  along a curve\n",
    "\n",
    "<br>\n",
    "\n",
    "A vector field $Y$ is **parallel  along the curve** $\\gamma$ if $∇_{\\gamma'}Y = 0.$\n",
    "\n",
    "$Y$ is parallel along $\\gamma$ if and only if its components with respect to the basis $\\{\\frac{∂}{∂ x^i} \\}_{i=1}^n$ satisfy the system of linear (with respect to $Y^k$) differential equations\n",
    "\n",
    "\\begin{equation}\n",
    "\\frac{d(Y^k\\circ\\gamma)}{dt}+\\frac{d(x^i\\circ\\gamma)}{dt}(\\Gamma^k_{ji}\\circ\\gamma)(Y^j\\circ\\gamma)=0.\n",
    "\\tag{21.9}\n",
    "\\end{equation}\n",
    "Often we  use a simplified form\n",
    "\\begin{equation}\n",
    "\\frac{dY^k}{dt}+\\frac{dx^i}{dt}\\Gamma^k_{ji}Y^j=0,\n",
    "\\tag{21.9a}\n",
    "\\end{equation}\n",
    "\n",
    "where all functions are restricted to the image of $\\gamma$.\n",
    "\n",
    "For example if $n=2$ we obtain\n",
    "\n",
    "\\begin{equation}\n",
    "\\begin{matrix}\n",
    "\\frac{dY^1}{dt}+\\frac{dx^1}{dt}\\Gamma_{1,1}^1Y^1\n",
    "+\\frac{dx^2}{dt}\\Gamma_{1,2}^1Y^1\n",
    "+\\frac{dx^1}{dt}\\Gamma_{2,1}^1Y^2\n",
    "+\\frac{dx^2}{dt}\\Gamma_{2,2}^1Y^2=0,\\\\\n",
    "\\frac{dY^2}{dt}+\\frac{dx^1}{dt}\\Gamma_{1,1}^2Y^1\n",
    "+\\frac{dx^2}{dt}\\Gamma_{1,2}^2Y^1\n",
    "+\\frac{dx^1}{dt}\\Gamma_{2,1}^2Y^2\n",
    "+\\frac{dx^2}{dt}\\Gamma_{2,2}^2Y^2=0.\n",
    "\\end{matrix}\n",
    "\\tag{21.9b}\n",
    "\\end{equation}"
   ]
  },
  {
   "cell_type": "markdown",
   "metadata": {},
   "source": [
    "The map $P_{t,t_0} :T_{\\gamma(t_0)}M\\to T_{\\gamma(t)}M$, defined\n",
    "by\n",
    "\n",
    "$$P_{t,t_0}(Y_0)=Y(\\gamma(t)),$$\n",
    "\n",
    "where $Y$ is parallel along $\\gamma$\n",
    "and $Y(\\gamma(t_0)) = Y_0$ , is  called\n",
    "**parallel transport along of $\\gamma$ from $\\gamma(t_0)$ to $\\gamma(t)$**.\n"
   ]
  },
  {
   "cell_type": "markdown",
   "metadata": {},
   "source": [
    "If $R^2$ is endowed with the  connection $Γ_{ij}^k = 0$ for $i, j, k = 1, 2$, then the\n",
    "system (21.9b) takes the form\n",
    "$$\n",
    "\\frac{dY^1}{dt}=0,\\\\\n",
    "\\frac{dY^2}{dt}=0,\n",
    "$$\n",
    "i.e., the vector field $Y$ is parallel along $\\gamma$ iff $Y$ is\n",
    "constant."
   ]
  },
  {
   "cell_type": "markdown",
   "metadata": {},
   "source": [
    "<br>\n",
    "\n",
    "**Example 21.2**\n",
    "\n",
    "Consider (again) the connection $\\nabla$ on the upper halfplane $U = \\{(x, y)\\ | \\ y > 0\\}$\n",
    "with Christoffel symbols\n",
    "\n",
    "$$\n",
    "\\begin{matrix}\n",
    "Γ^1_{11}=0,\\quad Γ^2_{11}=1/y,\\\\\n",
    "Γ^1_{12}= Γ^1_{21}= −1/y,\\\\\n",
    "Γ^2_{12}= Γ^2_{21}= 0,\\\\\n",
    "Γ^1_{22}= 0,\\quad Γ^2_{22}= −1/y.\n",
    "\\end{matrix}\n",
    "$$\n",
    "\n",
    "Let us check that along the curve $x=t,\\ y=1$, the vector field $\\ Y=-\\cos t \\frac{\\partial}{\\partial x}+\\sin t\\frac{\\partial}{\\partial y}\\ $ is parallel.\n",
    "\n",
    "<br>\n",
    "\n",
    "The system (21.9b) reduces to\n",
    "\n",
    "\\begin{equation}\n",
    "\\begin{matrix}\n",
    "\\frac{dY^1}{dt}+\\frac{dx}{dt}\\cdot 0\\cdot Y^1\n",
    "+\\frac{dy}{dt}(-\\frac{1}{y})Y^1\n",
    "+\\frac{dx}{dt}(-\\frac{1}{y})Y^2\n",
    "+\\frac{dy}{dt}\\cdot 0\\cdot Y^2=0,\\\\\n",
    "\\frac{dY^2}{dt}+\\frac{dx}{dt}(\\frac{1}{y})Y^1\n",
    "+\\frac{dy}{dt}\\cdot 0\\cdot Y^1\n",
    "+\\frac{dx}{dt}\\cdot 0\\cdot Y^2\n",
    "+\\frac{dy}{dt}(-\\frac{1}{y})Y^2=0.\n",
    "\\end{matrix}\n",
    "\\tag{21.9c}\n",
    "\\end{equation}\n",
    "\n",
    "Since $\\frac{dx}{dt}=1,\\ y=1, \\ \\frac{dy}{dt}=0$ we obtain\n",
    "\\begin{equation}\n",
    "\\begin{matrix}\n",
    "\\frac{dY^1}{dt}-\\frac{1}{y}Y^2=\\frac{dY^1}{dt}-Y^2=0,\\\\\n",
    "\\frac{dY^2}{dt}+\\frac{1}{y}Y^1=\\frac{dY^2}{dt}+Y^1=0.\n",
    "\\end{matrix}\n",
    "\\tag{21.9d}\n",
    "\\end{equation}\n",
    "\n",
    "If we put $Y^1=-\\cos t, \\ Y^2=\\sin t,$ then both equations are fulfilled.\n",
    "\n",
    "<br>\n",
    "\n",
    "**Example 21.3**\n",
    "\n",
    "Use Sympy to prove that the vector field $Y$ from the previous example is parallel along the curve from that example."
   ]
  },
  {
   "cell_type": "code",
   "execution_count": null,
   "metadata": {},
   "outputs": [],
   "source": [
    "from sympy import *          # import SymPy\n",
    "init_printing()              # SymPy's latex output\n",
    "%display plain               # for Sage's latex display not to interfere with Sympy's one\n",
    "t=symbols('t')               # symbolic variable t\n",
    "c1=lambda t:t                # first component of curve   c1(t)\n",
    "c2=lambda t:1                # second component of curve  c2(t)\n",
    "Y1=lambda t:-cos(t)          # first component of Y       Y1(t)\n",
    "Y2=lambda t:sin(t)           # second component of Y      Y2(t)\n",
    "                             # LHS for the first equation (21.9d)\n",
    "# note that the compositions x^i(gamma(t)), from (21.9) imply\n",
    "# that x is replaced by c1 and y is replaced by c2 \n",
    "\n",
    "                             # check the first equation in (21.9d)\n",
    "Y1(t).diff(t)-1/c2(t)*Y1(t)*c2(t).diff(t)-1/c2(t)*Y2(t)*c1(t).diff(t)"
   ]
  },
  {
   "cell_type": "code",
   "execution_count": null,
   "metadata": {},
   "outputs": [],
   "source": [
    "                             # check the second equation in (21.9d)\n",
    "Y2(t).diff(t)+1/c2(t)*Y1(t)*c1(t).diff(t)-1/c2(t)*Y2(t)*c2(t).diff(t)"
   ]
  },
  {
   "cell_type": "markdown",
   "metadata": {},
   "source": [
    "<br>\n",
    "\n",
    "**Example 21.4**\n",
    "\n",
    "Solve the system (21.9d) with respect to $Y^1,Y^2\\ $ with initial conditions $\\ Y^1(0)=-1,\\ Y^2(0)=0.$"
   ]
  },
  {
   "cell_type": "code",
   "execution_count": null,
   "metadata": {},
   "outputs": [],
   "source": [
    "t = symbols('t')                          # symbolic variable t\n",
    "Y1 = Function('Y1')                       # first component of Y\n",
    "Y2 = Function('Y2')                       # second component of Y\n",
    "ics = {Y1(0): -1,Y2(0):0}                 # initial conditions\n",
    "                                          # solve ODE system in Sympy\n",
    "sol = dsolve([Y1(t).diff(t)-Y2(t),Y2(t).diff(t)+Y1(t)],ics=ics)\n",
    "sol                                       # show solution"
   ]
  },
  {
   "cell_type": "markdown",
   "metadata": {},
   "source": [
    "<br>\n",
    "\n",
    "**Example 21.5**\n",
    "\n",
    "Let us show graphically that the vector field $Y$ from the previous example realizes the parallel transport  of the vector $Y_0$  with components $(-1,0)$ at $(0,1)$ \n",
    "to the vector $Y_1$ with the same components at $(2\\pi,1)$ along the curve $x=t,\\ y=1,\\  t\\in [0,2\\pi].$"
   ]
  },
  {
   "cell_type": "code",
   "execution_count": null,
   "metadata": {},
   "outputs": [],
   "source": [
    "reset()\n",
    "\n",
    "M = Manifold(2, 'M', start_index=1)          # manifold M, y>0\n",
    "c_xy.<x,y> = M.chart()                       # chart on M\n",
    "t = var('t')                                 # symbolic variable t\n",
    "S = M.curve([t, 1], t)                       # curve S: x=t, y=1\n",
    "Y = M.vector_field([-cos(t),sin(t)])         # vector field Y\n",
    "YS = Y.along(S)                              # vector field along curve S\n",
    "graph = S.plot(prange=(0, 2*pi),thickness=3) # plot curve S\n",
    "graph += YS.plot(c_xy, ranges={t: (0,2*pi)},thickness=3,\n",
    "    arrowsize=1.5,number_values=25,color='grey')  # plot vector field\n",
    "show(graph, ymax=3,ymin=-1)                  # show plot"
   ]
  },
  {
   "cell_type": "markdown",
   "metadata": {},
   "source": [
    "<br><br>\n",
    "**Example 21.6**\n",
    "\n",
    "\n",
    "Now take  the same $\\nabla$ on the upper halfplane but consider the vertical curve $\\gamma:\\ x=0,\\ y=t+1, \\ t\\in [0,1]$ and the vector field $Y=(t+1)\\frac{\\partial}{\\partial x}.$\n",
    "\n",
    "<br>\n",
    "\n",
    "First let us check that $Y$ is parallel along $\\gamma$. \n",
    "\n",
    "System (21.9c) takes the form \n",
    "\n",
    "\\begin{equation}\n",
    "\\begin{matrix}\n",
    "\\frac{dY^1}{dt}-\\frac{1}{y}Y^1=0,\\\\\n",
    "\\frac{dY^2}{dt}-\\frac{1}{y}Y^2=0.\n",
    "\\end{matrix}\n",
    "\\tag{21.9e}\n",
    "\\end{equation}"
   ]
  },
  {
   "cell_type": "code",
   "execution_count": null,
   "metadata": {},
   "outputs": [],
   "source": [
    "from sympy import *          # import SymPy\n",
    "init_printing()              # SymPy's latex output\n",
    "t=var('t')                   # symbolic variable t\n",
    "c1=lambda t:0                # first component of the  curve\n",
    "c2=lambda t:1+t              # second component of the  curve\n",
    "Y1=lambda t:1+t              # first component of Y\n",
    "Y2=lambda t:0                # second component of Y\n",
    "Y1(t).diff(t)-1/c2(t)*Y1(t)  # LHS of the first equation (21.9e):"
   ]
  },
  {
   "cell_type": "code",
   "execution_count": null,
   "metadata": {},
   "outputs": [],
   "source": [
    "Y2(t).diff(t)-1/c2(t)*Y2(t)  # LHS of the second equation (21.9e):"
   ]
  },
  {
   "cell_type": "markdown",
   "metadata": {},
   "source": [
    "Now solve the system  (21.9e) (we have restarted the Kernel)."
   ]
  },
  {
   "cell_type": "code",
   "execution_count": null,
   "metadata": {},
   "outputs": [],
   "source": [
    "t = symbols('t')             # symbolic variable t\n",
    "Y1 = Function('Y1')          # first component of Y \n",
    "Y2 = Function('Y2')          # second component of Y\n",
    "ics = {Y1(0): 1,Y2(0):0}     # initial conditions\n",
    "                             # solve system (21.9e)\n",
    "                             # y is replaced by c2(t)=t+1\n",
    "sol = dsolve([Y1(t).diff(t)-1/(t+1)*Y1(t),Y2(t).diff(t)-1/(t+1)*Y2(t)],\n",
    "             ics=ics)\n",
    "sol                          # show solution"
   ]
  },
  {
   "cell_type": "markdown",
   "metadata": {},
   "source": [
    "<br>\n",
    "\n",
    "**Example 21.7**\n",
    "\n",
    "Show graphically the vector field $Y$ from the previous example  along the curve  $x=0,\\ y=t+1.$"
   ]
  },
  {
   "cell_type": "code",
   "execution_count": null,
   "metadata": {},
   "outputs": [],
   "source": [
    "reset()\n",
    "%display latex\n",
    "M = Manifold(2, 'M', start_index=1)        # manifold M, y>0\n",
    "c_xy.<x,y> = M.chart()                     # chart on M\n",
    "t = var('t')                               # symbolic variable t\n",
    "S = M.curve([ 0,t+1], t)                   # curve S\n",
    "Y = M.vector_field([t+1,0])                # vector field Y\n",
    "YS = Y.along(S)                            # vector field Y along S\n",
    "graph = S.plot(prange=(0, 1),thickness=3)  # plot S\n",
    "graph += YS.plot(c_xy, ranges={t: (0,1)},  # plot YS\n",
    "        arrowsize=1.5,number_values=16,color='grey')               \n",
    "show(graph, ymax=2.,ymin=1,xmax=4)         # show plot"
   ]
  },
  {
   "cell_type": "markdown",
   "metadata": {},
   "source": [
    "<br>\n",
    "\n",
    "**Example 21.8** \n",
    "\n",
    "Consider the plane $R^2$ with Christoffel symbols\n",
    "$$Γ^1_{11}= Γ^1_{22}=\\frac{4u}{1+u^2+4v^2},\\\\\n",
    "Γ^2_{11}= Γ^2_{22}=\\frac{4v}{1+u^2+4v^2},\n",
    "$$\n",
    "and the remaining symbols equal to 0."
   ]
  },
  {
   "cell_type": "code",
   "execution_count": null,
   "metadata": {},
   "outputs": [],
   "source": [
    "reset()\n",
    "%display latex\n",
    "N=Manifold(2,name='R2',start_index=1)   # manifold M, dim=2\n",
    "c_uv.<u,v>=N.chart()                    # coordinates u,v\n",
    "nab=N.affine_connection('nab')          # connection on M\n",
    "nab[:]=[[[4*u/(4*u^2 + 4*v^2 + 1), 0],  # Christoffel symbols\n",
    "         [0, 4*u/(4*u^2 + 4*v^2 + 1)]], \n",
    "        [[4*v/(4*u^2 + 4*v^2 + 1), 0], \n",
    "         [0, 4*v/(4*u^2 + 4*v^2 + 1)]]]\n",
    "nab.display(coordinate_labels=False,only_nonzero=False)"
   ]
  },
  {
   "cell_type": "markdown",
   "metadata": {},
   "source": [
    "Assume that the curve $\\gamma$ is defined by $\\ x=t,\\ y=t,\\ t\\in (0,1)$.\n",
    "\n",
    "System (21.9b) takes the form"
   ]
  },
  {
   "cell_type": "markdown",
   "metadata": {},
   "source": [
    "$$\n",
    "\\frac{dY^1}{dt}+\\frac{4t}{1+8t^2}(Y^1+Y^2)=0,\\\\\n",
    "\\frac{dY^2}{dt}+\\frac{4t}{1+8t^2}(Y^1+Y^2)=0.\n",
    "$$\n",
    "\n",
    "and can be solved with Sympy (with initial conditions $Y^1(0)=1,\\ Y^2(0)=0$)."
   ]
  },
  {
   "cell_type": "code",
   "execution_count": null,
   "metadata": {},
   "outputs": [],
   "source": [
    "from sympy import *\n",
    "init_printing()\n",
    "%display plain\n",
    "t = symbols('t')                               # symbolic variable t\n",
    "w=4*t/(1+8*t**2)                               # ODE system coefficient\n",
    "Y1 = Function('Y1')                            # first component of Y\n",
    "Y2 = Function('Y2')                            # second component of Y\n",
    "ics = {Y1(0):1,Y2(0):0}                        # initial conditions\n",
    "sol = dsolve([Y1(t).diff(t) + w*(Y1(t)+Y2(t)), # solve ODE system\n",
    "    Y2(t).diff(t) + w*(Y1(t)+Y2(t))],ics=ics)\n",
    "list(map(simplify,sol))                        # simplify components"
   ]
  },
  {
   "cell_type": "markdown",
   "metadata": {},
   "source": [
    "<br>\n",
    "\n",
    "**Example 21.9**\n",
    "\n",
    "Using the data from the previous example \n",
    "show the parallel transport of the tangent vector  at $(0,0)$ with components $(1,0)$ along the curve $x=t, \\ y=t, \\ t\\in [0,1].$"
   ]
  },
  {
   "cell_type": "code",
   "execution_count": null,
   "metadata": {},
   "outputs": [],
   "source": [
    "reset()\n",
    "%display latex\n",
    "M = Manifold(2, 'M', start_index=1)        # manifold M\n",
    "c_xy.<x,y> = M.chart()                     # chart on M\n",
    "t = var('t')                               # symbolic variable t\n",
    "S = M.curve([ t,t], t)                     # curve S\n",
    "                                           # vector field Y:\n",
    "Y = M.vector_field([0.5*(1+1/sqrt(1+8*t**2)),0.5*(-1+1/sqrt(1+8*t**2))])\n",
    "\n",
    "YS = Y.along(S)                            # vector field Y along S\n",
    "graph = S.plot(prange=(0, 1),thickness=2)  # plot S\n",
    "graph += YS.plot(c_xy, ranges={t: (0,1)},  # plot YS\n",
    "    arrowsize=1.5,number_values=11,color='grey')               \n",
    "show(graph, ymax=1.1,ymin=0,xmax=2,figsize=[4,3])   # show plot"
   ]
  },
  {
   "cell_type": "markdown",
   "metadata": {},
   "source": [
    "**Remark.** In many examples, the exact solutions to ODE systems are not accessible.\n",
    "\n",
    "Fortunately, the same figure  as in previous example can be obtained, solving the system numerically.\n",
    "\n",
    "<br>\n",
    "\n",
    "**Example 21.10**\n",
    "\n",
    "Use numerical tools to obtain the figure from the previous example.\n",
    "\n",
    "First we check that the connection coefficients from the previous example \n",
    "correspond to an elliptic paraboloid."
   ]
  },
  {
   "cell_type": "code",
   "execution_count": null,
   "metadata": {},
   "outputs": [],
   "source": [
    "%display plain\n",
    "u, v = var('u, v', domain='real')\n",
    "eparaboloid = ParametrizedSurface3D([u, v, u^2+v^2], [u, v],\n",
    "             'elliptic paraboloid')\n",
    "eparaboloid.connection_coefficients()"
   ]
  },
  {
   "cell_type": "markdown",
   "metadata": {},
   "source": [
    "Now we can use the method \n",
    "\n",
    "`eparaboloid.parallel_translation_numerical(curve, t, v0, tinterval)`.\n",
    "\n",
    "In the above command \n",
    "\n",
    "`curve` =[x(t),y(t)] can be replaced for example by [s,s],\n",
    "\n",
    "`t`  by  s,\n",
    "\n",
    "`v0` by  [1.0,1.0],\n",
    "\n",
    "and `tinterval` =[t_0,t_1,number_of_subintervals]  by [0.0, 1.0, 9].\n",
    "\n",
    "Use the command `eparaboloid.parallel_translation_numerical?` to obtain more information."
   ]
  },
  {
   "cell_type": "code",
   "execution_count": null,
   "metadata": {},
   "outputs": [],
   "source": [
    "s = var('s')                           # symbolic variable\n",
    "vector_field = eparaboloid.parallel_translation_numerical([s,s],s,\n",
    "            [1.0,0.0],[0.0, 1.0, 9])   # numerical parallel translations\n",
    "times, components = zip(*vector_field) # list of t_i and Y_i\n",
    "vec=[vector(v) for v in components]    # vectors corresponding to Y_i\n",
    "strt=[vector([t,t]) for t in times]    # vector of points on the curve\n",
    "p=plot(s,(s,0,1),thickness=2,color='red')     # plot the curve in red\n",
    "pl=sum([plot(vec[k],start=strt[k],arrowsize=1.5, color='grey') \n",
    "        for k in range(10)])           # plot all  vectors Y_i\n",
    "(p+pl).show(xmax=2,ymin =-0.2,figsize=[4,3])  # combine plots"
   ]
  },
  {
   "cell_type": "markdown",
   "metadata": {},
   "source": [
    "Let us note that the values of the compositions $\\Gamma_{ij}^k\\circ\\gamma$ in the above calculations are cached, and can be used for example in symbolic computations:"
   ]
  },
  {
   "cell_type": "code",
   "execution_count": null,
   "metadata": {},
   "outputs": [],
   "source": [
    "# after above calculations the same command gives different result\n",
    "eparaboloid.connection_coefficients()  "
   ]
  },
  {
   "cell_type": "markdown",
   "metadata": {},
   "source": [
    "<br><br>\n",
    "\n",
    "**Remark.** \n",
    "In previous examples we have used linear functions to define $\\gamma$.\n",
    "If the numerical approach is used we can try more complicated curves.\n",
    "\n",
    "<br>\n",
    "\n",
    "**Example 21.11**\n",
    "\n",
    "Let us investigate the parallel transport  from the previous example\n",
    "but along the curve $x=t,\\ y=t^2, \\ t\\in [0,1]$."
   ]
  },
  {
   "cell_type": "code",
   "execution_count": null,
   "metadata": {},
   "outputs": [],
   "source": [
    "u, v = var('u, v', domain='real')        # symbolic variables for surf. param.\n",
    "eparaboloid = ParametrizedSurface3D([u, v, u^2+v^2], [u, v],\n",
    "                'elliptic paraboloid')   #  elliptic paraboloid - parametric def.\n",
    "s = var('s')                             # parameter of curve\n",
    "vector_field = eparaboloid.parallel_translation_numerical([s,s^2],s,\n",
    "        [1.0,0.0],[0.0, 1.0, 9])         # compute parallel translations Y_i of Y_0\n",
    "                                         # for i=1,...,9\n",
    "times, components = zip(*vector_field)   #  list of t_i and Y_i, i=0,...,9\n",
    "\n",
    "vec=[vector(v) for v in components]      # vectors corresponding to lists  Y_i\n",
    "strt=[vector([t,t^2]) for t in times]    # vector of points on the curve\n",
    "p=plot(s^2,(s,0,1),thickness=2,color='red')       # plot curve\n",
    "pl=sum([plot(vec[k],start=strt[k],arrowsize=1.5,color='grey') \n",
    "        for k in range(10)])             # plot all vectors Y_i\n",
    "(p+pl).show(xmax=2,ymin =-0.2,figsize=[4,3])      # combine plots"
   ]
  },
  {
   "cell_type": "markdown",
   "metadata": {},
   "source": [
    "**Remark.** This time the symbols $\\Gamma_{ij}^k\\circ\\gamma$ are more complicated:"
   ]
  },
  {
   "cell_type": "code",
   "execution_count": null,
   "metadata": {},
   "outputs": [],
   "source": [
    "%display plain\n",
    "eparaboloid.connection_coefficients()"
   ]
  },
  {
   "cell_type": "markdown",
   "metadata": {},
   "source": [
    "<br>\n",
    "\n",
    "**Example 21.12**\n",
    "\n",
    "Show how the equations (21.9b) of the parallel vector field along a curve can be obtained in SageMath Manifolds for a concrete parametric surface in and concrete curve.\n",
    "\n",
    "<br>\n",
    "If the equations (21.9b) of the parallel transport system are written in the form\n",
    "\n",
    "$$ \\frac{dY^1}{dt}=F^1(Y^1,Y^2),\\ \\ \\frac{dY^1}{dt}=F^1(Y^1,Y^2),$$\n",
    "\n",
    "then the right hand sides  can be obtained as follows (we use the symmetry of connection coefficients for parametrized surfaces in $R^3$)."
   ]
  },
  {
   "cell_type": "code",
   "execution_count": null,
   "metadata": {},
   "outputs": [],
   "source": [
    "u, v = var('u, v', domain='real')     # parameters of surface\n",
    "epar = ParametrizedSurface3D([u, v, u^2+v^2], [u, v],\n",
    "            'elliptic paraboloid')    # definition of surface\n",
    "\n",
    "t=var('t')                            # parameter of curve\n",
    "curve=[t,t^2]                         # definition of curve\n",
    "surf=epar                             # renaming of surface\n",
    "u1 = surf.variables[1]                # extract the parameters\n",
    "u2 = surf.variables[2]                # from the surf object\n",
    "\n",
    "du1 = diff(curve[0], t)               # derivatives of \n",
    "du2 = diff(curve[1], t)               # curve components\n",
    "\n",
    "C = surf.connection_coefficients()    # connection coefficients\n",
    "\n",
    "for coef in C:                        # compositions of connection coeff\n",
    "    C[coef] = C[coef].subs({u1: curve[0], u2: curve[1]})\n",
    "                                      # with curve components\n",
    "\n",
    "Y1,Y2=var('Y1 Y2')                    # symbolic variables for Y components\n",
    "                                      # RHS for the first equation:\n",
    "F1 = - C[(1,1,1)]*Y1*du1 - C[(1,2,1)]*(du1*Y2 + du2*Y1) - \\\n",
    "                    C[(2,2,1)]*du2*Y2\n",
    "                                      # RHS for the second equation\n",
    "F2 = - C[(1,1,2)]*Y1*du1 - C[(1,2,2)]*(du1*Y2 + du2*Y1) - \\\n",
    "                    C[(2,2,2)]*du2*Y2"
   ]
  },
  {
   "cell_type": "markdown",
   "metadata": {},
   "source": [
    "Thus the right hand sides  of equations for parallel transport on the surface $\\ \\ z=u^2+v^2\\ \\ $ along the curve $\\ u=t,\\ v=t^2,\\ $ are:"
   ]
  },
  {
   "cell_type": "code",
   "execution_count": null,
   "metadata": {},
   "outputs": [],
   "source": [
    "%display latex\n",
    "F1"
   ]
  },
  {
   "cell_type": "code",
   "execution_count": null,
   "metadata": {},
   "outputs": [],
   "source": [
    "F2"
   ]
  },
  {
   "cell_type": "markdown",
   "metadata": {},
   "source": [
    "<br>\n",
    "\n",
    "**Example 21.13**\n",
    "\n",
    "Make a three-dimensional illustration for parallel transport on the surface $\\ \\ z=u^2+v^2\\ \\ $ along the curves $\\ u=t,\\ v=t,\\ $  and $\\ u=t,\\ v=t^2.\\ $\n",
    "\n",
    "<br>\n",
    "\n",
    "Since the connection from the last example corresponds to the parametrized  surface $z=u^2+v^2$ we are able to make a 3d illustration of the parallel transport.\n",
    "\n",
    "First the case of the curve $x=t, y=t$:"
   ]
  },
  {
   "cell_type": "code",
   "execution_count": null,
   "metadata": {},
   "outputs": [],
   "source": [
    "u, v = var('u, v', domain='real')         # parameters of surface\n",
    "epar = ParametrizedSurface3D([u, v, u^2+v^2], [u, v],\n",
    "        'elliptic paraboloid')            # definition of surface\n",
    "s = var('s')                              # parameter of curve\n",
    "                                          # numerical parallel transport:\n",
    "vector_field = epar.parallel_translation_numerical([s,s],s,\n",
    "    [1.0, 0.0], [0.0, 1.0, 9])            # compute parallel transport Y_i \n",
    "                                          # of Y_0 for i=1,..,9\n",
    "times, comp = zip(*vector_field)          # list of s_i and Y_i, i=0,...,9\n",
    "\n",
    "                                          # plot obtained vectors:\n",
    "pl=sum([plot(vector(epar.tangent_vector((times[k],times[k]),\n",
    "                    (comp[k][0], comp[k][1]))), \n",
    " start=vector((times[k],times[k],times[k]^2+times[k]^2)),color='black',thickness=2) \n",
    "        for k in range(8)])\n",
    "                                          # plot the curve:\n",
    "p=parametric_plot3d((s,s,s^2+s^2),(s,0,0.88),thickness=4,color='red')\n",
    "var('r phi')                              # polar surface parameters\n",
    "                                          # plot surface:\n",
    "p1=parametric_plot3d((r*cos(phi),r*sin(phi),r^2),(r,0,1.45),(phi,0,2*pi),\n",
    "        opacity=0.8, color='lightgrey')\n",
    "                                          # combine plots:\n",
    "(pl+p+p1).rotateZ(-1.85*pi).rotateY(0.5).rotateX(-0.65).show(frame=False)\n",
    "# enlarge  to obtain a better view"
   ]
  },
  {
   "cell_type": "markdown",
   "metadata": {},
   "source": [
    "and next the case of the curve $x=t, \\ y=t^2:$"
   ]
  },
  {
   "cell_type": "code",
   "execution_count": null,
   "metadata": {},
   "outputs": [],
   "source": [
    "u, v = var('u, v', domain='real')        # parameters of surface\n",
    "epar = ParametrizedSurface3D([u, v, u^2+v^2], [u, v],\n",
    "    'elliptic paraboloid')               # definition of surface\n",
    "s = var('s')                             # parameter of curve\n",
    "                                         # numerical parallel transport:\n",
    "vector_field = epar.parallel_translation_numerical([s,s^2],s,\n",
    "             [1.0, 0.0], [0.0, 1.0, 9])  # compute parallel translations Y_i \n",
    "                                         # of Y_0 for i=1,..,9\n",
    "times, comp = zip(*vector_field)         # list of s_i and Y_i, i=0,...,9\n",
    "\n",
    "                                         # plot obtained vectors:\n",
    "pl=sum([plot(vector(epar.tangent_vector((times[k],times[k]),\n",
    "                    (comp[k][0], comp[k][1]))), \n",
    " start=vector((times[k],times[k]^2,times[k]^2+times[k]^4)),color='black',thickness=2)\n",
    "        for k in range(8)])\n",
    "                                         # plot the curve:\n",
    "p=parametric_plot3d((s,s^2,s^2+s^4),(s,0,0.88),thickness=4,color='red')\n",
    "var('r phi')                             # polar surface parameters\n",
    "                                         # plot surface:\n",
    "p1=parametric_plot3d((r*cos(phi),r*sin(phi),r^2),(r,0,1.45),(phi,0,2*pi),\n",
    "        opacity=0.8,color='lightgrey')\n",
    "                                         # combine plots\n",
    "(pl+p+p1).rotateZ(-1.95*pi).rotateY(0.5).rotateX(-0.65).show(frame=False)\n",
    "# enlarge  to obtain a better view"
   ]
  },
  {
   "cell_type": "markdown",
   "metadata": {},
   "source": [
    "<br>\n",
    "\n",
    "### Geodesics\n",
    "\n",
    "<br>\n",
    "\n",
    "Recall that in (7.6) we have defined the tangent vector to a curve $\\gamma$ as\n",
    "\n",
    "$$\n",
    "\\gamma'_{t_0}(f) =\\frac{d}{dt}(\\gamma^*f)\\Big|_{t_0}=\n",
    "\\frac{d}{dt}(f\\circ\\gamma)\\Big|_{t_0},\\quad f \\in C^\\infty(M).\n",
    "$$\n",
    "\n",
    "In a manifold $M$ with a connection $\\nabla,\\ $ geodesics can be defined as follows.\n",
    "\n",
    "The smooth curve $\\gamma: I\\to M$ is **geodesic** if\n",
    "\\begin{equation}\n",
    "\\nabla_{\\gamma'}\\gamma'=0.\n",
    "\\tag{21.10}\n",
    "\\end{equation}\n",
    "\n",
    " To obtain the equation in local coordinates we have to replace in (21.9) the components of the vector field  $\\ Y^k\\circ\\gamma\\ \\ $ by $\\ \\frac{d (x^k\\circ\\gamma)}{dt}$ :\n",
    " \n",
    " \\begin{equation}\n",
    "\\frac{d^2(x^k\\circ\\gamma)}{dt^2}+(\\Gamma^k_{ji}\\circ\\gamma)\\frac{d(x^i\\circ\\gamma)}{dt}\\frac{d(x^j\\circ\\gamma)}{dt}=0.\n",
    "\\tag{21.11}\n",
    "\\end{equation}\n",
    "\n",
    "Usually we shall use the shorthand\n",
    "\n",
    " \\begin{equation}\n",
    "\\frac{d^2x^k}{dt^2}+\\Gamma^k_{ji}\\frac{dx^i}{dt}\\frac{dx^j}{dt}=0.\n",
    "\\tag{21.12}\n",
    "\\end{equation}\n",
    "\n",
    "In the case $n=2$, the system takes the form\n",
    "\n",
    "$$\n",
    "\\frac{d^2x^1}{dt^2}+\\Gamma^1_{11}\\frac{dx^1}{dt}\\frac{dx^1}{dt}\n",
    "+\\Gamma^1_{12}\\frac{dx^1}{dt}\\frac{dx^2}{dt}\n",
    "+\\Gamma^1_{21}\\frac{dx^2}{dt}\\frac{dx^1}{dt}\n",
    "+\\Gamma^1_{22}\\frac{dx^2}{dt}\\frac{dx^2}{dt}\n",
    "=0,\\\\\n",
    "\\frac{d^2x^2}{dt^2}+\\Gamma^2_{11}\\frac{dx^1}{dt}\\frac{dx^1}{dt}\n",
    "+\\Gamma^2_{12}\\frac{dx^1}{dt}\\frac{dx^2}{dt}\n",
    "+\\Gamma^2_{21}\\frac{dx^2}{dt}\\frac{dx^1}{dt}\n",
    "+\\Gamma^2_{22}\\frac{dx^2}{dt}\\frac{dx^2}{dt}\n",
    "=0.\n",
    "$$\n"
   ]
  },
  {
   "cell_type": "markdown",
   "metadata": {},
   "source": [
    "For the standard connection of $R^n$, defined by $\\Gamma_{ij}^k =$ 0 in the basis induced by the natural coordinates of $R^n$, the geodesic equations (21.11) are of  the form\n",
    "$\\frac{d^2 x^k }{dt^2} = 0$, which means that the geodesics are straight lines."
   ]
  },
  {
   "cell_type": "markdown",
   "metadata": {},
   "source": [
    "<br>\n",
    "\n",
    "**Example 21.14**\n",
    "\n",
    "Consider again the plane $R^2$ with Christoffel symbols\n",
    "$$Γ^1_{11}= Γ^1_{22}=\\frac{4u}{1+u^2+4v^2},\\\\\n",
    "Γ^2_{11}= Γ^2_{22}=\\frac{4v}{1+u^2+4v^2},\n",
    "$$\n",
    "and the remaining symbols equal to 0.\n",
    "\n",
    "The system (21.12) has the form\n",
    "$$\n",
    "\\frac{d^2x^1}{dt^2}+\\frac{4x^1}{1+4(x^1)^2+4(x^2)^2}\n",
    "\\Big(\\big(\\frac{dx^1}{dt}\\big)^2+\n",
    "\\big(\\frac{dx^2}{dt}\\big)^2\\Big)=0,\\\\\n",
    "\\frac{d^2x^2}{dt^2}+\\frac{4x^2}{1+4(x^1)^2+4(x^2)^2}\n",
    "\\Big(\\big(\\frac{dx^1}{dt}\\big)^2+\n",
    "\\big(\\frac{dx^2}{dt}\\big)^2\\Big)=0.\n",
    "$$\n",
    "\n",
    "The exact solutions for such systems are  not easy to obtain, but fortunately we can use SageMath \n",
    "\n",
    "`geodesics_numerical(p0, v0, tinterval)` method, \n",
    "\n",
    "where `p0` is the list of coordinates of the initial point, `v0` is the list of components of the initial tangent vector and `tinterval` is of the form $[t_0,t_{end},numb]$, with $numb$ denoting the number of subintervals in the interval $[t_0,t_{end}]$.\n",
    "\n",
    "The output is a list of expressions of the form:\n",
    "\n",
    "`[t, [u1(t), u2(t)], [v1(t), v2(t)], [x1(t), x2(t), x3(t)]]`,\n",
    "\n",
    "where t denote the ends of subintervals of $[t_0,t_{end}],$\n",
    "\n",
    "`[u1(t), u2(t)]` are the intrinsic coordinates of the geodesic points,\n",
    "\n",
    "`[v1(t), v2(t)]` are the intrinsic coordinates of the tangent\n",
    "        vectors to the geodesic,\n",
    "\n",
    "`[x1(t), x2(t), x3(t)]` are the coordinates of the geodesic\n",
    "        points in the three-dimensional space.\n",
    "        \n",
    "Use"
   ]
  },
  {
   "cell_type": "code",
   "execution_count": null,
   "metadata": {},
   "outputs": [],
   "source": [
    "# epar.geodesics_numerical?"
   ]
  },
  {
   "cell_type": "markdown",
   "metadata": {},
   "source": [
    "to obtain more information.\n",
    "\n",
    "In the following code we compute numerically the geodesic   with initial tangent vector at $(u1,u2)=(-1,0)$, with components $(v1,v2)=(0,-1).\\ $ In the computations, the time interval  $[0,120]$ is divided into 200 subintervals:"
   ]
  },
  {
   "cell_type": "code",
   "execution_count": null,
   "metadata": {},
   "outputs": [],
   "source": [
    "u, v = var('u, v', domain='real')  # parameters of surface\n",
    "epar = ParametrizedSurface3D([u, v, u^2+v^2], [u, v],\n",
    "        'elliptic paraboloid')     # definition of surface\n",
    "s = var('s')                       # parameter of curve\n",
    "                                   # numerically solve the \n",
    "                                   # equations of geodesics:\n",
    "geodesic = epar.geodesics_numerical([-1,0.],[0.0,-1],\n",
    "                [0.0, 120, 200])\n",
    "# 'geodesic' contains times t_i, points p_i, tang.vects v_i\n",
    "#  and coordinates (x_i,y_i,z_i) of points on geodesic\n",
    "times,points,tang,ext = zip(*geodesic)\n",
    "p0=line3d(ext,thickness=4,color='red')  # plot the geodesic\n",
    "r,phi=var('r phi')                 # polar parameters of surface\n",
    "p1=parametric_plot3d((r*cos(phi),r*sin(phi),r^2),(r,0,11),\n",
    "    (phi,0,2*pi),opacity=0.5,color='lightgrey')   # plot surface\n",
    "(p0+p1).rotateZ(0.4*pi).show(frame=False,aspect_ratio=[1,1,0.2])\n",
    "                        # enlarge and rotate for better view"
   ]
  },
  {
   "cell_type": "markdown",
   "metadata": {},
   "source": [
    "**Example 21.15**\n",
    "\n",
    "Show three examples of geodesics on the sphere in $R^3$.\n",
    "\n",
    "<br>\n",
    "\n",
    "Define the sphere as the parametric surface\n",
    "\n",
    "$$(x,y,z)=(\\cos(u)\\cos(v), \\cos(v)\\sin(u), \\sin(v)),\\\\\n",
    "u\\in (0, 2\\pi),\\ \\ v\\in (-\\pi/2, \\pi/2).\n",
    "$$"
   ]
  },
  {
   "cell_type": "code",
   "execution_count": null,
   "metadata": {},
   "outputs": [],
   "source": [
    "S = surfaces.Sphere()                 # use surfaces.Sphere module\n",
    "S.equation                            # show equations of unit sphere"
   ]
  },
  {
   "cell_type": "code",
   "execution_count": null,
   "metadata": {},
   "outputs": [],
   "source": [
    "S.variables_range                     # show ranges of variables"
   ]
  },
  {
   "cell_type": "markdown",
   "metadata": {},
   "source": [
    "and  compute numerically sets of 101 points on three geodesics, each starting at point $(u,v)=(0,0)$ and having initial tangent vectors with components\n",
    "$\\ (1,0),\\ (\\cos(\\pi/3),\\sin(\\pi/3),\\ (\\cos(-\\pi/3),\\sin(-\\pi/3),\\ $ respectively:"
   ]
  },
  {
   "cell_type": "code",
   "execution_count": null,
   "metadata": {},
   "outputs": [],
   "source": [
    "# 101 points of the geodesic with initial tangent vector \n",
    "# at point (u,v)=(0,0) with components (1,0) \n",
    "g1 = [c[-1] for c in S.geodesics_numerical(\n",
    " (0,0),(1,0),(0,2*pi,100))]\n",
    "\n",
    "# 101 points of the geodesic with initial tangent vector \n",
    "# at point (u,v)=(0,0) with components (cos(pi/3),sin(pi/3)) \n",
    "g2 = [c[-1] for c in S.geodesics_numerical(\n",
    " (0,0),(cos(pi/3),sin(pi/3)),(0,2*pi,100))]\n",
    "\n",
    "# 101 points of the geodesic with initial tangent vector \n",
    "# at point (u,v)=(0,0) with components (cos(2pi/3),sin(2pi/3))\n",
    "g3 = [c[-1] for c in S.geodesics_numerical(\n",
    " (0,0),(cos(-pi/3),sin(-pi/3)),(0,2*pi,100))]\n",
    "\n",
    "p0=S.plot(opacity=0.5,color='lightgrey') # plot sphere\n",
    "p1=line3d(g1,thickness=4,color='red')    # first geodesic\n",
    "p2=line3d(g2,thickness=4,color='red')    # second geodesic\n",
    "p3=line3d(g3,thickness=4,color='red')    # third geodesic\n",
    "\n",
    "(p0+p1+p2+p3).rotateZ(-pi/4).show(frame=False) # combine plots\n"
   ]
  },
  {
   "cell_type": "markdown",
   "metadata": {},
   "source": [
    "As we can see, one can suspect, that the geodesics are the great circles (but the graphics is not the proof!).\n",
    "<br><br>\n",
    "In the [next notebook](https://nbviewer.org/github/sagemanifolds/IntroToManifolds/blob/main/22Manifold_Riemann.ipynb) we will show how to  compute numerically geodesics on Riemannian manifolds."
   ]
  },
  {
   "cell_type": "markdown",
   "metadata": {},
   "source": [
    "<br>\n",
    "\n",
    "### Torsion\n",
    "\n",
    "<br>\n",
    "\n",
    "The **torsion**, $T$  of the connection $\\nabla$ is the map from $\\mathfrak{X}(M) × \\mathfrak{X}(M)$ into $\\mathfrak{X}(M)$ given by\n",
    "\n",
    "\\begin{equation}\n",
    "T (X, Y) = ∇_X Y − ∇_Y X − [X, Y],\\quad \\text{for}\\quad X,Y\\in \\mathfrak{X}(M).\n",
    "\\tag{21.13}\n",
    "\\end{equation}\n",
    "\n",
    "From (21.13) we see that $T$ is antisymmetric, $T (X, Y) = −T (Y, X)$.\n",
    "\n",
    "From the properties of the connection and the Lie bracket ([notebook 12](https://nbviewer.org/github/sagemanifolds/IntroToManifolds/blob/main/12Manifold_VectorFields_cont.ipynb)) it follows that for $f\\in C^\\infty(M)$\n",
    "\n",
    "$$T ( f X, Y) = ∇_{f X} Y − ∇_Y ( f X) − [ f X, Y]\\\\\n",
    "= f ∇_X Y − f ∇_Y X − (Y f )X − f [X, Y] + (Y f )X=f T (X, Y).\n",
    "$$\n",
    "\n",
    "Note that $T$ takes values in $\\mathfrak{X}(M),\\ $ so it  does not satisfy the definition of a tensor field but it is equivalent to tensor field $\\ \\tilde{T}\\in T^{(1,2)}M$ defined by \n",
    "\n",
    "$$\\tilde{T} (\\alpha,X, Y) = α(T (X, Y)),\\quad X,Y\\in \n",
    "\\mathfrak{X}(M), \\ \\alpha\\in T^*(M).$$\n",
    "\n",
    "**Remark.**  In SageMath Manifolds by the `torsion` we mean the tensor field $\\tilde{T}$.\n",
    "\n"
   ]
  },
  {
   "cell_type": "markdown",
   "metadata": {},
   "source": [
    "<br>\n",
    "\n",
    "### Symmetric or torsion free connections\n",
    "\n",
    "<br>\n",
    "\n",
    "A connection $∇$ is **symmetric, or torsion-free** if its torsion tensor is zero.\n",
    "\n",
    "if $X = X^i \\frac{∂}{∂ x^i}$ and $Y = Y^j \\frac{∂}{∂ x^j}$ are  smooth vector fields, then \n",
    "$$\\textstyle T (X, Y) = X^i Y^j T (\\frac{∂}{∂ x^i} , \\frac{∂}{∂ x^j} ).$$ Using (2.13)\n",
    "we obtain \n",
    "\n",
    "$$T \\textstyle (\\frac{∂}{∂ x^i} , \\frac{∂}{∂ x^j} )\n",
    "=\\nabla_{\\frac{∂}{∂ x^i}}\\frac{∂}{∂ x^j}-\n",
    "\\nabla_{\\frac{∂}{∂ x^j}}\\frac{∂}{∂ x^i}-\n",
    "[\\frac{∂}{∂ x^i},\\frac{∂}{∂ x^j}]\\\\ \\textstyle\n",
    "=\\Gamma^k_{ji}\\frac{∂}{∂ x^k}-\n",
    "\\Gamma^k_{ij}\\frac{∂}{∂ x^k}-0=(\\Gamma^k_{ji}-\\Gamma^k_{ij})\\frac{∂}{∂ x^k}.\n",
    "$$\n",
    "\n",
    "If the components of $T$ are defined by \n",
    "$$\\textstyle T(\\frac{∂}{∂ x^i},\\frac{∂}{∂ x^j})=T^k_{ij}\\frac{∂}{∂ x^k},$$\n",
    "we have\n",
    "$$\\textstyle T^k_{ij}=\\Gamma^k_{ji}-\\Gamma^k_{ij},$$\n",
    "consequently\n",
    "$$\\textstyle T (X, Y) = X^i Y^j T^k_{ ij}\\frac{∂}{∂ x^k}.$$ \n",
    "$∇$ is symmetric if and only if $\\Gamma^k_{i j} = \\Gamma^k_{ji}.$\n",
    "\n",
    "**Remark.** In all previous examples of connections, the torsion tensor is zero. "
   ]
  },
  {
   "cell_type": "markdown",
   "metadata": {},
   "source": [
    "<br>\n",
    "\n",
    "**Example 21.16**\n",
    "\n",
    "Consider again the two-dimensional half-plane $y>0$ with connection coefficients defined by\n",
    "$\\ \\ \\Gamma^1_{12}=\\Gamma^1_{21}=\\Gamma^2_{22}=-\\frac{1}{y}\\ \\ $\n",
    "and $\\ \\ \\Gamma^2_{11}=\\frac{1}{y}.$"
   ]
  },
  {
   "cell_type": "code",
   "execution_count": null,
   "metadata": {},
   "outputs": [],
   "source": [
    "%display latex\n",
    "M = Manifold(2, 'M', start_index=1)        # manifold M, y>0\n",
    "c_xy.<x,y> = M.chart()                     # chart on M\n",
    "                                           # affine connection on M:\n",
    "nab = M.affine_connection('nabla', r'\\nabla') \n",
    "                                           # Christoffel symbols  \n",
    "nab[1,1,2], nab[1,2,1],nab[2,2,2],nab[2,1,1] = -1/y, -1/y,-1/y,1/y\n",
    "nab.torsion().disp()                       # show torsion"
   ]
  },
  {
   "cell_type": "markdown",
   "metadata": {},
   "source": [
    "<br>\n",
    "\n",
    "**Example 21.17**\n",
    "\n",
    "Compute the torsion in coordinates $(x,y)$ for two-dimensional manifold with nonzero Christoffel symbols\n",
    "\n",
    "$$Γ^1_{12}=x,\\ \\  Γ^1_{21}=y,\\ \\  Γ^2_{11}=y,\\ \\  Γ^2_{22}=x.$$"
   ]
  },
  {
   "cell_type": "code",
   "execution_count": null,
   "metadata": {},
   "outputs": [],
   "source": [
    "%display latex\n",
    "M = Manifold(2, 'M', start_index=1)        # manifold M, y>0\n",
    "c_xy.<x,y> =M.chart()                      # chart on M\n",
    "                                           # affine connection on M   \n",
    "nab = M.affine_connection('nabla', r'\\nabla') ; print(nab)\n",
    "nab[1,1,2], nab[1,2,1],nab[2,2,2],nab[2,1,1] = x,y,y,x\n",
    "%display latex\n",
    "nab.display(coordinate_labels=False)     # show nonzero Christoffel symbols"
   ]
  },
  {
   "cell_type": "code",
   "execution_count": null,
   "metadata": {},
   "outputs": [],
   "source": [
    "nab.torsion().disp()                    # show torsion tensor of type (1,2)"
   ]
  },
  {
   "cell_type": "markdown",
   "metadata": {},
   "source": [
    "<br>\n",
    "\n",
    "### Covariant derivative of covariant tensor fields\n",
    "\n",
    "<br>\n",
    "\n",
    "The covariant derivative of a tensor field $t\\in T^{(0,k)}M$  with respect to a vector field $X$, denoted by $∇_X t$, is defined by\n",
    "\n",
    "\\begin{equation}\n",
    "\\begin{matrix}\n",
    "(∇_X t)(Y_1 , . . . , Y_k )=X (t (Y_1 , . . . , Y_k ))\\\\\n",
    "-\\sum_{i=1}^k t (Y_1 , . . . , Y_{i−1} , ∇_X Y_i , Y_{i+1} , . . . , Y_k ),\n",
    "\\end{matrix}\n",
    "\\tag{21.14}\n",
    "\\end{equation}\n",
    "\n",
    "for $X,Y_1,\\ldots,Y_k\\in \\mathfrak{X}(M).$\n",
    "\n",
    "To check that $\\nabla_Xt\\in T^{(0,k)}M$ let us note that for \n",
    "$f ∈ C^∞ (M)$\n",
    "\n",
    "$$\n",
    "(∇_X t)(Y_1 ,\\ldots,fY_i,\\ldots , Y_k )\n",
    "=X (t (Y_1 , . . . , f Y_i , . . . , Y_k ))\\\\\n",
    "-\\sum_{j=1,\\,j\\not=i}^k t (Y_1 , . . . , fY_{i},\\ldots , ∇_X Y_j , . . . , Y_k )\n",
    "− t (Y_1 , . . . , ∇_X ( f Y_i ), . . . , Y_k)\\\\\n",
    "=X (ft (Y_1 , . . . , Y_i , . . . , Y_k ))\n",
    "-\\sum_{j=1,\\,j\\not=i}^k ft (Y_1 , . . . , Y_{i},\\ldots , ∇_X Y_j , . . . , Y_k )\\\\\n",
    "-t (Y_1 , . . . , f∇_X Y_i +(Xf)Y_i, . . . , Y_k)\\\\\n",
    "=X (ft (Y_1 , . . . , Y_i , . . . , Y_k ))\n",
    "-\\sum_{j=1}^k ft (Y_1 , . . . , Y_{i},\\ldots , ∇_X Y_j , . . . , Y_k )-(Xf)t(Y_1 ,\\ldots,Y_i,\\ldots , Y_k )\\\\\n",
    "=f\\cdot (∇_X t)(Y_1 ,\\ldots,Y_i,\\ldots , Y_k ),\n",
    "$$\n",
    "\n",
    "(we have used the equality $X(fg)-(Xf)g=f(Xg),\\ $ for  $\\ g=t(X_1,\\ldots,X_k) )$.\n",
    "\n",
    "<br>\n",
    "\n",
    "### Covariant derivative of functions\n",
    "\n",
    "<br>\n",
    "\n",
    "The definition of covariant derivative can be extended to functions $t\\in C^\\infty(M)$ by the formula \n",
    "\n",
    "\\begin{equation}\n",
    "\\nabla_Xt=Xt.\n",
    "\\tag{21.15}\n",
    "\\end{equation}\n",
    "\n",
    "<br>\n",
    "\n",
    "### Properties of covariant derivatives for covariant tensor fields\n",
    "\n",
    "<br>\n",
    "\n",
    "Let us check that a version of (21.2) holds for covariant tensor fields $t$: \n"
   ]
  },
  {
   "cell_type": "markdown",
   "metadata": {},
   "source": [
    "$$\n",
    "(∇_X(f t))(Y_1 ,\\ldots, Y_k )\n",
    "=X ((ft) (Y_1 , . . . , Y_k ))\\\\\n",
    "-\\sum_{i=1}^k (ft) (Y_1 , . . . , Y_{i-1},∇_X Y_i,Y_{i+1} , . . . , Y_k )\\\\\n",
    "=X (ft (Y_1 , . . . , Y_k ))\n",
    "-\\sum_{i=1}^k ft (Y_1 , . . . , Y_{i-1},∇_X Y_i,Y_{i+1} , . . . , Y_k )\\\\\n",
    "=fX (t (Y_1 , . . . , Y_k ))+ (X f ) t (Y_1 , . . . , Y_k )\\\\\n",
    "-f\\sum_{i=1}^k t (Y_1 , . . . , Y_{i-1},∇_X Y_i,Y_{i+1} , . . . , Y_k )\\\\\n",
    "=f(∇_X t)(Y_1 ,\\ldots,Y_i,\\ldots , Y_k )+(X f ) t (Y_1 , . . . , Y_k ),\n",
    "$$\n",
    "i.e.,\n",
    "$$\n",
    "∇_X ( f t) = f ∇_X t + (X f ) t.$$"
   ]
  },
  {
   "cell_type": "markdown",
   "metadata": {},
   "source": [
    "Now let us check a counterpart of (21.1)\n",
    "\n",
    "$$\n",
    "∇_X (a t + b s) (Y_1 , . . . , Y_k ) = X (a t + b s)(Y_1 , . . . , Y_k )\\\\\n",
    "-\\sum_{i=1}^k (a t + b s)(Y_1 , . . . , Y_{i-1},∇_X Y_i,Y_{i+1} , . . . , Y_k )\\\\\n",
    "= X (a t (Y_1 , . . . , Y_k ) + b s(Y_1 , . . . , Y_k ))\\\\\n",
    "-\\sum_{i=1}^k [a t(Y_1 , . . . , Y_{i-1},∇_X Y_i,Y_{i+1} , . . . , Y_k )\n",
    "+b s(Y_1 , . . . , Y_{i-1},∇_X Y_i,Y_{i+1} , . . . , Y_k )]\\\\\n",
    "= (a∇_X t + b∇_X s )(Y_1 , . . . , Y_k ),\n",
    "$$\n",
    "i.e.,\n",
    "$$∇_X (a t + b s) = a∇_X t + b∇_X s.$$\n"
   ]
  },
  {
   "cell_type": "markdown",
   "metadata": {},
   "source": [
    "<br>\n",
    "\n",
    "### Covariant derivative of tensor product\n",
    "\n",
    "<br>\n",
    "\n",
    "If $t\\in T^{(0,k)}M$ and $s\\in T^{(0,m)}M$, then\n",
    "\n",
    "$$(∇_X (t ⊗ s))\n",
    "(Y_1 , . . . , Y_{k+m} )\n",
    "=X (t ⊗ s)(Y_1 , . . . , Y_{k+m} )\\\\\n",
    "-\\sum_{i=1}^{k+m}(t ⊗ s)\n",
    "(Y_1 , . . . , Y_{i−1} , ∇_X Y_i , Y_{i+1} , . . . , Y_{k+m})\\\\\n",
    "= X (t (Y_1 , . . . , Y_k ) s(Y{k+1} , . . . , Y_{k+m} ))\\\\\n",
    "-\\sum_{i=1}^{k}\n",
    "t (Y_1 , . . . , Y_{i−1} , ∇_X Y_i , Y_{i+1} , . . . , Y_k ) \n",
    "\\,s(Y_{k+1} , . . . , Y_{k+m} )\\\\\n",
    "−t (Y_1 , . . . , Y_k )\n",
    "\\sum_{i=k+1}^{k+m}\n",
    "s (Y_{k+1} , . . . , Y_{i−1} , ∇_X Y_i , Y_{i+1} , . . . , Y_{k+m} )\\\\ \n",
    "= (t ⊗ (∇_X s) + (∇_X t) ⊗ s )(Y_1 , . . . , Y_{k+m} ),\n",
    "$$\n",
    "i.e.,\n",
    "\\begin{equation}\n",
    "∇_X (t ⊗ s) = t ⊗ (∇_X s) + (∇_X t) ⊗ s.\n",
    "\\tag{21.16}\n",
    "\\end{equation}"
   ]
  },
  {
   "cell_type": "markdown",
   "metadata": {},
   "source": [
    "<br>\n",
    "\n",
    "### Components of tensor field $ ∇_X t$ in local coordinates\n",
    "\n",
    "<br>\n",
    "\n",
    "We have \n",
    "\n",
    "$$(∇_X t)_{ i... j}=\n",
    "(∇_X t)\\big(\\frac{\\partial}{\\partial x^i},\\ldots,\\frac{\\partial}{\\partial x^j}\\big)\\\\\n",
    "=X\\big(t\\big(\\frac{\\partial}{\\partial x^i},\\ldots,\\frac{\\partial}{\\partial x^j}\\big)\\big)\n",
    "-t\\big(\\nabla_X\\frac{\\partial}{\\partial x^i},\\ldots,\\frac{\\partial}{\\partial x^j}\\big)-\\ldots\n",
    "-t\\big(\\frac{\\partial}{\\partial x^i},\\ldots,\\nabla_X\\frac{\\partial}{\\partial x^j}\\big)\\\\\n",
    "=Xt_{i... j}\n",
    "-t\\big(X^m\\Gamma^k_{im}\\frac{\\partial}{\\partial x^k},\\ldots,\\frac{\\partial}{\\partial x^j}\\big)-\\ldots\n",
    "-t\\big(\\frac{\\partial}{\\partial x^i},\\ldots,X^m\\Gamma^k_{jm}\\frac{\\partial}{\\partial x^k}\\big)\\\\\n",
    "=X^m\\frac{\\partial}{\\partial x^m}t_{i... j}\n",
    "-X^m\\Gamma^k_{im}t_{k... j}-\\ldots -X^m\\Gamma^k_{jm}t_{i... k}\\\\\n",
    "=X^m\\big(\\frac{\\partial t_{i... j}}{\\partial x^m}\n",
    "-\\Gamma^k_{im}t_{k... j}-\\ldots -\\Gamma^k_{jm}t_{i... k}\\big).\n",
    "$$\n",
    "Consequently\n",
    "\\begin{equation}\n",
    "\\nabla_Xt=X^m\\big(\\frac{\\partial t_{i... j}}{\\partial x^m}\n",
    "-\\Gamma^k_{im}t_{k... j}-\\ldots -\\Gamma^k_{jm}t_{i... k}\\big)\n",
    "dx^i\\otimes\\ldots\\otimes dx^j.\n",
    "\\tag{21.17}\n",
    "\\end{equation}"
   ]
  },
  {
   "cell_type": "markdown",
   "metadata": {},
   "source": [
    "<br>\n",
    "\n",
    "**Example 21.18**\n",
    "\n",
    "Use (21.17) to explicitly express $\\ \\nabla_Xt\\ $ in a general two-dimensional manifold\n",
    "with connection $\\ \\nabla,\\ $  vector field $X$  and tensor field \n",
    "$\\ \\  𝑡=𝑡_{00}d𝑥^0\\otimes d𝑥^0+𝑡_{01}d𝑥^0\\otimes d𝑥^1+𝑡_{10}d𝑥^1\\otimes d𝑥^0+𝑡_{11}d𝑥^1\\otimes d𝑥^1$.\n",
    "\n",
    "<br>\n",
    "\n",
    "First define the tensor field:\n"
   ]
  },
  {
   "cell_type": "code",
   "execution_count": null,
   "metadata": {},
   "outputs": [],
   "source": [
    "%display latex\n",
    "N = 2                             # dimension of manifold M\n",
    "M = Manifold(N, 'M')              # manifold M\n",
    "c_x = M.chart(' '.join(['x'+str(i)+':x^{'+str(i)+'}' for i in range(N)]))  # chart on M\n",
    "t = M.tensor_field(0,2, name='t') # tensor field of type (0,2)\n",
    "def fn(i,j): return 't'+str(i)+str(j)      # names of components\n",
    "def fl(i,j): return 't'+'_'+'{'+str(i)+str(j)+'}' # latex names\n",
    "ff = [[M.scalar_field(function(fn(i,j), latex_name=fl(i,j))(*c_x)) \n",
    "       for j in range(N)] for i in range(N)] # list of components\n",
    "t[:] = ff                         # define all components\n",
    "t.disp()                          # show t"
   ]
  },
  {
   "cell_type": "markdown",
   "metadata": {},
   "source": [
    "and next the vector field:"
   ]
  },
  {
   "cell_type": "code",
   "execution_count": null,
   "metadata": {},
   "outputs": [],
   "source": [
    "X = M.vector_field('X')             # vector field X and its components\n",
    "X0 = M.scalar_field(function('X0', latex_name=r'X^0')(*c_x), name='X0')\n",
    "X1 = M.scalar_field(function('X1', latex_name=r'X^1')(*c_x), name='X1')\n",
    "X[:] = X0, X1                       # define both components\n",
    "X.disp()                            # show X"
   ]
  },
  {
   "cell_type": "markdown",
   "metadata": {},
   "source": [
    "We want to use symbolic Christoffel symbols,"
   ]
  },
  {
   "cell_type": "code",
   "execution_count": null,
   "metadata": {},
   "outputs": [],
   "source": [
    "def var_con(n):                  # symbolic Christoffel symbols\n",
    "    return [[[var('Gamma'+str(i0)+str(i1)+str(i2),\n",
    "                  latex_name=r'\\Gamma'+'^'+str(i0)+'_'+'{'+str(i1)+str(i2)+'}') \n",
    "              for i2 in range(n)] for i1 in range(n)] for i0 in range(n)]"
   ]
  },
  {
   "cell_type": "markdown",
   "metadata": {},
   "source": [
    "and connection with these symbols."
   ]
  },
  {
   "cell_type": "code",
   "execution_count": null,
   "metadata": {},
   "outputs": [],
   "source": [
    "nab = M.affine_connection('nabla', r'\\nabla')  # connection on M with\n",
    "nab[:] = var_con(2)                            # symbolic coefficients\n",
    "nab.display(coordinate_labels=False)           # show Christoffel symb."
   ]
  },
  {
   "cell_type": "markdown",
   "metadata": {},
   "source": [
    "$\\nabla_X t\\ $ can be computed as `nab(t).contract(X)` (contraction was defined in [notebook 19](https://nbviewer.org/github/sagemanifolds/IntroToManifolds/blob/main/19Manifold_Lie_Derivative.ipynb)):"
   ]
  },
  {
   "cell_type": "code",
   "execution_count": null,
   "metadata": {},
   "outputs": [],
   "source": [
    "Manifold.options.omit_function_arguments=True\n",
    "nt = nab(t).contract(X)            # covariant derivative nabla_X t\n",
    "nt.apply_map(expand)               # simplify components\n",
    "nt.disp()                          # show covariant derivative"
   ]
  },
  {
   "cell_type": "markdown",
   "metadata": {},
   "source": [
    "\n",
    "\n",
    "\n",
    "$\\text{Note, that  if}\\ n=2\\  $ then in the formula  (2.17) takes the form\n",
    "\n",
    "$$\n",
    "\\nabla_Xt=X^m\\big(\\frac{\\partial t_{i j}}{\\partial x^m}\n",
    "-\\Gamma^k_{im}t_{k j} -\\Gamma^k_{jm}t_{i k}\\big)\n",
    "dx^i\\otimes dx^j,\n",
    "$$\n",
    "\n",
    "and for example if $\\ (i,j)=(0,0)\\ $ we have\n",
    "\n",
    "\n",
    "$$X^m\\Gamma^k_{0m}t_{k0}=X^0\\Gamma^0_{00}t_{00}+X^0\\Gamma^1_{00}t_{10}+X^1\\Gamma^0_{01}t_{00}+X^1\\Gamma^1_{01}t_{10},\n",
    "$$\n",
    "$$X^m\\Gamma^k_{0m}t_{0k}=X^0\\Gamma^0_{00}t_{00}+X^0\\Gamma^1_{00}t_{01}+X^1\\Gamma^0_{01}t_{00}+X^1\\Gamma^1_{01}t_{01},\n",
    "$$"
   ]
  },
  {
   "cell_type": "markdown",
   "metadata": {},
   "source": [
    "so the repeated terms on the right give coefficients 2 in the final result."
   ]
  },
  {
   "cell_type": "markdown",
   "metadata": {},
   "source": [
    "## What's next?\n",
    "\n",
    "Take a look at the notebook [Riemannian and pseudo-Riemannian manifolds](https://nbviewer.org/github/sagemanifolds/IntroToManifolds/blob/main/22Manifold_Riemann.ipynb)."
   ]
  }
 ],
 "metadata": {
  "kernelspec": {
   "display_name": "SageMath 9.6",
   "language": "sage",
   "name": "sagemath"
  },
  "language_info": {
   "codemirror_mode": {
    "name": "ipython",
    "version": 3
   },
   "file_extension": ".py",
   "mimetype": "text/x-python",
   "name": "python",
   "nbconvert_exporter": "python",
   "pygments_lexer": "ipython3",
   "version": "3.8.10"
  }
 },
 "nbformat": 4,
 "nbformat_minor": 4
}
